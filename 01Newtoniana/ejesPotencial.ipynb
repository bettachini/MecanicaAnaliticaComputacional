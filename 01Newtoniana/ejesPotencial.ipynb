{
 "cells": [
  {
   "cell_type": "markdown",
   "metadata": {
    "colab_type": "text",
    "id": "R5YD2P1XqGnm"
   },
   "source": [
    "# Orientación de ejes y energía potencial"
   ]
  },
  {
   "cell_type": "markdown",
   "metadata": {},
   "source": [
    "![UNLaM | DIIT](figuras/ambos.png)    \n",
    "© 2021 [Víctor A. Bettachini](mailto:vbettachini@unlam.edu.ar)  \n",
    "Mecánica General  \n",
    "Departamento de Ingeniería e Investigación Tecnológica  \n",
    "Universidad Nacional de La Matanza  \n",
    "\n",
    "---"
   ]
  },
  {
   "cell_type": "markdown",
   "metadata": {
    "colab_type": "text",
    "id": "T_7fb3StlmeH"
   },
   "source": [
    "## Fuerza gravitatoria\n",
    "En el mundo cotidiano solo existen para la física cuatro fuerzas:\n",
    "- gravitatoria\n",
    "- nuclear débil\n",
    "- electromagnética\n",
    "- nuclear fuerte\n",
    "\n",
    "que para enormes niveles de energía (e.g. aceleradores de partículas, fenómenos cosmológicos) se van unificando: primero la electro-débil, luego con más energía su suma la fuerte.\n",
    "Se espera que pueda unificarse la gravitatoria en nuevas teorias, haciendo que todas las fuerzas del universo sean en realidad una única.\n",
    "\n",
    "Pero en nuestra vida cotidiana las interacciones son de baja energía y **casi todas son electromagnéticas**.\n",
    "Cuando empujamos un objeto compuesto por moléculas y/o átomos en una red cristalina los electrones en las moléculas de nuestra mano se repelen con los del objeto.\n",
    "Tanta es la repulsión que evita que moléculas de la mano se liguen dentro del objeto y nos fundamos con él.\n",
    "Los adhesivos son la excepción pues se hacen con moléculas de fuerte polaridad eléctrica. \n",
    "\n",
    "Decimos que **casi todas** las interacciones cotidianas son electromagnéticas porque la **fuerza gravitatoria** es la gran excepción.\n",
    "Más allá de las pavadas que crean los astrólogos los planetas no ejercen un interacción considerable en nosotros pues la fuerza gravitatoria decrece con el cuadrado de la distancia.\n",
    "Hay un planeta que es la excepción, el nuestro.\n",
    "La fuerza gravitatoria que nos hace es tan fuerte que le damos nombre propio: el **peso**."
   ]
  },
  {
   "cell_type": "markdown",
   "metadata": {},
   "source": [
    "## ¿Qué es el peso?\n",
    "Es el nombre que se dá a la **fuerza gravitatoria** que sufren cuerpos con masa $m$ a una altura no muy alejada de la superficie terrestre.\n",
    "¿Porqué esto de la altura?\n",
    "Nadie se pregunta cuanto pesa la Luna o Marte.\n",
    "La Tierra les ejerce cierta atracción gravitatoria, pero la distancia hace que su efecto disminuya.\n",
    "Marte no es afectado por la Tierra, pero si la Luna.\n",
    "\n",
    "De no superar centenares de kilómetros de altura el campo gravitatorio de la Tierra imprime a toda \\\\(m\\\\) una aceleración $\\vec{g}$, a través de la fuerza peso\n",
    "$$\n",
    "    \\vec{P} = m \\vec{g}.\n",
    "$$\n",
    "\n",
    "Como bien sabemos el signo que tenga esta fuerza dependerá de como se haga la elección del sentido positivo para los ejes del sistema de coordenadas.\n",
    "Pero debe quedar claro que\n",
    "- Alejar esta $m$ en contra del sentido de $\\vec{g}$\n",
    "    - insume hacer un trabajo sobre este cuerpo, es decir es positivo,\n",
    "    - y gana energía potencial.\n",
    "- Por el contrario si dejamos que \"caiga\" espontáneamente\n",
    "    - este trabajo nos es devuelto, es decir un trabajo de signo negativo,\n",
    "    - y pierde energía potencial\n",
    "\n",
    "Y esto será así **sin importar como hayamos elegido el sentido de los ejes del sistema de coordenadas**. "
   ]
  },
  {
   "cell_type": "markdown",
   "metadata": {},
   "source": [
    "## Fuerzas conservativas y energía potencial\n",
    "La relación de una fuerza conservativa y la función del potencial que describe al campo que la genera es \n",
    "$$\n",
    "\\vec{F}= - \\vec{\\nabla} V.\n",
    "$$\n",
    "\n",
    "Trabajaremos en el **sistema de coordenadas cartesianas** por la que una posición será\n",
    "$$\n",
    "\\vec{r} = (x,y,z) = x \\hat{x} + y \\hat{y} + z \\hat{z}.\n",
    "$$\n",
    "\n",
    "Para calcular la fuerza debe usarse el operador divergencia $\\vec{\\nabla}$ para este sistema de coordenadas.\n",
    "Este operador vectorial se aplica sobre el potencial $V = V(x,y,z)$ que es una función escalar (es decir no vectorial)\n",
    "$$\n",
    "\\vec{F} = - \\vec{\\nabla}V = - \\left( \\frac{\\mathrm{d} }{\\mathrm{d} x}, \\frac{\\mathrm{d} }{\\mathrm{d} y}, \\frac{\\mathrm{d} }{\\mathrm{d} z} \\right) V = \\frac{\\mathrm{d} V}{\\mathrm{d} x} \\hat{x} + \\frac{\\mathrm{d} V }{\\mathrm{d} y} \\hat{y} + \\frac{\\mathrm{d} V}{\\mathrm{d} z} \\hat{z}.\n",
    "$$"
   ]
  },
  {
   "cell_type": "markdown",
   "metadata": {},
   "source": [
    "## Orientación de los ejes\n",
    "Orientaremos el sistema de ejes de forma que las direcciones horizontales $\\hat{x}$ y $\\hat{y}$ sean paralelas a _un piso_.\n",
    "\n",
    "Así para dirección vertical utilizaremos el versor $\\hat{z}$.\n",
    "Y como trataremos un movimiento estríctamente vertical, donde no hay apartartamientos en lo horizontal, $x=0$ e $y=0\\, \\forall t$, la posición será\n",
    "$$\n",
    "\\vec{r} = (0,0,z) = z \\hat{z}.\n",
    "$$\n",
    "Por esto solo nos interesa analizar la componente en este eje de la fuerza.\n",
    "Para obtener tal componente basta multiplicar por el versor $\\hat{z}$\n",
    "$$\n",
    "\\vec{F} \\hat{z} = \\left( - \\vec{\\nabla}V \\right) \\hat{z}= \\left( - \\frac{\\mathrm{d} V}{\\mathrm{d} z} \\hat{z} \\right) \\hat{z} = -  \\frac{\\mathrm{d} V}{\\mathrm{d} z} ,\n",
    "$$\n",
    "donde se usa que $\\hat{z} \\hat{z}= 1$, ya que multiplicar cualquier versor por si mismo da $1$."
   ]
  },
  {
   "cell_type": "markdown",
   "metadata": {},
   "source": [
    "### Eje orientado hacia arriba\n",
    "Si orientamos $\\hat{z}$ _hacia arriba_ esto hace que $\\vec{g} = - g \\hat{z}$, y entonces\n",
    "$$\n",
    "\\vec{P} \\hat{z} = m \\vec{g} \\hat{z} = - m g = - \\frac{\\mathrm{d} V}{\\mathrm{d} z}.\n",
    "$$\n",
    "\n",
    "Para obtener el potencial hay que integrar\n",
    "\n",
    "$$\n",
    "\\begin{aligned}\n",
    "-m g &= - \\frac{\\mathrm{d} V}{\\mathrm{d} z} \\\\\n",
    "- m g \\mathrm{d} z &= - \\mathrm{d} V \\\\\n",
    "m g \\int \\mathrm{d} z &= \\int \\mathrm{d} V \\\\\n",
    "m g (z - z_0) &= V(z) - V(z_0).\n",
    "\\end{aligned}\n",
    "$$\n",
    "\n",
    "De aquí vemos que el potencial $V(z) = m g (z - z_0) + V(z_0)$ esta definido a partir de uno de referencia $V(z_0)$ evaluado en un nivel de referencia $z_0$.\n",
    "Si establecemos $z_0 = 0$ y $V(z_0) = 0$, es decir establecemos el potencial de referencia en el origen (i.e. el _cero de potencial en el piso_) llegamos a la expresión convencional\n",
    "$$\n",
    "V(z) = m g z.\n",
    "$$\n",
    "\n",
    "Es decir que **a medida que sube**, se incrementa $z$, **aumenta el potencial**."
   ]
  },
  {
   "cell_type": "markdown",
   "metadata": {},
   "source": [
    "### Eje orientado hacia abajo\n",
    "Si orientamos $\\hat{z}$ _hacia abajo_ esto hace que $\\vec{g} = g \\hat{z}$, y entonces\n",
    "$$\n",
    "\\vec{P} \\hat{z} = m \\vec{g} \\hat{z} = m g = - \\frac{\\mathrm{d} V}{\\mathrm{d} z}.\n",
    "$$\n",
    "\n",
    "Nuevamente se integra para obtener el potencial\n",
    "\n",
    "$$\n",
    "\\begin{aligned}\n",
    "m g &= - \\frac{\\mathrm{d} V}{\\mathrm{d} z} \\\\\n",
    "m g \\mathrm{d} z &= - \\mathrm{d} V \\\\\n",
    "m g \\int \\mathrm{d} z &= - \\int \\mathrm{d} V \\\\\n",
    "m g (z - z_0) &= - V(z) + V(z_0).\n",
    "\\end{aligned}\n",
    "$$\n",
    "\n",
    "Si nuevamente establecemos $z_0 = 0$ y $V(z_0) = 0$ llegamos a \n",
    "$$\n",
    "V(z) = -m g z,\n",
    "$$\n",
    "y aquí **también a medida que sube**, se reduce $z$, **aumenta el potencial**."
   ]
  }
 ],
 "metadata": {
  "colab": {
   "collapsed_sections": [],
   "name": "péndulo",
   "provenance": []
  },
  "kernelspec": {
   "display_name": "Python 3",
   "language": "python",
   "name": "python3"
  },
  "language_info": {
   "codemirror_mode": {
    "name": "ipython",
    "version": 3
   },
   "file_extension": ".py",
   "mimetype": "text/x-python",
   "name": "python",
   "nbconvert_exporter": "python",
   "pygments_lexer": "ipython3",
   "version": "3.7.3"
  }
 },
 "nbformat": 4,
 "nbformat_minor": 4
}
