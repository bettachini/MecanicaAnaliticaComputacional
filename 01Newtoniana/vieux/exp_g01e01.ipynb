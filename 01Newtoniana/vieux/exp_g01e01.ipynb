{
 "cells": [
  {
   "cell_type": "markdown",
   "metadata": {},
   "source": [
    "# Cinemática y dinámica Newtoniana de la partícula puntual\n",
    "© 2020\n",
    "Víctor A. Bettachini  \n",
    "Mecánica General  \n",
    "Departamento de Ingeniería e Investigación Tecnológica  \n",
    "Universidad Nacional de La Matanza  "
   ]
  },
  {
   "cell_type": "markdown",
   "metadata": {},
   "source": [
    "## Ejercicio 1\n",
    "Este ejercicio es el ejemplo 2.10 que se desarrolla completo en el libro  \n",
    "Jerry B. Marion. Dinámica clásica de las partículas y sistemas. 2.a. Reverté, 2003.\n",
    "\n",
    "### Enunciado\n",
    "La fuerza de Lorentz es la ejercida a una particular de carga eléctrica \\\\(q\\\\) por un campo eléctrico \\\\(\\vec{E}\\\\) y magnético \\\\(\\vec{B}\\\\):\n",
    "\\\\[\n",
    "        \\vec{F}= q \\left( \\vec{E}+ \\vec{v} \\times \\vec{B} \\right).\n",
    "\\\\]\n",
    "La figura muestra esquemáticamente una trayectoria y las condiciones \\\\(\\vec{v}_0, \\vec{B}=\\mathrm{cte}.\\\\) que le dieron lugar.\n",
    "Halle las ecuaciones de tal dinámica."
   ]
  },
  {
   "cell_type": "markdown",
   "metadata": {},
   "source": [
    "### Resolución"
   ]
  },
  {
   "cell_type": "markdown",
   "metadata": {},
   "source": [
    "Para empezar planteamos la 2.a ley de la dinámica de Newton\n",
    "\\\\[\n",
    "        \\vec{F}= q \\left( \\vec{E}+ \\vec{v} \\times \\vec{B} \\right) = m \\vec{a},\n",
    "\\\\]\n",
    "y calculamos para el caso"
   ]
  },
  {
   "cell_type": "code",
   "execution_count": 3,
   "metadata": {},
   "outputs": [],
   "source": [
    "# biblioteca de cálculo simbólico\n",
    "import sympy as sym\n",
    "import sympy.physics.mechanics as mech\n",
    "mech.init_vprinting() # notación con puntos para derivadas temporales"
   ]
  },
  {
   "cell_type": "code",
   "execution_count": 4,
   "metadata": {},
   "outputs": [],
   "source": [
    "# Coordenadas generalizadas \n",
    "t = sym.symbols('t') # tiempo, todo es función del tiempo\n",
    "x = sym.Function('x')(t)\n",
    "y = sym.Function('y')(t)\n",
    "z = sym.Function('z')(t)"
   ]
  },
  {
   "cell_type": "markdown",
   "metadata": {},
   "source": [
    "## Extra: graficando la trayectoria\n",
    "Podemos asignar valores a los parámetros físicos y ver \"que pinta\" tiene la trayectoria."
   ]
  },
  {
   "cell_type": "code",
   "execution_count": 1,
   "metadata": {},
   "outputs": [],
   "source": [
    "# biblioteca de cálculo simbólico\n",
    "import sympy as sym\n",
    "import sympy.physics.mechanics as mech\n",
    "mech.init_vprinting() # notación con puntos para derivadas temporales"
   ]
  },
  {
   "cell_type": "code",
   "execution_count": 2,
   "metadata": {},
   "outputs": [],
   "source": [
    "# Parámetros físicos del sistema\n",
    "m, q, zpunto0, B0 = sym.symbols('m, q, \\dot{z}_0, B_0', positive=True)\n",
    "\n",
    "# Coordenadas generalizadas \n",
    "t = sym.symbols('t') # tiempo, todo es función del tiempo\n",
    "x = sym.Function('x')(t)\n",
    "y = sym.Function('y')(t)\n",
    "z = sym.Function('z')(t)"
   ]
  },
  {
   "cell_type": "code",
   "execution_count": 3,
   "metadata": {},
   "outputs": [
    {
     "data": {
      "image/png": "[encoded data removed]",
      "text/latex": [
       "$\\displaystyle \\dot{z}_0$"
      ],
      "text/plain": [
       "\\dot{z}₀"
      ]
     },
     "execution_count": 3,
     "metadata": {},
     "output_type": "execute_result"
    }
   ],
   "source": [
    "zpunto0"
   ]
  },
  {
   "cell_type": "code",
   "execution_count": null,
   "metadata": {},
   "outputs": [],
   "source": []
  }
 ],
 "metadata": {
  "kernelspec": {
   "display_name": "Python 3",
   "language": "python",
   "name": "python3"
  },
  "language_info": {
   "codemirror_mode": {
    "name": "ipython",
    "version": 3
   },
   "file_extension": ".py",
   "mimetype": "text/x-python",
   "name": "python",
   "nbconvert_exporter": "python",
   "pygments_lexer": "ipython3",
   "version": "3.7.3"
  }
 },
 "nbformat": 4,
 "nbformat_minor": 4
}
