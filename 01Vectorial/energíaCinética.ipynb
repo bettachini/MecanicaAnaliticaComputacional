{
 "cells": [
  {
   "cell_type": "markdown",
   "id": "2f8f9957-048c-4581-9b91-7244ee40157a",
   "metadata": {},
   "source": [
    "# Energía cinética"
   ]
  },
  {
   "cell_type": "markdown",
   "id": "9df02835-78ee-4bba-b1d8-940bad4b0698",
   "metadata": {},
   "source": [
    "[![DIIT - UNLaM](data:image/png;base64,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)](https://ingenieria.unlam.edu.ar/)    \n",
    "[![by-nc-sa_80x15.png](data:image/png;base64,iVBORw0KGgoAAAANSUhEUgAAAFAAAAAPCAMAAABEF7i9AAAABGdBTUEAANbY1E9YMgAAAJZQTFRF////7u7u3d3dys7KzMzMyMzIxsrGxcbFur+6u7u7s7iyq7GqqqqqmZmZlJmTj5CPiIiIh4eHhoaGgICAfYJ9d3d3cnZxZ2tnZmZmW15bVVVVS0xLREREQ0NDQkJCQUJBOz07OTs5MzMzMTMxLjAuJygnJCUjIiIiISEhICAgGRkZERERDxAPDg4ODQ4NDQ0NDQ0MAAAADbeuvgAAAOhJREFUeNqtk+tyAiEMhQ+6XtroutZiveBdu+p2tXn/l3OQy8roL5fMMENC+HIIAI5sYEQ1DSRtP5zZkCpToubf2/oMMC0zX0QdiLqjmsD1sVKd8JSoNa8HvGRIclZCcZ5A7Yiag/s6oJPMYD8FKgIC3wG/+QP5DFIWot+DvBB1OxYAk+W2W88HqqwAOOZE6FuZbfWZZUn02fb1rTAHc3izZgQCrxWqSSFkH/IaKuSHEzEChfyk2PbwmqFX8EQo3jaw2Ac9DIFhD12Tn4CbU+RbTv+HHrj8jfAOacxflrc61/0psf9yZLsBr5WUrhUa3hEAAAAASUVORK5CYII=)](https://creativecommons.org/licenses/by-sa/4.0/deed.es_ES) \n",
    "2023 [Víctor A. Bettachini](mailto:vbettachini@unlam.edu.ar)\n",
    "\n",
    "---"
   ]
  },
  {
   "cell_type": "markdown",
   "id": "684b219c-04a8-4f69-86bd-245f28d376b1",
   "metadata": {},
   "source": [
    "## Definición\n",
    "La energía cinética de una partícula puntual de masa $m$ es \n",
    "$$\n",
    "T= \\frac{m}{2} \\left(\\dot{\\vec{r}}\\right)^2 = \\frac{m}{2} \\left(\\dot{\\vec{r}} \\cdot \\dot{\\vec{r}}\\right) = \\frac{m}{2} \\left(\\dot{r_i}^2+ \\dot{r_j}^2+ \\dot{r_k}^2 \\right), \n",
    "$$\n",
    "la triada de versores Por ejemplo en un sistema de coordenadas cartesianas\n",
    "$$\n",
    "T= \\frac{m}{2} \\left(\\dot{x}^2+ \\dot{y}^2+ \\dot{z}^2 \\right) .\n",
    "$$"
   ]
  },
  {
   "cell_type": "markdown",
   "id": "514a5303-0605-4e09-a2ef-5db4726f23ab",
   "metadata": {
    "id": "ZsZm0g-5U-zK"
   },
   "source": [
    "## ¿Cómo escribimos esto en un código Python?\n",
    "Recordemos que Python es un lenguage interactivo por lo podemos ejecutar parte de un programa, revisar y modificar variables y ejecutar luego otras partes.\n",
    "Esto se desarrolla en una _sesión_ que comienza al iniciar el _intérpete_ interactivo hasta borrar los contenidos de memoria.\n",
    "\n",
    "Lo primero que vamos a ejecutar en una sesión es el _importar_ las bibliotecas de funciones para mecánica, la parte de la física que nos ocupa en esta asignatura. "
   ]
  },
  {
   "cell_type": "code",
   "execution_count": 1,
   "id": "65922bac-9800-4b7b-98ae-d24ae41706cd",
   "metadata": {},
   "outputs": [],
   "source": [
    "import sympy as sym # importamos funciones de cálculo simbólico\n",
    "from sympy.physics import mechanics as mech # de sympy utilizaremos funciones de mecánica\n",
    "mech.init_vprinting() # notación con punto para la velocidad y punto punto para la aceleración"
   ]
  },
  {
   "cell_type": "markdown",
   "id": "1d3bd0ee-e17a-4914-b016-c64aeab00d8c",
   "metadata": {
    "id": "Jj31ILRvU-zM"
   },
   "source": [
    "Usaremos funciones para definir un marco de referencias en coordenadas cartesianas y las variable pertinente para las posición de una partícula puntual de masa $m_1$.\n",
    "Ubicaremos tal partícula sobre el eje $x$ lo permite determinar su posición solo con una, $x$,\n",
    "$$\n",
    "\\begin{aligned}\n",
    "\\vec{r}_1 \n",
    "&= x \\hat{e}_x.\n",
    "\\end{aligned}\n",
    "$$"
   ]
  },
  {
   "cell_type": "code",
   "execution_count": 2,
   "id": "5d7261af-66df-424a-82d8-092f246cfa78",
   "metadata": {
    "id": "a-Unp3pFU-zM"
   },
   "outputs": [],
   "source": [
    "m1 = sym.symbols('m_1', positive=True) # las masas son siempre positivas\n",
    "e = mech.ReferenceFrame('e') # marco referencial o en coordenadas cartesianas\n",
    "x = mech.dynamicsymbols('x') # x cambiara con el tiempo, por tanto es una variable dinámica"
   ]
  },
  {
   "cell_type": "code",
   "execution_count": 3,
   "id": "b28f0d23-60a5-4530-babd-e50feba08287",
   "metadata": {
    "colab": {
     "base_uri": "https://localhost:8080/",
     "height": 38
    },
    "id": "N4PI5UJdU-zO",
    "outputId": "0ee85c9e-5c96-4fa5-96c8-e8cf9443a391"
   },
   "outputs": [
    {
     "data": {
      "image/png": "[encoded data removed]",
      "text/latex": [
       "$\\displaystyle x\\mathbf{\\hat{e}_x}$"
      ],
      "text/plain": [
       "x e_x"
      ]
     },
     "execution_count": 3,
     "metadata": {},
     "output_type": "execute_result"
    }
   ],
   "source": [
    "m1_r = x* e.x\n",
    "m1_r"
   ]
  },
  {
   "cell_type": "markdown",
   "id": "4dc82844-5261-45ba-a840-12e98cf9a82a",
   "metadata": {
    "id": "Hu_-KzxWU-zR"
   },
   "source": [
    "[Python](https://www.python.org/), como cualquier otro lenguaje de programación es capaz hacer cuentas como una calculadora.\n",
    "Esto se llama cálculo numérico.\n",
    "En contrapartida, la biblioteca [SymPy](https://www.sympy.org/en/index.html) permite operar en forma simbólica habilitando resolver cuestiones de análisis y álgebra.\n",
    "Por ejemplo permite derivar en función del tiempo las posición de la partícula de masa $m_1$\n",
    "$$\n",
    "\\dot{\\vec{r}}_1 = \\dot{x} \\hat{x}\n",
    "$$"
   ]
  },
  {
   "cell_type": "code",
   "execution_count": 4,
   "id": "b41a5e27-078e-41ef-9bd6-3573e1d7dc7f",
   "metadata": {
    "colab": {
     "base_uri": "https://localhost:8080/",
     "height": 37
    },
    "id": "acx4XkyTU-zR",
    "outputId": "c05f4b91-64d1-4bf0-c03e-aeecc6656929"
   },
   "outputs": [
    {
     "data": {
      "image/png": "[encoded data removed]",
      "text/latex": [
       "$\\displaystyle \\dot{x}\\mathbf{\\hat{e}_x}$"
      ],
      "text/plain": [
       "ẋ e_x"
      ]
     },
     "execution_count": 4,
     "metadata": {},
     "output_type": "execute_result"
    }
   ],
   "source": [
    "m1_v= m1_r.dt(e) # deriva respecto a t en el sistema de referencia e\n",
    "m1_v"
   ]
  },
  {
   "cell_type": "markdown",
   "id": "d48cf997-cff6-4e24-961b-f1dcc05ebcdf",
   "metadata": {},
   "source": [
    "Como las velocidades son vectores es práctico calcular el cuadrado de las velocidades usando el producto escalar llamado también producto punto (dot en inglés)\n",
    "$$\n",
    "\\left( \\dot{\\vec{r}} \\right)^2 = \\dot{\\vec{r}} \\cdot \\dot{\\vec{r}} .\n",
    "$$"
   ]
  },
  {
   "cell_type": "code",
   "execution_count": 5,
   "id": "b96e0e8d-a69f-44c4-8556-d9a8022896eb",
   "metadata": {
    "id": "sclpuYXuU-zV"
   },
   "outputs": [
    {
     "data": {
      "image/png": "[encoded data removed]",
      "text/latex": [
       "$\\displaystyle T = \\frac{m_{1} \\dot{x}^{2}}{2}$"
      ],
      "text/plain": [
       "        2\n",
       "    m₁⋅ẋ \n",
       "T = ─────\n",
       "      2  "
      ]
     },
     "execution_count": 5,
     "metadata": {},
     "output_type": "execute_result"
    }
   ],
   "source": [
    "# Energía cinética\n",
    "unMedio = sym.Rational(1,2) # Rational: fracción de enteros\n",
    "m1_T = unMedio* m1* m1_v.dot(m1_v)\n",
    "T = sym.Eq(sym.Symbol('T'), m1_T ) # Eq define una ecuación\n",
    "T"
   ]
  },
  {
   "cell_type": "markdown",
   "id": "4c5a5489-f8cb-4f37-b399-b9e67de0d179",
   "metadata": {},
   "source": [
    "### Sistema de N partículas"
   ]
  },
  {
   "cell_type": "markdown",
   "id": "2696164d-cf8f-426f-b86b-96e31f0be2c8",
   "metadata": {},
   "source": [
    "Para obtener la $T$ de un sistema hay $N$ partículas se suman todas sus $T$. E.g. para un sistema con dos partículas\n",
    "$$\n",
    "T = \\sum_{i=1}^{N=2} \\frac{m_i}{2} \\left( \\dot{\\vec{r}}_i \\right)^2 = \\frac{m_1}{2} \\left( \\dot{\\vec{r}}_1 \\right)^2 + \\frac{m_2}{2} \\left( \\dot{\\vec{r}}_2 \\right)^2 .\n",
    "$$"
   ]
  },
  {
   "cell_type": "code",
   "execution_count": 17,
   "id": "1706ab65-bdeb-4f18-a7e5-9d4f18563d8d",
   "metadata": {},
   "outputs": [
    {
     "data": {
      "image/png": "[encoded data removed]",
      "text/latex": [
       "$\\displaystyle T = \\frac{m_{1} \\dot{x}_{1}^{2}}{2} + \\frac{m_{2} \\dot{x}_{2}^{2}}{2}$"
      ],
      "text/plain": [
       "         2        2\n",
       "    m₁⋅x₁̇    m₂⋅x₂̇ \n",
       "T = ────── + ──────\n",
       "      2        2   "
      ]
     },
     "execution_count": 17,
     "metadata": {},
     "output_type": "execute_result"
    }
   ],
   "source": [
    "# Parámetros físicos del sistema, i.e. las masas\n",
    "m1, m2 = sym.symbols('m_1, m_2', positive=True) # las masas son siempre positivas\n",
    "\n",
    "# Posiciones\n",
    "E = mech.ReferenceFrame('e')\n",
    "x1, x2 = mech.dynamicsymbols('x_1, x_2')\n",
    "m1_r = x1* e.x # m1_r : para la masa 1 su posición r\n",
    "m2_r = x2* e.x \n",
    "\n",
    "# Velocidades\n",
    "m1_v= m1_r.dt(e)\n",
    "m2_v= m2_r.dt(e)\n",
    "\n",
    "# Energía cinética\n",
    "unMedio = sym.Rational(1,2) # Rational: fracción de enteros, alternativamente podría haberse usado 0.5 \n",
    "m1_T = unMedio* m1* m1_v.dot(m1_v) # un medio de la masa por la velocidad al cuadrado\n",
    "m2_T = unMedio* m2* m2_v.dot(m2_v)\n",
    "T = sym.Eq(sym.Symbol('T'), m1_T + m2_T ) # Eq define una ecuación\n",
    "T"
   ]
  },
  {
   "cell_type": "markdown",
   "id": "e9b8e72d-b650-45c0-a73d-7457bd549fc1",
   "metadata": {},
   "source": [
    "Se termina reiterando la escritura de líneas de codigo idénticas, algo que puede evitarse en cualquier lenguaje de programación."
   ]
  },
  {
   "cell_type": "markdown",
   "id": "834e8774-74b9-418d-a6ee-0ec457582e35",
   "metadata": {},
   "source": [
    "### La ley del menor esfuerzo: programar para trabajar menos"
   ]
  },
  {
   "cell_type": "markdown",
   "id": "b458f91f-9305-4655-9fd5-c6ad56a4fb3b",
   "metadata": {},
   "source": [
    "Hay **dos partículas** en el sistema.\n",
    "Se escribió **dos veces** los mismos comandos para calcular sus velocidades, sus cuadros y con estos sus energías cinéticas.\n",
    "Una repetición innecesaria puesto que se tiene a disposición un lenguaje de programación general como Python.\n",
    "\n",
    "Basta **definir una función** que calcule la energía cinética indicando en ella:\n",
    "- entradas: masa \\\\(m\\\\) y posición de la partícula \\\\(\\vec{r}\\\\) en un determinado marco de referencia \n",
    "- procesos intermedios que deba hacer a partir de las entradas para cálcular la energía cinética como \\\\(\\frac{m}{2} \\dot{r}^2\\\\)\n",
    "- salida: lo que **retornará**, que se escribe tras la sentencia \n",
    "```Python\n",
    "return\n",
    "```\n",
    "\n",
    "La celda inferior contiene el código que define la función `energíaCinéticaPartícula`.\n",
    "Entre triples comillas dobles se puede incluir un comentario para explicar que hace la función definida."
   ]
  },
  {
   "cell_type": "code",
   "execution_count": 18,
   "id": "9b9f541a-42bb-4a30-b2a1-20db909dff88",
   "metadata": {
    "tags": []
   },
   "outputs": [],
   "source": [
    "def energíaCinéticaPartícula(masa, posición, marcoDeReferencia):\n",
    "    \"\"\"\n",
    "    A partir de la masa y posición de una partícula puntual en un marco de referencia devuelve su energía cinética.\n",
    "    \n",
    "    Parámetros\n",
    "    ----------\n",
    "    masa: (sympy.core.symbol.Symbol)\n",
    "        De un partícula\n",
    "    posición: (sympy.physics.vector.vector.Vector)\n",
    "        del centro de masa de la partícula\n",
    "    marcoDeReferencia: (sympy.physics.vector.frame.ReferenceFrame)\n",
    "        En el que se expresa la posición\n",
    "    \n",
    "    Retorna\n",
    "    -------\n",
    "    Multiplicación de símbolos Sympy (sympy.core.mul.Mul)\n",
    "        Energía cinética, T = (m/2) \\dot{\\vec{r}} \\cdot\\dot{\\vec{r}}\n",
    "    \"\"\"\n",
    "    velocidad = posición.dt(marcoDeReferencia)\n",
    "    # velocidad = posición.diff(t, marcoDeReferencia)\n",
    "    unMedio = sym.Rational(1,2) # Rational: fracción de enteros, alternativamente podría haberse usado 0.5 \n",
    "    return unMedio* masa* velocidad.dot(velocidad)"
   ]
  },
  {
   "cell_type": "markdown",
   "id": "79202b0d-434f-4003-8a53-7048ff5a2e43",
   "metadata": {},
   "source": [
    "Así para la particula de masa `m1` cuya posición es `m1_r` en el marco de referencia `e` se obtiene que "
   ]
  },
  {
   "cell_type": "code",
   "execution_count": 19,
   "id": "f1bd5bda-ea78-415d-9a08-e5fb86db71a3",
   "metadata": {},
   "outputs": [
    {
     "data": {
      "image/png": "[encoded data removed]",
      "text/latex": [
       "$\\displaystyle \\frac{m_{1} \\dot{x}_{1}^{2}}{2}$"
      ],
      "text/plain": [
       "     2\n",
       "m₁⋅x₁̇ \n",
       "──────\n",
       "  2   "
      ]
     },
     "execution_count": 19,
     "metadata": {},
     "output_type": "execute_result"
    }
   ],
   "source": [
    "T_m1 = energíaCinéticaPartícula(m1, m1_r, e)\n",
    "T_m1"
   ]
  },
  {
   "cell_type": "markdown",
   "id": "20d43eeb-45e1-4d73-8ae3-9a2e9d187c84",
   "metadata": {},
   "source": [
    "Aplicando la función al problema de las dos partículas de masas `m1` y `m2` esto es"
   ]
  },
  {
   "cell_type": "code",
   "execution_count": 21,
   "id": "282d60d5-2f2d-40e1-98e7-dbdf0f473d81",
   "metadata": {},
   "outputs": [
    {
     "data": {
      "image/png": "[encoded data removed]",
      "text/latex": [
       "$\\displaystyle T = \\frac{m_{1} \\dot{x}_{1}^{2}}{2} + \\frac{m_{2} \\dot{x}_{2}^{2}}{2}$"
      ],
      "text/plain": [
       "         2        2\n",
       "    m₁⋅x₁̇    m₂⋅x₂̇ \n",
       "T = ────── + ──────\n",
       "      2        2   "
      ]
     },
     "execution_count": 21,
     "metadata": {},
     "output_type": "execute_result"
    }
   ],
   "source": [
    "# Energía cinética del sistema\n",
    "T_m1 = energíaCinéticaPartícula(m1, m1_r, e)\n",
    "T_m2 = energíaCinéticaPartícula(m2, m2_r, e)\n",
    "sym.Eq(sym.Symbol('T'), T_m1 + T_m2 ) "
   ]
  },
  {
   "cell_type": "markdown",
   "id": "ddd79670-86a3-4111-8871-c96cf0dccbb6",
   "metadata": {},
   "source": [
    "Con todo lo visto se pueden resolver los problemas que figuran en la guía de ejercicios. \n",
    "\n",
    "Como referencia resolveremos a continuación uno de estos."
   ]
  },
  {
   "cell_type": "markdown",
   "id": "bd5cb554-23d8-447c-8c63-d60961a628d1",
   "metadata": {},
   "source": [
    "## Un ejercicio hecho desde el principio | Péndulo con punto de suspensión libre"
   ]
  },
  {
   "cell_type": "markdown",
   "id": "b69f55eb-1ec9-4d24-a43a-431243982a7c",
   "metadata": {
    "id": "b8NARx5SU-zF"
   },
   "source": [
    "> Bibliografía:\n",
    ">- Sección 5 ($\\S 5$) Ejercicio 2  \n",
    "Mecánica  \n",
    "Lev Davidovich Landau, y E. M. Lifshitz  \n",
    "Reverté, 1994"
   ]
  },
  {
   "cell_type": "markdown",
   "id": "08bab882-7fb5-45f2-8984-13c2569bf199",
   "metadata": {},
   "source": [
    "### Enunciado\n",
    "\n",
    "Péndulo plano de masa \\\\(m_2\\\\), cuyo punto de suspensión (de masa \\\\(m_1\\\\)) puede desplazarse en el mismo plano sobre una recta horizontal.\n",
    "\n",
    "La cuerda que une las partículas de masas $m_1$ y $m_2$ se considera rígida (no se dobla) y por tanto mantiene una distancia constante de $\n",
    "\\ell$ entre ambas.\n",
    "\n",
    "Escriba la energía cinética, \\\\(T\\\\) en función de las coordenadas indicadas por las figura: $x, \\phi$.\n",
    "\n",
    "![old_landauS52_fig2.png](data:image/png;base64,iVBORw0KGgoAAAANSUhEUgAAAg4AAAG8CAIAAAA5M7qNAAATtXpUWHRSYXcgcHJvZmlsZSB0eXBlIGV4aWYAAHjarZppdty4FYX/YxVZAmY8LAfjOdlBlp/vskqe2251orLFUokEgTfcAZQ7//n3df/iq4TiXS7Naq/V85V77nHwxvzr63UMPj/fX1/Hx/en333u5nq/jRwTx/T6RT2vYxh8Xr5e0PL78/n9566t15to74E+7vy6r0+6s96/z7P3QCm+Pg/vn11/XzfyN8t5/48fs30P/uPPuRGMXRgvRRdPCsnz3XSX9Po/+N/5HpJxUkiZ9yW155P269i5L29/CN62L0v8LnZ+vM9I34fC+fo+of4Qo/fnZPb7zz8GVIS+nVHwX7L23S+8hY9LfordvdvuPa/VjVyJVHXvRX2E8HnHiZNQpueyyqvxv/C+Pa/Oy1jiImObbE5ey4UeIve+IYcdRrjhPMcVFlPM8cTGMcYV0/OZpRZ7XOmVAl7hxkZitktGnhZZS3wcv8wlPPftz/1WMO68A2fGwGCBK356uV99+E9eXwa6V6UbgoK57YkV84qqaaahzOk7Z5GQcN8xLU98n5f7kqWvX0psIoPlCbOxwOHna4hZwtfaSk+eE+cVn51/tUZo+z0AIeLehcmERAZ8DamEGnyLsYVAHI38DGYeU46TDIRS4g7ukpuUKsmhG7g317TwnBtLfH0MtJCIkipNYmodkpVzoX5aNmpolFSyK6XU0oqVXkZNNddSa21VGDVaarmVVltr1noblixbsWrNzLqNHnsCwkqvvbluvfcxuOlg6MHVgzPGmHGmmWeZdbZps8+xKJ+VV1l1tWWrr7HjTpv233U3t233PU44lNLJp5x62rHTz7jU2k0333Lrbdduv+NL1t5Z/T5r4YfM/T5r4Z01ZSw/57WvWePj1j6GCIKTopyRsZgDGW/KAAUdlTPaOeeozClnvkeaokSyFoqSs4MyRgbzCbHc8CV3XzP327y5kj+Vt/hXmXNK3f8jc06pe2fu57z9Imt7PIySngSpCxVTny7AxkkjGv98srlLW3mOsQfHuwM0NquBSqDXnK3XMi3mthY/BHrh7mzBbhvu7DhtzzvDjNyWVdXCzIa33ozrIq0yzj5lE4g1awOw0k3jrAFOvGfA0X28+V+Pf2+gZIFGoJ5WbdffOWYte+Yz+15pJ9DzuDjnGSe1knYzRabw8c09VVA+tFLJb2h+9d7KHigO38JO/RKRKcHx3Imj4ztZ73Wm0WoPl1ueTWDtbN6EaJy4SeOd/ZinJlcra1PLaZ65KJA4F5Gdrs9YPRmg4k9NkVhXlpI/bvTtcUIWNZ2YrxXoY5eTd7yFNzWZq+ekVW8G1fbsNEW/i1unsXQlNXnNoKi6qfBRdqw7lT6p+hs6fZhLWqmFvpxPZ9o4vX4mR2mUkIs0zZej+3jD4lAkNxD6fQJVAycqMRfoWAKnvchXXCUSQmtp+WMtAhn9NObfXFq7QH0nMjNWvEfYEnFjmREy+p1gQu7BDpQLWUKrh8YEmmiqa/WS5czlji7mh2EwwT2rKP9JPXxApPtwM5fcS/K5TCU+VzoEaNdxG3BD2O+c1FEg6GCFRthhtUr/gwbEvftJZ/aFiNhh37mRZ23ewAzzruSu2ASh66g7goBuhlp6h8AIgsCOVe61EZ30XCDBlWszqzs0r5ay0SMdlQeuLGTLPLEfnYIYretsK5zTGiVyt5rgnkh64uS3fZ6221iL6ml50A0n3sn6W90nlRWHiqO7HA7gyyopIVYW6wR0iDMYK0i9FgcNtlOlbNI+OU+CEhe3mmUvUtAuXdANGCk90Y3ZdrEYyfWlHItxCms71RuNQMXdGgHY3NDrIzLLuInAWH7H3I+37cCqlOtmogsc9mBjAGhoadCW3LDkxTo9o9HULe8Ldg9bywK8U0lu8n0xY1eJ8iWXtZLdid4qoafLjYhMuiddGE189sT/vOJP2QygAv1F9YVBwfrr0oVRt04m4nlwDiPyW+CaBVOOfXdqoFFBSZBNgjxhbQ2a25Pahx+IwnLVGDBxv7XbOuciPMoY1+hRLioVVime0SrssUeHFLfoDZi2CcWaUaJ0eqFFUicHgFQyxpIMVdExCmJtUjlQw6Tab5odhWSHPj39KbnVZqGmNOJJblBxTBSsoJ7WBIjUrWcLKWCzw1kQ4hxgW6mo2tUysW0yBi0jY8MUILbjEjGF4/LeketDphoZYrdE0XhbyGGA9iJ7WU2Hakh27mSAsjmjnAA7woOlwv10M8xa6MZ8oehQxYwzp9s8Zbp64JqV+TmQPNo1qQkgtnh9rbPWANb64cZeFDfV4LMtgjM7p/m2s9iABqFXNvMoBmeuhpqHKlSNEikgLcWHQSPeLuq2t5enTfm1xkQK0Yc7Q9KRDrcNMVJTgLDcBbRiKpcACEYEDMRE3bkqMl2eNZmn7y9XUEKqFZqKpIDk9A9Fjo/oAOc9MM0A4Qj34pit4zFAyEnsyjnAXBNOgRj5IZVMLgQD3hfwke4HVnopnvbgQwsTSrh7PSsxCt6hP1StMEm9KSHQmGYFV5izgguhZCiOQgTQwW4Ew4lG7Xegk94l0mftfkHIufZ81ryafxrqPg2F5+R2mKUGL5Eo6iE+rVH2OYvSY1oDNKa0kXcsza+q0/JZzP/ekenT8Uz4PqEnJkNnnzgJ0MqUKeUD0/jRj7iPUNGI+P5IgCB0CIYRC/PxPxDsr45QgxDQX+adlxSdE7VeNcskcyKdaiKRBnR3QOeiR6mcuTpNciXohpCaESkENfoQwH9LkL8+orlIJQwTWS/3pTxphUzsxNSgASS1lfXhUlE4MdWEl64TBwLRkCXBMNpiSbcd+ErjWSSYVgOYa7NATPjYgvw+eTgqIoB521/YmdqVrOr9AVSwjEsJcFC1gkcNbwa2PzmuwBj0GQuVA6RdNxCufbcZYP/20B8HOcQuaW1MPNhKqFNGT2edgjCSIkgjJCY3qC44JUy3SGwCoR+pg27zdYIwsPU4+AYaDdWnSdMzQHH5y5C638b6h6NwWjiYVKzdwAToOqeKtK8u1lImsMoBG4RyzPQSS+OXE50Qy9wSeg89yDjMuDPFGaFQSDjeWPMjr9GQeSVa/cC29YJ1MCiGqTyz+M2RiJ7Utwwv5FcGCGmIC3zMpDIqBDIWOAkn0XwIJ5QdpFXQuWRQexHgFNoWToQQqBECXSit0p1FkVi3A49g0wBFRL4BmglKp/JAeklKtMOENY7cAUwl1EQqX33EBEFgV1ECBHAieqmk7SuK7KE5pGC/GXKqgeQ3TsB7IdoJWieZnSidYtSLFX8yIqKrWUTY+VFQBZN0aUo67NZMj+cxsR4U1UZhw28YdwaF5p4EsgRWZz04xMSIZ2ADJKMG4EUmQLQOoLGA2yS+K3Yvaqqoqzv8uJhN2Ac+n1Bmo7KTQ6ZGI9gBrZoUjpj/kbNx3zgXulX8DuEQjDsz/SlpmRpkgFjCbknHwnwyitp1wnHcZ2emnOUgP79vU+rF9OLfAxojlBcC7rKEgki4CxUGYBH/FB5Dc36AO/dLHAQ/CeBUFyKxCDX2fBaD1anYiMxGJezBNE/HNqDJQndpw6xd1hwE9OoFdCtayLaPCGmIEtGWBNnNRhH5g0I4044Th3u74aSyXRByN+7b1N5LXbfKi0WP4DfTWRgroSGaoNeFv8Z3HaQ3dQTID/Qbl66bHJ77dO6ETrzwAf1HLY8Cf1CnBqJgGCpCCOGByOa3u0kbpDVpcVKNxMcmzuMysnMDDNIjEXU068IunpZMUDAo19ZZHBSYKgZzI/f5tQJOByJR+QLGgJGes9pBmgGCx4YJLvyR+0NHetZKreIEEQqF2oDTZaUyAUEj9aTNZfz4ao6OoQJYEynO1Mjx2pOc9wFpGrxBEpseKchzJBC+b6PTdDtao6ktmRA/OiJHVmH8lgG1jpkRHGQsjQKCGAGjpNAkGuDtPQYMAQlJW5BK5gwx5pvds5Q+UA3cdu+O66rwCAb6DpHRfPQAuI3rAOchelaMsOStx5rm3dGArMh1UCogdLllQ6sgewWTe38Cyp+j++wFL/4t0tCwL40iw4AIcLgWuTjDd0W0R0NfkAgKEX/agyhXMvXS0TByUlhnaCvUBGoPRLh2jXZs24HYE6lFB9QCCVD4GDmjaEnVlr3BBjAFYJBiosShz5GRv8gxGeYF+5DRtGBa2R7+ZQEGpoY540cZA4PbkX8oYCod4s2HTqPc414Q9d7aTJYmgkvARddQEbfHXCEEIHnZwAGabB5qPUbtyPEqarmhDS41L6JgD6lZ2hPVE0puw+nBBqxzEBBePWBodfQH9hQ5DRQBGbGq63gh7Ol8CUA1WWaYlufDc3LZ6BU+PDLvlJYxTdZOTNAoc8i2Ds6/HnFMvNOWt+xy+HAOYCKGALPKxGWjJavdetGE4F9EyPEdNVqwTThhVRjVDJVRsHASh4PvgaWgDYQPjX4MdxTBfBaG7uhMCtY0hZwXgr+QyIg3bQy3gGjOw6kIFSY4Qqfb1aOiR9642EORok+xS0URYJQPbu/PgvT7o/vEBXPJqZaDPmUKqu0r71EQAj07IzkZAAiLRWPy9109SwK+Shri4N1a/dmRIAB30e6ssm8cLBhNkLjJrS79RHdHmy/ECn/1DBQGJUZxdOE2aqjgwtHYdmT+8JJP9pMDiQx32iQ0cVeId6RvXhACZmALSwk4Dp9uTeccMg5dbPHGwhKUIXEUcQ7OtNmB3GeqcT0GUfvBkJMpJvM8pv2IBmq+NJoB20v6BE2DSKArPQayJZT/ObIO2hUB56HWBGYCSAOdcubFJeOU0qR/G9PTbojJ1TGY9/g7S147stuBiCLCtSkheM+khA+g7HFo1M/wqOEQtIuljYtgIp+BLIHotekYWtT+3TlOBvpqawa36bWbCchg8GzqEQoMgl3SbjEkXf8PW6w/H28SPgW1VZLsmIhR4KAiBOgkXClgw1pAP+R6qabK0rO/i5SITf4S9sv3GSdcugeD/douc1h1dMb0kwaCkDprW6Ytr65HtRmQptF6iUlaAIWrHaHzi9p/ZE2u6EkAE7k2cn2U29T2bEAszcdtRKDlsavA2UB2zZuLtszwdVUPVB/f3wteEjagzuqkfAZNuw7AghutGGwkfoGFY8YomkADP9vl9kjRDBUP53cYbifEjAfWZSi7jJAKi3IbIeyIsW04IqADsr/4W6lDcBNixgYiKziFPl65uhtxKJjPq10dFGsV/ss35mrx2WUhWH8jj+7ziQ9VxFSR1JgRxAbJgBkdJt7oHwodhkwKaI5A5pZFLXIMARtam/ZSITVkDfjIqoBjFFBCoaAjabfjKCfA+XYZjKZt0cfizT85N0wnvKd9hSCVl6NLhKw9jLELFgBBn8RsaDWJQiAHMXMG6QFhUFEXYpGlkTDRo4JeMH1UdnWZvCYjzfhDWw8UIFBAGhztS5mqJCHTKce0tLFYtduHkLwtmyHJt2jEwfdbFkh42fyzPY9KbuDPax8qoIWYA6W4LCNmCbHYh9/Cjd8YQfcnp/hHJ8n6pWAdcaK+JPMhLnJRCFdhCrAtpAnBXik3qt+j1rCUoPIBAv14EQOmAoC9ekyPBWUpDI+y4DM6eFhsyGz8o55D+arH3srlan+26wj5lHtN1ba4EkgLUo4hn5dv8twJgkfs4mlwkalQdxDrhLZG174syr9hRguKHCHxCBZMEcqKAoZafLm7IyJk8OEkv4Z06c7kks5+GZWKnV7FEZs9tW9Oc2EScTQI5haZWTdBOHqx4C1ukV5Z/p4IPxIMWjWyMOJ7loSsQyYtPeUA+KkTuvy1PbzvJxWq+93WEUqJNORnL0LPC7D2eiKJJikdr1uYsNyF6c8RHGJbj4KfJ/gAWQVetPFBBae8n04femTQtK91tK7B7EcwbZnPiJqIywOB2HXt4rYhfV/33xbaK+oRpWhXPYuF947GqTmNiYTdV1S3b2ctTSK7wRlMQ7BOpWpngG5DqYAroek5Gjo6ajO4dpNdp5gjSwUMZWXRAcDJQ8uyxLDP0PYefYD3WxhoDxYUiUuJdynhzcjRaQ9CljomE3lRXgi5CQ0szODdQ56PjytwITmddBniuaNpe65wOmWI/TSHHx6f0nivox4S6c9s8FFUHfzjDH35Dwb69siK6P6jngavobJDcUrxVlw+VuAkkp0JGcuM8oRLOi3eJzj+LAIEgYLkZYyEX0ObxBT0ZEiu+OqPZ6D6inLEhizSSIA6unpKQAP2+BN80tbuWova0N4LJ7UdTgZBkPVUYGm/6DGMmTTQOEBTzADAgTc1O1T8uKigAE2stGRQpnZg9eDP3YkcpQVyM8Pupi39hMXCjwLzqHJDVh7tlZK+jTVAkAW/+TkR4iNGwkrlwYwuo+A3UBzah0cP3Kqe1T6yPEjBUqMioERbE9uqLcAC/q3HPMMWQbaKOiK2QJI/epCPaKXwgzQD0K79axp3iw7H060zJI8UgSARMPAAyIsHB34sOG3jDGQewKN9Nlj0ijm6WKSGXXMFrBD3oRbJWgQE8Qk3RrVD6F7xQjs1p+JHmyVInIQXCeSCP/AYVORNr3pqi+tP2hiEBpCXLUlwZ4L6bCoUKgTnioWYArKePmu1/zaw/XS0jJqkMaToqINXUTNdBPbuyVVUNOudqPMgkBWx60KAAl6gWvZBbnnMDlkDF6mJc0oC8UdoQFiC156/iMLmX21eypLiZChmFPfzvAHNfSW/d5Wp9GVmMoF6I+2G/AbGbvYyDa8/HNDDIPdfVXWaYriPgzIAAAAJcEhZcwAALiMAAC4jAXilP3YAAAAHdElNRQfkCRIRORJW2DvkAAAPWklEQVR42u3d23bbOBJAUbOX//+XNQ9Z8SiWRPBSAArA3q+djh2KxGGRlLQ9Ho8vAPjsP5sAAKkAQCoAmDgV27Z5DQCS27rc1n4thLvrAKYKAKQies4AQCoAkAoApAIAqQAAqQBglFR4XwWAVAAgFQBIBQBSAQBSAYBUACAVAEgFAFIBgFQAIBUArGTr9eFLP19759OfAKQCgLG5AAVA4lRs2/ZzGQqAtPpcgHothOtgAKYKAKQCAKkAQCoAKFjzYRypADhhzWdwpAIAqQBAKgCQCgDWS4X3ZgNIBQBSAYBUAIBUACAVAEgFAFIBwKqp8D2pAFIBgFQAIBVV/fpgD5/zASAVJ7IBQDablRqA7FMFAFLxeaLxyCzACLpdgHruhItgAKYK4wWAVGgDgFQAIBWdmTMApKLAnW2AtL5tAlLZny/fnlJ4mg6qH5hdDq23y8HQB/nOavXrH2stu9yJ12346c/byBDLbe34BW5/vXNXJmSD/2Ejw1qpmPU00JrVa1vZ8jB8Kl7DMO6B/fY3t07pNEgF5Xlo/woJgFQ43TudFhOAjQBSYfXXieubd2e7Pf6ytWG2VKx5DFu5YiNhk4KpYrYMWNQab/Pn9164ugWTpGLulVQn6pVg308k1AJmSMXER7JOXHj1a2w0tYDBUjHfQesTJqruDMU/49NTYImpYvrFjsA5bP9TtgCp0AkjBbBGKl5PG0e8YnDk0RrLXPeZAxh4qng+ngfthL2nQQkCYywhcNl3nkVBJwBMFUucEc/0obkJi1ucOXbOP7wQIBUpOmEjNN6GtjnMn4qZPnFh9Fsvc4TBlodKut2reP7EhaGP8E+fafrnH2jxqj0i2MLQYsXudaR5ey2NdzP7GFzmXgUAKVNhpACQCujP07EQ5dsmYJSF/s70aXIFqWCJacBDZdDtqOxy4NX7Kpufv9mCMlknru0t7evy6Zmr/X0+wyPjb7f88W8b3P/HxvIweqJUHPmunmtPIp7aI9/+iL7XoBvsnVO+MzH2H37zVWi8tNX7R+0fp4vcrRGMbqlwP/D++Q6gFjOnwkoHqAXPPCwLgFQAEJ4KcxwwFqtWbd/1XqpT9zz2n4Dqda/49TESd633v1zoeYu12Vbhj1kf2R8OfoHS22316UHPjvvV/WcLb77WZ5/D1In2Ck9zV/pgznrvq8i4iT+81ePsoXV5E/0sbck/7/3+l+KNvp9ce7Z4wYXSBwanS0WzRcHrTct8AqekuK3tgAeQCnDSAFJxjzf9ca0W9hxYKBXOJVELkAptQC1gYD2fnkz+7Cb9986It+YAo04Vjm36dgUYJhXg9AKkAuI7cfBDNQCpAGCBVGx/eQ04OyIYLGCJVDwfz45tLlALmDwVjmTUAqRCPLBTgVRA+sFCLUAqAJAKTAzH3m33eDzctACpQC0KPfhyixukgsVrcXy8UAuQCrhOLUAqmHZ9P/WWfh8mCFKBmcBgAVIBt1d277QAqUA51AKkAiK4aQFSAY0GFEAqWHewUAuQCijXApAKKDBYgFRAebBQC5AKUAuQCoioBSAVUKiFwQKkAsrUAtKlwtUAru0nNxd0Ny1g7KlCPMiwn6gFfDw6LNPk3Tv/XbtD9tViDxwRkHSqACMsSAUMUwuXoUAqQC1AKgCI1ue2do3blcy2a76c2ofvJ/vTg90Sek4VpnuScBkK8qbCMcn9dXysnwJSAdM2yUkM9EmFY48Li/jj8ah6+q8WsO/bJmDQU35g2qkChmuSwQL+y3NAglqAVMBp27a1XKbVAqSC8TrRJRhqAVLBYJ1ozDVSkAqGkXPJNlggFWDOKFdKLZCKbke7w4+BZhq7K1IBlGsBUgEUamGwQCqAMrVAKoDCYKEWSAVwqBYgFUChFgYLpMIJGpSpBVIhIVCOgVowtw5fbfR4PH4dVzpBx8X35wc974eWfvjnMLFMM1AqwnfX2CQ4mpiV29oAZJ0qns/mnItx8JS/xq5yarD48wvs/y/2Z0wVVQ5O14Xp6PjK/vMnxQCp6HCqqBbErukNfrp3WiAVMHAnzn676uWVXS1YR4d7FTtHkbmewF0rcCm/9lfZn5nGt03AlJ0IPN+34oNUMGckot5PV+zE61tKn3+uzCAVkH2MuHnP4OBCrxbMf7i5V8EoPfjZPeq9xfrO233s2JgqoP/cUOOxojaLuNmC0SV6WNaxRJ5d7sLeaAdm5vO2PBegHGlUnSF+Xb+qtL+5DMWUvlMtDY4lGgwNHT/3zB7OoLxbm7U60ffnehc3UgGoBXPyBBRDrsK1F1xf1Aj/HBHeV0HevfPM91UEfrlFyBfw+U4LZvJf94MfQnaVbIuvGDATF6CYR8jqHHg24wM/MFWAs3ITNlLR/NhwkkX3eIS/P9TTUEiF80SWOOm+ud/a7ZmAexWM0YnaC27IU09GB0wVdU/QnHkx6/7gGhRSEXPk6AR9z83rjRRqwRz6XIB6fohQJ5ivPSAVLc6zYLI27LzHAvLzvgrGcOfcYtu2C8t0vS/MMOIw3pmWs3vyzwE3O5FqAvYZaEgFJI1Nnlp4IyojcgEKnWj6V3kaCqmAMTqx8/6eBuf1asFwvFubMdb6qBV85+9pefHHA1GYKiCpO1+i13JlVxGkAqqvnhfefV0cKcJnDnewkQoYctpofEbvnRZIBTSaIQL/8vYLtFowxiFpCmaUVJzaV2PX2aqHiXdaYKqA4dVerD07i1SATtQdO6AB76tg5iX+ziLryg/8/3zF8UDG/TL0u4ZOBaPXEVH8JR2qSAVUTMXOQpxq/1cL0nKvgnVlW3mVAKkAnbj7W7m/jVQAaoFUQCevy+vQl3rUAqkAnSj/hmqBVIB5AqQCMFggFTDo+qsWIBVog98frvBubVLul9Hv1p5va9gsmCowDVj+YkICUoF4+LerBU3OSJy+kfyU2S56MAY2FFIBaqEWdOMCFABSwdTn0et4PB5uWtDtYDSxMkQn7KjHe2BbYapg0dXQ+TJIBXCUy1BIBRBQC5AK4MtggVQAdwcLtUAqgFy1UKbJ51QXPcm4X35Yd+yuF9bo2hvNY82mChjpJJqEoUIqgAEKajVHKnACS7dN9/av9TJJBTDkYGEFRyqADrXw6IFUAHPWAqQC1MItbqQCuK1qLUw2UgHZT5mxlZAKIKYW9weLt3+DSkkFoBZhpUEqoMpK54w1XOyK7wWSCuhTi5/VxzJUae02HyAVDH/OayFLWAsvilRA3mzYCKM3CamA6m1QizyDBVIBqMW5P2akkAoAkAowWJwZLIwUUgGoRXBLkApg6dnCSCEVkI6z2vzb2bthpAJYYrA4/v8+V+E5EmohFcD8tTi+1m9/2bBSAZgtzhEPqQDmr8XNtd4db6kAFq2FAEgFwKHAFIOhKPPZvKhk3C8/XP2wuzbb1NeGDy+QVIBUqAWLcgEKuNsSpAKYnKEBqQACamGwkAoAswVSwRTLlrWsby0MFlIBTnIpU4t1X3oHJPmXJ3tpqh54OUwVYLzAbIGpggHXI3tpwhh4UUwVkG7lciZrkkMq4PRZLX1r4TWSCtAPvCJIBXB7sFALqQBw0wKpACJqYbCQCgC1QCoAkArAYIFUAGqBVABqgVQA01ALqQAMFt6XJxUAEbVAKgC1cNNCKgBuUwupgA5LjOseYw0WaiEV0HoN0gmQChAGgwVSAeeXoZ+VSDlEnb42rzRwaxE5MDdYZ0wV0HMNwmCBqQKRsB5N0nWvoKkCDBN4WaUCLDTcHhq8iFIBIPlSAXB7sEAqALVwGUoqANRCKgDUAqkAQCoAgwVSgVUGtUAqWJ3lw8uNVICpwkuJVACcqYXBQirgNAuHWiAVELCy4DVFKjBV4HVHKgCDhVpIBVRdU1ALpAJQC6QCjBpeSqQCAlcTi8tqDBbpXhEHIZAzBlYnUwVgcEQqAOpPHjR6LbSd/MuEvXTlGHj1TRVwaAVxdjkrGZAKgIBaOFGQCoDTUyZSARYLg4UdQCrAosClWiAVYNXwurtpIRVgqgCpgJBI6ITBwmmEVMDFVcBVKbVQC6kAMcCeIBVwbI2wTFCshcFCKuD9MmF1sBvYH6QC4By1kAoAt7ilAkAtpAIAqYBcZ5cYLJAKrA7YH9RCKuDD6uDNFjh76M53awPjLFg+/cVUAVAvJEgFcx72PmgWc4NUwKHTQ8HAYCEVAJGDhVpIBeueGDr+UQupAIisBVIB4FPKpQLgNrWQCgA3LaQCAKkAMFhIBYBaSAV0OvIBqQAwWEgFOKpRC6kASFgLpAIHPJTfwm22kAoApALg9lRqsJAKANcwpQLgdi0MFlKB80RQC6lgvYNcJ1ALqQDzBH2ohVQwyQHsWXicakgFQM9aOBGRCua5JuB4Ri2kAkAtpAJgwHEWqcCRjMECqQBwOiIVALGDhVpIBZMczHBzB7OPSQXALQYLqQAoD69qIRUA5VogFQCFWhgspILUHKLYFaUCYIzBQi2kAgCpwAUBMFhIBYBzFKkASDFYqIVUMNXxDPYuqQDoVouVBwupYJjD1Ukf3S1bC6nApQD4Z98zW7z6tmegFoCpAiDyTGXBwUIqAE5brRZSARA8dkgFgBiYKgBQC6kAUAupAGhUC6kAoGCRwUIqAG4NFivUQioAkAoAg4VUAKiFVACsXott2379/dtfDX6TzXNgAKeW7MstqfRDQzonFQBNF+7YdTVwRLj8i7kABdDu9HxQUgEQXIvAOSD2rsPlv00qAOJN9kCUVADEDxYhtfj0N+x/AXjx68GlAiBRLar+0Lc//fm/Bv56UgFQqxbhl6H2f9zrf42qhVQAVNTsUde3//XXT/ewLEDGwSKqMa8/peWdc6kAGGawiI3Ncd9eRYD7g8V+D57/65Elu1iXwAyYKgDa1eL4yf7ZOaP7+8NNFQCNZotfwegYgNffc/+XMVUAdJgtvuLuYZx69mnnc8t3fh+pAOjmyLdNXHj26dMfuPw/SsVsOxlAOKkAGOmc78I54p+55OD/+PaPua09MF9LBYSsHsWKmCoABj4jvHDKeOF/kQqAkfJwZKF//jO/Pmv22hsAXYACmLwW90kFwLre3qV4zYwLUAB5B4j2nTBVALAXiU/dMlUAdJsSuowUZzvx9fW1eTYfoNly3LcTFyIhFQDdapGkEwd/DfcqAKr49HEaeU7Qj/8mUgGQYjnuOOIUua0NgKkCgDOjhrfgAXA6IVIBQIFUAMzv5t11qQCg0BVvwQNYSPGp2bdRkAoAClyAAkAqAJAKAKQCAKkAQCoAGNf/AOlaCi1KgQ2yAAAAAElFTkSuQmCC)"
   ]
  },
  {
   "cell_type": "markdown",
   "id": "8b699c83-3af1-4b5e-8dc3-c61675aad7df",
   "metadata": {},
   "source": [
    "### Resolución"
   ]
  },
  {
   "cell_type": "code",
   "execution_count": 10,
   "id": "928e5572-7a3c-471c-8bec-5de6754458b6",
   "metadata": {
    "id": "rrFNMxFKU-zL"
   },
   "outputs": [],
   "source": [
    "# Importar funciones de mecánica de SymPy.\n",
    "import sympy as sym # importamos funciones de cálculo simbólico\n",
    "from sympy.physics import mechanics as mech # de sympy utilizaremos funciones de mecánica\n",
    "mech.init_vprinting() # notación con punto para la velocidad y punto punto para la aceleración"
   ]
  },
  {
   "cell_type": "code",
   "execution_count": 11,
   "id": "06da7983-4e66-45ec-ad78-24ffb3c065a1",
   "metadata": {},
   "outputs": [],
   "source": [
    "# Establece sistema de referencia\n",
    "e = mech.ReferenceFrame('e') # marco referencial o en coordenadas cartesianas\n",
    "phi = mech.dynamicsymbols(r'\\phi') # phi cambiara con el tiempo, por tanto es una variable dinámica"
   ]
  },
  {
   "cell_type": "code",
   "execution_count": 12,
   "id": "0c6cbf57-3982-42a4-a44c-20f1ad70bee4",
   "metadata": {},
   "outputs": [
    {
     "data": {
      "image/png": "[encoded data removed]",
      "text/latex": [
       "$\\displaystyle x\\mathbf{\\hat{e}_x}$"
      ],
      "text/plain": [
       "x e_x"
      ]
     },
     "execution_count": 12,
     "metadata": {},
     "output_type": "execute_result"
    }
   ],
   "source": [
    "# posición de primer partícula\n",
    "x = mech.dynamicsymbols('x') # x cambiara con el tiempo, por tanto es una variable dinámica\n",
    "m1_r = x* e.x # posición de la partícula de masa m1\n",
    "m1_r"
   ]
  },
  {
   "cell_type": "markdown",
   "id": "54fb7ef3-3248-414c-82e3-76d9e12c42c1",
   "metadata": {
    "id": "Zs6gFuu3U-zO"
   },
   "source": [
    "La partícula de masa $m_2$ mantiene siempre una separación de $\\ell$ respecto a la de $m_1$.\n",
    "Su posición se define a partir de la esta.\n",
    "Solo hay que hacer la proyección en el sistema de referencia en función de la coordenada $\\varphi$,\n",
    "$$\n",
    "\\begin{aligned}\n",
    "\\vec{r}_2 \n",
    "&= \\vec{r}_1 + \\ell \\left( \\sin{(\\phi)} \\hat{x} +  \\cos{(\\phi)} (- \\hat{y}) \\right) \\\\\n",
    "&= \\left( \\ell \\sin{(\\phi)} + x \\right) \\hat{x} -\\ell \\cos{(\\phi)}  \\hat{y}.\n",
    "\\end{aligned}\n",
    "$$\n",
    "\n",
    "Describir las posiciones en función de la geometría es el **precedimiento central** para la resolución de este problema. "
   ]
  },
  {
   "cell_type": "markdown",
   "id": "d1836444-d7bc-449f-b86d-73c86dbad8e7",
   "metadata": {
    "id": "UWo9ysHFU-zP"
   },
   "source": [
    "La lóngitud del péndulo $\\ell$ es un parámetros físico del sistema **inmutable** con el transcurrir del tiempo.\n",
    "Lo mismo sucede con la masas de las partículas.\n",
    "**No son variables** por lo que no tiene sentido declararles como tales, pero son **símbolos** con los que el código debe ser capaz de operar."
   ]
  },
  {
   "cell_type": "code",
   "execution_count": 23,
   "id": "a629911f-3f6d-4416-9ade-547888e70e8f",
   "metadata": {
    "id": "xqqWjFsQU-zP"
   },
   "outputs": [],
   "source": [
    "# Defino los parámetros físicos del sistema\n",
    "m1, m2, l = sym.symbols('m_1, m_2, \\ell', positive=True) # Escribirlos tras el subguión hace que los números aparezcan como subíndices. "
   ]
  },
  {
   "cell_type": "markdown",
   "id": "eb13d0ee-2700-4fa4-bd85-b96f8ad47864",
   "metadata": {
    "id": "jJEM3u7xU-zQ"
   },
   "source": [
    "Declarar $\\phi$ como variable y hacer uso de las funciones trigonométricas de SymPy permite escribir la posición de la partícula de masa $m_2$."
   ]
  },
  {
   "cell_type": "code",
   "execution_count": 26,
   "id": "14e93017-b53f-44de-93ac-9861487f4328",
   "metadata": {
    "colab": {
     "base_uri": "https://localhost:8080/",
     "height": 38
    },
    "id": "XnpO4ljSU-zQ",
    "outputId": "2864ef47-7c69-4f27-ddbe-e27a36df4695"
   },
   "outputs": [
    {
     "data": {
      "image/png": "[encoded data removed]",
      "text/latex": [
       "$\\displaystyle (\\ell \\sin{\\left(\\phi \\right)} + x_{1})\\mathbf{\\hat{e}_x} -  \\ell \\cos{\\left(\\phi \\right)}\\mathbf{\\hat{e}_y}$"
      ],
      "text/plain": [
       "(\\ell⋅sin(φ) + x₁) e_x + -\\ell⋅cos(φ) e_y"
      ]
     },
     "execution_count": 26,
     "metadata": {},
     "output_type": "execute_result"
    }
   ],
   "source": [
    "# posición de la segunda partícula\n",
    "phi = mech.dynamicsymbols('phi')\n",
    "m2_r = m1_r + l*( sym.sin(phi)* e.x + sym.cos(phi)* (-e.y) )  # y versor apunta hacia arriba\n",
    "m2_r"
   ]
  },
  {
   "cell_type": "code",
   "execution_count": 27,
   "id": "f486227a-b6ce-4a09-b7fe-81df7ea14cca",
   "metadata": {},
   "outputs": [
    {
     "data": {
      "image/png": "[encoded data removed]",
      "text/latex": [
       "$\\displaystyle T = \\frac{m_{1} \\dot{x}_{1}^{2}}{2} + \\frac{m_{2} \\left(\\ell^{2} \\dot{\\phi}^{2} + 2 \\ell \\cos{\\left(\\phi \\right)} \\dot{\\phi} \\dot{x}_{1} + \\dot{x}_{1}^{2}\\right)}{2}$"
      ],
      "text/plain": [
       "         2      ⎛    2  2                          2⎞\n",
       "    m₁⋅x₁̇    m₂⋅⎝\\ell ⋅φ̇  + 2⋅\\ell⋅cos(φ)⋅φ̇⋅x₁̇ + x₁̇ ⎠\n",
       "T = ────── + ────────────────────────────────────────\n",
       "      2                         2                    "
      ]
     },
     "execution_count": 27,
     "metadata": {},
     "output_type": "execute_result"
    }
   ],
   "source": [
    "# Energía cinética del sistema\n",
    "T_m1 = energíaCinéticaPartícula(m1, m1_r, e)\n",
    "T_m2 = energíaCinéticaPartícula(m2, m2_r, e)\n",
    "T = (T_m1 + T_m2).simplify()\n",
    "sym.Eq(sym.Symbol('T'), T ) # simplify: simplifica usando factor común y otras operaciones"
   ]
  },
  {
   "cell_type": "markdown",
   "id": "7914a922-171d-4030-8e3f-380e56c88450",
   "metadata": {},
   "source": [
    "Como puede verse el mayor esfuerzo que insume la resolución del problema es describir la posición de las partículas en función de la geometría del sistema."
   ]
  },
  {
   "cell_type": "markdown",
   "id": "82cf1963-26c7-4d6d-ac09-883cb5af1fd4",
   "metadata": {},
   "source": [
    "### Trabajo ahorrado: cálculo de velocidad"
   ]
  },
  {
   "cell_type": "markdown",
   "id": "3d42a5d6-f700-4707-8ae9-79b65fac2a31",
   "metadata": {},
   "source": [
    "El ejercicio está terminado con lo anterior. A continuación se mostrarán todos los cálculos que nos ahorramos por haberlos dejado en manos de `SymPy`."
   ]
  },
  {
   "cell_type": "code",
   "execution_count": 28,
   "id": "0e7c4718-fff9-4879-9ec2-d18b144793e2",
   "metadata": {
    "colab": {
     "base_uri": "https://localhost:8080/",
     "height": 37
    },
    "id": "acx4XkyTU-zR",
    "outputId": "c05f4b91-64d1-4bf0-c03e-aeecc6656929"
   },
   "outputs": [
    {
     "data": {
      "image/png": "[encoded data removed]",
      "text/latex": [
       "$\\displaystyle \\dot{x}_{1}\\mathbf{\\hat{e}_x}$"
      ],
      "text/plain": [
       "x₁̇ e_x"
      ]
     },
     "execution_count": 28,
     "metadata": {},
     "output_type": "execute_result"
    }
   ],
   "source": [
    "m1_v= m1_r.dt(e) # diff: deriva respecto a t en el sistema de referencia N\n",
    "m1_v"
   ]
  },
  {
   "cell_type": "markdown",
   "id": "f372b9b9-3e0b-4448-899a-4b08c60929b2",
   "metadata": {
    "id": "mWxqVQDoU-zS"
   },
   "source": [
    "Y para la derivida de la posición de la partícula de masa $m_2$,\n",
    "$$\n",
    "\\dot{\\vec{r}}_2 = \\left( \\ell \\cos{(\\varphi)} \\dot{\\varphi} + \\dot{x} \\right) \\hat{x} + \\ell \\sin{(\\varphi)} \\dot{\\varphi}  \\hat{y} ,\n",
    "$$\n",
    "Sympy aplica correctamente la regla de la cadena en las funciones trigonométricas."
   ]
  },
  {
   "cell_type": "code",
   "execution_count": 29,
   "id": "544c805a-0ee7-46a2-863f-4582619493a1",
   "metadata": {
    "colab": {
     "base_uri": "https://localhost:8080/",
     "height": 38
    },
    "id": "VVimxQ5ZU-zS",
    "outputId": "f6979568-248f-40ff-d55d-a37119804520"
   },
   "outputs": [
    {
     "data": {
      "image/png": "[encoded data removed]",
      "text/latex": [
       "$\\displaystyle (\\ell \\cos{\\left(\\phi \\right)} \\dot{\\phi} + \\dot{x}_{1})\\mathbf{\\hat{e}_x} + \\ell \\sin{\\left(\\phi \\right)} \\dot{\\phi}\\mathbf{\\hat{e}_y}$"
      ],
      "text/plain": [
       "(\\ell⋅cos(φ)⋅φ̇ + x₁̇) e_x + \\ell⋅sin(φ)⋅φ̇ e_y"
      ]
     },
     "execution_count": 29,
     "metadata": {},
     "output_type": "execute_result"
    }
   ],
   "source": [
    "m2_v= m2_r.dt(e)\n",
    "m2_v"
   ]
  },
  {
   "cell_type": "markdown",
   "id": "e9313d96-0c65-444c-8a5c-35f32e309ac8",
   "metadata": {
    "id": "UUgiPSECU-zS"
   },
   "source": [
    "Y ahora con estos $\\left( \\dot{\\vec{r}}_i \\right)^2$\n",
    "$$\n",
    "\\left(\\dot{\\vec{r}}_1 \\right)^2 = \\dot{\\vec{r}}_1 \\cdot \\dot{\\vec{r}}_1 = \\dot{x}^2\n",
    "$$"
   ]
  },
  {
   "cell_type": "code",
   "execution_count": 30,
   "id": "1b21d147-0477-487e-96f7-951fbe84feab",
   "metadata": {
    "colab": {
     "base_uri": "https://localhost:8080/",
     "height": 37
    },
    "id": "KknNKGewU-zT",
    "outputId": "9e1d5ff2-1299-4b81-99db-3ebc55c5ae11"
   },
   "outputs": [
    {
     "data": {
      "image/png": "[encoded data removed]",
      "text/latex": [
       "$\\displaystyle \\dot{x}_{1}^{2}$"
      ],
      "text/plain": [
       "  2\n",
       "x₁̇ "
      ]
     },
     "execution_count": 30,
     "metadata": {},
     "output_type": "execute_result"
    }
   ],
   "source": [
    "# velocidades al cuadrado es decir producto punto con si mismo\n",
    "m1_v_cuadrado = m1_v.dot(m1_v)\n",
    "m1_v_cuadrado"
   ]
  },
  {
   "cell_type": "markdown",
   "id": "77b0e4ee-9625-4832-8c0f-0c8f2ff181fd",
   "metadata": {
    "id": "t-V6OvTvU-zT"
   },
   "source": [
    "$$\n",
    "\\begin{aligned}\n",
    "\\left(\\dot{\\vec{r}}_2 \\right)^2= \\dot{\\vec{r}}_2 \\cdot \\dot{\\vec{r}}_2 \n",
    "&= \\left( \\dot{x} + \\ell \\cos{\\varphi} \\dot{\\varphi} \\right)^2 + \\left( \\ell \\sin{\\varphi} \\dot{\\varphi} \\right)^2 \\\\\n",
    "&= \\left( \\dot{x}^2 + 2 \\dot{x}_1 \\ell \\cos{\\varphi} \\dot{\\varphi} + \\ell^2 \\cos^2{\\varphi} \\dot{\\varphi}^2 \\right) + \\left( \\ell^2 \\sin^2{\\varphi} \\dot{\\varphi}^2 \\right) \\\\\n",
    "&= \\dot{x}^2 + 2 \\dot{x}_1 \\ell \\cos{\\varphi} \\dot{\\varphi} + \\ell^2 \\dot{\\varphi}^2 . \n",
    "\\end{aligned}\n",
    "$$"
   ]
  },
  {
   "cell_type": "code",
   "execution_count": 31,
   "id": "51e1a66c-bd40-40a1-80f5-147049518a4a",
   "metadata": {
    "colab": {
     "base_uri": "https://localhost:8080/",
     "height": 39
    },
    "id": "oQkT5b4GU-zU",
    "outputId": "08d91b74-e90c-4dd0-ce8a-396040092f84"
   },
   "outputs": [
    {
     "data": {
      "image/png": "[encoded data removed]",
      "text/latex": [
       "$\\displaystyle \\ell^{2} \\sin^{2}{\\left(\\phi \\right)} \\dot{\\phi}^{2} + \\left(\\ell \\cos{\\left(\\phi \\right)} \\dot{\\phi} + \\dot{x}_{1}\\right)^{2}$"
      ],
      "text/plain": [
       "    2    2     2                       2\n",
       "\\ell ⋅sin (φ)⋅φ̇  + (\\ell⋅cos(φ)⋅φ̇ + x₁̇) "
      ]
     },
     "execution_count": 31,
     "metadata": {},
     "output_type": "execute_result"
    }
   ],
   "source": [
    "m2_v_cuadrado = m2_v.dot(m2_v)\n",
    "m2_v_cuadrado"
   ]
  },
  {
   "cell_type": "markdown",
   "id": "67fa5259-d5da-4159-95b8-42f793ea35b4",
   "metadata": {},
   "source": [
    "Esta última expresión puede hacerse más clara expandiendo el cuadrado de lo que está en paréntesis y aprovechando la identidad de la suma del cuadrados de senos y cosenos. "
   ]
  },
  {
   "cell_type": "code",
   "execution_count": 32,
   "id": "a320fbe4-aec2-4091-a3c4-5794c6359b4b",
   "metadata": {},
   "outputs": [
    {
     "data": {
      "image/png": "[encoded data removed]",
      "text/latex": [
       "$\\displaystyle \\ell^{2} \\dot{\\phi}^{2} + 2 \\ell \\cos{\\left(\\phi \\right)} \\dot{\\phi} \\dot{x}_{1} + \\dot{x}_{1}^{2}$"
      ],
      "text/plain": [
       "    2  2                          2\n",
       "\\ell ⋅φ̇  + 2⋅\\ell⋅cos(φ)⋅φ̇⋅x₁̇ + x₁̇ "
      ]
     },
     "execution_count": 32,
     "metadata": {},
     "output_type": "execute_result"
    }
   ],
   "source": [
    "m2_v_cuadrado.simplify()"
   ]
  },
  {
   "cell_type": "markdown",
   "id": "767c12f1-bc74-4fad-8e10-8cdf65c9d2cf",
   "metadata": {},
   "source": [
    "Pero todo esto un alumno que cursa esta asignatura ya lo ha demostrado sabe hacerlo al aprobar sus correlativas.\n",
    "Así como una calculadora de bolsillo el utilizar ahorra el tiempo que insumiría realizar manualmente la aritmética aprendida en la escuela primaria, la biblioteca `SymPy` hace lo propio en relación al álgebra y análisis simbólico."
   ]
  },
  {
   "cell_type": "code",
   "execution_count": null,
   "id": "e3dafa69-089f-4423-9f07-360fa907b09d",
   "metadata": {},
   "outputs": [],
   "source": []
  }
 ],
 "metadata": {
  "kernelspec": {
   "display_name": "Python 3 (ipykernel)",
   "language": "python",
   "name": "python3"
  },
  "language_info": {
   "codemirror_mode": {
    "name": "ipython",
    "version": 3
   },
   "file_extension": ".py",
   "mimetype": "text/x-python",
   "name": "python",
   "nbconvert_exporter": "python",
   "pygments_lexer": "ipython3",
   "version": "3.9.2"
  }
 },
 "nbformat": 4,
 "nbformat_minor": 5
}
