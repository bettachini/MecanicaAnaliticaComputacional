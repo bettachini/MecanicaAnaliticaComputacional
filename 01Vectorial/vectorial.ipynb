{
 "cells": [
  {
   "cell_type": "markdown",
   "id": "2f8f9957-048c-4581-9b91-7244ee40157a",
   "metadata": {},
   "source": [
    "# Mecánica vectorial\n",
    "[![DIIT - UNLaM](data:image/png;base64,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)](https://ingenieria.unlam.edu.ar/)    \n",
    "2022 [Víctor A. Bettachini](mailto:vbettachini@unlam.edu.ar)  \n",
    "[![by-nc-sa_80x15.png](data:image/png;base64,iVBORw0KGgoAAAANSUhEUgAAAFAAAAAPCAMAAABEF7i9AAAABGdBTUEAANbY1E9YMgAAAJZQTFRF////7u7u3d3dys7KzMzMyMzIxsrGxcbFur+6u7u7s7iyq7GqqqqqmZmZlJmTj5CPiIiIh4eHhoaGgICAfYJ9d3d3cnZxZ2tnZmZmW15bVVVVS0xLREREQ0NDQkJCQUJBOz07OTs5MzMzMTMxLjAuJygnJCUjIiIiISEhICAgGRkZERERDxAPDg4ODQ4NDQ0NDQ0MAAAADbeuvgAAAOhJREFUeNqtk+tyAiEMhQ+6XtroutZiveBdu+p2tXn/l3OQy8roL5fMMENC+HIIAI5sYEQ1DSRtP5zZkCpToubf2/oMMC0zX0QdiLqjmsD1sVKd8JSoNa8HvGRIclZCcZ5A7Yiag/s6oJPMYD8FKgIC3wG/+QP5DFIWot+DvBB1OxYAk+W2W88HqqwAOOZE6FuZbfWZZUn02fb1rTAHc3izZgQCrxWqSSFkH/IaKuSHEzEChfyk2PbwmqFX8EQo3jaw2Ac9DIFhD12Tn4CbU+RbTv+HHrj8jfAOacxflrc61/0psf9yZLsBr5WUrhUa3hEAAAAASUVORK5CYII=)](https://creativecommons.org/licenses/by-sa/4.0/deed.es_ES) \n",
    "\n",
    "---"
   ]
  },
  {
   "cell_type": "markdown",
   "id": "837b47ea-501d-455e-8676-521d111c9a01",
   "metadata": {
    "slideshow": {
     "slide_type": "slide"
    },
    "tags": []
   },
   "source": [
    "## Posición en marco de referencia cartesiano\n",
    "![Wikimedia File:Radius vector - position vector - ortsvektor - radijvektor.svg](data:image/png;base64,iVBORw0KGgoAAAANSUhEUgAAANQAAADwCAYAAAB440o4AAAABGdBTUEAALGPC/xhBQAAACBjSFJNAAB6JgAAgIQAAPoAAACA6AAAdTAAAOpgAAA6mAAAF3CculE8AAAABmJLR0QA/wD/AP+gvaeTAAAkYElEQVR42u2dd3xUZdbHv8+dVImhCQoqCApIQpMJzYpt7Wtl1bVRTEBY1rL62lfUdd21t1UhYlnr4lpW1/rCa1lRkYSSzACKK1awIAhJCClzz/vHcwNDSMKEyUwyk/P9fPJJZnLvnTvPvb97nnOe55wHFEVRIiBFm0BRWoYc4FltBkVpGZ4FvgFStSkUJToM8AXgAudqcyjqZ9TD7/dfB2Rtpxxjvi0qKnqg3tsnAHt5wjodeEovsxIvnAQ5z0NF5AnHcWY5jjPLGJMFXCkiZQ1se15YV2840Ekvs6J4jB07NmX48OH5YdZqlN/vr87Ly3uggc0zgc8BCfu5VltRiae/kTCMGDFiD9d1FxpjvqmsrBwbDAar621yCXA5sBbY2/OlBBipl1qJB74EslQZVVVVbwBdamtrjy4tLf2lgc06AjOAr4H9gAOBMiCol1rRoEQYZWVlDwB+ETly6dKl3zWy2Vv1XgvwnF5mRYMSYfj9/suBScAlixYt+k/Y+3/RS6iohWoGeXl5x4nIX4C3HMd5c9iwYf0cx8kGemKjeIqigooUEemMF6lzXXecz7fV7TPGPKaXUFFizxnAB9oMivpQiqKCUhRFBaUoKihFUUEpigpKURQVlKKooBRFBaUoigpKUVRQiqKCUhQVlKIoKihFUUEpigpKURQVlKKooBRFBaUoKihFUVRQiqKCUhQVlKIoKihFUUEpigqqrfBr2PNKuz6UoqigomUinNQF9uoOQ4AOepmVeOFLti8k4FTAXX0hPQtWvg/pwJ7YRdgURWkOQTiuBKoDIKVQjBXUvsDvvL8VRYmUAMwNgARAgvDzp7Cb9y8DXAzkkWBrCyvqQ7UKKyFbIDes+7drFZy/9SX3AlnA2dj1eBVFBdUYm+G39YSS6sCF9TZ7F/g3cAjgB3bV20BpKZKq61MKpQYG1QtS/Chw2BBY0cAu+3n+VS0wT28HRS2UxzLobaBbA0+MbgamNrLb58A72AjgpSTAEqmKCiouuDDVbA1A1LfCp0rj37Xaul/cB/we2F+FpagPBWdKI+NqBjoE4NAd7B8C7gJ6Acdix64Upf0JqgTGGBu9a4zOBi6L8HBvYxe87gOMBbL1NlHalaB8cIlAV2A9sMa1QQaAtcAPYq3PqCLYJcJD/uKJagVwhPejKMkvqCCkCZwg8LEDZ26G3hvhG+/Lne7AKAP3Gui4C5zezMN/D7wK/OwFLXRAWElu3oGUoB1T2sIH8EUAZFmY37QE9lwO/aP4qDRPVH2BVG15pd3QkKBakKOAo4lOnIp2+eLPUugegFtL7Q3cVpgLLAAysV3IXfQ2Utq8oD6F3VJgroE+Bp4KwDFt6PQ2Wr3zJnAWcJDeSkqbFdRi6FQDL7lwTy6cZewNe2Ow7UXbKoDHvL+nJUXQYpz4yJfDEu68L5S9uEgGtPZpxH1GgDdmNNCBALAsF8pLoHM6+AbYMDepcIbANAdWLIf+LqwOwZEOXBKET3KhvA1dSgHm2+cAUzyr9R12Bkb8yJcROE08cISfMSxhpilq8jiduQf4EXgvoQTlI5sQT3OhHMsj5ofWOo24P1EDsAioMXYmwh42hkCaD47ZH8rARu66wdXGji19LnABsHgzTMuDmkiCEp2gjwOH5cD7cf6KBwEZ2FD7krh9aoF0xKU3hgcxHAS8geF57ENqT4TxwChgLtWM43HzSwPHuBRhBIWcA0YSzkpNlpMQrgYOY5apIdlZAnsG4KSwR7sJwF1L7ayEcNHNCcDf6l4vgm4BqCiFyyP5nBhH+SIhCxgITMKG2+Npqf5IgQgF8od6JspQIP/r/e/u7fabJPtRIF8xURI7naVAZpIvV7cLH2oYfDfIDpQCsAyud+CpobAqrEvoB8YJPF/33nD4CVjswIkJclnLgeXAE1438IA49jka6WoaQSj0XoxsoMv0EPAXHjVlCf7cnoHhUi6UPu0qKFEKEwUW5NguYPgJDfd+XxOE2QGYGYA7BTYA/02wi1uLncW+GzCe1q9pscH7/X09h95vn1s80uieU2QQF0nf7axevgxjnOzYCk+RfRgvGQ12VSdKzyb3vUg6M1nGMEl6bysdSWGqbDuHc5ZZg/ACPi5uF0EJT0wnAjWD4K0GnDrH67xfn2vHexra/1QHBogNCNQJ8b0c+LiNCut/sZnEp9seLF8Cm1vBYz7U+/14vcfqBODVRv2OfLkYl3uAEPlyGoXmFWZICmt4CeFEOpLjWeTtGS8ZpHEjLpeRxinAa2E+z5EIb5HC+cAzjZ53iNeAMfiAAvka4RMM37KaAV4PoH6Q6mWEp5kuV3K/qUpqC1UCYxzoPxieDBPIgWGbfO75V2OaOOkhaXD3IPirsaHrAoHP2ri12uDdNOnYqVJj4uywHwtciuEOZppX6/33NKSRjOV86Y+hGw7DgbUYLgJgDTchzMNwExsaafupsgdp3IiwGkhB6tVIFI7xrPhrjZ73dMkGPsclBzgEw7U4vI6hG0Ihs8z25eF+4R0gm8r4jw/G1UIth/4huEZgXgDygc9D8KWxtSA+BAjCuznwmYFrlsHcHBteZwXsGoKcXFhQBQ/mQlUQRgrcCByRC+sSpBu4FFt8sxe2tNmDgBujAMVhGC5C6OI9xU9hpnl7m22mSVdq6EFjdQsLWQnmOq979hgwgXw5HZcghebpJj//QX4AcyWTpR/CPRgq6m1xNMI8Cs2GRo9RSSYuV/GoWb0l5pQvEzF8RKF5qcF9njfVFMgPGAYD/5e0gnLhOgMLxdZyGAjk+mB34La6bX4DoeVwUgieElgcgP8AFSGoceCquiDFMujhwgvAZYPsTZpIVHhdpJXYCbf/xlrYlg1VF5r32NF40mY64wMMPzQazNhqUd7FcBWGHGaZmyPoY4p34TthAIdfwvyiAYQYisMDTR6i/phSvhyHYR9mmT/u4MPX4NAlqS1U7taSXuGP6w5D2fbJNdDeXCOXQT+gRwhWDfJSMgBWQUYFvGzghVwbSaME+g6BLxIwaHEn1qcciB0zi6+lTcNHCIhgfA8fi3EBl/nN9N06e8L6Ocwvmgq4VPNKxMcpkOEYTmUmkyPYugaJf2XkVp96VF9M4eTAyhx4f3CYmAA2QaGBykq4wusm9vLBqSQu//a6vCOxhTgz4/jZNd5Nnx6B/PsCtV5XqvmC8mbCeNHCiQj/4THzU0THmCL7IFxOGtMjHHTOiOghkWyCai4roKfAdy68nQmXB+AvYqsafUBi8yN22tI64EjiNeE2hbVeV7NHk9udJx1wOBnD+zjbBJF2jPXhXNaznnGSRoizgQocXoxo/0nSBZdbyWDKNlG7KdLU+F5Pr02Tt8vXEuwPq/F8qSTlC+xcwP2xVZjub5ZvZUjxto6su3O/2UiB/BehTwNdrF1w2Z1H+JIM7sDhTwhXIIxnuqRThQ9DP2aapUyS3vi4EWE/Cs3B9Y7UGRC6kUkN1yG8h6E7Pl4O+6zdgFuAMfRkODOMLWMwXjJI4T5c/kQFWdiZ/nXdxgLwoo7bRhezqKU7LovVQikAVda9ZCZ2ulWvHV6r8ZJBvvRHtli2g5ks/RocTN2eORiOb/D55fA2k3kPw1s8bL7DFgTtyGbmATMRvvMezccAF2B4rgELJYCPWgLY4ZJhwCc8aMK78gcDBcDLW8Q0QxzSeArhCAwBUviOAtlEgSwiXz7AeN7f9l3T44Cv2YtPVFBKfWHdbl1NjgL2asJjGA1MBD7EcBVCES6TSGFEBFbtcYRfbTfrwEcFwoe43MYsY63JOl73zullYCKzzFov4HA08DUdmN3A8ecAMwlxGIUmiMOvkXrbGY4G1pHKvWGd4F0QngZ6U0s2wkgM0zDMw+FLXJ5qpIt5KvAEM4yrt1AL0AYmx8aC7tgB8CM9h7tlKZC/UyA37NS+k6Q3BVLJhXJEBJ/TiwJZx3mydZB3mnSlQDYwWc5sge+xPwXyPROkW2tcJLVQiRW0+BAowUY0R7XwnXA5MJEC6dHsfX38EcMDPGIiGUS9ALiXJ83W6G4NlwP/Yqb5Rwt8k9sw/E/E0UMVVLvnJ2AOtvLS1BY76sPmR4TLgGcjmuy6tX9lgKWkcV2DQY18OS7sdUfgMNZza70u2jfUMq0FrNPvgWpmbp3WFm+Sss5cKycYxpMs7BSuORw3p9rJzj3LxZ3LPwYv3+kj5svlGPoyy0xtgRv8Wgyn0oPR/IyPzfwNwx3MMitavCUmy6EIt9CBX3G3qWytC6IWKrEpB+4GBqek93x96vE97ztwQKdXOG/pzi/UXWjuwOX2Fnpcz0Howmo+o5r7cbk5JmKy3c5F1HBaa4oJdJWJZOHNWl/WHevKahFhd2rSO9LEDJQd8ohZ1SJnNdOsBPoyTnw8b0IxbYEHTTltoNaICirRsQOiN1CzYcAzbyxaQGa3p/nn4NVt6hxjLaY2hAoqUZkqWdRwPYbpQCopHVbx2hHPYWdWKCooJUKLlIrDRGr5K4ZsBINQjRu6B8LSIxQVlNIEM8RhNacD9+DSEcKyXx0catY8g53/p7QiGuVLBPLlKL7jU2A2dhZ1eBRPEF7i8T5l2JVBFLVQSiNCOhC4D0N/oOF6eYbNGO7wXnXXRlNBKfWZIoO8saBDscmGTQ3Ar+Fh84nX21iljaeCUrYKaR9C/AmX07EVZ3fUJa9AuCvs9Q/aiCooxU5IvRWXMzH4iHyFRB9sSWEwwGDabm1CDUoocbsK5wF1qQuR5vCEEF5m1jYluDpoY6qglIfNbfSkAwY/wu0Y1gObdrDXZhzuC3stap1UUEodM4zLTLOMQnM9wl7AE17qeGP8yEzzkTacCkrZETV0AI7CNBrdq8DhnnrvGWC0Np4KKnmYKgPJl1lRLak5UXYllTexRT4BliHbLSyQgmkwia5CL0LrolG+5lIg44CGywDXAob9EC5ksizB5UUKzZ+acexUDM8jdkkfYDkhDsHHJIQbMHTwghav8JBZX29vAUr1AqmgEguXQKP1uF3ScbgBwypCvEAqD0Z+YDFAobciBcBqQhzHbLOOGXIna5iO0AGhErNNMCIcjfIpLU+rVT26WHqRL7k7afnu8JbrFApkA/kybJv/T5YJTJYaCuSrJh6O1+rVVx8qcRknvnoW6gcKTbDZx8mXqUDdmrjVCKdTaJbU607+C8HBhNWt277Lp1OPVFAJ6Uf9lgJZTuewlQAL5FaqqGCyDG3WsSbLmZgtSYEucC6FZu5228026xAu265A5LaC+kIvjvpQiSSkHsBfgcOxVVwXehbmaurqrdc046aeImNxeSLswfYHZpnnG92+0Ny7gyPurhdJLVSCIAbhYhwux2yJ8hUxRcZimIwtdP9BxKuoF8hgXF6ibiFrw63MMvdEcYIG6KPXSS1UgmCEQs8KFUidJViBy42kcEi9wvdNM1X2ppbXgU7eO88wM+qAgvpQaqESln7YxbwOB37XLDFNk67U8jZbC//PYz0TIlxEbEeCUh9KBZWQDMOu6r6eWSbywdRLJZMaXmFr7YciUjiF5011C11LnXqkXb4Ew9b9zgVqqeWhZuzno4JnYMvqf//F5USvQGNLoQO7aqESjK6MANIxvB1xAAIxdGImcIr3xk8Ix2+3wnn0XT6deqQWKsEQDvf+ejXiffK5CcMk79UmXH7NI+azGJydTo5VC5VwghoLgOHtiLafLAWYLUu91CCcxiMmFomAmr6hgkowpku65wN94603uyMxnYTwty1SFAooNG9pQ6qgFIDNjAYyERbscNsCGYXwXFi3+koKzeMxtZ2aAq8+VEJhSMdwEy4v7MAy5SC8Duzi7fcgM83tcThDjfKpoBKIWeZt2IHvNFF6emLq4olpDj2YHhe52zJi8/RCqaCSA7uG7OtAb68T9i7pnM8M48bpDH7Ui6CCSg7sgO8LQF36RoAaTqXQVMXpDHTqkQYlkoQZ4tCJp4EjvXe+JYXjedz8Eucz0fQNFVQSsJq7MZzhvfoZOLpZE2ZbzofS9A0VVML7TdcCv/deVeJwcsxWOt9xl0/TN1RQCUy+nAPc7L0KIZzDw2Z+K56Rrr6hgkpQJsvxGB5n69pNF1NoXmrFM6oLmyutiEb5ds4yjUD4x5b2E26g0PytDZyZDuyqhUo4n2lfDK8CWZ5dKKTQ3NQGzkzTN1RQCcYE6Qa8QV142vBvejC1DZ2hpm+ooBKE7Yv4L2ATZzHD1LaRM9T0DfWhEqabV7+I/zJCHM+TRi2CooJqpmtiEB6BbYr4H89ss66NnaiLToxVQbV968TtwPneq40IJzDbfNUGz9QA3fWCqQ/VdomkiH/bEpSOQ6mg2qyYzoqoiH/bok2lbwTgxgBIKTwq7eReU0E1hK1X/viW9hEua7KIfxtx9mhD6RtBa9mPd2CwgexlUCg0umawCip5faYGivjveNWLtkKbSN8IwCUC/Q0clAOBXBgn8FkQ7lJBtSculD7AW9QV8Tc83QJF/ON5LQfFWCjnB+CrYN0sEWAZ9AjAkiAc65lJI/CCA3924Zog3BuA2QbedeC2d5I8EKaCqmOadMXhdaCH98481jGxBYr4xwvX3vOxoRR+L3aBg14+yK57PwRHAftugPe8yIgYGBaC51x4MBcu9sE/gfkC+x5ul/ZWQSU1sS3iH09ilr4xGO7zwSsA5WFTnBz4FfDGgVAJsNha96cduH+oFyTJsXU2lglckey3ko5DxaeIfzwwQF9iW5uvC1Drh41e4CFL4GSB/LoNUm0ZgF0F+i6z1qvOfG4C+qugkpq4FPGPJzEd2BXoDKwzNqKIwFQgLcNOGK7bppux6g552+PCJh9cAqxRQSUzBdwMW4r4lwHHUhiTIv5xeToQ+/SNLsBazzr1EjjRwNx+nsXyqBsLW5lrfadtKIExDswBvjIwfRdYXgF3AkN8MGkgfJbIt1T79aEKZDJsieDVIIxjllmUyOaW2A/sdgaqltnAzRlAtQsvhm9QA/8BNglMqz+YK2CGwEfGLvydlguL+8BmgS8NTEl0MbVfQU2WkyCsiD/kJ0ERf4etZcxipdjNwNAQ3AM8DoxO8wIVdQyHnwxcBRwahLmlcGYpnBCAu4PenMhKeBLIKYHB3mDv7rkQTIZbq/0J6kIZ7RXx93nvXMks8wRKJFGPFw1MXQvneOJ9fYDXBQwnF+4XGAUsduBU4CAXHh0ETwDk2eVUn3VgYhB+5YT5YOpDJZZlykF4jfgX8Y9Xly+mq2/kwvfATIAA/MaFBxrbdjAUYX8axIWHHXjHgJNjAxYqqHha0hEjRgwJhUJ9AYwxK4uLiwPeTRQZU2RP3LAi/vCPOBXxjycxK9KyEtL7QRXAMujtQu0QbzB3ZxgCxQFY4UKJac511C5fdAwfPvxEv9//qogc7PP5NjqO44jINX6/P+j3+w+PMADREZfX2LaI/wVxLOIfpx5ZbNI3gtCrCv4PYA74BC6t3lrcMxreKoNnkumJ1qYtVF5e3lkick1GRsZB8+fPD18g+p9+v//3wJt+v//I4uLiDxo9yHjJwPAq0mpF/ONJRZTCucqFuYPrddVq4ecU6Bq0S/ksdeHW4fBTNJ+1HLqGoKxuhoVaqBiTm5ubJSIPGGP+XE9MABQXF99vrwuN+kBVKRkOqTyJcIj3VmsV8Y+XDxXtOJQfeD8AqwJw81I7d4+hUPEjDArBmblwxeAopjithOxSmFQLt4sXpFBBxYHMzMxjgK4isqSJG2geMGrkyJFdG9rgtNMW/64NFPGPJ9Gmb0w3dpB2HwPX+GBxEEoCcGF3yBgC66M9wUrYzcAwAw8Nbtulox22RoITX1Ai0h8gJSVldRPbfAEYEdmj/v8eGXYVqzrtf7r3chOGk1qpiH88faioVt/wonjfeE8rB9hN7FjRfcDKILyxDI6KJvt2CHwxCKYPgoVtvD139Sz+Y8DIhPehjDEhEaG2trYT205tCd9GABzH2WYspNZJNQ/k2WKuRiR06srHb/3TuxM7EDZZM9kIgbkOsm+N8juG4L8G8uopNVMgEzjWhYOXweZSeNmBu3NhWZI26QbgE2A8MA4owc4CuRdYnYhBiVLPCo0Gvm5kmz5AcMGCBVu6DnPA53NrUg778hX5oPcJ5o//meI7+bMnbnZJbgT4DTYpKlozt4P/ZwlkGbiwEiY8A7V/gBVroDoJm7UuN64DMMb7+R2wFDsHdHnCCKqysnJeRkbG147jTAOeZ/uxCgc41hhzS/ib+8KUdNjrjrlnVJfDl9ACHf8EwLWP0F172Um+O00GdM6EbjvSby2Ub4QvHobgj/AaUJ6EzToRLzDj3X/fAyuAW73fiUVeXt5Yv99fmZeXd0t9fy8vL+/a4cOHb1OjoAQ6F0F5AGTp1lnk7QUfLTDjIADPBkDq/5RCbQC+D9hAxUQvDb4fcFISt+kHwLfY+YoTgLRoLXyr4/f7hxtjbhORzsaYN0WkCuhojPmwqKjohfBtP4ZHs2BCOXw2Cgaa6HtAiYQDHE4U1WMFnKC16nuH3SBrxVqfpwRmDfaCFt69cwVwW5K2ZyfgUs9nWpd0327IkCEdRowY0feggw7ataH/ByG3FEKl4AbtxMz2hkOUiwWUwm8C1sJvDMDqUngqACMa2XwSNhKmJJKFipSPoGhX8JfDc6Ph7HZ4LX3AdGxqxc4KarmBtQ7cKfB6buOBhv2wftZHidhQY8aMyayqqrrWGJMCYIxZV1RUdNuYMWO6VFdXXwqkAjWhUOjOJUuW/NLu7qQS+G0AZBFsXrY1MtMeBXVJnD7rEBK8jvqIESP6+v3+sry8vG3Gw0aNGrW73+9f6/f7d+o+Svh8qCLYpdIOPCJwfU47qFvQuAsU2/QNj66ec/5jIjfWwoULvwD+LiK5w4YN61T3fk1NzVhjzN3FxcVr2qWgXLipA3StgG8kiu5OkhDrNXYNcCIwP0na62Eg0+fznbXlCxpzrog8EI0jm7CUwr6pXjenA+TnQU0794djvfrGKGAVNhU+4SkuLi71Hg4TAPx+//7AF8XFxRvapaDKYHYq+DbCW4NsCeX2TixXVEzD1i58P6n6ySIPAyMPOOCAMcaYycaYB6M5XsIKqhSOzobDaqG2A1ykWsKNsQ91LmxZ3idp2Lhx4/PAWsdxrhORbkVFRZ+2O0EFIa3CVt2hGm4farsh7Z26yrGxoD+wiCTsUn/++edVxpjHgOONib5YT0IKqhL+Jwt6VsLP6XCLammLoPrE6NjdaWKGdaJTW1tbCCwrKiqa2+4EFYQ9HLjO69RPGRpbvyGh3AFiY6k7YQtc/pisDZeamtrbGHMfLVAsJuEEtQEeSoP0MvhkaAOlfts5sciAvQA7mzx5nU/XPUdEnmyJYyVUXb5SG2U6RcDtABeqfhr0oVoyMHECdrJt0k0yHjVq1F6ZmZnfl5eXnwJ8VVRUtKkljpswFkrAKYNHDbAJZg2JfWH89u5DdQT2IIaLuLWy3/SXsrKyn1zXvVREWmzGfMIIahFclA0DNkNZGlyt+tm+5xID6/Rk0jaW617rOM4J++6776HFxcWb2uyJlsJFQbi3yD7hWoTwxMHF2tVr6uE4uoWO1Q8Yok3ayhYqAFc6cLELXTPhjRUtlC9TAXdmQIcK+HQYPKqXrdEu3+gWOs5ewHfapK0oqFK4GDiwGkYPhnMFHq6BF8NXDN8ZgpDbAcYLsCuMb2dZuK1BN89/+lmbIgaCKgF/Kfw5CAeE3eQjA2G5N0tgTwObNsMZaTA8COME5hu4xoXDojnBDfB3B0w5/CMnPukJiUpLpW+MB17W5oyBoBZBNwduMPBrgRcFTBAOELukyZbFvYbBdw6syoDnDWS4sMmB/wWOGRzFGMZSODsbhtdAVUeb36/ElnOBp7UZYhdg2LcIUoNwQACkBPxBuE3A+dAWPtxixYKwaTnsE2bFzgjYGg875dwWwS4fw88BkGJbDERpmmgzdvcmuSsYxYUmB3YHw3+9vsSSIKxx4OoNcJ7nx1SGmbnpAt8N9OrgeZ7tQgHHwMFWc80jBDdnQZcK+ManiYOREs00rMHAu9qEMRRUmDgkAB8KLG5k+ZH9ga4B210oFxDX1pf8m7sTa6eWQN+QDXKQBQW57TtxMFKiGYfaBzttqUybMQ6CWgnpVbCXaeTGFqgysH6QXXu1oa7juQZOSIXpA2Dtp7BbDUxPhzv7NVC3vBxmZ4OvHN4aDW/qZYqIuqlHzZ1B4gNySbLEwTYZlKijylqLR4DDpIHSY8ZOT+lTYi3VdqyF5wRCtfCMgKmFmxx4tCExeYmDY2uhNlMTB5srqJ2ZerSPt69apxa6CA0ShF4unGIgQ2y3rcjAaoF8Axm18K9h3uDfUhjgswlon/rgrIHwmYATgHNSYd7+sHolZFdZX+oT4PaGljMJQloZfJkFPSrhzyPgWr1EzbI0Z9L8JTavBP6qzRdjCyWwu7GNvX4wvOYtjvWCgYkG3h0WNpI+FD51bBi9woVlAfg6AO8Asr+XmNYPNhq4Azg01Eipr01wRRb02Axr0+DPenmahQBfNHOfAuBBbbo4WKidJQhpaWDqVgwPDzQ4cIHnbx37ExxxONSGdfV2r4Gv0iDdwLhczXWKtYUagK2x96E2XYIRhD0C8MoqyHgHUgLwcQDumhO25OJ8eCkA8hEs0BbbKVJoXhf5cKCLNlsrBCVagJwQXNEHNh8OtSE4W2DB/nZWMyUwJlsTB6OlOWHzPbAR23XabMnX8Xfmw6cBkIXwkLZIVA/H0RFudzaQoU2WuBaqUYphSkfoXwUbUzRxMFp/OJLKsXnYQNFmbbIkE1SJraZzm+cA/OEA+EUvSVTsqLZ5KnYq2HvaVAlOKexb/7358GgA5BNYLkmwcEECdPmmkGCFedRCNd4fWVBquxuATRzc1UsczIIJmjgYc3KwIfJabYoEF9Qi6GZsd+PJlZAO8IuXOFihiYMt6UONbuJ/3Uji6q9thbiY/wwYGrIj+ftUweuL4PE0L3EwWxMHW5LG0je6Yh9ka7WJkkBQAiMdyBYwAgembE2Lb88rDsagmRudaX4mOiSRPIICDq6bpW4gw9ir76bC+IAt4lLkQGUNlAxN4hracWD3Bt47AZuaoT5qElmoAQ106h3PUf4jsNmFUCocigoqGh+qfvpGR6AnSV6bvF0FJd6xos1sYpNagTUh8OfYFBBl56n/MDoVrWOYXBaqKwwkbBJsPctVAZRUwXF5sEEvR9Q+VHj6Rg429yykTZNEFsoHQ03DZZnXOfD3QXCwiqnFunx9w65rdzTgk3wWSqxflF7vvZ+AqwfBbL0ELUp373c37DSk9dokySeoMWbrI1QEfnDg5FzbHVFatstXFzY/D5sdrSSboFzo4TlQrgtBB36VC99r08eECmz112e1KZLQh/oUdiuHrGqoBt4tg1Eqppj6UMcD5ejKGclpoR6CiyZC+hK473y4AZtynYEtH1aDXRDZh80cNdh0jlpskCIdO+hbCWzyfIIMbLmr6hjum4ZdhqexfTt67dbUvps9a9HYvuu9LlqXJvbdBTvc0NS+IWzKS5r3nQzwtt7WrYcvhsdO/wUeXQszr926msM+3o9gJ8sOAPb0btxsbMHFTt4NtDs2Rb4us7R3I/tWejdiJPvSwL5Z3r6dvX27A/29m1l2ct8Mb99e2MFW44mhbt/NntgGhe3brd7nRrJvF2wxnG7e9/0XmtaetFyPTRcw2hSKEh17e926EdoUihI9c4CHtRkUJXoOwS4nuZs2haJERwqwFJimTaEo0XMxdiUOLQSiKFHSHRuyHatNoSjRM5vmL6WiKEoD+LEj+r20KRQlOgzwEXCVNoWiRM8E4HPq5TwpitJ8srHFE0/QplCU6LkbeEubQVGiZyA296a/NoWiRM+b6MLSitIinA58i80HUhQlCjKBVdhlJRVFiZIbgQ/QxEFFiZpe2MTBodoUihI9LwIPaDMoSvQciU0c7KpNoSjRkYKtSjpZm0JRdo5U4DHv7z9gl5rxabMoStOWpzFygFOwE18vB05m69Iojt/v7+M4jixcuHDLEip+vz/VcZy9Xdf9vri4eJM2r9LeaKoU81HYwpE3YKcYDfL8KPLy8k4CXnNdd8GwYcP61e0gIn8VkRtd1+2mTau0R5oaS3oEmBT2ugx4ApgOMGTIkO6pqamlxpivs7KyxpSXlx/uuu7ERYsW/RZb+VRR1EKFsVfY318Dl9SJCaCkpORHY0yBiORt3LjxFtd1J2dnZ09QMSlKw3zriWMJkNfYRsOHD5/t9/slLy9vpDaZohaqYbp5/lMAOAYoarTPaEwV8KmI3Of3+1O1SRUVVAOGB3gDOAD4oQnrdAWwQkROBYYYY27RJlWUnSAvL+9kv9//Ml5gw+/3X+73+928vLzjtXWU9opvZ8Xkuu6lPp9v/OrVq8sB1qxZ83HPnj39wCk9evRYv2bNmqA2r6IoiqIoiqIoiqIoiqIoiqIoiqIoSvT8PzFwKtAXOgM6AAAAJXRFWHRkYXRlOmNyZWF0ZQAyMDIwLTEwLTI2VDExOjQyOjA0KzAwOjAw7qwbyAAAACV0RVh0ZGF0ZTptb2RpZnkAMjAyMC0xMC0yNlQxMTo0MjowNCswMDowMJ/xo3QAAAAASUVORK5CYII=)\n",
    "\n",
    "$$\n",
    "\\vec{r} = r \\vec{r} = x \\hat{e}_x +  y \\hat{e}_y + z \\hat{e}_z = (x,y,z)\n",
    "$$"
   ]
  },
  {
   "cell_type": "markdown",
   "id": "307d6e3e-e8fa-473b-9c99-8f82b4562c07",
   "metadata": {
    "slideshow": {
     "slide_type": "slide"
    },
    "tags": []
   },
   "source": [
    "## Vector posición\n",
    "$$\n",
    "\\vec{r} = r \\, (\\pm \\hat{r} )\n",
    "$$\n",
    "- **Módulo** \\\\( r = |\\vec{r}| \\geq 0\\\\)\n",
    "- **Sentido** indicado por el signo $\\pm$ frente al versor \n",
    "- **Dirección** el versor \\\\(\\hat{r}\\\\) en un espacio 3D se descompone en $\\hat{e}_i, \\hat{e}_j, \\hat{e}_k$\n",
    "    - En un marco cartesiano estos son $\\hat{e}_x, \\hat{e}_y, \\hat{e}_z$"
   ]
  },
  {
   "cell_type": "markdown",
   "id": "346e7fa0-6941-40ab-9ae1-5b12336d6901",
   "metadata": {
    "slideshow": {
     "slide_type": "slide"
    },
    "tags": []
   },
   "source": [
    "## Operando con vectores\n",
    "### Operación suma\n",
    "\\\\[\n",
    "    \\vec{a}= a_i \\hat{i} + a_j \\hat{j}+ a_k \\hat{k}\n",
    "\\\\]\n",
    "\\\\[\n",
    "    \\vec{b}= b_i \\hat{i} + b_j \\hat{j}+ b_k \\hat{k}\n",
    "\\\\]\n",
    "\\\\[\n",
    "    \\vec{c} = \\vec{a} + \\vec{b} = (a_i+b_i) \\hat{i} + (a_j+b_j) \\hat{j}+ (a_k+b_k) \\hat{k}\n",
    "\\\\]"
   ]
  },
  {
   "cell_type": "markdown",
   "id": "a790aac9-c739-4409-9de7-2566a21c2a1b",
   "metadata": {},
   "source": [
    "## Operaciones simbólicas en Python\n",
    "- [Python](https://www.python.org/): lenguaje de programación\n",
    "    - interpretado: ejecuta linea por linea sin compilación\n",
    "    - interactivo: \n",
    "    - orientado a objetos:\n",
    "- [Sympy](https://www.sympy.org/es/index.html): es una biblioteca de Python para matemática simbólica\n",
    "    - Módulo [Physics: Classical Mechanics](https://docs.sympy.org/latest/modules/physics/mechanics/index.html)"
   ]
  },
  {
   "cell_type": "code",
   "execution_count": 15,
   "id": "9903024c-8eec-4c47-b36a-8c49e840c4fa",
   "metadata": {
    "slideshow": {
     "slide_type": "skip"
    },
    "tags": []
   },
   "outputs": [],
   "source": [
    "import sympy as sym # importamos funciones de cálculo simbólico\n",
    "from sympy.physics import mechanics as mech # de sympy utilizaremos funciones de mecánica"
   ]
  },
  {
   "cell_type": "markdown",
   "id": "60433910-2738-48fe-9783-8919650f6d0d",
   "metadata": {
    "slideshow": {
     "slide_type": "slide"
    },
    "tags": []
   },
   "source": [
    "## Operación suma de vectores en SymPy\n",
    "\n",
    "### Primero establecer el marco de referencia\n",
    "- Los \\\\(\\hat{i}, \\hat{j}, \\hat{k}\\\\) que utilizaremos son los del **sistema cartesiano**: \\\\(\\hat{x}, \\hat{y}, \\hat{z}\\\\).  \n",
    "    - Son lo que usa por defecto `mechanics`."
   ]
  },
  {
   "cell_type": "code",
   "execution_count": 18,
   "id": "a62c71fd-78e1-4f96-a930-ca975784ca59",
   "metadata": {},
   "outputs": [],
   "source": [
    "E = mech.ReferenceFrame('e') # sistema de referencia cartesiano fijo al suelo"
   ]
  },
  {
   "cell_type": "markdown",
   "id": "688697b2-fb0a-4cab-89b4-6784e8b981b9",
   "metadata": {},
   "source": [
    "### Creamos ambos vectores"
   ]
  },
  {
   "cell_type": "code",
   "execution_count": 19,
   "id": "b057635b-bb80-42b5-a809-35acfa47862e",
   "metadata": {},
   "outputs": [
    {
     "data": {
      "text/latex": [
       "$\\displaystyle a_{x}\\mathbf{\\hat{e}_x} + a_{y}\\mathbf{\\hat{e}_y} + a_{z}\\mathbf{\\hat{e}_z}$"
      ],
      "text/plain": [
       "a_x*e.x + a_y*e.y + a_z*e.z"
      ]
     },
     "execution_count": 19,
     "metadata": {},
     "output_type": "execute_result"
    }
   ],
   "source": [
    "a_x, a_y, a_z, b_x, b_y, b_z = sym.symbols('a_x, a_y, a_z, b_x, b_y, b_z')\n",
    "a= a_x* E.x+ a_y* E.y+ a_z* E.z\n",
    "b= b_x* E.x+ b_y* E.y+ b_z* E.z\n",
    "a"
   ]
  },
  {
   "cell_type": "markdown",
   "id": "845cf00f-348d-4fc1-ad15-e37ca8bd3a7e",
   "metadata": {},
   "source": [
    "### Les sumamos\n",
    "\\\\[\n",
    "    \\vec{c} = \\vec{a} + \\vec{b} = (a_x+ b_x) \\hat{x}+ (a_y+ b_y) \\hat{y}+ (a_z+ b_z) \\hat{z}\n",
    "\\\\]"
   ]
  },
  {
   "cell_type": "code",
   "execution_count": 6,
   "id": "84df814a-b0b2-42db-b011-366e23052231",
   "metadata": {
    "slideshow": {
     "slide_type": "fragment"
    },
    "tags": []
   },
   "outputs": [
    {
     "data": {
      "text/latex": [
       "$\\displaystyle (a_{x} + b_{x})\\mathbf{\\hat{n}_x} + (a_{y} + b_{y})\\mathbf{\\hat{n}_y} + (a_{z} + b_{z})\\mathbf{\\hat{n}_z}$"
      ],
      "text/plain": [
       "(a_x + b_x)*N.x + (a_y + b_y)*N.y + (a_z + b_z)*N.z"
      ]
     },
     "execution_count": 6,
     "metadata": {},
     "output_type": "execute_result"
    }
   ],
   "source": [
    "c = a + b\n",
    "c"
   ]
  },
  {
   "cell_type": "markdown",
   "id": "7ecbab3f-9f0a-4ed4-b603-bccb3f76fb0a",
   "metadata": {
    "slideshow": {
     "slide_type": "slide"
    },
    "tags": []
   },
   "source": [
    "## Operando con vectores\n",
    "### Operación producto"
   ]
  },
  {
   "cell_type": "markdown",
   "id": "d9f2a574-b878-463f-9a1a-606102d9f200",
   "metadata": {
    "tags": []
   },
   "source": [
    "Múltiplicar por el escalar \\\\(m\\\\) el vector \\\\(\\vec{r} = r_i \\hat{i} + r_j \\hat{j}+ r_k \\hat{k}\\\\)\n",
    "\\\\[\n",
    "    m \\vec{r}= m r_i \\hat{i} + m r_j \\hat{j}+ m r_k \\hat{k}\n",
    "\\\\]"
   ]
  },
  {
   "cell_type": "code",
   "execution_count": 7,
   "id": "2e90e7c0-c7ee-4e7f-b258-0c6a8c81c16c",
   "metadata": {},
   "outputs": [
    {
     "data": {
      "text/latex": [
       "$\\displaystyle 4 a_{x}\\mathbf{\\hat{n}_x} + 4 a_{y}\\mathbf{\\hat{n}_y} + 4 a_{z}\\mathbf{\\hat{n}_z}$"
      ],
      "text/plain": [
       "4*a_x*N.x + 4*a_y*N.y + 4*a_z*N.z"
      ]
     },
     "execution_count": 7,
     "metadata": {},
     "output_type": "execute_result"
    }
   ],
   "source": [
    "m = 4\n",
    "m* a"
   ]
  },
  {
   "cell_type": "markdown",
   "id": "7dc384d7-0bbb-47be-b672-2f2463696d03",
   "metadata": {
    "slideshow": {
     "slide_type": "fragment"
    },
    "tags": []
   },
   "source": [
    "Producto escalar: \n",
    "\\\\(\\vec{r} \\vec{s} = r s \\cos(\\theta) = r_i s_i+ r_j s_j + r_k s_k \\\\)\n",
    "- así el módulo es \n",
    "    \\\\(r = |\\vec{r}| = \\sqrt{\\vec{r} \\vec{r}} = \\sqrt{r_i^2 + r_j^2 + r_k^2 }\\\\)"
   ]
  },
  {
   "cell_type": "code",
   "execution_count": 12,
   "id": "5450bc70-e7ea-44fe-8e1c-e4abe6c4438b",
   "metadata": {},
   "outputs": [
    {
     "data": {
      "text/latex": [
       "$\\displaystyle a_{x} b_{x} + a_{y} b_{y} + a_{z} b_{z}$"
      ],
      "text/plain": [
       "a_x*b_x + a_y*b_y + a_z*b_z"
      ]
     },
     "execution_count": 12,
     "metadata": {},
     "output_type": "execute_result"
    }
   ],
   "source": [
    "a.dot(b)"
   ]
  },
  {
   "cell_type": "code",
   "execution_count": 14,
   "id": "62427c54-568f-4210-ac44-75796e504cfe",
   "metadata": {},
   "outputs": [
    {
     "data": {
      "text/latex": [
       "$\\displaystyle \\sqrt{a_{x}^{2} + a_{y}^{2} + a_{z}^{2}}$"
      ],
      "text/plain": [
       "sqrt(a_x**2 + a_y**2 + a_z**2)"
      ]
     },
     "execution_count": 14,
     "metadata": {},
     "output_type": "execute_result"
    }
   ],
   "source": [
    "sym.sqrt(a.dot(a) )"
   ]
  },
  {
   "cell_type": "markdown",
   "id": "c666eeff-8072-4ba7-a626-3f14451111b9",
   "metadata": {
    "slideshow": {
     "slide_type": "fragment"
    },
    "tags": []
   },
   "source": [
    "Producto vectorial: \\\\(\\vec{r} \\times \\vec{s} = \n",
    "\\begin{vmatrix}\n",
    "  \\hat{i} & \\hat{j} & \\hat{k} \\\\\n",
    "  r_i & r_j & r_k\\\\\n",
    "  s_i & s_j & s_k\n",
    "\\end{vmatrix}\n",
    "= (r_j s_k - r_k s_j) \\hat{i} + (r_k s_i - r_i s_k) \\hat{j} + (r_i s_j - r_j s_i) \\hat{k} \n",
    "\\\\)"
   ]
  },
  {
   "cell_type": "markdown",
   "id": "7eb1ca34-3c95-40ea-95cd-b103ed3ee60b",
   "metadata": {},
   "source": [
    "## Velocidad"
   ]
  },
  {
   "cell_type": "code",
   "execution_count": 6,
   "id": "c7cbe07e-87c1-40b7-80c0-09ff62ae44ce",
   "metadata": {},
   "outputs": [],
   "source": [
    "mech.init_vprinting() # notación con punto para la velocidad y punto punto para la aceleración"
   ]
  },
  {
   "cell_type": "markdown",
   "id": "8061576d-86e7-4656-ab38-01be92bd788c",
   "metadata": {},
   "source": [
    "Escribir cada símbolo que se derivará como función del tiempo puede ser tedioso.\n",
    "Se puede usar una función del `mechanics` para definir *símbolos dinámicos*."
   ]
  },
  {
   "cell_type": "markdown",
   "id": "6b1566be-0aeb-4b5c-9983-a2b61b79314f",
   "metadata": {},
   "source": [
    "# Y acá derivar en polares\n",
    "Y todo el bolonqui de la regla de la cadena."
   ]
  },
  {
   "cell_type": "markdown",
   "id": "e73bf644-a5a5-45f9-a4ce-16b5dcf1a100",
   "metadata": {},
   "source": [
    "# Después de jugar con los sistemas empezar con las leyes de Newton"
   ]
  },
  {
   "cell_type": "code",
   "execution_count": null,
   "id": "ea1a503e-a9d0-4b87-82b7-c9066b93bad3",
   "metadata": {},
   "outputs": [],
   "source": []
  }
 ],
 "metadata": {
  "kernelspec": {
   "display_name": "Python 3 (ipykernel)",
   "language": "python",
   "name": "python3"
  },
  "language_info": {
   "codemirror_mode": {
    "name": "ipython",
    "version": 3
   },
   "file_extension": ".py",
   "mimetype": "text/x-python",
   "name": "python",
   "nbconvert_exporter": "python",
   "pygments_lexer": "ipython3",
   "version": "3.9.2"
  }
 },
 "nbformat": 4,
 "nbformat_minor": 5
}
