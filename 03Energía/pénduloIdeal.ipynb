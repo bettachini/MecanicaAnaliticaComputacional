{
  "cells": [
    {
      "cell_type": "markdown",
      "metadata": {
        "id": "vuUs-7nkpyV_",
        "tags": []
      },
      "source": [
        "# Péndulo ideal"
      ]
    },
    {
      "cell_type": "markdown",
      "metadata": {
        "id": "R5YD2P1XqGnm"
      },
      "source": [
        "[![DIIT - UNLaM](data:image/png;base64,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)](https://ingenieria.unlam.edu.ar/)    \n",
        "[![by-nc-sa_80x15.png](data:image/png;base64,iVBORw0KGgoAAAANSUhEUgAAAFAAAAAPCAMAAABEF7i9AAAABGdBTUEAANbY1E9YMgAAAJZQTFRF////7u7u3d3dys7KzMzMyMzIxsrGxcbFur+6u7u7s7iyq7GqqqqqmZmZlJmTj5CPiIiIh4eHhoaGgICAfYJ9d3d3cnZxZ2tnZmZmW15bVVVVS0xLREREQ0NDQkJCQUJBOz07OTs5MzMzMTMxLjAuJygnJCUjIiIiISEhICAgGRkZERERDxAPDg4ODQ4NDQ0NDQ0MAAAADbeuvgAAAOhJREFUeNqtk+tyAiEMhQ+6XtroutZiveBdu+p2tXn/l3OQy8roL5fMMENC+HIIAI5sYEQ1DSRtP5zZkCpToubf2/oMMC0zX0QdiLqjmsD1sVKd8JSoNa8HvGRIclZCcZ5A7Yiag/s6oJPMYD8FKgIC3wG/+QP5DFIWot+DvBB1OxYAk+W2W88HqqwAOOZE6FuZbfWZZUn02fb1rTAHc3izZgQCrxWqSSFkH/IaKuSHEzEChfyk2PbwmqFX8EQo3jaw2Ac9DIFhD12Tn4CbU+RbTv+HHrj8jfAOacxflrc61/0psf9yZLsBr5WUrhUa3hEAAAAASUVORK5CYII=)](https://creativecommons.org/licenses/by-sa/4.0/deed.es_ES) \n",
        "2021 [Víctor A. Bettachini](mailto:vbettachini@unlam.edu.ar)  \n",
        "\n",
        "---"
      ]
    },
    {
      "cell_type": "markdown",
      "metadata": {
        "id": "Xrt9lUE5pyWH",
        "tags": []
      },
      "source": [
        "Bibliografía:  \n",
        "- Secciones 1.1 y 1.2  \n",
        "  Ondas es física  \n",
        "  Oscar E. Martinez   \n",
        "  EUdeBA, 2008"
      ]
    },
    {
      "cell_type": "markdown",
      "metadata": {
        "id": "YkQ71s7_k4yX",
        "tags": []
      },
      "source": [
        "# Enunciado\n",
        "Obtenga la ecuación diferencial que describe la dinámica de una pesa que \"pendulea\" en el extremo de una cuerda.  \n",
        "![](figuras/pénduloHorizontal.png)  \n",
        "<!--\n",
        "![](figuras/marion_fig7_1.png)\n",
        "-->\n",
        "\n",
        "1. Asumiendo que el péndulo oscila dentro del plano $(\\hat{x}, \\hat{y})$.\n",
        "¿En que sistema de coordenadas resolverá el problema? \n",
        "¿Cuál coordenada es relevante para describir la dinámica? \n",
        "1. Enumere las aproximaciones del modelo de péndulo que resolverá que lo diferencian de uno que puede armar en el laboratorio.\n",
        "1. Calcule la energía potencial de la pesa en el campo gravitatorio.\n",
        "¿Para qué sirve eso?\n",
        "Las fuerzas que surgen de un campo son fácilmente calculables usando que $(\\vec{F} = - \\vec{\\nabla} V)$, es decir, _la fuerza es igual al negativo del gradiente del potencial_.\n",
        "1. Escriba la 2.a ley de Newton y proyecte en la dirección de la coordenada relevante.\n",
        "1. Resuelva la ecuación de la dinámica y obtenga la frecuencia de oscilación.  "
      ]
    },
    {
      "cell_type": "markdown",
      "metadata": {
        "id": "7omhOiZJpyWK",
        "tags": []
      },
      "source": [
        "# ¿Cómo plantear la resolución?\n",
        "Recordamos que una vez hechas todas las aproximaciones para tratar al sistema como puntual y plantear un diagrama de cuerpo libre que nos permita entender que fuerzas actuan sobre tal partícula hay que llegar a plantear la **2.a ley de Newton**.\n",
        "\n",
        "La escribiremos en función de la coordenada de interés en torno de la posición de punto de equilibrio. Para lograr esto hay dos alternativas:\n",
        "- Determinar el punto de equilibrio en que $\\sum \\vec{F} = 0$ y escribir la descomposición de las $\\vec{F}$ en la dirección de la mencionada coordenada.\n",
        "- Escribir el potencial, encontrar su mínimo en función de la coordenada y desarrollarlo en serie en torno al mismo. Luego basta usar $\\vec{F} = - \\vec{\\nabla} V$\n",
        "\n",
        "El 2.o enfoque puede parecer tedioso a primera vista, pero se torna más y más práctico cuando el sistema se torna más complejo. Obviamente para los primeros ejercicios puede parecer impráctico, pero es bueno entrenarse en este proceder para preparse para lo que viene en la materia."
      ]
    },
    {
      "cell_type": "markdown",
      "metadata": {
        "id": "c3tRdZOqpyWM",
        "tags": []
      },
      "source": [
        "### Dibujo\n",
        "Es una buena idea empezar haciendo un dibujo del sistema que se quiere estudiar.\n",
        "Además de los \"datos\" $g,l$ debemos suponer que del péndulo cuelga alguna pesa con cierta masa $m$.\n",
        "\n",
        "En el dibujo indico dos posibles coordenadas que podriamos usar para analizar al apartamiento de la posicíon vertical (de equilibrio): el ángulo $\\varphi$, o el apartamiento horizontal $\\psi$."
      ]
    },
    {
      "cell_type": "markdown",
      "metadata": {
        "id": "W7fjGxOo3MHA",
        "tags": []
      },
      "source": [
        "### Aproximaciones\n",
        "Revisemos los aproximaciones que se asumieron implicitamente en el dibujo: \n",
        "- El movimiento siempre es en un plano. Siempre arriba o abajo, derecha o izquierda, pero nunca entra o sale de la pantall. Por tanto toda posición que asignemos tendrá componentes solo en los versores $\\hat{r}$ y $\\hat{\\varphi}$.\n",
        "- La cuerda es rígida, es decir no se curva, y es inextensible $\\implies$ la posición de la masa es $\\vec{r}= \\ell \\hat{r}$. "
      ]
    },
    {
      "cell_type": "markdown",
      "metadata": {
        "id": "llE7OlkvpyWO"
      },
      "source": [
        "### Del potencial a la 2.a ley de Newton\n",
        "Considero que el potencial $V$ es nulo en el origen de coordenadas, es decir que donde se encuentra su mínimo $\\varphi=0, V(\\varphi=0)= -m g \\ell$ y por tanto\n",
        "$$\n",
        "V(\\varphi)= m g \\left(-\\ell \\cos{\\varphi} \\right) = - m g \\ell \\cos{\\varphi},\n",
        "$$"
      ]
    },
    {
      "cell_type": "markdown",
      "metadata": {
        "id": "T_7fb3StlmeH",
        "tags": []
      },
      "source": [
        "Como vemos la aproximación funciona bastante bien.\n",
        "Conformes con ella calculamos la fuerza\n",
        "$$\n",
        "\\vec{F} = - \\vec{\\nabla}V = - \\left( \\frac{\\partial}{\\partial r}, \\frac{1}{r} \\frac{\\partial}{\\partial \\varphi}, \\frac{\\partial}{\\partial z} \\right) V(\\varphi)\n",
        "$$\n",
        "\n",
        "En el lado derecho la derivada del potencial sólo sobrevive el término en $\\hat{\\varphi}$, los términos en $\\hat{r}$ y $\\hat{z}$ son nulos\n",
        "\n",
        "Por lo que solo nos interesa expresar la 2.a ley de Newton para lo que pasa en $\\hat{\\varphi}$, multiplicamos entonces por ese versor (recordar que $\\hat{i}\\cdot\\hat{i}=1$ y $\\hat{i}\\cdot\\hat{j}=0$)\n",
        "\n",
        "$$\n",
        "m \\ddot{\\vec{r}} \\cdot \\hat{\\varphi} \n",
        "= -\\frac{1}{r} \\frac{\\partial}{\\partial \\varphi} V(\\varphi) \\hat{\\varphi} \\cdot \\hat{\\varphi} \n",
        "$$\n",
        "$$\n",
        "m \\ddot{\\vec{r}} \\cdot \\hat{\\varphi} \n",
        "= -\\frac{1}{r} \\frac{\\partial}{\\partial \\varphi} V(\\varphi) \\tag{1}\n",
        "$$\n",
        "En el lado izquierdo de la expresión de la aceleración en cílindricas \n",
        "$\\ddot{\\vec{r}}= (\\ddot r - r \\dot{\\varphi}^2) \\hat{r} + (\\dot{r} \\dot{\\varphi}^2 + r \\ddot{\\varphi}) \\hat{\\varphi} + \\ddot{z} \\hat{z}$, \n",
        "sobrevive solo la componente en $\\hat{\\varphi}$, ya que al distribuirla en la expresión para la aceleración el producto de los versores perpendiculares se anulan y el de $\\hat{\\varphi}$ dará 1\n",
        "\n",
        "$$\n",
        "\\ddot{\\vec{r}}\\cdot \\hat{\\varphi} = (\\ddot r - r \\dot{\\varphi}^2) \\hat{r}\\cdot \\hat{\\varphi} + (\\dot{r} \\dot{\\varphi}^2 + r \\ddot{\\varphi}) \\hat{\\varphi}\\cdot \\hat{\\varphi} + \\ddot{z} \\hat{z}\\cdot \\hat{\\varphi}\n",
        "$$\n",
        "\n",
        "$$\n",
        "\\ddot{\\vec{r}}\\cdot \\hat{\\varphi} = (\\ddot r - r \\dot{\\varphi}^2) 0 + (\\dot{r} \\dot{\\varphi}^2 + r \\ddot{\\varphi}) 1 + \\ddot{z} 0\n",
        "$$\n",
        "\n",
        "$$\n",
        "\\ddot{\\vec{r}} \\cdot \\hat{\\varphi} = \\dot{r} \\dot{\\varphi}^2 + r \\ddot{\\varphi}\n",
        "$$\n",
        "y como el hilo del péndulo es rígido e inextensible $r \\equiv \\ell$ y entonces $\\dot{r} = \\ddot{r} = 0$, sólo queda de esto\n",
        "$$\n",
        "\\ddot{\\vec{r}} \\cdot \\hat{\\varphi} =  \\ell \\ddot{\\varphi}\n",
        "\\tag{2}\n",
        "$$\n",
        "\n",
        "La derivada del potencial queda\n",
        "\n",
        "$$\n",
        "-\\frac{1}{\\ell}\\frac{\\partial}{\\partial \\varphi} V(\\varphi) = - \\frac{1}{\\ell} m g \\ell \\sin(\\varphi )\n",
        "\\tag{3}\n",
        "$$\n",
        "\n",
        "Reemplazando (2) y (3) en la expersión de Newton (1) tenemos\n",
        "$$\n",
        "\\begin{aligned}\n",
        "m \\ell \\ddot{\\varphi} &= - \\frac{1}{\\ell} m g \\ell \\sin(\\varphi)\\\\\n",
        "\\ddot{\\varphi} &= - \\frac{g}{\\ell}\\sin(\\varphi)\\\\\n",
        "\\end{aligned}\n",
        "$$\n",
        "Y arribamos a una ecuación diferencial que en principio no sabemos resolver analíticamente pues no es lineal."
      ]
    },
    {
      "cell_type": "markdown",
      "metadata": {
        "id": "H7EPQgn0pyWR",
        "tags": []
      },
      "source": [
        "## Resolución de la ecuación diferencial\n",
        "Voy a repasar todos los pasos para esta resolución, que de ahora en más podrán obviarse en otros problemas, pero es bueno haberlo revisto en su totalidad."
      ]
    },
    {
      "cell_type": "markdown",
      "metadata": {
        "id": "PwFZv0f3pyWR"
      },
      "source": [
        "### Linealización de la 2.a ley de Newton\n",
        "El potencial presenta un mínimo en $\\varphi = 0$.\n",
        "La oscilación se producirá en torno a ese ángulo.\n",
        "\n",
        "Realizando un desarrollo en serie de Taylor, o más específicamente de Maclaurin pues se desarrolla en torno al cero, puede obtenerse una aproximación lineal\n",
        "$$\n",
        "\\sin(\\varphi )\n",
        "= \\sin(0) + \\cos(0) \\varphi - \\frac{\\sin(0)}{2} \\varphi^2 + \\dots\n",
        "\\simeq \\varphi\n",
        "$$\n",
        "\n",
        "Con esto puede escribirse una aproximación lineal a la ecuación diferencial\n",
        "$$\n",
        "\\ddot{\\varphi} = - \\frac{g}{\\ell} \\varphi\n",
        "$$"
      ]
    },
    {
      "cell_type": "markdown",
      "metadata": {
        "id": "s_Xfu6M6pyWS",
        "tags": []
      },
      "source": [
        "### La frecuencia de oscilación\n",
        "Proponemos una solución $\\varphi= \\mathrm{e}^{\\lambda t}$ que al aplicarla a la ecuación anterior\n",
        "\n",
        "$$\n",
        "    \\begin{aligned}\n",
        "    \\lambda^2 \\mathrm{e}^{\\lambda t} &= - \\frac{g}{l} \\mathrm{e}^{\\lambda t} \\\\\n",
        "    \\lambda^2 &= -\\frac{g}{\\ell} \\\\\n",
        "    \\lambda &= \\pm \\sqrt{\\frac{g}{\\ell}} i\n",
        "    \\end{aligned}\n",
        "$$\n",
        "\n",
        "Entonces la ecuación tiene por solución la combinación lineal de las dos correspondientes soluciones ($\\pm$)\n",
        "\n",
        "$$\n",
        "    \\varphi(t)= A_1 \\mathrm{e}^{i \\sqrt{\\frac{g}{\\ell}} t}+ A_2 \\mathrm{e}^{-i \\sqrt{\\frac{g}{\\ell}} t} .\n",
        "$$\n",
        "\n",
        "Estas exponenciales son períodicas en $\\sqrt{\\frac{g}{\\ell}}$ por lo que este coeficiente de $t$ lo identificamos con la frecuencia angular $\\omega= \\sqrt{\\frac{g}{\\ell}}$\n",
        "\n",
        "$$\n",
        "    \\varphi(t)= A_1 \\mathrm{e}^{i \\omega t}+ A_2 \\mathrm{e}^{-i \\omega t} .\n",
        "$$\n",
        "\n"
      ]
    },
    {
      "cell_type": "markdown",
      "metadata": {
        "id": "HsUJkoZeRMS0",
        "tags": []
      },
      "source": [
        "### Encontrando una solución real\n",
        "No queremos un $\\varphi$ complejo, sino uno real. Así que aplicamos el truco de sumar a la solución anterior su adjunta $\\bar{\\varphi}(t)$.\n",
        "$$\n",
        "\\begin{aligned}\n",
        "\\Re{(\\varphi(t))} \n",
        "&= \\frac{1}{2} \\left[ \\varphi(t) + \\bar{\\varphi}(t) \\right]  \\\\\n",
        "& = \\frac{1}{2} \\left[ A_1 \\mathrm{e}^{i \\omega t}+ A_2 \\mathrm{e}^{-i \\omega t} + A_1^* \\mathrm{e}^{-i \\omega t}+ A_2^* \\mathrm{e}^{i \\omega t} \\right] \\\\\n",
        "&= \\frac{1}{2} \\left[ (A_1+ A_2^*) \\mathrm{e}^{i \\omega t}+ (A_1^*+ A_2) \\mathrm{e}^{-i \\omega t} \\right] \\\\\n",
        "&= \\frac{1}{2} (A_1+ A_2^*) \\mathrm{e}^{i \\omega t}+ \\text{complejo conjugado} .\n",
        "\\end{aligned}\n",
        "$$\n",
        "\n",
        "El obtener la adjunta es hacer dos cosas:\n",
        "- conjugar los números complejos: cambiar el signo de sus argumentos, y\n",
        "- transponer: en el caso más general los $A_n$ son vectores, no es el caso del péndulo, en que $A_n$ son solo un número. Por tanto $A_n^*$ denota al complejo conjugado de $A_n$.\n",
        "\n",
        "Lo que acompaña la exponencial $\\frac{1}{2} (A_1+ A_2^*)$ es un número complejo que puede resumirse en $B \\mathrm{e}^{i \\phi_0}$.\n",
        "Con esto se puede escribir una solución real\n",
        "\n",
        "$$\n",
        "\\begin{aligned}\n",
        "\\varphi(t) \n",
        "&= B \\mathrm{e}^{i (\\omega t+ \\phi_0)} + B \\mathrm{e}^{- i (\\omega t+ \\phi_0)} \\\\\n",
        "&= B \\left[ \\cos{\\left( \\omega t+ \\phi_0 \\right) } + i \\sin{\\left( \\omega t+ \\phi_0 \\right) } \\right] \n",
        " + B \\left[ \\cos{\\left( \\omega t+ \\phi_0 \\right) } - i \\sin{\\left( \\omega t+ \\phi_0 \\right) } \\right] \\\\\n",
        "&= 2 B \\cos{\\left( \\omega t+ \\phi_0 \\right) } \\\\\n",
        "&= \\boxed{ A \\cos{\\left( \\omega t+ \\phi_0 \\right) } } \\quad (2B =A)\n",
        "\\end{aligned}\n",
        "$$\n",
        "\n",
        "Y voilá, se obtiene la buscada ecuación de movimiento.\n",
        "Pero aún no está determinada a menos que se conozcan las condiciones en algún $t$ de referencia para establecer:\n",
        "- $A$ una amplitud máxmima de la oscilación $A$, y\n",
        "- $\\phi_0$ una fase inicial de la función trigonométrica (que tan alejada se encuentra la situación inicial de la máxima amplitud).\n",
        "\n",
        "__OBS__: Simplificamos la ecuación definiendo $2B = A$, que es una constante a determinar por condiciones iniciales, no importa si lo llamamos $A$ o $2B$. "
      ]
    },
    {
      "cell_type": "markdown",
      "metadata": {
        "id": "U33b8VrcpyWU",
        "tags": []
      },
      "source": [
        "### Condiciones iniciales\n",
        "En el problema del péndulo obtuvimos una solución que había que especializar en función de condiciones iniciales de amplitud máxima $A$ y de una un tanto \"esotérica\" fase inicial $\\phi_0$, que para este problema sería\n",
        "$$\n",
        "  \\varphi(t) = A \\cos{\\left( \\omega t + \\phi_0 \\right)}.\n",
        "$$\n",
        "\n",
        "Antes de llegar a esta versión compacta habriamos pasado, cuando analizamos la frecuencia de oscilación, por la expresión\n",
        "$$\n",
        "\\varphi(t)= A_1 \\mathrm{e}^{i \\omega t}+ A_2 \\mathrm{e}^{-i \\omega t},\n",
        "$$\n",
        "\n",
        "pero aquí ahorramos tiempo y utilizamos las relaciones de Euler $\\mathrm{e}^{\\pm i \\theta}= \\cos{\\theta}+ i \\sin{\\theta}$ para escribir\n",
        "$$\n",
        "\\varphi(t)= (A_1+ A_2) \\cos{(\\omega t)} +  i (A_1- A_2) \\sin{(\\omega t)}.\n",
        "$$\n",
        "\n",
        "Esta expresión es muy práctica pues si especializamos esta solución en $t=0$ solo queda $(A_1+ A_2)$, por lo que esto es $\\varphi(0)$.\n",
        "De igual manera la derivada en $t=0$ de tal solución $i \\omega (A_1 - A_2)$ corresponderá a $\\dot{\\varphi}(0)$, entonces\n",
        "$$\n",
        "\\begin{aligned}\n",
        "  \\varphi(0) &= (A_1 + A_2)\\\\\n",
        "  \\dot{\\varphi}(0) &= i \\omega (A_1 - A_2)\n",
        "\\end{aligned},\n",
        "$$\n",
        "\n",
        "permite escribir una solucíon en función de condiciones iniciales observables:\n",
        "$$\n",
        "\\boxed{\n",
        "  \\varphi(t)= \\varphi(0) \\cos{(\\omega t)} +  \\frac{\\dot{\\varphi}(0)}{\\omega} \\sin{(\\omega t)}\n",
        "}.\n",
        "$$"
      ]
    },
    {
      "cell_type": "markdown",
      "metadata": {
        "id": "mK0fY9aWpyWU",
        "tags": []
      },
      "source": [
        "## Dinámica"
      ]
    },
    {
      "cell_type": "code",
      "execution_count": null,
      "metadata": {
        "id": "izXvLLKRhY39",
        "tags": []
      },
      "outputs": [],
      "source": [
        "# Primero importamos las bibliotecas de Python que vamos a usar\n",
        "import numpy as np # numpy, de cálculo numérico, para vectores y matrices\n",
        "import matplotlib.pyplot as plt # matplotlib para graficar\n",
        "plt.style.use('fivethirtyeight') # estilo general de gráficos"
      ]
    },
    {
      "cell_type": "code",
      "execution_count": null,
      "metadata": {
        "id": "J1MmL9GspyWW",
        "outputId": "2034e599-5757-423b-c732-7534da17af93"
      },
      "outputs": [
        {
          "data": {
            "text/plain": [
              "Text(0, 0.5, '$\\\\varphi$ [rad]')"
            ]
          },
          "execution_count": 10,
          "metadata": {},
          "output_type": "execute_result"
        },
        {
          "data": {
            "image/png": "[encoded data removed]",
            "text/plain": [
              "<Figure size 864x288 with 1 Axes>"
            ]
          },
          "metadata": {},
          "output_type": "display_data"
        }
      ],
      "source": [
        "# condiciones iniciales del péndulo\n",
        "g = 9.81 # [m s-2]\n",
        "l = 1 #  [m] longitud de la cuerda\n",
        "omega = np.sqrt(g/l) # [rad s-1] frecuencia de oscilación\n",
        "phi_0 = 10 # [⁰] amplitud inicial en grados\n",
        "phi_0 *= np.pi/ 180 # [rad] grados -> radianes, *= multiplica el valor anterior de la variable\n",
        "phi_punto_0 = 0 # [rad s-1] velocidad (angular) inicial\n",
        "\n",
        "tiempos = np.linspace(0, 10, 100) # [s] 100 tiempos equiespaciados entre 0 y 10 s\n",
        "def phi(t): # se puede hacer una función en vez de calcular un vector a partir de los tiempos\n",
        "    return phi_0* np.cos(omega* t) + (phi_punto_0/ omega)* np.sin(omega* t)\n",
        "\n",
        "# graficación\n",
        "fig, ax = plt.subplots(figsize=(12, 4))\n",
        "ax.plot(tiempos, phi(tiempos), 'o-' )\n",
        "ax.set_xlabel('Tiempo [s]')\n",
        "ax.set_ylabel(r'$\\varphi$ [rad]')"
      ]
    }
  ],
  "metadata": {
    "colab": {
      "collapsed_sections": [],
      "name": "pénduloIdeal.ipynb",
      "provenance": []
    },
    "kernelspec": {
      "display_name": "Python 3 (ipykernel)",
      "language": "python",
      "name": "python3"
    },
    "language_info": {
      "codemirror_mode": {
        "name": "ipython",
        "version": 3
      },
      "file_extension": ".py",
      "mimetype": "text/x-python",
      "name": "python",
      "nbconvert_exporter": "python",
      "pygments_lexer": "ipython3",
      "version": "3.9.2"
    }
  },
  "nbformat": 4,
  "nbformat_minor": 0
}