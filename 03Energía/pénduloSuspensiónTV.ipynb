{
 "cells": [
  {
   "cell_type": "markdown",
   "metadata": {},
   "source": [
    "# Péndulo con punto de suspensión libre"
   ]
  },
  {
   "cell_type": "markdown",
   "metadata": {},
   "source": [
    "![UNLaM | DIIT](figuras/ambos.png)    \n",
    "© 2021 [Víctor A. Bettachini](mailto:vbettachini@unlam.edu.ar)  \n",
    "Mecánica General  \n",
    "Departamento de Ingeniería e Investigación Tecnológica  \n",
    "Universidad Nacional de La Matanza  \n",
    "\n",
    "---"
   ]
  },
  {
   "cell_type": "markdown",
   "metadata": {},
   "source": [
    "> Bibliografía:\n",
    ">- Sección 5 ($\\S 5$) Ejercicio 2  \n",
    "Mecánica  \n",
    "Lev Davidovich Landau, y E. M. Lifshitz  \n",
    "Reverté, 1994"
   ]
  },
  {
   "cell_type": "markdown",
   "metadata": {},
   "source": [
    "## Enunciado\n",
    "Un péndulo oscila en un plano de masa \\\\(m_2\\\\) cuyo punto de suspensión, de masa \\\\(m_1\\\\), puede desplazarse sobre una recta horizontal.  \n",
    "1. Escriba la energía cinética, \\\\(T\\\\) y potencial, \\\\(V\\\\), en función de las coordenadas generalizadas sugeridas por las figura.\n",
    "1. Verifique que al fijar la masa \\\\(m_1\\\\) recupera las expresiones de \\\\(T\\\\) y \\\\(V\\\\) de un péndulo ideal.  \n",
    "![](figuras/landauS52_fig2.png \"Figura 2 del libro de Landau.\") "
   ]
  },
  {
   "cell_type": "markdown",
   "metadata": {},
   "source": [
    "## Coordenadas generalizadas\n",
    "> Referencia:\n",
    "> - Landau $\\S1$\n",
    "> - Apunte Lanczos $\\S 2.2$\n",
    "\n",
    "En principio cada una de las $P$ partículas del sistema, de masa $m_1$ y $m_2$ debieran gozar de sus 3 **grados de libertad** en un mundo tridimensional.\n",
    "Este sistema de $P=2$ partículas tendría $N= 3P=6$ grados de libertad: $q_1, q_2,\\dots,q_n$.\n",
    "Estos no son necesariamente coordenadas, pueden ser cualquier magnitud que nos permita determinar posiciones, e.g. una coordenada en el sistema cartesiano puede ser función de estas $x_1= f(q_1, q_2,\\dots,q_n)$.\n",
    "Comos sabemos no alcanza con posiciones para determinar la dinámica sino que necesitamos también las velocidades, así que nos interesarán también $\\dot{q}_1, \\dot{q}_2,\\dots,\\dot{q}_n$.\n",
    "\n",
    "Así la descrpición de la dinámica de este sistema requiría de $3P= 6$ coordenadas para sus posiciones y también $3P$ velocidades. Pero a las partículas les imponemos restricciones que se los quitan:\n",
    "1. El movimiento se limita al plano $\\rightarrow$ dos restricciones.\n",
    "2. La partícula $1$ está engarzada en la corredera horizontal $\\rightarrow$ una restricción.\n",
    "3. La $2$ no tiene más remedio que estar separada en $\\ell$ de $1$ $\\rightarrow$ otra restricción.\n",
    "\n",
    "Un total de $K=4$ restricciones, que aprenderemos nos reducen los grados de libertad del sistema a $3P-K= 2$.\n",
    "Es decir que con solo $2$ **coordenadas generalizadas** (y sus respectivas derivadas en el tiempo) habremos definido la dinámica del sistema."
   ]
  },
  {
   "cell_type": "markdown",
   "metadata": {},
   "source": [
    "### Coordenadas generalizadas y sistema cartesiano\n",
    "La figura que acompaña a este problema nos sugiere dos coordenadas generalizadas.\n",
    "\n",
    "Ubicar la $m_1$ sobre el eje $x$ permite determinar su posición solo con una coordenada, $x$,\n",
    "$$\n",
    "\\begin{aligned}\n",
    "\\vec{r}_1 \n",
    "&= f_1(x) \\hat{x} \\\\\n",
    "&= x \\hat{x}.\n",
    "\\end{aligned}\n",
    "$$"
   ]
  },
  {
   "cell_type": "code",
   "execution_count": 1,
   "metadata": {},
   "outputs": [],
   "source": [
    "import sympy as sym # importamos funciones de cálculo simbólico\n",
    "from sympy.physics import mechanics as mech # de sympy utilizaremos funciones de mecánica\n",
    "mech.init_vprinting() # notación con punto para la velocidad y punto punto para la aceleración\n",
    "import warnings\n",
    "warnings.filterwarnings(\"ignore\")"
   ]
  },
  {
   "cell_type": "code",
   "execution_count": 2,
   "metadata": {},
   "outputs": [],
   "source": [
    "# Defino los parámetros físicos del sistema\n",
    "m1, m2, g, l = sym.symbols('m_1, m_2, g, \\ell', positive=True)\n",
    "\n",
    "# Defino coordenadas generalizadas\n",
    "N = mech.ReferenceFrame('N') # marco referencial o en coordenadas cartesianas\n",
    "t = sym.symbols('t') # tiempo\n",
    "x, φ = mech.dynamicsymbols('x, φ')"
   ]
  },
  {
   "cell_type": "code",
   "execution_count": 3,
   "metadata": {},
   "outputs": [
    {
     "data": {
      "image/png": "[encoded data removed]",
      "text/latex": [
       "$\\displaystyle x\\mathbf{\\hat{n}_x}$"
      ],
      "text/plain": [
       "x n_x"
      ]
     },
     "execution_count": 3,
     "metadata": {},
     "output_type": "execute_result"
    }
   ],
   "source": [
    "m1_r = x* N.x\n",
    "m1_r"
   ]
  },
  {
   "cell_type": "markdown",
   "metadata": {},
   "source": [
    "La $m_2$ necesitaría de $x_2$ y $y_2$, pero para determinar estos veremos que nos basta con agregar $\\varphi$ como coordenada,\n",
    "$$\n",
    "\\begin{aligned}\n",
    "\\vec{r}_2 \n",
    "&= f_2(x,\\varphi) \\hat{x} + f_3(x,\\varphi) \\hat{y}\\\\\n",
    "&= \\left( x + \\ell \\sin{\\varphi} \\right) \\hat{x} + (-\\ell \\cos{\\varphi}) \\hat{y}.\n",
    "\\end{aligned}\n",
    "$$"
   ]
  },
  {
   "cell_type": "code",
   "execution_count": 4,
   "metadata": {},
   "outputs": [
    {
     "data": {
      "image/png": "[encoded data removed]",
      "text/latex": [
       "$\\displaystyle (\\ell \\sin{\\left(φ \\right)} + x)\\mathbf{\\hat{n}_x} -  \\ell \\cos{\\left(φ \\right)}\\mathbf{\\hat{n}_y}$"
      ],
      "text/plain": [
       "(\\ell⋅sin(φ) + x) n_x + -\\ell⋅cos(φ) n_y"
      ]
     },
     "execution_count": 4,
     "metadata": {},
     "output_type": "execute_result"
    }
   ],
   "source": [
    "m2_r = (x + l* sym.sin(φ) )* N.x + (- l* sym.cos(φ) )* N.y  # recordemos que tomamos y hacia arriba\n",
    "m2_r"
   ]
  },
  {
   "cell_type": "markdown",
   "metadata": {},
   "source": [
    "## Energía cinética\n",
    "En coordenadas cartesianas \n",
    "La energía cinética de una partícula de masa $m$ es $T= \\frac{m}{2} \\left(\\dot{\\vec{r}}\\right)^2 = \\frac{m}{2} \\left(\\dot{\\vec{r}} \\cdot \\dot{\\vec{r}}\\right) = \\frac{m}{2} \\left(\\dot{r_i}^2+ \\dot{r_j}^2+ \\dot{r_k}^2 \\right)$.\n",
    "\n",
    "Habrá que hacer uso del sistema de coordenas que facilite más la tarea.\n",
    "En este ejercicio son las cartesianas en el cuál es muy sencillo escribir esta energía como $T= \\frac{m}{2} \\left(\\dot{x}^2+ \\dot{y}^2+ \\dot{z}^2 \\right)$.\n",
    "\n",
    "Para este sistema\n",
    "$$\n",
    "T = \\sum_{i=1}^{P=2} \\frac{m_i}{2} \\left( \\dot{\\vec{r}}_i \\right)^2 = \\frac{m_1}{2} \\left( \\dot{\\vec{r}}_1 \\right)^2 + \\frac{m_2}{2} \\left( \\dot{\\vec{r}}_2 \\right)^2\n",
    "$$"
   ]
  },
  {
   "cell_type": "markdown",
   "metadata": {},
   "source": [
    "### Velocidades\n",
    "`Python`, como cualquier otro lenguaje de programación es capaz hacer cuentas como una calculadora.\n",
    "Esto se llama cálculo numérico.\n",
    "\n",
    "Como en otros otros lenguajes pueden agregarse paquetes de funciones.\n",
    "Estos que se suelen llamar bibliotecas, en `Python` se llaman módulos.\n",
    "\n",
    "El módulo `sympy` provee funciones para resolver cuestiones de análisis y álgebra en forma simbólica.\n",
    "Por ejemplo para derivar funciones como las $\\dot{\\vec{r}}_i$.\n",
    "$$\n",
    "\\dot{\\vec{r}}_1 = \\dot{x} \\hat{x}\n",
    "$$"
   ]
  },
  {
   "cell_type": "code",
   "execution_count": 5,
   "metadata": {},
   "outputs": [
    {
     "data": {
      "image/png": "[encoded data removed]",
      "text/latex": [
       "$\\displaystyle \\dot{x}\\mathbf{\\hat{n}_x}$"
      ],
      "text/plain": [
       "ẋ n_x"
      ]
     },
     "execution_count": 5,
     "metadata": {},
     "output_type": "execute_result"
    }
   ],
   "source": [
    "m1_v= m1_r.diff(t, N) # derivada con t en el sistema de referencia N\n",
    "m1_v"
   ]
  },
  {
   "cell_type": "markdown",
   "metadata": {},
   "source": [
    "$$\n",
    "\\dot{\\vec{r}}_2 = \\left( \\dot{x} + \\ell \\cos{\\varphi} \\dot{\\varphi} \\right) \\hat{x} + \\left( \\ell \\sin{\\varphi} \\dot{\\varphi} \\right) \\hat{y} .\n",
    "$$"
   ]
  },
  {
   "cell_type": "code",
   "execution_count": 6,
   "metadata": {},
   "outputs": [
    {
     "data": {
      "image/png": "[encoded data removed]",
      "text/latex": [
       "$\\displaystyle (\\ell \\cos{\\left(φ \\right)} \\dot{φ} + \\dot{x})\\mathbf{\\hat{n}_x} + \\ell \\sin{\\left(φ \\right)} \\dot{φ}\\mathbf{\\hat{n}_y}$"
      ],
      "text/plain": [
       "(\\ell⋅cos(φ)⋅φ̇ + ẋ) n_x + \\ell⋅sin(φ)⋅φ̇ n_y"
      ]
     },
     "execution_count": 6,
     "metadata": {},
     "output_type": "execute_result"
    }
   ],
   "source": [
    "m2_v= m2_r.diff(t, N)\n",
    "m2_v"
   ]
  },
  {
   "cell_type": "markdown",
   "metadata": {},
   "source": [
    "Y ahora con estos $\\left( \\dot{\\vec{r}}_i \\right)^2$\n",
    "$$\n",
    "\\left(\\dot{\\vec{r}}_1 \\right)^2 = \\dot{\\vec{r}}_1 \\cdot \\dot{\\vec{r}}_1 = \\dot{x}^2\n",
    "$$"
   ]
  },
  {
   "cell_type": "code",
   "execution_count": 7,
   "metadata": {},
   "outputs": [
    {
     "data": {
      "image/png": "[encoded data removed]",
      "text/latex": [
       "$\\displaystyle \\dot{x}^{2}$"
      ],
      "text/plain": [
       " 2\n",
       "ẋ "
      ]
     },
     "execution_count": 7,
     "metadata": {},
     "output_type": "execute_result"
    }
   ],
   "source": [
    "# velocidades al cuadrado es decir producto punto con si mismo\n",
    "m1_v_cuadrado = m1_v.dot(m1_v)\n",
    "m1_v_cuadrado"
   ]
  },
  {
   "cell_type": "markdown",
   "metadata": {},
   "source": [
    "$$\n",
    "\\begin{aligned}\n",
    "\\left(\\dot{\\vec{r}}_2 \\right)^2= \\dot{\\vec{r}}_2 \\cdot \\dot{\\vec{r}}_2 \n",
    "&= \\left( \\dot{x} + \\ell \\cos{\\varphi} \\dot{\\varphi} \\right)^2 + \\left( \\ell \\sin{\\varphi} \\dot{\\varphi} \\right)^2 \\\\\n",
    "&= \\left( \\dot{x}^2 + 2 \\dot{x}_1 \\ell \\cos{\\varphi} \\dot{\\varphi} + \\ell^2 \\cos^2{\\varphi} \\dot{\\varphi}^2 \\right) + \\left( \\ell^2 \\sin^2{\\varphi} \\dot{\\varphi}^2 \\right) \\\\\n",
    "&= \\dot{x}^2 + 2 \\dot{x}_1 \\ell \\cos{\\varphi} \\dot{\\varphi} + \\ell^2 \\dot{\\varphi}^2 . \n",
    "\\end{aligned}\n",
    "$$"
   ]
  },
  {
   "cell_type": "code",
   "execution_count": 8,
   "metadata": {},
   "outputs": [
    {
     "data": {
      "image/png": "[encoded data removed]",
      "text/latex": [
       "$\\displaystyle \\ell^{2} \\dot{φ}^{2} + 2 \\ell \\cos{\\left(φ \\right)} \\dot{x} \\dot{φ} + \\dot{x}^{2}$"
      ],
      "text/plain": [
       "    2  2                        2\n",
       "\\ell ⋅φ̇  + 2⋅\\ell⋅cos(φ)⋅ẋ⋅φ̇ + ẋ "
      ]
     },
     "execution_count": 8,
     "metadata": {},
     "output_type": "execute_result"
    }
   ],
   "source": [
    "m2_v_cuadrado = m2_v.dot(m2_v).simplify()\n",
    "m2_v_cuadrado"
   ]
  },
  {
   "cell_type": "markdown",
   "metadata": {},
   "source": [
    "Con esto la energía cinética queda\n",
    "$$\n",
    "\\begin{aligned}\n",
    "T(\\dot{x}_1, \\varphi, \\dot{\\varphi}) &= \\frac{m_1}{2} \\left( \\dot{\\vec{r}}_1 \\right)^2 + \\frac{m_2}{2} \\left( \\dot{\\vec{r}}_2 \\right)^2 \\\\\n",
    "& = \\frac{m_1}{2} \\dot{x}^2 + \\frac{m_2}{2} \\left( \\dot{x}^2 + 2 \\dot{x} \\ell \\cos{\\varphi} \\dot{\\varphi} + l^2 \\dot{\\varphi}^2 \\right) \\\\\n",
    "\\end{aligned}\n",
    "$$"
   ]
  },
  {
   "cell_type": "code",
   "execution_count": 9,
   "metadata": {},
   "outputs": [
    {
     "data": {
      "image/png": "[encoded data removed]",
      "text/latex": [
       "$\\displaystyle T = \\frac{m_{1} \\dot{x}^{2}}{2} + \\frac{m_{2} \\left(\\ell^{2} \\dot{φ}^{2} + 2 \\ell \\cos{\\left(φ \\right)} \\dot{x} \\dot{φ} + \\dot{x}^{2}\\right)}{2}$"
      ],
      "text/plain": [
       "        2      ⎛    2  2                        2⎞\n",
       "    m₁⋅ẋ    m₂⋅⎝\\ell ⋅φ̇  + 2⋅\\ell⋅cos(φ)⋅ẋ⋅φ̇ + ẋ ⎠\n",
       "T = ───── + ──────────────────────────────────────\n",
       "      2                       2                   "
      ]
     },
     "execution_count": 9,
     "metadata": {},
     "output_type": "execute_result"
    }
   ],
   "source": [
    "# Energía cinética\n",
    "unMedio = sym.Rational(1,2) # Rational: fracción de enteros, alternativamente podría haberse usado 0.5 \n",
    "m1_T = unMedio* m1* m1_v_cuadrado\n",
    "m2_T = unMedio* m2* m2_v_cuadrado\n",
    "T = sym.Eq(sym.Symbol('T'), (m1_T + m2_T) ) # simplify: simplifica usando factor común y otras operaciones\n",
    "T"
   ]
  },
  {
   "cell_type": "markdown",
   "metadata": {},
   "source": [
    "## Energía potencial\n",
    "A veces el potencial es más sencillo de determinar partiendo de las fuerzas identificas en el sistema que depende de los campos que actuan sobre el mismo.\n",
    "En este problema está presente el campo gravitatorio responsable de la aceleración $\\vec{g}= -g \\hat{y}$ actuando sobre todas las $m_i$, causando sobre estas la fuerza peso $\\vec{P}= m \\vec{g}$.\n",
    "\n",
    "La expresión más sencilla para calcular el potencial gravitatorio es\n",
    "$$\n",
    "V = - \\vec{P} \\cdot \\vec{r}\n",
    "$$"
   ]
  },
  {
   "cell_type": "markdown",
   "metadata": {},
   "source": [
    "con lo que el potencial del sistema queda\n",
    "$$\n",
    "\\begin{aligned}\n",
    "V(\\varphi)\n",
    "&= -\\vec{P}_1 \\cdot \\vec{r}_2 \\\\\n",
    "&= - [m_2 (g (- \\hat{y} ) ] \\cdot (x_2 \\hat{x} + y_2 \\hat{y}) \\\\\n",
    "&= - (- m_2 g\\hat{y} ) \\cdot ( y_2 \\hat{y}) \\\\\n",
    "&= (m_2 g) \\hat{y} \\cdot (-\\ell \\cos{\\varphi}) \\hat{y} \\\\\n",
    "&= - m_2 g \\ell \\cos{\\varphi}.\n",
    "\\end{aligned}\n",
    "$$"
   ]
  },
  {
   "cell_type": "code",
   "execution_count": 10,
   "metadata": {},
   "outputs": [
    {
     "data": {
      "image/png": "[encoded data removed]",
      "text/latex": [
       "$\\displaystyle V = - \\ell g m_{2} \\cos{\\left(φ \\right)}$"
      ],
      "text/plain": [
       "V = -\\ell⋅g⋅m₂⋅cos(φ)"
      ]
     },
     "execution_count": 10,
     "metadata": {},
     "output_type": "execute_result"
    }
   ],
   "source": [
    "# Energía potencial\n",
    "m1_V = 0\n",
    "m2_V = - (m2* g* (- N.y)).dot(m2_r)\n",
    "V = sym.Eq(sym.Symbol('V'), (m1_V + m2_V ).simplify() )\n",
    "V"
   ]
  },
  {
   "cell_type": "markdown",
   "metadata": {},
   "source": [
    "## Recuperando el péndulo ideal\n",
    "![](figuras/pénduloHorizontal.png)   \n",
    "Un péndulo simple conviene trabajarlo en coordenadas cilíndricas.\n",
    "En estas un péndulo rígido e ideal tiene una única componente no nula de su velocidad: la que vá en $\\hat{\\varphi}$ es decir $\\dot{\\vec{r}} \\cdot \\hat{\\varphi}= \\ell \\dot{\\varphi}$.\n",
    "Así\n",
    "$$\n",
    "T= \\frac{m}{2} \\dot{\\vec{r}}^2= \\frac{m}{2} \\ell^2 \\dot{\\varphi}^2.\n",
    "$$\n",
    "\n"
   ]
  },
  {
   "cell_type": "markdown",
   "metadata": {},
   "source": [
    "Si en la expresión de la energía cinética del sistema anterior substituimos por $0$ la posición de la suspensión"
   ]
  },
  {
   "cell_type": "code",
   "execution_count": 11,
   "metadata": {},
   "outputs": [
    {
     "data": {
      "image/png": "[encoded data removed]",
      "text/latex": [
       "$\\displaystyle T = \\frac{m_{1} \\dot{x}^{2}}{2} + \\frac{m_{2} \\left(\\ell^{2} \\dot{φ}^{2} + 2 \\ell \\cos{\\left(φ \\right)} \\dot{x} \\dot{φ} + \\dot{x}^{2}\\right)}{2}$"
      ],
      "text/plain": [
       "        2      ⎛    2  2                        2⎞\n",
       "    m₁⋅ẋ    m₂⋅⎝\\ell ⋅φ̇  + 2⋅\\ell⋅cos(φ)⋅ẋ⋅φ̇ + ẋ ⎠\n",
       "T = ───── + ──────────────────────────────────────\n",
       "      2                       2                   "
      ]
     },
     "execution_count": 11,
     "metadata": {},
     "output_type": "execute_result"
    }
   ],
   "source": [
    "T.subs(m1_r, 0)"
   ]
  },
  {
   "cell_type": "markdown",
   "metadata": {},
   "source": [
    "no llega a la expresión buscada pues no afecta a la velocidad, solo se indico que la posición es $0$, pero no que esta lo será para todo tiempo.\n",
    "Entonces hay que sustituir $\\dot{x}$ también por $0$."
   ]
  },
  {
   "cell_type": "code",
   "execution_count": 12,
   "metadata": {},
   "outputs": [
    {
     "data": {
      "image/png": "[encoded data removed]",
      "text/latex": [
       "$\\displaystyle \\dot{x}$"
      ],
      "text/plain": [
       "ẋ"
      ]
     },
     "execution_count": 12,
     "metadata": {},
     "output_type": "execute_result"
    }
   ],
   "source": [
    "x1_punto = x.diff(t)\n",
    "x1_punto"
   ]
  },
  {
   "cell_type": "code",
   "execution_count": 13,
   "metadata": {},
   "outputs": [
    {
     "data": {
      "image/png": "[encoded data removed]",
      "text/latex": [
       "$\\displaystyle T = \\frac{\\ell^{2} m_{2} \\dot{φ}^{2}}{2}$"
      ],
      "text/plain": [
       "        2     2\n",
       "    \\ell ⋅m₂⋅φ̇ \n",
       "T = ───────────\n",
       "         2     "
      ]
     },
     "execution_count": 13,
     "metadata": {},
     "output_type": "execute_result"
    }
   ],
   "source": [
    "T.subs(x1_punto, 0)"
   ]
  },
  {
   "cell_type": "markdown",
   "metadata": {},
   "source": [
    "Ahora si esta es la $T$ de un péndulo ideal."
   ]
  },
  {
   "cell_type": "markdown",
   "metadata": {},
   "source": [
    "Si establecemos como en el sistema analizado $V(y_0)= 0$ el potencial gravitatorio es $V(y)= m g y$, pero como usamos coordenadas cilíndricas $y= -\\ell \\cos{\\varphi}$.\n",
    "Así\n",
    "$$\n",
    "V(\\varphi)= -m g \\ell \\cos{\\varphi}.\n",
    "$$"
   ]
  },
  {
   "cell_type": "markdown",
   "metadata": {},
   "source": [
    "Como ni $x_1$ ni $\\dot{x}_1$ tienen ningún papel en la energía potencial esta es la misma en el péndulo que en este sistema. "
   ]
  },
  {
   "cell_type": "markdown",
   "metadata": {},
   "source": [
    "## Una \"nota\" sobre la \"notación\" (¡cuac!).\n",
    "\n",
    "Los cuadernos (notebook) **Jupyter** permiten utilizar la escritura de expresiones matemáticas en notación $\\LaTeX$.\n",
    "Por ejemplo el símbolo que designa la velocidad angular, la **phi** del alfabeto griego, se puede lograr escribiendo `\\varphi` logrando $\\varphi$, o con su otra grafía `\\phi` logrando $\\phi$.\n",
    "Tras escribir cualquiera de estos se presiona el `tabulador`  y el texto se convierte en un único carácter `unicode` que puede manipularse como cualquier otro (e.g. copiar y pegar).\n",
    "\n",
    "$\\LaTeX$ permite escribir más cosas en formato matemático que símbolos sueltos.\n",
    "Expresiones matemáticas complejas, e.g. $\\sqrt{ \\frac{\\sin(\\varphi) }{2} }$ pueden presentarse en la línea de texo englobando lo escrito entre un par de `$`.\n",
    "Al ejecutar la celda `markdown` se reemplaza lo escrito en notación $\\LaTeX$ por el equivalente en la notación matemática usual.\n",
    "\n",
    "Si la expresión es larga, o central en lo que se explica, puede escribirse en una línea aparte englobandola en un par de `$$`, e.g.\n",
    "$$\n",
    "    \\sqrt{ \\frac{\\sin(\\varphi) }{2} }.\n",
    "$$\n",
    "\n",
    "Una lista práctica de como se escriben los símbolos más comunes está en la página:  \n",
    "[Learning Latex: List of Mathematical Symbols\n",
    "](https://sampig.github.io/tutorial/2019/04/28/learning-latex-mathematical-symbols#greek-letters)"
   ]
  },
  {
   "cell_type": "code",
   "execution_count": null,
   "metadata": {},
   "outputs": [],
   "source": []
  }
 ],
 "metadata": {
  "kernelspec": {
   "display_name": "Python 3",
   "language": "python",
   "name": "python3"
  },
  "language_info": {
   "codemirror_mode": {
    "name": "ipython",
    "version": 3
   },
   "file_extension": ".py",
   "mimetype": "text/x-python",
   "name": "python",
   "nbconvert_exporter": "python",
   "pygments_lexer": "ipython3",
   "version": "3.7.3"
  }
 },
 "nbformat": 4,
 "nbformat_minor": 4
}
