{
 "cells": [
  {
   "cell_type": "markdown",
   "metadata": {},
   "source": [
    "# Euler-Lagrange | Péndulo doble"
   ]
  },
  {
   "cell_type": "markdown",
   "metadata": {},
   "source": [
    "![UNLaM | DIIT](figuras/ambos.png)    \n",
    "© 2021 [Víctor A. Bettachini](mailto:vbettachini@unlam.edu.ar)  \n",
    "Mecánica General  \n",
    "Departamento de Ingeniería e Investigación Tecnológica  \n",
    "Universidad Nacional de La Matanza  \n",
    "\n",
    "---"
   ]
  },
  {
   "cell_type": "markdown",
   "metadata": {},
   "source": [
    "# Enunciado\n",
    "Escriba el Lagrangiano para un péndulo doble oscilando en un plano en función de las coordenadas generalizadas sugeridas por las figura.  \n",
    "Ayuda: \\\\( \\cos(\\alpha \\pm \\beta ) = \\cos{ \\alpha} \\cos{ \\beta \\mp \\sin \\alpha} \\sin{ \\beta } \\\\)\n",
    "\n",
    "Verifique que recupera el Lagrangiano de un péndulo simple de asumir \\\\(m_1=0\\\\), \\\\(\\varphi_1 = \\varphi_2 = \\varphi\\\\) y \\\\(l_1 = l_2 = \\frac{l}{2}\\\\).  \n",
    "![](figuras/landauS52_fig1.png)  "
   ]
  },
  {
   "cell_type": "markdown",
   "metadata": {},
   "source": [
    "## Resolución"
   ]
  },
  {
   "cell_type": "code",
   "execution_count": 1,
   "metadata": {},
   "outputs": [],
   "source": [
    "# módulo de cálculo simbólico\n",
    "import sympy as sym\n",
    "import sympy.physics.mechanics as mech\n",
    "mech.init_vprinting() # notación con puntos para derivadas temporales\n",
    "\n",
    "import warnings\n",
    "warnings.filterwarnings(\"ignore\")"
   ]
  },
  {
   "cell_type": "markdown",
   "metadata": {},
   "source": [
    "### Variables"
   ]
  },
  {
   "cell_type": "code",
   "execution_count": 2,
   "metadata": {},
   "outputs": [],
   "source": [
    "# Defino los parámetros físicos del sistema\n",
    "m1, m2, g, l1, l2 = sym.symbols('m_1, m_2, g, l_1, l_2', positive=True)\n",
    "\n",
    "# Defino coordenadas generalizadas \n",
    "t = sym.symbols('t') # tiempo\n",
    "# phi1 = sym.Function('varphi_1')(t)\n",
    "# phi2 = sym.Function('varphi_2')(t)\n",
    "φ1, φ2 = mech.dynamicsymbols('φ_1, φ_2') "
   ]
  },
  {
   "cell_type": "markdown",
   "metadata": {},
   "source": [
    "## Posición"
   ]
  },
  {
   "cell_type": "code",
   "execution_count": 3,
   "metadata": {},
   "outputs": [],
   "source": [
    "# Sistema cartesiano\n",
    "N = sym.physics.vector.ReferenceFrame('N') # marco referencial N en coordenadas cartesianas\n",
    "\n",
    "# posiciones\n",
    "#r_m1 = l1* ( sym.sin(phi1)* N.x  + sym.cos(phi1)* N.y )\n",
    "r_m1 = l1* ( sym.sin(φ1)* N.x  + sym.cos(φ1)* N.y )\n",
    "#r_m2 = r_m1 + l2* ( sym.sin(phi2)* N.x  + sym.cos(phi2)* N.y )\n",
    "r_m2 = r_m1 + l2* ( sym.sin(φ2)* N.x  + sym.cos(φ2)* N.y )"
   ]
  },
  {
   "cell_type": "markdown",
   "metadata": {},
   "source": [
    "### Energía cinética"
   ]
  },
  {
   "cell_type": "code",
   "execution_count": 4,
   "metadata": {},
   "outputs": [
    {
     "data": {
      "image/png": "[encoded data removed]",
      "text/latex": [
       "$\\displaystyle T = \\frac{m_{1} \\left(l_{1}^{2} \\sin^{2}{\\left(φ_{1} \\right)} \\dot{φ}_{1}^{2} + l_{1}^{2} \\cos^{2}{\\left(φ_{1} \\right)} \\dot{φ}_{1}^{2}\\right)}{2} + \\frac{m_{2} \\left(\\left(- l_{1} \\sin{\\left(φ_{1} \\right)} \\dot{φ}_{1} - l_{2} \\sin{\\left(φ_{2} \\right)} \\dot{φ}_{2}\\right)^{2} + \\left(l_{1} \\cos{\\left(φ_{1} \\right)} \\dot{φ}_{1} + l_{2} \\cos{\\left(φ_{2} \\right)} \\dot{φ}_{2}\\right)^{2}\\right)}{2}$"
      ],
      "text/plain": [
       "       ⎛  2    2       2     2    2       2⎞      ⎛                           \n",
       "    m₁⋅⎝l₁ ⋅sin (φ₁)⋅φ₁̇  + l₁ ⋅cos (φ₁)⋅φ₁̇ ⎠   m₂⋅⎝(-l₁⋅sin(φ₁)⋅φ₁̇ - l₂⋅sin\n",
       "T = ──────────────────────────────────────── + ───────────────────────────────\n",
       "                       2                                                      \n",
       "\n",
       "     2                                  2⎞\n",
       "(φ₂)⋅φ₂̇)  + (l₁⋅cos(φ₁)⋅φ₁̇ + l₂⋅cos(φ₂)⋅φ₂̇) ⎠\n",
       "──────────────────────────────────────────\n",
       "     2                                    "
      ]
     },
     "execution_count": 4,
     "metadata": {},
     "output_type": "execute_result"
    }
   ],
   "source": [
    "# velocidades\n",
    "v_m1 = r_m1.diff(t, N) # derivada respecto a t en el marco referencial N\n",
    "v_m2 = r_m2.diff(t, N)\n",
    "\n",
    "# velocidades al cuadrado es decir producto punto con si mismo\n",
    "v_m1_cuadrado = v_m1.dot(v_m1)\n",
    "v_m2_cuadrado = v_m2.dot(v_m2)\n",
    "\n",
    "# energía cinética\n",
    "unMedio = sym.Rational(1,2) # Rational: fracción de enteros, alternativamente podría haberse usado 0.5 \n",
    "T_m1 = unMedio* m1* v_m1_cuadrado\n",
    "T_m2 = unMedio* m2* v_m2_cuadrado\n",
    "T = sym.Eq(sym.Symbol('T'), (T_m1+ T_m2) ) \n",
    "T"
   ]
  },
  {
   "cell_type": "code",
   "execution_count": 5,
   "metadata": {},
   "outputs": [
    {
     "data": {
      "image/png": "[encoded data removed]",
      "text/latex": [
       "$\\displaystyle T = \\frac{l_{1}^{2} m_{1} \\dot{φ}_{1}^{2}}{2} + \\frac{m_{2} \\left(l_{1}^{2} \\dot{φ}_{1}^{2} + 2 l_{1} l_{2} \\cos{\\left(φ_{1} - φ_{2} \\right)} \\dot{φ}_{1} \\dot{φ}_{2} + l_{2}^{2} \\dot{φ}_{2}^{2}\\right)}{2}$"
      ],
      "text/plain": [
       "      2      2      ⎛  2   2                                  2   2⎞\n",
       "    l₁ ⋅m₁⋅φ₁̇    m₂⋅⎝l₁ ⋅φ₁̇  + 2⋅l₁⋅l₂⋅cos(φ₁ - φ₂)⋅φ₁̇⋅φ₂̇ + l₂ ⋅φ₂̇ ⎠\n",
       "T = ────────── + ───────────────────────────────────────────────────\n",
       "        2                                 2                         "
      ]
     },
     "execution_count": 5,
     "metadata": {},
     "output_type": "execute_result"
    }
   ],
   "source": [
    "T.simplify() # simplify: simplifica usando factor común y otras operaciones"
   ]
  },
  {
   "cell_type": "markdown",
   "metadata": {},
   "source": [
    "### Energía potencial"
   ]
  },
  {
   "cell_type": "markdown",
   "metadata": {},
   "source": [
    "Como vimos, estableciendo la usual $V(y_0=0)=0$ nos queda\n",
    "$$\n",
    "V_i= - m_i g y_i.\n",
    "$$\n",
    "\n",
    "Solo nos ocupa tener la componente en $\\hat{y}$ de la pesa de $m_2$.\n",
    "Esto se obtiene de multiplicar (producto punto) su posición $\\vec{r}_2$ con el versor $\\hat{y}$."
   ]
  },
  {
   "cell_type": "code",
   "execution_count": 6,
   "metadata": {},
   "outputs": [
    {
     "data": {
      "image/png": "[encoded data removed]",
      "text/latex": [
       "$\\displaystyle V = - g \\left(l_{1} m_{1} \\cos{\\left(φ_{1} \\right)} + l_{1} m_{2} \\cos{\\left(φ_{1} \\right)} + l_{2} m_{2} \\cos{\\left(φ_{2} \\right)}\\right)$"
      ],
      "text/plain": [
       "V = -g⋅(l₁⋅m₁⋅cos(φ₁) + l₁⋅m₂⋅cos(φ₁) + l₂⋅m₂⋅cos(φ₂))"
      ]
     },
     "execution_count": 6,
     "metadata": {},
     "output_type": "execute_result"
    }
   ],
   "source": [
    "y_m1 = r_m1.dot(N.y)\n",
    "y_m2 = r_m2.dot(N.y)\n",
    "\n",
    "# Energía potencial\n",
    "V_m1 = m1* g* (-y_m1)\n",
    "V_m2 = m2* g* (-y_m2)\n",
    "V = sym.Eq(sym.Symbol('V'), V_m1  + V_m2).simplify()\n",
    "V"
   ]
  },
  {
   "cell_type": "markdown",
   "metadata": {},
   "source": [
    "### Lagrangiano"
   ]
  },
  {
   "cell_type": "code",
   "execution_count": 7,
   "metadata": {},
   "outputs": [
    {
     "data": {
      "image/png": "[encoded data removed]",
      "text/latex": [
       "$\\displaystyle \\mathcal{L} = g \\left(l_{1} m_{1} \\cos{\\left(φ_{1} \\right)} + l_{1} m_{2} \\cos{\\left(φ_{1} \\right)} + l_{2} m_{2} \\cos{\\left(φ_{2} \\right)}\\right) + \\frac{l_{1}^{2} m_{1} \\dot{φ}_{1}^{2}}{2} + \\frac{m_{2} \\left(l_{1}^{2} \\dot{φ}_{1}^{2} + 2 l_{1} l_{2} \\cos{\\left(φ_{1} - φ_{2} \\right)} \\dot{φ}_{1} \\dot{φ}_{2} + l_{2}^{2} \\dot{φ}_{2}^{2}\\right)}{2}$"
      ],
      "text/plain": [
       "                                                                    2      2  \n",
       "                                                                  l₁ ⋅m₁⋅φ₁̇  \n",
       "\\mathcal{L} = g⋅(l₁⋅m₁⋅cos(φ₁) + l₁⋅m₂⋅cos(φ₁) + l₂⋅m₂⋅cos(φ₂)) + ────────── +\n",
       "                                                                      2       \n",
       "\n",
       "    ⎛  2   2                                  2   2⎞\n",
       "  m₂⋅⎝l₁ ⋅φ₁̇  + 2⋅l₁⋅l₂⋅cos(φ₁ - φ₂)⋅φ₁̇⋅φ₂̇ + l₂ ⋅φ₂̇ ⎠\n",
       " ───────────────────────────────────────────────────\n",
       "                          2                         "
      ]
     },
     "execution_count": 7,
     "metadata": {},
     "output_type": "execute_result"
    }
   ],
   "source": [
    "L = sym.Eq(sym.Symbol('\\mathcal{L}'), (T.rhs- V.rhs)).simplify()\n",
    "L"
   ]
  },
  {
   "cell_type": "markdown",
   "metadata": {},
   "source": [
    "## Verificando que se recupera el péndulo simple"
   ]
  },
  {
   "cell_type": "markdown",
   "metadata": {},
   "source": [
    "Se debe sustituir en la difinición de coordenadas $\\varphi_1$ y $\\varphi_2$ por $\\varphi$."
   ]
  },
  {
   "cell_type": "code",
   "execution_count": 10,
   "metadata": {},
   "outputs": [],
   "source": [
    "# phi = sym.Function('varphi')(t)\n",
    "φ = sym.Function('φ')(t)\n",
    "coordenadasSubstituir ={\n",
    "    φ1 : φ,\n",
    "    φ2 : φ,\n",
    "#     phi1 : phi,\n",
    "#     phi2 : phi\n",
    "}\n",
    "r_m1 = r_m1.subs(coordenadasSubstituir)\n",
    "r_m2 = r_m2.subs(coordenadasSubstituir)"
   ]
  },
  {
   "cell_type": "markdown",
   "metadata": {},
   "source": [
    "Calcular nuevamente energías cinética y potencial."
   ]
  },
  {
   "cell_type": "code",
   "execution_count": 11,
   "metadata": {},
   "outputs": [
    {
     "data": {
      "image/png": "[encoded data removed]",
      "text/latex": [
       "$\\displaystyle T = \\frac{\\left(l_{1}^{2} m_{1} + m_{2} \\left(l_{1} + l_{2}\\right)^{2}\\right) \\dot{φ}^{2}}{2}$"
      ],
      "text/plain": [
       "    ⎛  2                  2⎞  2\n",
       "    ⎝l₁ ⋅m₁ + m₂⋅(l₁ + l₂) ⎠⋅φ̇ \n",
       "T = ───────────────────────────\n",
       "                 2             "
      ]
     },
     "execution_count": 11,
     "metadata": {},
     "output_type": "execute_result"
    }
   ],
   "source": [
    "# velocidades\n",
    "v_m1 = r_m1.diff(t,N) # derivada respecto a t en el marco referencial N\n",
    "v_m2 = r_m2.diff(t,N)\n",
    "\n",
    "# velocidades al cuadrado es decir producto punto con si mismo\n",
    "v_m1_cuadrado = v_m1.dot(v_m1)\n",
    "v_m2_cuadrado = v_m2.dot(v_m2)\n",
    "\n",
    "# energía cinética\n",
    "unMedio = sym.Rational(1,2) # Rational: fracción de enteros, alternativamente podría haberse usado 0.5 \n",
    "T_m1 = unMedio* m1* v_m1_cuadrado\n",
    "T_m2 = unMedio* m2* v_m2_cuadrado\n",
    "T = sym.Eq(sym.Symbol('T'), (T_m1+ T_m2) ).simplify() # simplify: simplifica usando factor común y otras operaciones\n",
    "T"
   ]
  },
  {
   "cell_type": "code",
   "execution_count": 12,
   "metadata": {},
   "outputs": [
    {
     "data": {
      "image/png": "[encoded data removed]",
      "text/latex": [
       "$\\displaystyle V = - g \\left(l_{1} m_{1} + m_{2} \\left(l_{1} + l_{2}\\right)\\right) \\cos{\\left(φ \\right)}$"
      ],
      "text/plain": [
       "V = -g⋅(l₁⋅m₁ + m₂⋅(l₁ + l₂))⋅cos(φ)"
      ]
     },
     "execution_count": 12,
     "metadata": {},
     "output_type": "execute_result"
    }
   ],
   "source": [
    "y_m1 = r_m1.dot(N.y)\n",
    "y_m2 = r_m2.dot(N.y)\n",
    "\n",
    "# Energía potencial\n",
    "V_m1 = m1* (-g)* y_m1\n",
    "V_m2 = m2* (-g)* y_m2\n",
    "V = sym.Eq(sym.Symbol('V'), V_m1  + V_m2).simplify()\n",
    "V.simplify()"
   ]
  },
  {
   "cell_type": "markdown",
   "metadata": {},
   "source": [
    "Y substituir parámetros nuevos en los componentes del Lagrangiano."
   ]
  },
  {
   "cell_type": "code",
   "execution_count": 13,
   "metadata": {},
   "outputs": [
    {
     "data": {
      "image/png": "[encoded data removed]",
      "text/latex": [
       "$\\displaystyle \\left( T = \\frac{l^{2} m \\dot{φ}^{2}}{2}, \\  V = - g l m \\cos{\\left(φ \\right)}\\right)$"
      ],
      "text/plain": [
       "⎛     2    2                   ⎞\n",
       "⎜    l ⋅m⋅φ̇                    ⎟\n",
       "⎜T = ───────, V = -g⋅l⋅m⋅cos(φ)⎟\n",
       "⎝       2                      ⎠"
      ]
     },
     "execution_count": 13,
     "metadata": {},
     "output_type": "execute_result"
    }
   ],
   "source": [
    "m, l = sym.symbols('m l')\n",
    "parametros ={\n",
    "    m1 : 0,\n",
    "    m2 : m,\n",
    "    l1: l/2,\n",
    "    l2: l/2\n",
    "}\n",
    "T.subs(parametros).simplify(), V.subs(parametros)"
   ]
  },
  {
   "cell_type": "code",
   "execution_count": 14,
   "metadata": {},
   "outputs": [
    {
     "data": {
      "image/png": "[encoded data removed]",
      "text/latex": [
       "$\\displaystyle \\mathcal{L} = \\frac{l m \\left(2 g \\cos{\\left(φ \\right)} + l \\dot{φ}^{2}\\right)}{2}$"
      ],
      "text/plain": [
       "                  ⎛                2⎞\n",
       "              l⋅m⋅⎝2⋅g⋅cos(φ) + l⋅φ̇ ⎠\n",
       "\\mathcal{L} = ───────────────────────\n",
       "                         2           "
      ]
     },
     "execution_count": 14,
     "metadata": {},
     "output_type": "execute_result"
    }
   ],
   "source": [
    "L = sym.Eq(sym.Symbol('\\mathcal{L}'), (T.rhs- V.rhs).subs(parametros) )\n",
    "L.simplify()"
   ]
  },
  {
   "cell_type": "markdown",
   "metadata": {},
   "source": [
    "Que es el Lagrangiano para un péndulo simple ideal."
   ]
  },
  {
   "cell_type": "code",
   "execution_count": null,
   "metadata": {},
   "outputs": [],
   "source": []
  }
 ],
 "metadata": {
  "kernelspec": {
   "display_name": "Python 3",
   "language": "python",
   "name": "python3"
  },
  "language_info": {
   "codemirror_mode": {
    "name": "ipython",
    "version": 3
   },
   "file_extension": ".py",
   "mimetype": "text/x-python",
   "name": "python",
   "nbconvert_exporter": "python",
   "pygments_lexer": "ipython3",
   "version": "3.7.3"
  }
 },
 "nbformat": 4,
 "nbformat_minor": 4
}
