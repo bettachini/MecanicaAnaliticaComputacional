{
 "cells": [
  {
   "cell_type": "markdown",
   "metadata": {},
   "source": [
    "# Péndulo con punto de suspensión libre\n",
    "© 2020\n",
    "Víctor A. Bettachini  \n",
    "Mecánica General  \n",
    "Departamento de Ingeniería e Investigación Tecnológica  \n",
    "Universidad Nacional de La Matanza  \n",
    "\n",
    "---\n",
    "\n",
    "Resolución del ejercicio 2 sección 5 ($\\S 5$) de  \n",
    "Lev Davidovich Landau, y E. M. Lifshitz. Mecánica. 2.a. Curso de física teórica. Reverté, 1994."
   ]
  },
  {
   "cell_type": "markdown",
   "metadata": {},
   "source": [
    "## Enunciado\n",
    "Escriba el Lagrangiano en función de las coordenadas generalizadas sugeridas por las figura para un péndulo oscilando en un plano de masa $m_2$ cuyo punto de suspensión, de masa $m_1$, puede desplazarse sobre una recta horizontal.\n",
    "\n",
    "Verifique que recupera el Lagrangiano de un péndulo simple de asumir fija la masa $m_1$.\n",
    "<!---\n",
    "<img src=\"landauFig52_2.png\" width=\"150\" />\n",
    "--->\n",
    "![](../graphs/landauFig52_2.png \"Figura 2 del libro de Landau.\")"
   ]
  },
  {
   "cell_type": "markdown",
   "metadata": {},
   "source": [
    "## Resolucíón\n",
    "\n",
    "### Coordenadas generalizadas\n",
    "Referencia: Landau $\\S1$, Apunte Lanczos $\\S 2.2$\n",
    "\n",
    "En principio cada una de las $P$ partículas del sistema, de masa $m_1$ y $m_2$ debieran gozar de sus 3 **grados de libertad** en un mundo tridimensional.\n",
    "Este sistema de $P=2$ partículas tendría $N= 3P=6$ grados de libertad: $q_1, q_2,\\dots,q_n$.\n",
    "Estos no son necesariamente coordenadas, pueden ser cualquier magnitud que nos permita determinar posiciones, e.g. una coordenada en el sistema cartesiano puede ser función de estas $x_1= f(q_1, q_2,\\dots,q_n)$.\n",
    "Comos sabemos no alcanza con posiciones para determinar la dinámica sino que necesitamos también las velocidades, así que nos interesarán también $\\dot{q}_1, \\dot{q}_2,\\dots,\\dot{q}_n$.\n",
    "\n",
    "Así la descrpición de la dinámica de este sistema requiría de $3P= 6$ coordenadas para sus posiciones y también $3P$ velocidades. Pero a las partículas les imponemos restricciones que se los quitan:\n",
    "1. El movimiento se limita al plano, dos restricciones.\n",
    "2. La partícula $1$ está engarzada en la corredera horizontal, una restricción\n",
    "3. La $2$ no tiene más remedio que estár separada en $l$ de $1$, una restricción.\n",
    "\n",
    "Un total de $K=4$ restricciones, que aprenderemos nos reducen los grados de libertad del sistema a $3P-K= 2$.\n",
    "Es decir que con solo $2$ **coordenadas generalizadas** (y sus respectivas derivadas en el tiempo) habremos definido la dinámica del sistema."
   ]
  },
  {
   "cell_type": "markdown",
   "metadata": {},
   "source": [
    "### Relación de coordenadas generalizadas con el sistema cartesiano\n",
    "La figura que acompaña a este problema nos sugiere dos coordenadas generalizas al ubicar la $m_1$ sobre el eje $x$, podemos determinar su posición con solo $x_1$,\n",
    "$$\n",
    "\\begin{aligned}\n",
    "\\vec{r}_1 \n",
    "&= f_1(x_1) \\hat{x} \\\\\n",
    "&= x_1 \\hat{x}.\n",
    "\\end{aligned}\n",
    "$$\n",
    "La $m_2$ necesitaría de $x_2$ y $y_2$, pero para determinar estos veremos que nos basta con agregar $\\varphi$ como coordenada,\n",
    "$$\n",
    "\\begin{aligned}\n",
    "\\vec{r}_2 \n",
    "&= f_2(x_1,\\varphi) \\hat{x} + f_3(x_1,\\varphi) \\hat{y}\\\\\n",
    "&= \\left( x_1 + l \\sin{\\varphi} \\right) \\hat{x} + (-l \\cos{\\varphi}) \\hat{y}.\n",
    "\\end{aligned}\n",
    "$$"
   ]
  },
  {
   "cell_type": "markdown",
   "metadata": {},
   "source": [
    "## Lagrangiano\n",
    "Referencia: Apunte Lanczos $\\S5$\n",
    "\n",
    "El Lagrangiano (o función Lagrangiana) de un sistema es determinado por la energía cinética $T$ y el potencial $V$ de este sistema expresados en función de coordenadas, velocidades generalizadas y eventualmente el tiempo,\n",
    "$$\n",
    "L(q_i, \\dot{q}_i, t)= T(q_i, \\dot{q}_i, t) - V(q_i, \\dot{q}_i, t).\n",
    "$$"
   ]
  },
  {
   "cell_type": "markdown",
   "metadata": {},
   "source": [
    "### Energía cinética\n",
    "En coordenadas cartesianas \n",
    "La energía cinética de una partícula de masa $m$ es $T= \\frac{m}{2} \\left(\\dot{\\vec{r}}\\right)^2 = \\frac{m}{2} \\left(\\dot{\\vec{r}} \\cdot \\dot{\\vec{r}}\\right) = \\frac{m}{2} \\left(\\dot{r_i}^2+ \\dot{r_j}^2+ \\dot{r_k}^2 \\right)$.\n",
    "\n",
    "Habrá que hacer uso del sistema de coordenas que facilite más la tarea.\n",
    "En este ejercicio son las cartesianas en el cuál es muy sencillo escribir esta energía como $T= \\frac{m}{2} \\left(\\dot{x}^2+ \\dot{y}^2+ \\dot{z}^2 \\right)$.\n",
    "\n",
    "Para este sistema\n",
    "$$\n",
    "T = \\sum_{i=1}^{P=2} \\frac{m_i}{2} \\left( \\dot{\\vec{r}}_i \\right)^2 = \\frac{m_1}{2} \\left( \\dot{\\vec{r}}_1 \\right)^2 + \\frac{m_2}{2} \\left( \\dot{\\vec{r}}_2 \\right)^2\n",
    "$$\n",
    "\n",
    "Debemos calcular las $\\dot{\\vec{r}}_i$ y para eso hacemos uso de las expresiones que obtuvimos antes\n",
    "$$\n",
    "\\begin{aligned}\n",
    "\\dot{\\vec{r}}_1 &= \\dot{x}_1 \\hat{x} \\\\\n",
    "\\dot{\\vec{r}}_2 &= \\left( \\dot{x}_1 + l \\cos{\\varphi} \\dot{\\varphi} \\right) \\hat{x} + \\left( l \\sin{\\varphi} \\dot{\\varphi} \\right) \\hat{y} .\n",
    "\\end{aligned}\n",
    "$$\n",
    "Y ahora con estos $\\left( \\dot{\\vec{r}}_i \\right)^2$\n",
    "$$\n",
    "\\begin{aligned}\n",
    "\\left(\\dot{\\vec{r}}_1 \\right)^2= \\dot{\\vec{r}}_1 \\cdot \\dot{\\vec{r}}_1 &= \\dot{x}_1^2  \\\\\n",
    "\\left(\\dot{\\vec{r}}_2 \\right)^2= \\dot{\\vec{r}}_2 \\cdot \\dot{\\vec{r}}_2 \n",
    "&= \\left( \\dot{x}_1 + l \\cos{\\varphi} \\dot{\\varphi} \\right)^2 + \\left( l \\sin{\\varphi} \\dot{\\varphi} \\right)^2 \\\\\n",
    "&= \\left( \\dot{x}_1^2 + 2 \\dot{x}_1 l \\cos{\\varphi} \\dot{\\varphi} + l^2 \\cos^2{\\varphi} \\dot{\\varphi}^2 \\right) + \\left( l^2 \\sin^2{\\varphi} \\dot{\\varphi}^2 \\right) \\\\\n",
    "&= \\dot{x}_1^2 + 2 \\dot{x}_1 l \\cos{\\varphi} \\dot{\\varphi} + l^2 \\dot{\\varphi}^2 . \n",
    "\\end{aligned}\n",
    "$$\n",
    "\n",
    "Con esto hecho la energía cinética queda\n",
    "$$\n",
    "\\begin{aligned}\n",
    "T(\\dot{x}_1, \\varphi, \\dot{\\varphi}) &= \\sum_i \\frac{m_i}{2} \\left( \\dot{\\vec{r}}_i \\right)^2 \\\\\n",
    "&= \\frac{m_1}{2} \\left( \\dot{\\vec{r}}_1 \\right)^2 + \\frac{m_2}{2} \\left( \\dot{\\vec{r}}_2 \\right)^2 \\\\\n",
    "& = \\frac{m_1}{2} \\dot{x}_1^2 + \\frac{m_2}{2} \\left( \\dot{x}_1^2 + 2 \\dot{x}_1 l \\cos{\\varphi} \\dot{\\varphi} + l^2 \\dot{\\varphi}^2 \\right) \\\\\n",
    "& = \\frac{m_1+ m_2}{2} \\dot{x}_1^2 + \\frac{m_2}{2} \\left( 2 \\dot{x}_1 l \\cos{\\varphi} \\dot{\\varphi} + l^2 \\dot{\\varphi}^2 \\right)\n",
    "\\end{aligned}\n",
    "$$"
   ]
  },
  {
   "cell_type": "markdown",
   "metadata": {},
   "source": [
    "### Energía potencial\n",
    "A veces el potencial es más sencillo de determinar partiendo de las fuerzas identificas en el sistema que depende de los campos que actuan sobre el mismo.\n",
    "En este problema está presente el campo gravitatorio responsable de la aceleración $\\vec{g}= -g \\hat{y}$ actuando sobre todas las $m_i$, causando sobre estas la $\\vec{F}= m \\vec{g}$.\n",
    "\n",
    "Toda fuerza cuasada por un campo se obtiene de calcuar el negativo de su divergencia $\\vec{F}= - \\vec{\\nabla} V$.\n",
    "Este último en coordenadas cartesianas es trivial, $\\vec{\\nabla}= (\\partial_x, \\partial_y, \\partial_z)$ (notación $\\partial_i= \\frac{\\partial}{ \\partial i}$ ).\n",
    "Para $\\vec{F}= m \\vec{g}= - m g \\hat{y}= - \\frac{\\partial V}{\\partial_y} \\hat{y} \\implies$ \n",
    "$$\n",
    "\\begin{aligned}\n",
    "\\mathrm{d} V &= m g \\mathrm{d} y\\\\\n",
    "\\int \\mathrm{d} V &= \\int m g \\mathrm{d} y = m g \\int \\mathrm{d} y \\\\\n",
    "V(y) - V(y_0) &= m g \\left(y- y_0 \\right)\n",
    "\\end{aligned},\n",
    "$$\n",
    "esta última en la que establecemos una $V(y_0)$ de refencia.\n",
    "Estableciendo la usual $V(y_o=0)=0$ nos queda\n",
    "$$\n",
    "V_i= m_i g y_i.\n",
    "$$\n",
    "\n",
    "Nos ocupa la coordenada $y_i$ de cada partícula\n",
    "$$\n",
    "\\begin{aligned}\n",
    "V_1 &= 0\\\\\n",
    "V_2 &= m_2 g (-l \\cos{\\varphi} ), \n",
    "\\end{aligned}\n",
    "$$\n",
    "con lo que el potencial del sistema queda\n",
    "$$\n",
    "V(\\varphi)= - m_2 g l \\cos{\\varphi}.\n",
    "$$"
   ]
  },
  {
   "cell_type": "markdown",
   "metadata": {},
   "source": [
    "### Al fin el Lagrangiano del sistema\n",
    "Con $T$ y $V$ finalmente expresamos\n",
    "$$\n",
    "L(\\dot{x}_1, \\varphi, \\dot{\\varphi})= T(\\dot{x}_1, \\varphi, \\dot{\\varphi}) - V(\\varphi) = \\frac{m_1+ m_2}{2} \\dot{x}_1^2 + \\frac{m_2}{2} \\left( 2 \\dot{x}_1 l \\cos{\\varphi} \\dot{\\varphi} + l^2 \\dot{\\varphi}^2 \\right) + m_2 g l \\cos{\\varphi}.\n",
    "$$"
   ]
  },
  {
   "cell_type": "markdown",
   "metadata": {},
   "source": [
    "## El Lagrangiano de un péndulo simple\n",
    "Un péndulo simple conviene trabajarlo en coordenadas cilíndricas.\n",
    "En estas un péndulo rígido e ideal tiene una única componente no nula de su velocidad: la que vá en $\\hat{\\varphi}$ es decir $\\dot{\\vec{r}} \\cdot \\hat{\\varphi}= l \\dot{\\varphi}$.\n",
    "Así\n",
    "$$\n",
    "T= \\frac{m}{2} \\dot{\\vec{r}}^2= \\frac{m}{2} l^2 \\dot{\\varphi}^2.\n",
    "$$\n",
    "Si establecemos como en el sistema analizado $V(y_0)= 0$ el potencial gravitatorio es $V(y)= m g y$, pero como usamos coordenadas cilíndricas $y= -l \\cos{\\varphi}$.\n",
    "Así\n",
    "$$\n",
    "V(\\varphi)= -m g l \\cos{\\varphi}.\n",
    "$$\n",
    "Con esto el Lagrangiano de un péndulo es\n",
    "$$\n",
    "L(\\varphi, \\dot{\\varphi})= T(\\dot{\\varphi}) - V(\\varphi)= \\frac{m}{2} l^2 \\dot{\\varphi}^2 + m g l \\cos{\\varphi}.\n",
    "$$\n",
    "\n",
    "Podemos recuperar el caso del péndulo rígido ideal a partir del péndulo de suspensión libre si \"inmovilizamos\" $m_1$ estableciendo $x_1= 0 (\\forall t)$ y por tanto $\\dot{x}_1=0$.\n",
    "Luego el Lagrangiano, que queda\n",
    "$$\n",
    "L(\\varphi, \\dot{\\varphi})= \\frac{m_2}{2} \\left( l^2 \\dot{\\varphi}^2 \\right) + m_2 g l \\cos{\\varphi}.\n",
    "$$\n",
    "Como puede apreciarse el mismo que obtuvimos para el péndulo."
   ]
  }
 ],
 "metadata": {
  "kernelspec": {
   "display_name": "Python 3",
   "language": "python",
   "name": "python3"
  },
  "language_info": {
   "codemirror_mode": {
    "name": "ipython",
    "version": 3
   },
   "file_extension": ".py",
   "mimetype": "text/x-python",
   "name": "python",
   "nbconvert_exporter": "python",
   "pygments_lexer": "ipython3",
   "version": "3.7.3"
  }
 },
 "nbformat": 4,
 "nbformat_minor": 4
}
