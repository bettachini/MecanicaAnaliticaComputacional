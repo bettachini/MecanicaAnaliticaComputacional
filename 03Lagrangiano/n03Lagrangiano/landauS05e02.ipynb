{
  "cells": [
    {
      "metadata": {
        "collapsed": true
      },
      "cell_type": "markdown",
      "source": "# Péndulo con punto de suspensión libre\n© 2020\nVíctor A. Bettachini  \nMecánica General  \nDepartamento de Ingeniería e Investigación Tecnológica  \nUniversidad Nacional de La Matanza  \n\nResolución del ejercicio 2 sección 5 ($\\S 5$) de  \nLev Davidovich Landau, y E. M. Lifshitz. Mecánica. 2.a. Curso de física teórica. Reverté, 1994."
    },
    {
      "metadata": {},
      "cell_type": "markdown",
      "source": "## Enunciado\nEscriba el Lagrangiano en función de las coordenadas generalizadas sugeridas por las figura para un péndulo oscilando en un plano de masa \\(m_2\\) cuyo punto de suspensión, de masa \\(m_1\\), puede desplazarse sobre una recta horizontal.\n\nVerifique que recupera el Lagrangiano de un péndulo simple de asumir fija la masa \\(m_1\\).\n![](landauFig52_2.png \"Figura 2 del libro de Landau.\")"
    },
    {
      "metadata": {},
      "cell_type": "markdown",
      "source": "## Resolucíón\n\n### Coordenadas generalizadas\nReferencia: Landau $\\S1$, Apunte Lanczos $\\S 2.2$\n\nEn principio cada una de las $P$ partículas del sistema, de masa $m_1$ y $m_2$ debieran gozar de sus 3 **grados de libertad** en un mundo tridimensional.\nEste sistema de $P=2$ partículas tendría $N= 3P=6$ grados de libertad: $q_1, q_2,\\dots,q_n$.\nEstos no son necesariamente coordenadas, pueden ser cualquier magnitud que nos permita determinar posiciones, e.g. una coordenada en el sistema cartesiano puede ser función de estas $x_1= f(q_1, q_2,\\dots,q_n)$.\nComos sabemos no alcanza con posiciones para determinar la dinámica sino que necesitamos también las velocidades, así que nos interesarán también $\\dot{q}_1, \\dot{q}_2,\\dots,\\dot{q}_n$.\n\nAsí la descrpición de la dinámica de este sistema requiría de $3P= 6$ coordenadas para sus posiciones y también $3P$ velocidades. Pero a las partículas les imponemos restricciones que se los quitan:\n1. El movimiento se limita al plano, dos restricciones.\n2. La partícula $1$ está engarzada en la corredera horizontal, una restricción\n3. La $2$ no tiene más remedio que estár separada en $l$ de $1$, una restricción.\n\nUn total de $K=4$ restricciones, que aprenderemos nos reducen los grados de libertad del sistema a $3P-K= 2$.\nEs decir que con solo $2$ **coordenadas generalizadas** (y sus respectivas derivadas en el tiempo) habremos definido la dinámica del sistema."
    },
    {
      "metadata": {},
      "cell_type": "markdown",
      "source": "### Relación de coordenadas generalizadas con el sistema cartesiano\nLa figura que acompaña a este problema nos sugiere dos coordenadas generalizas al ubicar la $m_1$ sobre el eje $x$, podemos determinar su posición con solo $x_1$,\n$$\n\\begin{aligned}\n\\vec{r}_1 \n&= f_1(x_1) \\hat{x} \\\\\n&= x_1 \\hat{x}.\n\\end{aligned}\n$$\nLa $m_2$ necesitaría de $x_2$ y $y_2$, pero para determinar estos veremos que nos basta con agregar $\\varphi$ como coordenada,\n$$\n\\begin{aligned}\n\\vec{r}_2 \n&= f_2(x_1,\\varphi) \\hat{x} + f_3(x_1,\\varphi) \\hat{y}\\\\\n&= \\left( x_1 + l \\sin{\\varphi} \\right) \\hat{x} + (-l \\cos{\\varphi}) \\hat{y}.\n\\end{aligned}\n$$"
    },
    {
      "metadata": {},
      "cell_type": "markdown",
      "source": "## Lagrangiano\nReferencia: Apunte Lanczos $\\S5$\n\nEl Lagrangiano (o función Lagrangiana) de un sistema es determinado por la energía cinética $T$ y el potencial $V$ de este sistema expresados en función de coordenadas, velocidades generalizadas y eventualmente el tiempo,\n$$\nL(q_i, \\dot{q}_i, t)= T(q_i, \\dot{q}_i, t) - V(q_i, \\dot{q}_i, t).\n$$\n\n### Energía cinética\nEn coordenadas cartesianas \nLa energía cinética de una partícula de masa $m$ es $T= \\frac{m}{2} \\left(\\dot{\\vec{r}}\\right)^2 = \\frac{m}{2} \\left(\\dot{\\vec{r}} \\cdot \\dot{\\vec{r}}\\right) = \\frac{m}{2} \\left(\\dot{r_i}^2+ \\dot{r_j}^2+ \\dot{r_k}^2 \\right)$.\n\nHabrá que hacer uso del sistema de coordenas que facilite más la tarea.\nEn este ejercicio son las cartesianas en el cuál es muy sencillo escribir esta energía como $T= \\frac{m}{2} \\left(\\dot{x}^2+ \\dot{y}^2+ \\dot{z}^2 \\right)$.\n\nPara este sistema \n$$\nT = \\sum_{i=1}^{P=2} \\frac{m_i}{2} \\left( \\dot{\\vec{r}}_i \\right)^2\n= \\frac{m_1}{2} \\left( \\dot{\\vec{r}}_1 \\right)^2 \n+ \\frac{m_2}{2} \\left( \\dot{\\vec{r}}_2 \\right)^2\n$$\nDebemos calcular las $\\dot{\\vec{r}}_i$ y para eso hacemos uso de las expresiones que obtuvimos antes\n$$\n\\begin{aligned}\n\\dot{\\vec{r}}_1 &= \\dot{x}_1 \\hat{x} \\\\\n\\dot{\\vec{r}}_2 &= \\left( \\dot{x}_1 + l \\cos{\\varphi} \\dot{\\varphi} \\right) \\hat{x} + \\left( l \\sin{\\varphi} \\dot{\\varphi} \\right) \\hat{y} .\n\\end{aligned}\n$$\nY ahora con estos $\\left( \\dot{\\vec{r}}_i \\right)^2$\n$$\n\\begin{aligned}\n\\left(\\dot{\\vec{r}}_1 \\right)^2= \\dot{\\vec{r}}_1 \\cdot \\dot{\\vec{r}}_1 &= \\dot{x}_1^2  \\\\\n\\left(\\dot{\\vec{r}}_2 \\right)^2= \\dot{\\vec{r}}_2 \\cdot \\dot{\\vec{r}}_2 \n&= \\left( \\dot{x}_1 + l \\cos{\\varphi} \\dot{\\varphi} \\right)^2 + \\left( l \\sin{\\varphi} \\dot{\\varphi} \\right)^2 \\\\\n&= \\left( \\dot{x}_1^2 + 2 \\dot{x}_1 l \\cos{\\varphi} \\dot{\\varphi} + l^2 \\cos^2{\\varphi} \\dot{\\varphi}^2 \\right) + \\left( l^2 \\sin^2{\\varphi} \\dot{\\varphi}^2 \\right) \\\\\n&= \\dot{x}_1^2 + 2 \\dot{x}_1 l \\cos{\\varphi} \\dot{\\varphi} + l^2 \\dot{\\varphi}^2 . \n\\end{aligned}\n$$\nCon esto hecho la energía cinética queda\n$$\n\\begin{aligned}\nT(\\dot{x}_1, \\varphi, \\dot{\\varphi}) &= \\sum_i \\frac{m_i}{2} \\left( \\dot{\\vec{r}}_i \\right)^2 \\\\\n&= \\frac{m_1}{2} \\left( \\dot{\\vec{r}}_1 \\right)^2 \n+ \\frac{m_2}{2} \\left( \\dot{\\vec{r}}_2 \\right)^2 \\\\\n& = \\frac{m_1}{2} \\dot{x}_1^2 +\n    \\frac{m_2}{2} \\left( \\dot{x}_1^2 + 2 \\dot{x}_1 l \\cos{\\varphi} \\dot{\\varphi} + l^2 \\dot{\\varphi}^2 \\right) \\\\\n& = \\frac{m_1+ m_2}{2} \\dot{x}_1^2 + \\frac{m_2}{2} \\left( 2 \\dot{x}_1 l \\cos{\\varphi} \\dot{\\varphi} + l^2 \\dot{\\varphi}^2 \\right)\n\\end{aligned}\n$$"
    },
    {
      "metadata": {},
      "cell_type": "markdown",
      "source": "### Energía potencial\nA veces el potencial es más sencillo de determinar partiendo de las fuerzas identificas en el sistema que depende de los campos que actuan sobre el mismo.\nEn este problema está presente el campo gravitatorio responsable de la aceleración $\\vec{g}= -g \\hat{y}$ actuando sobre todas las $m_i$, causando sobre estas la $\\vec{F}= m \\vec{g}$.\n\nToda fuerza cuasada por un campo se obtiene de calcuar el negativo de su divergencia $\\vec{F}= - \\vec{\\nabla} V$.\nEste último en coordenadas cartesianas es trivial, $\\vec{\\nabla}= (\\partial_x, \\partial_y, \\partial_z)$ (notación $\\partial_i= \\frac{\\partial}{ \\partial i}$ ).\nPara $\\vec{F}= m \\vec{g}= - m g \\hat{y}= - \\frac{\\partial V}{\\partial_y}$, así que \n$$\nV(y) - V(y_0)= \\int \\mathrm{d}V = \\int m g\\mathrm{d}y= m g \\left(y- y_0 \\right),\n$$\nesta última en la que establecemos una $V(y_0)$ de refencia.\nEstableciendo la usual $V(y_o=0)=0$ nos queda\n$$\nV_i= m_i g y.\n$$\n\nNos ocupa la coordena $y_i$ de cada partícula\n$$\n\\begin{aligned}\ny_1 &= 0\\\\\ny_2 &= m_2 g (-l \\cos{\\varphi} ), \n\\end{aligned}\n$$\ncon lo que el potencial del sistema queda\n$$\nV(\\varphi)= - m_2 g l \\cos{\\varphi}.\n$$"
    },
    {
      "metadata": {},
      "cell_type": "markdown",
      "source": "### El Lagrangiano del sistema al fín\nCon $T$ y $V$ finalmente expresamos\n$$\nL(\\dot{x}_1, \\varphi, \\dot{\\varphi})= T(\\dot{x}_1, \\varphi, \\dot{\\varphi}) - V(\\varphi) = \\frac{m_1+ m_2}{2} \\dot{x}_1^2 + \\frac{m_2}{2} \\left( 2 \\dot{x}_1 l \\cos{\\varphi} \\dot{\\varphi} + l^2 \\dot{\\varphi}^2 \\right) + m_2 g l \\cos{\\varphi}.\n$$\n\n## El Lagrangiano de un péndulo\nUn péndulo simple conviene trabajarlo en coordenadas cilíndricas.\nEn estas un péndulo rígido e ideal tiene una única componente no nula de su velocidad: la que vá en $\\hat{\\varphi}$ es decir $\\dot{\\vec{r}} \\cdot \\hat{\\varphi}= l \\dot{\\varphi}$.\nAsí\n$$\nT= \\frac{m}{2} \\dot{\\vec{r}}^2= \\frac{m}{2} l^2 \\dot{\\varphi}^2.\n$$\nSi establecemos como en el sistema analizado $V(y_0)= 0$ el potencial gravitatorio es $V(y)= m g y$, pero como usamos coordenadas cilíndricas $y= -l \\cos{\\varphi}$.\nAsí\n$$\nV(\\varphi)= -m g l \\cos{\\varphi}.\n$$\nCon esto el Lagrangiano de un péndulo es\n$$\nV(\\varphi, \\dot{\\varphi})= T(\\dot{\\varphi}) - V(\\varphi)= \\frac{m}{2} l^2 \\dot{\\varphi}^2 + m g l \\cos{\\varphi}.\n$$\n\nPodemos recuperar el caso del péndulo rígido ideal a partir del sistema del problema si consideramos $m_2$ como la del péndulo.\nNos basta luegoo inmovilizar $m_1$ estableciendo $x_1= 0 (\\forall t)$ y por tanto $\\dot{x}_1=0$ en el Lagrangiano, que queda\n$$\nL(\\varphi, \\dot{\\varphi})= \\frac{m_2}{2} \\left( l^2 \\dot{\\varphi}^2 \\right) + m_2 g l \\cos{\\varphi}.\n$$\nComo puede apreciarse el mismo que obtuvimos para el péndulo."
    },
    {
      "metadata": {},
      "cell_type": "markdown",
      "source": "## Ecuación de Euler-Lagrange\nReferencia: Apunte Lanczos $\\S6$\n\nLa utilidad que le damos a encontrar el Lagrangiano es obtener fácilmente a partir de él las ecuaciones diferenciales que modelizan la dinámica del sistema.\nPara eso usamos las ecuaciones de Euler-Lagrange\n$$\n\\frac{\\partial L}{\\partial q_i}- \\frac{\\mathrm{d}}{\\mathrm{d} t} \\frac{\\partial L}{\\partial \\dot{q}_i}=0 \\quad \\forall i,\n$$\nque debe aplicarse para cada coordenada generalizada (y su velocidad).\n\nEn el sistema vimos que tenemos dos grados de libertad que definimos por $x_1$ y $\\varphi$ así que obtendremos sendas ecuaciones diferanciales.\nLa primera queda\n$$\n\\begin{aligned}\n\\frac{\\partial L}{\\partial x_1} &- \\frac{\\mathrm{d}}{\\mathrm{d} t} \\frac{\\partial L}{\\partial \\dot{x}_1} = 0 \\\\\n0 &- \\frac{\\mathrm{d}}{\\mathrm{d} t} \\left[ (m_1+ m_2) \\dot{x}_1+ m_2 l \\cos{\\varphi} \\dot{\\varphi} \\right] = 0,\n\\end{aligned}\n$$\nsi la derivada con el tiempo es $0$ eso indica que la cantidad entre corchetes es una constante.\n\nPara $\\varphi$ la expresión es un poco más compleja\n$$\n\\begin{aligned}\n\\frac{\\partial L}{\\partial \\varphi} &- \\frac{\\mathrm{d}}{\\mathrm{d} t} \\frac{\\partial L}{\\partial \\dot{\\varphi}}=0 \\\\\n\\left[ m_2 \\dot{x}_1 l (-\\sin{\\varphi}) \\dot{\\varphi} + m_2 g l (-\\sin{\\varphi}) \\right]\n &- \\frac{\\mathrm{d}}{\\mathrm{d} t} \\left[ \n m_2 \\dot{x}_1 l \\cos{\\varphi} + m_2 l^2 \\dot{\\varphi}\n \\right] =0 \\\\\n (-\\sin{\\varphi}) \\left[ \\dot{x}_1 l \\dot{\\varphi} +  g l \\right]\n &-  \\left[ \n   \\ddot{x}_1 l \\cos{\\varphi}\n  + \\dot{x}_1 l (-\\sin{\\varphi}) \\dot{\\varphi}\n  +  l^2 \\ddot{\\varphi}\n \\right] =0.\n\\end{aligned}\n$$\nResolver estas ecuaciones acopladas ($\\dot{x}_1$ figura en ambas) es algo que podemos dejar a la computadora."
    },
    {
      "metadata": {},
      "cell_type": "markdown",
      "source": "### Dinámica del péndulo rígido ideal \nPara ver más claro la capacidad de esto resolvamos la dinámica del péndulo rígido ideal.\nRecordemos que su Lagrangiano es\n$$\nL(\\varphi, \\dot{\\varphi})= \\frac{m}{2} \\left( l^2 \\dot{\\varphi}^2 \\right) + m g l \\cos{\\varphi}.\n$$\nAsí\n$$\n\\begin{aligned}\n\\frac{\\partial L}{\\partial \\varphi} &- \\frac{\\mathrm{d}}{\\mathrm{d} t} \\frac{\\partial L}{\\partial \\dot{\\varphi}}=0 \\\\\n\\left[- m_2 g l \\sin{\\varphi} \\right] &- \\frac{\\mathrm{d}}{\\mathrm{d} t} \\left[ m l^2 \\dot{\\varphi} \\right]=0 \\\\\n g \\sin{\\varphi} &= l \\ddot{\\varphi}.\n\\end{aligned}\n$$\nEsta última es la expresión para la dinámica de un péndulo, que se desarrolla en $\\hat{\\varphi}$.\nEsta se resuelve en el régimen de pequeñas oscilaciones $\\varphi \\simeq 0 \\implies \\sin{\\varphi} \\simeq \\varphi$, asi\n$$\n\\frac{g}{l} \\varphi \\simeq \\ddot{\\varphi},\n$$\nque resolviendo se llega a\n$$\n\\varphi(t) = A_0 \\cos{\\left( \\omega t+ \\phi_0 \\right) },\n$$\nque ascila con frecuencia angular $\\omega= \\sqrt{\\frac{g}{l}}$, amplitud $A_0$ y fase inicial $\\phi_0$ dada por condiciones iniciales.\n\nYa volveremos sobre el análisis de oscilaciones al final de la materia."
    },
    {
      "metadata": {
        "trusted": true
      },
      "cell_type": "code",
      "source": "\n",
      "execution_count": null,
      "outputs": []
    }
  ],
  "metadata": {
    "kernelspec": {
      "name": "python36",
      "display_name": "Python 3.6",
      "language": "python"
    },
    "language_info": {
      "mimetype": "text/x-python",
      "nbconvert_exporter": "python",
      "name": "python",
      "pygments_lexer": "ipython3",
      "version": "3.6.6",
      "file_extension": ".py",
      "codemirror_mode": {
        "version": 3,
        "name": "ipython"
      }
    }
  },
  "nbformat": 4,
  "nbformat_minor": 2
}