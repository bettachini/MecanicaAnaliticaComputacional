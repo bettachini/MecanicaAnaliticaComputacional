{
 "cells": [
  {
   "cell_type": "markdown",
   "metadata": {
    "colab_type": "text",
    "id": "R5YD2P1XqGnm"
   },
   "source": [
    "# Péndulo ideal\n",
    "© 2020\n",
    "Víctor A. Bettachini  \n",
    "Mecánica General  \n",
    "Departamento de Ingeniería e Investigación Tecnológica  \n",
    "Universidad Nacional de La Matanza  \n",
    "\n",
    "---"
   ]
  },
  {
   "cell_type": "markdown",
   "metadata": {
    "colab_type": "text",
    "id": "8ABi2ab6p-bn"
   },
   "source": [
    "## Enunciado\n",
    "Escriba y resuelva la ecuación que describe la dinámica de un péndulo de longitud $l$ en presencia de un campo gravitatorio de constante $g$. Discuta todas las aproximaciones que realiza."
   ]
  },
  {
   "cell_type": "markdown",
   "metadata": {},
   "source": [
    "## Resolución\n",
    "Para la partícula de interés hay que plantear la 2.a ley de Newton para la coordenada de interés en torno de su punto de equilibrio. Para esto tenemos dos alternativas:\n",
    "- Determinar el punto de equilibrio en que $\\sum \\vec{F}=0 $ y escribir la descomposición de las $\\vec{F}$ en la dirección de la mencionada coordenada.\n",
    "- Escribir el potencial, encontrar su mínimo en función de la coordenada y desarrollarlo en serie en torno al mismo. Luego basta usar $\\vec{F}= - \\vec{\\nabla} V$\n",
    "\n",
    "El 2.o enfoque puede parecer tedioso a primera vista, pero es muy práctico cuando el sistema se torna complejo. Obviamente para estos primeros ejercicios puede parecer impráctico, pero es necesario entrenarse en esta metodología para enfrentarse a lo que viene luego en la materia."
   ]
  },
  {
   "cell_type": "markdown",
   "metadata": {},
   "source": [
    "### Dibujo\n",
    "Es buena idea que empecemos por hacer un dibujo del sistema que queremos estudiar.\n",
    "Además de los \"datos\" $g,l$ debemos suponer que del péndulo alguna masa $m$ cuelga.\n",
    "En el dibujo indíco dos posibles coordenadas que podriamos usar para analizar al apartamiento de la posicíon vertical (de equilibrio): el ángulo $\\varphi$, o el apartamiento horizontal $\\psi$.\n",
    "\n",
    "![](../graphs/pendulo_horizontal.png \"Péndulo ideal.\")"
   ]
  },
  {
   "cell_type": "markdown",
   "metadata": {
    "colab_type": "text",
    "id": "W7fjGxOo3MHA"
   },
   "source": [
    "### Aproximaciones\n",
    "- La cuerda rígida, es decir no se curva, y es inextensible $\\implies$ la posición de la masa es $\\vec{r}= l \\hat{r}$. \n",
    "- El movimiento siempre es en un plano: $\\hat{r}, \\hat{\\varphi}$\n",
    "\n",
    "\n",
    "### Desarrollo a partir del potencial\n",
    "Considero que el potencial $V$ es nulo en el origen de coordenadas, es decir que donde se encuentra su mínimo $\\varphi=0, V(\\varphi=0)= -mgl$ y por tanto\n",
    "\n",
    "$$V(\\varphi)= m g l \\left( - \\cos{\\varphi} \\right).$$\n",
    "\n",
    "Es claro que $\\varphi=0$ es la posición de equilibrio, así que desarrollo $V$ en torno de este\n",
    "$$V(\\varphi)= - m g l \\left( \\cos(0) - \\sin(0) \\varphi - \\frac{\\cos(0)}{2} \\varphi^2 \\right) = mgl (\\frac{\\varphi^2}{2} - 1).$$\n",
    "\n",
    "Comparemos la $V$ original y su aproximación."
   ]
  },
  {
   "cell_type": "code",
   "execution_count": 2,
   "metadata": {
    "colab": {},
    "colab_type": "code",
    "id": "izXvLLKRhY39"
   },
   "outputs": [],
   "source": [
    "# Primero importamos las bibliotecas de Python que vamos a usar\n",
    "import numpy as np # numpy para vectores y matrices\n",
    "import matplotlib.pyplot as plt # matplotlib para graficar"
   ]
  },
  {
   "cell_type": "code",
   "execution_count": 3,
   "metadata": {
    "colab": {
     "base_uri": "https://localhost:8080/",
     "height": 287
    },
    "colab_type": "code",
    "id": "6MfRUCsDhnDu",
    "outputId": "685659e3-a3be-47ab-b032-be1be3700794"
   },
   "outputs": [
    {
     "data": {
      "image/png": "[encoded data removed]",
      "text/plain": [
       "<Figure size 432x288 with 1 Axes>"
      ]
     },
     "metadata": {
      "needs_background": "light"
     },
     "output_type": "display_data"
    }
   ],
   "source": [
    "phis= np.linspace(-15, 15, 30) # phi de a un grado desde -20 hasta 20 grados\n",
    "m= 1 # [kg]\n",
    "g= 9.81 # [m s^-2]\n",
    "l= 1 # [m]\n",
    "v_original= m* g* l* (-np.cos(phis* np.pi/ 180))\n",
    "v_aproximado= m* g* l* ((phis * np.pi/ 180)**2- 1)\n",
    "plt.plot(phis, v_original, '*-r', label='original')\n",
    "plt.plot(phis, v_aproximado, 'x-b', label= 'aproximado')\n",
    "plt.legend() # muestra las etiquetas (labels)\n",
    "plt.xlabel('$\\\\varphi$ [grados]')\n",
    "plt.ylabel('V [J]')\n",
    "plt.ylim([-11,0])\n",
    "plt.grid()"
   ]
  },
  {
   "cell_type": "markdown",
   "metadata": {
    "colab_type": "text",
    "id": "T_7fb3StlmeH"
   },
   "source": [
    "Como vemos la aproximación funciona bastante bien.\n",
    "Conformes con ella calculamos la fuerza\n",
    "$$\n",
    "\\vec{F} = - \\vec{\\nabla}V = - \\left( \\partial_r, \\frac{1}{r} \\partial_\\varphi, \\partial_z \\right) V(\\varphi)\n",
    "$$\n",
    "[Acá hago abuso de notación para escribir menos: $\\partial_x = \\frac{\\partial}{\\partial x}$]\n",
    "\n",
    "Pero solo nos interesa aplicar la 2.a ley para lo que pasa en $\\hat{\\varphi}$\n",
    "\n",
    "$$\n",
    "m \\ddot{\\vec{r}} \\cdot \\hat{\\varphi} = -\\frac{1}{r} \\partial_\\varphi V(\\varphi)\n",
    "$$\n",
    "\n",
    "Como la aceleración en cílindricas es $\\ddot{\\vec{r}}= (\\ddot r - r \\dot{\\varphi}^2) \\hat{r} + (\\dot{r} \\dot{\\varphi}^2 + r \\ddot{\\varphi}) \\hat{\\varphi} + \\ddot{z} \\hat{z}$ y el péndulo es rígido e inextensible $r \\equiv l$\n",
    "\n",
    "$$\n",
    "\\begin{aligned}\n",
    "m l \\ddot{\\varphi} &= - \\frac{1}{l} m g l \\varphi \\\\\n",
    "\\ddot{\\varphi} &= - \\frac{g}{l} \\varphi\n",
    "\\end{aligned}\n",
    "$$\n",
    "Y arribamos a una ecuación diferencial que debemos resolver."
   ]
  },
  {
   "cell_type": "markdown",
   "metadata": {},
   "source": [
    "## Resolución de la ecuación diferencial\n",
    "Voy a repasar todos los pasos para esta resolución, que de ahora en más podrán obviarse en otros problemas, pero es bueno haberlo revisto en su totalidad."
   ]
  },
  {
   "cell_type": "markdown",
   "metadata": {},
   "source": [
    "### La frecuencia de oscilación\n",
    "Proponemos una solución $\\varphi= \\mathrm{e}^{at}$ que al aplicarla a la ecuación anterior\n",
    "$$\n",
    "\\begin{aligned}\n",
    "a^2 \\mathrm{e}^{at} &= - \\frac{g}{l} \\mathrm{e}^{at} \\\\\n",
    "a^2 &= -\\frac{g}{l} \\\\\n",
    "a &= \\pm \\sqrt{\\frac{g}{l}} \\imath\n",
    "\\end{aligned}\n",
    "$$\n",
    "Entonces la ecuación tiene por solución la combinación lineal de las dos correspondientes soluciones ($\\pm$)\n",
    "$$\n",
    "\\varphi(t)= A_1 \\mathrm{e}^{\\imath \\sqrt{\\frac{g}{l}} t}+ A_2 \\mathrm{e}^{-\\imath \\sqrt{\\frac{g}{l}} t}\n",
    "$$\n",
    "Estas exponenciales son períodicas en $\\sqrt{\\frac{g}{l}}$ así que identificamos la frecuencia angular $\\omega= \\sqrt{\\frac{g}{l}}$."
   ]
  },
  {
   "cell_type": "markdown",
   "metadata": {
    "colab_type": "text",
    "id": "HsUJkoZeRMS0"
   },
   "source": [
    "### Encontrando una solución real\n",
    "No queremos un $\\varphi$ complejo, sino uno real. Así que aplicamos el truco de sumar a la solución anterior su adjunta $\\bar{\\varphi}(t)$.\n",
    "El obtener la adjunta es hacer dos cosas:\n",
    "- conjugar los números complejos: cambiar el signo de sus argumentos, y\n",
    "- transponer: en el caso más general los $A_n$ son vectores, no es el caso del péndulo, en que $A_n$ son solo un número.\n",
    "$$\n",
    "\\begin{aligned}\n",
    "\\Re{[\\varphi(t)]} &= \\frac{1}{2} \\left[ \\varphi(t) + \\varphi^*(t) \\right]  \\\\\n",
    "& = \\frac{1}{2} \\left[ A_1 \\mathrm{e}^{\\imath \\omega t}+ A_2 \\mathrm{e}^{-\\imath \\omega t} \n",
    "+\n",
    "A_1^* \\mathrm{e}^{-\\imath \\omega t}+ A_2^* \\mathrm{e}^{\\imath \\omega t}\n",
    "  \\right] \\\\\n",
    "  & = \\frac{1}{2} \\left[ (A_1+ A_2^*) \\mathrm{e}^{\\imath \\omega t}+ (A_1^*+ A_2) \\mathrm{e}^{-\\imath \\omega t} \n",
    "  \\right] \n",
    "  = \\frac{1}{2} (A_1+ A_2^*) \\mathrm{e}^{\\imath \\omega t}+ \\text{complejo conjugado},\n",
    "\\end{aligned}\n",
    "$$\n",
    "donde $A_n^*$ indica el complejo conjugado de $A_n$.\n",
    "\n",
    "Lo que acompaña la exponencial $\\frac{1}{2} (A_1+ A_2^*)$ es un número complejo $B \\mathrm{e}^{\\imath \\phi_0}$, asi podemos escribir nuestra solución real\n",
    "$$\n",
    "\\begin{aligned}\n",
    "\\varphi(t) &= B \\mathrm{e}^{\\imath (\\omega t+ \\phi_0)} + B \\mathrm{e}^{- \\imath (\\omega t+ \\phi_0)} \\\\\n",
    "&= B \\left[ \\cos{\\left( \\omega t+ \\phi_0 \\right) } + \\sin{\\left( \\omega t+ \\phi_0 \\right) } \\right] + B \\left[ \\cos{\\left( \\omega t+ \\phi_0 \\right) } - \\sin{\\left( \\omega t+ \\phi_0 \\right) } \\right] \\\\\n",
    "&= 2 B \\cos{\\left( \\omega t+ \\phi_0 \\right) } =  \\boxed{ A \\cos{\\left( \\omega t+ \\phi_0 \\right) } } \\quad (2B =A),\n",
    "\\end{aligned}\n",
    "$$\n",
    "y voilá, tenemos la buscada ecuación de movimiento.\n",
    "\n",
    "Pero como toda resolución de una ecuación diferencial requiere de conocer las condiciones en algún $t$ de referencia para determinar una amplitud máxmima de la oscilación $A$, y una fase inicial de la misma $\\phi_0$ (que tan alejada se encuentra la situación inicial de la máxima amplitud)."
   ]
  },
  {
   "cell_type": "markdown",
   "metadata": {
    "colab_type": "text",
    "id": "9jZ7oRu_I7QC"
   },
   "source": [
    "### Condiciones iniciales\n",
    "En el problema del péndulo obtuvimos una solución que había que especializar en función de condiciones iniciales de amplitud máxima $A$ y de una un tanto \"esotérica\" fase inicial $\\phi_0$, que para este problema sería\n",
    "$$\n",
    "  \\varphi(t) = A \\cos{\\left( \\omega t + \\phi_0 \\right)}.\n",
    "$$\n",
    "\n",
    "Antes de llegar a esta versión compacta habriamos pasado por\n",
    "$$\n",
    "\\varphi(t)= A_1 \\mathrm{e}^{\\imath \\omega t}+ A_2 \\mathrm{e}^{-\\imath \\omega t},\n",
    "$$\n",
    "pero aquí voy a ahorrar tiempo y utilizar las relaciones de Euler $\\mathrm{e}^{\\pm \\imath \\theta}= \\cos{\\theta}+ \\imath \\sin{\\theta}$ para escribir\n",
    "$$\n",
    "\\varphi(t)= (A_1+ A_2) \\cos{(\\omega t)} +  \\imath (A_1- A_2) \\sin{(\\omega t)}.\n",
    "$$\n",
    "Esta expresión es muy práctica pues si especializamos esta solución en $t=0$ solo queda $(A_1+ A_2)$, por lo que esto es $\\varphi(0)$. De igual laa derivada de tal solución en $t=0$ es $\\imath \\omega (A_1 - A_2)$ y corresponderá esto a $\\dot{\\varphi}(0)$.\n",
    "Así pues\n",
    "$$\n",
    "\\begin{aligned}\n",
    "  \\varphi(0) &= (A_1 + A_2)\\\\\n",
    "  \\dot{\\varphi}(0) &= \\imath \\omega (A_1 - A_2),\n",
    "\\end{aligned}\n",
    "$$\n",
    "lo que permite escribir una solucíon en función de condiciones iniciales observables:\n",
    "$$\n",
    "\\boxed{\n",
    "  \\varphi(t)= \\varphi(0) \\cos{(\\omega t)} +  \\frac{\\dot{\\varphi}(0)}{\\omega} \\sin{(\\omega t)}.\n",
    "}\n",
    "$$"
   ]
  },
  {
   "cell_type": "markdown",
   "metadata": {},
   "source": [
    "## Graficación de la dinámica"
   ]
  },
  {
   "cell_type": "code",
   "execution_count": 12,
   "metadata": {
    "colab": {
     "base_uri": "https://localhost:8080/",
     "height": 296
    },
    "colab_type": "code",
    "id": "DdjRMiF--Sdd",
    "outputId": "51b69df9-d19c-439e-aaeb-2ea985d8a8c6"
   },
   "outputs": [
    {
     "data": {
      "text/plain": [
       "[<matplotlib.lines.Line2D at 0x7f7488463860>]"
      ]
     },
     "execution_count": 12,
     "metadata": {},
     "output_type": "execute_result"
    },
    {
     "data": {
      "image/png": "[encoded data removed]",
      "text/plain": [
       "<Figure size 432x288 with 1 Axes>"
      ]
     },
     "metadata": {
      "needs_background": "light"
     },
     "output_type": "display_data"
    }
   ],
   "source": [
    "# función con la solución de la dinámica\n",
    "def phi(t):\n",
    "    return φ_0* np.cos(ω* t) + (φ_punto_0/ ω)* np.sin(ω* t)\n",
    "\n",
    "# condiciones iniciales péndulo\n",
    "g= 9.81 # [m s^-2]\n",
    "l = 1 #  [m] longitud de la cuerda\n",
    "ω = np.sqrt(g/l) # frecuencia de oscilación\n",
    "φ_0 = 10 # [⁰] amplitud inicial en grados\n",
    "φ_0 *= np.pi/ 180 # [radianes] grados -> radianes\n",
    "φ_punto_0 = 0 # [radianes s^-1] velocidad inicial\n",
    "\n",
    "# graficación péndulo\n",
    "tiempos = np.linspace(0,10,100)\n",
    "plt.grid()\n",
    "plt.ylabel('φ [rad]')\n",
    "# plt.ylabel('$\\\\varphi$ [rad]')\n",
    "plt.xlabel('Tiempo [s]')\n",
    "plt.plot(tiempos, phi(tiempos), '.-' )"
   ]
  }
 ],
 "metadata": {
  "colab": {
   "collapsed_sections": [],
   "name": "péndulo",
   "provenance": []
  },
  "kernelspec": {
   "display_name": "Python 3",
   "language": "python",
   "name": "python3"
  },
  "language_info": {
   "codemirror_mode": {
    "name": "ipython",
    "version": 3
   },
   "file_extension": ".py",
   "mimetype": "text/x-python",
   "name": "python",
   "nbconvert_exporter": "python",
   "pygments_lexer": "ipython3",
   "version": "3.7.3"
  }
 },
 "nbformat": 4,
 "nbformat_minor": 4
}
