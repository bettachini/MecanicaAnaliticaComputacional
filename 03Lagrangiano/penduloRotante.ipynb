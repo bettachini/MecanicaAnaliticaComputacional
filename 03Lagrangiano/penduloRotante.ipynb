{
 "cells": [
  {
   "cell_type": "markdown",
   "metadata": {},
   "source": [
    "# Péndulo con punto de suspensión en rotación\n",
    "© 2020\n",
    "Víctor A. Bettachini  \n",
    "Mecánica General  \n",
    "Departamento de Ingeniería e Investigación Tecnológica  \n",
    "Universidad Nacional de La Matanza  \n",
    "\n",
    "---"
   ]
  },
  {
   "cell_type": "markdown",
   "metadata": {},
   "source": [
    "Ejercicio:\n",
    "- Landau $\\S$5 ejercicio 3\n",
    "- Marion (e) ex. 7.5"
   ]
  },
  {
   "cell_type": "markdown",
   "metadata": {},
   "source": [
    "## Enunciado\n",
    "Calcular el Lagrangiano para un péndulo plano cuyo punto de suspensión se desplaza en un círculo vertical de radio \\\\(a\\\\) con una frecuencia \\\\(\\omega\\\\).\n",
    "\n",
    "![](marion_fig7_3.png)\n"
   ]
  },
  {
   "cell_type": "markdown",
   "metadata": {},
   "source": [
    "## Resolución"
   ]
  },
  {
   "cell_type": "code",
   "execution_count": 4,
   "metadata": {},
   "outputs": [],
   "source": [
    "# módulo de cálculo simbólico\n",
    "import sympy as sym\n",
    "import sympy.physics.mechanics as mech\n",
    "mech.init_vprinting() # notación con puntos para derivadas temporales"
   ]
  },
  {
   "cell_type": "code",
   "execution_count": 5,
   "metadata": {},
   "outputs": [],
   "source": [
    "# Defino los parámetros físicos del sistema\n",
    "m, g, a, b, ω = sym.symbols('m, g, a, b, ω', positive=True)\n",
    "\n",
    "# Defino coordenadas generalizadas \n",
    "t = sym.symbols('t') # tiempo\n",
    "θ = sym.Function('θ')(t) # posición pesa 2 es función del tiempo"
   ]
  },
  {
   "cell_type": "code",
   "execution_count": 16,
   "metadata": {},
   "outputs": [
    {
     "data": {
      "image/png": "[encoded data removed]",
      "text/latex": [
       "$\\displaystyle (a \\operatorname{cos}\\left(t ω\\right) + b \\operatorname{sin}\\left(θ\\right))\\mathbf{\\hat{n}_x} + (a \\operatorname{sin}\\left(t ω\\right) - b \\operatorname{cos}\\left(θ\\right))\\mathbf{\\hat{n}_y}$"
      ],
      "text/plain": [
       "(a⋅cos(t⋅ω) + b⋅sin(θ)) n_x + (a⋅sin(t⋅ω) - b⋅cos(θ)) n_y"
      ]
     },
     "execution_count": 16,
     "metadata": {},
     "output_type": "execute_result"
    }
   ],
   "source": [
    "# Sistema cartesiano\n",
    "N = sym.physics.vector.ReferenceFrame('N') # marco referencial N en coordenadas cartesianas\n",
    "\n",
    "# posiciones\n",
    "r_soporte = a* ( sym.cos(ω* t)* N.x + sym.sin(ω* t)* N.y )\n",
    "r_m = r_soporte + b* (sym.cos(θ)* (-N.y) + sym.sin(θ)* (N.x)) # recordemos que tomamos y hacia arriba\n",
    "r_m"
   ]
  },
  {
   "cell_type": "code",
   "execution_count": 10,
   "metadata": {},
   "outputs": [
    {
     "data": {
      "image/png": "[encoded data removed]",
      "text/latex": [
       "$\\displaystyle \\frac{m \\left(a^{2} ω^{2} - 2 a b ω \\operatorname{sin}\\left(t ω - θ\\right) \\dot{θ} + b^{2} \\dot{θ}^{2}\\right)}{2}$"
      ],
      "text/plain": [
       "  ⎛ 2  2                             2  2⎞\n",
       "m⋅⎝a ⋅ω  - 2⋅a⋅b⋅ω⋅sin(t⋅ω - θ)⋅θ̇ + b ⋅θ̇ ⎠\n",
       "──────────────────────────────────────────\n",
       "                    2                     "
      ]
     },
     "execution_count": 10,
     "metadata": {},
     "output_type": "execute_result"
    }
   ],
   "source": [
    "# velocidades\n",
    "v_m = r_m.diff(t,N) # derivada respecto a t en el marco referencial N\n",
    "\n",
    "# velocidades al cuadrado es decir producto punto con si mismo\n",
    "v_m_cuadrado = sym.physics.vector.dot(v_m, v_m)\n",
    "\n",
    "# Energía cinética\n",
    "unMedio = sym.Rational(1,2) # Rational: fracción de enteros, alternativamente podría haberse usado 0.5 \n",
    "T = unMedio* m* v_m_cuadrado\n",
    "T.simplify() # simplify: simplifica usando factor común y otras operaciones"
   ]
  },
  {
   "cell_type": "code",
   "execution_count": 13,
   "metadata": {},
   "outputs": [
    {
     "data": {
      "image/png": "[encoded data removed]",
      "text/latex": [
       "$\\displaystyle g m \\left(a \\operatorname{sin}\\left(t ω\\right) - b \\operatorname{cos}\\left(θ\\right)\\right)$"
      ],
      "text/plain": [
       "g⋅m⋅(a⋅sin(t⋅ω) - b⋅cos(θ))"
      ]
     },
     "execution_count": 13,
     "metadata": {},
     "output_type": "execute_result"
    }
   ],
   "source": [
    "# componente vertical de la posición\n",
    "y_m = sym.physics.vector.dot(r_m, N.y)\n",
    "\n",
    "# Energía potencial\n",
    "V = m* g* (y_m)\n",
    "V"
   ]
  },
  {
   "cell_type": "code",
   "execution_count": 15,
   "metadata": {},
   "outputs": [
    {
     "data": {
      "image/png": "[encoded data removed]",
      "text/latex": [
       "$\\displaystyle \\frac{m \\left(a^{2} ω^{2} - 2 a b ω \\operatorname{sin}\\left(t ω - θ\\right) \\dot{θ} - 2 a g \\operatorname{sin}\\left(t ω\\right) + b^{2} \\dot{θ}^{2} + 2 b g \\operatorname{cos}\\left(θ\\right)\\right)}{2}$"
      ],
      "text/plain": [
       "  ⎛ 2  2                                              2  2               ⎞\n",
       "m⋅⎝a ⋅ω  - 2⋅a⋅b⋅ω⋅sin(t⋅ω - θ)⋅θ̇ - 2⋅a⋅g⋅sin(t⋅ω) + b ⋅θ̇  + 2⋅b⋅g⋅cos(θ)⎠\n",
       "──────────────────────────────────────────────────────────────────────────\n",
       "                                    2                                     "
      ]
     },
     "execution_count": 15,
     "metadata": {},
     "output_type": "execute_result"
    }
   ],
   "source": [
    "# Lagrangiano\n",
    "L = T-V\n",
    "L.simplify()"
   ]
  }
 ],
 "metadata": {
  "kernelspec": {
   "display_name": "Python 3",
   "language": "python",
   "name": "python3"
  },
  "language_info": {
   "codemirror_mode": {
    "name": "ipython",
    "version": 3
   },
   "file_extension": ".py",
   "mimetype": "text/x-python",
   "name": "python",
   "nbconvert_exporter": "python",
   "pygments_lexer": "ipython3",
   "version": "3.7.3"
  }
 },
 "nbformat": 4,
 "nbformat_minor": 4
}
