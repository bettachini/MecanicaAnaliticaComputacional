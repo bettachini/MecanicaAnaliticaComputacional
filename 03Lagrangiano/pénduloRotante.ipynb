{
 "cells": [
  {
   "cell_type": "markdown",
   "metadata": {
    "slideshow": {
     "slide_type": "slide"
    },
    "tags": []
   },
   "source": [
    "# Péndulo con punto de suspensión en rotación"
   ]
  },
  {
   "cell_type": "markdown",
   "metadata": {},
   "source": [
    "![UNLaM | DIIT](figuras/ambos.png)    \n",
    "© 2021 [Víctor A. Bettachini](mailto:vbettachini@unlam.edu.ar)  \n",
    "Mecánica General  \n",
    "Departamento de Ingeniería e Investigación Tecnológica  \n",
    "Universidad Nacional de La Matanza  \n",
    "\n",
    "---"
   ]
  },
  {
   "cell_type": "markdown",
   "metadata": {},
   "source": [
    ">Ejercicio:\n",
    ">- Landau $\\S$5 ejercicio 3\n",
    ">- Marion (e) ex. 7.5"
   ]
  },
  {
   "cell_type": "markdown",
   "metadata": {
    "slideshow": {
     "slide_type": "slide"
    },
    "tags": []
   },
   "source": [
    "## Enunciado\n",
    "Calcular el Lagrangiano para un péndulo plano cuyo punto de suspensión se desplaza en un círculo vertical de radio \\\\(a\\\\) con una frecuencia \\\\(\\omega\\\\).  \n",
    "![](figuras/marion_fig7_3.png)"
   ]
  },
  {
   "cell_type": "markdown",
   "metadata": {
    "slideshow": {
     "slide_type": "slide"
    },
    "tags": []
   },
   "source": [
    "## Resolución"
   ]
  },
  {
   "cell_type": "code",
   "execution_count": 2,
   "metadata": {
    "slideshow": {
     "slide_type": "skip"
    },
    "tags": []
   },
   "outputs": [],
   "source": [
    "# módulo de cálculo simbólico\n",
    "import sympy as sym\n",
    "import sympy.physics.mechanics as mech\n",
    "mech.init_vprinting() # notación con puntos para derivadas temporales\n",
    "from warnings import filterwarnings\n",
    "filterwarnings('ignore')"
   ]
  },
  {
   "cell_type": "code",
   "execution_count": 3,
   "metadata": {
    "slideshow": {
     "slide_type": "slide"
    },
    "tags": []
   },
   "outputs": [],
   "source": [
    "# Defino los parámetros físicos del sistema\n",
    "m, g, a, b, ω = sym.symbols('m, g, a, b, ω', positive=True)\n",
    "\n",
    "# Defino coordenadas generalizadas \n",
    "t = sym.symbols('t') # tiempo\n",
    "θ = mech.dynamicsymbols('θ') # posición pesa 2 es función del tiempo"
   ]
  },
  {
   "cell_type": "code",
   "execution_count": 9,
   "metadata": {},
   "outputs": [
    {
     "data": {
      "image/png": "[encoded data removed]",
      "text/latex": [
       "$\\displaystyle (a \\cos{\\left(t ω \\right)} + b \\sin{\\left(θ \\right)})\\mathbf{\\hat{n}_x} + (a \\sin{\\left(t ω \\right)} - b \\cos{\\left(θ \\right)})\\mathbf{\\hat{n}_y}$"
      ],
      "text/plain": [
       "(a⋅cos(t⋅ω) + b⋅sin(θ)) n_x + (a⋅sin(t⋅ω) - b⋅cos(θ)) n_y"
      ]
     },
     "execution_count": 9,
     "metadata": {},
     "output_type": "execute_result"
    }
   ],
   "source": [
    "# Sistema cartesiano\n",
    "N = sym.physics.vector.ReferenceFrame('N') # marco referencial N en coordenadas cartesianas\n",
    "\n",
    "# posiciones\n",
    "r_soporte = a* ( sym.cos(ω* t)* N.x + sym.sin(ω* t)* N.y )\n",
    "r_m = r_soporte + b* (sym.cos(θ)* (-N.y) + sym.sin(θ)* (N.x)) # recordemos que tomamos y hacia arriba\n",
    "r_m"
   ]
  },
  {
   "cell_type": "code",
   "execution_count": 12,
   "metadata": {
    "slideshow": {
     "slide_type": "slide"
    },
    "tags": []
   },
   "outputs": [
    {
     "data": {
      "image/png": "[encoded data removed]",
      "text/latex": [
       "$\\displaystyle T = \\frac{m \\left(a^{2} ω^{2} - 2 a b ω \\sin{\\left(t ω - θ \\right)} \\dot{θ} + b^{2} \\dot{θ}^{2}\\right)}{2}$"
      ],
      "text/plain": [
       "      ⎛ 2  2                             2  2⎞\n",
       "    m⋅⎝a ⋅ω  - 2⋅a⋅b⋅ω⋅sin(t⋅ω - θ)⋅θ̇ + b ⋅θ̇ ⎠\n",
       "T = ──────────────────────────────────────────\n",
       "                        2                     "
      ]
     },
     "execution_count": 12,
     "metadata": {},
     "output_type": "execute_result"
    }
   ],
   "source": [
    "# velocidades\n",
    "v_m = r_m.diff(t,N) # derivada respecto a t en el marco referencial N\n",
    "\n",
    "# velocidades al cuadrado es decir producto punto con si mismo\n",
    "v_m_cuadrado = sym.physics.vector.dot(v_m, v_m)\n",
    "\n",
    "# Energía cinética\n",
    "unMedio = sym.Rational(1,2) # Rational: fracción de enteros, alternativamente podría haberse usado 0.5 \n",
    "T = sym.Eq(sym.Symbol('T'), (unMedio* m* v_m_cuadrado).simplify() ) # simplify: simplifica usando factor común y otras operaciones\n",
    "T"
   ]
  },
  {
   "cell_type": "code",
   "execution_count": 13,
   "metadata": {
    "slideshow": {
     "slide_type": "slide"
    },
    "tags": []
   },
   "outputs": [
    {
     "data": {
      "image/png": "[encoded data removed]",
      "text/latex": [
       "$\\displaystyle V = g m \\left(a \\sin{\\left(t ω \\right)} - b \\cos{\\left(θ \\right)}\\right)$"
      ],
      "text/plain": [
       "V = g⋅m⋅(a⋅sin(t⋅ω) - b⋅cos(θ))"
      ]
     },
     "execution_count": 13,
     "metadata": {},
     "output_type": "execute_result"
    }
   ],
   "source": [
    "# componente vertical de la posición\n",
    "y_m = sym.physics.vector.dot(r_m, N.y)\n",
    "\n",
    "# Energía potencial\n",
    "V  = sym.Eq(sym.Symbol('V'), m* g* y_m )\n",
    "V"
   ]
  },
  {
   "cell_type": "code",
   "execution_count": 16,
   "metadata": {
    "slideshow": {
     "slide_type": "slide"
    },
    "tags": []
   },
   "outputs": [
    {
     "data": {
      "image/png": "[encoded data removed]",
      "text/latex": [
       "$\\displaystyle \\mathcal{L} = \\frac{m \\left(a^{2} ω^{2} - 2 a b ω \\sin{\\left(t ω - θ \\right)} \\dot{θ} + b^{2} \\dot{θ}^{2} - 2 g \\left(a \\sin{\\left(t ω \\right)} - b \\cos{\\left(θ \\right)}\\right)\\right)}{2}$"
      ],
      "text/plain": [
       "                ⎛ 2  2                             2  2                       \n",
       "              m⋅⎝a ⋅ω  - 2⋅a⋅b⋅ω⋅sin(t⋅ω - θ)⋅θ̇ + b ⋅θ̇  - 2⋅g⋅(a⋅sin(t⋅ω) - \n",
       "\\mathcal{L} = ────────────────────────────────────────────────────────────────\n",
       "                                                 2                            \n",
       "\n",
       "       ⎞\n",
       "b⋅cos(θ))⎠\n",
       "────────\n",
       "        "
      ]
     },
     "execution_count": 16,
     "metadata": {},
     "output_type": "execute_result"
    }
   ],
   "source": [
    "# Lagrangiano\n",
    "L = sym.Eq(sym.Symbol('\\mathcal{L}'), (T.rhs- V.rhs).simplify() )\n",
    "L"
   ]
  }
 ],
 "metadata": {
  "kernelspec": {
   "display_name": "Python 3",
   "language": "python",
   "name": "python3"
  },
  "language_info": {
   "codemirror_mode": {
    "name": "ipython",
    "version": 3
   },
   "file_extension": ".py",
   "mimetype": "text/x-python",
   "name": "python",
   "nbconvert_exporter": "python",
   "pygments_lexer": "ipython3",
   "version": "3.7.3"
  }
 },
 "nbformat": 4,
 "nbformat_minor": 4
}
