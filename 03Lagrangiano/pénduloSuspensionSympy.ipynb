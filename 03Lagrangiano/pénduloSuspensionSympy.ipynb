{
 "cells": [
  {
   "cell_type": "markdown",
   "metadata": {},
   "source": [
    "# Péndulo con punto de suspensión libre"
   ]
  },
  {
   "cell_type": "markdown",
   "metadata": {},
   "source": [
    "![UNLaM | DIIT](figuras/ambos.png)    \n",
    "© 2021 [Víctor A. Bettachini](mailto:vbettachini@unlam.edu.ar)  \n",
    "Mecánica General  \n",
    "Departamento de Ingeniería e Investigación Tecnológica  \n",
    "Universidad Nacional de La Matanza  \n",
    "\n",
    "---"
   ]
  },
  {
   "cell_type": "markdown",
   "metadata": {},
   "source": [
    "> Bibliografía:\n",
    ">- Sección 5 ($\\S 5$) Ejercicio 2  \n",
    "Mecánica  \n",
    "Lev Davidovich Landau, y E. M. Lifshitz  \n",
    "Reverté, 1994"
   ]
  },
  {
   "cell_type": "markdown",
   "metadata": {},
   "source": [
    "## Enunciado\n",
    "Escriba el Lagrangiano en función de las coordenadas generalizadas sugeridas por las figura para un péndulo oscilando en un plano de masa $m_2$ cuyo punto de suspensión, de masa $m_1$, puede desplazarse sobre una recta horizontal.\n",
    "\n",
    "Verifique que recupera el Lagrangiano de un péndulo simple de asumir fija la masa $m_1$.\n",
    "<!---\n",
    "<img src=\"landauFig52_2.png\" width=\"150\" />\n",
    "--->\n",
    "\n",
    "![](figuras/landauFig52_2.png \"Figura 2 del libro de Landau.\") "
   ]
  },
  {
   "cell_type": "markdown",
   "metadata": {},
   "source": [
    "## Coordenadas generalizadas\n",
    "Referencia: Landau $\\S1$, Apunte Lanczos $\\S 2.2$\n",
    "\n",
    "En principio cada una de las $P$ partículas del sistema, de masa $m_1$ y $m_2$ debieran gozar de sus 3 **grados de libertad** en un mundo tridimensional.\n",
    "Este sistema de $P=2$ partículas tendría $N= 3P=6$ grados de libertad: $q_1, q_2,\\dots,q_n$.\n",
    "Estos no son necesariamente coordenadas, pueden ser cualquier magnitud que nos permita determinar posiciones, e.g. una coordenada en el sistema cartesiano puede ser función de estas $x_1= f(q_1, q_2,\\dots,q_n)$.\n",
    "Comos sabemos no alcanza con posiciones para determinar la dinámica sino que necesitamos también las velocidades, así que nos interesarán también $\\dot{q}_1, \\dot{q}_2,\\dots,\\dot{q}_n$.\n",
    "\n",
    "Así la descrpición de la dinámica de este sistema requiría de $3P= 6$ coordenadas para sus posiciones y también $3P$ velocidades. Pero a las partículas les imponemos restricciones que se los quitan:\n",
    "1. El movimiento se limita al plano, dos restricciones.\n",
    "2. La partícula $1$ está engarzada en la corredera horizontal, una restricción\n",
    "3. La $2$ no tiene más remedio que estár separada en $l$ de $1$, una restricción.\n",
    "\n",
    "Un total de $K=4$ restricciones, que aprenderemos nos reducen los grados de libertad del sistema a $3P-K= 2$.\n",
    "Es decir que con solo $2$ **coordenadas generalizadas** (y sus respectivas derivadas en el tiempo) habremos definido la dinámica del sistema."
   ]
  },
  {
   "cell_type": "markdown",
   "metadata": {},
   "source": [
    "### Resolución simbólica en Python\n",
    "`Python`, como cualquier otro lenguaje de programación es capaz hacer cuentas como una calculadora lo que se llama cálculo numérico.\n",
    "Como en muchos otros lenguajes pueden agregarse paquetes de funciones, lo que en otros lenguajes se llaman bibliotecas, que en `Python` se llaman módulos.\n",
    "El módulo `sympy` provee funciones para resolver álgebra en forma simbólica.\n",
    "\n",
    "A continuación se obtiene la ecuación Lagrangiana, sino que también se resolverá la correspondiente de Euler-Lagrange con esta herramienta."
   ]
  },
  {
   "cell_type": "code",
   "execution_count": 1,
   "metadata": {},
   "outputs": [],
   "source": [
    "import sympy as sym # importamos funciones de cálculo simbólico\n",
    "from sympy.physics import mechanics as mech # de sympy utilizaremos funciones de mecánica\n",
    "mech.init_vprinting() # notación con punto para la velocidad y punto punto para la aceleración\n",
    "import warnings\n",
    "warnings.filterwarnings(\"ignore\")"
   ]
  },
  {
   "cell_type": "markdown",
   "metadata": {},
   "source": [
    "### Coordenadas generalizadas y sistema cartesiano\n",
    "La figura que acompaña a este problema nos sugiere dos coordenadas generalizas al ubicar la $m_1$ sobre el eje $x$, podemos determinar su posición con solo $x_1$,\n",
    "$$\n",
    "\\begin{aligned}\n",
    "\\vec{r}_1 \n",
    "&= f_1(x_1) \\hat{x} \\\\\n",
    "&= x_1 \\hat{x}.\n",
    "\\end{aligned}\n",
    "$$"
   ]
  },
  {
   "cell_type": "markdown",
   "metadata": {},
   "source": [
    "#### Definición de variables"
   ]
  },
  {
   "cell_type": "code",
   "execution_count": 2,
   "metadata": {},
   "outputs": [],
   "source": [
    "# Defino los parámetros físicos del sistema\n",
    "m1, m2, g, l = sym.symbols('m_1, m_2, g, \\ell', positive=True)\n",
    "\n",
    "# Defino coordenadas generalizadas\n",
    "o = mech.ReferenceFrame('o') # marco referencial o en coordenadas cartesianas\n",
    "t = sym.symbols('t') # tiempo\n",
    "x1, φ = mech.dynamicsymbols('x_1, φ')"
   ]
  },
  {
   "cell_type": "code",
   "execution_count": 3,
   "metadata": {},
   "outputs": [
    {
     "data": {
      "image/png": "[encoded data removed]",
      "text/latex": [
       "$\\displaystyle x_{1}\\mathbf{\\hat{o}_x}$"
      ],
      "text/plain": [
       "x₁ o_x"
      ]
     },
     "execution_count": 3,
     "metadata": {},
     "output_type": "execute_result"
    }
   ],
   "source": [
    "m1_r = x1* o.x\n",
    "m1_r"
   ]
  },
  {
   "cell_type": "markdown",
   "metadata": {},
   "source": [
    "La $m_2$ necesitaría de $x_2$ y $y_2$, pero para determinar estos veremos que nos basta con agregar $\\varphi$ como coordenada,\n",
    "$$\n",
    "\\begin{aligned}\n",
    "\\vec{r}_2 \n",
    "&= f_2(x_1,\\varphi) \\hat{x} + f_3(x_1,\\varphi) \\hat{y}\\\\\n",
    "&= \\left( x_1 + \\ell \\sin{\\varphi} \\right) \\hat{x} + (-\\ell \\cos{\\varphi}) \\hat{y}.\n",
    "\\end{aligned}\n",
    "$$"
   ]
  },
  {
   "cell_type": "code",
   "execution_count": 4,
   "metadata": {},
   "outputs": [
    {
     "data": {
      "image/png": "[encoded data removed]",
      "text/latex": [
       "$\\displaystyle (\\ell \\sin{\\left(φ \\right)} + x_{1})\\mathbf{\\hat{o}_x} -  \\ell \\cos{\\left(φ \\right)}\\mathbf{\\hat{o}_y}$"
      ],
      "text/plain": [
       "(\\ell⋅sin(φ) + x₁) o_x + -\\ell⋅cos(φ) o_y"
      ]
     },
     "execution_count": 4,
     "metadata": {},
     "output_type": "execute_result"
    }
   ],
   "source": [
    "m2_r = (x1 + l* sym.sin(φ) )* o.x + (- l* sym.cos(φ) )* o.y  # recordemos que tomamos y hacia arriba\n",
    "m2_r"
   ]
  },
  {
   "cell_type": "markdown",
   "metadata": {},
   "source": [
    "### Una \"nota\" sobre la \"notación\" (¡cuac!).\n",
    "\n",
    "Los cuadernos (notebook) **Jupyter** permiten utilizar la escritura de expresiones matemáticas en notación $\\LaTeX$.\n",
    "Por ejemplo el símbolo que designa la velocidad angular, la **phi** del alfabeto griego, se puede lograr escribiendo `\\varphi` logrando $\\varphi$, o con su otra grafía `\\phi` logrando $\\phi$.\n",
    "\n",
    "Tras escribir cualquiera de ellos se puede presionar el tabulador y el texto se convierte en un único carácter `unicode` del símbolo que puede manipularse como cualquier otro (e.g. copiar y pegar).\n",
    "\n",
    "$\\LaTeX$ permite escribir más cosas en formato matemático que símbolos sueltos.\n",
    "Expresiones matemáticas complejas, e.g. $\\sqrt{ \\frac{\\sin(\\varphi) }{2} }$ pueden presentarse en la línea de texo englobando lo escrito entre un par de `$`.\n",
    "Al ejecutar la celda `markdown` se reemplaza lo escrito en notación $\\LaTeX$ por el equivalente en la notación matemática usual.\n",
    "\n",
    "Si la expresión es larga, o central en lo que se explica, puede escribirse en una línea aparte englobandola en un par de `$$`, e.g.\n",
    "$$\n",
    "    \\sqrt{ \\frac{\\sin(\\varphi) }{2} }.\n",
    "$$"
   ]
  },
  {
   "cell_type": "markdown",
   "metadata": {},
   "source": [
    "## Lagrangiano\n",
    "Referencia: Apunte Lanczos $\\S5$\n",
    "\n",
    "El Lagrangiano (o función Lagrangiana) de un sistema es determinado por la energía cinética $T$ y el potencial $V$ de este sistema expresados en función de coordenadas, velocidades generalizadas y eventualmente el tiempo,\n",
    "$$\n",
    "\\mathcal{L} (q_i, \\dot{q}_i, t)= T(q_i, \\dot{q}_i, t) - V(q_i, \\dot{q}_i, t).\n",
    "$$"
   ]
  },
  {
   "cell_type": "markdown",
   "metadata": {},
   "source": [
    "### Energía cinética\n",
    "En coordenadas cartesianas \n",
    "La energía cinética de una partícula de masa $m$ es $T= \\frac{m}{2} \\left(\\dot{\\vec{r}}\\right)^2 = \\frac{m}{2} \\left(\\dot{\\vec{r}} \\cdot \\dot{\\vec{r}}\\right) = \\frac{m}{2} \\left(\\dot{r_i}^2+ \\dot{r_j}^2+ \\dot{r_k}^2 \\right)$.\n",
    "\n",
    "Habrá que hacer uso del sistema de coordenas que facilite más la tarea.\n",
    "En este ejercicio son las cartesianas en el cuál es muy sencillo escribir esta energía como $T= \\frac{m}{2} \\left(\\dot{x}^2+ \\dot{y}^2+ \\dot{z}^2 \\right)$.\n",
    "\n",
    "Para este sistema\n",
    "$$\n",
    "T = \\sum_{i=1}^{P=2} \\frac{m_i}{2} \\left( \\dot{\\vec{r}}_i \\right)^2 = \\frac{m_1}{2} \\left( \\dot{\\vec{r}}_1 \\right)^2 + \\frac{m_2}{2} \\left( \\dot{\\vec{r}}_2 \\right)^2\n",
    "$$\n",
    "\n",
    "Debemos calcular las $\\dot{\\vec{r}}_i$ y para eso hacemos uso de las expresiones que obtuvimos antes\n",
    "$$\n",
    "\\begin{aligned}\n",
    "\\dot{\\vec{r}}_1 &= \\dot{x}_1 \\hat{x} \\\\\n",
    "\\dot{\\vec{r}}_2 &= \\left( \\dot{x}_1 + \\ell \\cos{\\varphi} \\dot{\\varphi} \\right) \\hat{x} + \\left( \\ell \\sin{\\varphi} \\dot{\\varphi} \\right) \\hat{y} .\n",
    "\\end{aligned}\n",
    "$$"
   ]
  },
  {
   "cell_type": "code",
   "execution_count": 5,
   "metadata": {},
   "outputs": [
    {
     "data": {
      "image/png": "[encoded data removed]",
      "text/latex": [
       "$\\displaystyle \\left( \\dot{x}_{1}\\mathbf{\\hat{o}_x}, \\  (\\ell \\cos{\\left(φ \\right)} \\dot{φ} + \\dot{x}_{1})\\mathbf{\\hat{o}_x} + \\ell \\sin{\\left(φ \\right)} \\dot{φ}\\mathbf{\\hat{o}_y}\\right)$"
      ],
      "text/plain": [
       "(x₁̇ o_x, (\\ell⋅cos(φ)⋅φ̇ + x₁̇) o_x + \\ell⋅sin(φ)⋅φ̇ o_y)"
      ]
     },
     "execution_count": 5,
     "metadata": {},
     "output_type": "execute_result"
    }
   ],
   "source": [
    "m1_v= m1_r.diff(t, o)\n",
    "m2_v= m2_r.diff(t, o)\n",
    "m1_v, m2_v"
   ]
  },
  {
   "cell_type": "markdown",
   "metadata": {},
   "source": [
    "Y ahora con estos $\\left( \\dot{\\vec{r}}_i \\right)^2$\n",
    "$$\n",
    "\\begin{aligned}\n",
    "\\left(\\dot{\\vec{r}}_1 \\right)^2= \\dot{\\vec{r}}_1 \\cdot \\dot{\\vec{r}}_1 &= \\dot{x}_1^2  \\\\\n",
    "\\left(\\dot{\\vec{r}}_2 \\right)^2= \\dot{\\vec{r}}_2 \\cdot \\dot{\\vec{r}}_2 \n",
    "&= \\left( \\dot{x}_1 + \\ell \\cos{\\varphi} \\dot{\\varphi} \\right)^2 + \\left( \\ell \\sin{\\varphi} \\dot{\\varphi} \\right)^2 \\\\\n",
    "&= \\left( \\dot{x}_1^2 + 2 \\dot{x}_1 \\ell \\cos{\\varphi} \\dot{\\varphi} + \\ell^2 \\cos^2{\\varphi} \\dot{\\varphi}^2 \\right) + \\left( \\ell^2 \\sin^2{\\varphi} \\dot{\\varphi}^2 \\right) \\\\\n",
    "&= \\dot{x}_1^2 + 2 \\dot{x}_1 \\ell \\cos{\\varphi} \\dot{\\varphi} + \\ell^2 \\dot{\\varphi}^2 . \n",
    "\\end{aligned}\n",
    "$$"
   ]
  },
  {
   "cell_type": "code",
   "execution_count": 6,
   "metadata": {},
   "outputs": [
    {
     "data": {
      "image/png": "[encoded data removed]",
      "text/latex": [
       "$\\displaystyle \\left( \\dot{x}_{1}^{2}, \\  \\ell^{2} \\dot{φ}^{2} + 2 \\ell \\cos{\\left(φ \\right)} \\dot{x}_{1} \\dot{φ} + \\dot{x}_{1}^{2}\\right)$"
      ],
      "text/plain": [
       "⎛  2      2  2                          2⎞\n",
       "⎝x₁̇ , \\ell ⋅φ̇  + 2⋅\\ell⋅cos(φ)⋅x₁̇⋅φ̇ + x₁̇ ⎠"
      ]
     },
     "execution_count": 6,
     "metadata": {},
     "output_type": "execute_result"
    }
   ],
   "source": [
    "# velocidades al cuadrado es decir producto punto con si mismo\n",
    "m1_v_cuadrado = m1_v.dot(m1_v)\n",
    "m2_v_cuadrado = m2_v.dot(m2_v).simplify()\n",
    "m1_v_cuadrado, m2_v_cuadrado"
   ]
  },
  {
   "cell_type": "markdown",
   "metadata": {},
   "source": [
    "Con esto hecho la energía cinética queda\n",
    "$$\n",
    "\\begin{aligned}\n",
    "T(\\dot{x}_1, \\varphi, \\dot{\\varphi}) &= \\sum_i \\frac{m_i}{2} \\left( \\dot{\\vec{r}}_i \\right)^2 \\\\\n",
    "&= \\frac{m_1}{2} \\left( \\dot{\\vec{r}}_1 \\right)^2 + \\frac{m_2}{2} \\left( \\dot{\\vec{r}}_2 \\right)^2 \\\\\n",
    "& = \\frac{m_1}{2} \\dot{x}_1^2 + \\frac{m_2}{2} \\left( \\dot{x}_1^2 + 2 \\dot{x}_1 \\ell \\cos{\\varphi} \\dot{\\varphi} + l^2 \\dot{\\varphi}^2 \\right) \\\\\n",
    "& = \\frac{m_1+ m_2}{2} \\dot{x}_1^2 + \\frac{m_2}{2} \\left( 2 \\dot{x}_1 \\ell \\cos{\\varphi} \\dot{\\varphi} + \\ell^2 \\dot{\\varphi}^2 \\right)\n",
    "\\end{aligned}\n",
    "$$"
   ]
  },
  {
   "cell_type": "code",
   "execution_count": 7,
   "metadata": {},
   "outputs": [
    {
     "data": {
      "image/png": "[encoded data removed]",
      "text/latex": [
       "$\\displaystyle T = \\frac{m_{1} \\dot{x}_{1}^{2}}{2} + \\frac{m_{2} \\left(\\ell^{2} \\dot{φ}^{2} + 2 \\ell \\cos{\\left(φ \\right)} \\dot{x}_{1} \\dot{φ} + \\dot{x}_{1}^{2}\\right)}{2}$"
      ],
      "text/plain": [
       "         2      ⎛    2  2                          2⎞\n",
       "    m₁⋅x₁̇    m₂⋅⎝\\ell ⋅φ̇  + 2⋅\\ell⋅cos(φ)⋅x₁̇⋅φ̇ + x₁̇ ⎠\n",
       "T = ────── + ────────────────────────────────────────\n",
       "      2                         2                    "
      ]
     },
     "execution_count": 7,
     "metadata": {},
     "output_type": "execute_result"
    }
   ],
   "source": [
    "# Energía cinética\n",
    "unMedio = sym.Rational(1,2) # Rational: fracción de enteros, alternativamente podría haberse usado 0.5 \n",
    "m1_T = unMedio* m1* m1_v_cuadrado\n",
    "m2_T = unMedio* m2* m2_v_cuadrado\n",
    "T = sym.Eq(sym.Symbol('T'), (m1_T + m2_T).simplify() ) # simplify: simplifica usando factor común y otras operaciones\n",
    "T"
   ]
  },
  {
   "cell_type": "markdown",
   "metadata": {},
   "source": [
    "### Energía potencial\n",
    "A veces el potencial es más sencillo de determinar partiendo de las fuerzas identificas en el sistema que depende de los campos que actuan sobre el mismo.\n",
    "En este problema está presente el campo gravitatorio responsable de la aceleración $\\vec{g}= -g \\hat{y}$ actuando sobre todas las $m_i$, causando sobre estas la $\\vec{F}= m \\vec{g}$.\n",
    "\n",
    "Toda fuerza cuasada por un campo se obtiene de calcuar el negativo de su divergencia $\\vec{F}= - \\vec{\\nabla} V$.\n",
    "Este último en coordenadas cartesianas es trivial, $\\vec{\\nabla}= (\\partial_x, \\partial_y, \\partial_z)$ (notación $\\partial_i= \\frac{\\partial}{ \\partial i}$ ).\n",
    "Para $\\vec{F}= m \\vec{g}= - m g \\hat{y}= - \\frac{\\partial V}{\\partial_y} \\hat{y} \\implies$ \n",
    "$$\n",
    "\\begin{aligned}\n",
    "\\mathrm{d} V &= m g \\mathrm{d} y\\\\\n",
    "\\int \\mathrm{d} V &= \\int m g \\mathrm{d} y = m g \\int \\mathrm{d} y \\\\\n",
    "V(y) - V(y_0) &= m g \\left(y- y_0 \\right)\n",
    "\\end{aligned},\n",
    "$$\n",
    "esta última en la que establecemos una $V(y_0)$ de refencia.\n",
    "Estableciendo la usual $V(y_0= 0)=0$ nos queda\n",
    "$$\n",
    "V_i= m_i g y_i.\n",
    "$$\n",
    "\n",
    "Nos ocupa la coordenada $y_i$ de cada partícula\n",
    "$$\n",
    "\\begin{aligned}\n",
    "V_1 &= 0\\\\\n",
    "V_2 &= m_2 g (-\\ell \\cos{\\varphi} ), \n",
    "\\end{aligned}\n",
    "$$\n",
    "con lo que el potencial del sistema queda\n",
    "$$\n",
    "V(\\varphi)= - m_2 g \\ell \\cos{\\varphi}.\n",
    "$$"
   ]
  },
  {
   "cell_type": "code",
   "execution_count": 8,
   "metadata": {},
   "outputs": [
    {
     "data": {
      "image/png": "[encoded data removed]",
      "text/latex": [
       "$\\displaystyle - \\ell \\cos{\\left(φ \\right)}$"
      ],
      "text/plain": [
       "-\\ell⋅cos(φ)"
      ]
     },
     "execution_count": 8,
     "metadata": {},
     "output_type": "execute_result"
    }
   ],
   "source": [
    "m2_y = m2_r.dot(o.y) # el producto de la posición con el versor y da tal componente\n",
    "m2_y"
   ]
  },
  {
   "cell_type": "code",
   "execution_count": 9,
   "metadata": {},
   "outputs": [
    {
     "data": {
      "image/png": "[encoded data removed]",
      "text/latex": [
       "$\\displaystyle V = - \\ell g m_{2} \\cos{\\left(φ \\right)}$"
      ],
      "text/plain": [
       "V = -\\ell⋅g⋅m₂⋅cos(φ)"
      ]
     },
     "execution_count": 9,
     "metadata": {},
     "output_type": "execute_result"
    }
   ],
   "source": [
    "# Energía potencial\n",
    "m1_V = 0\n",
    "m2_V = m2* g* (m2_y)\n",
    "V = sym.Eq(sym.Symbol('V'), (m1_V + m2_V ).simplify() )\n",
    "V"
   ]
  },
  {
   "cell_type": "markdown",
   "metadata": {},
   "source": [
    "### Al fin el Lagrangiano del sistema\n",
    "Con $T$ y $V$ finalmente expresamos\n",
    "$$\n",
    "\\mathcal{L} (\\dot{x}_1, \\varphi, \\dot{\\varphi})=\n",
    "T(\\dot{x}_1, \\varphi, \\dot{\\varphi}) - V(\\varphi) =\n",
    "\\frac{m_1+ m_2}{2} \\dot{x}_1^2 + \\frac{m_2}{2} \\left( 2 \\dot{x}_1 \\ell \\cos{\\varphi} \\dot{\\varphi} + \\ell^2 \\dot{\\varphi}^2 \\right) + m_2 g \\ell \\cos{\\varphi}.\n",
    "$$"
   ]
  },
  {
   "cell_type": "code",
   "execution_count": 10,
   "metadata": {},
   "outputs": [
    {
     "data": {
      "image/png": "[encoded data removed]",
      "text/latex": [
       "$\\displaystyle \\mathcal{L} = \\ell g m_{2} \\cos{\\left(φ \\right)} + \\frac{m_{1} \\dot{x}_{1}^{2}}{2} + \\frac{m_{2} \\left(\\ell^{2} \\dot{φ}^{2} + 2 \\ell \\cos{\\left(φ \\right)} \\dot{x}_{1} \\dot{φ} + \\dot{x}_{1}^{2}\\right)}{2}$"
      ],
      "text/plain": [
       "                                      2      ⎛    2  2                        \n",
       "                                 m₁⋅x₁̇    m₂⋅⎝\\ell ⋅φ̇  + 2⋅\\ell⋅cos(φ)⋅x₁̇⋅φ\n",
       "\\mathcal{L} = \\ell⋅g⋅m₂⋅cos(φ) + ────── + ────────────────────────────────────\n",
       "                                   2                         2                \n",
       "\n",
       "  2⎞\n",
       "̇ + x₁̇ ⎠\n",
       "────\n",
       "    "
      ]
     },
     "execution_count": 10,
     "metadata": {},
     "output_type": "execute_result"
    }
   ],
   "source": [
    "L = sym.Eq(sym.Symbol('\\mathcal{L}'), (T.rhs - V.rhs).simplify() )\n",
    "L"
   ]
  },
  {
   "cell_type": "markdown",
   "metadata": {},
   "source": [
    "### El Lagrangiano de un péndulo simple\n",
    "![](figuras/pénduloHorizontal.png)   \n",
    "Un péndulo simple conviene trabajarlo en coordenadas cilíndricas.\n",
    "En estas un péndulo rígido e ideal tiene una única componente no nula de su velocidad: la que vá en $\\hat{\\varphi}$ es decir $\\dot{\\vec{r}} \\cdot \\hat{\\varphi}= \\ell \\dot{\\varphi}$.\n",
    "Así\n",
    "$$\n",
    "T= \\frac{m}{2} \\dot{\\vec{r}}^2= \\frac{m}{2} \\ell^2 \\dot{\\varphi}^2.\n",
    "$$\n",
    "\n",
    "Si establecemos como en el sistema analizado $V(y_0)= 0$ el potencial gravitatorio es $V(y)= m g y$, pero como usamos coordenadas cilíndricas $y= -\\ell \\cos{\\varphi}$.\n",
    "Así\n",
    "$$\n",
    "V(\\varphi)= -m g \\ell \\cos{\\varphi}.\n",
    "$$\n",
    "\n",
    "Con esto el Lagrangiano de un péndulo es\n",
    "$$\n",
    "\\mathcal{L}(\\varphi, \\dot{\\varphi})= T(\\dot{\\varphi}) - V(\\varphi)= \\frac{m}{2} \\ell^2 \\dot{\\varphi}^2 + m g \\ell \\cos{\\varphi}.\n",
    "$$\n",
    "\n",
    "Podemos recuperar el caso del péndulo rígido ideal a partir del péndulo de suspensión libre si \"inmovilizamos\" $m_1$ estableciendo $x_1 \\equiv 0$ y por tanto $\\dot{x}_1= 0$.\n",
    "Tal Lagrangiano queda\n",
    "$$\n",
    "\\mathcal{L} (\\varphi, \\dot{\\varphi})= \\frac{m_2}{2} \\left( \\ell^2 \\dot{\\varphi}^2 \\right) + m_2 g \\ell \\cos{\\varphi},\n",
    "$$\n",
    "igual al que acabamos de obtener para el péndulo simple."
   ]
  },
  {
   "cell_type": "code",
   "execution_count": 11,
   "metadata": {},
   "outputs": [
    {
     "data": {
      "text/latex": [
       "$\\displaystyle \\mathcal{L} = \\ell g m_{2} \\cos{\\left(φ \\right)} + \\frac{m_{1} \\left(\\left(0\\right)\\right)^{2}}{2} + \\frac{m_{2} \\left(\\ell^{2} \\dot{φ}^{2} + 2 \\ell \\cos{\\left(φ \\right)} \\left(0\\right) \\dot{φ} + \\left(\\left(0\\right)\\right)^{2}\\right)}{2}$"
      ],
      "text/plain": [
       "                                           2      ⎛                           \n",
       "                                    ⎛d    ⎞       ⎜    2  2                 d \n",
       "                                 m₁⋅⎜──(0)⎟    m₂⋅⎜\\ell ⋅φ̇  + 2⋅\\ell⋅cos(φ)⋅─\n",
       "                                    ⎝dt   ⎠       ⎝                         dt\n",
       "\\mathcal{L} = \\ell⋅g⋅m₂⋅cos(φ) + ─────────── + ───────────────────────────────\n",
       "                                      2                               2       \n",
       "\n",
       "               2⎞\n",
       "        ⎛d    ⎞ ⎟\n",
       "─(0)⋅φ̇ + ⎜──(0)⎟ ⎟\n",
       "        ⎝dt   ⎠ ⎠\n",
       "─────────────────\n",
       "                 "
      ]
     },
     "execution_count": 11,
     "metadata": {},
     "output_type": "execute_result"
    }
   ],
   "source": [
    "L.subs(x1,0)"
   ]
  },
  {
   "cell_type": "code",
   "execution_count": 12,
   "metadata": {},
   "outputs": [
    {
     "data": {
      "image/png": "[encoded data removed]",
      "text/latex": [
       "$\\displaystyle \\mathcal{L} = \\frac{\\ell^{2} m_{2} \\dot{φ}^{2}}{2} + \\ell g m_{2} \\cos{\\left(φ \\right)}$"
      ],
      "text/plain": [
       "                  2     2                   \n",
       "              \\ell ⋅m₂⋅φ̇                    \n",
       "\\mathcal{L} = ─────────── + \\ell⋅g⋅m₂⋅cos(φ)\n",
       "                   2                        "
      ]
     },
     "execution_count": 12,
     "metadata": {},
     "output_type": "execute_result"
    }
   ],
   "source": [
    "L.subs(x1,0).simplify()"
   ]
  }
 ],
 "metadata": {
  "kernelspec": {
   "display_name": "Python 3",
   "language": "python",
   "name": "python3"
  },
  "language_info": {
   "codemirror_mode": {
    "name": "ipython",
    "version": 3
   },
   "file_extension": ".py",
   "mimetype": "text/x-python",
   "name": "python",
   "nbconvert_exporter": "python",
   "pygments_lexer": "ipython3",
   "version": "3.7.3"
  }
 },
 "nbformat": 4,
 "nbformat_minor": 4
}
