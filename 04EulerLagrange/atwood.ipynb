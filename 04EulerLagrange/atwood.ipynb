{
 "cells": [
  {
   "cell_type": "markdown",
   "metadata": {},
   "source": [
    "# Máquina de Atwood"
   ]
  },
  {
   "cell_type": "markdown",
   "metadata": {},
   "source": [
    "![UNLaM | DIIT](figuras/ambos.png)    \n",
    "© 2021 [Víctor A. Bettachini](mailto:vbettachini@unlam.edu.ar)  \n",
    "Mecánica General  \n",
    "Departamento de Ingeniería e Investigación Tecnológica  \n",
    "Universidad Nacional de La Matanza  \n",
    "\n",
    "---"
   ]
  },
  {
   "cell_type": "markdown",
   "metadata": {},
   "source": [
    "## Enunciado\n",
    "1. Obtenga con la ecuación de Euler-Lagrange la ecuación de la dinámica. \n",
    "Simplifique el problema considerando que la poleas de radio \\\\(R\\\\) tiene masa nula (\\\\(M=0\\\\)).\n",
    "2. Compare las aceleraciones con las obtenidas usando ecuaciones de Newton.  \n",
    "![](figuras/marion_fig2_1a.png)\n"
   ]
  },
  {
   "cell_type": "markdown",
   "metadata": {},
   "source": [
    "## Análisis preliminar\n",
    "- Dos coordenadas generalizadas: $x_1,x_2$\n",
    "- Potencial externo: debido a la aceleración gravitatoria\n",
    "- Vínculo: cuerda de longitud $l$ impone $x_1+ x_2 + \\pi R = \\ell$ siendo $R$ el radio de la polea que se la considera sin masa.\n",
    "    - Eso reduce a uno l"
   ]
  },
  {
   "cell_type": "markdown",
   "metadata": {},
   "source": [
    "## Resolución simbólica en el formalismo Lagrangiano\n",
    "A continuación se obtiene la ecuación Lagrangiana, sino que también se resolverá la correspondiente de Euler-Lagrange con las funciones del módulo `sympy`."
   ]
  },
  {
   "cell_type": "code",
   "execution_count": 1,
   "metadata": {},
   "outputs": [],
   "source": [
    "import sympy as sym # módulo de cálculo simbólico\n",
    "from sympy.physics import mechanics as mech\n",
    "mech.init_vprinting() # notación con punto para la velocidad y punto punto para la aceleración\n",
    "import warnings\n",
    "warnings.filterwarnings(\"ignore\")"
   ]
  },
  {
   "cell_type": "markdown",
   "metadata": {},
   "source": [
    "### Variables"
   ]
  },
  {
   "cell_type": "code",
   "execution_count": 2,
   "metadata": {},
   "outputs": [
    {
     "data": {
      "image/png": "[encoded data removed]",
      "text/latex": [
       "$\\displaystyle \\left( -  x_{1}\\mathbf{\\hat{o}_y}, \\  (\\pi R - \\ell + x_{1})\\mathbf{\\hat{o}_y}\\right)$"
      ],
      "text/plain": [
       "(-x₁ o_y, (π⋅R - \\ell + x₁) o_y)"
      ]
     },
     "execution_count": 2,
     "metadata": {},
     "output_type": "execute_result"
    }
   ],
   "source": [
    "# Defino los parámetros físicos del sistema\n",
    "M, R, m1, m2, g, l = sym.symbols('M, R, m_1, m_2, g, \\ell', positive=True)\n",
    "\n",
    "# Defino coordenadas generalizadas \n",
    "t = sym.symbols('t') # tiempo\n",
    "x1 = mech.dynamicsymbols('x_1') # sabemos que solo necesitamos una\n",
    "\n",
    "# vectores posición\n",
    "o = mech.ReferenceFrame('o') # sistema de coordenadas\n",
    "m1_r = x1* (-o.y) # versor y para arriba\n",
    "m2_r = (l - x1 - sym.pi* R)* (-o.y) # resto longitud hilo x1 y media vuelta polea\n",
    "m1_r, m2_r"
   ]
  },
  {
   "cell_type": "markdown",
   "metadata": {},
   "source": [
    "### Energía cinética"
   ]
  },
  {
   "cell_type": "code",
   "execution_count": 3,
   "metadata": {},
   "outputs": [
    {
     "data": {
      "image/png": "[encoded data removed]",
      "text/latex": [
       "$\\displaystyle \\left( -  \\dot{x}_{1}\\mathbf{\\hat{o}_y}, \\  \\dot{x}_{1}\\mathbf{\\hat{o}_y}\\right)$"
      ],
      "text/plain": [
       "(-x₁̇ o_y, x₁̇ o_y)"
      ]
     },
     "execution_count": 3,
     "metadata": {},
     "output_type": "execute_result"
    }
   ],
   "source": [
    "# velocidad\n",
    "m1_v = m1_r.diff(t,o) # se indica que se deriva en sistema de referencia o\n",
    "m2_v = m2_r.diff(t,o) # se indida que se deriva en sistema de referencia o\n",
    "m1_v, m2_v"
   ]
  },
  {
   "cell_type": "code",
   "execution_count": 4,
   "metadata": {},
   "outputs": [
    {
     "data": {
      "image/png": "[encoded data removed]",
      "text/latex": [
       "$\\displaystyle \\left( \\dot{x}_{1}^{2}, \\  \\dot{x}_{1}^{2}\\right)$"
      ],
      "text/plain": [
       "⎛  2    2⎞\n",
       "⎝x₁̇ , x₁̇ ⎠"
      ]
     },
     "execution_count": 4,
     "metadata": {},
     "output_type": "execute_result"
    }
   ],
   "source": [
    "# velocidad al cuadrado\n",
    "m1_v2 = m1_v.dot(m1_v) # vector producto punto con sigo mismo\n",
    "m2_v2 = m2_v.dot(m2_v) # vector producto punto con sigo mismo\n",
    "m1_v2, m2_v2"
   ]
  },
  {
   "cell_type": "code",
   "execution_count": 5,
   "metadata": {},
   "outputs": [
    {
     "data": {
      "image/png": "[encoded data removed]",
      "text/latex": [
       "$\\displaystyle T = \\frac{\\left(m_{1} + m_{2}\\right) \\dot{x}_{1}^{2}}{2}$"
      ],
      "text/plain": [
       "                2\n",
       "    (m₁ + m₂)⋅x₁̇ \n",
       "T = ─────────────\n",
       "          2      "
      ]
     },
     "execution_count": 5,
     "metadata": {},
     "output_type": "execute_result"
    }
   ],
   "source": [
    "# Energía cinética\n",
    "unMedio = sym.Rational(1,2) # Rational: fracción de enteros, alternativamente podría haberse usado 0.5 \n",
    "T_m1 = unMedio* m1* m1_v2\n",
    "T_m2 = unMedio* m2* m1_v2\n",
    "T = sym.Eq(sym.Symbol('T'), (T_m1 + T_m2).simplify() ) # simplify: simplifica usando factor común y otras operaciones\n",
    "T"
   ]
  },
  {
   "cell_type": "markdown",
   "metadata": {},
   "source": [
    "### Energía potencial"
   ]
  },
  {
   "cell_type": "code",
   "execution_count": 6,
   "metadata": {},
   "outputs": [
    {
     "data": {
      "image/png": "[encoded data removed]",
      "text/latex": [
       "$\\displaystyle V = g \\left(- m_{1} x_{1} + m_{2} \\left(\\pi R - \\ell + x_{1}\\right)\\right)$"
      ],
      "text/plain": [
       "V = g⋅(-m₁⋅x₁ + m₂⋅(π⋅R - \\ell + x₁))"
      ]
     },
     "execution_count": 6,
     "metadata": {},
     "output_type": "execute_result"
    }
   ],
   "source": [
    "# Energía potencial\n",
    "g_vector = g* (-o.y) # aceleración gravitatoria en -y versor\n",
    "V_m1 = m1* (-g_vector).dot(m1_r)\n",
    "V_m2 = m2* (-g_vector).dot(m2_r)\n",
    "V = sym.Eq(sym.Symbol('V'), (V_m1 + V_m2).simplify() )\n",
    "V"
   ]
  },
  {
   "cell_type": "markdown",
   "metadata": {},
   "source": [
    "### Lagrangiano\n",
    "$$\n",
    "\\mathcal{L}(x_1, \\dot{x}_1) = T(\\dot{x}_1)- V(x_1)\n",
    "$$"
   ]
  },
  {
   "cell_type": "code",
   "execution_count": 7,
   "metadata": {},
   "outputs": [
    {
     "data": {
      "image/png": "[encoded data removed]",
      "text/latex": [
       "$\\displaystyle \\mathcal{L} = g \\left(m_{1} x_{1} - m_{2} \\left(\\pi R - \\ell + x_{1}\\right)\\right) + \\frac{\\left(m_{1} + m_{2}\\right) \\dot{x}_{1}^{2}}{2}$"
      ],
      "text/plain": [
       "                                                             2\n",
       "                                                 (m₁ + m₂)⋅x₁̇ \n",
       "\\mathcal{L} = g⋅(m₁⋅x₁ - m₂⋅(π⋅R - \\ell + x₁)) + ─────────────\n",
       "                                                       2      "
      ]
     },
     "execution_count": 7,
     "metadata": {},
     "output_type": "execute_result"
    }
   ],
   "source": [
    "L = sym.Eq(sym.Symbol('\\mathcal{L}'), (T.rhs - V.rhs).simplify() )\n",
    "L"
   ]
  },
  {
   "cell_type": "markdown",
   "metadata": {},
   "source": [
    "### Ecuación de Euler-Lagrange"
   ]
  },
  {
   "cell_type": "markdown",
   "metadata": {},
   "source": [
    "Primero calculamos el que llamo lado izquierdo\n",
    "$$\n",
    "\\frac{\\partial}{\\partial x} \\mathcal{L}\n",
    "$$"
   ]
  },
  {
   "cell_type": "code",
   "execution_count": 8,
   "metadata": {},
   "outputs": [
    {
     "data": {
      "image/png": "[encoded data removed]",
      "text/latex": [
       "$\\displaystyle g \\left(m_{1} - m_{2}\\right)$"
      ],
      "text/plain": [
       "g⋅(m₁ - m₂)"
      ]
     },
     "execution_count": 8,
     "metadata": {},
     "output_type": "execute_result"
    }
   ],
   "source": [
    "ladoIzquierdo = L.rhs.diff(x1)\n",
    "ladoIzquierdo"
   ]
  },
  {
   "cell_type": "markdown",
   "metadata": {},
   "source": [
    "Luego el derecho\n",
    "$$\n",
    "\\frac{\\mathrm{d}}{\\mathrm{d}t} \\frac{\\partial}{\\partial \\dot{x}} \\mathcal{L}\n",
    "$$"
   ]
  },
  {
   "cell_type": "code",
   "execution_count": 9,
   "metadata": {},
   "outputs": [
    {
     "data": {
      "image/png": "[encoded data removed]",
      "text/latex": [
       "$\\displaystyle \\left(m_{1} + m_{2}\\right) \\ddot{x}_{1}$"
      ],
      "text/plain": [
       "(m₁ + m₂)⋅x₁̈"
      ]
     },
     "execution_count": 9,
     "metadata": {},
     "output_type": "execute_result"
    }
   ],
   "source": [
    "ladoDerecho = L.rhs.diff(x1.diff(t)).diff(t) # primero deriva respecto a x punto y luego a t\n",
    "ladoDerecho"
   ]
  },
  {
   "cell_type": "markdown",
   "metadata": {},
   "source": [
    "Con ambos se escribe la ecuación de Euler-Lagrange\n",
    "$$\n",
    "\\frac{\\partial}{\\partial x} \\mathcal{L} - \\frac{\\mathrm{d}}{\\mathrm{d}t} \\frac{\\partial}{\\partial \\dot{x}} \\mathcal{L} = 0\n",
    "$$"
   ]
  },
  {
   "cell_type": "code",
   "execution_count": 10,
   "metadata": {},
   "outputs": [
    {
     "data": {
      "image/png": "[encoded data removed]",
      "text/latex": [
       "$\\displaystyle g \\left(m_{1} - m_{2}\\right) - \\left(m_{1} + m_{2}\\right) \\ddot{x}_{1} = 0$"
      ],
      "text/plain": [
       "g⋅(m₁ - m₂) - (m₁ + m₂)⋅x₁̈ = 0"
      ]
     },
     "execution_count": 10,
     "metadata": {},
     "output_type": "execute_result"
    }
   ],
   "source": [
    "eulerLagrange = sym.Eq(ladoIzquierdo- ladoDerecho, 0) # ecuación igualando a cero\n",
    "eulerLagrange.simplify()"
   ]
  },
  {
   "cell_type": "markdown",
   "metadata": {},
   "source": [
    "Esta es una ecuación diferencial lineal de segundo orden homogena."
   ]
  },
  {
   "cell_type": "markdown",
   "metadata": {},
   "source": [
    "### Despeje\n",
    "Buscamos resolver numéricamente esta ecuación diferencial de segundo orden.\n",
    "Podemos despejar $\\ddot{x}$"
   ]
  },
  {
   "cell_type": "code",
   "execution_count": 11,
   "metadata": {},
   "outputs": [
    {
     "data": {
      "image/png": "[encoded data removed]",
      "text/latex": [
       "$\\displaystyle \\left[ \\frac{g \\left(m_{1} - m_{2}\\right)}{m_{1} + m_{2}}\\right]$"
      ],
      "text/plain": [
       "⎡g⋅(m₁ - m₂)⎤\n",
       "⎢───────────⎥\n",
       "⎣  m₁ + m₂  ⎦"
      ]
     },
     "execution_count": 11,
     "metadata": {},
     "output_type": "execute_result"
    }
   ],
   "source": [
    "sym.solve(eulerLagrange, x1.diff(t,2) ) # entrega una lista con los posibles despejes en función de x punto punto (derivada de 2.o orden con t)"
   ]
  },
  {
   "cell_type": "markdown",
   "metadata": {},
   "source": [
    "y asignar este resultado a una variable para uso posterior"
   ]
  },
  {
   "cell_type": "code",
   "execution_count": 12,
   "metadata": {},
   "outputs": [
    {
     "data": {
      "image/png": "[encoded data removed]",
      "text/latex": [
       "$\\displaystyle \\frac{g \\left(m_{1} - m_{2}\\right)}{m_{1} + m_{2}}$"
      ],
      "text/plain": [
       "g⋅(m₁ - m₂)\n",
       "───────────\n",
       "  m₁ + m₂  "
      ]
     },
     "execution_count": 12,
     "metadata": {},
     "output_type": "execute_result"
    }
   ],
   "source": [
    "m1_a = sym.solve(eulerLagrange,x1.diff(t,2))[0] # [0] toma el único elemento de la lista\n",
    "m1_a"
   ]
  },
  {
   "cell_type": "markdown",
   "metadata": {},
   "source": [
    "Más adelante en el curso ejercitaremos el dar valores numéricos a los parámetros y condiciones iniciales del sistema para poder calcular $x(t)$."
   ]
  },
  {
   "cell_type": "markdown",
   "metadata": {},
   "source": [
    "### Contemplando la masa de la polea"
   ]
  },
  {
   "cell_type": "markdown",
   "metadata": {},
   "source": [
    "Si bien el centro de masa de la polea no se desplaza su rotación agrega un término a la energía cinética en función de la velocidad angular \\\\(\\omega\\\\)."
   ]
  },
  {
   "cell_type": "code",
   "execution_count": 13,
   "metadata": {},
   "outputs": [
    {
     "data": {
      "image/png": "[encoded data removed]",
      "text/latex": [
       "$\\displaystyle \\frac{M R^{2} \\omega^{2}}{4}$"
      ],
      "text/plain": [
       "   2       2\n",
       "M⋅R ⋅\\omega \n",
       "────────────\n",
       "     4      "
      ]
     },
     "execution_count": 13,
     "metadata": {},
     "output_type": "execute_result"
    }
   ],
   "source": [
    "I_cilindro = unMedio* M* R**2 # momento de inercia de rotación en torno a su eje de simetría longitudinal\n",
    "ω = sym.Symbol('\\omega') # declaramos ω como variable\n",
    "T_rotación = unMedio* I_cilindro* ω**2\n",
    "T_rotación"
   ]
  },
  {
   "cell_type": "markdown",
   "metadata": {},
   "source": [
    "Conocemos la relación entre la velocidad angular y la tangencial que es la de la cuerda."
   ]
  },
  {
   "cell_type": "code",
   "execution_count": 14,
   "metadata": {},
   "outputs": [
    {
     "data": {
      "image/png": "[encoded data removed]",
      "text/latex": [
       "$\\displaystyle \\omega = R \\dot{x}_{1}$"
      ],
      "text/plain": [
       "\\omega = R⋅x₁̇"
      ]
     },
     "execution_count": 14,
     "metadata": {},
     "output_type": "execute_result"
    }
   ],
   "source": [
    "sym.Eq(ω , R* x1.diff(t))"
   ]
  },
  {
   "cell_type": "markdown",
   "metadata": {},
   "source": [
    "Hago uso de la sustitución para re-escribir la componente de energía cinética por la rotación de la polea."
   ]
  },
  {
   "cell_type": "code",
   "execution_count": 15,
   "metadata": {},
   "outputs": [
    {
     "data": {
      "image/png": "[encoded data removed]",
      "text/latex": [
       "$\\displaystyle \\frac{M R^{4} \\dot{x}_{1}^{2}}{4}$"
      ],
      "text/plain": [
       "   4   2\n",
       "M⋅R ⋅x₁̇ \n",
       "────────\n",
       "   4    "
      ]
     },
     "execution_count": 15,
     "metadata": {},
     "output_type": "execute_result"
    }
   ],
   "source": [
    "T_rotación = T_rotación.subs(ω, R* x1.diff(t)) # substituye\n",
    "T_rotación"
   ]
  },
  {
   "cell_type": "markdown",
   "metadata": {},
   "source": [
    "La nueva energía cinética es ahora"
   ]
  },
  {
   "cell_type": "code",
   "execution_count": 17,
   "metadata": {},
   "outputs": [
    {
     "data": {
      "image/png": "[encoded data removed]",
      "text/latex": [
       "$\\displaystyle \\frac{M R^{4} \\dot{x}_{1}^{2}}{4} + \\frac{\\left(m_{1} + m_{2}\\right) \\dot{x}_{1}^{2}}{2}$"
      ],
      "text/plain": [
       "   4   2               2\n",
       "M⋅R ⋅x₁̇    (m₁ + m₂)⋅x₁̇ \n",
       "──────── + ─────────────\n",
       "   4             2      "
      ]
     },
     "execution_count": 17,
     "metadata": {},
     "output_type": "execute_result"
    }
   ],
   "source": [
    "T_p = T.rhs + T_rotación # agrego _p para indicar con polea\n",
    "T_p"
   ]
  },
  {
   "cell_type": "markdown",
   "metadata": {},
   "source": [
    "El Lagrangiano"
   ]
  },
  {
   "cell_type": "code",
   "execution_count": 18,
   "metadata": {},
   "outputs": [
    {
     "data": {
      "image/png": "[encoded data removed]",
      "text/latex": [
       "$\\displaystyle \\mathcal{L}_\\mathrm{c/polea} = \\frac{M R^{4} \\dot{x}_{1}^{2}}{4} + g \\left(m_{1} x_{1} - m_{2} \\left(\\pi R - \\ell + x_{1}\\right)\\right) + \\frac{\\left(m_{1} + m_{2}\\right) \\dot{x}_{1}^{2}}{2}$"
      ],
      "text/plain": [
       "                                  4   2                                       \n",
       "                               M⋅R ⋅x₁̇                                       \n",
       "\\mathcal{L}_\\mathrm{c/polea} = ──────── + g⋅(m₁⋅x₁ - m₂⋅(π⋅R - \\ell + x₁)) + ─\n",
       "                                  4                                           \n",
       "\n",
       "           2\n",
       "(m₁ + m₂)⋅x₁̇ \n",
       "────────────\n",
       "     2      "
      ]
     },
     "execution_count": 18,
     "metadata": {},
     "output_type": "execute_result"
    }
   ],
   "source": [
    "L_conPolea = sym.Eq(sym.Symbol('\\mathcal{L}_\\mathrm{c/polea}'), T_p - V.rhs.simplify() )\n",
    "L_conPolea"
   ]
  },
  {
   "cell_type": "markdown",
   "metadata": {},
   "source": [
    "La ecuación de Euler-Lagrange"
   ]
  },
  {
   "cell_type": "code",
   "execution_count": 21,
   "metadata": {},
   "outputs": [
    {
     "data": {
      "image/png": "[encoded data removed]",
      "text/latex": [
       "$\\displaystyle - \\frac{M R^{4} \\ddot{x}_{1}}{2} + g \\left(m_{1} - m_{2}\\right) - \\left(m_{1} + m_{2}\\right) \\ddot{x}_{1} = 0$"
      ],
      "text/plain": [
       "     4                                    \n",
       "  M⋅R ⋅x₁̈                                 \n",
       "- ─────── + g⋅(m₁ - m₂) - (m₁ + m₂)⋅x₁̈ = 0\n",
       "     2                                    "
      ]
     },
     "execution_count": 21,
     "metadata": {},
     "output_type": "execute_result"
    }
   ],
   "source": [
    "ladoIzquierdo_p = L_conPolea.rhs.diff(x1)\n",
    "ladoDerecho_p = L_conPolea.rhs.diff(x1.diff(t)).diff(t) # primero deriva respecto a x punto y luego a t\n",
    "eulerLagrange_p = sym.Eq(ladoIzquierdo_p - ladoDerecho_p, 0) # ecuación igualando a cero\n",
    "eulerLagrange_p"
   ]
  },
  {
   "cell_type": "markdown",
   "metadata": {},
   "source": [
    "Y la aceleración"
   ]
  },
  {
   "cell_type": "code",
   "execution_count": null,
   "metadata": {},
   "outputs": [],
   "source": [
    "aceleracion_x1_p = sym.solve(eulerLagrange_p, x1.diff(t,2))[0]\n",
    "aceleracion_x1_p"
   ]
  },
  {
   "cell_type": "code",
   "execution_count": null,
   "metadata": {},
   "outputs": [],
   "source": []
  }
 ],
 "metadata": {
  "kernelspec": {
   "display_name": "Python 3",
   "language": "python",
   "name": "python3"
  },
  "language_info": {
   "codemirror_mode": {
    "name": "ipython",
    "version": 3
   },
   "file_extension": ".py",
   "mimetype": "text/x-python",
   "name": "python",
   "nbconvert_exporter": "python",
   "pygments_lexer": "ipython3",
   "version": "3.7.3"
  }
 },
 "nbformat": 4,
 "nbformat_minor": 4
}
