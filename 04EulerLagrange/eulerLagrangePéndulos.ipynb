{
 "cells": [
  {
   "cell_type": "markdown",
   "metadata": {},
   "source": [
    "# Euler-Lagrange | Péndulos"
   ]
  },
  {
   "cell_type": "markdown",
   "metadata": {},
   "source": [
    "![UNLaM | DIIT](figuras/ambos.png \"UNLaM | DIIT\")  \n",
    "© 2021 [Víctor A. Bettachini](mailto:vbettachini@unlam.edu.ar)  \n",
    "Mecánica General  \n",
    "Departamento de Ingeniería e Investigación Tecnológica  \n",
    "Universidad Nacional de La Matanza  \n",
    "---"
   ]
  },
  {
   "cell_type": "markdown",
   "metadata": {},
   "source": [
    "## Lagrangiano\n",
    "> Referencia: Apunte Lanczos $\\S5$\n",
    "\n",
    "El Lagrangiano (o función Lagrangiana) de un sistema es determinado por la energía cinética $T$ y el potencial $V$ de este sistema expresados en función de coordenadas, velocidades generalizadas y eventualmente el tiempo,\n",
    "$$\n",
    "\\mathcal{L} (q_i, \\dot{q}_i, t)= T(q_i, \\dot{q}_i, t) - V(q_i, \\dot{q}_i, t).\n",
    "$$"
   ]
  },
  {
   "cell_type": "markdown",
   "metadata": {},
   "source": [
    "## Péndulo ideal\n",
    "![](figuras/pénduloHorizontal.png)   \n",
    "Un péndulo simple conviene trabajarlo en coordenadas cilíndricas.\n",
    "En estas un péndulo rígido e ideal tiene una única componente no nula de su velocidad: la que vá en $\\hat{\\varphi}$ es decir $\\dot{\\vec{r}} \\cdot \\hat{\\varphi}= \\ell \\dot{\\varphi}$."
   ]
  },
  {
   "cell_type": "code",
   "execution_count": 1,
   "metadata": {},
   "outputs": [],
   "source": [
    "import sympy as sym # importamos funciones de cálculo simbólico\n",
    "from sympy.physics import mechanics as mech # de sympy utilizaremos funciones de mecánica\n",
    "mech.init_vprinting() # notación con punto para la velocidad y punto punto para la aceleración\n",
    "import warnings\n",
    "warnings.filterwarnings(\"ignore\")"
   ]
  },
  {
   "cell_type": "code",
   "execution_count": 2,
   "metadata": {},
   "outputs": [],
   "source": [
    "# Defino los parámetros físicos del sistema\n",
    "m, g, l = sym.symbols('m, g, \\ell', positive=True)\n",
    "\n",
    "# Defino coordenadas generalizadas\n",
    "N = mech.ReferenceFrame('N') # sistema de referencia en coordenadas cartesianas\n",
    "t = sym.symbols('t') # tiempo\n",
    "φ = mech.dynamicsymbols('φ')"
   ]
  },
  {
   "cell_type": "code",
   "execution_count": 3,
   "metadata": {},
   "outputs": [
    {
     "data": {
      "image/png": "[encoded data removed]",
      "text/latex": [
       "$\\displaystyle \\ell \\sin{\\left(φ \\right)}\\mathbf{\\hat{n}_x} -  \\ell \\cos{\\left(φ \\right)}\\mathbf{\\hat{n}_y}$"
      ],
      "text/plain": [
       "\\ell⋅sin(φ) n_x + -\\ell⋅cos(φ) n_y"
      ]
     },
     "execution_count": 3,
     "metadata": {},
     "output_type": "execute_result"
    }
   ],
   "source": [
    "m_r = l*(sym.sin(φ)* N.x - sym.cos(φ)* N.y )  # recordemos que tomamos y hacia arriba\n",
    "m_r"
   ]
  },
  {
   "cell_type": "code",
   "execution_count": 4,
   "metadata": {},
   "outputs": [
    {
     "data": {
      "image/png": "[encoded data removed]",
      "text/latex": [
       "$\\displaystyle T = \\frac{\\ell^{2} m \\dot{φ}^{2}}{2}$"
      ],
      "text/plain": [
       "        2    2\n",
       "    \\ell ⋅m⋅φ̇ \n",
       "T = ──────────\n",
       "        2     "
      ]
     },
     "execution_count": 4,
     "metadata": {},
     "output_type": "execute_result"
    }
   ],
   "source": [
    "# Energía cinética\n",
    "unMedio = sym.Rational(1,2) # Rational: fracción de enteros, alternativamente podría haberse usado 0.5 \n",
    "m_v = m_r.diff(t,N)\n",
    "m_T = unMedio* m* m_v.dot(m_v)\n",
    "T_ideal = sym.Eq(sym.Symbol('T'), m_T ).simplify() # simplify: simplifica usando factor común y otras operaciones\n",
    "T_ideal"
   ]
  },
  {
   "cell_type": "markdown",
   "metadata": {},
   "source": [
    "Si establecemos como en el sistema analizado $V(y_0)= 0$ el potencial gravitatorio es $V(y)= m g y$, pero como usamos coordenadas cilíndricas"
   ]
  },
  {
   "cell_type": "code",
   "execution_count": 5,
   "metadata": {},
   "outputs": [
    {
     "data": {
      "image/png": "[encoded data removed]",
      "text/latex": [
       "$\\displaystyle V = - \\ell g m \\cos{\\left(φ \\right)}$"
      ],
      "text/plain": [
       "V = -\\ell⋅g⋅m⋅cos(φ)"
      ]
     },
     "execution_count": 5,
     "metadata": {},
     "output_type": "execute_result"
    }
   ],
   "source": [
    "# Energía potencial\n",
    "V_ideal = sym.Eq(sym.Symbol('V'), - (m* g* (- N.y)).dot(m_r) ).simplify()\n",
    "V_ideal"
   ]
  },
  {
   "cell_type": "markdown",
   "metadata": {},
   "source": [
    "### Lagrangiano del péndulo ideal\n",
    "Con esto el Lagrangiano de un péndulo es\n",
    "$$\n",
    "\\mathcal{L}(\\varphi, \\dot{\\varphi})= T(\\dot{\\varphi}) - V(\\varphi)\n",
    "$$"
   ]
  },
  {
   "cell_type": "code",
   "execution_count": 6,
   "metadata": {},
   "outputs": [
    {
     "data": {
      "image/png": "[encoded data removed]",
      "text/latex": [
       "$\\displaystyle \\mathcal{L}{\\left(φ,\\dot{φ} \\right)} = \\frac{\\ell^{2} m \\dot{φ}^{2}}{2} + \\ell g m \\cos{\\left(φ \\right)}$"
      ],
      "text/plain": [
       "                        2    2                  \n",
       "                    \\ell ⋅m⋅φ̇                   \n",
       "\\mathcal{L}(φ, φ̇) = ────────── + \\ell⋅g⋅m⋅cos(φ)\n",
       "                        2                       "
      ]
     },
     "execution_count": 6,
     "metadata": {},
     "output_type": "execute_result"
    }
   ],
   "source": [
    "L_ideal = sym.Eq(sym.Function('\\mathcal{L}')(φ, φ.diff(t) ) , T_ideal.rhs - V_ideal.rhs ) \n",
    "L_ideal"
   ]
  },
  {
   "cell_type": "markdown",
   "metadata": {},
   "source": [
    "## Ecuación de Euler-Lagrange"
   ]
  },
  {
   "cell_type": "markdown",
   "metadata": {},
   "source": [
    "> Referencia: Apunte Lanczos $\\S6$\n",
    "\n",
    "La ecuación de Euler-Lagrange para una coordenada generalizada $q$ es\n",
    "$$\n",
    "\\begin{aligned}\n",
    "\\frac{\\partial \\mathcal{L} }{\\partial q} &- \\frac{\\mathrm{d}}{\\mathrm{d} t} \\frac{\\partial \\mathcal{L} }{\\partial \\dot{q} }=0 \\\\\n",
    "\\end{aligned}.\n",
    "$$\n"
   ]
  },
  {
   "cell_type": "markdown",
   "metadata": {},
   "source": [
    "### Ecuación de Euler-Lagrange del péndulo ideal\n",
    "Utilizaremos este sencillo sistema para mostrar que Euler-Lagrange permite obtener las mismas ecuaciones de la dinámica que se obtenienen con la 2.a ley de Newton.   \n",
    "\n",
    "Planteamos la ecuación de Euler-Lagrange correspondiente para la única coordenada generalizada, $\\varphi$\n",
    "$$\n",
    "\\begin{aligned}\n",
    "\\frac{\\partial \\mathcal{L} }{\\partial \\varphi} &- \\frac{\\mathrm{d}}{\\mathrm{d} t} \\frac{\\partial \\mathcal{L} }{\\partial \\dot{\\varphi} }=0 \\\\\n",
    "\\end{aligned}.\n",
    "$$\n",
    "\n",
    "Primero se calcula\n",
    "$$\n",
    "\\frac{\\partial}{\\partial q_i} \\mathcal{L}\n",
    "$$"
   ]
  },
  {
   "cell_type": "code",
   "execution_count": 7,
   "metadata": {},
   "outputs": [
    {
     "data": {
      "image/png": "[encoded data removed]",
      "text/latex": [
       "$\\displaystyle - \\ell g m \\sin{\\left(φ \\right)}$"
      ],
      "text/plain": [
       "-\\ell⋅g⋅m⋅sin(φ)"
      ]
     },
     "execution_count": 7,
     "metadata": {},
     "output_type": "execute_result"
    }
   ],
   "source": [
    "φ_dq = L_ideal.rhs.diff(φ)\n",
    "φ_dq.simplify()"
   ]
  },
  {
   "cell_type": "markdown",
   "metadata": {},
   "source": [
    "Luego\n",
    "$$\n",
    "\\frac{\\mathrm{d}}{\\mathrm{d}t} \\frac{\\partial}{\\partial \\dot{q_i}} \\mathcal{L}\n",
    "$$"
   ]
  },
  {
   "cell_type": "code",
   "execution_count": 8,
   "metadata": {},
   "outputs": [
    {
     "data": {
      "image/png": "[encoded data removed]",
      "text/latex": [
       "$\\displaystyle \\ell^{2} m \\ddot{φ}$"
      ],
      "text/plain": [
       "    2    \n",
       "\\ell ⋅m⋅φ̈"
      ]
     },
     "execution_count": 8,
     "metadata": {},
     "output_type": "execute_result"
    }
   ],
   "source": [
    "φ_dtdqp = L_ideal.rhs.diff(φ.diff(t)).diff(t) # primero deriva respecto a x1 punto y luego a t\n",
    "φ_dtdqp.simplify()"
   ]
  },
  {
   "cell_type": "markdown",
   "metadata": {},
   "source": [
    "Y con estos se escribe la ecuación de Euler-Lagrange"
   ]
  },
  {
   "cell_type": "code",
   "execution_count": 9,
   "metadata": {},
   "outputs": [
    {
     "data": {
      "image/png": "[encoded data removed]",
      "text/latex": [
       "$\\displaystyle - \\ell m \\left(\\ell \\ddot{φ} + g \\sin{\\left(φ \\right)}\\right) = 0$"
      ],
      "text/plain": [
       "-\\ell⋅m⋅(\\ell⋅φ̈ + g⋅sin(φ)) = 0"
      ]
     },
     "execution_count": 9,
     "metadata": {},
     "output_type": "execute_result"
    }
   ],
   "source": [
    "φ_EL = sym.Eq((φ_dq - φ_dtdqp).simplify(), 0)\n",
    "φ_EL"
   ]
  },
  {
   "cell_type": "markdown",
   "metadata": {},
   "source": [
    "De aquí puede despejarse"
   ]
  },
  {
   "cell_type": "code",
   "execution_count": 10,
   "metadata": {},
   "outputs": [
    {
     "data": {
      "image/png": "[encoded data removed]",
      "text/latex": [
       "$\\displaystyle \\ddot{φ} = - \\frac{g \\sin{\\left(φ \\right)}}{\\ell}$"
      ],
      "text/plain": [
       "    -g⋅sin(φ) \n",
       "φ̈ = ──────────\n",
       "       \\ell   "
      ]
     },
     "execution_count": 10,
     "metadata": {},
     "output_type": "execute_result"
    }
   ],
   "source": [
    "sym.Eq(φ.diff(t,2), sym.solve(φ_EL, φ.diff(t,2) )[0] )"
   ]
  },
  {
   "cell_type": "markdown",
   "metadata": {},
   "source": [
    "que es la misma ecuación obtenida aplicando la 2.a ley de Newton."
   ]
  },
  {
   "cell_type": "markdown",
   "metadata": {},
   "source": [
    "## Péndulo con punto de suspensión libre\n",
    ">Ejercicio 2 sección 5 ($\\S 5$) de  \n",
    "Lev Davidovich Landau, y E. M. Lifshitz. Mecánica. 2.a. Curso de física teórica. Reverté, 1994.\n",
    "\n",
    "![](figuras/landauS52_fig2.png \"Figura 2 del libro de Landau.\")  "
   ]
  },
  {
   "cell_type": "markdown",
   "metadata": {},
   "source": [
    "### Lagrangiano\n",
    "$$\n",
    "\\mathcal{L} (\\dot{x}_1, \\varphi, \\dot{\\varphi})= T(\\dot{x}_1, \\varphi, \\dot{\\varphi}) - V(\\varphi)\n",
    "= \\frac{m_1+ m_2}{2} \\dot{x}_1^2 + \\frac{m_2}{2} \\left( 2 \\dot{x}_1 l \\cos{\\varphi} \\dot{\\varphi} + l^2 \\dot{\\varphi}^2 \\right) + m_2 g l \\cos{\\varphi}.\n",
    "$$"
   ]
  },
  {
   "cell_type": "code",
   "execution_count": 11,
   "metadata": {},
   "outputs": [],
   "source": [
    "# Defino los parámetros físicos del sistema\n",
    "m1, m2, g, l = sym.symbols('m_1, m_2, g, \\ell', positive=True)\n",
    "\n",
    "# Defino coordenadas generalizadas \n",
    "t = sym.symbols('t') # tiempo\n",
    "x = mech.dynamicsymbols('x') # posición pesa 1 es función del tiempo\n",
    "φ = mech.dynamicsymbols('φ') # posición pesa 2 es función del tiempo\n",
    "\n",
    "# posiciones\n",
    "m1_r = x* N.x\n",
    "m2_r = m1_r + l* (sym.cos(φ)* (-N.y) + sym.sin(φ)* (N.x)) # recordemos que tomamos y hacia arriba"
   ]
  },
  {
   "cell_type": "code",
   "execution_count": 12,
   "metadata": {},
   "outputs": [],
   "source": [
    "# velocidades\n",
    "m1_v = m1_r.diff(t,N) # derivada respecto a t en el marco referencial N\n",
    "m2_v = m2_r.diff(t,N)\n",
    "\n",
    "# velocidades al cuadrado es decir producto punto con si mismo\n",
    "m1_v_cuadrado = m1_v.dot(m1_v)\n",
    "m2_v_cuadrado = m2_v.dot(m2_v)\n",
    "\n",
    "# Energía cinética\n",
    "unMedio = sym.Rational(1,2) # Rational: fracción de enteros, alternativamente podría haberse usado 0.5 \n",
    "m1_T = unMedio* m1* m1_v_cuadrado\n",
    "m2_T = unMedio* m2* m2_v_cuadrado\n",
    "T_libre = sym.Eq(sym.Symbol('T'), (m1_T + m2_T).simplify() ) # simplify: simplifica usando factor común y otras operaciones"
   ]
  },
  {
   "cell_type": "code",
   "execution_count": 13,
   "metadata": {},
   "outputs": [],
   "source": [
    "# Energía potencial\n",
    "m1_V = 0\n",
    "m2_V = - (m2* g* (- N.y)).dot(m2_r)\n",
    "V_libre= sym.Eq(sym.Symbol('V'), (m1_V + m2_V ).simplify() )"
   ]
  },
  {
   "cell_type": "markdown",
   "metadata": {},
   "source": [
    "### Lagrangiano"
   ]
  },
  {
   "cell_type": "markdown",
   "metadata": {},
   "source": [
    "Con $T$ y $V$ finalmente expresamos\n",
    "$$\n",
    "\\mathcal{L} (\\dot{x}, \\varphi, \\dot{\\varphi})=\n",
    "T(\\dot{x}, \\varphi, \\dot{\\varphi}) - V(\\varphi).\n",
    "$$"
   ]
  },
  {
   "cell_type": "code",
   "execution_count": 14,
   "metadata": {},
   "outputs": [
    {
     "data": {
      "image/png": "[encoded data removed]",
      "text/latex": [
       "$\\displaystyle \\mathcal{L}{\\left(\\dot{x},φ,\\dot{φ} \\right)} = \\ell g m_{2} \\cos{\\left(φ \\right)} + \\frac{m_{1} \\dot{x}^{2}}{2} + \\frac{m_{2} \\left(\\ell^{2} \\dot{φ}^{2} + 2 \\ell \\cos{\\left(φ \\right)} \\dot{x} \\dot{φ} + \\dot{x}^{2}\\right)}{2}$"
      ],
      "text/plain": [
       "                                              2      ⎛    2  2                \n",
       "                                          m₁⋅ẋ    m₂⋅⎝\\ell ⋅φ̇  + 2⋅\\ell⋅cos(\n",
       "\\mathcal{L}(ẋ, φ, φ̇) = \\ell⋅g⋅m₂⋅cos(φ) + ───── + ──────────────────────────\n",
       "                                            2                       2         \n",
       "\n",
       "        2⎞\n",
       "φ)⋅ẋ⋅φ̇ + ẋ ⎠\n",
       "────────────\n",
       "          "
      ]
     },
     "execution_count": 14,
     "metadata": {},
     "output_type": "execute_result"
    }
   ],
   "source": [
    "L_libre = sym.Eq(sym.Function('\\mathcal{L}')(x.diff(t), φ, φ.diff(t) ), (T_libre.rhs - V_libre.rhs).simplify() )\n",
    "L_libre"
   ]
  },
  {
   "cell_type": "markdown",
   "metadata": {},
   "source": [
    "### Ecuaciones de Euler-Lagrange"
   ]
  },
  {
   "cell_type": "markdown",
   "metadata": {},
   "source": [
    "En el sistema vimos que tenemos dos grados de libertad que definimos por $x_1$ y $\\varphi$ así que obtendremos sendas ecuaciones diferenciales.\n",
    "\n",
    "La de $x$ será\n",
    "$$\n",
    "\\frac{\\partial \\mathcal{L} }{\\partial x} - \\frac{\\mathrm{d}}{\\mathrm{d} t} \\frac{\\partial \\mathcal{L} }{\\partial \\dot{x}} = 0\n",
    "$$\n"
   ]
  },
  {
   "cell_type": "markdown",
   "metadata": {},
   "source": [
    "\n",
    "La parte izquierda es sencilla porque $x_1$ no figura en el Lagrangiano entonces\n",
    "$$\n",
    "\\frac{\\partial \\mathcal{L} }{\\partial x_1} = 0.\n",
    "$$\n",
    "\n",
    "La parte derecha la resolvemos en dos pasos. Primero la derivada parcial respecto a la coordenada generalizada\n",
    "$$\n",
    "\\frac{\\partial \\mathcal{L} }{\\partial \\dot{x}} =\n",
    "(m_! + m_2) \\dot{x}_1 + m_2 \\ell \\cos{(\\varphi)} \\dot{\\varphi}.\n",
    "$$\n",
    "\n",
    "Y esto a su vez le aplicamos la derivada total respecto a $t$\n",
    "$$\n",
    "\\frac{\\mathrm{d}}{\\mathrm{d} t} \\frac{\\partial \\mathcal{L} }{\\partial \\dot{x}} =\n",
    "(m_1 + m_2) \\ddot{x} + m_2 \\ell ( - \\sin{(\\varphi)} \\dot{\\varphi}^2 +  \\cos{(\\varphi)} \\ddot{\\varphi} ).\n",
    "$$\n",
    "\n",
    "Juntando ambas partes tenemos\n",
    "\n",
    "$$\n",
    "\\begin{aligned}\n",
    "\\frac{\\partial \\mathcal{L} }{\\partial x} -& \\frac{\\mathrm{d}}{\\mathrm{d} t} \\frac{\\partial \\mathcal{L} }{\\partial \\dot{x}_1} = 0 \\\\\n",
    "0 -&  \\left[ (m_1 + m_2) \\ddot{x} + m_2 \\ell ( - \\sin{(\\varphi)} \\dot{\\varphi}^2\n",
    " +  \\cos{(\\varphi)} \\ddot{\\varphi} ) \\right] = 0 \\\\\n",
    " & m_1 \\ddot{x} + m_2 ( - \\ell \\sin{(\\varphi)} \\dot{\\varphi}^2 +  \\ell \\cos{(\\varphi)} \\ddot{\\varphi} + \\ddot{x} ) = 0.\n",
    "\\end{aligned}\n",
    "$$"
   ]
  },
  {
   "cell_type": "code",
   "execution_count": 15,
   "metadata": {},
   "outputs": [
    {
     "data": {
      "image/png": "[encoded data removed]",
      "text/latex": [
       "$\\displaystyle m_{1} \\ddot{x} + m_{2} \\left(- \\ell \\sin{\\left(φ \\right)} \\dot{φ}^{2} + \\ell \\cos{\\left(φ \\right)} \\ddot{φ} + \\ddot{x}\\right) = 0$"
      ],
      "text/plain": [
       "          ⎛               2                    ⎞    \n",
       "m₁⋅ẍ + m₂⋅⎝- \\ell⋅sin(φ)⋅φ̇  + \\ell⋅cos(φ)⋅φ̈ + ẍ⎠ = 0"
      ]
     },
     "execution_count": 15,
     "metadata": {},
     "output_type": "execute_result"
    }
   ],
   "source": [
    "x_libre_EL = sym.Eq(L_libre.rhs.diff(x) - L_libre.rhs.diff(x.diff(t) ).diff(t) ).simplify()\n",
    "x_libre_EL"
   ]
  },
  {
   "cell_type": "markdown",
   "metadata": {},
   "source": [
    "Para $\\varphi$ la expresión es un poco más compleja\n",
    "\n",
    "$$\n",
    "\\begin{aligned}\n",
    "\\frac{\\partial \\mathcal{L} }{\\partial \\varphi} &- \\frac{\\mathrm{d}}{\\mathrm{d} t} \\frac{\\partial \\mathcal{L} }{\\partial \\dot{\\varphi}}=0 \\\\\n",
    "\\left[ m_2 g \\ell (-\\sin{\\varphi}) + m_2 \\dot{x} \\ell (-\\sin{\\varphi}) \\dot{\\varphi} \\right]\n",
    " &- \\frac{\\mathrm{d}}{\\mathrm{d} t} \\left[ \n",
    "   m_2 \\ell^2 \\dot{\\varphi}\n",
    " + m_2 \\dot{x} \\ell \\cos{\\varphi} \n",
    " \\right] =0 \\\\\n",
    " (-\\sin{\\varphi}) \\left[ m_2 g \\ell + m_2 \\dot{x} \\ell \\dot{\\varphi} \\right]\n",
    " &-  m_2 \\left[ \n",
    "     \\ell^2 \\ddot{\\varphi}\n",
    "  + \\dot{x} \\ell (-\\sin{\\varphi}) \\dot{\\varphi}\n",
    "  + \\ddot{x} \\ell \\cos{\\varphi}\n",
    " \\right] =0.\n",
    "\\end{aligned}\n",
    "$$"
   ]
  },
  {
   "cell_type": "code",
   "execution_count": 16,
   "metadata": {},
   "outputs": [
    {
     "data": {
      "image/png": "[encoded data removed]",
      "text/latex": [
       "$\\displaystyle - \\ell g m_{2} \\sin{\\left(φ \\right)} - \\ell m_{2} \\sin{\\left(φ \\right)} \\dot{x} \\dot{φ} - \\frac{m_{2} \\left(2 \\ell^{2} \\ddot{φ} - 2 \\ell \\sin{\\left(φ \\right)} \\dot{x} \\dot{φ} + 2 \\ell \\cos{\\left(φ \\right)} \\ddot{x}\\right)}{2} = 0$"
      ],
      "text/plain": [
       "                                            ⎛      2                          \n",
       "                                         m₂⋅⎝2⋅\\ell ⋅φ̈ - 2⋅\\ell⋅sin(φ)⋅ẋ⋅φ̇ \n",
       "-\\ell⋅g⋅m₂⋅sin(φ) - \\ell⋅m₂⋅sin(φ)⋅ẋ⋅φ̇ - ───────────────────────────────────\n",
       "                                                                  2           \n",
       "\n",
       "              ⎞    \n",
       "+ 2⋅\\ell⋅cos(φ)⋅ẍ⎠    \n",
       "───────────────── = 0\n",
       "                   "
      ]
     },
     "execution_count": 16,
     "metadata": {},
     "output_type": "execute_result"
    }
   ],
   "source": [
    "φ_libre_EL = sym.Eq(L_libre.rhs.diff(φ) - L_libre.rhs.diff(φ.diff(t) ).diff(t) )\n",
    "φ_libre_EL"
   ]
  },
  {
   "cell_type": "markdown",
   "metadata": {},
   "source": [
    "Esto puede simplificarse"
   ]
  },
  {
   "cell_type": "code",
   "execution_count": 17,
   "metadata": {},
   "outputs": [
    {
     "data": {
      "image/png": "[encoded data removed]",
      "text/latex": [
       "$\\displaystyle \\ell m_{2} \\left(\\ell \\ddot{φ} + g \\sin{\\left(φ \\right)} + \\cos{\\left(φ \\right)} \\ddot{x}\\right) = 0$"
      ],
      "text/plain": [
       "\\ell⋅m₂⋅(\\ell⋅φ̈ + g⋅sin(φ) + cos(φ)⋅ẍ) = 0"
      ]
     },
     "execution_count": 17,
     "metadata": {},
     "output_type": "execute_result"
    }
   ],
   "source": [
    "φ_libre_EL.simplify()"
   ]
  },
  {
   "cell_type": "markdown",
   "metadata": {},
   "source": [
    "Resolver la dinámica de las ecuaciones de Euler-Lagrange acopladas ($\\ddot{x}$ figura en ambas) es algo que haremos más adelante en el curso cuando hagamos simulaciones numéricas con la computadora."
   ]
  },
  {
   "cell_type": "markdown",
   "metadata": {},
   "source": [
    "### Recuperando el péndulo ideal"
   ]
  },
  {
   "cell_type": "markdown",
   "metadata": {},
   "source": [
    "Podemos recuperar el caso del péndulo rígido ideal a partir del péndulo de suspensión libre si \"inmovilizamos\" $m_1$ estableciendo $x_1 \\equiv 0$ y por tanto $\\dot{x}_1= 0$.\n",
    "\n",
    "En el Lagrangiano"
   ]
  },
  {
   "cell_type": "code",
   "execution_count": 18,
   "metadata": {},
   "outputs": [
    {
     "data": {
      "image/png": "[encoded data removed]",
      "text/latex": [
       "$\\displaystyle \\mathcal{L}{\\left(0,φ,\\dot{φ} \\right)} = \\frac{\\ell^{2} m_{2} \\dot{φ}^{2}}{2} + \\ell g m_{2} \\cos{\\left(φ \\right)}$"
      ],
      "text/plain": [
       "                           2     2                   \n",
       "                       \\ell ⋅m₂⋅φ̇                    \n",
       "\\mathcal{L}(0, φ, φ̇) = ─────────── + \\ell⋅g⋅m₂⋅cos(φ)\n",
       "                            2                        "
      ]
     },
     "execution_count": 18,
     "metadata": {},
     "output_type": "execute_result"
    }
   ],
   "source": [
    "substituciones = {\n",
    "    x : 0,\n",
    "    x.diff(t) : 0,\n",
    "}\n",
    "L_libre.subs(substituciones)"
   ]
  },
  {
   "cell_type": "markdown",
   "metadata": {},
   "source": [
    "que es el del péndulo ideal. \n",
    "\n",
    "Lo mismo puede hacerse en la ecuación de Euler-Lagrange para $\\varphi$"
   ]
  },
  {
   "cell_type": "code",
   "execution_count": 20,
   "metadata": {},
   "outputs": [
    {
     "data": {
      "image/png": "[encoded data removed]",
      "text/latex": [
       "$\\displaystyle \\ell m_{2} \\left(\\ell \\ddot{φ} + g \\sin{\\left(φ \\right)}\\right) = 0$"
      ],
      "text/plain": [
       "\\ell⋅m₂⋅(\\ell⋅φ̈ + g⋅sin(φ)) = 0"
      ]
     },
     "execution_count": 20,
     "metadata": {},
     "output_type": "execute_result"
    }
   ],
   "source": [
    "φ_libre_EL.subs(substituciones).simplify()"
   ]
  },
  {
   "cell_type": "markdown",
   "metadata": {},
   "source": [
    "donde entre paréntesis figura la ecuación de la dinámica para el péndulo ideal."
   ]
  },
  {
   "cell_type": "code",
   "execution_count": null,
   "metadata": {},
   "outputs": [],
   "source": []
  }
 ],
 "metadata": {
  "kernelspec": {
   "display_name": "Python 3",
   "language": "python",
   "name": "python3"
  },
  "language_info": {
   "codemirror_mode": {
    "name": "ipython",
    "version": 3
   },
   "file_extension": ".py",
   "mimetype": "text/x-python",
   "name": "python",
   "nbconvert_exporter": "python",
   "pygments_lexer": "ipython3",
   "version": "3.7.3"
  }
 },
 "nbformat": 4,
 "nbformat_minor": 4
}
