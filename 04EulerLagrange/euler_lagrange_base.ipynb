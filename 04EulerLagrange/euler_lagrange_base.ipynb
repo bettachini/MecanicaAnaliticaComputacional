{
 "cells": [
  {
   "cell_type": "markdown",
   "id": "cc0287c1-1775-40f4-b16c-ac61acbd5e86",
   "metadata": {
    "id": "cc0287c1-1775-40f4-b16c-ac61acbd5e86"
   },
   "source": [
    "# Modelo base para generar ecuaciones de Euler Lagrange\n",
    "\n",
    "Esto es un miniresumen de lo que vieron en la teórica, para que puedan rellenar en cada caso el problema que tengan que resolver. MIREN la teórica, es fundamental tiene más información y está mejor explicada. La idea de esta notebook es simplmente un modelo que puedan usar cuando empiezan un ejercicio nuevo. \n",
    "\n",
    "\n",
    "Primero cargamos los paquetes necesarios"
   ]
  },
  {
   "cell_type": "code",
   "execution_count": null,
   "id": "008c2779-a87e-4518-b1dc-e1be108b7b4d",
   "metadata": {
    "id": "008c2779-a87e-4518-b1dc-e1be108b7b4d"
   },
   "outputs": [],
   "source": [
    "import sympy as sym # importamos funciones de cálculo simbólico\n",
    "from sympy.physics import mechanics as mech # de sympy utilizaremos funciones de mecánica\n",
    "mech.init_vprinting() # notación con punto para la velocidad y punto punto para la aceleración\n",
    "import warnings\n",
    "warnings.filterwarnings(\"ignore\")"
   ]
  },
  {
   "cell_type": "markdown",
   "id": "7b22b865-e37c-45c6-a970-0a7eb941edd7",
   "metadata": {
    "id": "7b22b865-e37c-45c6-a970-0a7eb941edd7"
   },
   "source": [
    "Definimos los parámetros físicos del sistema.\n",
    "\n",
    "Acá hay que determinar todos los parámetros que necesitamos. Supongamos por ahora que sólo usamos los cinco de abajo $m_1,m_2,g,\\ell_1,\\ell_2$.\n",
    "\n",
    "Y tenemos dos coordenadas generalizadas $\\varphi_1, \\varphi_2$"
   ]
  },
  {
   "cell_type": "code",
   "execution_count": null,
   "id": "c027ed18-9b97-4ba7-b4c2-8baf0089e482",
   "metadata": {
    "id": "c027ed18-9b97-4ba7-b4c2-8baf0089e482"
   },
   "outputs": [],
   "source": [
    "m1, m2, g, l1, l2 = sym.symbols('m1, m2, g, \\ell_1, \\ell_2', positive=True) # parámetros del sistema. El \\ell es para usar la letra bonita de ele.\n",
    "\n",
    "# Definimos las coordenadas generalizadas\n",
    "N = mech.ReferenceFrame('N') # sistema de referencia en coordenadas cartesianas\n",
    "t = sym.symbols('t') # tiempo\n",
    "phi1 = sym.Function(r'\\varphi_1')(t) # coordenada generalizada, una por cada grado de libertad\n",
    "phi2 = sym.Function(r'\\varphi_2')(t) # el r es para que el sistema considere el backslash \\ como string"
   ]
  },
  {
   "cell_type": "markdown",
   "id": "97e96ab9-77ac-4354-a031-a5e44842b1ca",
   "metadata": {
    "id": "97e96ab9-77ac-4354-a031-a5e44842b1ca"
   },
   "source": [
    "El primer paso siempre es escribir la posición de nuestras partículas, supongamos que el sistema tiene las posiciones de abajo"
   ]
  },
  {
   "cell_type": "code",
   "execution_count": null,
   "id": "9cd04aaa-328d-4028-b9fe-6e3317a4b803",
   "metadata": {
    "colab": {
     "base_uri": "https://localhost:8080/",
     "height": 39
    },
    "id": "9cd04aaa-328d-4028-b9fe-6e3317a4b803",
    "outputId": "42084c04-f541-4896-ad7e-c644283a71f8"
   },
   "outputs": [
    {
     "data": {
      "image/png": "[encoded data removed]",
      "text/latex": [
       "$\\displaystyle \\left( \\ell_{1} \\cos{\\left(\\varphi_{1} \\right)}\\mathbf{\\hat{n}_x} + \\ell_{1} \\sin{\\left(\\varphi_{1} \\right)}\\mathbf{\\hat{n}_y}, \\  (\\ell_{1} \\cos{\\left(\\varphi_{1} \\right)} + \\ell_{2} \\cos{\\left(\\varphi_{2} \\right)})\\mathbf{\\hat{n}_x} + (\\ell_{1} \\sin{\\left(\\varphi_{1} \\right)} + \\ell_{2} \\sin{\\left(\\varphi_{2} \\right)})\\mathbf{\\hat{n}_y}\\right)$"
      ],
      "text/plain": [
       "⎛\\ell₁⋅cos(\\varphi₁) n_x + \\ell₁⋅sin(\\varphi₁) n_y, (\\ell₁⋅cos(\\varphi₁) + \\el\n",
       "⎝                                                                             \n",
       "\n",
       "l₂⋅cos(\\varphi₂)) n_x + (\\ell₁⋅sin(\\varphi₁) + \\ell₂⎞\n",
       "   ⋅sin(\\varphi₂)) n_y                              ⎠"
      ]
     },
     "execution_count": 5,
     "metadata": {},
     "output_type": "execute_result"
    }
   ],
   "source": [
    "m1_r = l1*( sym.cos(phi1)*N.x + sym.sin(phi1)*N.y )\n",
    "m2_r = m1_r + l2*( sym.cos(phi2)*N.x + sym.sin(phi2)*N.y )\n",
    "m1_r, m2_r"
   ]
  },
  {
   "cell_type": "markdown",
   "id": "DuOiTg-3r6EF",
   "metadata": {
    "id": "DuOiTg-3r6EF"
   },
   "source": [
    "## Energía cinética $T$\n",
    "Escribimos la energía cinética del sistema"
   ]
  },
  {
   "cell_type": "code",
   "execution_count": null,
   "id": "iAzmgrTesDt8",
   "metadata": {
    "colab": {
     "base_uri": "https://localhost:8080/",
     "height": 56
    },
    "id": "iAzmgrTesDt8",
    "outputId": "76acfeff-e94d-4bfa-ef3e-a9e29900946b"
   },
   "outputs": [
    {
     "data": {
      "image/png": "[encoded data removed]",
      "text/latex": [
       "$\\displaystyle T = \\frac{\\ell_{1} m_{1} \\left(\\ell_{1} \\dot{\\varphi}_{1} + \\ell_{2} \\cos{\\left(\\varphi_{1} - \\varphi_{2} \\right)} \\dot{\\varphi}_{2}\\right) \\dot{\\varphi}_{1}}{2} + \\frac{m_{2} \\left(\\ell_{1}^{2} \\dot{\\varphi}_{1}^{2} + 2 \\ell_{1} \\ell_{2} \\cos{\\left(\\varphi_{1} - \\varphi_{2} \\right)} \\dot{\\varphi}_{1} \\dot{\\varphi}_{2} + \\ell_{2}^{2} \\dot{\\varphi}_{2}^{2}\\right)}{2}$"
      ],
      "text/plain": [
       "                                                                              \n",
       "    \\ell₁⋅m₁⋅(\\ell₁⋅\\varṗhi₁ + \\ell₂⋅cos(\\varphi₁ - \\varphi₂)⋅\\varṗhi₂)⋅\\var\n",
       "T = ──────────────────────────────────────────────────────────────────────────\n",
       "                                         2                                    \n",
       "\n",
       "        ⎛     2         2                                                     \n",
       "ṗhi₁   m₂⋅⎝\\ell₁ ⋅\\varṗhi₁  + 2⋅\\ell₁⋅\\ell₂⋅cos(\\varphi₁ - \\varphi₂)⋅\\varṗh\n",
       "── + ─────────────────────────────────────────────────────────────────────────\n",
       "                                                      2                       \n",
       "\n",
       "              2         2⎞\n",
       "i₁⋅\\varṗhi₂ + \\ell₂ ⋅\\varṗhi₂ ⎠\n",
       "──────────────────────────\n",
       "                          "
      ]
     },
     "execution_count": 7,
     "metadata": {},
     "output_type": "execute_result"
    }
   ],
   "source": [
    "# Energía cinética\n",
    "unMedio = sym.Rational(1,2) # Rational: fracción de enteros, alternativamente podría haberse usado 0.5 \n",
    "m1_v = m1_r.diff(t,N) # calculamos la velocidad de cada partícula\n",
    "m2_v = m2_r.diff(t,N)\n",
    "\n",
    "m_T = unMedio* m1* m1_v.dot(m2_v) + unMedio* m2* m2_v.dot(m2_v) # energ. cinética\n",
    "T = sym.Eq(sym.Symbol('T'), m_T ).simplify() \n",
    "# sym.Eq(lado iz, lado derecho)\n",
    "# simplify: simplifica usando factor común y otras operaciones\n",
    "T"
   ]
  },
  {
   "cell_type": "markdown",
   "id": "xJAg2_Lns3CL",
   "metadata": {
    "id": "xJAg2_Lns3CL"
   },
   "source": [
    "## Energía Potencial $V$\n",
    "Escribimos la energía potencial del systema, usando lo que discutimos en clase \n",
    "\n",
    "$$ V_i = - \\vec{F} \\cdot \\vec{r} $$\n",
    "\n",
    "en la siguiente celda asumimos que tenemos sólo la fuerza peso y que tenemos dicha fuerza apuntando al revés que el versor $\\hat y$"
   ]
  },
  {
   "cell_type": "code",
   "execution_count": null,
   "id": "r3Qo_ueLtnnD",
   "metadata": {
    "colab": {
     "base_uri": "https://localhost:8080/",
     "height": 39
    },
    "id": "r3Qo_ueLtnnD",
    "outputId": "be5ce59c-f6d8-49b2-d79b-a4d09c13521e"
   },
   "outputs": [
    {
     "data": {
      "image/png": "[encoded data removed]",
      "text/latex": [
       "$\\displaystyle V = g \\left(\\ell_{1} m_{1} \\sin{\\left(\\varphi_{1} \\right)} - m_{2} \\left(\\ell_{1} \\sin{\\left(\\varphi_{1} \\right)} + \\ell_{2} \\sin{\\left(\\varphi_{2} \\right)}\\right)\\right)$"
      ],
      "text/plain": [
       "V = g⋅(\\ell₁⋅m₁⋅sin(\\varphi₁) - m₂⋅(\\ell₁⋅sin(\\varphi₁) + \\ell₂⋅sin(\\varphi₂))\n",
       ")"
      ]
     },
     "execution_count": 8,
     "metadata": {},
     "output_type": "execute_result"
    }
   ],
   "source": [
    "# Energía potencial\n",
    "V = sym.Eq(sym.Symbol('V'), - (m1* g* (- N.y)).dot(m1_r) - (m2* g* (N.y)).dot(m2_r) ).simplify()\n",
    "V"
   ]
  },
  {
   "cell_type": "markdown",
   "id": "4SBKKdGQujMJ",
   "metadata": {
    "id": "4SBKKdGQujMJ"
   },
   "source": [
    "## Lagrangiano $\\mathcal L$\n",
    "\n",
    "$\\mathcal L = T - V$"
   ]
  },
  {
   "cell_type": "code",
   "execution_count": null,
   "id": "_Pp1UpfzuwnZ",
   "metadata": {
    "colab": {
     "base_uri": "https://localhost:8080/",
     "height": 91
    },
    "id": "_Pp1UpfzuwnZ",
    "outputId": "d0e6ed2d-9ae8-4a76-c8cb-873f5cc75bc0"
   },
   "outputs": [
    {
     "data": {
      "image/png": "[encoded data removed]",
      "text/latex": [
       "$\\displaystyle \\mathcal{L}{\\left(\\varphi_{1},\\varphi_{2},\\dot{\\varphi}_{1},\\dot{\\varphi}_{2} \\right)} = \\frac{\\ell_{1} m_{1} \\left(\\ell_{1} \\dot{\\varphi}_{1} + \\ell_{2} \\cos{\\left(\\varphi_{1} - \\varphi_{2} \\right)} \\dot{\\varphi}_{2}\\right) \\dot{\\varphi}_{1}}{2} - g \\left(\\ell_{1} m_{1} \\sin{\\left(\\varphi_{1} \\right)} - m_{2} \\left(\\ell_{1} \\sin{\\left(\\varphi_{1} \\right)} + \\ell_{2} \\sin{\\left(\\varphi_{2} \\right)}\\right)\\right) + \\frac{m_{2} \\left(\\ell_{1}^{2} \\dot{\\varphi}_{1}^{2} + 2 \\ell_{1} \\ell_{2} \\cos{\\left(\\varphi_{1} - \\varphi_{2} \\right)} \\dot{\\varphi}_{1} \\dot{\\varphi}_{2} + \\ell_{2}^{2} \\dot{\\varphi}_{2}^{2}\\right)}{2}$"
      ],
      "text/plain": [
       "                                                                              \n",
       "                                                      \\ell₁⋅m₁⋅(\\ell₁⋅\\varṗhi\n",
       "\\mathcal{L}(\\varphi₁, \\varphi₂, \\varṗhi₁, \\varṗhi₂) = ──────────────────────\n",
       "                                                                              \n",
       "\n",
       "                                                                              \n",
       "₁ + \\ell₂⋅cos(\\varphi₁ - \\varphi₂)⋅\\varṗhi₂)⋅\\varṗhi₁                       \n",
       "────────────────────────────────────────────────────── - g⋅(\\ell₁⋅m₁⋅sin(\\varp\n",
       "             2                                                                \n",
       "\n",
       "                                                          ⎛     2         2   \n",
       "                                                          m₂⋅⎝\\ell₁ ⋅\\varṗhi₁\n",
       "hi₁) - m₂⋅(\\ell₁⋅sin(\\varphi₁) + \\ell₂⋅sin(\\varphi₂))) + ─────────────────────\n",
       "                                                                              \n",
       "\n",
       "                                                                2         2⎞\n",
       "  + 2⋅\\ell₁⋅\\ell₂⋅cos(\\varphi₁ - \\varphi₂)⋅\\varṗhi₁⋅\\varṗhi₂ + \\ell₂ ⋅\\varṗ\n",
       "──────────────────────────────────────────────────────────────────────────────\n",
       "                          2                                                 "
      ]
     },
     "execution_count": 9,
     "metadata": {},
     "output_type": "execute_result"
    }
   ],
   "source": [
    "L = sym.Eq(sym.Function('\\mathcal{L}')(phi1, phi2, phi1.diff(t), phi2.diff(t) ) , T.rhs - V.rhs )\n",
    "# algo.rhs = lado derecho de la ecuación (right hand side)\n",
    "# algo.lhs = lado izquierdo de la ecuación (left hand side) \n",
    "L"
   ]
  },
  {
   "cell_type": "markdown",
   "id": "V83agqCOvUE5",
   "metadata": {
    "id": "V83agqCOvUE5"
   },
   "source": [
    "## Ecuaciones Euler Lagrange (EL) \n",
    "\n",
    "Hacemos una ecuación por cada variable, copio pego y renombro la variable a mirar y la ecuación final"
   ]
  },
  {
   "cell_type": "code",
   "execution_count": null,
   "id": "2fc71886-8a90-45ef-a8a2-c172ddae4e49",
   "metadata": {
    "colab": {
     "base_uri": "https://localhost:8080/",
     "height": 76
    },
    "id": "2fc71886-8a90-45ef-a8a2-c172ddae4e49",
    "outputId": "acf0d846-d022-4842-da86-8b4bd6f7ae03"
   },
   "outputs": [
    {
     "data": {
      "image/png": "[encoded data removed]",
      "text/latex": [
       "$\\displaystyle \\frac{\\ell_{1} \\left(- 2 \\ell_{1} m_{1} \\ddot{\\varphi}_{1} - 2 \\ell_{1} m_{2} \\ddot{\\varphi}_{1} - \\ell_{2} m_{1} \\sin{\\left(\\varphi_{1} - \\varphi_{2} \\right)} \\dot{\\varphi}_{2}^{2} - \\ell_{2} m_{1} \\cos{\\left(\\varphi_{1} - \\varphi_{2} \\right)} \\ddot{\\varphi}_{2} - 2 \\ell_{2} m_{2} \\sin{\\left(\\varphi_{1} - \\varphi_{2} \\right)} \\dot{\\varphi}_{2}^{2} - 2 \\ell_{2} m_{2} \\cos{\\left(\\varphi_{1} - \\varphi_{2} \\right)} \\ddot{\\varphi}_{2} - 2 g m_{1} \\cos{\\left(\\varphi_{1} \\right)} + 2 g m_{2} \\cos{\\left(\\varphi_{1} \\right)}\\right)}{2} = 0$"
      ],
      "text/plain": [
       "      ⎛                                                                       \n",
       "\\ell₁⋅⎝-2⋅\\ell₁⋅m₁⋅\\varp̈hi₁ - 2⋅\\ell₁⋅m₂⋅\\varp̈hi₁ - \\ell₂⋅m₁⋅sin(\\varphi₁ - \n",
       "──────────────────────────────────────────────────────────────────────────────\n",
       "                                                                              \n",
       "\n",
       "                2                                                             \n",
       "\\varphi₂)⋅\\varṗhi₂  - \\ell₂⋅m₁⋅cos(\\varphi₁ - \\varphi₂)⋅\\varp̈hi₂ - 2⋅\\ell₂⋅m\n",
       "──────────────────────────────────────────────────────────────────────────────\n",
       "                                                              2               \n",
       "\n",
       "                               2                                              \n",
       "₂⋅sin(\\varphi₁ - \\varphi₂)⋅\\varṗhi₂  - 2⋅\\ell₂⋅m₂⋅cos(\\varphi₁ - \\varphi₂)⋅\\v\n",
       "──────────────────────────────────────────────────────────────────────────────\n",
       "                                                                              \n",
       "\n",
       "                                               ⎞    \n",
       "arp̈hi₂ - 2⋅g⋅m₁⋅cos(\\varphi₁) + 2⋅g⋅m₂⋅cos(\\varphi₁)⎠    \n",
       "──────────────────────────────────────────────── = 0\n",
       "                                                    "
      ]
     },
     "execution_count": 13,
     "metadata": {},
     "output_type": "execute_result"
    }
   ],
   "source": [
    "coordGen = phi1 # ponemos acá la coordenada generalizada para la que queremos generar E-L\n",
    "lagrangiano = L\n",
    "ecuacionEL = \\\n",
    "  sym.Eq( \n",
    "      lagrangiano.rhs.diff(coordGen) - lagrangiano.rhs.diff(coordGen.diff(t)).diff(t) \n",
    "      ).simplify()\n",
    "\n",
    "phi1_EL = ecuacionEL # acá simplemente nombro la ecuación de Euler-Lagrange\n",
    "phi1_EL"
   ]
  },
  {
   "cell_type": "code",
   "execution_count": null,
   "id": "WRz9s-Kgr38s",
   "metadata": {
    "colab": {
     "base_uri": "https://localhost:8080/",
     "height": 56
    },
    "id": "WRz9s-Kgr38s",
    "outputId": "545d1b7d-49ab-4b70-d86e-5f7b63b246d2"
   },
   "outputs": [
    {
     "data": {
      "image/png": "[encoded data removed]",
      "text/latex": [
       "$\\displaystyle \\frac{\\ell_{2} \\left(\\ell_{1} m_{1} \\sin{\\left(\\varphi_{1} - \\varphi_{2} \\right)} \\dot{\\varphi}_{1}^{2} - \\ell_{1} m_{1} \\cos{\\left(\\varphi_{1} - \\varphi_{2} \\right)} \\ddot{\\varphi}_{1} + 2 \\ell_{1} m_{2} \\sin{\\left(\\varphi_{1} - \\varphi_{2} \\right)} \\dot{\\varphi}_{1}^{2} - 2 \\ell_{1} m_{2} \\cos{\\left(\\varphi_{1} - \\varphi_{2} \\right)} \\ddot{\\varphi}_{1} - 2 \\ell_{2} m_{2} \\ddot{\\varphi}_{2} + 2 g m_{2} \\cos{\\left(\\varphi_{2} \\right)}\\right)}{2} = 0$"
      ],
      "text/plain": [
       "      ⎛                                          2                            \n",
       "\\ell₂⋅⎝\\ell₁⋅m₁⋅sin(\\varphi₁ - \\varphi₂)⋅\\varṗhi₁  - \\ell₁⋅m₁⋅cos(\\varphi₁ - \n",
       "──────────────────────────────────────────────────────────────────────────────\n",
       "                                                                              \n",
       "\n",
       "                                                                2             \n",
       "\\varphi₂)⋅\\varp̈hi₁ + 2⋅\\ell₁⋅m₂⋅sin(\\varphi₁ - \\varphi₂)⋅\\varṗhi₁  - 2⋅\\ell₁\n",
       "──────────────────────────────────────────────────────────────────────────────\n",
       "                                       2                                      \n",
       "\n",
       "                                                                              \n",
       "⋅m₂⋅cos(\\varphi₁ - \\varphi₂)⋅\\varp̈hi₁ - 2⋅\\ell₂⋅m₂⋅\\varp̈hi₂ + 2⋅g⋅m₂⋅cos(\\va\n",
       "──────────────────────────────────────────────────────────────────────────────\n",
       "                                                                              \n",
       "\n",
       " ⎞    \n",
       "rphi₂)⎠    \n",
       "── = 0\n",
       "      "
      ]
     },
     "execution_count": 16,
     "metadata": {},
     "output_type": "execute_result"
    }
   ],
   "source": [
    "coordGen = phi2 # ponemos acá la coordenada generalizada para la que queremos generar E-L\n",
    "lagrangiano = L   # decimos quién es el lagrangiano\n",
    "ecuacionEL = \\\n",
    "  sym.Eq( \n",
    "      lagrangiano.rhs.diff(coordGen) - lagrangiano.rhs.diff(coordGen.diff(t)).diff(t) \n",
    "      ).simplify()\n",
    "\n",
    "phi2_EL = ecuacionEL # acá simplemente nombro la ecuación de Euler-Lagrange\n",
    "phi2_EL"
   ]
  },
  {
   "cell_type": "markdown",
   "id": "5mYxySxmeLCu",
   "metadata": {
    "id": "5mYxySxmeLCu"
   },
   "source": [
    "## A incluir a futuro\n",
    "\n",
    "Sería muy bueno incluir substituciones para que lo tengan todo junto."
   ]
  }
 ],
 "metadata": {
  "colab": {
   "collapsed_sections": [],
   "provenance": []
  },
  "kernelspec": {
   "display_name": "Python 3 (ipykernel)",
   "language": "python",
   "name": "python3"
  },
  "language_info": {
   "codemirror_mode": {
    "name": "ipython",
    "version": 3
   },
   "file_extension": ".py",
   "mimetype": "text/x-python",
   "name": "python",
   "nbconvert_exporter": "python",
   "pygments_lexer": "ipython3",
   "version": "3.9.2"
  }
 },
 "nbformat": 4,
 "nbformat_minor": 5
}
