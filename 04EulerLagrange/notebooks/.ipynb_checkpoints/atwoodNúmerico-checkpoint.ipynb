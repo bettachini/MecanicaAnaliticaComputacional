{
 "cells": [
  {
   "cell_type": "markdown",
   "metadata": {},
   "source": [
    "# Máquina de Atwood\n",
    "© 2020\n",
    "Víctor A. Bettachini  \n",
    "Mecánica General  \n",
    "Departamento de Ingeniería e Investigación Tecnológica  \n",
    "Universidad Nacional de La Matanza  \n",
    "\n",
    "---  "
   ]
  },
  {
   "cell_type": "markdown",
   "metadata": {},
   "source": [
    "## Enunciado\n",
    "1. Obtenga con la ecuación de Euler-Lagrange la ecuación de la dinámica. \n",
    "Simplifique el problema considerando que la poleas de radio \\\\(R\\\\) tiene masa nula (\\\\(M=0\\\\)).\n",
    "2. Compare las aceleraciones con las obtenidas usando ecuaciones de Newton.\n",
    "\n",
    "![](../graphs/marion_fig2_1a.png)\n"
   ]
  },
  {
   "cell_type": "markdown",
   "metadata": {},
   "source": [
    "## Análisis preliminar\n",
    "- Dos coordenadas generalizadas: $x,y$\n",
    "- Potencial externo: debido a la aceleración gravitatoria\n",
    "- Vínculo: cuerda de longitud $l$ impone $x+ y + \\pi R = l$ siendo $R$ el radio de la polea que se la considera sin masa."
   ]
  },
  {
   "cell_type": "markdown",
   "metadata": {},
   "source": [
    "## Resolución simbólica en el formalismo Lagrangiano\n",
    "Python, como cualquier otro lenguaje de programación, no sólo es capaz hacer cuentas como una calculadora, lo que se llama cálculo numérico, sino que a través de la biblioteca **sympy** es capaz de resolver álgebra en forma simbólica.\n",
    "\n",
    "A continuación se obtiene la ecuación de Euler-Lagrange con esta herramienta."
   ]
  },
  {
   "cell_type": "code",
   "execution_count": 2,
   "metadata": {},
   "outputs": [],
   "source": [
    "# biblioteca de cálculo simbólico\n",
    "import sympy as sym\n",
    "import sympy.physics.mechanics as mech\n",
    "mech.init_vprinting() # notación con puntos para derivadas temporales"
   ]
  },
  {
   "cell_type": "markdown",
   "metadata": {},
   "source": [
    "### Variables"
   ]
  },
  {
   "cell_type": "code",
   "execution_count": 4,
   "metadata": {},
   "outputs": [
    {
     "data": {
      "image/png": "[encoded data removed]",
      "text/latex": [
       "$\\displaystyle - \\pi R + l - x$"
      ],
      "text/plain": [
       "-π⋅R + l - x"
      ]
     },
     "execution_count": 4,
     "metadata": {},
     "output_type": "execute_result"
    }
   ],
   "source": [
    "# Defino los parámetros físicos del sistema\n",
    "R, m1, m2, g, l = sym.symbols('R, m_1, m_2, g, l', positive=True)\n",
    "\n",
    "# Defino coordenadas generalizadas \n",
    "t = sym.symbols('t') # tiempo\n",
    "x = sym.Function('x')(t) # posición pesa 1: x = x(t)\n",
    "y = (l- sym.pi* R)- x  # posición pesa 2: definida por el vínculo\n",
    "y"
   ]
  },
  {
   "cell_type": "markdown",
   "metadata": {},
   "source": [
    "#### Una \"nota\" sobre la \"notación\" (¡cuac!).\n",
    "\n",
    "Los cuadernos (notebook) **Jupyter** permiten utilizar la escritura de expresiones matemáticas en notación $\\LaTeX$.\n",
    "Por ejemplo el símbolo que designa la velocidad angular, la omega del alfabeto griego se puede lograr escribiendo \"\\omega\".\n",
    "Las letras así escritas pueden convertirse en caractéres en formato **unicode** al terminar de escribir la expresión y presionando la tecla \"tabulador\" (no dejar espacios)."
   ]
  },
  {
   "cell_type": "code",
   "execution_count": 3,
   "metadata": {},
   "outputs": [
    {
     "data": {
      "image/png": "[encoded data removed]",
      "text/latex": [
       "$$\\left ( r, \\quad ω, \\quad \\omega, \\quad \\dot{r}, \\quad \\dot{ω}, \\quad \\dot{\\omega}\\right )$$"
      ],
      "text/plain": [
       "(r, ω, \\omega, ṙ, ω̇, \\omėga)"
      ]
     },
     "execution_count": 3,
     "metadata": {},
     "output_type": "execute_result"
    }
   ],
   "source": [
    "# Notación punto\n",
    "r = sym.Function('r')(t)\n",
    "ω = sym.Function('ω')(t) # tipeando <tab> al final de la expresión LaTeX lo convierte a unicode \n",
    "omega = sym.Function('\\omega')(t)\n",
    "r, ω, omega, r.diff(t), ω.diff(t), omega.diff(t)"
   ]
  },
  {
   "cell_type": "markdown",
   "metadata": {},
   "source": [
    "### Energía cinética"
   ]
  },
  {
   "cell_type": "code",
   "execution_count": 4,
   "metadata": {},
   "outputs": [
    {
     "data": {
      "image/png": "[encoded data removed]",
      "text/latex": [
       "$$\\frac{\\left(m_{1} + m_{2}\\right) \\dot{x}^{2}}{2}$$"
      ],
      "text/plain": [
       "            2\n",
       "(m₁ + m₂)⋅ẋ \n",
       "─────────────\n",
       "      2      "
      ]
     },
     "execution_count": 4,
     "metadata": {},
     "output_type": "execute_result"
    }
   ],
   "source": [
    "# Energía cinética\n",
    "unMedio = sym.Rational(1,2) # Rational: fracción de enteros\n",
    "T =  unMedio* (m1* x.diff(t)**2 + m2* y.diff(t)**2) # diff: derivada\n",
    "T.simplify() # simplify: simplifica usando factor común y otras operaciones"
   ]
  },
  {
   "cell_type": "markdown",
   "metadata": {},
   "source": [
    "### Energía potencial"
   ]
  },
  {
   "cell_type": "code",
   "execution_count": 6,
   "metadata": {},
   "outputs": [
    {
     "data": {
      "image/png": "[encoded data removed]",
      "text/latex": [
       "$$g \\left(- m_{1} x + m_{2} \\left(\\pi R - l + x\\right)\\right)$$"
      ],
      "text/plain": [
       "g⋅(-m₁⋅x + m₂⋅(π⋅R - l + x))"
      ]
     },
     "execution_count": 6,
     "metadata": {},
     "output_type": "execute_result"
    }
   ],
   "source": [
    "# Energía potencial\n",
    "V = m1* g* (-x) + m2* g* (-y)\n",
    "V.simplify()"
   ]
  },
  {
   "cell_type": "markdown",
   "metadata": {},
   "source": [
    "### Lagrangiano\n",
    "$$\n",
    "L(x,\\dot{x}) = T(\\dot{x})- V(x)\n",
    "$$"
   ]
  },
  {
   "cell_type": "code",
   "execution_count": 7,
   "metadata": {},
   "outputs": [
    {
     "data": {
      "image/png": "[encoded data removed]",
      "text/latex": [
       "$$g m_{1} x - g m_{2} \\left(\\pi R - l + x\\right) + \\frac{m_{1} \\dot{x}^{2}}{2} + \\frac{m_{2} \\dot{x}^{2}}{2}$$"
      ],
      "text/plain": [
       "                                   2        2\n",
       "                              m₁⋅ẋ    m₂⋅ẋ \n",
       "g⋅m₁⋅x - g⋅m₂⋅(π⋅R - l + x) + ────── + ──────\n",
       "                                2        2   "
      ]
     },
     "execution_count": 7,
     "metadata": {},
     "output_type": "execute_result"
    }
   ],
   "source": [
    "L = T- V\n",
    "L.simplify()"
   ]
  },
  {
   "cell_type": "markdown",
   "metadata": {},
   "source": [
    "### Ecuaciones de Euler-Lagrange"
   ]
  },
  {
   "cell_type": "markdown",
   "metadata": {},
   "source": [
    "Primero calculamos el que llamo lado izquierdo\n",
    "$$\\frac{\\mathrm{d}}{\\mathrm{d}t} \\frac{\\partial}{\\partial \\dot{x}} L$$"
   ]
  },
  {
   "cell_type": "code",
   "execution_count": 5,
   "metadata": {},
   "outputs": [
    {
     "ename": "NameError",
     "evalue": "name 'L' is not defined",
     "output_type": "error",
     "traceback": [
      "\u001b[0;31m---------------------------------------------------------------------------\u001b[0m",
      "\u001b[0;31mNameError\u001b[0m                                 Traceback (most recent call last)",
      "\u001b[0;32m<ipython-input-5-3cd88a6b2ac4>\u001b[0m in \u001b[0;36m<module>\u001b[0;34m\u001b[0m\n\u001b[0;32m----> 1\u001b[0;31m \u001b[0mladoIzquierdo\u001b[0m \u001b[0;34m=\u001b[0m \u001b[0mL\u001b[0m\u001b[0;34m.\u001b[0m\u001b[0mdiff\u001b[0m\u001b[0;34m(\u001b[0m\u001b[0mx\u001b[0m\u001b[0;34m.\u001b[0m\u001b[0mdiff\u001b[0m\u001b[0;34m(\u001b[0m\u001b[0mt\u001b[0m\u001b[0;34m)\u001b[0m\u001b[0;34m)\u001b[0m\u001b[0;34m.\u001b[0m\u001b[0mdiff\u001b[0m\u001b[0;34m(\u001b[0m\u001b[0mt\u001b[0m\u001b[0;34m)\u001b[0m \u001b[0;31m# primero deriva respecto a x punto y luego a t\u001b[0m\u001b[0;34m\u001b[0m\u001b[0;34m\u001b[0m\u001b[0m\n\u001b[0m\u001b[1;32m      2\u001b[0m \u001b[0mladoIzquierdo\u001b[0m\u001b[0;34m\u001b[0m\u001b[0;34m\u001b[0m\u001b[0m\n",
      "\u001b[0;31mNameError\u001b[0m: name 'L' is not defined"
     ]
    }
   ],
   "source": [
    "ladoIzquierdo = L.diff(x.diff(t)).diff(t) # primero deriva respecto a x punto y luego a t\n",
    "ladoIzquierdo"
   ]
  },
  {
   "cell_type": "markdown",
   "metadata": {},
   "source": [
    "Luego el derecho\n",
    "$$\n",
    "\\frac{\\partial}{\\partial x} L\n",
    "$$"
   ]
  },
  {
   "cell_type": "code",
   "execution_count": 9,
   "metadata": {},
   "outputs": [
    {
     "data": {
      "image/png": "[encoded data removed]",
      "text/latex": [
       "$$g m_{1} - g m_{2}$$"
      ],
      "text/plain": [
       "g⋅m₁ - g⋅m₂"
      ]
     },
     "execution_count": 9,
     "metadata": {},
     "output_type": "execute_result"
    }
   ],
   "source": [
    "ladoDerecho = L.diff(x)\n",
    "ladoDerecho"
   ]
  },
  {
   "cell_type": "markdown",
   "metadata": {},
   "source": [
    "Con ambos se escribe la ecuación homegénea (no hay fuerzas no conservativas)\n",
    "$$\n",
    "\\frac{\\mathrm{d}}{\\mathrm{d}t} \\frac{\\partial}{\\partial \\dot{x}} L\n",
    "- \\frac{\\partial}{\\partial x} L\n",
    "= 0\n",
    "$$"
   ]
  },
  {
   "cell_type": "code",
   "execution_count": 10,
   "metadata": {},
   "outputs": [
    {
     "data": {
      "image/png": "[encoded data removed]",
      "text/latex": [
       "$$- g m_{1} + g m_{2} + m_{1} \\ddot{x} + m_{2} \\ddot{x} = 0$$"
      ],
      "text/plain": [
       "-g⋅m₁ + g⋅m₂ + m₁⋅ẍ + m₂⋅ẍ = 0"
      ]
     },
     "execution_count": 10,
     "metadata": {},
     "output_type": "execute_result"
    }
   ],
   "source": [
    "eulerLagrange = sym.Eq(ladoIzquierdo-ladoDerecho, 0) # ecuación igualando a cero\n",
    "eulerLagrange.simplify()"
   ]
  },
  {
   "cell_type": "markdown",
   "metadata": {},
   "source": [
    "Esta es una ecuación diferencial lineal de segundo orden homogena.  "
   ]
  },
  {
   "cell_type": "markdown",
   "metadata": {},
   "source": [
    "## Resolución numérica\n",
    "Buscamos resolver numéricamente esta ecuación diferencial de segundo orden.\n",
    "Podemos despejar $\\ddot{x}$"
   ]
  },
  {
   "cell_type": "code",
   "execution_count": 11,
   "metadata": {},
   "outputs": [
    {
     "data": {
      "image/png": "[encoded data removed]",
      "text/latex": [
       "$$\\left [ \\frac{g \\left(m_{1} - m_{2}\\right)}{m_{1} + m_{2}}\\right ]$$"
      ],
      "text/plain": [
       "⎡g⋅(m₁ - m₂)⎤\n",
       "⎢───────────⎥\n",
       "⎣  m₁ + m₂  ⎦"
      ]
     },
     "execution_count": 11,
     "metadata": {},
     "output_type": "execute_result"
    }
   ],
   "source": [
    "sym.solve(eulerLagrange,x.diff(t,2)) # entrega una lista con los posibles despejes en función de x punto punto (derivada de 2.o orden con t)"
   ]
  },
  {
   "cell_type": "markdown",
   "metadata": {},
   "source": [
    "y asignar este resultado a una variable para uso posterior"
   ]
  },
  {
   "cell_type": "code",
   "execution_count": 12,
   "metadata": {},
   "outputs": [],
   "source": [
    "aceleracion_x = sym.solve(eulerLagrange,x.diff(t,2))[0] # [0] toma el único elemento de la lista"
   ]
  },
  {
   "cell_type": "markdown",
   "metadata": {},
   "source": [
    "Los métodos numéricos de integración más eficientes trabajan sobre una ecuación diferencial de primer orden.\n",
    "Para utilizarlos reduciremos nuestro problema a un sistema de ecuaciones de primer orden.\n",
    "\n",
    "Creamos variables nuevas para derivadas de $x$ que ubicaremos en un vector de estados que calcularemos en pequeños pasos de $t$ desde el inicial $t_0$\n",
    "$$[x_1, x_2]=[\\dot{x}, \\ddot{x}]$$\n",
    "de forma que ahora debemos resolver\n",
    "$$\n",
    "\\left\\{\n",
    "\\begin{array}{l}\n",
    "x_0 = x\\\\\n",
    "\\dot{x}_0 = \\dot{x} = x_1\\\\\n",
    "\\dot{x}_1 = \\ddot{x}_0 = \\ddot{x} = g \\frac{(m1 - m_2)}{m_1 + m_2}\\\\\n",
    "\\end{array}\n",
    "\\right.\n",
    "\\implies\n",
    "\\left\\{\n",
    "\\begin{array}{l}\n",
    "\\dot{x}_0 = x_1\\\\\n",
    "\\dot{x}_1 = g \\frac{(m1 - m_2)}{m_1 + m_2}\\\\\n",
    "\\end{array}\n",
    "\\right.\n",
    "$$\n",
    "\n",
    "Referencia: https://pundit.pratt.duke.edu/wiki/Python:Ordinary_Differential_Equations/Examples\n",
    "\n",
    "Referencia: http://sam-dolan.staff.shef.ac.uk/mas212/notebooks/ODE_Example.html\n",
    "\n",
    "Referencia: https://ipython-books.github.io/123-simulating-an-ordinary-differential-equation-with-scipy/"
   ]
  },
  {
   "cell_type": "code",
   "execution_count": 13,
   "metadata": {},
   "outputs": [
    {
     "data": {
      "image/png": "[encoded data removed]",
      "text/latex": [
       "$$3.27$$"
      ],
      "text/plain": [
       "3.27000000000000"
      ]
     },
     "execution_count": 13,
     "metadata": {},
     "output_type": "execute_result"
    }
   ],
   "source": [
    "# defino rango de tiempos, valores iniciales y constantes\n",
    "g_valor = 9.81 # [m s-2]\n",
    "m1_valor = 2 # [kg]\n",
    "m2_valor = 1 # [kg]\n",
    "aceleracion_x_valores = aceleracion_x.subs([(g,g_valor),(m1,m1_valor), (m2,m2_valor)]) # lista de un elemento, substituyo con valores\n",
    "aceleracion_x_valores # [m s-2]"
   ]
  },
  {
   "cell_type": "markdown",
   "metadata": {},
   "source": [
    "Lo anterior es una expresión _sympy_, necesito pasarla a una expresión que pueda interpretarse fuera de este módulo.\n",
    "Se usa la función _lambdify_ que retorna una función para el módulo indicado, por defecto _numpy_, en función de la variable indicada. Si no hay variable, no importa que valor usemos de esta."
   ]
  },
  {
   "cell_type": "code",
   "execution_count": 14,
   "metadata": {},
   "outputs": [
    {
     "data": {
      "image/png": "[encoded data removed]",
      "text/latex": [
       "$$3.27$$"
      ],
      "text/plain": [
       "3.27"
      ]
     },
     "execution_count": 14,
     "metadata": {},
     "output_type": "execute_result"
    }
   ],
   "source": [
    "aceleracion_x_numerico = sym.lambdify(t,aceleracion_x_valores)\n",
    "aceleracion_x_numerico = aceleracion_x_numerico(2) # no importa que valor de t se le pase a la función\n",
    "aceleracion_x_numerico"
   ]
  },
  {
   "cell_type": "code",
   "execution_count": 15,
   "metadata": {},
   "outputs": [],
   "source": [
    "# defino una función con el sistema de derivadas\n",
    "# t : no se usa en este sistema pero lo dejamos para uso posterior\n",
    "# x : lista de estado con [x_0, x_1]\n",
    "# constantes : lista de constates, en este caso tendrá g(m1-m2)/(m1+m2)\n",
    "# dx_dt : lista de derivadas\n",
    "def sistemaDerivadas(x,t, constante):\n",
    "    velocidad = x[1]\n",
    "    aceleracion = constante \n",
    "    dx_dt = [velocidad, aceleracion]\n",
    "    return dx_dt"
   ]
  },
  {
   "cell_type": "markdown",
   "metadata": {},
   "source": [
    "Ahora defino condiciones iniciales del sistema y el rango de tiempo a analizar "
   ]
  },
  {
   "cell_type": "code",
   "execution_count": 16,
   "metadata": {},
   "outputs": [],
   "source": [
    "# biblioteca de cálculo numérico general\n",
    "import numpy as np"
   ]
  },
  {
   "cell_type": "code",
   "execution_count": 17,
   "metadata": {},
   "outputs": [],
   "source": [
    "t_rango = np.linspace(0,10, num= 100) # 100 tiempos entre 0 y 10 s"
   ]
  },
  {
   "cell_type": "markdown",
   "metadata": {},
   "source": [
    "E integramos en los pasos de tiempo de `t_rango`.\n",
    "\n",
    "Referencia: https://docs.scipy.org/doc/scipy-1.1.0/reference/tutorial/integrate.html"
   ]
  },
  {
   "cell_type": "code",
   "execution_count": 18,
   "metadata": {},
   "outputs": [],
   "source": [
    "# biblioteca de cálculo científico: eficientes herramientas de cálculo numérico\n",
    "from scipy.integrate import odeint"
   ]
  },
  {
   "cell_type": "code",
   "execution_count": 19,
   "metadata": {},
   "outputs": [],
   "source": [
    "# E integrar de a pasos en el tiempo\n",
    "x_inicial = [0, 0] # [posicion, velocidad] iniciales\n",
    "solucion = odeint(sistemaDerivadas, x_inicial, t_rango, args=(aceleracion_x_numerico,) )"
   ]
  },
  {
   "cell_type": "markdown",
   "metadata": {},
   "source": [
    "## Graficación"
   ]
  },
  {
   "cell_type": "code",
   "execution_count": 20,
   "metadata": {},
   "outputs": [],
   "source": [
    "# biblioteca de graficación\n",
    "import matplotlib.pyplot as plt\n",
    "plt.style.use('fivethirtyeight')"
   ]
  },
  {
   "cell_type": "code",
   "execution_count": 21,
   "metadata": {},
   "outputs": [
    {
     "data": {
      "text/plain": [
       "[Text(0, 0.5, '$\\\\dot{x}$ [m/s]'),\n",
       " Text(0.5, 0, 't [s]'),\n",
       " Text(0.5, 1.0, 'Velocidad')]"
      ]
     },
     "execution_count": 21,
     "metadata": {},
     "output_type": "execute_result"
    },
    {
     "data": {
      "image/png": "[encoded data removed]",
      "text/plain": [
       "<Figure size 864x288 with 2 Axes>"
      ]
     },
     "metadata": {
      "needs_background": "light"
     },
     "output_type": "display_data"
    }
   ],
   "source": [
    "fig, ax = plt.subplots(nrows= 1, ncols= 2, squeeze=False, figsize=(12, 4)) # dos figuras en la misma fila\n",
    "ax[0,0].plot(t_rango, solucion[:,0]) # fila 0 columna 0\n",
    "ax[0,0].set(xlabel='t [s]', ylabel='x [m]', title='Posición')\n",
    "ax[0,1].plot(t_rango, solucion[:,1]) # fila 0 columna 1\n",
    "ax[0,1].set(xlabel='t [s]', ylabel='$\\dot{x}$ [m/s]', title='Velocidad')"
   ]
  },
  {
   "cell_type": "markdown",
   "metadata": {},
   "source": [
    "### Error del método numérico\n",
    "Comparemos con la solución analítica"
   ]
  },
  {
   "cell_type": "code",
   "execution_count": 22,
   "metadata": {},
   "outputs": [
    {
     "data": {
      "image/png": "[encoded data removed]",
      "text/latex": [
       "$$x = \\frac{g t^{2} \\left(m_{1} - m_{2}\\right)}{2 \\left(m_{1} + m_{2}\\right)}$$"
      ],
      "text/plain": [
       "       2          \n",
       "    g⋅t ⋅(m₁ - m₂)\n",
       "x = ──────────────\n",
       "     2⋅(m₁ + m₂)  "
      ]
     },
     "execution_count": 22,
     "metadata": {},
     "output_type": "execute_result"
    }
   ],
   "source": [
    "sym.Eq(x,unMedio* aceleracion_x* t**2)"
   ]
  },
  {
   "cell_type": "markdown",
   "metadata": {},
   "source": [
    "Defino funciones que calculan la posición y velocidad obtenidas analíticamente. "
   ]
  },
  {
   "cell_type": "code",
   "execution_count": 25,
   "metadata": {},
   "outputs": [],
   "source": [
    "def xAnalitica(aceleracion_x_numerico, t):\n",
    "    '''\n",
    "    Posición: Un medio de la aceleración por cuadrado del tiempo\n",
    "    '''\n",
    "    return 0.5* aceleracion_x_numerico* t**2\n",
    "\n",
    "def vAnalitica(aceleracion_x_numerico, t):\n",
    "    '''\n",
    "    Velocidad: aceleración por tiempo\n",
    "    '''\n",
    "    return aceleracion_x_numerico* t"
   ]
  },
  {
   "cell_type": "markdown",
   "metadata": {},
   "source": [
    "Y grafico la solución numérica, la analítica y su diferencia para evaluar el error de la primera."
   ]
  },
  {
   "cell_type": "code",
   "execution_count": 32,
   "metadata": {},
   "outputs": [
    {
     "data": {
      "text/plain": [
       "<matplotlib.legend.Legend at 0x7f626c074b70>"
      ]
     },
     "execution_count": 32,
     "metadata": {},
     "output_type": "execute_result"
    },
    {
     "data": {
      "image/png": "[encoded data removed]",
      "text/plain": [
       "<Figure size 1296x576 with 6 Axes>"
      ]
     },
     "metadata": {
      "needs_background": "light"
     },
     "output_type": "display_data"
    }
   ],
   "source": [
    "fig, ax = plt.subplots(nrows= 3, ncols= 2, figsize=(18, 8), sharex= True) # dos figuras en la misma fila\n",
    "\n",
    "ax[0,0].set(ylabel='x [m]', title='Posición')\n",
    "ax[0,0].plot(t_rango, solucion[:,0], label='Numérica') # fila 0 columna 0\n",
    "ax[0,0].legend()\n",
    "\n",
    "ax[1,0].set(ylabel='x [m]')\n",
    "ax[1,0].plot(t_rango, xAnalitica(aceleracion_x_numerico, t_rango), 'r', label='Analítica') # fila 0 columna 0\n",
    "ax[1,0].legend()\n",
    "\n",
    "ax[2,0].set(xlabel='t [s]', ylabel='$\\Delta x$ [m]')\n",
    "ax[2,0].plot(t_rango, solucion[:,0] - xAnalitica(aceleracion_x_numerico, t_rango), 'r', label='Eror') # fila 0 columna 0\n",
    "ax[2,0].legend()\n",
    "\n",
    "ax[0,1].set(ylabel='$\\dot{x}$ [m/s]', title='Velocidad')\n",
    "ax[0,1].plot(t_rango, solucion[:,1], label='Numérica') # fila 0 columna 1\n",
    "ax[0,1].legend()\n",
    "\n",
    "ax[1,1].set(ylabel='$\\dot{x}$ [m/s]')\n",
    "ax[1,1].plot(t_rango, vAnalitica(aceleracion_x_numerico, t_rango), 'r', label='Analítica') # fila 0 columna 0\n",
    "ax[1,1].legend()\n",
    "\n",
    "ax[2,1].set(xlabel='t [s]', ylabel='$\\Delta \\dot{x}$[m/s]')\n",
    "ax[2,1].plot(t_rango, solucion[:,1]- vAnalitica(aceleracion_x_numerico, t_rango), 'r', label='Eror') # fila 0 columna 0\n",
    "ax[2,1].legend()"
   ]
  },
  {
   "cell_type": "markdown",
   "metadata": {},
   "source": [
    "El algorítmo de integración mantiene el error dentro de un tolerancia (parámetros `atol` y `htol`) en la variable principal (posición) por debajo de un valor ajustando la derivada primera (velocidad)."
   ]
  }
 ],
 "metadata": {
  "kernelspec": {
   "display_name": "Python 3",
   "language": "python",
   "name": "python3"
  },
  "language_info": {
   "codemirror_mode": {
    "name": "ipython",
    "version": 3
   },
   "file_extension": ".py",
   "mimetype": "text/x-python",
   "name": "python",
   "nbconvert_exporter": "python",
   "pygments_lexer": "ipython3",
   "version": "3.7.3"
  }
 },
 "nbformat": 4,
 "nbformat_minor": 4
}
