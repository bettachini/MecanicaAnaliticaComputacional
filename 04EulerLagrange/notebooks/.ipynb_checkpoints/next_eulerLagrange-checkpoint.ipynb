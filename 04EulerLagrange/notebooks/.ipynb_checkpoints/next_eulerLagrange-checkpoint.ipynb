{
 "cells": [
  {
   "cell_type": "markdown",
   "metadata": {},
   "source": [
    "# Euler-Lagrange\n",
    "© 2020 Víctor A. Bettachini  \n",
    "Mecánica General  \n",
    "Departamento de Ingeniería e Investigación Tecnológica  \n",
    "Universidad Nacional de La Matanza   \n",
    "\n",
    "![](ambos.png \"UNLaM | DIIT\")  \n",
    "\n",
    "---"
   ]
  },
  {
   "cell_type": "markdown",
   "metadata": {},
   "source": [
    "## Ecuación de Euler-Lagrange\n",
    "Referencia: Apunte Lanczos $\\S6$\n",
    "\n",
    "La utilidad que le damos a encontrar el Lagrangiano es obtener fácilmente a partir de él las ecuaciones diferenciales que modelizan la dinámica del sistema.\n",
    "Para eso usamos las ecuaciones de Euler-Lagrange\n",
    "$$\n",
    "\\frac{\\partial \\mathcal{L} }{\\partial q_i}- \\frac{\\mathrm{d}}{\\mathrm{d} t} \\frac{\\partial \\mathcal{L} }{\\partial \\dot{q}_i}=0 \\quad \\forall i,\n",
    "$$\n",
    "que debe aplicarse para cada coordenada generalizada (y su velocidad)."
   ]
  },
  {
   "cell_type": "markdown",
   "metadata": {},
   "source": [
    "## Momento y fuerza generalizada\n",
    "_Adaptado de la sección 7.1 John Robert Taylor. Classical Mechanics. University Science Books, 2005._\n",
    "\n",
    "Escribo el Lagrangiano en coordenadas cartesianas para una partícula en un espacio bidimensional\n",
    "\n",
    "$$\n",
    "\\mathcal{L} (x,y,\\dot{x}, \\dot{y})= T - V = \\frac{m}{2} (\\dot{x}^2 + \\dot{y}^2) - V(x,y).\n",
    "$$\n",
    "\n",
    "La derivada respecto a la velocidad en $\\hat{x}$\n",
    "\n",
    "$$\n",
    "\\frac{\\partial}{\\partial \\dot{x}} \\mathcal{L} = \\frac{\\partial}{\\partial \\dot{x}} T = m \\dot{x} = p_x,\n",
    "$$\n",
    "es el **momento** en $\\hat{x}$.\n",
    "\n",
    "La derivada respecto de la coordenada en si \n",
    "$$\n",
    "\\frac{\\partial}{\\partial x} \\mathcal{L} = - \\frac{\\partial}{\\partial x} V = F_x,\n",
    "$$\n",
    "es la **fuerza** causada por el potencial $V$.\n",
    "\n",
    "Se puede así recuperar la 2.a ley de Newton\n",
    "$$\n",
    "\\left\\{\n",
    "  \\begin{array}{l}\n",
    "    \\frac{\\partial}{\\partial x} \\mathcal{L} =  \\frac{\\mathrm{d}}{\\mathrm{d} t} \\frac{\\partial}{\\partial \\dot{x}} \\mathcal{L}\\\\\n",
    "    \\frac{\\partial}{\\partial y} \\mathcal{L} =  \\frac{\\mathrm{d}}{\\mathrm{d} t} \\frac{\\partial}{\\partial \\dot{y}} \\mathcal{L}\n",
    "  \\end{array}\n",
    "\\right.\n",
    "\\iff\n",
    "\\left\\{\n",
    "  \\begin{array}{l}\n",
    "    F_x = \\frac{\\mathrm{d}}{\\mathrm{d} t} p_x\\\\\n",
    "    F_y = \\frac{\\mathrm{d}}{\\mathrm{d} t} p_y\n",
    "  \\end{array},\n",
    "\\right.\n",
    "$$\n",
    "donde los $\\frac{\\mathrm{d}}{\\mathrm{d} t} p_i$ equivalen a $m \\ddot{q}_i$, si $q_i$ son coordenadas cartesianas como $x,y$.\n",
    "\n",
    "\n",
    "De usarse coordenadas generalizadas para escribir $\\mathcal{L}(q_i,\\dot{q}_i,t)$ estas derivadas no necesariamente son módulos de los momentos o fuerzas en el sentido vectorial, pero tienen un rol similar y por eso se llaman\n",
    "-  $\\frac{\\partial}{\\partial \\dot{q}_i} \\mathcal{L}$: componente $i$ de un **momento generalizado**\n",
    "-  $\\frac{\\partial}{\\partial q_i} \\mathcal{L}$: componente $i$ de una **fuerza generalizada**"
   ]
  },
  {
   "cell_type": "markdown",
   "metadata": {},
   "source": [
    "### Partícula en sistema cilíndrico\n",
    "Veamos en este sistema de coordenadas que son estos momentos y fuerzas generalizadas.\n",
    "\n",
    "En este sistema\n",
    "$$\n",
    "\\mathcal{L}(\\rho, \\dot{\\rho},\\varphi, \\dot{\\varphi}, z, \\dot{z}) = \\frac{m}{2} \\left( \\dot{\\rho}^2+ \\rho^2 \\dot{\\varphi}^2 + \\dot{z}^2 \\right) - V(\\rho, \\varphi, z).\n",
    "$$\n",
    "Aquí el momento para la cordenada generalizada $\\phi$\n",
    "$$\n",
    "\\frac{\\partial}{\\partial \\dot{\\varphi}} \\mathcal{L} = m \\rho^2 \\dot{\\varphi},\n",
    "$$\n",
    "resulta ser el **momento angular**.\n",
    "\n",
    "Y como de Euler-lagrange tenemos que\n",
    "$$\n",
    "\\frac{\\mathrm{d}}{\\mathrm{d} t} \\frac{\\partial}{\\partial \\dot{\\varphi}} \\mathcal{L} = \\frac{\\partial}{\\partial \\varphi} \\mathcal{L},\n",
    "$$\n",
    "este última _fuerza generalizada_ para la coordenada $\\varphi$ resulta ser la variación en el tiempo del momento angular, es decir el **torque**,\n",
    "$$\n",
    "\\tau = \\frac{\\mathrm{d}}{\\mathrm{d} t} \\left( m \\rho^2 \\dot{\\varphi} \\right) = - \\frac{\\partial}{\\partial \\varphi} V = \\frac{\\partial}{\\partial \\varphi} \\mathcal{L}.\n",
    "$$"
   ]
  }
 ],
 "metadata": {
  "kernelspec": {
   "display_name": "Python 3",
   "language": "python",
   "name": "python3"
  },
  "language_info": {
   "codemirror_mode": {
    "name": "ipython",
    "version": 3
   },
   "file_extension": ".py",
   "mimetype": "text/x-python",
   "name": "python",
   "nbconvert_exporter": "python",
   "pygments_lexer": "ipython3",
   "version": "3.7.3"
  }
 },
 "nbformat": 4,
 "nbformat_minor": 4
}
