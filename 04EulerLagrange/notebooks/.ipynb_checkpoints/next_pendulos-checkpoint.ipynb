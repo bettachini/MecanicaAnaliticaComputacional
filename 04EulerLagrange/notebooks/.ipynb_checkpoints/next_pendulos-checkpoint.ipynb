{
 "cells": [
  {
   "cell_type": "markdown",
   "metadata": {},
   "source": [
    "# Euler-Lagrange | Péndulos\n",
    "© 2020 Víctor A. Bettachini  \n",
    "Mecánica General  \n",
    "Departamento de Ingeniería e Investigación Tecnológica  \n",
    "Universidad Nacional de La Matanza   \n",
    "\n",
    "![](ambos.png \"UNLaM | DIIT\")  \n",
    "\n",
    "---"
   ]
  },
  {
   "cell_type": "markdown",
   "metadata": {},
   "source": [
    "## Péndulo rígido ideal\n",
    "Utilizaremos este sencillo sistema para mostrar que Euler-Lagrange permite obtener las mismas ecuaciones de la dinámica que se obtenienen con la 2.a ley de Newton\n",
    "\n",
    "![](marion_fig7_1.png)\n",
    "\n",
    "Ya vimos que su Lagrangiano es\n",
    "\n",
    "$$\n",
    "\\mathcal{L}(\\theta, \\dot{\\theta})= \\frac{m}{2} \\left( l^2 \\dot{\\theta}^2 \\right) + m g l \\cos{\\theta}.\n",
    "$$\n",
    "Planteamos la ecuación de Euler-Lagrange correspondiente para $\\theta$\n",
    "\n",
    "$$\n",
    "\\begin{aligned}\n",
    "\\frac{\\partial \\mathcal{L} }{\\partial \\theta} &- \\frac{\\mathrm{d}}{\\mathrm{d} t} \\frac{\\partial \\mathcal{L} }{\\partial \\dot{\\theta}}=0 \\\\\n",
    "\\left[- m g l \\sin{\\theta} \\right] &- \\frac{\\mathrm{d}}{\\mathrm{d} t} \\left[ m l^2 \\dot{\\theta} \\right]=0 \\\\\n",
    "g \\sin{\\theta} &- l \\ddot{\\theta} = 0\n",
    "\\end{aligned},\n",
    "$$\n",
    "de donde puede despejarse\n",
    "\n",
    "$$\n",
    "\\boxed{\n",
    "\\ddot{\\theta} = - \\frac{g}{l} \\sin{\\theta}\n",
    "},\n",
    "$$\n",
    "que es la misma ecuación obtenida aplicando la 2.a ley de Newton."
   ]
  },
  {
   "cell_type": "markdown",
   "metadata": {},
   "source": [
    "## Péndulo con punto de suspensión libre\n",
    "Ejercicio 2 sección 5 ($\\S 5$) de  \n",
    "Lev Davidovich Landau, y E. M. Lifshitz. Mecánica. 2.a. Curso de física teórica. Reverté, 1994.\n",
    "\n",
    "### Enunciado\n",
    "Escriba el Lagrangiano en función de las coordenadas generalizadas sugeridas por las figura para un péndulo oscilando en un plano de masa $m_2$ cuyo punto de suspensión, de masa $m_1$, puede desplazarse sobre una recta horizontal.\n",
    "\n",
    "Verifique que recupera el Lagrangiano de un péndulo simple de asumir fija la masa $m_1$.\n",
    "\n",
    "![](landauS52_fig2.png \"Figura 2 del libro de Landau.\")"
   ]
  },
  {
   "cell_type": "markdown",
   "metadata": {},
   "source": [
    "### Lagrangiano\n",
    "$$\n",
    "\\mathcal{L} (\\dot{x}_1, \\varphi, \\dot{\\varphi})= T(\\dot{x}_1, \\varphi, \\dot{\\varphi}) - V(\\varphi)\n",
    "= \\frac{m_1+ m_2}{2} \\dot{x}_1^2 + \\frac{m_2}{2} \\left( 2 \\dot{x}_1 l \\cos{\\varphi} \\dot{\\varphi} + l^2 \\dot{\\varphi}^2 \\right) + m_2 g l \\cos{\\varphi}.\n",
    "$$"
   ]
  },
  {
   "cell_type": "markdown",
   "metadata": {},
   "source": [
    "### Ecuaciones de Euler-Lagrange\n",
    "En el sistema vimos que tenemos dos grados de libertad que definimos por $x_1$ y $\\varphi$ así que obtendremos sendas ecuaciones diferanciales.\n",
    "La primera queda\n",
    "\n",
    "$$\n",
    "\\frac{\\partial \\mathcal{L} }{\\partial x_1} - \\frac{\\mathrm{d}}{\\mathrm{d} t} \\frac{\\partial \\mathcal{L} }{\\partial \\dot{x}_1} = 0\n",
    "$$\n",
    "\n",
    "La parte izquierda es sencilla porque $x_1$ no figura en el Lagrangiano entonces\n",
    "$$\n",
    "\\frac{\\partial \\mathcal{L} }{\\partial x_1} = 0.\n",
    "$$\n",
    "\n",
    "La parte derecha la resolvemos en dos pasos. Primero la derivada parcial respecto a la coordenada generalizada\n",
    "$$\n",
    "\\frac{\\partial \\mathcal{L} }{\\partial \\dot{x}_1} = (m_2 + m_2) \\dot{x}_1 + m_2 l \\cos{(\\varphi)} \\dot{\\varphi}.\n",
    "$$\n",
    "\n",
    "Y esto a su vez le aplicamos la derivada total respecto a $t$\n",
    "$$\n",
    "\\frac{\\mathrm{d}}{\\mathrm{d} t} \\frac{\\partial \\mathcal{L} }{\\partial \\dot{x}_1} = (m_2 + m_2) \\ddot{x}_1 + m_2 l ( - \\sin{(\\varphi)} \\dot{\\varphi}^2 +  \\cos{(\\varphi)} \\ddot{\\varphi} ).\n",
    "$$\n",
    "\n",
    "Juntando ambas partes tenemos\n",
    "\n",
    "$$\n",
    "\\begin{aligned}\n",
    "\\frac{\\partial \\mathcal{L} }{\\partial x_1} &- \\frac{\\mathrm{d}}{\\mathrm{d} t} \\frac{\\partial \\mathcal{L} }{\\partial \\dot{x}_1} = 0 \\\\\n",
    "0 &- \\left[ (m_2 + m_2) \\ddot{x}_1 + m_2 l ( - \\sin{(\\varphi)} \\dot{\\varphi}^2\n",
    " +  \\cos{(\\varphi)} \\ddot{\\varphi} ) \\right] = 0 \\\\\n",
    " &(m_2 + m_2) \\ddot{x}_1 + m_2 l ( - \\sin{(\\varphi)} \\dot{\\varphi}^2 +  \\cos{(\\varphi)} \\ddot{\\varphi} ) = 0.\n",
    "\\end{aligned}\n",
    "$$"
   ]
  },
  {
   "cell_type": "markdown",
   "metadata": {},
   "source": [
    "Para $\\varphi$ la expresión es un poco más compleja\n",
    "\n",
    "$$\n",
    "\\begin{aligned}\n",
    "\\frac{\\partial \\mathcal{L} }{\\partial \\varphi} &- \\frac{\\mathrm{d}}{\\mathrm{d} t} \\frac{\\partial \\mathcal{L} }{\\partial \\dot{\\varphi}}=0 \\\\\n",
    "\\left[ m_2 \\dot{x}_1 l (-\\sin{\\varphi}) \\dot{\\varphi} + m_1 g l (-\\sin{\\varphi}) \\right]\n",
    " &- \\frac{\\mathrm{d}}{\\mathrm{d} t} \\left[ \n",
    " m_2 \\dot{x}_1 l \\cos{\\varphi} + m_2 l^2 \\dot{\\varphi}\n",
    " \\right] =0 \\\\\n",
    " (-\\sin{\\varphi}) \\left[ m_2 \\dot{x}_1 l \\dot{\\varphi} +  m_1 g l \\right]\n",
    " &-  m_2 \\left[ \n",
    "   \\ddot{x}_1 l \\cos{\\varphi}\n",
    "  + \\dot{x}_1 l (-\\sin{\\varphi}) \\dot{\\varphi}\n",
    "  +  l^2 \\ddot{\\varphi}\n",
    " \\right] =0.\n",
    "\\end{aligned}\n",
    "$$\n",
    "Resolver la dinámica de estas ecuaciones acopladas ($\\dot{x}_1$ figura en ambas) es algo que haremos más adelante en el curso cuando hagamos simulaciones numéricas con la computadora."
   ]
  },
  {
   "cell_type": "markdown",
   "metadata": {},
   "source": [
    "## Resolución simbólica en el formalismo Lagrangiano\n",
    "Python, como cualquier otro lenguaje de programación es capaz hacer cuentas como una calculadora lo que se llama cálculo numérico.\n",
    "Como en muchos otros lenguajes pueden agregarse paquetes de funciones, lo que en otros lenguajes se llaman bibliotecas, que en python se llaman módulos.\n",
    "El módulo **sympy** provee funciones para resolver álgebra en forma simbólica.\n",
    "\n",
    "A continuación se obtiene la ecuación Lagrangiana, sino que también se resolverá la correspondiente de Euler-Lagrange con esta herramienta."
   ]
  },
  {
   "cell_type": "code",
   "execution_count": 1,
   "metadata": {},
   "outputs": [],
   "source": [
    "# módulo de cálculo simbólico\n",
    "import sympy as sym\n",
    "import sympy.physics.mechanics as mech\n",
    "mech.init_vprinting() # notación con puntos para derivadas temporales"
   ]
  },
  {
   "cell_type": "markdown",
   "metadata": {},
   "source": [
    "### Variables"
   ]
  },
  {
   "cell_type": "code",
   "execution_count": 2,
   "metadata": {},
   "outputs": [],
   "source": [
    "# Defino los parámetros físicos del sistema\n",
    "m1, m2, g, l = sym.symbols('m_1, m_2, g, l', positive=True)\n",
    "\n",
    "# Defino coordenadas generalizadas \n",
    "t = sym.symbols('t') # tiempo\n",
    "x1 = sym.Function('x_1')(t) # posición pesa 1 es función del tiempo\n",
    "phi = sym.Function('varphi')(t) # posición pesa 2 es función del tiempo"
   ]
  },
  {
   "cell_type": "markdown",
   "metadata": {},
   "source": [
    "#### Una \"nota\" sobre la \"notación\" (¡cuac!).\n",
    "\n",
    "Los cuadernos (notebook) **Jupyter** permiten utilizar la escritura de expresiones matemáticas en notación $\\LaTeX$.\n",
    "Por ejemplo el símbolo que designa la velocidad angular, la **phi** del alfabeto griego, se puede lograr escribiendo `varphi` logrando $\\varphi$, o con su otra grafía `phi` logrando $\\phi$."
   ]
  },
  {
   "cell_type": "markdown",
   "metadata": {},
   "source": [
    "### Energía cinética"
   ]
  },
  {
   "cell_type": "markdown",
   "metadata": {},
   "source": [
    "Para este primer ejemplo haremos algo muy mecanicista al usar un sistema de coordenadas cartesiano y sus versores.\n",
    "Usualmente podríamos escribir la velocidad al cuadrado de cada cuerpo con la expresión de la velocidad en los distintos sistemas que conocemos.\n",
    "Comienzo escribiendo las posiciones descompuestas en cartesianas a partir de las coordenadas generalizadas $x_1, \\varphi$."
   ]
  },
  {
   "cell_type": "code",
   "execution_count": 3,
   "metadata": {},
   "outputs": [
    {
     "data": {
      "image/png": "[encoded data removed]",
      "text/latex": [
       "$\\displaystyle (l \\operatorname{sin}\\left(\\varphi\\right) + x_{1})\\mathbf{\\hat{n}_x} -  l \\operatorname{cos}\\left(\\varphi\\right)\\mathbf{\\hat{n}_y}$"
      ],
      "text/plain": [
       "(l⋅sin(varphi) + x₁) n_x + -l⋅cos(varphi) n_y"
      ]
     },
     "execution_count": 3,
     "metadata": {},
     "output_type": "execute_result"
    }
   ],
   "source": [
    "# Sistema cartesiano\n",
    "N = sym.physics.vector.ReferenceFrame('N') # marco referencial N en coordenadas cartesianas\n",
    "\n",
    "# posiciones\n",
    "m1_r = x1* N.x\n",
    "m2_r = m1_r + l* (sym.cos(phi)* (-N.y) + sym.sin(phi)* (N.x)) # recordemos que tomamos y hacia arriba\n",
    "m2_r"
   ]
  },
  {
   "cell_type": "code",
   "execution_count": 4,
   "metadata": {},
   "outputs": [
    {
     "data": {
      "image/png": "[encoded data removed]",
      "text/latex": [
       "$\\displaystyle (l \\operatorname{cos}\\left(\\varphi\\right) \\dot{\\varphi} + \\dot{x}_{1})\\mathbf{\\hat{n}_x} + l \\operatorname{sin}\\left(\\varphi\\right) \\dot{\\varphi}\\mathbf{\\hat{n}_y}$"
      ],
      "text/plain": [
       "(l⋅cos(varphi)⋅varṗhi + x₁̇) n_x + l⋅sin(varphi)⋅varṗhi n_y"
      ]
     },
     "execution_count": 4,
     "metadata": {},
     "output_type": "execute_result"
    }
   ],
   "source": [
    "# velocidades\n",
    "m1_v = m1_r.diff(t,N) # derivada respecto a t en el marco referencial N\n",
    "m2_v = m2_r.diff(t,N)\n",
    "m2_v"
   ]
  },
  {
   "cell_type": "code",
   "execution_count": 16,
   "metadata": {},
   "outputs": [
    {
     "data": {
      "image/png": "[encoded data removed]",
      "text/latex": [
       "$\\displaystyle l^{2} \\operatorname{sin}^{2}\\left(\\varphi\\right) \\dot{\\varphi}^{2} + \\left(l \\operatorname{cos}\\left(\\varphi\\right) \\dot{\\varphi} + \\dot{x}_{1}\\right)^{2}$"
      ],
      "text/plain": [
       " 2    2               2                              2\n",
       "l ⋅sin (varphi)⋅varṗhi  + (l⋅cos(varphi)⋅varṗhi + x₁̇) "
      ]
     },
     "execution_count": 16,
     "metadata": {},
     "output_type": "execute_result"
    }
   ],
   "source": [
    "# velocidades al cuadrado es decir producto punto con si mismo\n",
    "m1_v_cuadrado = m1_v.dot(m1_v)\n",
    "m2_v_cuadrado = m2_v.dot(m2_v)\n",
    "m2_v_cuadrado"
   ]
  },
  {
   "cell_type": "code",
   "execution_count": 17,
   "metadata": {},
   "outputs": [
    {
     "data": {
      "image/png": "[encoded data removed]",
      "text/latex": [
       "$\\displaystyle T = \\frac{m_{1} \\dot{x}_{1}^{2}}{2} + \\frac{m_{2} \\left(l^{2} \\dot{\\varphi}^{2} + 2 l \\operatorname{cos}\\left(\\varphi\\right) \\dot{\\varphi} \\dot{x}_{1} + \\dot{x}_{1}^{2}\\right)}{2}$"
      ],
      "text/plain": [
       "         2      ⎛ 2       2                                 2⎞\n",
       "    m₁⋅x₁̇    m₂⋅⎝l ⋅varṗhi  + 2⋅l⋅cos(varphi)⋅varṗhi⋅x₁̇ + x₁̇ ⎠\n",
       "T = ────── + ─────────────────────────────────────────────────\n",
       "      2                              2                        "
      ]
     },
     "execution_count": 17,
     "metadata": {},
     "output_type": "execute_result"
    }
   ],
   "source": [
    "# Energía cinética\n",
    "unMedio = sym.Rational(1,2) # Rational: fracción de enteros, alternativamente podría haberse usado 0.5 \n",
    "m1_T = unMedio* m1* m1_v_cuadrado\n",
    "m2_T = unMedio* m2* m2_v_cuadrado\n",
    "T = m1_T + m2_T\n",
    "cineticaSimbolo = sym.Symbol('T')\n",
    "sym.Eq(cineticaSimbolo, T.simplify() ) # simplify: simplifica usando factor común y otras operaciones"
   ]
  },
  {
   "cell_type": "markdown",
   "metadata": {},
   "source": [
    "### Energía potencial"
   ]
  },
  {
   "cell_type": "markdown",
   "metadata": {},
   "source": [
    "Como vimos, estableciendo la usual $V(y_0=0)=0$ nos queda\n",
    "$$\n",
    "V_i= m_i g y_i.\n",
    "$$\n",
    "\n",
    "Solo nos ocupa tener la componente en $\\hat{y}$ de la pesa de $m_2$.\n",
    "Esto se obtiene de multiplicar (producto punto) su posición $\\vec{r}_2$ con el versor $\\hat{y}$."
   ]
  },
  {
   "cell_type": "code",
   "execution_count": 18,
   "metadata": {},
   "outputs": [
    {
     "data": {
      "image/png": "[encoded data removed]",
      "text/latex": [
       "$\\displaystyle - l \\operatorname{cos}\\left(\\varphi\\right)$"
      ],
      "text/plain": [
       "-l⋅cos(varphi)"
      ]
     },
     "execution_count": 18,
     "metadata": {},
     "output_type": "execute_result"
    }
   ],
   "source": [
    "m2_y = m2_r.dot(N.y)\n",
    "m2_y"
   ]
  },
  {
   "cell_type": "code",
   "execution_count": 19,
   "metadata": {},
   "outputs": [
    {
     "data": {
      "image/png": "[encoded data removed]",
      "text/latex": [
       "$\\displaystyle V = - g l m_{1} \\operatorname{cos}\\left(\\varphi\\right)$"
      ],
      "text/plain": [
       "V = -g⋅l⋅m₁⋅cos(varphi)"
      ]
     },
     "execution_count": 19,
     "metadata": {},
     "output_type": "execute_result"
    }
   ],
   "source": [
    "# Energía potencial\n",
    "m1_V = 0\n",
    "m2_V = m1* g* (m2_y)\n",
    "V = m1_V + m2_V\n",
    "potencialSimbolo = sym.Symbol('V')\n",
    "sym.Eq(potencialSimbolo, V.simplify() )"
   ]
  },
  {
   "cell_type": "markdown",
   "metadata": {},
   "source": [
    "### Lagrangiano"
   ]
  },
  {
   "cell_type": "code",
   "execution_count": 20,
   "metadata": {},
   "outputs": [
    {
     "data": {
      "image/png": "[encoded data removed]",
      "text/latex": [
       "$\\displaystyle \\mathcal{L} = g l m_{1} \\operatorname{cos}\\left(\\varphi\\right) + \\frac{m_{1} \\dot{x}_{1}^{2}}{2} + \\frac{m_{2} \\left(l^{2} \\dot{\\varphi}^{2} + 2 l \\operatorname{cos}\\left(\\varphi\\right) \\dot{\\varphi} \\dot{x}_{1} + \\dot{x}_{1}^{2}\\right)}{2}$"
      ],
      "text/plain": [
       "                                        2      ⎛ 2       2                    \n",
       "                                   m₁⋅x₁̇    m₂⋅⎝l ⋅varṗhi  + 2⋅l⋅cos(varphi)\n",
       "\\mathcal{L} = g⋅l⋅m₁⋅cos(varphi) + ────── + ──────────────────────────────────\n",
       "                                     2                              2         \n",
       "\n",
       "             2⎞\n",
       "⋅varṗhi⋅x₁̇ + x₁̇ ⎠\n",
       "───────────────\n",
       "               "
      ]
     },
     "execution_count": 20,
     "metadata": {},
     "output_type": "execute_result"
    }
   ],
   "source": [
    "L = T-V\n",
    "lagrangianoSimbolo = sym.Symbol('\\mathcal{L}')\n",
    "sym.Eq(lagrangianoSimbolo, L.simplify() )"
   ]
  },
  {
   "cell_type": "markdown",
   "metadata": {},
   "source": [
    "### Ecuaciones de Euler-Lagrange"
   ]
  },
  {
   "cell_type": "markdown",
   "metadata": {},
   "source": [
    "Tendremos dos, una para cada una de las coordenadas generalizadas $q_i = x_1, \\varphi$.\n",
    "Primero se calcula\n",
    "$$\n",
    "\\frac{\\partial}{\\partial q_i} L\n",
    "$$"
   ]
  },
  {
   "cell_type": "code",
   "execution_count": 21,
   "metadata": {},
   "outputs": [
    {
     "data": {
      "image/png": "[encoded data removed]",
      "text/latex": [
       "$\\displaystyle 0$"
      ],
      "text/plain": [
       "0"
      ]
     },
     "execution_count": 21,
     "metadata": {},
     "output_type": "execute_result"
    }
   ],
   "source": [
    "x1_dq = L.diff(x1)\n",
    "x1_dq.simplify()"
   ]
  },
  {
   "cell_type": "code",
   "execution_count": 22,
   "metadata": {},
   "outputs": [
    {
     "data": {
      "image/png": "[encoded data removed]",
      "text/latex": [
       "$\\displaystyle - l \\left(g m_{1} + m_{2} \\dot{\\varphi} \\dot{x}_{1}\\right) \\operatorname{sin}\\left(\\varphi\\right)$"
      ],
      "text/plain": [
       "-l⋅(g⋅m₁ + m₂⋅varṗhi⋅x₁̇)⋅sin(varphi)"
      ]
     },
     "execution_count": 22,
     "metadata": {},
     "output_type": "execute_result"
    }
   ],
   "source": [
    "phi_dq = L.diff(phi)\n",
    "phi_dq.simplify()"
   ]
  },
  {
   "cell_type": "markdown",
   "metadata": {},
   "source": [
    "Luego\n",
    "$$\\frac{\\mathrm{d}}{\\mathrm{d}t} \\frac{\\partial}{\\partial \\dot{q_i}} L$$"
   ]
  },
  {
   "cell_type": "code",
   "execution_count": 23,
   "metadata": {},
   "outputs": [
    {
     "data": {
      "image/png": "[encoded data removed]",
      "text/latex": [
       "$\\displaystyle m_{1} \\ddot{x}_{1} + m_{2} \\left(- l \\operatorname{sin}\\left(\\varphi\\right) \\dot{\\varphi}^{2} + l \\operatorname{cos}\\left(\\varphi\\right) \\ddot{\\varphi} + \\ddot{x}_{1}\\right)$"
      ],
      "text/plain": [
       "           ⎛                      2                            ⎞\n",
       "m₁⋅x₁̈ + m₂⋅⎝- l⋅sin(varphi)⋅varṗhi  + l⋅cos(varphi)⋅varp̈hi + x₁̈⎠"
      ]
     },
     "execution_count": 23,
     "metadata": {},
     "output_type": "execute_result"
    }
   ],
   "source": [
    "x1_dtdqp = L.diff(x1.diff(t)).diff(t) # primero deriva respecto a x1 punto y luego a t\n",
    "x1_dtdqp.simplify()"
   ]
  },
  {
   "cell_type": "code",
   "execution_count": 24,
   "metadata": {},
   "outputs": [
    {
     "data": {
      "image/png": "[encoded data removed]",
      "text/latex": [
       "$\\displaystyle l m_{2} \\left(l \\ddot{\\varphi} - \\operatorname{sin}\\left(\\varphi\\right) \\dot{\\varphi} \\dot{x}_{1} + \\operatorname{cos}\\left(\\varphi\\right) \\ddot{x}_{1}\\right)$"
      ],
      "text/plain": [
       "l⋅m₂⋅(l⋅varp̈hi - sin(varphi)⋅varṗhi⋅x₁̇ + cos(varphi)⋅x₁̈)"
      ]
     },
     "execution_count": 24,
     "metadata": {},
     "output_type": "execute_result"
    }
   ],
   "source": [
    "phi_dtdqp = L.diff(phi.diff(t)).diff(t) # primero deriva respecto a x1 punto y luego a t\n",
    "phi_dtdqp.simplify()"
   ]
  },
  {
   "cell_type": "markdown",
   "metadata": {},
   "source": [
    "Y con estos se escriben ambas ecuaciones de Euler-Lagrange."
   ]
  },
  {
   "cell_type": "code",
   "execution_count": 25,
   "metadata": {},
   "outputs": [
    {
     "data": {
      "image/png": "[encoded data removed]",
      "text/latex": [
       "$\\displaystyle - m_{1} \\ddot{x}_{1} - m_{2} \\left(- l \\operatorname{sin}\\left(\\varphi\\right) \\dot{\\varphi}^{2} + l \\operatorname{cos}\\left(\\varphi\\right) \\ddot{\\varphi} + \\ddot{x}_{1}\\right) = 0$"
      ],
      "text/plain": [
       "            ⎛                      2                            ⎞    \n",
       "-m₁⋅x₁̈ - m₂⋅⎝- l⋅sin(varphi)⋅varṗhi  + l⋅cos(varphi)⋅varp̈hi + x₁̈⎠ = 0"
      ]
     },
     "execution_count": 25,
     "metadata": {},
     "output_type": "execute_result"
    }
   ],
   "source": [
    "x1_el = x1_dq - x1_dtdqp\n",
    "x1_el = x1_el.simplify()\n",
    "sym.Eq(x1_el, 0)"
   ]
  },
  {
   "cell_type": "code",
   "execution_count": 26,
   "metadata": {},
   "outputs": [
    {
     "data": {
      "image/png": "[encoded data removed]",
      "text/latex": [
       "$\\displaystyle - l \\left(g m_{1} \\operatorname{sin}\\left(\\varphi\\right) + l m_{2} \\ddot{\\varphi} + m_{2} \\operatorname{cos}\\left(\\varphi\\right) \\ddot{x}_{1}\\right) = 0$"
      ],
      "text/plain": [
       "-l⋅(g⋅m₁⋅sin(varphi) + l⋅m₂⋅varp̈hi + m₂⋅cos(varphi)⋅x₁̈) = 0"
      ]
     },
     "execution_count": 26,
     "metadata": {},
     "output_type": "execute_result"
    }
   ],
   "source": [
    "phi_el = phi_dq - phi_dtdqp\n",
    "phi_el = phi_el.simplify()\n",
    "sym.Eq(phi_el, 0)"
   ]
  },
  {
   "cell_type": "code",
   "execution_count": null,
   "metadata": {},
   "outputs": [],
   "source": []
  }
 ],
 "metadata": {
  "kernelspec": {
   "display_name": "Python 3",
   "language": "python",
   "name": "python3"
  },
  "language_info": {
   "codemirror_mode": {
    "name": "ipython",
    "version": 3
   },
   "file_extension": ".py",
   "mimetype": "text/x-python",
   "name": "python",
   "nbconvert_exporter": "python",
   "pygments_lexer": "ipython3",
   "version": "3.7.3"
  }
 },
 "nbformat": 4,
 "nbformat_minor": 4
}
