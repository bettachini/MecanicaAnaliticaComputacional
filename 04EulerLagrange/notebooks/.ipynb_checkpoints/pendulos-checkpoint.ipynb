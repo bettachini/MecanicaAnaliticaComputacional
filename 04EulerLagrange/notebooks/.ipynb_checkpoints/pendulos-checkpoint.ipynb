{
 "cells": [
  {
   "cell_type": "markdown",
   "metadata": {},
   "source": [
    "# Euler-Lagrange: Péndulos\n",
    "© 2020\n",
    "Víctor A. Bettachini  \n",
    "Mecánica General  \n",
    "Departamento de Ingeniería e Investigación Tecnológica  \n",
    "Universidad Nacional de La Matanza  \n",
    "\n",
    "---"
   ]
  },
  {
   "cell_type": "markdown",
   "metadata": {},
   "source": [
    "## Ecuación de Euler-Lagrange\n",
    "Referencia: Apunte Lanczos $\\S6$\n",
    "\n",
    "La utilidad que le damos a encontrar el Lagrangiano es obtener fácilmente a partir de él las ecuaciones diferenciales que modelizan la dinámica del sistema.\n",
    "Para eso usamos las ecuaciones de Euler-Lagrange\n",
    "$$\n",
    "\\frac{\\partial L}{\\partial q_i}- \\frac{\\mathrm{d}}{\\mathrm{d} t} \\frac{\\partial L}{\\partial \\dot{q}_i}=0 \\quad \\forall i,\n",
    "$$\n",
    "que debe aplicarse para cada coordenada generalizada (y su velocidad)."
   ]
  },
  {
   "cell_type": "markdown",
   "metadata": {},
   "source": [
    "## Péndulo rígido ideal\n",
    "Habiamos visto que el lagrangiano es\n",
    "$$\n",
    "L(\\varphi, \\dot{\\varphi})= \\frac{m}{2} \\left( l^2 \\dot{\\varphi}^2 \\right) + m g l \\cos{\\varphi}.\n",
    "$$\n",
    "\n",
    "Utilizaremos este sistema para mostrar que Euler-Lagrange permite obtener las mismas ecuaciones de la dinámica que se obtenienen con la 2.a ley de Newton.\n",
    "Así\n",
    "$$\n",
    "\\begin{aligned}\n",
    "\\frac{\\partial L}{\\partial \\varphi} &- \\frac{\\mathrm{d}}{\\mathrm{d} t} \\frac{\\partial L}{\\partial \\dot{\\varphi}}=0 \\\\\n",
    "\\left[- m_2 g l \\sin{\\varphi} \\right] &- \\frac{\\mathrm{d}}{\\mathrm{d} t} \\left[ m l^2 \\dot{\\varphi} \\right]=0 \\\\\n",
    " g \\sin{\\varphi} &= l \\ddot{\\varphi}.\n",
    "\\end{aligned}\n",
    "$$\n",
    "Esta última es la expresión para la dinámica de un péndulo, que se desarrolla en $\\hat{\\varphi}$.\n",
    "Esta se resuelve en el régimen de pequeñas oscilaciones $\\varphi \\simeq 0 \\implies \\sin{\\varphi} \\simeq \\varphi$, asi\n",
    "$$\n",
    "\\frac{g}{l} \\varphi \\simeq \\ddot{\\varphi},\n",
    "$$\n",
    "que resolviendo se llega a\n",
    "$$\n",
    "\\varphi(t) = A_0 \\cos{\\left( \\omega t+ \\phi_0 \\right) },\n",
    "$$\n",
    "que ascila con frecuencia angular $\\omega= \\sqrt{\\frac{g}{l}}$, amplitud $A_0$ y fase inicial $\\phi_0$ dada por condiciones iniciales.\n",
    "\n",
    "Ya volveremos sobre el análisis de oscilaciones al final de la materia."
   ]
  },
  {
   "cell_type": "markdown",
   "metadata": {},
   "source": [
    "## Péndulo con punto de suspensión libre\n",
    "Ejercicio 2 sección 5 ($\\S 5$) de  \n",
    "Lev Davidovich Landau, y E. M. Lifshitz. Mecánica. 2.a. Curso de física teórica. Reverté, 1994.\n",
    "\n",
    "### Enunciado\n",
    "Escriba el Lagrangiano en función de las coordenadas generalizadas sugeridas por las figura para un péndulo oscilando en un plano de masa $m_2$ cuyo punto de suspensión, de masa $m_1$, puede desplazarse sobre una recta horizontal.\n",
    "\n",
    "Verifique que recupera el Lagrangiano de un péndulo simple de asumir fija la masa $m_1$.\n",
    "\n",
    "![](landauS52_fig2.png \"Figura 2 del libro de Landau.\")"
   ]
  },
  {
   "cell_type": "markdown",
   "metadata": {},
   "source": [
    "### Lagrangiano\n",
    "$$\n",
    "L(\\dot{x}_1, \\varphi, \\dot{\\varphi})= T(\\dot{x}_1, \\varphi, \\dot{\\varphi}) - V(\\varphi) = \\frac{m_1+ m_2}{2} \\dot{x}_1^2 + \\frac{m_2}{2} \\left( 2 \\dot{x}_1 l \\cos{\\varphi} \\dot{\\varphi} + l^2 \\dot{\\varphi}^2 \\right) + m_2 g l \\cos{\\varphi}.\n",
    "$$"
   ]
  },
  {
   "cell_type": "markdown",
   "metadata": {},
   "source": [
    "### Ecuaciones de Euler-Lagrange\n",
    "En el sistema vimos que tenemos dos grados de libertad que definimos por $x_1$ y $\\varphi$ así que obtendremos sendas ecuaciones diferanciales.\n",
    "La primera queda\n",
    "\n",
    "$$\n",
    "\\frac{\\partial L}{\\partial x_1} - \\frac{\\mathrm{d}}{\\mathrm{d} t} \\frac{\\partial L}{\\partial \\dot{x}_1} = 0\n",
    "$$\n",
    "\n",
    "La parte izquierda es sencilla porque $x_1$ no figura en el Lagrangiano entonces\n",
    "$$\n",
    "\\frac{\\partial L}{\\partial x_1} = 0.\n",
    "$$\n",
    "\n",
    "La parte derecha la resolvemos en dos pasos. Primero la derivada parcial respecto a la coordenada generalizada\n",
    "$$\n",
    "\\frac{\\partial L}{\\partial \\dot{x}_1} = (m_2 + m_2) \\dot{x}_1 + m_2 l \\cos{(\\varphi)} \\dot{\\varphi}.\n",
    "$$\n",
    "\n",
    "Y esto a su vez le aplicamos la derivada total respecto a $t$\n",
    "$$\n",
    "\\frac{\\mathrm{d}}{\\mathrm{d} t} \\frac{\\partial L}{\\partial \\dot{x}_1} = (m_2 + m_2) \\ddot{x}_1 + m_2 l ( - \\sin{(\\varphi)} \\dot{\\varphi}^2 +  \\cos{(\\varphi)} \\ddot{\\varphi} ).\n",
    "$$\n",
    "\n",
    "Juntando ambas partes tenemos\n",
    "\n",
    "$$\n",
    "\\begin{aligned}\n",
    "\\frac{\\partial L}{\\partial x_1} &- \\frac{\\mathrm{d}}{\\mathrm{d} t} \\frac{\\partial L}{\\partial \\dot{x}_1} = 0 \\\\\n",
    "0 &- \\left[ (m_2 + m_2) \\ddot{x}_1 + m_2 l ( - \\sin{(\\varphi)} \\dot{\\varphi}^2\n",
    " +  \\cos{(\\varphi)} \\ddot{\\varphi} ) \\right] = 0 \\\\\n",
    " &(m_2 + m_2) \\ddot{x}_1 + m_2 l ( - \\sin{(\\varphi)} \\dot{\\varphi}^2 +  \\cos{(\\varphi)} \\ddot{\\varphi} ) = 0.\n",
    "\\end{aligned}\n",
    "$$"
   ]
  },
  {
   "cell_type": "markdown",
   "metadata": {},
   "source": [
    "Para $\\varphi$ la expresión es un poco más compleja\n",
    "\n",
    "$$\n",
    "\\begin{aligned}\n",
    "\\frac{\\partial L}{\\partial \\varphi} &- \\frac{\\mathrm{d}}{\\mathrm{d} t} \\frac{\\partial L}{\\partial \\dot{\\varphi}}=0 \\\\\n",
    "\\left[ m_2 \\dot{x}_1 l (-\\sin{\\varphi}) \\dot{\\varphi} + m_1 g l (-\\sin{\\varphi}) \\right]\n",
    " &- \\frac{\\mathrm{d}}{\\mathrm{d} t} \\left[ \n",
    " m_2 \\dot{x}_1 l \\cos{\\varphi} + m_2 l^2 \\dot{\\varphi}\n",
    " \\right] =0 \\\\\n",
    " (-\\sin{\\varphi}) \\left[ m_2 \\dot{x}_1 l \\dot{\\varphi} +  m_1 g l \\right]\n",
    " &-  m_2 \\left[ \n",
    "   \\ddot{x}_1 l \\cos{\\varphi}\n",
    "  + \\dot{x}_1 l (-\\sin{\\varphi}) \\dot{\\varphi}\n",
    "  +  l^2 \\ddot{\\varphi}\n",
    " \\right] =0.\n",
    "\\end{aligned}\n",
    "$$\n",
    "Resolver la dinámica de estas ecuaciones acopladas ($\\dot{x}_1$ figura en ambas) es algo que haremos más adelante en el curso cuando hagamos simulaciones numéricas con la computadora."
   ]
  },
  {
   "cell_type": "markdown",
   "metadata": {},
   "source": [
    "## Resolución simbólica en el formalismo Lagrangiano\n",
    "Python, como cualquier otro lenguaje de programación, no sólo es capaz hacer cuentas como una calculadora, lo que se llama cálculo numérico, sino que a través de la biblioteca **sympy** es capaz de resolver álgebra en forma simbólica.\n",
    "\n",
    "A continuación se obtiene la ecuación Lagrangiana, sino que también se resolverá la correspondiente de Euler-Lagrange con esta herramienta."
   ]
  },
  {
   "cell_type": "code",
   "execution_count": 1,
   "metadata": {},
   "outputs": [],
   "source": [
    "# biblioteca de cálculo simbólico\n",
    "import sympy as sym\n",
    "import sympy.physics.mechanics as mech\n",
    "mech.init_vprinting() # notación con puntos para derivadas temporales"
   ]
  },
  {
   "cell_type": "markdown",
   "metadata": {},
   "source": [
    "### Variables"
   ]
  },
  {
   "cell_type": "code",
   "execution_count": 2,
   "metadata": {},
   "outputs": [],
   "source": [
    "# Defino los parámetros físicos del sistema\n",
    "m1, m2, g, l = sym.symbols('m_1, m_2, g, l', positive=True)\n",
    "\n",
    "# Defino coordenadas generalizadas \n",
    "t = sym.symbols('t') # tiempo\n",
    "x1 = sym.Function('x_1')(t) # posición pesa 1 es función del tiempo\n",
    "φ = sym.Function('φ')(t) # posición pesa 2 es función del tiempo"
   ]
  },
  {
   "cell_type": "markdown",
   "metadata": {},
   "source": [
    "#### Una \"nota\" sobre la \"notación\" (¡cuac!).\n",
    "\n",
    "Los cuadernos (notebook) **Jupyter** permiten utilizar la escritura de expresiones matemáticas en notación $\\LaTeX$.\n",
    "Por ejemplo el símbolo que designa la velocidad angular, la **phi** del alfabeto griego se puede lograr escribiendo `\\varphi`.\n",
    "Las letras así escritas pueden convertirse en caractéres en formato **unicode** al terminar de escribir la expresión y presionando la tecla \"tabulador\" (no dejar espacios)."
   ]
  },
  {
   "cell_type": "markdown",
   "metadata": {},
   "source": [
    "### Energía cinética"
   ]
  },
  {
   "cell_type": "markdown",
   "metadata": {},
   "source": [
    "Para este primer ejemplo haremos algo muy mecanicista al usar un sistema de coordenadas cartesiano y sus versores.\n",
    "Usualmente podríamos escribir la velocidad al cuadrado de cada cuerpo con la expresión de la velocidad en los distintos sistemas que conocemos.\n",
    "Comienzo escribiendo las posiciones descompuestas en cartesianas a partir de las coordenadas generalizadas $x_1, \\varphi$."
   ]
  },
  {
   "cell_type": "code",
   "execution_count": 3,
   "metadata": {},
   "outputs": [
    {
     "data": {
      "image/png": "[encoded data removed]",
      "text/latex": [
       "$\\displaystyle (l \\operatorname{cos}\\left(φ\\right) \\dot{φ} + \\dot{x}_{1})\\mathbf{\\hat{n}_x} + l \\operatorname{sin}\\left(φ\\right) \\dot{φ}\\mathbf{\\hat{n}_y}$"
      ],
      "text/plain": [
       "(l⋅cos(φ)⋅φ̇ + x₁̇) n_x + l⋅sin(φ)⋅φ̇ n_y"
      ]
     },
     "execution_count": 3,
     "metadata": {},
     "output_type": "execute_result"
    }
   ],
   "source": [
    "# Sistema cartesiano\n",
    "N = sym.physics.vector.ReferenceFrame('N') # marco referencial N en coordenadas cartesianas\n",
    "\n",
    "# posiciones\n",
    "r_m1 = x1* N.x\n",
    "r_m2 = r_m1 + l* (sym.cos(φ)* (-N.y) + sym.sin(φ)* (N.x)) # recordemos que tomamos y hacia arriba\n",
    "\n",
    "# velocidades\n",
    "v_m1 = r_m1.diff(t,N) # derivada respecto a t en el marco referencial N\n",
    "v_m2 = r_m2.diff(t,N)\n",
    "v_m2"
   ]
  },
  {
   "cell_type": "code",
   "execution_count": 4,
   "metadata": {},
   "outputs": [
    {
     "data": {
      "image/png": "[encoded data removed]",
      "text/latex": [
       "$\\displaystyle l^{2} \\operatorname{sin}^{2}\\left(φ\\right) \\dot{φ}^{2} + \\left(l \\operatorname{cos}\\left(φ\\right) \\dot{φ} + \\dot{x}_{1}\\right)^{2}$"
      ],
      "text/plain": [
       " 2    2     2                    2\n",
       "l ⋅sin (φ)⋅φ̇  + (l⋅cos(φ)⋅φ̇ + x₁̇) "
      ]
     },
     "execution_count": 4,
     "metadata": {},
     "output_type": "execute_result"
    }
   ],
   "source": [
    "# velocidades al cuadrado es decir producto punto con si mismo\n",
    "v_m1_cuadrado = sym.physics.vector.dot(v_m1, v_m1)\n",
    "v_m2_cuadrado = sym.physics.vector.dot(v_m2, v_m2)\n",
    "v_m2_cuadrado"
   ]
  },
  {
   "cell_type": "code",
   "execution_count": 5,
   "metadata": {},
   "outputs": [
    {
     "data": {
      "image/png": "[encoded data removed]",
      "text/latex": [
       "$\\displaystyle \\frac{m_{1} \\dot{x}_{1}^{2}}{2} + \\frac{m_{2} \\left(l^{2} \\dot{φ}^{2} + 2 l \\operatorname{cos}\\left(φ\\right) \\dot{x}_{1} \\dot{φ} + \\dot{x}_{1}^{2}\\right)}{2}$"
      ],
      "text/plain": [
       "     2      ⎛ 2  2                       2⎞\n",
       "m₁⋅x₁̇    m₂⋅⎝l ⋅φ̇  + 2⋅l⋅cos(φ)⋅x₁̇⋅φ̇ + x₁̇ ⎠\n",
       "────── + ──────────────────────────────────\n",
       "  2                      2                 "
      ]
     },
     "execution_count": 5,
     "metadata": {},
     "output_type": "execute_result"
    }
   ],
   "source": [
    "# Energía cinética\n",
    "unMedio = sym.Rational(1,2) # Rational: fracción de enteros, alternativamente podría haberse usado 0.5 \n",
    "T_m1 = unMedio* m1* v_m1_cuadrado\n",
    "T_m2 = unMedio* m2* v_m2_cuadrado\n",
    "T = T_m1 + T_m2\n",
    "T.simplify() # simplify: simplifica usando factor común y otras operaciones"
   ]
  },
  {
   "cell_type": "markdown",
   "metadata": {},
   "source": [
    "### Energía potencial"
   ]
  },
  {
   "cell_type": "markdown",
   "metadata": {},
   "source": [
    "Como vimos, estableciendo la usual $V(y_0=0)=0$ nos queda\n",
    "$$\n",
    "V_i= m_i g y_i.\n",
    "$$\n",
    "\n",
    "Solo nos ocupa tener la componente en $\\hat{y}$ de la pesa de $m_2$.\n",
    "Esto se obtiene de multiplicar (producto punto) su posición $\\vec{r}_2$ con el versor $\\hat{y}$."
   ]
  },
  {
   "cell_type": "code",
   "execution_count": 6,
   "metadata": {},
   "outputs": [
    {
     "data": {
      "image/png": "[encoded data removed]",
      "text/latex": [
       "$\\displaystyle - l \\operatorname{cos}\\left(φ\\right)$"
      ],
      "text/plain": [
       "-l⋅cos(φ)"
      ]
     },
     "execution_count": 6,
     "metadata": {},
     "output_type": "execute_result"
    }
   ],
   "source": [
    "y_m2 = sym.physics.vector.dot(r_m2, N.y)\n",
    "y_m2"
   ]
  },
  {
   "cell_type": "code",
   "execution_count": 7,
   "metadata": {},
   "outputs": [
    {
     "data": {
      "image/png": "[encoded data removed]",
      "text/latex": [
       "$\\displaystyle - g l m_{1} \\operatorname{cos}\\left(φ\\right)$"
      ],
      "text/plain": [
       "-g⋅l⋅m₁⋅cos(φ)"
      ]
     },
     "execution_count": 7,
     "metadata": {},
     "output_type": "execute_result"
    }
   ],
   "source": [
    "# Energía potencial\n",
    "V_m1 = 0\n",
    "V_m2 = m1* g* (y_m2)\n",
    "V = V_m1 + V_m2\n",
    "V"
   ]
  },
  {
   "cell_type": "markdown",
   "metadata": {},
   "source": [
    "### Lagrangiano"
   ]
  },
  {
   "cell_type": "code",
   "execution_count": 8,
   "metadata": {},
   "outputs": [
    {
     "data": {
      "image/png": "[encoded data removed]",
      "text/latex": [
       "$\\displaystyle g l m_{1} \\operatorname{cos}\\left(φ\\right) + \\frac{m_{1} \\dot{x}_{1}^{2}}{2} + \\frac{m_{2} \\left(l^{2} \\operatorname{sin}^{2}\\left(φ\\right) \\dot{φ}^{2} + \\left(l \\operatorname{cos}\\left(φ\\right) \\dot{φ} + \\dot{x}_{1}\\right)^{2}\\right)}{2}$"
      ],
      "text/plain": [
       "                     2      ⎛ 2    2     2                    2⎞\n",
       "                m₁⋅x₁̇    m₂⋅⎝l ⋅sin (φ)⋅φ̇  + (l⋅cos(φ)⋅φ̇ + x₁̇) ⎠\n",
       "g⋅l⋅m₁⋅cos(φ) + ────── + ───────────────────────────────────────\n",
       "                  2                         2                   "
      ]
     },
     "execution_count": 8,
     "metadata": {},
     "output_type": "execute_result"
    }
   ],
   "source": [
    "L = T-V\n",
    "L"
   ]
  },
  {
   "cell_type": "markdown",
   "metadata": {},
   "source": [
    "### Ecuaciones de Euler-Lagrange"
   ]
  },
  {
   "cell_type": "markdown",
   "metadata": {},
   "source": [
    "Tendremos dos, una para cada una de las coordenadas generalizadas $q_i = x_1, \\varphi$.\n",
    "Primero calculamos el que llamo lado izquierdo\n",
    "$$\n",
    "\\frac{\\partial}{\\partial q_i} L\n",
    "$$"
   ]
  },
  {
   "cell_type": "code",
   "execution_count": 9,
   "metadata": {},
   "outputs": [
    {
     "data": {
      "image/png": "[encoded data removed]",
      "text/latex": [
       "$\\displaystyle 0$"
      ],
      "text/plain": [
       "0"
      ]
     },
     "execution_count": 9,
     "metadata": {},
     "output_type": "execute_result"
    }
   ],
   "source": [
    "ladoIzquierdo_x1 = L.diff(x1)\n",
    "ladoIzquierdo_x1.simplify()"
   ]
  },
  {
   "cell_type": "code",
   "execution_count": 10,
   "metadata": {},
   "outputs": [
    {
     "data": {
      "image/png": "[encoded data removed]",
      "text/latex": [
       "$\\displaystyle - l \\left(g m_{1} + m_{2} \\dot{x}_{1} \\dot{φ}\\right) \\operatorname{sin}\\left(φ\\right)$"
      ],
      "text/plain": [
       "-l⋅(g⋅m₁ + m₂⋅x₁̇⋅φ̇)⋅sin(φ)"
      ]
     },
     "execution_count": 10,
     "metadata": {},
     "output_type": "execute_result"
    }
   ],
   "source": [
    "ladoIzquierdo_φ = L.diff(φ)\n",
    "ladoIzquierdo_φ.simplify()"
   ]
  },
  {
   "cell_type": "markdown",
   "metadata": {},
   "source": [
    "Luego calculamos el que llamo lado derecho\n",
    "$$\\frac{\\mathrm{d}}{\\mathrm{d}t} \\frac{\\partial}{\\partial \\dot{q_i}} L$$"
   ]
  },
  {
   "cell_type": "code",
   "execution_count": 11,
   "metadata": {},
   "outputs": [
    {
     "data": {
      "image/png": "[encoded data removed]",
      "text/latex": [
       "$\\displaystyle m_{1} \\ddot{x}_{1} + m_{2} \\left(- l \\operatorname{sin}\\left(φ\\right) \\dot{φ}^{2} + l \\operatorname{cos}\\left(φ\\right) \\ddot{φ} + \\ddot{x}_{1}\\right)$"
      ],
      "text/plain": [
       "           ⎛            2                  ⎞\n",
       "m₁⋅x₁̈ + m₂⋅⎝- l⋅sin(φ)⋅φ̇  + l⋅cos(φ)⋅φ̈ + x₁̈⎠"
      ]
     },
     "execution_count": 11,
     "metadata": {},
     "output_type": "execute_result"
    }
   ],
   "source": [
    "ladoDerecho_x1 = L.diff(x1.diff(t)).diff(t) # primero deriva respecto a x1 punto y luego a t\n",
    "ladoDerecho_x1.simplify()"
   ]
  },
  {
   "cell_type": "code",
   "execution_count": 12,
   "metadata": {},
   "outputs": [
    {
     "data": {
      "image/png": "[encoded data removed]",
      "text/latex": [
       "$\\displaystyle l m_{2} \\left(l \\ddot{φ} - \\operatorname{sin}\\left(φ\\right) \\dot{x}_{1} \\dot{φ} + \\operatorname{cos}\\left(φ\\right) \\ddot{x}_{1}\\right)$"
      ],
      "text/plain": [
       "l⋅m₂⋅(l⋅φ̈ - sin(φ)⋅x₁̇⋅φ̇ + cos(φ)⋅x₁̈)"
      ]
     },
     "execution_count": 12,
     "metadata": {},
     "output_type": "execute_result"
    }
   ],
   "source": [
    "ladoDerecho_φ = L.diff(φ.diff(t)).diff(t) # primero deriva respecto a x1 punto y luego a t\n",
    "ladoDerecho_φ.simplify()"
   ]
  },
  {
   "cell_type": "markdown",
   "metadata": {},
   "source": [
    "Y escribimos ambas ecuaciones de Euler-Lagrange."
   ]
  },
  {
   "cell_type": "code",
   "execution_count": 13,
   "metadata": {},
   "outputs": [
    {
     "data": {
      "image/png": "[encoded data removed]",
      "text/latex": [
       "$\\displaystyle - m_{1} \\ddot{x}_{1} - m_{2} \\left(- l \\operatorname{sin}\\left(φ\\right) \\dot{φ}^{2} + l \\operatorname{cos}\\left(φ\\right) \\ddot{φ} + \\ddot{x}_{1}\\right) = 0$"
      ],
      "text/plain": [
       "            ⎛            2                  ⎞    \n",
       "-m₁⋅x₁̈ - m₂⋅⎝- l⋅sin(φ)⋅φ̇  + l⋅cos(φ)⋅φ̈ + x₁̈⎠ = 0"
      ]
     },
     "execution_count": 13,
     "metadata": {},
     "output_type": "execute_result"
    }
   ],
   "source": [
    "eulerLagrange_x1 = ladoIzquierdo_x1 - ladoDerecho_x1\n",
    "eulerLagrange_x1 = eulerLagrange_x1.simplify()\n",
    "sym.Eq(eulerLagrange_x1, 0)"
   ]
  },
  {
   "cell_type": "code",
   "execution_count": 14,
   "metadata": {},
   "outputs": [
    {
     "data": {
      "image/png": "[encoded data removed]",
      "text/latex": [
       "$\\displaystyle - l \\left(g m_{1} \\operatorname{sin}\\left(φ\\right) + l m_{2} \\ddot{φ} + m_{2} \\operatorname{cos}\\left(φ\\right) \\ddot{x}_{1}\\right) = 0$"
      ],
      "text/plain": [
       "-l⋅(g⋅m₁⋅sin(φ) + l⋅m₂⋅φ̈ + m₂⋅cos(φ)⋅x₁̈) = 0"
      ]
     },
     "execution_count": 14,
     "metadata": {},
     "output_type": "execute_result"
    }
   ],
   "source": [
    "eulerLagrange_φ = ladoIzquierdo_φ - ladoDerecho_φ\n",
    "eulerLagrange_φ = eulerLagrange_φ.simplify()\n",
    "sym.Eq(eulerLagrange_φ, 0)"
   ]
  }
 ],
 "metadata": {
  "kernelspec": {
   "display_name": "Python 3",
   "language": "python",
   "name": "python3"
  },
  "language_info": {
   "codemirror_mode": {
    "name": "ipython",
    "version": 3
   },
   "file_extension": ".py",
   "mimetype": "text/x-python",
   "name": "python",
   "nbconvert_exporter": "python",
   "pygments_lexer": "ipython3",
   "version": "3.7.3"
  }
 },
 "nbformat": 4,
 "nbformat_minor": 4
}
