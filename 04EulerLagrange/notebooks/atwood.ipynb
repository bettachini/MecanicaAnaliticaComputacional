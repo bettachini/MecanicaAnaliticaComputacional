{
 "cells": [
  {
   "cell_type": "markdown",
   "metadata": {},
   "source": [
    "# Máquina de Atwood\n",
    "© 2020\n",
    "Víctor A. Bettachini  \n",
    "Mecánica General  \n",
    "Departamento de Ingeniería e Investigación Tecnológica  \n",
    "Universidad Nacional de La Matanza  \n",
    "\n",
    "---  "
   ]
  },
  {
   "cell_type": "markdown",
   "metadata": {},
   "source": [
    "## Enunciado\n",
    "1. Obtenga con la ecuación de Euler-Lagrange la ecuación de la dinámica. \n",
    "Simplifique el problema considerando que la poleas de radio \\\\(R\\\\) tiene masa nula (\\\\(M=0\\\\)).\n",
    "2. Compare las aceleraciones con las obtenidas usando ecuaciones de Newton.\n",
    "\n",
    "![](marion_fig2_1a.png)"
   ]
  },
  {
   "cell_type": "markdown",
   "metadata": {},
   "source": [
    "## Análisis preliminar\n",
    "- Dos coordenadas generalizadas: $x_1,x_2$\n",
    "- Potencial externo: debido a la aceleración gravitatoria\n",
    "- Vínculo: cuerda de longitud $l$ impone $x_1+ x_2 + \\pi R = l$ siendo $R$ el radio de la polea que se la considera sin masa."
   ]
  },
  {
   "cell_type": "markdown",
   "metadata": {},
   "source": [
    "## Resolución simbólica en el formalismo Lagrangiano\n",
    "A continuación se obtiene la ecuación Lagrangiana, sino que también se resolverá la correspondiente de Euler-Lagrange con las funciones del módulo **sympy**."
   ]
  },
  {
   "cell_type": "code",
   "execution_count": 1,
   "metadata": {},
   "outputs": [],
   "source": [
    "# módulo de cálculo simbólico\n",
    "import sympy as sym\n",
    "import sympy.physics.mechanics as mech\n",
    "mech.init_vprinting() # notación con puntos para derivadas temporales"
   ]
  },
  {
   "cell_type": "markdown",
   "metadata": {},
   "source": [
    "### Variables"
   ]
  },
  {
   "cell_type": "code",
   "execution_count": 3,
   "metadata": {},
   "outputs": [
    {
     "data": {
      "image/png": "[encoded data removed]",
      "text/latex": [
       "$\\displaystyle - \\pi R + l - x_{1}$"
      ],
      "text/plain": [
       "-π⋅R + l - x₁"
      ]
     },
     "execution_count": 3,
     "metadata": {},
     "output_type": "execute_result"
    }
   ],
   "source": [
    "# Defino los parámetros físicos del sistema\n",
    "M, R, m1, m2, g, l = sym.symbols('M, R, m_1, m_2, g, l', positive=True)\n",
    "\n",
    "# Defino coordenadas generalizadas \n",
    "t = sym.symbols('t') # tiempo\n",
    "x1 = sym.Function('x_1')(t) # posición pesa 1: x = x(t)\n",
    "x2 = sym.Function('x_2')(t) # posición pesa 2: y = y(t)\n",
    "x2_vinculo = (l- sym.pi* R)- x1  # posición pesa 2: definida por el vínculo\n",
    "x2_vinculo"
   ]
  },
  {
   "cell_type": "markdown",
   "metadata": {},
   "source": [
    "Si por cuestiones de presentación se quiere escribir como ecuación es posible, pero la variable a utilizar segirá siendo `y_vinculo`."
   ]
  },
  {
   "cell_type": "code",
   "execution_count": 4,
   "metadata": {},
   "outputs": [
    {
     "data": {
      "image/png": "[encoded data removed]",
      "text/latex": [
       "$\\displaystyle x_{2} = - \\pi R + l - x_{1}$"
      ],
      "text/plain": [
       "x₂ = -π⋅R + l - x₁"
      ]
     },
     "execution_count": 4,
     "metadata": {},
     "output_type": "execute_result"
    }
   ],
   "source": [
    "sym.Eq(x2, x2_vinculo)"
   ]
  },
  {
   "cell_type": "markdown",
   "metadata": {},
   "source": [
    "### Energía cinética"
   ]
  },
  {
   "cell_type": "code",
   "execution_count": 5,
   "metadata": {},
   "outputs": [
    {
     "data": {
      "image/png": "[encoded data removed]",
      "text/latex": [
       "$\\displaystyle \\frac{\\left(m_{1} + m_{2}\\right) \\dot{x}_{1}^{2}}{2}$"
      ],
      "text/plain": [
       "            2\n",
       "(m₁ + m₂)⋅x₁̇ \n",
       "─────────────\n",
       "      2      "
      ]
     },
     "execution_count": 5,
     "metadata": {},
     "output_type": "execute_result"
    }
   ],
   "source": [
    "# Energía cinética\n",
    "unMedio = sym.Rational(1,2) # Rational: fracción de enteros, alternativamente podría haberse usado 0.5 \n",
    "T_m1 = unMedio* m1* x1.diff(t)**2 # diff: derivada, **: potencia\n",
    "T_m2 = unMedio* m2* x2_vinculo.diff(t)**2\n",
    "T = T_m1 + T_m2\n",
    "T.simplify() # simplify: simplifica usando factor común y otras operaciones"
   ]
  },
  {
   "cell_type": "markdown",
   "metadata": {},
   "source": [
    "### Energía potencial"
   ]
  },
  {
   "cell_type": "code",
   "execution_count": 6,
   "metadata": {},
   "outputs": [
    {
     "data": {
      "image/png": "[encoded data removed]",
      "text/latex": [
       "$\\displaystyle g \\left(- m_{1} x_{1} + m_{2} \\left(\\pi R - l + x_{1}\\right)\\right)$"
      ],
      "text/plain": [
       "g⋅(-m₁⋅x₁ + m₂⋅(π⋅R - l + x₁))"
      ]
     },
     "execution_count": 6,
     "metadata": {},
     "output_type": "execute_result"
    }
   ],
   "source": [
    "# Energía potencial\n",
    "V_m1 = m1* g* (-x1)\n",
    "V_m2 = m2* g* (-x2_vinculo)\n",
    "V = V_m1 + V_m2\n",
    "V.simplify()"
   ]
  },
  {
   "cell_type": "markdown",
   "metadata": {},
   "source": [
    "### Lagrangiano\n",
    "$$\n",
    "L(x,\\dot{x}) = T(\\dot{x})- V(x)\n",
    "$$"
   ]
  },
  {
   "cell_type": "code",
   "execution_count": 7,
   "metadata": {},
   "outputs": [
    {
     "data": {
      "image/png": "[encoded data removed]",
      "text/latex": [
       "$\\displaystyle g m_{1} x_{1} - g m_{2} \\left(\\pi R - l + x_{1}\\right) + \\frac{m_{1} \\dot{x}_{1}^{2}}{2} + \\frac{m_{2} \\dot{x}_{1}^{2}}{2}$"
      ],
      "text/plain": [
       "                                     2        2\n",
       "                                m₁⋅x₁̇    m₂⋅x₁̇ \n",
       "g⋅m₁⋅x₁ - g⋅m₂⋅(π⋅R - l + x₁) + ────── + ──────\n",
       "                                  2        2   "
      ]
     },
     "execution_count": 7,
     "metadata": {},
     "output_type": "execute_result"
    }
   ],
   "source": [
    "L = T- V\n",
    "L.simplify()"
   ]
  },
  {
   "cell_type": "markdown",
   "metadata": {},
   "source": [
    "### Ecuación de Euler-Lagrange"
   ]
  },
  {
   "cell_type": "markdown",
   "metadata": {},
   "source": [
    "Primero calculamos el que llamo lado izquierdo\n",
    "$$\n",
    "\\frac{\\partial}{\\partial x} L\n",
    "$$"
   ]
  },
  {
   "cell_type": "code",
   "execution_count": 8,
   "metadata": {},
   "outputs": [
    {
     "data": {
      "image/png": "[encoded data removed]",
      "text/latex": [
       "$\\displaystyle g m_{1} - g m_{2}$"
      ],
      "text/plain": [
       "g⋅m₁ - g⋅m₂"
      ]
     },
     "execution_count": 8,
     "metadata": {},
     "output_type": "execute_result"
    }
   ],
   "source": [
    "ladoIzquierdo = L.diff(x1)\n",
    "ladoIzquierdo"
   ]
  },
  {
   "cell_type": "markdown",
   "metadata": {},
   "source": [
    "Luego el derecho\n",
    "$$\\frac{\\mathrm{d}}{\\mathrm{d}t} \\frac{\\partial}{\\partial \\dot{x}} L$$"
   ]
  },
  {
   "cell_type": "code",
   "execution_count": 9,
   "metadata": {},
   "outputs": [
    {
     "data": {
      "image/png": "[encoded data removed]",
      "text/latex": [
       "$\\displaystyle m_{1} \\ddot{x}_{1} + m_{2} \\ddot{x}_{1}$"
      ],
      "text/plain": [
       "m₁⋅x₁̈ + m₂⋅x₁̈"
      ]
     },
     "execution_count": 9,
     "metadata": {},
     "output_type": "execute_result"
    }
   ],
   "source": [
    "ladoDerecho = L.diff(x1.diff(t)).diff(t) # primero deriva respecto a x punto y luego a t\n",
    "ladoDerecho"
   ]
  },
  {
   "cell_type": "markdown",
   "metadata": {},
   "source": [
    "Con ambos se escribe la ecuación de Euler-Lagrange\n",
    "$$\n",
    "\\frac{\\partial}{\\partial x} L - \\frac{\\mathrm{d}}{\\mathrm{d}t} \\frac{\\partial}{\\partial \\dot{x}} L = 0\n",
    "$$"
   ]
  },
  {
   "cell_type": "code",
   "execution_count": 10,
   "metadata": {},
   "outputs": [
    {
     "data": {
      "image/png": "[encoded data removed]",
      "text/latex": [
       "$\\displaystyle - g m_{1} + g m_{2} + m_{1} \\ddot{x}_{1} + m_{2} \\ddot{x}_{1} = 0$"
      ],
      "text/plain": [
       "-g⋅m₁ + g⋅m₂ + m₁⋅x₁̈ + m₂⋅x₁̈ = 0"
      ]
     },
     "execution_count": 10,
     "metadata": {},
     "output_type": "execute_result"
    }
   ],
   "source": [
    "eulerLagrange = sym.Eq(ladoIzquierdo- ladoDerecho, 0) # ecuación igualando a cero\n",
    "eulerLagrange.simplify()"
   ]
  },
  {
   "cell_type": "markdown",
   "metadata": {},
   "source": [
    "Esta es una ecuación diferencial lineal de segundo orden homogena."
   ]
  },
  {
   "cell_type": "markdown",
   "metadata": {},
   "source": [
    "### Despeje\n",
    "Buscamos resolver numéricamente esta ecuación diferencial de segundo orden.\n",
    "Podemos despejar $\\ddot{x}$"
   ]
  },
  {
   "cell_type": "code",
   "execution_count": 11,
   "metadata": {},
   "outputs": [
    {
     "data": {
      "image/png": "[encoded data removed]",
      "text/latex": [
       "$\\displaystyle \\left[ \\frac{g \\left(m_{1} - m_{2}\\right)}{m_{1} + m_{2}}\\right]$"
      ],
      "text/plain": [
       "⎡g⋅(m₁ - m₂)⎤\n",
       "⎢───────────⎥\n",
       "⎣  m₁ + m₂  ⎦"
      ]
     },
     "execution_count": 11,
     "metadata": {},
     "output_type": "execute_result"
    }
   ],
   "source": [
    "sym.solve(eulerLagrange, x1.diff(t,2) ) # entrega una lista con los posibles despejes en función de x punto punto (derivada de 2.o orden con t)"
   ]
  },
  {
   "cell_type": "markdown",
   "metadata": {},
   "source": [
    "y asignar este resultado a una variable para uso posterior"
   ]
  },
  {
   "cell_type": "code",
   "execution_count": 12,
   "metadata": {},
   "outputs": [],
   "source": [
    "aceleracion_x1 = sym.solve(eulerLagrange,x1.diff(t,2))[0] # [0] toma el único elemento de la lista"
   ]
  },
  {
   "cell_type": "markdown",
   "metadata": {},
   "source": [
    "Más adelante en el curso ejercitaremos el dar valores numéricos a los parámetros y condiciones iniciales del sistema para poder calcular $x(t)$."
   ]
  },
  {
   "cell_type": "markdown",
   "metadata": {},
   "source": [
    "## Contemplando la masa de la polea"
   ]
  },
  {
   "cell_type": "markdown",
   "metadata": {},
   "source": [
    "Si bien el centro de masa de la polea no se desplaza su rotación agrega un término a la energía cinética en función de la velocidad angular \\\\(\\omega\\\\)."
   ]
  },
  {
   "cell_type": "code",
   "execution_count": 13,
   "metadata": {},
   "outputs": [],
   "source": [
    "ω = sym.Symbol('\\omega') # declaramos ω como variable"
   ]
  },
  {
   "cell_type": "code",
   "execution_count": 14,
   "metadata": {},
   "outputs": [
    {
     "data": {
      "image/png": "[encoded data removed]",
      "text/latex": [
       "$\\displaystyle \\frac{M R^{2} \\omega^{2}}{4}$"
      ],
      "text/plain": [
       "   2       2\n",
       "M⋅R ⋅\\omega \n",
       "────────────\n",
       "     4      "
      ]
     },
     "execution_count": 14,
     "metadata": {},
     "output_type": "execute_result"
    }
   ],
   "source": [
    "I_cilindro = unMedio* M* R**2 # momento de inercia de rotación en torno a su eje de simetría longitudinal\n",
    "T_rotacion = unMedio* I_cilindro* ω**2\n",
    "T_rotacion"
   ]
  },
  {
   "cell_type": "markdown",
   "metadata": {},
   "source": [
    "Conocemos la relación entre la velocidad angular y la tangencial que es la de la cuerda."
   ]
  },
  {
   "cell_type": "code",
   "execution_count": 15,
   "metadata": {},
   "outputs": [
    {
     "data": {
      "image/png": "[encoded data removed]",
      "text/latex": [
       "$\\displaystyle \\omega = R \\dot{x}_{1}$"
      ],
      "text/plain": [
       "\\omega = R⋅x₁̇"
      ]
     },
     "execution_count": 15,
     "metadata": {},
     "output_type": "execute_result"
    }
   ],
   "source": [
    "ω_xpunto = R* x1.diff(t)\n",
    "sym.Eq(ω,ω_xpunto)"
   ]
  },
  {
   "cell_type": "markdown",
   "metadata": {},
   "source": [
    "Hago uso de la sustitución para re-escribir la componente de energía cinética por la rotación de la polea."
   ]
  },
  {
   "cell_type": "code",
   "execution_count": 16,
   "metadata": {},
   "outputs": [
    {
     "data": {
      "image/png": "[encoded data removed]",
      "text/latex": [
       "$\\displaystyle \\frac{M R^{4} \\dot{x}_{1}^{2}}{4}$"
      ],
      "text/plain": [
       "   4   2\n",
       "M⋅R ⋅x₁̇ \n",
       "────────\n",
       "   4    "
      ]
     },
     "execution_count": 16,
     "metadata": {},
     "output_type": "execute_result"
    }
   ],
   "source": [
    "T_rotacion = T_rotacion.subs(ω, ω_xpunto)\n",
    "T_rotacion"
   ]
  },
  {
   "cell_type": "markdown",
   "metadata": {},
   "source": [
    "La nueva energía cinética es ahora"
   ]
  },
  {
   "cell_type": "code",
   "execution_count": 17,
   "metadata": {},
   "outputs": [
    {
     "data": {
      "image/png": "[encoded data removed]",
      "text/latex": [
       "$\\displaystyle \\frac{M R^{4} \\dot{x}_{1}^{2}}{4} + \\frac{m_{1} \\dot{x}_{1}^{2}}{2} + \\frac{m_{2} \\dot{x}_{1}^{2}}{2}$"
      ],
      "text/plain": [
       "   4   2        2        2\n",
       "M⋅R ⋅x₁̇    m₁⋅x₁̇    m₂⋅x₁̇ \n",
       "──────── + ────── + ──────\n",
       "   4         2        2   "
      ]
     },
     "execution_count": 17,
     "metadata": {},
     "output_type": "execute_result"
    }
   ],
   "source": [
    "T_p = T + T_rotacion # agrego _p para indicar con polea\n",
    "T_p"
   ]
  },
  {
   "cell_type": "markdown",
   "metadata": {},
   "source": [
    "El Lagrangiano"
   ]
  },
  {
   "cell_type": "code",
   "execution_count": 18,
   "metadata": {},
   "outputs": [
    {
     "data": {
      "image/png": "[encoded data removed]",
      "text/latex": [
       "$\\displaystyle \\frac{M R^{4} \\dot{x}_{1}^{2}}{4} + g m_{1} x_{1} - g m_{2} \\left(\\pi R - l + x_{1}\\right) + \\frac{m_{1} \\dot{x}_{1}^{2}}{2} + \\frac{m_{2} \\dot{x}_{1}^{2}}{2}$"
      ],
      "text/plain": [
       "   4   2                                        2        2\n",
       "M⋅R ⋅x₁̇                                    m₁⋅x₁̇    m₂⋅x₁̇ \n",
       "──────── + g⋅m₁⋅x₁ - g⋅m₂⋅(π⋅R - l + x₁) + ────── + ──────\n",
       "   4                                         2        2   "
      ]
     },
     "execution_count": 18,
     "metadata": {},
     "output_type": "execute_result"
    }
   ],
   "source": [
    "L_p = T_p - V\n",
    "L_p"
   ]
  },
  {
   "cell_type": "markdown",
   "metadata": {},
   "source": [
    "La ecuación de Euler-Lagrange"
   ]
  },
  {
   "cell_type": "code",
   "execution_count": 19,
   "metadata": {},
   "outputs": [
    {
     "data": {
      "image/png": "[encoded data removed]",
      "text/latex": [
       "$\\displaystyle - \\frac{M R^{4} \\ddot{x}_{1}}{2} + g m_{1} - g m_{2} - m_{1} \\ddot{x}_{1} - m_{2} \\ddot{x}_{1} = 0$"
      ],
      "text/plain": [
       "     4                                     \n",
       "  M⋅R ⋅x₁̈                                  \n",
       "- ─────── + g⋅m₁ - g⋅m₂ - m₁⋅x₁̈ - m₂⋅x₁̈ = 0\n",
       "     2                                     "
      ]
     },
     "execution_count": 19,
     "metadata": {},
     "output_type": "execute_result"
    }
   ],
   "source": [
    "ladoIzquierdo_p = L_p.diff(x1)\n",
    "ladoDerecho_p = L_p.diff(x1.diff(t)).diff(t) # primero deriva respecto a x punto y luego a t\n",
    "eulerLagrange_p = sym.Eq(ladoIzquierdo_p - ladoDerecho_p, 0) # ecuación igualando a cero\n",
    "eulerLagrange_p"
   ]
  },
  {
   "cell_type": "markdown",
   "metadata": {},
   "source": [
    "Y la aceleración"
   ]
  },
  {
   "cell_type": "code",
   "execution_count": 20,
   "metadata": {},
   "outputs": [
    {
     "data": {
      "image/png": "[encoded data removed]",
      "text/latex": [
       "$\\displaystyle \\frac{2 g \\left(m_{1} - m_{2}\\right)}{M R^{4} + 2 m_{1} + 2 m_{2}}$"
      ],
      "text/plain": [
       "  2⋅g⋅(m₁ - m₂)   \n",
       "──────────────────\n",
       "   4              \n",
       "M⋅R  + 2⋅m₁ + 2⋅m₂"
      ]
     },
     "execution_count": 20,
     "metadata": {},
     "output_type": "execute_result"
    }
   ],
   "source": [
    "aceleracion_x1_p = sym.solve(eulerLagrange_p, x1.diff(t,2))[0]\n",
    "aceleracion_x1_p"
   ]
  },
  {
   "cell_type": "code",
   "execution_count": null,
   "metadata": {},
   "outputs": [],
   "source": []
  }
 ],
 "metadata": {
  "kernelspec": {
   "display_name": "Python 3",
   "language": "python",
   "name": "python3"
  },
  "language_info": {
   "codemirror_mode": {
    "name": "ipython",
    "version": 3
   },
   "file_extension": ".py",
   "mimetype": "text/x-python",
   "name": "python",
   "nbconvert_exporter": "python",
   "pygments_lexer": "ipython3",
   "version": "3.7.3"
  }
 },
 "nbformat": 4,
 "nbformat_minor": 4
}
