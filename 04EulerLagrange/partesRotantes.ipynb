{
 "cells": [
  {
   "cell_type": "markdown",
   "id": "e72d2aef-059e-44ae-ad69-a3b5d938a358",
   "metadata": {},
   "source": [
    "# Posición en sistemas con partes rotantes"
   ]
  },
  {
   "cell_type": "markdown",
   "id": "16abf5e5-6614-40d8-82b5-2d5d2ef8b02f",
   "metadata": {},
   "source": [
    "[![DIIT - UNLaM](data:image/png;base64,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)](https://ingenieria.unlam.edu.ar/)   \n",
    "[![by-nc-sa_80x15.png](data:image/png;base64,iVBORw0KGgoAAAANSUhEUgAAAFAAAAAPCAMAAABEF7i9AAAABGdBTUEAANbY1E9YMgAAAJZQTFRF////7u7u3d3dys7KzMzMyMzIxsrGxcbFur+6u7u7s7iyq7GqqqqqmZmZlJmTj5CPiIiIh4eHhoaGgICAfYJ9d3d3cnZxZ2tnZmZmW15bVVVVS0xLREREQ0NDQkJCQUJBOz07OTs5MzMzMTMxLjAuJygnJCUjIiIiISEhICAgGRkZERERDxAPDg4ODQ4NDQ0NDQ0MAAAADbeuvgAAAOhJREFUeNqtk+tyAiEMhQ+6XtroutZiveBdu+p2tXn/l3OQy8roL5fMMENC+HIIAI5sYEQ1DSRtP5zZkCpToubf2/oMMC0zX0QdiLqjmsD1sVKd8JSoNa8HvGRIclZCcZ5A7Yiag/s6oJPMYD8FKgIC3wG/+QP5DFIWot+DvBB1OxYAk+W2W88HqqwAOOZE6FuZbfWZZUn02fb1rTAHc3izZgQCrxWqSSFkH/IaKuSHEzEChfyk2PbwmqFX8EQo3jaw2Ac9DIFhD12Tn4CbU+RbTv+HHrj8jfAOacxflrc61/0psf9yZLsBr5WUrhUa3hEAAAAASUVORK5CYII=)](https://creativecommons.org/licenses/by-sa/4.0/deed.es_ES)\n",
    "2024\n",
    "[Víctor A. Bettachini](mailto:vbettachini@unlam.edu.ar)   \n",
    "\n",
    "---"
   ]
  },
  {
   "cell_type": "markdown",
   "id": "f3266b95-dfe5-498b-96db-5a7a4dc4041f",
   "metadata": {},
   "source": [
    "## Enunciado | Resorte enrollado en una T\n",
    "Una pieza rígida en forma de T consiste en una larga varilla soldada perpendicularmente a otra de longitud $\\ell$ que pivotea en torno a un origen.\n",
    "La T gira sobre un plano horizontal con velocidad angular constante $\\omega$.\n",
    "Una partícula de masa $m$ muy superior a la de la T, por la que esta última es despreciable, puede desplazarse libremente en la primer varilla y está conectada a la intersección de ambas por un resorte de constante elástica $k$ y longitud natural nula.\n",
    "1. Encuentre una ecuación para la dinámica de la distancia de la partícula a la intersección $d$.\n",
    "1. Obtenga $d(t)$ asumiendo las condición iniciales que desee. \n",
    "1. Existe un ``valor especial'' para $\\omega$. ¿Cuál sería y por qué es especial? \n",
    "\n",
    "![figuras/cmchap6_fig6_27.png](data:image/png;base64,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)"
   ]
  },
  {
   "cell_type": "markdown",
   "id": "6fa9564c-2dac-4c6b-9639-f2be79233e7c",
   "metadata": {},
   "source": [
    "## Parámetros físicos del modelo del sistema"
   ]
  },
  {
   "cell_type": "code",
   "execution_count": 1,
   "id": "0fb6f35a-90fb-4b78-ad98-5d51dd57c099",
   "metadata": {},
   "outputs": [],
   "source": [
    "import sympy as sym # importamos funciones de cálculo simbólico\n",
    "from sympy.physics import mechanics as mech # de sympy utilizaremos funciones de mecánica\n",
    "mech.init_vprinting() # notación con punto para la velocidad y punto punto para la aceleración"
   ]
  },
  {
   "cell_type": "code",
   "execution_count": 2,
   "id": "39a1dc07-1e6d-40e7-adb2-bbff7408a1f7",
   "metadata": {},
   "outputs": [],
   "source": [
    "m, k, omega, l = sym.symbols('m, k, \\omega, \\ell', positive=True) # parámetros del sistema. El \\ell es para usar la letra bonita de ele.\n",
    "\n",
    "# Definimos las coordenadas generalizadas\n",
    "N = mech.ReferenceFrame('N') # sistema de referencia en coordenadas cartesianas\n",
    "t = sym.symbols('t') # tiempo"
   ]
  },
  {
   "cell_type": "markdown",
   "id": "636a49f8",
   "metadata": {},
   "source": [
    "## Opción 1: trabajar todo en el marco de referencia fijo"
   ]
  },
  {
   "cell_type": "markdown",
   "id": "cf0ae20b",
   "metadata": {},
   "source": [
    "Hay dos cosas que deben definirse\n",
    "- la longitud del resorte, que corresponde con $d$\n",
    "- la posición de la partícula de masa $m$\n",
    "\n",
    "El sistema de referencia $N$ puede tener como origen el punto en torno al que gira la T, versor $\\hat{x}$ apuntado hacia la derecha y el $\\hat{y}$ hacia arriba.\n",
    "El vector posición de la partícula es la suma del vector hasta el punto de unión de ambas barrar de la T y el del resorte con origen en esa unión.\n",
    "La posición del vértice es "
   ]
  },
  {
   "cell_type": "code",
   "execution_count": 3,
   "id": "8abeba7a",
   "metadata": {},
   "outputs": [],
   "source": [
    "vértice_r = l* (sym.cos(omega*t)*N.x + sym.sin(omega*t)*N.y) # posición del vértice r"
   ]
  },
  {
   "cell_type": "markdown",
   "id": "a10c5e31",
   "metadata": {},
   "source": [
    "Y no es difícil interpretar la geometría para determinar las proyecciones en los ejes elegidos del vector para el resorte."
   ]
  },
  {
   "cell_type": "code",
   "execution_count": 4,
   "id": "e727c4cc",
   "metadata": {},
   "outputs": [
    {
     "data": {
      "image/png": "[encoded data removed]",
      "text/latex": [
       "$\\displaystyle (\\ell \\cos{\\left(\\omega t \\right)} - d \\sin{\\left(\\omega t \\right)})\\mathbf{\\hat{n}_x} + (\\ell \\sin{\\left(\\omega t \\right)} + d \\cos{\\left(\\omega t \\right)})\\mathbf{\\hat{n}_y}$"
      ],
      "text/plain": [
       "(\\ell⋅cos(\\omega⋅t) - d⋅sin(\\omega⋅t)) n_x + (\\ell⋅sin(\\omega⋅t) + d⋅cos(\\omeg\n",
       "a⋅t)) n_y"
      ]
     },
     "execution_count": 4,
     "metadata": {},
     "output_type": "execute_result"
    }
   ],
   "source": [
    "d = mech.dynamicsymbols('d') # única coordenada generalizada | distancia partícula al vértice T\n",
    "m_r = vértice_r + d* (-sym.sin(omega*t)*N.x + sym.cos(omega*t)*N.y) # posición de la partícula\n",
    "m_r"
   ]
  },
  {
   "cell_type": "markdown",
   "id": "e12c3a8c-f87c-4528-8ed1-adae8a69cfd7",
   "metadata": {},
   "source": [
    "## Opción 2: Marco de referencia rotante\n",
    "Imagino un sistema cartesiano con $\\hat{n}_x$ apunta a derecha y $\\hat{n}_y$ hacia arriba.\n",
    "\n",
    "Si en $t=0$ la parte de la T de longitud $l$ coincide con la horizontal, y está a la derecha del punto de pivoteo la posición de partícula será"
   ]
  },
  {
   "cell_type": "code",
   "execution_count": 5,
   "id": "84c21f6e-b909-497f-94f1-13ee07549265",
   "metadata": {},
   "outputs": [
    {
     "data": {
      "image/png": "[encoded data removed]",
      "text/latex": [
       "$\\displaystyle \\ell\\mathbf{\\hat{n}_x} + d\\mathbf{\\hat{n}_y}$"
      ],
      "text/plain": [
       "\\ell n_x + d n_y"
      ]
     },
     "execution_count": 5,
     "metadata": {},
     "output_type": "execute_result"
    }
   ],
   "source": [
    "m_r = l* N.x + d* N.y\n",
    "m_r"
   ]
  },
  {
   "cell_type": "markdown",
   "id": "fc29a03d-e69b-4a22-8d9a-6f76df7bc3dd",
   "metadata": {},
   "source": [
    "Tal vector tridimensional puede escribirse manualmente en notación matricial como un vector 1x3."
   ]
  },
  {
   "cell_type": "code",
   "execution_count": 6,
   "id": "4234f2e4-2750-484e-89cd-10f816c5de2b",
   "metadata": {},
   "outputs": [
    {
     "data": {
      "text/latex": [
       "$\\displaystyle \\left[\\begin{matrix}\\ell\\\\d\\\\0\\end{matrix}\\right]$"
      ],
      "text/plain": [
       "⎡\\ell⎤\n",
       "⎢    ⎥\n",
       "⎢ d  ⎥\n",
       "⎢    ⎥\n",
       "⎣ 0  ⎦"
      ]
     },
     "execution_count": 6,
     "metadata": {},
     "output_type": "execute_result"
    }
   ],
   "source": [
    "m_r_matriz = sym.Matrix([[l], [d], [0]])\n",
    "m_r_matriz"
   ]
  },
  {
   "cell_type": "markdown",
   "id": "8a119e0a-8d90-4805-a5f8-e8a510e99397",
   "metadata": {},
   "source": [
    "El efecto de la velocidad angular constante $\\omega \\hat{z}$ puede representarse por matriz de rotación para el ángulo $\\omega t$ en torno a $\\hat{z}$."
   ]
  },
  {
   "cell_type": "code",
   "execution_count": 7,
   "id": "9bbaef6d-f6f9-47e7-acee-b3cd4b515d3f",
   "metadata": {},
   "outputs": [
    {
     "data": {
      "text/latex": [
       "$\\displaystyle \\left[\\begin{matrix}\\cos{\\left(\\omega t \\right)} & - \\sin{\\left(\\omega t \\right)} & 0\\\\\\sin{\\left(\\omega t \\right)} & \\cos{\\left(\\omega t \\right)} & 0\\\\0 & 0 & 1\\end{matrix}\\right]$"
      ],
      "text/plain": [
       "⎡cos(\\omega⋅t)  -sin(\\omega⋅t)  0⎤\n",
       "⎢                                ⎥\n",
       "⎢sin(\\omega⋅t)  cos(\\omega⋅t)   0⎥\n",
       "⎢                                ⎥\n",
       "⎣      0              0         1⎦"
      ]
     },
     "execution_count": 7,
     "metadata": {},
     "output_type": "execute_result"
    }
   ],
   "source": [
    "matrizRotación = sym.Matrix([[sym.cos(omega* t), -sym.sin(omega* t), 0], [ sym.sin(omega* t), sym.cos(omega* t), 0], [0,0,1] ] )\n",
    "matrizRotación"
   ]
  },
  {
   "cell_type": "markdown",
   "id": "98c9b995-d550-4d35-93c0-f484d6e4fa32",
   "metadata": {},
   "source": [
    "La mera multiplicación permite obtener las componentes en $\\hat{x}$ y $\\hat{y}$ de la posición de la partícula para todo $t$."
   ]
  },
  {
   "cell_type": "code",
   "execution_count": 8,
   "id": "6233017f-d420-4929-b228-87baabb16308",
   "metadata": {},
   "outputs": [
    {
     "data": {
      "text/latex": [
       "$\\displaystyle \\left[\\begin{matrix}\\ell \\cos{\\left(\\omega t \\right)} - d \\sin{\\left(\\omega t \\right)}\\\\\\ell \\sin{\\left(\\omega t \\right)} + d \\cos{\\left(\\omega t \\right)}\\\\0\\end{matrix}\\right]$"
      ],
      "text/plain": [
       "⎡\\ell⋅cos(\\omega⋅t) - d⋅sin(\\omega⋅t)⎤\n",
       "⎢                                    ⎥\n",
       "⎢\\ell⋅sin(\\omega⋅t) + d⋅cos(\\omega⋅t)⎥\n",
       "⎢                                    ⎥\n",
       "⎣                 0                  ⎦"
      ]
     },
     "execution_count": 8,
     "metadata": {},
     "output_type": "execute_result"
    }
   ],
   "source": [
    "matrizRotación* m_r_matriz"
   ]
  },
  {
   "cell_type": "markdown",
   "id": "cdf843eb-1f6b-41a3-9cb7-7afc4efc803c",
   "metadata": {},
   "source": [
    "### Automatizando el proceso"
   ]
  },
  {
   "cell_type": "markdown",
   "id": "2dd52a8b-b579-4625-a8ad-636f4d1f5099",
   "metadata": {},
   "source": [
    "No hay necesidad de tras tomarse el trabajo de manualmente escribir el vector de posición para $t=0$ hacer otro tanto para expresar lo mismo en formato matricial.\n",
    "Hay una función de `SymPy.physics.mechanics` que convierte el vector a este formato."
   ]
  },
  {
   "cell_type": "code",
   "execution_count": 9,
   "id": "fd2831df-3c29-4eb9-9201-de9b8ffe49a0",
   "metadata": {},
   "outputs": [
    {
     "data": {
      "text/latex": [
       "$\\displaystyle \\left[\\begin{matrix}\\ell\\\\d\\\\0\\end{matrix}\\right]$"
      ],
      "text/plain": [
       "⎡\\ell⎤\n",
       "⎢    ⎥\n",
       "⎢ d  ⎥\n",
       "⎢    ⎥\n",
       "⎣ 0  ⎦"
      ]
     },
     "execution_count": 9,
     "metadata": {},
     "output_type": "execute_result"
    }
   ],
   "source": [
    "m_r.to_matrix(N)"
   ]
  },
  {
   "cell_type": "markdown",
   "id": "86393715-2f38-4937-9e73-d9a60861a468",
   "metadata": {},
   "source": [
    "De igual forma hay una función de SymPy para evitarnos el trabajo de escribir manualmente la matriz de rotación.\n",
    "\n",
    "**¡Ojo!** SymPy toma de referencia el sistema destino, así que debemos indicar una rotación en sentido contrario al de la rotación de la pieza."
   ]
  },
  {
   "cell_type": "code",
   "execution_count": 13,
   "id": "d2ca003f-d46f-4a35-b1a0-8291e889906b",
   "metadata": {},
   "outputs": [
    {
     "data": {
      "text/latex": [
       "$\\displaystyle \\left[\\begin{matrix}\\cos{\\left(\\omega t \\right)} & - \\sin{\\left(\\omega t \\right)} & 0\\\\\\sin{\\left(\\omega t \\right)} & \\cos{\\left(\\omega t \\right)} & 0\\\\0 & 0 & 1\\end{matrix}\\right]$"
      ],
      "text/plain": [
       "⎡cos(\\omega⋅t)  -sin(\\omega⋅t)  0⎤\n",
       "⎢                                ⎥\n",
       "⎢sin(\\omega⋅t)  cos(\\omega⋅t)   0⎥\n",
       "⎢                                ⎥\n",
       "⎣      0              0         1⎦"
      ]
     },
     "execution_count": 13,
     "metadata": {},
     "output_type": "execute_result"
    }
   ],
   "source": [
    "sym.rot_axis3(- omega* t) # existen las variantes con los ejes 1 y 2"
   ]
  },
  {
   "cell_type": "markdown",
   "id": "206c1e52-126f-4257-a9ea-d9ba30e26e08",
   "metadata": {},
   "source": [
    "Por lo que el procedimiento de rotar el vector original podía realizarse en una línea usando estas funciones."
   ]
  },
  {
   "cell_type": "code",
   "execution_count": 15,
   "id": "3c0a148f-02ed-448b-a23d-f8ec1f4a1f3f",
   "metadata": {},
   "outputs": [
    {
     "data": {
      "text/latex": [
       "$\\displaystyle \\left[\\begin{matrix}\\ell \\cos{\\left(\\omega t \\right)} - d \\sin{\\left(\\omega t \\right)}\\\\\\ell \\sin{\\left(\\omega t \\right)} + d \\cos{\\left(\\omega t \\right)}\\\\0\\end{matrix}\\right]$"
      ],
      "text/plain": [
       "⎡\\ell⋅cos(\\omega⋅t) - d⋅sin(\\omega⋅t)⎤\n",
       "⎢                                    ⎥\n",
       "⎢\\ell⋅sin(\\omega⋅t) + d⋅cos(\\omega⋅t)⎥\n",
       "⎢                                    ⎥\n",
       "⎣                 0                  ⎦"
      ]
     },
     "execution_count": 15,
     "metadata": {},
     "output_type": "execute_result"
    }
   ],
   "source": [
    "rotada = sym.rot_axis3(- omega* t)* m_r.to_matrix(N)\n",
    "rotada"
   ]
  },
  {
   "cell_type": "markdown",
   "id": "94ed5e88-e033-49f3-ad2a-42e12165dac7",
   "metadata": {},
   "source": [
    "Y si bien existe una función que lleva de notación vectorial a matricial, el camino inverso se realiza en forma manual multiplicando cada componente por el correspondiente versor en el sistema de referencia elegido."
   ]
  },
  {
   "cell_type": "code",
   "execution_count": 16,
   "id": "9a642034-4d86-48e8-acee-898a44d33a74",
   "metadata": {},
   "outputs": [
    {
     "data": {
      "image/png": "[encoded data removed]",
      "text/latex": [
       "$\\displaystyle (\\ell \\cos{\\left(\\omega t \\right)} - d \\sin{\\left(\\omega t \\right)})\\mathbf{\\hat{n}_x} + (\\ell \\sin{\\left(\\omega t \\right)} + d \\cos{\\left(\\omega t \\right)})\\mathbf{\\hat{n}_y}$"
      ],
      "text/plain": [
       "(\\ell⋅cos(\\omega⋅t) - d⋅sin(\\omega⋅t)) n_x + (\\ell⋅sin(\\omega⋅t) + d⋅cos(\\omeg\n",
       "a⋅t)) n_y"
      ]
     },
     "execution_count": 16,
     "metadata": {},
     "output_type": "execute_result"
    }
   ],
   "source": [
    "rotada_vector = rotada[0]* N.x+ rotada[1]* N.y+ rotada[2]* N.z\n",
    "rotada_vector"
   ]
  },
  {
   "cell_type": "markdown",
   "id": "1199feca",
   "metadata": {},
   "source": [
    "Arribándose al mismo resultado que con la otra opción."
   ]
  }
 ],
 "metadata": {
  "kernelspec": {
   "display_name": "Python 3 (ipykernel)",
   "language": "python",
   "name": "python3"
  },
  "language_info": {
   "codemirror_mode": {
    "name": "ipython",
    "version": 3
   },
   "file_extension": ".py",
   "mimetype": "text/x-python",
   "name": "python",
   "nbconvert_exporter": "python",
   "pygments_lexer": "ipython3",
   "version": "3.11.2"
  }
 },
 "nbformat": 4,
 "nbformat_minor": 5
}
