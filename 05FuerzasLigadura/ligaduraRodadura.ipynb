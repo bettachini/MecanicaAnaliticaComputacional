{
 "cells": [
  {
   "cell_type": "markdown",
   "metadata": {},
   "source": [
    "# Fuerzas de ligadura | Rodadura\n",
    "© 2020 Víctor A. Bettachini  \n",
    "Mecánica General  \n",
    "Departamento de Ingeniería e Investigación Tecnológica  \n",
    "Universidad Nacional de La Matanza   \n",
    "![](ambos.png \"UNLaM | DIIT\")  \n",
    "\n",
    "---"
   ]
  },
  {
   "cell_type": "markdown",
   "metadata": {},
   "source": [
    "## Enunciado\n",
    "**Cilindro que rueda por un plano inclinado**\n",
    "[Marion (e) ex. 7.5]\n",
    "\n",
    "La figura muestra un cilíndro rodando cuesta abajo en un plano inclinado.\n",
    "\n",
    "![](marion_fig6_7.png \"Rodadura de un cilíndro bajando en un plano inclinado\")\n",
    "\n",
    "1. Encuentre las ecuaciones de movimiento, \n",
    "2. la aceleración angular,\n",
    "3. y la fuerzas de ligadura."
   ]
  },
  {
   "cell_type": "markdown",
   "metadata": {},
   "source": [
    "## Resolución\n",
    "Si bien la ventaja de la formulación Lagrangiana es el evitar tener que pensar en las fuerzas de ligadura para centrarse en obtener la dinámica, usualmente desde el punto de vista ingenieríl estas fuerzas son un interrogante de la etapa de diseño."
   ]
  },
  {
   "cell_type": "markdown",
   "metadata": {},
   "source": [
    "### Ligaduras\n",
    "La condición de rodadura puede escribirse\n",
    "\n",
    "$$\n",
    "f(y,\\theta) = y - R \\theta = 0,\n",
    "$$\n",
    "donde $\\hat{y}$ apunta en la dirección de descenso."
   ]
  },
  {
   "cell_type": "markdown",
   "metadata": {},
   "source": [
    "### Lagrangiano\n",
    "Como rueda sobre su eje no hay que olvidar su momento de inercia $I= M R^2$ a la hora de escribir la energía cinética\n",
    "\n",
    "$$\n",
    "T = \\frac{M}{2} \\dot{y}^2 + \\frac{I}{2} \\dot{\\theta}^2 = \\frac{M}{2} \\left( \\dot{y}^2+ \\frac{1}{2} R^2 \\dot{\\theta}^2 \\right).\n",
    "$$\n",
    "La energía potencial solo depende del campo gravitatorio\n",
    "\n",
    "$$\n",
    "V = M g (l - y ) \\sin(\\alpha),\n",
    "$$\n",
    "donde se toma el cero de potencial en la base y $l$ es la longitud de la superficie inclinada.\n",
    "Se obtiene entonces\n",
    "\n",
    "$$\n",
    "L(y, \\dot{y}, \\dot{\\theta}) = \\frac{M}{2} \\left( \\dot{y}^2+ \\frac{1}{2} R^2 \\dot{\\theta}^2 \\right) - M g (l - y ) \\sin(\\alpha).\n",
    "$$"
   ]
  },
  {
   "cell_type": "markdown",
   "metadata": {},
   "source": [
    "### Euler-Lagrange con multiplicadores\n",
    "Como interesa obtener las fuerza de ligadura no se utiliza la relación de restricción $f(y,\\theta)$ para reducir los grados de libertad a uno solo, sino que se plantea\n",
    "\n",
    "$$\n",
    "\\left\\{\n",
    "  \\begin{array}{l} \n",
    "    \\frac{\\partial}{\\partial y} L\n",
    "    - \\frac{\\mathrm{d}}{\\mathrm{d} t} \\frac{\\partial}{\\partial \\dot{y}} L\n",
    "    - \\lambda \\frac{\\partial}{\\partial y} f = 0\\\\\n",
    "    \\frac{\\partial}{\\partial \\theta} L\n",
    "    - \\frac{\\mathrm{d}}{\\mathrm{d} t} \\frac{\\partial}{\\partial \\dot{\\theta}} L\n",
    "    - \\lambda \\frac{\\partial}{\\partial \\theta} f = 0\n",
    "  \\end{array}\n",
    "\\right. ,\n",
    "$$\n",
    "que resultan en\n",
    "\n",
    "$$\n",
    "\\left\\{\n",
    "  \\begin{array}{l} \n",
    "    M g \\sin(\\alpha)\n",
    "    - M \\ddot{y}\n",
    "    - \\lambda = 0\\\\\n",
    "    - \\frac{1}{2} M R^2 \\ddot{\\theta}\n",
    "    + \\lambda R = 0\n",
    "  \\end{array}\n",
    "\\right. .\n",
    "$$"
   ]
  },
  {
   "cell_type": "markdown",
   "metadata": {},
   "source": [
    "### Fuerzas generalizadas\n",
    "Del sistema de ecuaciones de Euler-Lagrange habría que obtener el valor de $\\lambda$.\n",
    "Pero habiendo tres incógnitas: $\\lambda, \\ddot{y}$ y $\\ddot{\\theta}$ con dos ecuaciones esto no es posible.\n",
    "Una 3.er ecuación involucrando estas variables se obtiene diferenciando la función de restricción de ligadura dos veces\n",
    "\n",
    "$$\n",
    "\\begin{aligned}\n",
    "f(y,\\theta) &= y - R \\theta = 0,\\\\\n",
    "\\frac{\\mathrm{d^2}}{\\mathrm{d} t^2} f(y,\\theta) &=  \\ddot{y} - R \\ddot{\\theta} =0 \\implies \\ddot{y} = R \\ddot{\\theta} .\n",
    "\\end{aligned}\n",
    "$$\n",
    "Con esto se elimina una incógnita en el sistema\n",
    "\n",
    "$$\n",
    "\\left\\{\n",
    "  \\begin{array}{l} \n",
    "    M g \\sin(\\alpha)\n",
    "    - M \\ddot{y}\n",
    "    - \\lambda = 0\\\\\n",
    "    - \\frac{1}{2} M R \\ddot{y}\n",
    "    + \\lambda R = 0\n",
    "  \\end{array}\n",
    "\\right. ,\n",
    "$$\n",
    "del cuál puede obtenerse\n",
    "\n",
    "$$\n",
    "\\lambda = - \\frac{1}{3} M g \\sin(\\alpha),\n",
    "$$\n",
    "y con este multiplicador de Lagrange se obtienen las fuerzas generalizadas de ligadura\n",
    "\n",
    "\n",
    "$$\n",
    "\\left\\{\n",
    "  \\begin{array}{l} \n",
    "    Q_y = \\lambda \\frac{\\partial}{\\partial y} f = \\lambda = - \\frac{1}{3} M g \\sin(\\alpha)\\\\\n",
    "    Q_\\theta = \\lambda \\frac{\\partial}{\\partial \\theta} f = - \\lambda R = \\frac{1}{3} M g R \\sin(\\alpha)\n",
    "  \\end{array}\n",
    "\\right. ,\n",
    "$$\n",
    "\n",
    "la primera es la fuerza aplicada en el centro de masa del cilindro en la dirección $\\hat{y}$, y la segunda es el correspondiente torque."
   ]
  },
  {
   "cell_type": "markdown",
   "metadata": {},
   "source": [
    "## Ecuaciones de la dinámica\n",
    "Basta con reemplazar el multiplicador $\\lambda$ en el sistema de ecuaciones de Euler-Lagrange para describir la dinámica en función de cualquiera de las coordenadas alternativas\n",
    "\n",
    "$$\n",
    "\\left\\{\n",
    "  \\begin{array}{l} \n",
    "    \\ddot{y} = - g \\sin(\\alpha) (\\frac{1}{3} - 1)= \\frac{2}{3} g \\sin(\\alpha) \\\\\n",
    "    \\ddot{\\theta} = \\frac{2}{3} \\frac{g}{R} \\sin(\\alpha)\n",
    "  \\end{array}\n",
    "\\right. .\n",
    "$$"
   ]
  },
  {
   "cell_type": "code",
   "execution_count": null,
   "metadata": {},
   "outputs": [],
   "source": []
  }
 ],
 "metadata": {
  "kernelspec": {
   "display_name": "Python 3",
   "language": "python",
   "name": "python3"
  },
  "language_info": {
   "codemirror_mode": {
    "name": "ipython",
    "version": 3
   },
   "file_extension": ".py",
   "mimetype": "text/x-python",
   "name": "python",
   "nbconvert_exporter": "python",
   "pygments_lexer": "ipython3",
   "version": "3.7.3"
  }
 },
 "nbformat": 4,
 "nbformat_minor": 4
}
