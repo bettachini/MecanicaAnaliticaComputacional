{
 "cells": [
  {
   "cell_type": "markdown",
   "metadata": {},
   "source": [
    "# Fuerzas de ligadura | Péndulo rígido ideal\n",
    "© 2020 Víctor A. Bettachini  \n",
    "Mecánica General  \n",
    "Departamento de Ingeniería e Investigación Tecnológica  \n",
    "Universidad Nacional de La Matanza   \n",
    "![](ambos.png \"UNLaM | DIIT\")  \n",
    "\n",
    "---"
   ]
  },
  {
   "cell_type": "markdown",
   "metadata": {},
   "source": [
    "# Enunciado \n",
    "Calcule la tensión de la cuerda con el método de multiplicadores de Lagrange.\n",
    "La restricción es que la pesa se mantiene siempre en \\\\(\\vec{r} = l \\hat{\\rho}\\\\), ergo la función que expresa esto es \\\\(f(\\rho) = \\rho - l = 0\\\\).\n",
    "\n",
    "![](marion_fig7_1.png)"
   ]
  },
  {
   "cell_type": "markdown",
   "metadata": {},
   "source": [
    "## Resolución"
   ]
  },
  {
   "cell_type": "code",
   "execution_count": 1,
   "metadata": {},
   "outputs": [],
   "source": [
    "# módulo de cálculo simbólico\n",
    "import sympy as sym\n",
    "import sympy.physics.mechanics as mech\n",
    "mech.init_vprinting() # notación con puntos para derivadas temporales"
   ]
  },
  {
   "cell_type": "markdown",
   "metadata": {},
   "source": [
    "### Variables"
   ]
  },
  {
   "cell_type": "code",
   "execution_count": 2,
   "metadata": {},
   "outputs": [],
   "source": [
    "# Defino los parámetros físicos del sistema\n",
    "m, g, l = sym.symbols('m, g, l', positive=True)\n",
    "\n",
    "# Defino coordenadas generalizadas \n",
    "t = sym.symbols('t') # tiempo\n",
    "rho = sym.Function('rho')(t)\n",
    "theta = sym.Function('theta')(t)"
   ]
  },
  {
   "cell_type": "markdown",
   "metadata": {},
   "source": [
    "### Ligaduras"
   ]
  },
  {
   "cell_type": "code",
   "execution_count": 3,
   "metadata": {},
   "outputs": [
    {
     "data": {
      "image/png": "[encoded data removed]",
      "text/latex": [
       "$\\displaystyle \\operatorname{f_1}\\left(\\rho\\right) = - l + \\rho$"
      ],
      "text/plain": [
       "f₁(ρ) = -l + ρ"
      ]
     },
     "execution_count": 3,
     "metadata": {},
     "output_type": "execute_result"
    }
   ],
   "source": [
    "f1 = rho - l\n",
    "lambda1 = sym.symbols('lambda_1') # Tantos lambda como funciones de ligadura\n",
    "\n",
    "f1_simbolo = sym.Function('f_1')(rho)\n",
    "f1_eq = sym.Eq(f1_simbolo, f1)\n",
    "f1_eq"
   ]
  },
  {
   "cell_type": "markdown",
   "metadata": {},
   "source": [
    "### Energía cinética"
   ]
  },
  {
   "cell_type": "code",
   "execution_count": 4,
   "metadata": {},
   "outputs": [],
   "source": [
    "# Sistema cartesiano\n",
    "N = sym.physics.vector.ReferenceFrame('N') # marco referencial N en coordenadas cartesianas\n",
    "\n",
    "# posiciones\n",
    "m_r = rho* (sym.cos(theta)* (-N.y) + sym.sin(theta)* (N.x)) # recordemos que tomamos y hacia arriba\n",
    "\n",
    "# velocidades\n",
    "m_v = m_r.diff(t,N) # derivada respecto a t en el marco referencial N"
   ]
  },
  {
   "cell_type": "code",
   "execution_count": 5,
   "metadata": {},
   "outputs": [],
   "source": [
    "# velocidades al cuadrado es decir producto punto con si mismo\n",
    "m_v_cuadrado = m_v.dot(m_v)"
   ]
  },
  {
   "cell_type": "code",
   "execution_count": 6,
   "metadata": {},
   "outputs": [
    {
     "data": {
      "image/png": "[encoded data removed]",
      "text/latex": [
       "$\\displaystyle T = \\frac{m \\left(\\rho^{2} \\dot{\\theta}^{2} + \\dot{\\rho}^{2}\\right)}{2}$"
      ],
      "text/plain": [
       "      ⎛ 2  2    2⎞\n",
       "    m⋅⎝ρ ⋅θ̇  + ρ̇ ⎠\n",
       "T = ──────────────\n",
       "          2       "
      ]
     },
     "execution_count": 6,
     "metadata": {},
     "output_type": "execute_result"
    }
   ],
   "source": [
    "unMedio = sym.Rational(1,2) # Rational: fracción de enteros, alternativamente podría haberse usado 0.5 \n",
    "m_T = unMedio* m* m_v_cuadrado\n",
    "T = m_T\n",
    "cineticaSimbolo = sym.Symbol('T')\n",
    "sym.Eq(cineticaSimbolo, T.simplify() ) # simplify: simplifica usando factor común y otras operaciones"
   ]
  },
  {
   "cell_type": "markdown",
   "metadata": {},
   "source": [
    "### Energía potencial"
   ]
  },
  {
   "cell_type": "markdown",
   "metadata": {},
   "source": [
    "Como vimos, estableciendo la usual $V(y_0=0)=0$ nos queda\n",
    "$$\n",
    "V_i= m_i g y_i.\n",
    "$$\n",
    "\n",
    "Solo nos ocupa tener la componente en $\\hat{y}$ de la pesa de $m_2$.\n",
    "Esto se obtiene de multiplicar (producto punto) su posición $\\vec{r}_2$ con el versor $\\hat{y}$."
   ]
  },
  {
   "cell_type": "code",
   "execution_count": 7,
   "metadata": {},
   "outputs": [],
   "source": [
    "m_y = m_r.dot(N.y)"
   ]
  },
  {
   "cell_type": "code",
   "execution_count": 8,
   "metadata": {},
   "outputs": [
    {
     "data": {
      "image/png": "[encoded data removed]",
      "text/latex": [
       "$\\displaystyle V = - g m \\rho \\operatorname{cos}\\left(\\theta\\right)$"
      ],
      "text/plain": [
       "V = -g⋅m⋅ρ⋅cos(θ)"
      ]
     },
     "execution_count": 8,
     "metadata": {},
     "output_type": "execute_result"
    }
   ],
   "source": [
    "# Energía potencial\n",
    "m_V = m* g* (m_y)\n",
    "V = m_V\n",
    "potencialSimbolo = sym.Symbol('V')\n",
    "sym.Eq(potencialSimbolo, V.simplify() )"
   ]
  },
  {
   "cell_type": "markdown",
   "metadata": {},
   "source": [
    "### Lagrangiano"
   ]
  },
  {
   "cell_type": "code",
   "execution_count": 9,
   "metadata": {},
   "outputs": [
    {
     "data": {
      "image/png": "[encoded data removed]",
      "text/latex": [
       "$\\displaystyle \\mathcal{L} = \\frac{m \\left(2 g \\rho \\operatorname{cos}\\left(\\theta\\right) + \\rho^{2} \\dot{\\theta}^{2} + \\dot{\\rho}^{2}\\right)}{2}$"
      ],
      "text/plain": [
       "                ⎛                2  2    2⎞\n",
       "              m⋅⎝2⋅g⋅ρ⋅cos(θ) + ρ ⋅θ̇  + ρ̇ ⎠\n",
       "\\mathcal{L} = ─────────────────────────────\n",
       "                            2              "
      ]
     },
     "execution_count": 9,
     "metadata": {},
     "output_type": "execute_result"
    }
   ],
   "source": [
    "lagrangianoSimbolo = sym.Symbol('\\mathcal{L}')\n",
    "L = T-V\n",
    "sym.Eq(lagrangianoSimbolo, L.simplify())"
   ]
  },
  {
   "cell_type": "markdown",
   "metadata": {},
   "source": [
    "### Ecuaciones de Euler-Lagrange"
   ]
  },
  {
   "cell_type": "markdown",
   "metadata": {},
   "source": [
    "Las fuerzas generalizadas causadas por un potencial:\n",
    "\n",
    "$$\n",
    "\\frac{\\partial}{\\partial q_i} \\mathcal{L} .\n",
    "$$"
   ]
  },
  {
   "cell_type": "code",
   "execution_count": 10,
   "metadata": {},
   "outputs": [],
   "source": [
    "theta_dq = L.diff(theta)\n",
    "rho_dq = L.diff(rho)"
   ]
  },
  {
   "cell_type": "markdown",
   "metadata": {},
   "source": [
    "El simíl masa por aceleración, la derivada en el tiempo de los $p_i$:\n",
    "\n",
    "$$\n",
    "\\frac{\\mathrm{d}}{\\mathrm{d}t} \\frac{\\partial}{\\partial \\dot{q_i}} \\mathcal{L} .\n",
    "$$"
   ]
  },
  {
   "cell_type": "code",
   "execution_count": 11,
   "metadata": {},
   "outputs": [],
   "source": [
    "theta_dtdp = L.diff(theta.diff(t)).diff(t)\n",
    "rho_dtdp = L.diff(rho.diff(t)).diff(t)"
   ]
  },
  {
   "cell_type": "markdown",
   "metadata": {},
   "source": [
    "Las fuerzas generalizadas de ligadura:\n",
    "\n",
    "$$\n",
    "Q_i = \\sum_j \\lambda_j(t) \\frac{\\partial}{\\partial q_i} f_j .\n",
    "$$"
   ]
  },
  {
   "cell_type": "code",
   "execution_count": 12,
   "metadata": {},
   "outputs": [],
   "source": [
    "theta_Q = lambda1* f1.diff(theta)\n",
    "rho_Q = lambda1* f1.diff(rho)"
   ]
  },
  {
   "cell_type": "markdown",
   "metadata": {},
   "source": [
    "Con lo anterior pueden escribirse las ecuaciones de Euler-Lagrange:\n",
    "\n",
    "$$\n",
    "\\frac{\\partial}{\\partial q_i} \\mathcal{L} - \\frac{\\mathrm{d}}{\\mathrm{d} t} \\frac{\\partial}{\\partial \\dot{q_i}} \\mathcal{L} - \\sum_j \\lambda_j(t) \\frac{\\partial}{\\partial q_i} f_j = 0 .\n",
    "$$"
   ]
  },
  {
   "cell_type": "code",
   "execution_count": 13,
   "metadata": {},
   "outputs": [
    {
     "data": {
      "image/png": "[encoded data removed]",
      "text/latex": [
       "$\\displaystyle m \\left(g \\operatorname{sin}\\left(\\theta\\right) + \\rho \\ddot{\\theta} + 2 \\dot{\\rho} \\dot{\\theta}\\right) \\rho = 0$"
      ],
      "text/plain": [
       "m⋅(g⋅sin(θ) + ρ⋅θ̈ + 2⋅ρ̇⋅θ̇)⋅ρ = 0"
      ]
     },
     "execution_count": 13,
     "metadata": {},
     "output_type": "execute_result"
    }
   ],
   "source": [
    "theta_EL = sym.Eq(theta_dq - theta_dtdp - theta_Q, 0) # ecuación igualando a cero\n",
    "theta_EL.simplify()"
   ]
  },
  {
   "cell_type": "code",
   "execution_count": 14,
   "metadata": {},
   "outputs": [
    {
     "data": {
      "image/png": "[encoded data removed]",
      "text/latex": [
       "$\\displaystyle g m \\operatorname{cos}\\left(\\theta\\right) - \\lambda_{1} + m \\rho \\dot{\\theta}^{2} - m \\ddot{\\rho} = 0$"
      ],
      "text/plain": [
       "                       2          \n",
       "g⋅m⋅cos(θ) - λ₁ + m⋅ρ⋅θ̇  - m⋅ρ̈ = 0"
      ]
     },
     "execution_count": 14,
     "metadata": {},
     "output_type": "execute_result"
    }
   ],
   "source": [
    "rho_EL = sym.Eq(rho_dq - rho_dtdp - rho_Q, 0) # ecuación igualando a cero\n",
    "rho_EL.simplify()"
   ]
  },
  {
   "cell_type": "markdown",
   "metadata": {},
   "source": [
    "### Aplicación de la función de ligadura"
   ]
  },
  {
   "cell_type": "markdown",
   "metadata": {},
   "source": [
    "Debe aplicarse ahora la función de restricción de la ligadura.\n",
    "No solo hay que substituir en las ecuaciones de Euler-Lagrange el que"
   ]
  },
  {
   "cell_type": "code",
   "execution_count": 15,
   "metadata": {},
   "outputs": [
    {
     "data": {
      "image/png": "[encoded data removed]",
      "text/latex": [
       "$\\displaystyle \\rho = l$"
      ],
      "text/plain": [
       "ρ = l"
      ]
     },
     "execution_count": 15,
     "metadata": {},
     "output_type": "execute_result"
    }
   ],
   "source": [
    "rho_f1 = sym.solve(f1, rho)[0]\n",
    "sym.Eq(rho, rho_f1)"
   ]
  },
  {
   "cell_type": "markdown",
   "metadata": {},
   "source": [
    "También se puede establere que la derivada primera y segunda con el tiempo de la función de restricción de la ligadura:"
   ]
  },
  {
   "cell_type": "code",
   "execution_count": 16,
   "metadata": {},
   "outputs": [
    {
     "data": {
      "image/png": "[encoded data removed]",
      "text/latex": [
       "$\\displaystyle \\dot{\\rho} = 0$"
      ],
      "text/plain": [
       "ρ̇ = 0"
      ]
     },
     "execution_count": 16,
     "metadata": {},
     "output_type": "execute_result"
    }
   ],
   "source": [
    "sym.Eq(f1.diff(t), 0)"
   ]
  },
  {
   "cell_type": "code",
   "execution_count": 17,
   "metadata": {},
   "outputs": [
    {
     "data": {
      "image/png": "[encoded data removed]",
      "text/latex": [
       "$\\displaystyle \\ddot{\\rho} = 0$"
      ],
      "text/plain": [
       "ρ̈ = 0"
      ]
     },
     "execution_count": 17,
     "metadata": {},
     "output_type": "execute_result"
    }
   ],
   "source": [
    "sym.Eq(f1.diff(t,2), 0)"
   ]
  },
  {
   "cell_type": "markdown",
   "metadata": {},
   "source": [
    "Se substituyen tales valores en la ecuaciones de Euler-Lagrange."
   ]
  },
  {
   "cell_type": "code",
   "execution_count": 18,
   "metadata": {},
   "outputs": [],
   "source": [
    "f1_subs = {\n",
    "    rho : rho_f1,\n",
    "    rho.diff(t): rho_f1.diff(t),\n",
    "    rho.diff(t): rho_f1.diff(t,2)\n",
    "}"
   ]
  },
  {
   "cell_type": "code",
   "execution_count": 19,
   "metadata": {},
   "outputs": [
    {
     "data": {
      "image/png": "[encoded data removed]",
      "text/latex": [
       "$\\displaystyle l m \\left(g \\operatorname{sin}\\left(\\theta\\right) + l \\ddot{\\theta}\\right) = 0$"
      ],
      "text/plain": [
       "l⋅m⋅(g⋅sin(θ) + l⋅θ̈) = 0"
      ]
     },
     "execution_count": 19,
     "metadata": {},
     "output_type": "execute_result"
    }
   ],
   "source": [
    "theta_EL_subs = theta_EL.subs(f1_subs).simplify()\n",
    "theta_EL_subs"
   ]
  },
  {
   "cell_type": "code",
   "execution_count": 20,
   "metadata": {},
   "outputs": [
    {
     "data": {
      "image/png": "[encoded data removed]",
      "text/latex": [
       "$\\displaystyle g m \\operatorname{cos}\\left(\\theta\\right) + l m \\dot{\\theta}^{2} - \\lambda_{1} = 0$"
      ],
      "text/plain": [
       "                  2         \n",
       "g⋅m⋅cos(θ) + l⋅m⋅θ̇  - λ₁ = 0"
      ]
     },
     "execution_count": 20,
     "metadata": {},
     "output_type": "execute_result"
    }
   ],
   "source": [
    "rho_EL_subs = rho_EL.subs(f1_subs).simplify()\n",
    "rho_EL_subs"
   ]
  },
  {
   "cell_type": "markdown",
   "metadata": {},
   "source": [
    "De la primera se obtiene la ecuación de la dinámica para $\\theta$:"
   ]
  },
  {
   "cell_type": "code",
   "execution_count": 21,
   "metadata": {},
   "outputs": [
    {
     "data": {
      "image/png": "[encoded data removed]",
      "text/latex": [
       "$\\displaystyle \\ddot{\\theta} = - \\frac{g \\operatorname{sin}\\left(\\theta\\right)}{l}$"
      ],
      "text/plain": [
       "    -g⋅sin(θ) \n",
       "θ̈ = ──────────\n",
       "        l     "
      ]
     },
     "execution_count": 21,
     "metadata": {},
     "output_type": "execute_result"
    }
   ],
   "source": [
    "theta_pp = sym.solve(theta_EL_subs, theta.diff(t,2) )[0]\n",
    "sym.Eq(theta.diff(t,2), theta_pp)"
   ]
  },
  {
   "cell_type": "markdown",
   "metadata": {},
   "source": [
    "De la segunda se obtiene una función para $\\lambda_1$"
   ]
  },
  {
   "cell_type": "code",
   "execution_count": 22,
   "metadata": {},
   "outputs": [
    {
     "data": {
      "image/png": "[encoded data removed]",
      "text/latex": [
       "$\\displaystyle \\lambda_{1} = m \\left(g \\operatorname{cos}\\left(\\theta\\right) + l \\dot{\\theta}^{2}\\right)$"
      ],
      "text/plain": [
       "       ⎛              2⎞\n",
       "λ₁ = m⋅⎝g⋅cos(θ) + l⋅θ̇ ⎠"
      ]
     },
     "execution_count": 22,
     "metadata": {},
     "output_type": "execute_result"
    }
   ],
   "source": [
    "lambda1_funcion = sym.solve(rho_EL_subs, lambda1 )[0]\n",
    "sym.Eq(lambda1, lambda1_funcion)"
   ]
  },
  {
   "cell_type": "markdown",
   "metadata": {},
   "source": [
    "Como en este caso\n",
    "\n",
    "$$\n",
    "Q_\\rho= \\lambda_1(t) \\frac{\\partial}{\\partial q_\\rho} f_1 = \\lambda_1(t),\n",
    "$$\n",
    "la expresión para la fuerza de ligadura que realiza la cuerda del péndulo, su tensión, es:"
   ]
  },
  {
   "cell_type": "code",
   "execution_count": 23,
   "metadata": {},
   "outputs": [
    {
     "data": {
      "image/png": "[encoded data removed]",
      "text/latex": [
       "$\\displaystyle Q_{\\rho} = m \\left(g \\operatorname{cos}\\left(\\theta\\right) + l \\dot{\\theta}^{2}\\right)$"
      ],
      "text/plain": [
       "       ⎛              2⎞\n",
       "Qᵨ = m⋅⎝g⋅cos(θ) + l⋅θ̇ ⎠"
      ]
     },
     "execution_count": 23,
     "metadata": {},
     "output_type": "execute_result"
    }
   ],
   "source": [
    "rho_Q_simbolo = sym.Symbol('Q_rho')\n",
    "sym.Eq(rho_Q_simbolo, lambda1_funcion)"
   ]
  }
 ],
 "metadata": {
  "kernelspec": {
   "display_name": "Python 3",
   "language": "python",
   "name": "python3"
  },
  "language_info": {
   "codemirror_mode": {
    "name": "ipython",
    "version": 3
   },
   "file_extension": ".py",
   "mimetype": "text/x-python",
   "name": "python",
   "nbconvert_exporter": "python",
   "pygments_lexer": "ipython3",
   "version": "3.7.3"
  }
 },
 "nbformat": 4,
 "nbformat_minor": 4
}
