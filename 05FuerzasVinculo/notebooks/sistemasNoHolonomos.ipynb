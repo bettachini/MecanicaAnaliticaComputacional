{
 "cells": [
  {
   "cell_type": "markdown",
   "metadata": {},
   "source": [
    "# Fuerzas de vínculo | Sistemas no holónomos\n",
    "© 2020 Víctor A. Bettachini  \n",
    "Mecánica General  \n",
    "Departamento de Ingeniería e Investigación Tecnológica  \n",
    "Universidad Nacional de La Matanza   \n",
    "![](ambos.png \"UNLaM | DIIT\")  \n",
    "\n",
    "---"
   ]
  },
  {
   "cell_type": "markdown",
   "metadata": {},
   "source": [
    "## Sistemas no holónomos\n",
    "A veces la formulación de las ecuaciones de Euler-Lagrange con multiplicadores es la única forma de usar el conocimiento que tenemos de los vínculos.\n",
    "\n",
    "Los **vínculos holónomos** son lo que son función solo de las coordenadas generalizadas\n",
    "\n",
    "$$\n",
    "f(q_1, q_2,\\dots,q_n)=0,\n",
    "$$\n",
    "y son los que estamos habituados a utilizar, y son sencillos de diferenciar\n",
    "\n",
    "$$\n",
    "\\frac{\\partial}{\\partial q_1} f \\mathrm{d}q_1 + \\frac{\\partial}{\\partial q_2} f \\mathrm{d}q_2 + \\dots + \\frac{\\partial}{\\partial q_n} f \\mathrm{d}q_n= 0.\n",
    "$$\n",
    "\n",
    "Pero en algunas ocasiones la condición solo puede expresarse en función de solo de diferenciales $\\mathrm{d}q_n$.\n",
    "\n",
    "$$\n",
    "A_1(q_1,\\dots,q_n) \\mathrm{d}q_1 + \\dots + A_n(q_1,\\dots,q_n) \\mathrm{d}q_n= 0,\n",
    "$$\n",
    "Estas relaciones son las que constituyen generalmente vínculos o condiciones **no holónomos**.\n",
    "\n",
    "Un ejemplo de este tipo de condición es un vínculo que incluye velocidades, cuya forma más general se escribe\n",
    "\n",
    "$$\n",
    "f(q_i, \\dot{q}_i, t)= 0,\n",
    "$$\n",
    "pues incluye las formas diferenciales $\\frac{\\mathrm{d}q_n}{\\mathrm{d} t}$.\n",
    "\n",
    "En contadas condiciones de integración podemos recuperar una $f(q_i,t)=0$ (excepto si el número de grados de libertad es $n=2$ en cuyo caso es siempre integrable), y verificar que en realidad se trata de un vínculo holónomo.\n",
    "Un ejemplo es la forma\n",
    "\n",
    "$$\n",
    "\\sum_i A_i \\dot{x}_i + B = 0,\n",
    "$$\n",
    "si $A_i = \\frac{\\partial}{\\partial x_i} f$ y $B = \\frac{\\partial}{\\partial t} f$ con $f=f(x_i, t)$, que puede escribirse\n",
    "\n",
    "$$\n",
    "\\sum_i \\frac{\\partial}{\\partial x_i} f \\frac{\\mathrm{d}}{\\mathrm{d} t} x_i + \\frac{\\partial}{\\partial t} f = 0,\n",
    "$$\n",
    "pues esto es precisamente la derivada total respecto al tiempo $\\frac{\\mathrm{d}}{\\mathrm{d} t} f$,\n",
    "que puede integrarse para dar una\n",
    "\n",
    "$$\n",
    "f(x_i,t) - \\text{constante} = 0,\n",
    "$$\n",
    "mostrando así que es holónoma.\n",
    "\n",
    "Pero si la relación o vínculo está escrita en forma diferencial en vez de una relación algebráica podemos incorporarla directamente en la formulación con multiplicadores de Lagrange, sin tener que hacer ninguna integración previa, si tal relación se puede escribir como\n",
    "\n",
    "$$\n",
    "\\sum_k \\frac{\\partial}{\\partial q_i} f_k \\mathrm{d}q_i = 0,\n",
    "$$\n",
    "las derivadas son la que sirven de último término acompañando a los respectivos $\\lambda_k(t)$.\n",
    "Esto funciona inclusive si en la condición en cuestión figura una función explícita del tiempo $\\frac{\\partial}{\\partial t} f_k \\mathrm{d} t$."
   ]
  },
  {
   "cell_type": "code",
   "execution_count": null,
   "metadata": {},
   "outputs": [],
   "source": []
  }
 ],
 "metadata": {
  "kernelspec": {
   "display_name": "Python 3",
   "language": "python",
   "name": "python3"
  },
  "language_info": {
   "codemirror_mode": {
    "name": "ipython",
    "version": 3
   },
   "file_extension": ".py",
   "mimetype": "text/x-python",
   "name": "python",
   "nbconvert_exporter": "python",
   "pygments_lexer": "ipython3",
   "version": "3.7.3"
  }
 },
 "nbformat": 4,
 "nbformat_minor": 4
}
