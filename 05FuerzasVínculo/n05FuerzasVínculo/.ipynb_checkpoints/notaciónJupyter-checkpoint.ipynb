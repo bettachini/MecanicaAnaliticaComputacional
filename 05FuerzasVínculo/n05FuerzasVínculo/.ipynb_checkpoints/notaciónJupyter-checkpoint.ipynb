{
 "cells": [
  {
   "cell_type": "code",
   "execution_count": 1,
   "metadata": {},
   "outputs": [],
   "source": [
    "# biblioteca de cálculo simbólico\n",
    "import sympy as sym\n",
    "import sympy.physics.mechanics as mech\n",
    "mech.init_vprinting() # notación con puntos para derivadas temporales"
   ]
  },
  {
   "cell_type": "markdown",
   "metadata": {},
   "source": [
    "#### Una \"nota\" sobre la \"notación\" (¡cuac!).\n",
    "\n",
    "Los cuadernos (notebook) **Jupyter** permiten utilizar la escritura de expresiones matemáticas en notación $\\LaTeX$.\n",
    "Por ejemplo el símbolo que designa la velocidad angular, la omega del alfabeto griego se puede lograr escribiendo \"\\omega\".\n",
    "Las letras así escritas pueden convertirse en caractéres en formato **unicode** al terminar de escribir la expresión y presionando la tecla \"tabulador\" (no dejar espacios)."
   ]
  },
  {
   "cell_type": "code",
   "execution_count": 3,
   "metadata": {},
   "outputs": [
    {
     "data": {
      "image/png": "[encoded data removed]",
      "text/latex": [
       "$\\displaystyle \\left( r, \\  ω, \\  \\omega, \\  \\dot{r}, \\  \\dot{ω}, \\  \\dot{\\omega}\\right)$"
      ],
      "text/plain": [
       "(r, ω, \\omega, ṙ, ω̇, \\omėga)"
      ]
     },
     "execution_count": 3,
     "metadata": {},
     "output_type": "execute_result"
    }
   ],
   "source": [
    "# Notación punto\n",
    "t = sym.symbols('t') # tiempo\n",
    "r = sym.Function('r')(t)\n",
    "ω = sym.Function('ω')(t) # tipeando <tab> al final de la expresión LaTeX lo convierte a unicode \n",
    "omega = sym.Function('\\omega')(t)\n",
    "r, ω, omega, r.diff(t), ω.diff(t), omega.diff(t)"
   ]
  },
  {
   "cell_type": "code",
   "execution_count": null,
   "metadata": {},
   "outputs": [],
   "source": []
  }
 ],
 "metadata": {
  "kernelspec": {
   "display_name": "Python 3",
   "language": "python",
   "name": "python3"
  },
  "language_info": {
   "codemirror_mode": {
    "name": "ipython",
    "version": 3
   },
   "file_extension": ".py",
   "mimetype": "text/x-python",
   "name": "python",
   "nbconvert_exporter": "python",
   "pygments_lexer": "ipython3",
   "version": "3.7.3"
  }
 },
 "nbformat": 4,
 "nbformat_minor": 4
}
