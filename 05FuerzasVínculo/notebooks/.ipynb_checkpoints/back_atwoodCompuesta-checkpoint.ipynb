{
 "cells": [
  {
   "cell_type": "markdown",
   "metadata": {},
   "source": [
    "# Máquina de Atwood compuesta\n",
    "© 2020\n",
    "Víctor A. Bettachini  \n",
    "Mecánica General  \n",
    "Departamento de Ingeniería e Investigación Tecnológica  \n",
    "Universidad Nacional de La Matanza  "
   ]
  },
  {
   "cell_type": "markdown",
   "metadata": {},
   "source": [
    "## El problema\n",
    "![Máquino de Atwood compuesta por dos poleas](marion7_8.png)\n",
    "\n",
    "Si tomamos la sugerencia de la figura podemos limitarnos a las coordenadas generalizadas indicadas como $x,y$.\n",
    "Pero hacer resolver el sistema de ecuaciones de Euler-Lagrange con estas no nos informa de las fuerzas de vínculo.\n",
    "\n",
    "Para analizar el vínculo de las cuerdas:\n",
    "- Coordenadas generalizadas: las posiciones verticales de las tres masas y de la polea inferior $y_1, y2, y3, y_p$.\n",
    "- Potencial externo: debido a la aceleración gravitatoria.\n",
    "- Vínculos: $$y_1 + y_p + \\pi R = l_1,$$ e $$ y_2 + y_3 + \\pi R = l_2,$$ siendo $R$ el radio de las poleas."
   ]
  },
  {
   "cell_type": "markdown",
   "metadata": {},
   "source": [
    "## Resolución simbólica en el formalismo Lagrangiano"
   ]
  },
  {
   "cell_type": "code",
   "execution_count": 28,
   "metadata": {},
   "outputs": [],
   "source": [
    "# biblioteca de cálculo simbólico\n",
    "import sympy as sym\n",
    "import sympy.physics.mechanics as mech\n",
    "mech.init_vprinting() # notación con puntos para derivadas temporales"
   ]
  },
  {
   "cell_type": "markdown",
   "metadata": {},
   "source": [
    "### Variables"
   ]
  },
  {
   "cell_type": "code",
   "execution_count": 29,
   "metadata": {},
   "outputs": [],
   "source": [
    "# Defino parámetros\n",
    "R, m1, m2, m3, mp, g, l1, l2 = sym.symbols('R, m_1, m_2, m_3, m_p, g, l_1, l_2', positive=True)\n",
    "# Defino coordenadas generalizadas \n",
    "t = sym.symbols('t') # tiempo\n",
    "y1 = sym.Function('y_1')(t)\n",
    "y2 = sym.Function('y_2')(t)\n",
    "y3 = sym.Function('y_3')(t)\n",
    "yp = sym.Function('y_p')(t)\n",
    "r1, r2, r3, rp, lambda1, lambda2 = sym.symbols('r_1, r_2, r_3, r_p, lambda_1, lambda_2')\n",
    "\n",
    "f1 = y1+ yp + sym.pi* R - l1 # vínculo l1 como función homogénea\n",
    "f2 = y2+ y3 + sym.pi* R - l2 # vínculo l2 como función homogénea\n",
    "r1 = y1\n",
    "r2 = yp + y2\n",
    "r3 = yp + y3\n",
    "rp = yp"
   ]
  },
  {
   "cell_type": "markdown",
   "metadata": {},
   "source": [
    "### Energía cinética"
   ]
  },
  {
   "cell_type": "markdown",
   "metadata": {},
   "source": [
    "La energía cinética por la rotación de las poleas las escribiremos en función de las otras coordenadas y no en función de su ángulo de rotación gracias a que $\\dot{\\theta} = \\omega = \\frac{v}{R}$, siendo $v$ la velocidad tangencial que coincide con la de las masas que cuelgan y que $I_\\text{cilíndro} = \\frac{M}{2} R^2$.\n",
    "Así este término para la polea superior sería $\\frac{I}{2} \\dot{\\theta}^2 = \\frac{1}{2} \\frac{M}{2} R^2 \\left( \\frac{\\dot{y}_p}{R} \\right)^2 = \\frac{M}{4} \\dot{y}_1^2$ donde uso la coordenada de la masa izquierda $y_1$ en que $\\dot{\\theta}$ sería positivo."
   ]
  },
  {
   "cell_type": "code",
   "execution_count": 30,
   "metadata": {},
   "outputs": [
    {
     "data": {
      "image/png": "[encoded data removed]",
      "text/latex": [
       "$$\\frac{m_{1} \\dot{y}_{1}^{2}}{2} + \\frac{m_{2} \\left(\\dot{y}_{2} + \\dot{y}_{p}\\right)^{2}}{2} + \\frac{m_{3} \\left(\\dot{y}_{3} + \\dot{y}_{p}\\right)^{2}}{2} + \\frac{m_{p} \\left(\\dot{y}_{2} + \\dot{y}_{p}\\right)^{2}}{4} + \\frac{m_{p} \\dot{y}_{1}^{2}}{4} + \\frac{m_{p} \\dot{y}_{p}^{2}}{2}$$"
      ],
      "text/plain": [
       "      2                 2                 2                 2         2       \n",
       "m₁⋅y₁̇    m₂⋅(y₂̇ + yₚ̇)    m₃⋅(y₃̇ + yₚ̇)    mₚ⋅(y₂̇ + yₚ̇)    mₚ⋅y₁̇    mₚ⋅y\n",
       "─────── + ─────────────── + ─────────────── + ─────────────── + ─────── + ────\n",
       "   2             2                 2                 4             4         2\n",
       "\n",
       "  2\n",
       "ₚ̇ \n",
       "───\n",
       "   "
      ]
     },
     "execution_count": 30,
     "metadata": {},
     "output_type": "execute_result"
    }
   ],
   "source": [
    "# Energía cinética\n",
    "unMedio = sym.Rational(1,2) # Rational: fracción de enteros\n",
    "T = unMedio *( \n",
    "    m1* r1.diff(t)**2 \\\n",
    "  + mp/2* r1.diff(t)**2 \\\n",
    "  + m2* r2.diff(t)**2 \\\n",
    "  + mp/2* r2.diff(t)**2 \\\n",
    "  + m3* r3.diff(t)**2 \\\n",
    "  + mp* rp.diff(t)**2 \\\n",
    "          )\n",
    "T.simplify() # simplify: simplifica usando factor común y otras operaciones"
   ]
  },
  {
   "cell_type": "markdown",
   "metadata": {},
   "source": [
    "### Energía potencial"
   ]
  },
  {
   "cell_type": "code",
   "execution_count": 31,
   "metadata": {},
   "outputs": [
    {
     "data": {
      "image/png": "[encoded data removed]",
      "text/latex": [
       "$$- g \\left(m_{1} y_{1} + m_{2} \\left(y_{2} + y_{p}\\right) + m_{3} \\left(y_{3} + y_{p}\\right) + m_{p} y_{p}\\right)$$"
      ],
      "text/plain": [
       "-g⋅(m₁⋅y₁ + m₂⋅(y₂ + yₚ) + m₃⋅(y₃ + yₚ) + mₚ⋅yₚ)"
      ]
     },
     "execution_count": 31,
     "metadata": {},
     "output_type": "execute_result"
    }
   ],
   "source": [
    "# Energía potencial\n",
    "V = g*( \\\n",
    "         m1* (-r1) \\\n",
    "       + m2* (-r2) \\\n",
    "       + m3* (-r3) \\\n",
    "       + mp* (-rp) \\\n",
    "      )\n",
    "V.simplify()"
   ]
  },
  {
   "cell_type": "markdown",
   "metadata": {},
   "source": [
    "### Lagrangiano\n",
    "$$\n",
    "L(x,\\dot{x}) = T(\\dot{x})- V(x)\n",
    "$$"
   ]
  },
  {
   "cell_type": "code",
   "execution_count": 32,
   "metadata": {},
   "outputs": [
    {
     "data": {
      "image/png": "[encoded data removed]",
      "text/latex": [
       "$$g \\left(m_{1} y_{1} + m_{2} \\left(y_{2} + y_{p}\\right) + m_{3} \\left(y_{3} + y_{p}\\right) + m_{p} y_{p}\\right) + \\frac{m_{1} \\dot{y}_{1}^{2}}{2} + \\frac{m_{2} \\left(\\dot{y}_{2} + \\dot{y}_{p}\\right)^{2}}{2} + \\frac{m_{3} \\left(\\dot{y}_{3} + \\dot{y}_{p}\\right)^{2}}{2} + \\frac{m_{p} \\left(\\dot{y}_{2} + \\dot{y}_{p}\\right)^{2}}{4} + \\frac{m_{p} \\dot{y}_{1}^{2}}{4} + \\frac{m_{p} \\dot{y}_{p}^{2}}{2}$$"
      ],
      "text/plain": [
       "                                                        2                 2   \n",
       "                                                  m₁⋅y₁̇    m₂⋅(y₂̇ + yₚ̇)    \n",
       "g⋅(m₁⋅y₁ + m₂⋅(y₂ + yₚ) + m₃⋅(y₃ + yₚ) + mₚ⋅yₚ) + ─────── + ─────────────── + \n",
       "                                                     2             2          \n",
       "\n",
       "              2                 2         2         2\n",
       "m₃⋅(y₃̇ + yₚ̇)    mₚ⋅(y₂̇ + yₚ̇)    mₚ⋅y₁̇    mₚ⋅yₚ̇ \n",
       "─────────────── + ─────────────── + ─────── + ───────\n",
       "       2                 4             4         2   "
      ]
     },
     "execution_count": 32,
     "metadata": {},
     "output_type": "execute_result"
    }
   ],
   "source": [
    "L = T- V\n",
    "L.simplify()"
   ]
  },
  {
   "cell_type": "markdown",
   "metadata": {},
   "source": [
    "### Ecuaciones de Euler-Lagrange"
   ]
  },
  {
   "cell_type": "markdown",
   "metadata": {},
   "source": [
    "Primero calculamos el que tiene derivada total respecto al tiempo\n",
    "$$\\frac{\\mathrm{d}}{\\mathrm{d}t} \\frac{\\partial}{\\partial \\dot{q_i}} L$$"
   ]
  },
  {
   "cell_type": "code",
   "execution_count": 33,
   "metadata": {},
   "outputs": [
    {
     "data": {
      "image/png": "[encoded data removed]",
      "text/latex": [
       "$$\\left ( m_{1} \\ddot{y}_{1} + \\frac{m_{p} \\ddot{y}_{1}}{2}, \\quad \\frac{\\left(2 m_{2} + m_{p}\\right) \\left(\\ddot{y}_{2} + \\ddot{y}_{p}\\right)}{2}\\right )$$"
      ],
      "text/plain": [
       "⎛         mₚ⋅y₁̈  (2⋅m₂ + mₚ)⋅(y₂̈ + yₚ̈)⎞\n",
       "⎜m₁⋅y₁̈ + ──────, ───────────────────────⎟\n",
       "⎝           2                2           ⎠"
      ]
     },
     "execution_count": 33,
     "metadata": {},
     "output_type": "execute_result"
    }
   ],
   "source": [
    "y1_dt = L.diff(y1.diff(t)).diff(t) # primero deriva con x punto y luego con\n",
    "y2_dt = L.diff(y2.diff(t)).diff(t) # primero deriva con x punto y luego con\n",
    "y3_dt = L.diff(y3.diff(t)).diff(t) # primero deriva con x punto y luego con\n",
    "yp_dt = L.diff(yp.diff(t)).diff(t) # primero deriva con x punto y luego con\n",
    "y1_dt, y2_dt.simplify()"
   ]
  },
  {
   "cell_type": "markdown",
   "metadata": {},
   "source": [
    "Luego el que deriva respecto a la coordenada generalizada\n",
    "$$\n",
    "\\frac{\\partial}{\\partial q_i} L\n",
    "$$"
   ]
  },
  {
   "cell_type": "code",
   "execution_count": 34,
   "metadata": {},
   "outputs": [
    {
     "data": {
      "image/png": "[encoded data removed]",
      "text/latex": [
       "$$g m_{1}$$"
      ],
      "text/plain": [
       "g⋅m₁"
      ]
     },
     "execution_count": 34,
     "metadata": {},
     "output_type": "execute_result"
    }
   ],
   "source": [
    "y1_dq = L.diff(y1)\n",
    "y2_dq = L.diff(y2)\n",
    "y3_dq = L.diff(y3)\n",
    "yp_dq = L.diff(yp)\n",
    "y1_dq"
   ]
  },
  {
   "cell_type": "markdown",
   "metadata": {},
   "source": [
    "Y también hay que obtener los\n",
    "$$\n",
    "\\sum_j \\lambda_j \\frac{\\partial f_j}{\\partial q_i}\n",
    "$$"
   ]
  },
  {
   "cell_type": "code",
   "execution_count": 35,
   "metadata": {},
   "outputs": [
    {
     "data": {
      "image/png": "[encoded data removed]",
      "text/latex": [
       "$$\\lambda_{1}$$"
      ],
      "text/plain": [
       "λ₁"
      ]
     },
     "execution_count": 35,
     "metadata": {},
     "output_type": "execute_result"
    }
   ],
   "source": [
    "y1_lam = lambda1* f1.diff(y1) + lambda2* f2.diff(y1)\n",
    "y2_lam = lambda1* f1.diff(y2) + lambda2* f2.diff(y2)\n",
    "y3_lam = lambda1* f1.diff(y3) + lambda2* f2.diff(y3)\n",
    "yp_lam = lambda1* f1.diff(yp) + lambda2* f2.diff(yp)\n",
    "y1_lam"
   ]
  },
  {
   "cell_type": "markdown",
   "metadata": {},
   "source": [
    "Con ambos se escribe la ecuación homegénea (no hay fuerzas no conservativas)\n",
    "$$\n",
    "\\frac{\\partial}{\\partial q_i} L\n",
    "- \\frac{\\mathrm{d}}{\\mathrm{d}t} \\frac{\\partial}{\\partial \\dot{q}_i} L\n",
    "+ \\sum_j \\lambda_j \\frac{\\partial f_j}{\\partial q_i}\n",
    "= 0\n",
    "$$"
   ]
  },
  {
   "cell_type": "code",
   "execution_count": 36,
   "metadata": {},
   "outputs": [
    {
     "data": {
      "image/png": "[encoded data removed]",
      "text/latex": [
       "$$\\left ( g m_{1} + \\lambda_{1} - m_{1} \\ddot{y}_{1} - \\frac{m_{p} \\ddot{y}_{1}}{2} = 0, \\quad g m_{2} + \\lambda_{2} - m_{2} \\left(\\ddot{y}_{2} + \\ddot{y}_{p}\\right) - \\frac{m_{p} \\left(\\ddot{y}_{2} + \\ddot{y}_{p}\\right)}{2} = 0, \\quad g m_{3} + \\lambda_{2} - m_{3} \\left(\\ddot{y}_{3} + \\ddot{y}_{p}\\right) = 0, \\quad g \\left(m_{2} + m_{3} + m_{p}\\right) + \\lambda_{1} - m_{2} \\left(\\ddot{y}_{2} + \\ddot{y}_{p}\\right) - m_{3} \\left(\\ddot{y}_{3} + \\ddot{y}_{p}\\right) - \\frac{m_{p} \\left(\\ddot{y}_{2} + \\ddot{y}_{p}\\right)}{2} - m_{p} \\ddot{y}_{p} = 0\\right )$$"
      ],
      "text/plain": [
       "⎛                     mₚ⋅y₁̈                                   mₚ⋅(y₂̈ + yₚ̈) \n",
       "⎜g⋅m₁ + λ₁ - m₁⋅y₁̈ - ────── = 0, g⋅m₂ + λ₂ - m₂⋅(y₂̈ + yₚ̈) - ────────────── \n",
       "⎝                       2                                            2        \n",
       "\n",
       "                                                                              \n",
       "= 0, g⋅m₃ + λ₂ - m₃⋅(y₃̈ + yₚ̈) = 0, g⋅(m₂ + m₃ + mₚ) + λ₁ - m₂⋅(y₂̈ + yₚ̈) - \n",
       "                                                                              \n",
       "\n",
       "                 mₚ⋅(y₂̈ + yₚ̈)             ⎞\n",
       "m₃⋅(y₃̈ + yₚ̈) - ────────────── - mₚ⋅yₚ̈ = 0⎟\n",
       "                       2                    ⎠"
      ]
     },
     "execution_count": 36,
     "metadata": {},
     "output_type": "execute_result"
    }
   ],
   "source": [
    "y1_el = sym.Eq(y1_dq - y1_dt + y1_lam, 0) # ecuación igualando a cero\n",
    "y2_el = sym.Eq(y2_dq - y2_dt + y2_lam, 0) # ecuación igualando a cero\n",
    "y3_el = sym.Eq(y3_dq - y3_dt + y3_lam, 0) # ecuación igualando a cero\n",
    "yp_el = sym.Eq(yp_dq - yp_dt + yp_lam, 0) # ecuación igualando a cero\n",
    "y1_el.simplify(), y2_el.simplify(), y3_el.simplify(), yp_el.simplify() "
   ]
  },
  {
   "cell_type": "markdown",
   "metadata": {},
   "source": [
    "Las ecuaciones de vínculo se pueden diferenciar para obtener dos relaciones adicionales con $\\ddot{y}_i$"
   ]
  },
  {
   "cell_type": "code",
   "execution_count": 37,
   "metadata": {},
   "outputs": [
    {
     "data": {
      "image/png": "[encoded data removed]",
      "text/latex": [
       "$$\\left ( \\ddot{y}_{1} + \\ddot{y}_{p} = 0, \\quad \\ddot{y}_{2} + \\ddot{y}_{3} = 0\\right )$$"
      ],
      "text/plain": [
       "(y₁̈ + yₚ̈ = 0, y₂̈ + y₃̈ = 0)"
      ]
     },
     "execution_count": 37,
     "metadata": {},
     "output_type": "execute_result"
    }
   ],
   "source": [
    "f1_el = sym.Eq(f1.diff(t,2) ) # si no se escribe el cero, se asume\n",
    "f2_el = sym.Eq(f2.diff(t,2) )\n",
    "f1_el, f2_el"
   ]
  },
  {
   "cell_type": "markdown",
   "metadata": {},
   "source": [
    "Con estas últimas tenemos un sistema de seis ecuaciones diferenciales lineales de segundo orden homogéneas."
   ]
  },
  {
   "cell_type": "code",
   "execution_count": 38,
   "metadata": {},
   "outputs": [],
   "source": [
    "ypp = [y1.diff(t,2), y2.diff(t,2), y3.diff(t,2), yp.diff(t,2)] # vector (lista) y punto punto \n",
    "eqns = [y1_el.args[0].expand(),\n",
    "        y2_el.args[0].expand(),\n",
    "        y3_el.args[0].expand(),\n",
    "        yp_el.args[0].expand(),\n",
    "        f1_el.args[0],\n",
    "        f2_el.args[0]\n",
    "       ] # expand ayuda a que el comando siguiente \"no se pierda\"\n",
    "A,b = sym.linear_eq_to_matrix(eqns, ypp )"
   ]
  },
  {
   "cell_type": "code",
   "execution_count": 39,
   "metadata": {
    "scrolled": true
   },
   "outputs": [
    {
     "data": {
      "text/latex": [
       "$$\\left[\\begin{matrix}- m_{1} - \\frac{m_{p}}{2} & 0 & 0 & 0\\\\0 & - m_{2} - \\frac{m_{p}}{2} & 0 & - m_{2} - \\frac{m_{p}}{2}\\\\0 & 0 & - m_{3} & - m_{3}\\\\0 & - m_{2} - \\frac{m_{p}}{2} & - m_{3} & - m_{2} - m_{3} - \\frac{3 m_{p}}{2}\\\\1 & 0 & 0 & 1\\\\0 & 1 & 1 & 0\\end{matrix}\\right] \\left[\\begin{matrix}\\ddot{y}_{1}\\\\\\ddot{y}_{2}\\\\\\ddot{y}_{3}\\\\\\ddot{y}_{p}\\end{matrix}\\right] = \\left[\\begin{matrix}- g m_{1} - \\lambda_{1}\\\\- g m_{2} - \\lambda_{2}\\\\- g m_{3} - \\lambda_{2}\\\\- g m_{2} - g m_{3} - g m_{p} - \\lambda_{1}\\\\0\\\\0\\end{matrix}\\right]$$"
      ],
      "text/plain": [
       "⎡      mₚ                                ⎤                                   \n",
       "⎢-m₁ - ──     0       0          0       ⎥                                   \n",
       "⎢      2                                 ⎥                                   \n",
       "⎢                                        ⎥         ⎡       -g⋅m₁ - λ₁       ⎤\n",
       "⎢                mₚ                mₚ    ⎥         ⎢                        ⎥\n",
       "⎢   0      -m₂ - ──   0      -m₂ - ──    ⎥ ⎡y₁̈⎤   ⎢       -g⋅m₂ - λ₂       ⎥\n",
       "⎢                2                 2     ⎥ ⎢   ⎥   ⎢                        ⎥\n",
       "⎢                                        ⎥ ⎢y₂̈⎥   ⎢       -g⋅m₃ - λ₂       ⎥\n",
       "⎢   0         0      -m₃        -m₃      ⎥⋅⎢   ⎥ = ⎢                        ⎥\n",
       "⎢                                        ⎥ ⎢y₃̈⎥   ⎢-g⋅m₂ - g⋅m₃ - g⋅mₚ - λ₁⎥\n",
       "⎢                mₚ                  3⋅mₚ⎥ ⎢   ⎥   ⎢                        ⎥\n",
       "⎢   0      -m₂ - ──  -m₃  -m₂ - m₃ - ────⎥ ⎣yₚ̈⎦   ⎢           0            ⎥\n",
       "⎢                2                    2  ⎥         ⎢                        ⎥\n",
       "⎢                                        ⎥         ⎣           0            ⎦\n",
       "⎢   1         0       0          1       ⎥                                   \n",
       "⎢                                        ⎥                                   \n",
       "⎣   0         1       1          0       ⎦                                   "
      ]
     },
     "execution_count": 39,
     "metadata": {},
     "output_type": "execute_result"
    }
   ],
   "source": [
    "sym.Eq(sym.MatMul(A, sym.Matrix(ypp)), b)"
   ]
  },
  {
   "cell_type": "markdown",
   "metadata": {},
   "source": [
    "Aprovechando las relaciones que provienen de $f_1$ y $f_2$ se puede todo a una dependencia de solo dos coordenadas generalizadas: $y_1$ y $y_2$."
   ]
  },
  {
   "cell_type": "code",
   "execution_count": 40,
   "metadata": {},
   "outputs": [
    {
     "data": {
      "text/latex": [
       "$$\\left[\\begin{matrix}- m_{1} - \\frac{m_{p}}{2} & 0\\\\m_{2} + \\frac{m_{p}}{2} & - m_{2} - \\frac{m_{p}}{2}\\\\m_{3} & m_{3}\\\\m_{2} + m_{3} + \\frac{3 m_{p}}{2} & - m_{2} + m_{3} - \\frac{m_{p}}{2}\\end{matrix}\\right] \\left[\\begin{matrix}\\ddot{y}_{1}\\\\\\ddot{y}_{2}\\end{matrix}\\right] = \\left[\\begin{matrix}- g m_{1} - \\lambda_{1}\\\\- g m_{2} - \\lambda_{2}\\\\- g m_{3} - \\lambda_{2}\\\\- g m_{2} - g m_{3} - g m_{p} - \\lambda_{1}\\end{matrix}\\right]$$"
      ],
      "text/plain": [
       "⎡         mₚ                  ⎤                                   \n",
       "⎢   -m₁ - ──           0      ⎥                                   \n",
       "⎢         2                   ⎥                                   \n",
       "⎢                             ⎥         ⎡       -g⋅m₁ - λ₁       ⎤\n",
       "⎢        mₚ              mₚ   ⎥         ⎢                        ⎥\n",
       "⎢   m₂ + ──        -m₂ - ──   ⎥ ⎡y₁̈⎤   ⎢       -g⋅m₂ - λ₂       ⎥\n",
       "⎢        2               2    ⎥⋅⎢   ⎥ = ⎢                        ⎥\n",
       "⎢                             ⎥ ⎣y₂̈⎦   ⎢       -g⋅m₃ - λ₂       ⎥\n",
       "⎢      m₃             m₃      ⎥         ⎢                        ⎥\n",
       "⎢                             ⎥         ⎣-g⋅m₂ - g⋅m₃ - g⋅mₚ - λ₁⎦\n",
       "⎢          3⋅mₚ             mₚ⎥                                   \n",
       "⎢m₂ + m₃ + ────  -m₂ + m₃ - ──⎥                                   \n",
       "⎣           2               2 ⎦                                   "
      ]
     },
     "execution_count": 40,
     "metadata": {},
     "output_type": "execute_result"
    }
   ],
   "source": [
    "eqns_sub = [x.subs([(y3.diff(t,2), -y2.diff(t,2) ), (yp.diff(t,2), -y1.diff(t,2) )]) for x in eqns]\n",
    "A_sub, b_sub = sym.linear_eq_to_matrix(eqns_sub[:-2], ypp[:-2] ) # [:-2] quita los dos últimos\n",
    "sym.Eq(sym.MatMul(A_sub, sym.Matrix(ypp[:-2] ) ), b_sub)"
   ]
  },
  {
   "cell_type": "markdown",
   "metadata": {},
   "source": [
    "Si buscamos expresiones de donde despejar los $\\lambda_i$, para obtener las fuerzas de vínculo, podemos sumar las mitades del primero y último, y por otro lado del 2.o y 3.o. "
   ]
  },
  {
   "cell_type": "code",
   "execution_count": 41,
   "metadata": {},
   "outputs": [
    {
     "data": {
      "text/latex": [
       "$$\\left[\\begin{matrix}- \\frac{m_{1}}{2} + \\frac{m_{2}}{2} + \\frac{m_{3}}{2} + \\frac{m_{p}}{2} & - \\frac{m_{2}}{2} + \\frac{m_{3}}{2} - \\frac{m_{p}}{4}\\\\\\frac{m_{2}}{2} + \\frac{m_{3}}{2} + \\frac{m_{p}}{4} & - \\frac{m_{2}}{2} + \\frac{m_{3}}{2} - \\frac{m_{p}}{4}\\end{matrix}\\right] \\left[\\begin{matrix}\\ddot{y}_{1}\\\\\\ddot{y}_{2}\\end{matrix}\\right] = \\left[\\begin{matrix}- \\frac{g m_{1}}{2} - \\frac{g m_{2}}{2} - \\frac{g m_{3}}{2} - \\frac{g m_{p}}{2} - \\lambda_{1}\\\\- \\frac{g m_{2}}{2} - \\frac{g m_{3}}{2} - \\lambda_{2}\\end{matrix}\\right]$$"
      ],
      "text/plain": [
       "⎡  m₁   m₂   m₃   mₚ    m₂   m₃   mₚ⎤         ⎡  g⋅m₁   g⋅m₂   g⋅m₃   g⋅mₚ    \n",
       "⎢- ── + ── + ── + ──  - ── + ── - ──⎥         ⎢- ──── - ──── - ──── - ──── - λ\n",
       "⎢  2    2    2    2     2    2    4 ⎥ ⎡y₁̈⎤   ⎢   2      2      2      2      \n",
       "⎢                                   ⎥⋅⎢   ⎥ = ⎢                               \n",
       "⎢   m₂   m₃   mₚ        m₂   m₃   mₚ⎥ ⎣y₂̈⎦   ⎢         g⋅m₂   g⋅m₃           \n",
       "⎢   ── + ── + ──      - ── + ── - ──⎥         ⎢       - ──── - ──── - λ₂      \n",
       "⎣   2    2    4         2    2    4 ⎦         ⎣          2      2             \n",
       "\n",
       " ⎤\n",
       "₁⎥\n",
       " ⎥\n",
       " ⎥\n",
       " ⎥\n",
       " ⎥\n",
       " ⎦"
      ]
     },
     "execution_count": 41,
     "metadata": {},
     "output_type": "execute_result"
    }
   ],
   "source": [
    "A_lambda = sym.Matrix( [\n",
    "    unMedio* ( A_sub[0,:] + A_sub[3,:] ),\n",
    "    unMedio* ( A_sub[1,:] + A_sub[2,:] )\n",
    "] )\n",
    "\n",
    "b_lambda = sym.Matrix( [\n",
    "    unMedio* ( b_sub[0] + b_sub[3] ),\n",
    "    unMedio* ( b_sub[1] + b_sub[2] )\n",
    "] )\n",
    "\n",
    "sym.Eq(sym.MatMul(A_lambda, sym.Matrix(ypp[:-2] ) ), b_lambda)"
   ]
  },
  {
   "cell_type": "markdown",
   "metadata": {},
   "source": [
    "Para obtener la dinámica se puede hacer algo similar, pero restando para eliminar las $\\lambda_i$."
   ]
  },
  {
   "cell_type": "code",
   "execution_count": 42,
   "metadata": {},
   "outputs": [
    {
     "data": {
      "text/latex": [
       "$$\\left[\\begin{matrix}- \\frac{m_{1}}{2} - \\frac{m_{2}}{2} - \\frac{m_{3}}{2} - m_{p} & \\frac{m_{2}}{2} - \\frac{m_{3}}{2} + \\frac{m_{p}}{4}\\\\\\frac{m_{2}}{2} - \\frac{m_{3}}{2} + \\frac{m_{p}}{4} & - \\frac{m_{2}}{2} - \\frac{m_{3}}{2} - \\frac{m_{p}}{4}\\end{matrix}\\right] \\left[\\begin{matrix}\\ddot{y}_{1}\\\\\\ddot{y}_{2}\\end{matrix}\\right] = \\left[\\begin{matrix}- \\frac{g m_{1}}{2} + \\frac{g m_{2}}{2} + \\frac{g m_{3}}{2} + \\frac{g m_{p}}{2}\\\\- \\frac{g m_{2}}{2} + \\frac{g m_{3}}{2}\\end{matrix}\\right]$$"
      ],
      "text/plain": [
       "⎡  m₁   m₂   m₃        m₂   m₃   mₚ ⎤         ⎡  g⋅m₁   g⋅m₂   g⋅m₃   g⋅mₚ⎤\n",
       "⎢- ── - ── - ── - mₚ   ── - ── + ── ⎥         ⎢- ──── + ──── + ──── + ────⎥\n",
       "⎢  2    2    2         2    2    4  ⎥ ⎡y₁̈⎤   ⎢   2      2      2      2  ⎥\n",
       "⎢                                   ⎥⋅⎢   ⎥ = ⎢                           ⎥\n",
       "⎢   m₂   m₃   mₚ        m₂   m₃   mₚ⎥ ⎣y₂̈⎦   ⎢         g⋅m₂   g⋅m₃       ⎥\n",
       "⎢   ── - ── + ──      - ── - ── - ──⎥         ⎢       - ──── + ────       ⎥\n",
       "⎣   2    2    4         2    2    4 ⎦         ⎣          2      2         ⎦"
      ]
     },
     "execution_count": 42,
     "metadata": {},
     "output_type": "execute_result"
    }
   ],
   "source": [
    "A_din = sym.Matrix( [\n",
    "    unMedio* ( A_sub[0,:] - A_sub[3,:] ),\n",
    "    unMedio* ( A_sub[1,:] - A_sub[2,:] )\n",
    "] )\n",
    "\n",
    "b_din = sym.Matrix( [\n",
    "    unMedio* ( b_sub[0] - b_sub[3] ),\n",
    "    unMedio* ( b_sub[1] - b_sub[2] )\n",
    "] )\n",
    "\n",
    "sym.Eq(sym.MatMul(A_din, sym.Matrix(ypp[:-2] ) ), b_din)"
   ]
  },
  {
   "cell_type": "code",
   "execution_count": 43,
   "metadata": {},
   "outputs": [
    {
     "data": {
      "text/latex": [
       "$$\\left[\\begin{matrix}\\ddot{y}_{1}\\\\\\ddot{y}_{2}\\end{matrix}\\right] = \\left[\\begin{matrix}\\frac{2 g \\left(- \\left(m_{2} - m_{3}\\right) \\left(2 m_{2} - 2 m_{3} + m_{p}\\right) + \\left(2 m_{2} + 2 m_{3} + m_{p}\\right) \\left(- m_{1} + m_{2} + m_{3} + m_{p}\\right)\\right)}{\\left(2 m_{2} - 2 m_{3} + m_{p}\\right)^{2} - 2 \\left(2 m_{2} + 2 m_{3} + m_{p}\\right) \\left(m_{1} + m_{2} + m_{3} + 2 m_{p}\\right)}\\\\\\frac{2 g \\left(- 2 \\left(m_{2} - m_{3}\\right) \\left(m_{1} + m_{2} + m_{3} + 2 m_{p}\\right) + \\left(2 m_{2} - 2 m_{3} + m_{p}\\right) \\left(- m_{1} + m_{2} + m_{3} + m_{p}\\right)\\right)}{\\left(2 m_{2} - 2 m_{3} + m_{p}\\right)^{2} - 2 \\left(2 m_{2} + 2 m_{3} + m_{p}\\right) \\left(m_{1} + m_{2} + m_{3} + 2 m_{p}\\right)}\\end{matrix}\\right]$$"
      ],
      "text/plain": [
       "        ⎡  2⋅g⋅(-(m₂ - m₃)⋅(2⋅m₂ - 2⋅m₃ + mₚ) + (2⋅m₂ + 2⋅m₃ + mₚ)⋅(-m₁ + m₂ +\n",
       "        ⎢  ───────────────────────────────────────────────────────────────────\n",
       "        ⎢                           2                                         \n",
       "⎡y₁̈⎤   ⎢         (2⋅m₂ - 2⋅m₃ + mₚ)  - 2⋅(2⋅m₂ + 2⋅m₃ + mₚ)⋅(m₁ + m₂ + m₃ + 2\n",
       "⎢   ⎥ = ⎢                                                                     \n",
       "⎣y₂̈⎦   ⎢2⋅g⋅(-2⋅(m₂ - m₃)⋅(m₁ + m₂ + m₃ + 2⋅mₚ) + (2⋅m₂ - 2⋅m₃ + mₚ)⋅(-m₁ + m\n",
       "        ⎢─────────────────────────────────────────────────────────────────────\n",
       "        ⎢                           2                                         \n",
       "        ⎣         (2⋅m₂ - 2⋅m₃ + mₚ)  - 2⋅(2⋅m₂ + 2⋅m₃ + mₚ)⋅(m₁ + m₂ + m₃ + 2\n",
       "\n",
       " m₃ + mₚ))   ⎤\n",
       "──────────   ⎥\n",
       "             ⎥\n",
       "⋅mₚ)         ⎥\n",
       "             ⎥\n",
       "₂ + m₃ + mₚ))⎥\n",
       "─────────────⎥\n",
       "             ⎥\n",
       "⋅mₚ)         ⎦"
      ]
     },
     "execution_count": 43,
     "metadata": {},
     "output_type": "execute_result"
    }
   ],
   "source": [
    "ypp_solve = A_din.solve(b_din)\n",
    "ypp_solve = [x.simplify() for x in ypp_solve]\n",
    "sym.Eq(sym.Matrix(ypp[:-2] ) , sym.Matrix(ypp_solve ))"
   ]
  },
  {
   "cell_type": "markdown",
   "metadata": {},
   "source": [
    "## Resolución numérica"
   ]
  },
  {
   "cell_type": "code",
   "execution_count": 44,
   "metadata": {},
   "outputs": [],
   "source": [
    "# escribo los valores numéricos en variables\n",
    "m1_val = 1 # [kg]\n",
    "m2_val = 2 # [kg]\n",
    "m3_val = 3 # [kg]\n",
    "mp_val = 4 # [kg]\n",
    "g_val = 9.81 # [m s-2]\n",
    "\n",
    "# un diccionario (un tipo de variable Python) fácilará el reemplazar con valores numéricos\n",
    "valores = {\n",
    "    m1 : m1_val,\n",
    "    m2 : m2_val,\n",
    "    m3 : m3_val,\n",
    "    mp : mp_val,\n",
    "    g : g_val\n",
    "}"
   ]
  },
  {
   "cell_type": "code",
   "execution_count": 45,
   "metadata": {},
   "outputs": [],
   "source": [
    "aceleraciones_numpy = [( sym.lambdify(t, x.subs(valores) ) )(0) for x in ypp_solve]"
   ]
  },
  {
   "cell_type": "markdown",
   "metadata": {},
   "source": [
    "Para esta ecuación diferencial de 2.o orden la integración numérica nos entregará un vector con la   coordenada y velocidades generalizadas.\n",
    "Haremos dos vectores, uno pa $y_1$ y otro para $y_2$\n",
    "$$\n",
    "\\left\\{\n",
    "\\begin{array}{l}\n",
    "v1_0 = y_1 \\\\\n",
    "v1_1 = \\dot{x1}_0 = \\dot{y}_1 \\\\\n",
    "\\end{array}\n",
    "\\right.\n",
    "$$\n",
    "y\n",
    "$$\n",
    "\\left\\{\n",
    "\\begin{array}{l}\n",
    "v2_0 = y_2 \\\\\n",
    "v2_1 = \\dot{v2}_2 = \\dot{y}_2 \\\\\n",
    "\\end{array}\n",
    "\\right.\n",
    "$$\n",
    "\n",
    "Para obtenerlos lo alimentaremos con el que correspende a la derivada del mismo con velocidades y aceleraciones. Solo las últimas son dato:\n",
    "$$\n",
    "\\left\\{\n",
    "\\begin{array}{l}\n",
    "\\dot{v1}_0 = v1_1 \\\\\n",
    "\\dot{v1}_1 = \\ddot{y}_1 \\\\\n",
    "\\end{array}\n",
    "\\right.\n",
    "$$\n",
    "y\n",
    "$$\n",
    "\\left\\{\n",
    "\\begin{array}{l}\n",
    "\\dot{v2}_0 = v2_1 \\\\\n",
    "\\dot{v2}_1 = \\ddot{y}_2 \\\\\n",
    "\\end{array}\n",
    "\\right.\n",
    "$$"
   ]
  },
  {
   "cell_type": "code",
   "execution_count": 46,
   "metadata": {},
   "outputs": [],
   "source": [
    "# defino una función con el sistema de derivadas\n",
    "# t : no se usa en este sistema pero lo dejamos para uso posterior\n",
    "# x : lista de estado con [x_0, x_1]\n",
    "# c : lista de constates, en este caso las aceleraciones\n",
    "# dx_dt : lista de derivadas\n",
    "def derivaday1(t, v1):\n",
    "    dy1dt = [v1[1], aceleraciones_numpy[0]]\n",
    "    return dy1dt\n",
    "\n",
    "def derivaday2(t, v2):\n",
    "    dy2dt = [v2[1], aceleraciones_numpy[1]]\n",
    "    return dy2dt"
   ]
  },
  {
   "cell_type": "markdown",
   "metadata": {},
   "source": [
    "Ahora defino condiciones iniciales del sistema y el rango de tiempo a analizar "
   ]
  },
  {
   "cell_type": "code",
   "execution_count": 47,
   "metadata": {},
   "outputs": [],
   "source": [
    "# biblioteca de cálculo numérico general\n",
    "import numpy as np"
   ]
  },
  {
   "cell_type": "code",
   "execution_count": 48,
   "metadata": {},
   "outputs": [],
   "source": [
    "# parámetros para inicial las integración de sistemaDerivadas\n",
    "t_rango = np.linspace(0,2, num= 100) # 100 tiempos entre 0 y 10 s\n",
    "y1_inicial = [1,0] # parte del reposo y_1 = 1m\n",
    "y2_inicial = [2,0] # parte del reposo y_2 = 2m"
   ]
  },
  {
   "cell_type": "code",
   "execution_count": 49,
   "metadata": {},
   "outputs": [],
   "source": [
    "# biblioteca de cálculo científico: eficientes herramientas de cálculo numérico\n",
    "from scipy.integrate import solve_ivp"
   ]
  },
  {
   "cell_type": "code",
   "execution_count": 50,
   "metadata": {},
   "outputs": [],
   "source": [
    "# E integrar de a pasos en el tiempo\n",
    "sol_y1 = solve_ivp(derivaday1, (t_rango[0], t_rango[-1] ), y1_inicial, t_eval = t_rango)\n",
    "sol_y2 = solve_ivp(derivaday2, (t_rango[0], t_rango[-1] ), y2_inicial, t_eval = t_rango)"
   ]
  },
  {
   "cell_type": "markdown",
   "metadata": {},
   "source": [
    "## Graficación"
   ]
  },
  {
   "cell_type": "code",
   "execution_count": 51,
   "metadata": {},
   "outputs": [],
   "source": [
    "# biblioteca de graficación\n",
    "import matplotlib.pyplot as plt\n",
    "plt.style.use('fivethirtyeight')"
   ]
  },
  {
   "cell_type": "code",
   "execution_count": 52,
   "metadata": {},
   "outputs": [],
   "source": [
    "def graficaFuncion(solucion, nombreCoordenada='q'):\n",
    "    fig, ax = plt.subplots(nrows= 1, ncols= 2, squeeze=False, figsize=(12, 4)) # dos figuras en la misma fila\n",
    "    fig.suptitle('Integración numérica para '+ nombreCoordenada, fontsize=16)\n",
    "    ax[0,0].plot(solucion.t, solucion.y[0]) # posición\n",
    "    ax[0,0].set(xlabel='t [s]', ylabel= '$' + nombreCoordenada+ '$ [m]', title='Posición')\n",
    "    ax[0,1].plot(solucion.t, solucion.y[1]) # velocidad\n",
    "    ax[0,1].set(xlabel='t [s]', ylabel='$\\dot{' + nombreCoordenada+ '}$ [m/s]', title='Velocidad')"
   ]
  },
  {
   "cell_type": "code",
   "execution_count": 53,
   "metadata": {},
   "outputs": [
    {
     "data": {
      "image/png": "[encoded data removed]",
      "text/plain": [
       "<Figure size 864x288 with 2 Axes>"
      ]
     },
     "metadata": {},
     "output_type": "display_data"
    }
   ],
   "source": [
    "graficaFuncion(sol_y1, nombreCoordenada = 'y_1')"
   ]
  },
  {
   "cell_type": "code",
   "execution_count": 54,
   "metadata": {},
   "outputs": [
    {
     "data": {
      "image/png": "[encoded data removed]",
      "text/plain": [
       "<Figure size 864x288 with 2 Axes>"
      ]
     },
     "metadata": {},
     "output_type": "display_data"
    }
   ],
   "source": [
    "graficaFuncion(sol_y2, nombreCoordenada = 'y_2')"
   ]
  },
  {
   "cell_type": "code",
   "execution_count": null,
   "metadata": {},
   "outputs": [],
   "source": []
  }
 ],
 "metadata": {
  "kernelspec": {
   "display_name": "Python 3",
   "language": "python",
   "name": "python3"
  },
  "language_info": {
   "codemirror_mode": {
    "name": "ipython",
    "version": 3
   },
   "file_extension": ".py",
   "mimetype": "text/x-python",
   "name": "python",
   "nbconvert_exporter": "python",
   "pygments_lexer": "ipython3",
   "version": "3.7.3"
  }
 },
 "nbformat": 4,
 "nbformat_minor": 4
}
