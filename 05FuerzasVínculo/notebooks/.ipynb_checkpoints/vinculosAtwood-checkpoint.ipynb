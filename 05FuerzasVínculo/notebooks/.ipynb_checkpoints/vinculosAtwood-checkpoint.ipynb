{
 "cells": [
  {
   "cell_type": "markdown",
   "metadata": {},
   "source": [
    "# Fuerzas de vínculo en Euler-Lagrange | Máquina de Atwood compuesta\n",
    "© 2020\n",
    "Víctor A. Bettachini  \n",
    "Mecánica General  \n",
    "Departamento de Ingeniería e Investigación Tecnológica  \n",
    "Universidad Nacional de La Matanza  \n",
    "\n",
    "---"
   ]
  },
  {
   "cell_type": "markdown",
   "metadata": {},
   "source": [
    "## Enunciado\n",
    "Utilice el sistema de coordenadas indicadas.\n",
    "Para este sistema de poleas determine: \n",
    "1. las ecuaciones de movimiento,\n",
    "2. y las tensiones de ambas cuerdas utilizando el método de multiplicadores de Lagrange.\n",
    "\n",
    "![Máquina de Atwood compuesta por dos poleas](marion_fig7_6.png)"
   ]
  },
  {
   "cell_type": "markdown",
   "metadata": {},
   "source": [
    "## Análisis del problema\n",
    "Si tomamos la sugerencia de la figura podemos limitarnos a las coordenadas generalizadas indicadas como $x,y$.\n",
    "Pero hacer resolver el sistema de ecuaciones de Euler-Lagrange con estas no nos informa de las fuerzas de vínculo.\n",
    "\n",
    "Para analizar el vínculo de las cuerdas:\n",
    "- Coordenadas generalizadas: las posiciones verticales de las tres masas y de la polea inferior $y_1, y2, y3, y_p$.\n",
    "- Potencial externo: debido a la aceleración gravitatoria.\n",
    "- Vínculos: $$y_1 + y_p + \\pi R = l_1,$$ e $$ y_2 + y_3 + \\pi R = l_2,$$ siendo $R$ el radio de las poleas."
   ]
  },
  {
   "cell_type": "markdown",
   "metadata": {},
   "source": [
    "## Lagrangiano"
   ]
  },
  {
   "cell_type": "code",
   "execution_count": 4,
   "metadata": {},
   "outputs": [],
   "source": [
    "# biblioteca de cálculo simbólico\n",
    "import sympy as sym\n",
    "import sympy.physics.mechanics as mech\n",
    "mech.init_vprinting() # notación con puntos para derivadas temporales"
   ]
  },
  {
   "cell_type": "code",
   "execution_count": 5,
   "metadata": {},
   "outputs": [],
   "source": [
    "# Defino parámetros\n",
    "R, m1, m2, m3, mp, g, l1, l2 = sym.symbols('R, m_1, m_2, m_3, m_p, g, l_1, l_2', positive=True)\n",
    "# Defino coordenadas generalizadas \n",
    "t = sym.symbols('t') # tiempo\n",
    "y1 = sym.Function('y_1')(t)\n",
    "y2 = sym.Function('y_2')(t)\n",
    "y3 = sym.Function('y_3')(t)\n",
    "yp = sym.Function('y_p')(t)\n",
    "λ1, λ2 = sym.symbols('λ_1, λ_2')\n",
    "# r1, r2, r3, rp, λ1, λ2 = sym.symbols('r_1, r_2, r_3, r_p, λ_1, λ_2')\n",
    "\n",
    "# vínculos\n",
    "f1 = y1+ yp + sym.pi* R - l1 # vínculo l1 como función homogénea\n",
    "f2 = y2+ y3 + sym.pi* R - l2 # vínculo l2 como función homogénea\n",
    "\n",
    "# posiciones\n",
    "r1 = y1\n",
    "r2 = yp + y2\n",
    "r3 = yp + y3\n",
    "rp = yp"
   ]
  },
  {
   "cell_type": "markdown",
   "metadata": {},
   "source": [
    "La energía cinética por la rotación de las poleas es\n",
    "\n",
    "$$\n",
    "\\frac{I}{2} \\omega^2\n",
    "$$\n",
    "Puesto que $\\omega_i = \\dot{\\theta}_i = \\frac{v_i}{R}$ y $v$ la velocidad tangencial que coincide con la de las masas que cuelgan, se puede escribir esta energía cinética en funcion de la $\\dot{y}_i$\n",
    "\n",
    "$$\n",
    "\\frac{I}{2} \\left( \\frac{\\dot{y}_i}{R} \\right)^2,\n",
    "$$\n",
    "siendo $R$ el radio de la polea.\n",
    "\n",
    "Puesto que el montento de inercia de un cilíndro es $I = \\frac{M}{2} R^2$, este término para la polea superior es\n",
    "\n",
    "$$\n",
    "\\frac{I}{2} \\dot{\\theta_i}^2 = \\frac{1}{2} \\frac{M}{2} R^2 \\left( \\frac{\\dot{y}_1}{R} \\right)^2 = \\frac{M}{4} \\dot{y}_1^2,\n",
    "$$\n",
    "donde uso la coordenada de la masa izquierda $y_1$ en que $\\dot{\\theta_i}$ sería positivo.\n",
    "\n",
    "Para la polea inferior\n",
    "$$\n",
    "\\frac{M}{4} \\dot{y}_2^2,\n",
    "$$\n",
    "pues uso la coordenada de la masa izquierda inferior $y_2$ en que $\\dot{\\theta_i}$ sería positivo."
   ]
  },
  {
   "cell_type": "code",
   "execution_count": 6,
   "metadata": {},
   "outputs": [
    {
     "data": {
      "image/png": "[encoded data removed]",
      "text/latex": [
       "$\\displaystyle \\frac{m_{1} \\dot{y}_{1}^{2}}{2} + \\frac{m_{2} \\left(\\dot{y}_{2} + \\dot{y}_{p}\\right)^{2}}{2} + \\frac{m_{3} \\left(\\dot{y}_{3} + \\dot{y}_{p}\\right)^{2}}{2} + \\frac{m_{p} \\left(\\dot{y}_{2} + \\dot{y}_{p}\\right)^{2}}{4} + \\frac{m_{p} \\dot{y}_{1}^{2}}{4} + \\frac{m_{p} \\dot{y}_{p}^{2}}{2}$"
      ],
      "text/plain": [
       "     2               2               2               2        2        2\n",
       "m₁⋅y₁̇    m₂⋅(y₂̇ + yₚ̇)    m₃⋅(y₃̇ + yₚ̇)    mₚ⋅(y₂̇ + yₚ̇)    mₚ⋅y₁̇    mₚ⋅yₚ̇ \n",
       "────── + ───────────── + ───────────── + ───────────── + ────── + ──────\n",
       "  2            2               2               4           4        2   "
      ]
     },
     "execution_count": 6,
     "metadata": {},
     "output_type": "execute_result"
    }
   ],
   "source": [
    "# Energía cinética\n",
    "unMedio = sym.Rational(1,2) # Rational: fracción de enteros\n",
    "T_traslacion = unMedio *( \n",
    "    m1* r1.diff(t)**2 \\\n",
    "  + m2* r2.diff(t)**2 \\\n",
    "  + m3* r3.diff(t)**2 \\\n",
    "  + mp* rp.diff(t)**2 \\\n",
    "    )\n",
    "T_rotacion = unMedio *( \n",
    "    mp/2* r1.diff(t)**2 \\\n",
    "  + mp/2* r2.diff(t)**2 \\\n",
    "    )\n",
    "T = T_traslacion + T_rotacion\n",
    "T.simplify() # simplify: simplifica usando factor común y otras operaciones"
   ]
  },
  {
   "cell_type": "code",
   "execution_count": 7,
   "metadata": {},
   "outputs": [
    {
     "data": {
      "image/png": "[encoded data removed]",
      "text/latex": [
       "$\\displaystyle - g \\left(m_{1} y_{1} + m_{2} \\left(y_{2} + y_{p}\\right) + m_{3} \\left(y_{3} + y_{p}\\right) + m_{p} y_{p}\\right)$"
      ],
      "text/plain": [
       "-g⋅(m₁⋅y₁ + m₂⋅(y₂ + yₚ) + m₃⋅(y₃ + yₚ) + mₚ⋅yₚ)"
      ]
     },
     "execution_count": 7,
     "metadata": {},
     "output_type": "execute_result"
    }
   ],
   "source": [
    "# Energía potencial\n",
    "V = g*( \\\n",
    "         m1* (-r1) \\\n",
    "       + m2* (-r2) \\\n",
    "       + m3* (-r3) \\\n",
    "       + mp* (-rp) \\\n",
    "      )\n",
    "V.simplify()"
   ]
  },
  {
   "cell_type": "code",
   "execution_count": 8,
   "metadata": {},
   "outputs": [
    {
     "data": {
      "image/png": "[encoded data removed]",
      "text/latex": [
       "$\\displaystyle g \\left(m_{1} y_{1} + m_{2} \\left(y_{2} + y_{p}\\right) + m_{3} \\left(y_{3} + y_{p}\\right) + m_{p} y_{p}\\right) + \\frac{m_{1} \\dot{y}_{1}^{2}}{2} + \\frac{m_{2} \\left(\\dot{y}_{2} + \\dot{y}_{p}\\right)^{2}}{2} + \\frac{m_{3} \\left(\\dot{y}_{3} + \\dot{y}_{p}\\right)^{2}}{2} + \\frac{m_{p} \\left(\\dot{y}_{2} + \\dot{y}_{p}\\right)^{2}}{4} + \\frac{m_{p} \\dot{y}_{1}^{2}}{4} + \\frac{m_{p} \\dot{y}_{p}^{2}}{2}$"
      ],
      "text/plain": [
       "                                                       2               2      \n",
       "                                                  m₁⋅y₁̇    m₂⋅(y₂̇ + yₚ̇)    \n",
       "g⋅(m₁⋅y₁ + m₂⋅(y₂ + yₚ) + m₃⋅(y₃ + yₚ) + mₚ⋅yₚ) + ────── + ───────────── + ───\n",
       "                                                    2            2            \n",
       "\n",
       "         2               2        2        2\n",
       "m₃⋅(y₃̇ + yₚ̇)    mₚ⋅(y₂̇ + yₚ̇)    mₚ⋅y₁̇    mₚ⋅yₚ̇ \n",
       "────────── + ───────────── + ────── + ──────\n",
       "   2               4           4        2   "
      ]
     },
     "execution_count": 8,
     "metadata": {},
     "output_type": "execute_result"
    }
   ],
   "source": [
    "# Lagrangiano\n",
    "L = T - V\n",
    "L.simplify()"
   ]
  },
  {
   "cell_type": "markdown",
   "metadata": {},
   "source": [
    "## Ecuaciones de Euler-Lagrange"
   ]
  },
  {
   "cell_type": "markdown",
   "metadata": {},
   "source": [
    "Puesto que los momentos generalizados se obtienen de \n",
    "\n",
    "$$\n",
    "p_i = \\frac{\\partial}{\\partial \\dot{q_i}} L,\n",
    "$$\n",
    "se utiliza esto para dar nombre `dpdt` a la parte de la ecuación de Euler-Lagrange en que\n",
    "\n",
    "$$\\frac{\\mathrm{d}}{\\mathrm{d}t} \\frac{\\partial}{\\partial \\dot{q_i}} L = \\frac{\\mathrm{d}}{\\mathrm{d}t} p_i$$\n",
    "se deriva respecto al tiempo el momento generalizado $p_i$."
   ]
  },
  {
   "cell_type": "code",
   "execution_count": 9,
   "metadata": {},
   "outputs": [],
   "source": [
    "# lo que llamabamos lado derecho\n",
    "dpdt_y1 = L.diff(y1.diff(t)).diff(t) # primero deriva con x punto y luego con\n",
    "dpdt_y2 = L.diff(y2.diff(t)).diff(t) # primero deriva con x punto y luego con\n",
    "dpdt_y3 = L.diff(y3.diff(t)).diff(t) # primero deriva con x punto y luego con\n",
    "dpdt_yp = L.diff(yp.diff(t)).diff(t) # primero deriva con x punto y luego con"
   ]
  },
  {
   "cell_type": "markdown",
   "metadata": {},
   "source": [
    "De manera similar el derivar respecto a la coordenada generalizada\n",
    "\n",
    "$$\n",
    "\\frac{\\partial}{\\partial q_i} L,\n",
    "$$\n",
    "se notara como `dq`."
   ]
  },
  {
   "cell_type": "code",
   "execution_count": 10,
   "metadata": {},
   "outputs": [],
   "source": [
    "# lo que llamabamos lado izquierdo\n",
    "dq_y1 = L.diff(y1)\n",
    "dq_y2 = L.diff(y2)\n",
    "dq_y3 = L.diff(y3)\n",
    "dq_yp = L.diff(yp)"
   ]
  },
  {
   "cell_type": "markdown",
   "metadata": {},
   "source": [
    "Resta obtener las fuerzas generalizadas de vínculo\n",
    "$$\n",
    "Q_j = \\sum_j \\lambda_j \\frac{\\partial f_j}{\\partial q_i}\n",
    "$$"
   ]
  },
  {
   "cell_type": "code",
   "execution_count": 11,
   "metadata": {},
   "outputs": [],
   "source": [
    "Q_y1 = λ1* f1.diff(y1) + λ2* f2.diff(y1)\n",
    "Q_y2 = λ1* f1.diff(y2) + λ2* f2.diff(y2)\n",
    "Q_y3 = λ1* f1.diff(y3) + λ2* f2.diff(y3)\n",
    "Q_yp = λ1* f1.diff(yp) + λ2* f2.diff(yp)"
   ]
  },
  {
   "cell_type": "markdown",
   "metadata": {},
   "source": [
    "Con todos estos elementos se puede escribir la ecuación homegénea (no hay fuerzas no conservativas)\n",
    "$$\n",
    "\\frac{\\partial}{\\partial q_i} L\n",
    "- \\frac{\\mathrm{d}}{\\mathrm{d}t} \\frac{\\partial}{\\partial \\dot{q}_i} L\n",
    "+ \\sum_j \\lambda_j \\frac{\\partial f_j}{\\partial q_i}\n",
    "= 0\n",
    "$$"
   ]
  },
  {
   "cell_type": "code",
   "execution_count": 12,
   "metadata": {},
   "outputs": [
    {
     "data": {
      "image/png": "[encoded data removed]",
      "text/latex": [
       "$\\displaystyle - g \\left(m_{2} + m_{3} + m_{p}\\right) + m_{2} \\left(\\ddot{y}_{2} + \\ddot{y}_{p}\\right) + m_{3} \\left(\\ddot{y}_{3} + \\ddot{y}_{p}\\right) + \\frac{m_{p} \\left(\\ddot{y}_{2} + \\ddot{y}_{p}\\right)}{2} + m_{p} \\ddot{y}_{p} - λ_{1} = 0$"
      ],
      "text/plain": [
       "                                                  mₚ⋅(y₂̈ + yₚ̈)              \n",
       "-g⋅(m₂ + m₃ + mₚ) + m₂⋅(y₂̈ + yₚ̈) + m₃⋅(y₃̈ + yₚ̈) + ──────────── + mₚ⋅yₚ̈ - \n",
       "                                                       2                      \n",
       "\n",
       "   \n",
       "λ₁ = 0\n",
       " "
      ]
     },
     "execution_count": 12,
     "metadata": {},
     "output_type": "execute_result"
    }
   ],
   "source": [
    "el_y1 = sym.Eq(dq_y1 - dpdt_y1 + Q_y1, 0) # ecuación igualando a cero\n",
    "el_y2 = sym.Eq(dq_y2 - dpdt_y2 + Q_y2, 0)\n",
    "el_y3 = sym.Eq(dq_y3 - dpdt_y3 + Q_y3, 0)\n",
    "el_yp = sym.Eq(dq_yp - dpdt_yp + Q_yp, 0)\n",
    "el_yp.simplify() # para dar un ejemplo la ecuación de Euler-Lagrange para la coordenada de la polea"
   ]
  },
  {
   "cell_type": "markdown",
   "metadata": {},
   "source": [
    "## Ecuaciones de vínculo"
   ]
  },
  {
   "cell_type": "markdown",
   "metadata": {},
   "source": [
    "Las ecuaciones de vínculo se pueden diferenciar para obtener dos relaciones adicionales con $\\ddot{y}_i$"
   ]
  },
  {
   "cell_type": "code",
   "execution_count": 13,
   "metadata": {},
   "outputs": [
    {
     "data": {
      "image/png": "[encoded data removed]",
      "text/latex": [
       "$\\displaystyle \\left( \\ddot{y}_{1} + \\ddot{y}_{p} = 0, \\  \\ddot{y}_{2} + \\ddot{y}_{3} = 0\\right)$"
      ],
      "text/plain": [
       "(y₁̈ + yₚ̈ = 0, y₂̈ + y₃̈ = 0)"
      ]
     },
     "execution_count": 13,
     "metadata": {},
     "output_type": "execute_result"
    }
   ],
   "source": [
    "eq_f1 = sym.Eq(f1.diff(t,2), 0 ) # si no se escribe el cero, se asume\n",
    "eq_f2 = sym.Eq(f2.diff(t,2), 0 )\n",
    "eq_f1, eq_f2"
   ]
  },
  {
   "cell_type": "code",
   "execution_count": 14,
   "metadata": {},
   "outputs": [
    {
     "data": {
      "image/png": "[encoded data removed]",
      "text/latex": [
       "$\\displaystyle \\left[ g m_{1} - m_{1} \\ddot{y}_{1} - \\frac{m_{p} \\ddot{y}_{1}}{2} + λ_{1}, \\  g m_{2} - \\frac{m_{2} \\left(2 \\ddot{y}_{2} + 2 \\ddot{y}_{p}\\right)}{2} - \\frac{m_{p} \\left(2 \\ddot{y}_{2} + 2 \\ddot{y}_{p}\\right)}{4} + λ_{2}, \\  g m_{3} - \\frac{m_{3} \\left(2 \\ddot{y}_{3} + 2 \\ddot{y}_{p}\\right)}{2} + λ_{2}, \\  - g \\left(- m_{2} - m_{3} - m_{p}\\right) - \\frac{m_{2} \\left(2 \\ddot{y}_{2} + 2 \\ddot{y}_{p}\\right)}{2} - \\frac{m_{3} \\left(2 \\ddot{y}_{3} + 2 \\ddot{y}_{p}\\right)}{2} - \\frac{m_{p} \\left(2 \\ddot{y}_{2} + 2 \\ddot{y}_{p}\\right)}{4} - m_{p} \\ddot{y}_{p} + λ_{1}, \\  \\ddot{y}_{1} + \\ddot{y}_{p}, \\  \\ddot{y}_{2} + \\ddot{y}_{3}\\right]$"
      ],
      "text/plain": [
       "⎡               mₚ⋅y₁̈              m₂⋅(2⋅y₂̈ + 2⋅yₚ̈)   mₚ⋅(2⋅y₂̈ + 2⋅yₚ̈)   \n",
       "⎢g⋅m₁ - m₁⋅y₁̈ - ───── + λ₁, g⋅m₂ - ──────────────── - ──────────────── + λ₂, \n",
       "⎣                 2                       2                  4                \n",
       "\n",
       "           m₃⋅(2⋅y₃̈ + 2⋅yₚ̈)                            m₂⋅(2⋅y₂̈ + 2⋅yₚ̈)   \n",
       "g⋅m₃ - ──────────────── + λ₂, -g⋅(-m₂ - m₃ - mₚ) - ──────────────── - ────────\n",
       "             2                                           2                  2 \n",
       "\n",
       "m₃⋅(2⋅y₃̈ + 2⋅yₚ̈)   mₚ⋅(2⋅y₂̈ + 2⋅yₚ̈)                               ⎤\n",
       "──────── - ──────────────── - mₚ⋅yₚ̈ + λ₁, y₁̈ + yₚ̈, y₂̈ + y₃̈⎥\n",
       "                 4                                       ⎦"
      ]
     },
     "execution_count": 14,
     "metadata": {},
     "output_type": "execute_result"
    }
   ],
   "source": [
    "ecuacionesOriginales = [el_y1.args[0].expand(),\n",
    "        el_y2.args[0],\n",
    "        el_y3.args[0],\n",
    "        el_yp.args[0],\n",
    "        eq_f1.args[0],\n",
    "        eq_f2.args[0]\n",
    "       ]\n",
    "ecuacionesOriginales"
   ]
  },
  {
   "cell_type": "markdown",
   "metadata": {},
   "source": [
    "## Resolución del sistema"
   ]
  },
  {
   "cell_type": "markdown",
   "metadata": {},
   "source": [
    "Probablemente lo primero que se quiera obtener son los coeficientes de Lagrange $\\lambda_i$ con los que pueden calcularse las fuerzas generalizadas $Q_i$."
   ]
  },
  {
   "cell_type": "code",
   "execution_count": 15,
   "metadata": {},
   "outputs": [
    {
     "data": {
      "image/png": "[encoded data removed]",
      "text/latex": [
       "$\\displaystyle \\left( - g m_{1} + m_{1} \\ddot{y}_{1} + \\frac{m_{p} \\ddot{y}_{1}}{2}, \\  - g m_{3} + m_{3} \\ddot{y}_{3} + m_{3} \\ddot{y}_{p}\\right)$"
      ],
      "text/plain": [
       "⎛                mₚ⋅y₁̈                       ⎞\n",
       "⎜-g⋅m₁ + m₁⋅y₁̈ + ─────, -g⋅m₃ + m₃⋅y₃̈ + m₃⋅yₚ̈⎟\n",
       "⎝                  2                         ⎠"
      ]
     },
     "execution_count": 15,
     "metadata": {},
     "output_type": "execute_result"
    }
   ],
   "source": [
    "λ1_sol, λ2_sol = sym.nonlinsolve(ecuacionesOriginales, [λ1, λ2]).args[0]\n",
    "λ1_sol, λ2_sol"
   ]
  },
  {
   "cell_type": "markdown",
   "metadata": {},
   "source": [
    "Como también se pueden buscar las soluciones para las $\\ddot{y}_i$."
   ]
  },
  {
   "cell_type": "code",
   "execution_count": 16,
   "metadata": {},
   "outputs": [
    {
     "data": {
      "image/png": "[encoded data removed]",
      "text/latex": [
       "$\\displaystyle \\left( \\frac{2 \\left(g m_{1} + λ_{1}\\right)}{2 m_{1} + m_{p}}, \\  - \\frac{2 g m_{1} m_{3} + 2 m_{3} λ_{1} + \\left(2 m_{1} + m_{p}\\right) \\left(g m_{3} + λ_{2}\\right)}{m_{3} \\left(2 m_{1} + m_{p}\\right)}, \\  \\frac{2 g m_{1} m_{3} + 2 m_{3} λ_{1} + \\left(2 m_{1} + m_{p}\\right) \\left(g m_{3} + λ_{2}\\right)}{m_{3} \\left(2 m_{1} + m_{p}\\right)}, \\  - \\frac{2 g m_{1} + 2 λ_{1}}{2 m_{1} + m_{p}}\\right)$"
      ],
      "text/plain": [
       "⎛2⋅(g⋅m₁ + λ₁)  -(2⋅g⋅m₁⋅m₃ + 2⋅m₃⋅λ₁ + (2⋅m₁ + mₚ)⋅(g⋅m₃ + λ₂))   2⋅g⋅m₁⋅m₃ +\n",
       "⎜─────────────, ─────────────────────────────────────────────────, ───────────\n",
       "⎝  2⋅m₁ + mₚ                      m₃⋅(2⋅m₁ + mₚ)                              \n",
       "\n",
       " 2⋅m₃⋅λ₁ + (2⋅m₁ + mₚ)⋅(g⋅m₃ + λ₂)  -(2⋅g⋅m₁ + 2⋅λ₁) ⎞\n",
       "──────────────────────────────────, ─────────────────⎟\n",
       "     m₃⋅(2⋅m₁ + mₚ)                     2⋅m₁ + mₚ    ⎠"
      ]
     },
     "execution_count": 16,
     "metadata": {},
     "output_type": "execute_result"
    }
   ],
   "source": [
    "ypp_funciones = [y1.diff(t,2), y2.diff(t,2), y3.diff(t,2), yp.diff(t,2)] # lista de las punto punto \n",
    "y1_sol, y2_sol, y3_sol, yp_sol = sym.nonlinsolve(ecuacionesOriginales, ypp_funciones).args[0]\n",
    "y1_sol, y2_sol.simplify(), y3_sol.simplify(), yp_sol.simplify()"
   ]
  },
  {
   "cell_type": "markdown",
   "metadata": {},
   "source": [
    "Como estas soluciones están expresadas en función de los $\\lambda_j$ es útil, previo a resolver para los $\\ddot{y}_i$, substitutir las soluciones en el sistema de ecuaciones."
   ]
  },
  {
   "cell_type": "code",
   "execution_count": 17,
   "metadata": {},
   "outputs": [
    {
     "data": {
      "image/png": "[encoded data removed]",
      "text/latex": [
       "$\\displaystyle \\left[ 0, \\  g m_{2} - g m_{3} - \\frac{m_{2} \\left(2 \\ddot{y}_{2} + 2 \\ddot{y}_{p}\\right)}{2} + m_{3} \\ddot{y}_{3} + m_{3} \\ddot{y}_{p} - \\frac{m_{p} \\left(2 \\ddot{y}_{2} + 2 \\ddot{y}_{p}\\right)}{4}, \\  - \\frac{m_{3} \\left(2 \\ddot{y}_{3} + 2 \\ddot{y}_{p}\\right)}{2} + m_{3} \\ddot{y}_{3} + m_{3} \\ddot{y}_{p}, \\  - g m_{1} - g \\left(- m_{2} - m_{3} - m_{p}\\right) + m_{1} \\ddot{y}_{1} - \\frac{m_{2} \\left(2 \\ddot{y}_{2} + 2 \\ddot{y}_{p}\\right)}{2} - \\frac{m_{3} \\left(2 \\ddot{y}_{3} + 2 \\ddot{y}_{p}\\right)}{2} - \\frac{m_{p} \\left(2 \\ddot{y}_{2} + 2 \\ddot{y}_{p}\\right)}{4} + \\frac{m_{p} \\ddot{y}_{1}}{2} - m_{p} \\ddot{y}_{p}, \\  \\ddot{y}_{1} + \\ddot{y}_{p}, \\  \\ddot{y}_{2} + \\ddot{y}_{3}\\right]$"
      ],
      "text/plain": [
       "⎡                 m₂⋅(2⋅y₂̈ + 2⋅yₚ̈)                   mₚ⋅(2⋅y₂̈ + 2⋅yₚ̈)    m\n",
       "⎢0, g⋅m₂ - g⋅m₃ - ──────────────── + m₃⋅y₃̈ + m₃⋅yₚ̈ - ────────────────, - ───\n",
       "⎣                        2                                  4                 \n",
       "\n",
       "₃⋅(2⋅y₃̈ + 2⋅yₚ̈)                                                      m₂⋅(2⋅y\n",
       "───────────── + m₃⋅y₃̈ + m₃⋅yₚ̈, -g⋅m₁ - g⋅(-m₂ - m₃ - mₚ) + m₁⋅y₁̈ - ────────\n",
       "  2                                                                     2     \n",
       "\n",
       "₂̈ + 2⋅yₚ̈)   m₃⋅(2⋅y₃̈ + 2⋅yₚ̈)   mₚ⋅(2⋅y₂̈ + 2⋅yₚ̈)   mₚ⋅y₁̈                \n",
       "──────── - ──────────────── - ──────────────── + ───── - mₚ⋅yₚ̈, y₁̈ + yₚ̈, y₂\n",
       "             2                  4             2                            ⎦"
      ]
     },
     "execution_count": 17,
     "metadata": {},
     "output_type": "execute_result"
    }
   ],
   "source": [
    "ecuacionesSinLambdas = [cadaEcuacion.subs([(λ1, λ1_sol), (λ2, λ2_sol)]) for cadaEcuacion in ecuacionesOriginales] # expand ayuda a la conversión en forma matricial\n",
    "ecuacionesSinLambdas"
   ]
  },
  {
   "cell_type": "markdown",
   "metadata": {},
   "source": [
    "Y ahorá si tendremos las aceleraciones generalizadas $\\ddot{y}_i$."
   ]
  },
  {
   "cell_type": "code",
   "execution_count": 18,
   "metadata": {},
   "outputs": [],
   "source": [
    "y1_sol, y2_sol, y3_sol, yp_sol = sym.nonlinsolve(ecuacionesSinLambdas, ypp_funciones).args[0]"
   ]
  },
  {
   "cell_type": "markdown",
   "metadata": {},
   "source": [
    "Se puede comprobar que efectivamente $y_1 = -y_p$."
   ]
  },
  {
   "cell_type": "code",
   "execution_count": 19,
   "metadata": {},
   "outputs": [
    {
     "data": {
      "image/png": "[encoded data removed]",
      "text/latex": [
       "$\\displaystyle \\left( \\frac{2 g \\left(2 m_{1} m_{2} + 2 m_{1} m_{3} + m_{1} m_{p} - 8 m_{2} m_{3} - 2 m_{2} m_{p} - 4 m_{3} m_{p} - m_{p}^{2}\\right)}{4 m_{1} m_{2} + 4 m_{1} m_{3} + 2 m_{1} m_{p} + 16 m_{2} m_{3} + 6 m_{2} m_{p} + 14 m_{3} m_{p} + 3 m_{p}^{2}}, \\  - \\frac{2 g \\left(2 m_{1} m_{2} + 2 m_{1} m_{3} + m_{1} m_{p} - 8 m_{2} m_{3} - 2 m_{2} m_{p} - 4 m_{3} m_{p} - m_{p}^{2}\\right)}{4 m_{1} m_{2} + 4 m_{1} m_{3} + 2 m_{1} m_{p} + 16 m_{2} m_{3} + 6 m_{2} m_{p} + 14 m_{3} m_{p} + 3 m_{p}^{2}}\\right)$"
      ],
      "text/plain": [
       "⎛    ⎛                                                            2⎞       ⎛  \n",
       "⎜2⋅g⋅⎝2⋅m₁⋅m₂ + 2⋅m₁⋅m₃ + m₁⋅mₚ - 8⋅m₂⋅m₃ - 2⋅m₂⋅mₚ - 4⋅m₃⋅mₚ - mₚ ⎠  -2⋅g⋅⎝2⋅\n",
       "⎜───────────────────────────────────────────────────────────────────, ────────\n",
       "⎜                                                                  2          \n",
       "⎝4⋅m₁⋅m₂ + 4⋅m₁⋅m₃ + 2⋅m₁⋅mₚ + 16⋅m₂⋅m₃ + 6⋅m₂⋅mₚ + 14⋅m₃⋅mₚ + 3⋅mₚ    4⋅m₁⋅m₂\n",
       "\n",
       "                                                          2⎞ ⎞\n",
       "m₁⋅m₂ + 2⋅m₁⋅m₃ + m₁⋅mₚ - 8⋅m₂⋅m₃ - 2⋅m₂⋅mₚ - 4⋅m₃⋅mₚ - mₚ ⎠ ⎟\n",
       "─────────────────────────────────────────────────────────────⎟\n",
       "                                                           2 ⎟\n",
       " + 4⋅m₁⋅m₃ + 2⋅m₁⋅mₚ + 16⋅m₂⋅m₃ + 6⋅m₂⋅mₚ + 14⋅m₃⋅mₚ + 3⋅mₚ  ⎠"
      ]
     },
     "execution_count": 19,
     "metadata": {},
     "output_type": "execute_result"
    }
   ],
   "source": [
    "y1_sol, yp_sol"
   ]
  },
  {
   "cell_type": "markdown",
   "metadata": {},
   "source": [
    "## Fuerzas de vínculo"
   ]
  },
  {
   "cell_type": "markdown",
   "metadata": {},
   "source": [
    "Finalmente podemos escribir las fuerzas de vínculo\n",
    "\n",
    "$$\n",
    "Q_j = \\sum_j \\lambda_j \\frac{\\partial f_j}{\\partial q_i},\n",
    "$$\n",
    "ya que tenemos los $\\lambda_j$, y siendo que los vínculos son\n",
    "\n",
    "$$\n",
    "f_1(y_1, y_p) = y_1+ y_p + \\pi R - l_1= 0\\\\\n",
    "f_2(y_2, y_3) = y_2+ y_3 + \\pi R - l_2= 0\n",
    "$$\n",
    "los $\\frac{\\partial f_j}{\\partial q_i} =1\\,\\forall q_i$.\n",
    "Entonces la fueza generaliza, que no es otra cosa que la tensión, para $Q_1$"
   ]
  },
  {
   "cell_type": "code",
   "execution_count": 20,
   "metadata": {},
   "outputs": [
    {
     "data": {
      "image/png": "[encoded data removed]",
      "text/latex": [
       "$\\displaystyle - \\frac{g \\left(32 m_{1} m_{2} m_{3} + 8 m_{1} m_{2} m_{p} + 20 m_{1} m_{3} m_{p} + 4 m_{1} m_{p}^{2} + 8 m_{2} m_{3} m_{p} + 2 m_{2} m_{p}^{2} + 4 m_{3} m_{p}^{2} + m_{p}^{3}\\right)}{4 m_{1} m_{2} + 4 m_{1} m_{3} + 2 m_{1} m_{p} + 16 m_{2} m_{3} + 6 m_{2} m_{p} + 14 m_{3} m_{p} + 3 m_{p}^{2}}$"
      ],
      "text/plain": [
       "   ⎛                                                2                       2 \n",
       "-g⋅⎝32⋅m₁⋅m₂⋅m₃ + 8⋅m₁⋅m₂⋅mₚ + 20⋅m₁⋅m₃⋅mₚ + 4⋅m₁⋅mₚ  + 8⋅m₂⋅m₃⋅mₚ + 2⋅m₂⋅mₚ  \n",
       "──────────────────────────────────────────────────────────────────────────────\n",
       "                                                                              \n",
       "              4⋅m₁⋅m₂ + 4⋅m₁⋅m₃ + 2⋅m₁⋅mₚ + 16⋅m₂⋅m₃ + 6⋅m₂⋅mₚ + 14⋅m₃⋅mₚ + 3⋅\n",
       "\n",
       "         2     3⎞ \n",
       "+ 4⋅m₃⋅mₚ  + mₚ ⎠ \n",
       "──────────────────\n",
       "  2               \n",
       "mₚ                "
      ]
     },
     "execution_count": 20,
     "metadata": {},
     "output_type": "execute_result"
    }
   ],
   "source": [
    "λ1_sol.subs(y1.diff(t,2), y1_sol ).simplify()"
   ]
  },
  {
   "cell_type": "markdown",
   "metadata": {},
   "source": [
    "Y la tensión de la cuerda inferior $Q_2$"
   ]
  },
  {
   "cell_type": "code",
   "execution_count": 21,
   "metadata": {},
   "outputs": [
    {
     "data": {
      "image/png": "[encoded data removed]",
      "text/latex": [
       "$\\displaystyle - \\frac{g m_{3} \\left(16 m_{1} m_{2} + 6 m_{1} m_{p} + 4 m_{2} m_{p} - m_{p}^{2}\\right)}{4 m_{1} m_{2} + 4 m_{1} m_{3} + 2 m_{1} m_{p} + 16 m_{2} m_{3} + 6 m_{2} m_{p} + 14 m_{3} m_{p} + 3 m_{p}^{2}}$"
      ],
      "text/plain": [
       "                  ⎛                                 2⎞             \n",
       "            -g⋅m₃⋅⎝16⋅m₁⋅m₂ + 6⋅m₁⋅mₚ + 4⋅m₂⋅mₚ - mₚ ⎠             \n",
       "───────────────────────────────────────────────────────────────────\n",
       "                                                                  2\n",
       "4⋅m₁⋅m₂ + 4⋅m₁⋅m₃ + 2⋅m₁⋅mₚ + 16⋅m₂⋅m₃ + 6⋅m₂⋅mₚ + 14⋅m₃⋅mₚ + 3⋅mₚ "
      ]
     },
     "execution_count": 21,
     "metadata": {},
     "output_type": "execute_result"
    }
   ],
   "source": [
    "λ2_sol.subs([(yp.diff(t,2), yp_sol ), (y3.diff(t,2), y3_sol )]).simplify()"
   ]
  },
  {
   "cell_type": "markdown",
   "metadata": {},
   "source": [
    "Recordemos que el signo de los $Q$ es irrelevante, pues son magnitudes escalares.\n",
    "El signo es algo que se asigna cuando se lo identifica con un vector fuerza de acuerdo a los versores del sistema de coordenadas elegidos."
   ]
  },
  {
   "cell_type": "markdown",
   "metadata": {},
   "source": [
    "## Verificando los resultados con análisis matricial"
   ]
  },
  {
   "cell_type": "markdown",
   "metadata": {},
   "source": [
    "Lamentablemente una modificación en las últimas versiones del módulo `sympy` impide agrupar en matrices los coeficientes de otra cosa que no sean símbolos.\n",
    "En nuestras ecuaciones las derivadas son funciones de esto símbolos y no se pueden agrupar.\n",
    "\n",
    "Para salvar la limitación se sustituyen las derivadas segundas en el tiempo con símbolos muleto."
   ]
  },
  {
   "cell_type": "code",
   "execution_count": 22,
   "metadata": {},
   "outputs": [
    {
     "data": {
      "image/png": "[encoded data removed]",
      "text/latex": [
       "$\\displaystyle \\left\\{ \\ddot{y}_{1} : \\ddot{y}_1, \\  \\ddot{y}_{2} : \\ddot{y}_2, \\  \\ddot{y}_{3} : \\ddot{y}_3, \\  \\ddot{y}_{p} : \\ddot{y}_p\\right\\}$"
      ],
      "text/plain": [
       "{y₁̈: \\ddot{y}₁, y₂̈: \\ddot{y}₂, y₃̈: \\ddot{y}₃, yₚ̈: \\ddot{y}ₚ}"
      ]
     },
     "execution_count": 22,
     "metadata": {},
     "output_type": "execute_result"
    }
   ],
   "source": [
    "y_1pp, y_2pp, y_3pp, y_ppp = sym.symbols('\\ddot{y}_1, \\ddot{y}_2, \\ddot{y}_3, \\ddot{y}_p')\n",
    "ypp_simbolos = [y_1pp, y_2pp, y_3pp, y_ppp] # símbolos muleto\n",
    "muletosDiccionario = {\n",
    "    ypp_funciones[0] : ypp_simbolos[0],\n",
    "    ypp_funciones[1] : ypp_simbolos[1],\n",
    "    ypp_funciones[2] : ypp_simbolos[2],\n",
    "    ypp_funciones[3] : ypp_simbolos[3]\n",
    "}\n",
    "muletosDiccionario"
   ]
  },
  {
   "cell_type": "code",
   "execution_count": 23,
   "metadata": {},
   "outputs": [],
   "source": [
    "ecuaciones = [cadaEcuacion.expand() for cadaEcuacion in ecuacionesOriginales] # expand ayuda a la conversión en forma matricial\n",
    "ecuacionesMuleto = [cadaEcuacion.subs(muletosDiccionario) for cadaEcuacion in ecuaciones]"
   ]
  },
  {
   "cell_type": "code",
   "execution_count": 24,
   "metadata": {},
   "outputs": [
    {
     "data": {
      "text/latex": [
       "$\\displaystyle \\left[\\begin{matrix}- m_{1} - \\frac{m_{p}}{2} & 0 & 0 & 0\\\\0 & - m_{2} - \\frac{m_{p}}{2} & 0 & - m_{2} - \\frac{m_{p}}{2}\\\\0 & 0 & - m_{3} & - m_{3}\\\\0 & - m_{2} - \\frac{m_{p}}{2} & - m_{3} & - m_{2} - m_{3} - \\frac{3 m_{p}}{2}\\\\1 & 0 & 0 & 1\\\\0 & 1 & 1 & 0\\end{matrix}\\right] \\left[\\begin{matrix}\\ddot{y}_1\\\\\\ddot{y}_2\\\\\\ddot{y}_3\\\\\\ddot{y}_p\\end{matrix}\\right] = \\left[\\begin{matrix}- g m_{1} - λ_{1}\\\\- g m_{2} - λ_{2}\\\\- g m_{3} - λ_{2}\\\\- g m_{2} - g m_{3} - g m_{p} - λ_{1}\\\\0\\\\0\\end{matrix}\\right]$"
      ],
      "text/plain": [
       "⎡      mₚ                                ⎤                                    \n",
       "⎢-m₁ - ──     0       0          0       ⎥                                    \n",
       "⎢      2                                 ⎥                                    \n",
       "⎢                                        ⎥               ⎡       -g⋅m₁ - λ₁   \n",
       "⎢                mₚ                mₚ    ⎥               ⎢                    \n",
       "⎢   0      -m₂ - ──   0      -m₂ - ──    ⎥ ⎡\\ddot{y}₁⎤   ⎢       -g⋅m₂ - λ₂   \n",
       "⎢                2                 2     ⎥ ⎢         ⎥   ⎢                    \n",
       "⎢                                        ⎥ ⎢\\ddot{y}₂⎥   ⎢       -g⋅m₃ - λ₂   \n",
       "⎢   0         0      -m₃        -m₃      ⎥⋅⎢         ⎥ = ⎢                    \n",
       "⎢                                        ⎥ ⎢\\ddot{y}₃⎥   ⎢-g⋅m₂ - g⋅m₃ - g⋅mₚ \n",
       "⎢                mₚ                  3⋅mₚ⎥ ⎢         ⎥   ⎢                    \n",
       "⎢   0      -m₂ - ──  -m₃  -m₂ - m₃ - ────⎥ ⎣\\ddot{y}ₚ⎦   ⎢           0        \n",
       "⎢                2                    2  ⎥               ⎢                    \n",
       "⎢                                        ⎥               ⎣           0        \n",
       "⎢   1         0       0          1       ⎥                                    \n",
       "⎢                                        ⎥                                    \n",
       "⎣   0         1       1          0       ⎦                                    \n",
       "\n",
       "     \n",
       "     \n",
       "     \n",
       "    ⎤\n",
       "    ⎥\n",
       "    ⎥\n",
       "    ⎥\n",
       "    ⎥\n",
       "    ⎥\n",
       "- λ₁⎥\n",
       "    ⎥\n",
       "    ⎥\n",
       "    ⎥\n",
       "    ⎦\n",
       "     \n",
       "     \n",
       "     "
      ]
     },
     "execution_count": 24,
     "metadata": {},
     "output_type": "execute_result"
    }
   ],
   "source": [
    "A,b = sym.linear_eq_to_matrix(ecuacionesMuleto, ypp_simbolos )\n",
    "sym.Eq(sym.MatMul(A, sym.Matrix(ypp_simbolos)), b) # esto presenta el sistema como igualdad matricial"
   ]
  },
  {
   "cell_type": "markdown",
   "metadata": {},
   "source": [
    "### Despeje"
   ]
  },
  {
   "cell_type": "markdown",
   "metadata": {},
   "source": [
    "Aprovechando las relaciones que provienen de $f_1$ y $f_2$ se puede todo a una dependencia de solo dos coordenadas generalizadas: $y_1$ y $y_2$.\n",
    "Esto es substituir $\\ddot{y}_3 = \\ddot{y}_2$ e $\\ddot{y}_p = -\\ddot{y}_1$.  "
   ]
  },
  {
   "cell_type": "code",
   "execution_count": 25,
   "metadata": {},
   "outputs": [
    {
     "data": {
      "text/latex": [
       "$\\displaystyle \\left[\\begin{matrix}- m_{1} - \\frac{m_{p}}{2} & 0\\\\m_{2} + \\frac{m_{p}}{2} & - m_{2} - \\frac{m_{p}}{2}\\\\m_{3} & m_{3}\\\\m_{2} + m_{3} + \\frac{3 m_{p}}{2} & - m_{2} + m_{3} - \\frac{m_{p}}{2}\\end{matrix}\\right] \\left[\\begin{matrix}\\ddot{y}_1\\\\\\ddot{y}_2\\end{matrix}\\right] = \\left[\\begin{matrix}- g m_{1} - λ_{1}\\\\- g m_{2} - λ_{2}\\\\- g m_{3} - λ_{2}\\\\- g m_{2} - g m_{3} - g m_{p} - λ_{1}\\end{matrix}\\right]$"
      ],
      "text/plain": [
       "⎡         mₚ                  ⎤                                         \n",
       "⎢   -m₁ - ──           0      ⎥                                         \n",
       "⎢         2                   ⎥                                         \n",
       "⎢                             ⎥               ⎡       -g⋅m₁ - λ₁       ⎤\n",
       "⎢        mₚ              mₚ   ⎥               ⎢                        ⎥\n",
       "⎢   m₂ + ──        -m₂ - ──   ⎥ ⎡\\ddot{y}₁⎤   ⎢       -g⋅m₂ - λ₂       ⎥\n",
       "⎢        2               2    ⎥⋅⎢         ⎥ = ⎢                        ⎥\n",
       "⎢                             ⎥ ⎣\\ddot{y}₂⎦   ⎢       -g⋅m₃ - λ₂       ⎥\n",
       "⎢      m₃             m₃      ⎥               ⎢                        ⎥\n",
       "⎢                             ⎥               ⎣-g⋅m₂ - g⋅m₃ - g⋅mₚ - λ₁⎦\n",
       "⎢          3⋅mₚ             mₚ⎥                                         \n",
       "⎢m₂ + m₃ + ────  -m₂ + m₃ - ──⎥                                         \n",
       "⎣           2               2 ⎦                                         "
      ]
     },
     "execution_count": 25,
     "metadata": {},
     "output_type": "execute_result"
    }
   ],
   "source": [
    "eqns_sub = [x.subs([(y_3pp, -y_2pp ), (y_ppp, -y_1pp )]) for x in ecuacionesMuleto]\n",
    "A_sub, b_sub = sym.linear_eq_to_matrix(eqns_sub[:-2], ypp_simbolos[:-2] ) # [:-2] quita los dos últimos\n",
    "sym.Eq(sym.MatMul(A_sub, sym.Matrix(ypp_simbolos[:-2] ) ), b_sub)"
   ]
  },
  {
   "cell_type": "markdown",
   "metadata": {},
   "source": [
    "Si buscamos expresiones de donde despejar los $\\lambda_j$, para obtener las fuerzas de vínculo, podemos sumar las mitades del primero y último, y por otro lado del 2.o y 3.o. "
   ]
  },
  {
   "cell_type": "code",
   "execution_count": 26,
   "metadata": {},
   "outputs": [
    {
     "data": {
      "text/latex": [
       "$\\displaystyle \\left[\\begin{matrix}- \\frac{m_{1}}{2} + \\frac{m_{2}}{2} + \\frac{m_{3}}{2} + \\frac{m_{p}}{2} & - \\frac{m_{2}}{2} + \\frac{m_{3}}{2} - \\frac{m_{p}}{4}\\\\\\frac{m_{2}}{2} + \\frac{m_{3}}{2} + \\frac{m_{p}}{4} & - \\frac{m_{2}}{2} + \\frac{m_{3}}{2} - \\frac{m_{p}}{4}\\end{matrix}\\right] \\left[\\begin{matrix}\\ddot{y}_1\\\\\\ddot{y}_2\\end{matrix}\\right] = \\left[\\begin{matrix}- \\frac{g m_{1}}{2} - \\frac{g m_{2}}{2} - \\frac{g m_{3}}{2} - \\frac{g m_{p}}{2} - λ_{1}\\\\- \\frac{g m_{2}}{2} - \\frac{g m_{3}}{2} - λ_{2}\\end{matrix}\\right]$"
      ],
      "text/plain": [
       "⎡  m₁   m₂   m₃   mₚ    m₂   m₃   mₚ⎤               ⎡  g⋅m₁   g⋅m₂   g⋅m₃   g⋅\n",
       "⎢- ── + ── + ── + ──  - ── + ── - ──⎥               ⎢- ──── - ──── - ──── - ──\n",
       "⎢  2    2    2    2     2    2    4 ⎥ ⎡\\ddot{y}₁⎤   ⎢   2      2      2      2\n",
       "⎢                                   ⎥⋅⎢         ⎥ = ⎢                         \n",
       "⎢   m₂   m₃   mₚ        m₂   m₃   mₚ⎥ ⎣\\ddot{y}₂⎦   ⎢         g⋅m₂   g⋅m₃     \n",
       "⎢   ── + ── + ──      - ── + ── - ──⎥               ⎢       - ──── - ──── - λ₂\n",
       "⎣   2    2    4         2    2    4 ⎦               ⎣          2      2       \n",
       "\n",
       "mₚ     ⎤\n",
       "── - λ₁⎥\n",
       "       ⎥\n",
       "       ⎥\n",
       "       ⎥\n",
       "       ⎥\n",
       "       ⎦"
      ]
     },
     "execution_count": 26,
     "metadata": {},
     "output_type": "execute_result"
    }
   ],
   "source": [
    "A_lambda = sym.Matrix( [\n",
    "    unMedio* ( A_sub[0,:] + A_sub[3,:] ),\n",
    "    unMedio* ( A_sub[1,:] + A_sub[2,:] )\n",
    "] )\n",
    "\n",
    "b_lambda = sym.Matrix( [\n",
    "    unMedio* ( b_sub[0] + b_sub[3] ),\n",
    "    unMedio* ( b_sub[1] + b_sub[2] )\n",
    "] )\n",
    "\n",
    "sym.Eq(sym.MatMul(A_lambda, sym.Matrix(ypp_simbolos[:-2] ) ), b_lambda)"
   ]
  },
  {
   "cell_type": "markdown",
   "metadata": {},
   "source": [
    "Para obtener la dinámica se puede hacer algo similar, pero restando para eliminar las $\\lambda_j$."
   ]
  },
  {
   "cell_type": "code",
   "execution_count": 27,
   "metadata": {},
   "outputs": [
    {
     "data": {
      "text/latex": [
       "$\\displaystyle \\left[\\begin{matrix}- \\frac{m_{1}}{2} - \\frac{m_{2}}{2} - \\frac{m_{3}}{2} - m_{p} & \\frac{m_{2}}{2} - \\frac{m_{3}}{2} + \\frac{m_{p}}{4}\\\\\\frac{m_{2}}{2} - \\frac{m_{3}}{2} + \\frac{m_{p}}{4} & - \\frac{m_{2}}{2} - \\frac{m_{3}}{2} - \\frac{m_{p}}{4}\\end{matrix}\\right] \\left[\\begin{matrix}\\ddot{y}_1\\\\\\ddot{y}_2\\end{matrix}\\right] = \\left[\\begin{matrix}- \\frac{g m_{1}}{2} + \\frac{g m_{2}}{2} + \\frac{g m_{3}}{2} + \\frac{g m_{p}}{2}\\\\- \\frac{g m_{2}}{2} + \\frac{g m_{3}}{2}\\end{matrix}\\right]$"
      ],
      "text/plain": [
       "⎡  m₁   m₂   m₃        m₂   m₃   mₚ ⎤               ⎡  g⋅m₁   g⋅m₂   g⋅m₃   g⋅\n",
       "⎢- ── - ── - ── - mₚ   ── - ── + ── ⎥               ⎢- ──── + ──── + ──── + ──\n",
       "⎢  2    2    2         2    2    4  ⎥ ⎡\\ddot{y}₁⎤   ⎢   2      2      2      2\n",
       "⎢                                   ⎥⋅⎢         ⎥ = ⎢                         \n",
       "⎢   m₂   m₃   mₚ        m₂   m₃   mₚ⎥ ⎣\\ddot{y}₂⎦   ⎢         g⋅m₂   g⋅m₃     \n",
       "⎢   ── - ── + ──      - ── - ── - ──⎥               ⎢       - ──── + ────     \n",
       "⎣   2    2    4         2    2    4 ⎦               ⎣          2      2       \n",
       "\n",
       "mₚ⎤\n",
       "──⎥\n",
       "  ⎥\n",
       "  ⎥\n",
       "  ⎥\n",
       "  ⎥\n",
       "  ⎦"
      ]
     },
     "execution_count": 27,
     "metadata": {},
     "output_type": "execute_result"
    }
   ],
   "source": [
    "A_din = sym.Matrix( [\n",
    "    unMedio* ( A_sub[0,:] - A_sub[3,:] ),\n",
    "    unMedio* ( A_sub[1,:] - A_sub[2,:] )\n",
    "] )\n",
    "\n",
    "b_din = sym.Matrix( [\n",
    "    unMedio* ( b_sub[0] - b_sub[3] ),\n",
    "    unMedio* ( b_sub[1] - b_sub[2] )\n",
    "] )\n",
    "\n",
    "sym.Eq(sym.MatMul(A_din, sym.Matrix(ypp_simbolos[:-2] ) ), b_din)"
   ]
  },
  {
   "cell_type": "markdown",
   "metadata": {},
   "source": [
    "Y de aquí se despejan $\\ddot{y}_1$ e $\\ddot{y}_2$."
   ]
  },
  {
   "cell_type": "code",
   "execution_count": 28,
   "metadata": {},
   "outputs": [
    {
     "data": {
      "text/latex": [
       "$\\displaystyle \\left[\\begin{matrix}\\ddot{y}_1\\\\\\ddot{y}_2\\end{matrix}\\right] = \\left[\\begin{matrix}\\frac{2 g \\left(2 m_{1} m_{2} + 2 m_{1} m_{3} + m_{1} m_{p} - 8 m_{2} m_{3} - 2 m_{2} m_{p} - 4 m_{3} m_{p} - m_{p}^{2}\\right)}{4 m_{1} m_{2} + 4 m_{1} m_{3} + 2 m_{1} m_{p} + 16 m_{2} m_{3} + 6 m_{2} m_{p} + 14 m_{3} m_{p} + 3 m_{p}^{2}}\\\\\\frac{2 g \\left(4 m_{1} m_{2} - 4 m_{1} m_{3} + m_{1} m_{p} + m_{2} m_{p} - 3 m_{3} m_{p} - m_{p}^{2}\\right)}{4 m_{1} m_{2} + 4 m_{1} m_{3} + 2 m_{1} m_{p} + 16 m_{2} m_{3} + 6 m_{2} m_{p} + 14 m_{3} m_{p} + 3 m_{p}^{2}}\\end{matrix}\\right]$"
      ],
      "text/plain": [
       "              ⎡    ⎛                                                          \n",
       "              ⎢2⋅g⋅⎝2⋅m₁⋅m₂ + 2⋅m₁⋅m₃ + m₁⋅mₚ - 8⋅m₂⋅m₃ - 2⋅m₂⋅mₚ - 4⋅m₃⋅mₚ - \n",
       "              ⎢───────────────────────────────────────────────────────────────\n",
       "              ⎢                                                               \n",
       "⎡\\ddot{y}₁⎤   ⎢4⋅m₁⋅m₂ + 4⋅m₁⋅m₃ + 2⋅m₁⋅mₚ + 16⋅m₂⋅m₃ + 6⋅m₂⋅mₚ + 14⋅m₃⋅mₚ + 3\n",
       "⎢         ⎥ = ⎢                                                               \n",
       "⎣\\ddot{y}₂⎦   ⎢          ⎛                                                2⎞  \n",
       "              ⎢      2⋅g⋅⎝4⋅m₁⋅m₂ - 4⋅m₁⋅m₃ + m₁⋅mₚ + m₂⋅mₚ - 3⋅m₃⋅mₚ - mₚ ⎠  \n",
       "              ⎢───────────────────────────────────────────────────────────────\n",
       "              ⎢                                                               \n",
       "              ⎣4⋅m₁⋅m₂ + 4⋅m₁⋅m₃ + 2⋅m₁⋅mₚ + 16⋅m₂⋅m₃ + 6⋅m₂⋅mₚ + 14⋅m₃⋅mₚ + 3\n",
       "\n",
       "  2⎞⎤\n",
       "mₚ ⎠⎥\n",
       "────⎥\n",
       "   2⎥\n",
       "⋅mₚ ⎥\n",
       "    ⎥\n",
       "    ⎥\n",
       "    ⎥\n",
       "────⎥\n",
       "   2⎥\n",
       "⋅mₚ ⎦"
      ]
     },
     "execution_count": 28,
     "metadata": {},
     "output_type": "execute_result"
    }
   ],
   "source": [
    "ypp_solve = A_din.solve(b_din)\n",
    "ypp_solve = [x.simplify() for x in ypp_solve]\n",
    "sym.Eq(sym.Matrix(ypp_simbolos[:-2] ) , sym.Matrix(ypp_solve ))"
   ]
  },
  {
   "cell_type": "markdown",
   "metadata": {},
   "source": [
    "Lo que permite verificar que coinciden con los obtenidos de resolver directamente el sistema de ecuaciones."
   ]
  },
  {
   "cell_type": "code",
   "execution_count": null,
   "metadata": {},
   "outputs": [],
   "source": []
  }
 ],
 "metadata": {
  "kernelspec": {
   "display_name": "Python 3",
   "language": "python",
   "name": "python3"
  },
  "language_info": {
   "codemirror_mode": {
    "name": "ipython",
    "version": 3
   },
   "file_extension": ".py",
   "mimetype": "text/x-python",
   "name": "python",
   "nbconvert_exporter": "python",
   "pygments_lexer": "ipython3",
   "version": "3.7.3"
  }
 },
 "nbformat": 4,
 "nbformat_minor": 4
}
