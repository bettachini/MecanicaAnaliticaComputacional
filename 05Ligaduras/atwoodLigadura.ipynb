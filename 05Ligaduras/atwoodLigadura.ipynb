{
  "cells": [
    {
      "cell_type": "markdown",
      "metadata": {
        "id": "B4Ay3F3x9dl3"
      },
      "source": [
        "# Máquina de Atwood | Ligaduras"
      ]
    },
    {
      "cell_type": "markdown",
      "metadata": {
        "id": "S6GiN-Mm9dl4"
      },
      "source": [
        "[![DIIT - UNLaM](data:image/png;base64,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)](https://ingenieria.unlam.edu.ar/)  \n",
        "2023 [Víctor A. Bettachini](mailto:vbettachini@unlam.edu.ar)  \n",
        "[![by-nc-sa_80x15.png](data:image/png;base64,iVBORw0KGgoAAAANSUhEUgAAAFAAAAAPCAMAAABEF7i9AAAABGdBTUEAANbY1E9YMgAAAJZQTFRF////7u7u3d3dys7KzMzMyMzIxsrGxcbFur+6u7u7s7iyq7GqqqqqmZmZlJmTj5CPiIiIh4eHhoaGgICAfYJ9d3d3cnZxZ2tnZmZmW15bVVVVS0xLREREQ0NDQkJCQUJBOz07OTs5MzMzMTMxLjAuJygnJCUjIiIiISEhICAgGRkZERERDxAPDg4ODQ4NDQ0NDQ0MAAAADbeuvgAAAOhJREFUeNqtk+tyAiEMhQ+6XtroutZiveBdu+p2tXn/l3OQy8roL5fMMENC+HIIAI5sYEQ1DSRtP5zZkCpToubf2/oMMC0zX0QdiLqjmsD1sVKd8JSoNa8HvGRIclZCcZ5A7Yiag/s6oJPMYD8FKgIC3wG/+QP5DFIWot+DvBB1OxYAk+W2W88HqqwAOOZE6FuZbfWZZUn02fb1rTAHc3izZgQCrxWqSSFkH/IaKuSHEzEChfyk2PbwmqFX8EQo3jaw2Ac9DIFhD12Tn4CbU+RbTv+HHrj8jfAOacxflrc61/0psf9yZLsBr5WUrhUa3hEAAAAASUVORK5CYII=)](https://creativecommons.org/licenses/by-sa/4.0/deed.es_ES)\n",
        "\n",
        "---"
      ]
    },
    {
      "cell_type": "markdown",
      "metadata": {
        "id": "rxoAfrMp9dl8"
      },
      "source": [
        "## Enunciado\n",
        "Obtenga con la ecuación de Euler-Lagrange la aceleración que presentan las pesas que cuelgan de una cuerda de longitud $\\ell$ que pasa por sobre una polea de radio $R$ y masa $M$.\n",
        "1. Resuelva para el caso en que se considera $M$ irrelevante.\n",
        "1. Resuelva ahora considerando $M$, y que la polea presenta una sección cilíndrica.\n",
        "El momento de inercia de un cilindro ante rotaciones en torno a su eje de simetría longitudinal es $(M/2) R^2$."
      ]
    },
    {
      "cell_type": "markdown",
      "metadata": {
        "id": "eVrVXBml9dl9"
      },
      "source": [
        "![marion_fig2_11a.png](data:image/png;base64,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)"
      ]
    },
    {
      "cell_type": "markdown",
      "metadata": {
        "id": "YQtuvkez9dl-"
      },
      "source": [
        "## El modelo físico"
      ]
    },
    {
      "cell_type": "code",
      "execution_count": 1,
      "metadata": {
        "tags": [],
        "id": "qAqpaRCI9dl_"
      },
      "outputs": [],
      "source": [
        "import sympy as sym # módulo de cálculo simbólico\n",
        "from sympy.physics import mechanics as mech\n",
        "mech.init_vprinting() # notación con punto para la velocidad y punto punto para la aceleración"
      ]
    },
    {
      "cell_type": "code",
      "execution_count": 2,
      "metadata": {
        "tags": [],
        "id": "Gpv825mf9dmA"
      },
      "outputs": [],
      "source": [
        "# Sistema de coordenadas\n",
        "e = mech.ReferenceFrame('e') # sistema de coordenadas\n",
        "t = sym.symbols('t') # tiempo\n",
        "\n",
        "# Parámetros físicos del sistema\n",
        "M, R, m1, m2, g, l = sym.symbols('M, R, m_1, m_2, g, \\ell', positive=True)"
      ]
    },
    {
      "cell_type": "markdown",
      "metadata": {
        "id": "lEmucyas9dmA"
      },
      "source": [
        "### Ligaduras\n",
        "Cada vez que el modelo físico asume una relación entre coordenadas o velocidades generalizades se establere una **ligadura** entre estas."
      ]
    },
    {
      "cell_type": "markdown",
      "metadata": {
        "id": "qmZUeGkw9dmB"
      },
      "source": [
        "#### Longitud de la cuerda\n",
        "De considerar inextensible a la cuerda, es decir que mantiene su longitud $\\ell$ como constante se establece una ligadura entre las coordenadas de ambas pesas que cuelgan desde la polea.\n",
        "\n",
        "Puesto que de la circunferencia de la polea de radio $R$ la cuerda cubre un arco de la mitad de la misma $\\pi R$, su longitud total $\\ell$ corresponde a la suma de este con la distancia vertical que separa su centro de masa con el de las pesas que cuelgan según\n",
        "$$\n",
        "y_1+ y_2 + \\pi R = \\ell\n",
        "$$\n",
        "Tal relación es mejor escribirle como una función homogénea (igualada al valor nulo $0$)\n",
        "$$\n",
        "f_1(y_1, y_2) = y_1+ y_2 + \\pi R - \\ell = 0\n",
        "$$"
      ]
    },
    {
      "cell_type": "code",
      "execution_count": 3,
      "metadata": {
        "tags": [],
        "colab": {
          "base_uri": "https://localhost:8080/",
          "height": 38
        },
        "id": "2R5nQeZO9dmB",
        "outputId": "22706ecd-cce1-4327-b4bd-82583b805f07"
      },
      "outputs": [
        {
          "output_type": "execute_result",
          "data": {
            "text/plain": [
              "π⋅R - \\ell + y₁ + y₂ = 0"
            ],
            "text/latex": "$\\displaystyle \\pi R - \\ell + y_{1} + y_{2} = 0$"
          },
          "metadata": {},
          "execution_count": 3
        }
      ],
      "source": [
        "y1, y2 = mech.dynamicsymbols('y_1, y_2')\n",
        "f1 = sym.Eq(y1+ y2 + sym.pi* R - l, 0 ) # ligadura l como función homogénea\n",
        "f1"
      ]
    },
    {
      "cell_type": "markdown",
      "metadata": {
        "id": "1RIU2vE69dmC"
      },
      "source": [
        "#### La cuerda no desliza sobre la polea\n",
        "Usualmente se establece otra ligadura que involucra a la cuerda.\n",
        "Si al moverse no desliza en torno a la polea cambia su inclinación.\n",
        "Esta última podemos describirle con un ángulo, $\\theta$.\n",
        "\n",
        "Un cambio infinitesimal del arco de cuerda sobre la polea causada por un desplazamiento de una de las pesas, e.g. $d y_1$, implica una cambio infinitesimal de $d \\theta$ que responde a\n",
        "$$\n",
        "\\frac{d y_1}{R} = \\frac{d \\theta}{\\pi}.\n",
        "$$\n",
        "Esto resultaría en una media vuelta si $\\Delta y_1 = R$ siendo la circunferencia de un círculo $2 \\pi R$.\n",
        "\n",
        "respetando como positivo el sentido en contra de las agujas del reloj.\n",
        "Tales diferenciales se desarrollan en un infinitesimal de tiempo $d t$ lo que permite relacionar las respectivas velocidades generalizadas."
      ]
    },
    {
      "cell_type": "code",
      "execution_count": 4,
      "metadata": {
        "tags": [],
        "colab": {
          "base_uri": "https://localhost:8080/",
          "height": 56
        },
        "id": "1yu8Efjx9dmD",
        "outputId": "2e56d3c7-6232-4328-cfc6-b4054d497964"
      },
      "outputs": [
        {
          "output_type": "execute_result",
          "data": {
            "text/plain": [
              "  \\thėta   y₁̇    \n",
              "- ────── + ── = 0\n",
              "    π      R     "
            ],
            "text/latex": "$\\displaystyle - \\frac{\\dot{\\theta}}{\\pi} + \\frac{\\dot{y}_{1}}{R} = 0$"
          },
          "metadata": {},
          "execution_count": 4
        }
      ],
      "source": [
        "theta = mech.dynamicsymbols(r'\\theta')\n",
        "f2 = sym.Eq(y1.diff(t)/R - theta.diff(t)/ sym.pi, 0)\n",
        "f2"
      ]
    },
    {
      "cell_type": "markdown",
      "metadata": {
        "id": "piwEca0E9dmD"
      },
      "source": [
        "## Resolución sin contemplar la polea"
      ]
    },
    {
      "cell_type": "markdown",
      "metadata": {
        "tags": [],
        "id": "kGA-uVzy9dmD"
      },
      "source": [
        "### Energía cinética de traslación"
      ]
    },
    {
      "cell_type": "markdown",
      "metadata": {
        "id": "wn0DtQe59dmE"
      },
      "source": [
        "Solo los centros de masa de la pesas que cuelgan de la polea se desplazan.\n",
        "Y el vector posición de ambas puede expresarse usando una única coordenada generalizada explotando la primera de las funciones de ligadura."
      ]
    },
    {
      "cell_type": "markdown",
      "metadata": {
        "id": "5eqsIUUh9dmE"
      },
      "source": [
        "Usualmente al conocer la función de ligadura se la aprovecha para despejaría una de las coordenadas o velocidades generalizadas en función de las otras y así reducir el número de grados de libertad requeridos para describir el sistema."
      ]
    },
    {
      "cell_type": "code",
      "execution_count": 5,
      "metadata": {
        "tags": [],
        "colab": {
          "base_uri": "https://localhost:8080/",
          "height": 38
        },
        "id": "PhddUzpI9dmE",
        "outputId": "497e8a8a-ac76-48eb-ddd3-3f014c501e51"
      },
      "outputs": [
        {
          "output_type": "execute_result",
          "data": {
            "text/plain": [
              "y₂ = -π⋅R + \\ell - y₁"
            ],
            "text/latex": "$\\displaystyle y_{2} = - \\pi R + \\ell - y_{1}$"
          },
          "metadata": {},
          "execution_count": 5
        }
      ],
      "source": [
        "y2_f1 = sym.Eq(y2,\n",
        "               sym.solveset(f1.lhs, y2).args[0]\n",
        "              )\n",
        "y2_f1"
      ]
    },
    {
      "cell_type": "markdown",
      "metadata": {
        "id": "QJxZIpOQ9dmF"
      },
      "source": [
        "Si imaginamos un versor $\\hat{e}_y$ que apunte hacia arriba y uno $\\hat{e}_x$ que lo haga hacia la derecha de la figura anterior tendremos estas posiciones para ambas particulas que cuelgan en los extremos de la cuerda de la polea."
      ]
    },
    {
      "cell_type": "code",
      "execution_count": 6,
      "metadata": {
        "tags": [],
        "colab": {
          "base_uri": "https://localhost:8080/",
          "height": 38
        },
        "id": "lOz7TrJN9dmF",
        "outputId": "3b9f45a7-2611-427f-e605-bef5edabb11b"
      },
      "outputs": [
        {
          "output_type": "execute_result",
          "data": {
            "text/plain": [
              "(-R e_x + -y₁ e_y, R e_x + (π⋅R - \\ell + y₁) e_y)"
            ],
            "text/latex": "$\\displaystyle \\left( -  R\\mathbf{\\hat{e}_x} -  y_{1}\\mathbf{\\hat{e}_y}, \\  R\\mathbf{\\hat{e}_x} + (\\pi R - \\ell + y_{1})\\mathbf{\\hat{e}_y}\\right)$"
          },
          "metadata": {},
          "execution_count": 6
        }
      ],
      "source": [
        "m1_r = -R * e.x + y1* (-e.y)\n",
        "m2_r = R * e.x + y2_f1.rhs* (-e.y) # resto longitud hilo y1 y media vuelta polea\n",
        "m1_r, m2_r"
      ]
    },
    {
      "cell_type": "markdown",
      "metadata": {
        "id": "Ivmt3PQF9dmF"
      },
      "source": [
        "Para lo atañe a lo pedido en este enunciado la posición en $\\mathbf{\\hat{e}_x}$ es irrelevante, pero es bueno dejarle expresada por si en el futuro se utiliza tal información."
      ]
    },
    {
      "cell_type": "code",
      "execution_count": 7,
      "metadata": {
        "tags": [],
        "id": "wyC24Ndi9dmG"
      },
      "outputs": [],
      "source": [
        "def energíaCinéticaPartícula(masa, posición, marcoDeReferencia):\n",
        "    \"\"\"\n",
        "    A partir de la masa y posición de una partícula puntual en un marco de referencia devuelve su energía cinética.\n",
        "\n",
        "    Parámetros\n",
        "    ----------\n",
        "    masa: (sympy.core.symbol.Symbol)\n",
        "        De un partícula\n",
        "    posición: (sympy.physics.vector.vector.Vector)\n",
        "        del centro de masa de la partícula\n",
        "    marcoDeReferencia: (sympy.physics.vector.frame.ReferenceFrame)\n",
        "        En el que se expresa la posición\n",
        "\n",
        "    Retorna\n",
        "    -------\n",
        "    Multiplicación de símbolos Sympy (sympy.core.mul.Mul)\n",
        "        Energía cinética, T = (m/2) \\dot{\\vec{r}} \\cdot\\dot{\\vec{r}}\n",
        "    \"\"\"\n",
        "    velocidad = posición.diff(t, marcoDeReferencia)\n",
        "    unMedio = sym.Rational(1,2) # Rational: fracción de enteros, alternativamente podría haberse usado 0.5\n",
        "    return unMedio* masa* velocidad.dot(velocidad)"
      ]
    },
    {
      "cell_type": "code",
      "execution_count": 8,
      "metadata": {
        "tags": [],
        "colab": {
          "base_uri": "https://localhost:8080/",
          "height": 54
        },
        "id": "9FY4_PTT9dmG",
        "outputId": "3d7a668a-f450-4670-9a0e-7487e1c565b3"
      },
      "outputs": [
        {
          "output_type": "execute_result",
          "data": {
            "text/plain": [
              "                2\n",
              "    (m₁ + m₂)⋅y₁̇ \n",
              "T = ─────────────\n",
              "          2      "
            ],
            "text/latex": "$\\displaystyle T = \\frac{\\left(m_{1} + m_{2}\\right) \\dot{y}_{1}^{2}}{2}$"
          },
          "metadata": {},
          "execution_count": 8
        }
      ],
      "source": [
        "# Energía cinética del sistema\n",
        "m1_T = energíaCinéticaPartícula(m1, m1_r, e)\n",
        "m2_T = energíaCinéticaPartícula(m2, m2_r, e)\n",
        "T = sym.Eq(sym.Symbol('T'), m1_T + m2_T ).simplify() # simplify: simplifica usando factor común y otras operaciones\n",
        "T"
      ]
    },
    {
      "cell_type": "markdown",
      "metadata": {
        "id": "750XHMOl9dmG"
      },
      "source": [
        "### Energía potencial gravitatoria"
      ]
    },
    {
      "cell_type": "markdown",
      "metadata": {
        "id": "wEdMKHuF9dmH"
      },
      "source": [
        "Es tentador crear una función que calcule la energía potencial gravitatoria de cada partícula del sistema a partir de\n",
        "$$\n",
        "V_\\mathrm{gravitatoria} = - \\vec{P} \\cdot \\vec{r} = - (m \\vec{g}) \\cdot \\vec{r}\n",
        "$$"
      ]
    },
    {
      "cell_type": "code",
      "execution_count": 9,
      "metadata": {
        "tags": [],
        "id": "euwMJEUj9dmH"
      },
      "outputs": [],
      "source": [
        "def energíaPotencialGravitatoria(masa, posición, aceleracionGravitatoria):\n",
        "    \"\"\"\n",
        "    Retorna la energía potencial gravitatoria de una partícula de masa m cuya posición r está dada en un sistema de referencia en el cual g es la aceleración gravitatoria terrestre.\n",
        "\n",
        "    Parámetros\n",
        "    ----------\n",
        "    aceleracionGravitatoria: (sympy.physics.vector.vector.Vector)\n",
        "        vector orientado según el sistema de referencia\n",
        "    masa: (sympy.core.symbol.Symbol\n",
        "        del cuerpo en cuestión\n",
        "    posición: (sympy.core.symbol.Symbol)\n",
        "        del centro de masa en un sistema de referencia relacionable con el de aceleracionGravitatoria\n",
        "\n",
        "    Retorna\n",
        "    -------\n",
        "    Energía potencial gravitatoria: (sympy.core.mul.Mul)\n",
        "        - (m \\vec{g}) \\cdot{r}\n",
        "    \"\"\"\n",
        "    return - (masa* aceleracionGravitatoria).dot(posición)"
      ]
    },
    {
      "cell_type": "code",
      "execution_count": 10,
      "metadata": {
        "tags": [],
        "colab": {
          "base_uri": "https://localhost:8080/",
          "height": 38
        },
        "id": "GCAux3oz9dmH",
        "outputId": "991895b5-5466-4a2f-a121-c754d9989b35"
      },
      "outputs": [
        {
          "output_type": "execute_result",
          "data": {
            "text/plain": [
              "V = g⋅(-m₁⋅y₁ + m₂⋅(π⋅R - \\ell + y₁))"
            ],
            "text/latex": "$\\displaystyle V = g \\left(- m_{1} y_{1} + m_{2} \\left(\\pi R - \\ell + y_{1}\\right)\\right)$"
          },
          "metadata": {},
          "execution_count": 10
        }
      ],
      "source": [
        "# Energía potencial\n",
        "g_vector = g* (-e.y) # aceleración gravitatoria en -y versor\n",
        "m1_V = energíaPotencialGravitatoria(m1, m1_r, g_vector)\n",
        "m2_V = energíaPotencialGravitatoria(m2, m2_r, g_vector)\n",
        "V = sym.Eq(sym.Symbol('V'), m1_V+ m2_V ).simplify()\n",
        "V"
      ]
    },
    {
      "cell_type": "markdown",
      "metadata": {
        "id": "3wZjRanf9dmH"
      },
      "source": [
        "### Lagrangiano del sistema\n",
        "Recordemos que hay un único Lagrangiano por sistema calculado con sus energías cinética y potencial que en el caso más general puede depender de las coordenadas y velocidades generalizadas, así como explícitamente con el tiempo\n",
        "$$\n",
        "\\mathcal{L}(q_i, \\dot{q}_i, t) = T(q_i, \\dot{q}_i, t)- V(q_i, \\dot{q}_i, t).\n",
        "$$\n",
        "\n",
        "Se obvió cualquier consideración sobre la polea.\n",
        "Tanto la coordenada generalizada que describe su orientación $\\theta$, como la correspondiente velocidad generalizada $\\dot{\\theta}$ está ausente del Lagrangiano que resulta una función de la coordenada generalizada $x_1$ y la velocidad generalizada $\\dot{x}_1$\n",
        "$$\n",
        "\\mathcal{L}(x_1, \\dot{x}_1) = T(\\dot{x}_1)- V(x_1).\n",
        "$$"
      ]
    },
    {
      "cell_type": "code",
      "execution_count": 11,
      "metadata": {
        "tags": [],
        "colab": {
          "base_uri": "https://localhost:8080/",
          "height": 54
        },
        "id": "IiXq9UlB9dmI",
        "outputId": "c22bdc50-2860-4bfd-b206-9db3cfb06d30"
      },
      "outputs": [
        {
          "output_type": "execute_result",
          "data": {
            "text/plain": [
              "                                                             2\n",
              "                                                 (m₁ + m₂)⋅y₁̇ \n",
              "\\mathcal{L} = g⋅(m₁⋅y₁ - m₂⋅(π⋅R - \\ell + y₁)) + ─────────────\n",
              "                                                       2      "
            ],
            "text/latex": "$\\displaystyle \\mathcal{L} = g \\left(m_{1} y_{1} - m_{2} \\left(\\pi R - \\ell + y_{1}\\right)\\right) + \\frac{\\left(m_{1} + m_{2}\\right) \\dot{y}_{1}^{2}}{2}$"
          },
          "metadata": {},
          "execution_count": 11
        }
      ],
      "source": [
        "sym.Eq(sym.Symbol('\\mathcal{L}'), (T.rhs - V.rhs).simplify() )"
      ]
    },
    {
      "cell_type": "markdown",
      "metadata": {
        "id": "gXzLepnh9dmI"
      },
      "source": [
        "### Un único grado de libertad, una única ecuación de Euler-Lagrange"
      ]
    },
    {
      "cell_type": "markdown",
      "metadata": {
        "id": "j2IH0wzY9dmI"
      },
      "source": [
        "Aunque en este caso se requiere calcular una única ecuación de Euler-Lagrange, en general se requieren tantas como como coordenadas $q$ hay en el sistema.\n",
        "\n",
        "Nuevamente es tentador armar una función que haga el trabajo de calcular\n",
        "$$\n",
        "\\frac{\\partial}{\\partial q} \\mathcal{L} - \\frac{\\mathrm{d}}{\\mathrm{d}t} \\frac{\\partial}{\\partial \\dot{q}} \\mathcal{L} = 0\n",
        "$$"
      ]
    },
    {
      "cell_type": "code",
      "execution_count": 12,
      "metadata": {
        "tags": [],
        "id": "-S2cMQgI9dmI"
      },
      "outputs": [],
      "source": [
        "def eulerLagrange(T, V, coordenadaGeneralizada):\n",
        "    '''\n",
        "    Esta función devuelve la ecuación de Euler-Lagrange para una coordenada generalizada a partir de las energías del sistema.\n",
        "\n",
        "    Parámetros\n",
        "    ----------\n",
        "    T : Igualdad Sympy (sympy.core.relational.Equality)\n",
        "        En su lado derecho explicita la energía cinética del sistema en función de coordenadas y velocidades generalizadas y el tiempo.\n",
        "    V : Igualdad Sympy (sympy.core.relational.Equality)\n",
        "        En su lado derecho explicita la energía potencial del sistema en función de coordenadas y velocidades generalizadas y el tiempo.\n",
        "    coordenadaGeneralizada: Símbolo Sympy (sympy.core.symbol.Symbol)\n",
        "        Para la que quiere obtenerse la ecuación de Euler-Lagrange\n",
        "\n",
        "    Retorna\n",
        "    -------\n",
        "    Igualdad Sympy (sympy.core.relational.Equality)\n",
        "        Ecuación de Euler-Lagrange homogénea para la coordenadaGeneralizada\n",
        "    '''\n",
        "    lagrangiano = (T.rhs - V.rhs).expand()\n",
        "    t = sym.Symbol('t') # como se deriva respecto al tiempo con la función diff se declara t como símbolo\n",
        "    return sym.Eq(\n",
        "        lagrangiano.diff(coordenadaGeneralizada)\n",
        "        - lagrangiano.diff(coordenadaGeneralizada.diff(t)).diff(t)\n",
        "        , 0\n",
        "    ).simplify()"
      ]
    },
    {
      "cell_type": "code",
      "execution_count": 13,
      "metadata": {
        "tags": [],
        "colab": {
          "base_uri": "https://localhost:8080/",
          "height": 38
        },
        "id": "Yx4FQqCz9dmJ",
        "outputId": "f17471e2-60f7-4a59-b0d1-053bea616452"
      },
      "outputs": [
        {
          "output_type": "execute_result",
          "data": {
            "text/plain": [
              "-g⋅m₁ + g⋅m₂ + m₁⋅y₁̈ + m₂⋅y₁̈ = 0"
            ],
            "text/latex": "$\\displaystyle - g m_{1} + g m_{2} + m_{1} \\ddot{y}_{1} + m_{2} \\ddot{y}_{1} = 0$"
          },
          "metadata": {},
          "execution_count": 13
        }
      ],
      "source": [
        "y1_EL = eulerLagrange(T, V, y1)\n",
        "y1_EL"
      ]
    },
    {
      "cell_type": "markdown",
      "metadata": {
        "id": "dVfouTid9dmJ"
      },
      "source": [
        "### Despejando la aceleración\n",
        "Podemos despejar $\\ddot{x}$ y asignar este resultado a una variable para uso posterior"
      ]
    },
    {
      "cell_type": "code",
      "execution_count": 14,
      "metadata": {
        "tags": [],
        "colab": {
          "base_uri": "https://localhost:8080/",
          "height": 55
        },
        "id": "gcOIEgiE9dmK",
        "outputId": "5a85d970-3794-473f-d4d6-56c856ad8373"
      },
      "outputs": [
        {
          "output_type": "execute_result",
          "data": {
            "text/plain": [
              "     g⋅(m₁ - m₂)\n",
              "y₁̈ = ───────────\n",
              "       m₁ + m₂  "
            ],
            "text/latex": "$\\displaystyle \\ddot{y}_{1} = \\frac{g \\left(m_{1} - m_{2}\\right)}{m_{1} + m_{2}}$"
          },
          "metadata": {},
          "execution_count": 14
        }
      ],
      "source": [
        "m1_a = sym.Eq(y1.diff(t,2), sym.solve(y1_EL, y1.diff(t,2))[0]  )# [0] toma el único elemento de la lista\n",
        "m1_a"
      ]
    },
    {
      "cell_type": "markdown",
      "metadata": {
        "id": "D1JkiUh19dmK"
      },
      "source": [
        "Más adelante en el curso ejercitaremos el dar valores a los parámetros y condiciones iniciales del sistema para poder calcular numéricamente $y(t)$."
      ]
    },
    {
      "cell_type": "markdown",
      "metadata": {
        "id": "4B3io_Uv9dmK"
      },
      "source": [
        "## Resolución contemplando la polea"
      ]
    },
    {
      "cell_type": "markdown",
      "metadata": {
        "id": "xW7TVbxH9dmK"
      },
      "source": [
        "### Energía cinética de rotación"
      ]
    },
    {
      "cell_type": "markdown",
      "metadata": {
        "id": "cDNOBGGH9dmK"
      },
      "source": [
        "Si bien el centro de masa de la polea no se desplaza su rotación agrega un término a la energía cinética en función de la velocidad angular \\\\(\\vec{\\omega}\\\\).\n",
        "\n",
        "Veremos más adelante en el curso, cuando introduzcamos el **tensor de inercia** $\\overline{\\overline{I}}$ de un cuerpo extenso, que la energía cinética de rotación se calcula como\n",
        "$$\n",
        "T_\\mathrm{rotación} = \\frac{1}{2} \\overline{\\overline{I}} \\vec{\\omega} \\vec{\\omega},\n",
        "$$\n",
        "y que esta se reduce a\n",
        "$$\n",
        "T_\\mathrm{rotación} = \\frac{1}{2} I \\vec{\\omega}^2 ,\n",
        "$$\n",
        "cuando $\\vec{\\omega}$ está alineado con uno de los ejes de simetría del cuerpo y nos basta con conocer solo uno de los elementos del tensor, el **momento de inercia** $I$ que correspondiente a esta dirección de $\\vec{\\omega}$."
      ]
    },
    {
      "cell_type": "code",
      "execution_count": 15,
      "metadata": {
        "tags": [],
        "id": "jCc-BjOW9dmK"
      },
      "outputs": [],
      "source": [
        "def energíaCinéticaRotación(momentoDeInercia, velocidadAngular):\n",
        "    \"\"\"\n",
        "    Calcula la energía cinética de un cuerpo extenso (no puntual) que rota en torno a un eje.\n",
        "\n",
        "    Parámetros\n",
        "    ----------\n",
        "    momentoDeInercia : Igualdad Sympy (sympy.Equality)\n",
        "        Expresada en referencia al eje de rotación para la velocidadAngular.\n",
        "    velocidadAngular : Igualdad Sympy (sympy.Equality)\n",
        "        Velocidad de rotación en torno a un eje.\n",
        "\n",
        "    Retorna\n",
        "    -------\n",
        "    Igualdad Sympy (sympy.Equality)\n",
        "        Energía cinética de rotación (I/2)* omega**2\n",
        "    \"\"\"\n",
        "    unMedio = sym.Rational(1,2) # Rational: fracción de enteros, alternativamente podría haberse usado 0.5\n",
        "    return unMedio* momentoDeInercia* velocidadAngular**2"
      ]
    },
    {
      "cell_type": "markdown",
      "metadata": {
        "id": "pAtI8HXI9dmL"
      },
      "source": [
        "El momento de inercia para un cilindro de masa $m$ y radio $R$ girando en torno a su eje longitudinal de simetría\n",
        "$$\n",
        "I_\\mathrm{cilindro} = \\frac{1}{2} m R^2.\n",
        "$$"
      ]
    },
    {
      "cell_type": "code",
      "execution_count": 16,
      "metadata": {
        "tags": [],
        "colab": {
          "base_uri": "https://localhost:8080/",
          "height": 56
        },
        "id": "PhVT7sbO9dmL",
        "outputId": "600aa88a-4eed-453d-d1bc-2363e0505f54"
      },
      "outputs": [
        {
          "output_type": "execute_result",
          "data": {
            "text/plain": [
              "                         2       2\n",
              "                      M⋅R ⋅\\thėta \n",
              "T_\\mathrm{rotación} = ────────────\n",
              "                           4      "
            ],
            "text/latex": "$\\displaystyle T_\\mathrm{rotación} = \\frac{M R^{2} \\dot{\\theta}^{2}}{4}$"
          },
          "metadata": {},
          "execution_count": 16
        }
      ],
      "source": [
        "unMedio = sym.Rational(1,2) # Rational: fracción de enteros, alternativamente podría haberse usado 0.5\n",
        "I_cilindro = sym.Eq(\n",
        "    sym.Symbol('I'),\n",
        "    unMedio* M* R**2\n",
        ") # momento de inercia de rotación en torno a su eje de simetría longitudinal\n",
        "velocidadAngular_cilindro = theta.diff(t)\n",
        "\n",
        "T_rotaciónPolea = sym.Eq(\n",
        "    sym.Symbol('T_\\mathrm{rotación}'),\n",
        "    energíaCinéticaRotación(I_cilindro.rhs, velocidadAngular_cilindro )\n",
        ")\n",
        "T_rotaciónPolea"
      ]
    },
    {
      "cell_type": "markdown",
      "metadata": {
        "id": "Es25iTqD9dmM"
      },
      "source": [
        "Recordemos que tenemos una ligadura que nos permite obviar $\\dot{\\theta}$ como variable."
      ]
    },
    {
      "cell_type": "code",
      "execution_count": 17,
      "metadata": {
        "tags": [],
        "colab": {
          "base_uri": "https://localhost:8080/",
          "height": 51
        },
        "id": "nploGYGc9dmM",
        "outputId": "58c14a82-3595-4457-bdb7-bece4dea6de8"
      },
      "outputs": [
        {
          "output_type": "execute_result",
          "data": {
            "text/plain": [
              "         π⋅y₁̇\n",
              "\\thėta = ────\n",
              "          R  "
            ],
            "text/latex": "$\\displaystyle \\dot{\\theta} = \\frac{\\pi \\dot{y}_{1}}{R}$"
          },
          "metadata": {},
          "execution_count": 17
        }
      ],
      "source": [
        "thetaPunto_f2 = sym.Eq(\n",
        "    velocidadAngular_cilindro,\n",
        "    sym.solveset(f2.lhs, velocidadAngular_cilindro ).args[0]\n",
        ")\n",
        "thetaPunto_f2"
      ]
    },
    {
      "cell_type": "code",
      "execution_count": 18,
      "metadata": {
        "tags": [],
        "colab": {
          "base_uri": "https://localhost:8080/",
          "height": 54
        },
        "id": "b-0aGcI99dmN",
        "outputId": "40d0c0e3-0391-4560-bf48-6e81d81a1862"
      },
      "outputs": [
        {
          "output_type": "execute_result",
          "data": {
            "text/plain": [
              "                       2     2\n",
              "                      π ⋅M⋅y₁̇ \n",
              "T_\\mathrm{rotación} = ────────\n",
              "                         4    "
            ],
            "text/latex": "$\\displaystyle T_\\mathrm{rotación} = \\frac{\\pi^{2} M \\dot{y}_{1}^{2}}{4}$"
          },
          "metadata": {},
          "execution_count": 18
        }
      ],
      "source": [
        "T_rotaciónPolea_x1 = T_rotaciónPolea.subs(velocidadAngular_cilindro, thetaPunto_f2.rhs)\n",
        "T_rotaciónPolea_x1"
      ]
    },
    {
      "cell_type": "markdown",
      "metadata": {
        "id": "eCtdIiv09dmN"
      },
      "source": [
        "Contemplando esta nueva contribución a la energía cinética del sistema esta es ahora"
      ]
    },
    {
      "cell_type": "code",
      "execution_count": 19,
      "metadata": {
        "tags": [],
        "colab": {
          "base_uri": "https://localhost:8080/",
          "height": 54
        },
        "id": "gAC6q-dJ9dmO",
        "outputId": "bdbb9374-61a7-4a41-a459-3d0b1deafb44"
      },
      "outputs": [
        {
          "output_type": "execute_result",
          "data": {
            "text/plain": [
              "                      2     2               2\n",
              "                     π ⋅M⋅y₁̇    (m₁ + m₂)⋅y₁̇ \n",
              "T_\\mathrm{c/polea} = ──────── + ─────────────\n",
              "                        4             2      "
            ],
            "text/latex": "$\\displaystyle T_\\mathrm{c/polea} = \\frac{\\pi^{2} M \\dot{y}_{1}^{2}}{4} + \\frac{\\left(m_{1} + m_{2}\\right) \\dot{y}_{1}^{2}}{2}$"
          },
          "metadata": {},
          "execution_count": 19
        }
      ],
      "source": [
        "T_conPolea = sym.Eq(\n",
        "    sym.Symbol('T_\\mathrm{c/polea}'),\n",
        "    T.rhs + T_rotaciónPolea_x1.rhs\n",
        ")\n",
        "T_conPolea"
      ]
    },
    {
      "cell_type": "markdown",
      "metadata": {
        "id": "kh5JhpSE9dmO"
      },
      "source": [
        "Y la ecuación de Euler-Lagrange es ahora"
      ]
    },
    {
      "cell_type": "code",
      "execution_count": 20,
      "metadata": {
        "colab": {
          "base_uri": "https://localhost:8080/",
          "height": 54
        },
        "id": "gg9J-_UA9dmO",
        "outputId": "66d7165f-745f-4ebb-eb2d-d1cdb0d899f0"
      },
      "outputs": [
        {
          "output_type": "execute_result",
          "data": {
            "text/plain": [
              " 2                                       \n",
              "π ⋅M⋅y₁̈                                  \n",
              "─────── - g⋅m₁ + g⋅m₂ + m₁⋅y₁̈ + m₂⋅y₁̈ = 0\n",
              "   2                                     "
            ],
            "text/latex": "$\\displaystyle \\frac{\\pi^{2} M \\ddot{y}_{1}}{2} - g m_{1} + g m_{2} + m_{1} \\ddot{y}_{1} + m_{2} \\ddot{y}_{1} = 0$"
          },
          "metadata": {},
          "execution_count": 20
        }
      ],
      "source": [
        "y1_EL_conPolea = eulerLagrange(T_conPolea, V, y1)\n",
        "y1_EL_conPolea"
      ]
    },
    {
      "cell_type": "markdown",
      "metadata": {
        "id": "eRWZrC7Q9dmP"
      },
      "source": [
        "Y evidéntemente menor será aceleración"
      ]
    },
    {
      "cell_type": "code",
      "execution_count": 21,
      "metadata": {
        "tags": [],
        "colab": {
          "base_uri": "https://localhost:8080/",
          "height": 55
        },
        "id": "i2u6pIjO9dmP",
        "outputId": "944860e4-36d8-4dd9-ca3b-f626ac2adf7f"
      },
      "outputs": [
        {
          "output_type": "execute_result",
          "data": {
            "text/plain": [
              "       2⋅g⋅(m₁ - m₂)   \n",
              "y₁̈ = ──────────────────\n",
              "      2                \n",
              "     π ⋅M + 2⋅m₁ + 2⋅m₂"
            ],
            "text/latex": "$\\displaystyle \\ddot{y}_{1} = \\frac{2 g \\left(m_{1} - m_{2}\\right)}{\\pi^{2} M + 2 m_{1} + 2 m_{2}}$"
          },
          "metadata": {},
          "execution_count": 21
        }
      ],
      "source": [
        "m1_a_conPolea = sym.Eq(y1.diff(t,2), sym.solve(y1_EL_conPolea, y1.diff(t,2) )[0]  )# [0] toma el único elemento de la lista\n",
        "m1_a_conPolea"
      ]
    }
  ],
  "metadata": {
    "kernelspec": {
      "display_name": "Python 3 (ipykernel)",
      "language": "python",
      "name": "python3"
    },
    "language_info": {
      "codemirror_mode": {
        "name": "ipython",
        "version": 3
      },
      "file_extension": ".py",
      "mimetype": "text/x-python",
      "name": "python",
      "nbconvert_exporter": "python",
      "pygments_lexer": "ipython3",
      "version": "3.9.2"
    },
    "colab": {
      "provenance": []
    }
  },
  "nbformat": 4,
  "nbformat_minor": 0
}