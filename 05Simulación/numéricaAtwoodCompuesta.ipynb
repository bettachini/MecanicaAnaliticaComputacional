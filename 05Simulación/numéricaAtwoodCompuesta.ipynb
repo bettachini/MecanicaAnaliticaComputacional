{
 "cells": [
  {
   "cell_type": "markdown",
   "metadata": {},
   "source": [
    "# Simulación numérica | Máquina de Atwood compuesta"
   ]
  },
  {
   "cell_type": "markdown",
   "metadata": {},
   "source": [
    "[![DIIT - UNLaM](data:image/png;base64,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)](https://ingenieria.unlam.edu.ar/)    \n",
    "[![by-nc-sa_80x15.png](data:image/png;base64,iVBORw0KGgoAAAANSUhEUgAAAFAAAAAPCAMAAABEF7i9AAAABGdBTUEAANbY1E9YMgAAAJZQTFRF////7u7u3d3dys7KzMzMyMzIxsrGxcbFur+6u7u7s7iyq7GqqqqqmZmZlJmTj5CPiIiIh4eHhoaGgICAfYJ9d3d3cnZxZ2tnZmZmW15bVVVVS0xLREREQ0NDQkJCQUJBOz07OTs5MzMzMTMxLjAuJygnJCUjIiIiISEhICAgGRkZERERDxAPDg4ODQ4NDQ0NDQ0MAAAADbeuvgAAAOhJREFUeNqtk+tyAiEMhQ+6XtroutZiveBdu+p2tXn/l3OQy8roL5fMMENC+HIIAI5sYEQ1DSRtP5zZkCpToubf2/oMMC0zX0QdiLqjmsD1sVKd8JSoNa8HvGRIclZCcZ5A7Yiag/s6oJPMYD8FKgIC3wG/+QP5DFIWot+DvBB1OxYAk+W2W88HqqwAOOZE6FuZbfWZZUn02fb1rTAHc3izZgQCrxWqSSFkH/IaKuSHEzEChfyk2PbwmqFX8EQo3jaw2Ac9DIFhD12Tn4CbU+RbTv+HHrj8jfAOacxflrc61/0psf9yZLsBr5WUrhUa3hEAAAAASUVORK5CYII=)](https://creativecommons.org/licenses/by-sa/4.0/deed.es_ES) \n",
    "2021 [Víctor A. Bettachini](mailto:vbettachini@unlam.edu.ar)  \n",
    "\n",
    "---"
   ]
  },
  {
   "cell_type": "markdown",
   "metadata": {},
   "source": [
    "## Enunciado\n",
    "Utilice el sistema de coordenadas indicadas.\n",
    "Para este sistema de poleas determine: \n",
    "1. las ecuaciones de movimiento,\n",
    "2. y las tensiones de ambas cuerdas utilizando el método de multiplicadores de Lagrange.\n",
    "\n",
    "![Máquina de Atwood compuesta por dos poleas](figuras/marion_fig7_6.png)"
   ]
  },
  {
   "cell_type": "markdown",
   "metadata": {},
   "source": [
    "## Análisis del problema\n",
    "- Coordenadas generalizadas  \n",
    "Si tomo la sugerencia de la figura podemos limitarnos a las coordenadas generalizadas indicadas como $x,y$.\n",
    "Pero por uniformidad utilizaré todas $y_i$ con $i$ el del número de masa colgante o $p$ para la polea:\n",
    "    - $y_1$ e $y_p$ se miden desde la posición vertical del centro de la polea superior,\n",
    "    - $y_2$ e $y_3$ desde la posición vertical del centro de la polea inferior.\n",
    "- Ligaduras:  \n",
    "$$\n",
    "y_1 + y_p + \\pi R = l_1,\n",
    "$$\n",
    "e \n",
    "$$\n",
    "y_2 + y_3 + \\pi R = l_2,\n",
    "$$\n",
    "siendo $R$ el radio de las poleas."
   ]
  },
  {
   "cell_type": "markdown",
   "metadata": {},
   "source": [
    "## Calculando el Lagrangiano"
   ]
  },
  {
   "cell_type": "code",
   "execution_count": 1,
   "metadata": {
    "tags": []
   },
   "outputs": [],
   "source": [
    "import sympy as sym # importamos funciones de cálculo simbólico\n",
    "from sympy.physics import mechanics as mech # de sympy utilizaremos funciones de mecánica\n",
    "mech.init_vprinting() # notación con punto para la velocidad y punto punto para la aceleración\n",
    "import warnings\n",
    "warnings.filterwarnings(\"ignore\")"
   ]
  },
  {
   "cell_type": "code",
   "execution_count": 2,
   "metadata": {
    "tags": []
   },
   "outputs": [
    {
     "data": {
      "image/png": "[encoded data removed]",
      "text/latex": [
       "$\\displaystyle \\left( \\pi R - l_{1} + y_{1} + y_{p}, \\  \\pi R - l_{2} + y_{2} + y_{3}\\right)$"
      ],
      "text/plain": [
       "(π⋅R - l₁ + y₁ + yₚ, π⋅R - l₂ + y₂ + y₃)"
      ]
     },
     "execution_count": 2,
     "metadata": {},
     "output_type": "execute_result"
    }
   ],
   "source": [
    "# Parámetros del sistema\n",
    "R, m1, m2, m3, mp, g, l1, l2 = sym.symbols('R, m_1, m_2, m_3, m_p, g, l_1, l_2', positive=True)\n",
    "\n",
    "# Coordenadas generalizadas \n",
    "t = sym.symbols('t') # tiempo\n",
    "y1 = sym.Function('y_1')(t)\n",
    "y2 = sym.Function('y_2')(t)\n",
    "y3 = sym.Function('y_3')(t)\n",
    "yp = sym.Function('y_p')(t)\n",
    "\n",
    "# Ligaduras\n",
    "f1 = y1+ yp + sym.pi* R - l1 # ligadura l1 como función homogénea\n",
    "f2 = y2+ y3 + sym.pi* R - l2 # ligadura l2 como función homogénea\n",
    "lambda1, lambda2 = sym.symbols('lambda_1, lambda_2')\n",
    "f1, f2"
   ]
  },
  {
   "cell_type": "markdown",
   "metadata": {},
   "source": [
    "Con dos funciones de ligadura se puede reducir en dos las coordenadas generalizadas."
   ]
  },
  {
   "cell_type": "code",
   "execution_count": 3,
   "metadata": {},
   "outputs": [
    {
     "data": {
      "image/png": "[encoded data removed]",
      "text/latex": [
       "$\\displaystyle \\left( y_{p} = - \\pi R + l_{1} - y_{1}, \\  y_{3} = - \\pi R + l_{2} - y_{2}\\right)$"
      ],
      "text/plain": [
       "(yₚ = -π⋅R + l₁ - y₁, y₃ = -π⋅R + l₂ - y₂)"
      ]
     },
     "execution_count": 3,
     "metadata": {},
     "output_type": "execute_result"
    }
   ],
   "source": [
    "yp_f1 = sym.Eq(yp, sym.solve(f1, yp)[0])\n",
    "y3_f2 = sym.Eq(y3, sym.solve(f2, y3)[0])\n",
    "yp_f1, y3_f2"
   ]
  },
  {
   "cell_type": "code",
   "execution_count": 4,
   "metadata": {
    "tags": []
   },
   "outputs": [
    {
     "data": {
      "image/png": "[encoded data removed]",
      "text/latex": [
       "$\\displaystyle \\left( -  y_{1}\\mathbf{\\hat{n}_y}, \\  (\\pi R - l_{1} + y_{1} - y_{2})\\mathbf{\\hat{n}_y}, \\  (2 \\pi R - l_{1} - l_{2} + y_{1} + y_{2})\\mathbf{\\hat{n}_y}, \\  (\\pi R - l_{1} + y_{1})\\mathbf{\\hat{n}_y}\\right)$"
      ],
      "text/plain": [
       "(-y₁ n_y, (π⋅R - l₁ + y₁ - y₂) n_y, (2⋅π⋅R - l₁ - l₂ + y₁ + y₂) n_y, (π⋅R - l₁\n",
       " + y₁) n_y)"
      ]
     },
     "execution_count": 4,
     "metadata": {},
     "output_type": "execute_result"
    }
   ],
   "source": [
    "# posiciones\n",
    "N = mech.ReferenceFrame('N')\n",
    "m1_r = y1* (-N.y)\n",
    "m2_r = (yp_f1.rhs + y2) * (-N.y)\n",
    "m3_r = (yp_f1.rhs + y3_f2.rhs)* (-N.y)\n",
    "mp_r = yp_f1.rhs* (-N.y)\n",
    "m1_r, m2_r, m3_r, mp_r"
   ]
  },
  {
   "cell_type": "markdown",
   "metadata": {
    "tags": []
   },
   "source": [
    "### Energía cinética"
   ]
  },
  {
   "cell_type": "markdown",
   "metadata": {
    "tags": []
   },
   "source": [
    "#### Energía cinética de traslación"
   ]
  },
  {
   "cell_type": "code",
   "execution_count": 5,
   "metadata": {
    "tags": []
   },
   "outputs": [
    {
     "data": {
      "image/png": "[encoded data removed]",
      "text/latex": [
       "$\\displaystyle \\frac{m_{1} \\dot{y}_{1}^{2}}{2} + \\frac{m_{2} \\left(\\dot{y}_{1} - \\dot{y}_{2}\\right)^{2}}{2} + \\frac{m_{3} \\left(\\dot{y}_{1} + \\dot{y}_{2}\\right)^{2}}{2} + \\frac{m_{p} \\dot{y}_{1}^{2}}{2}$"
      ],
      "text/plain": [
       "     2               2               2        2\n",
       "m₁⋅y₁̇    m₂⋅(y₁̇ - y₂̇)    m₃⋅(y₁̇ + y₂̇)    mₚ⋅y₁̇ \n",
       "────── + ───────────── + ───────────── + ──────\n",
       "  2            2               2           2   "
      ]
     },
     "execution_count": 5,
     "metadata": {},
     "output_type": "execute_result"
    }
   ],
   "source": [
    "# Energía cinética traslación\n",
    "unMedio = sym.Rational(1,2) # Rational: fracción de enteros\n",
    "m1_v = m1_r.diff(t, N)\n",
    "m2_v = m2_r.diff(t, N)\n",
    "m3_v = m3_r.diff(t, N)\n",
    "mp_v = mp_r.diff(t, N)\n",
    "T_traslación = unMedio *( \n",
    "    m1* m1_v.dot(m1_v) \\\n",
    "  + m2* m2_v.dot(m2_v) \\\n",
    "  + m3* m3_v.dot(m3_v) \\\n",
    "  + mp* mp_v.dot(mp_v) \\\n",
    "    )\n",
    "T_traslación"
   ]
  },
  {
   "cell_type": "markdown",
   "metadata": {
    "tags": []
   },
   "source": [
    "#### Energía cinética de rotación"
   ]
  },
  {
   "cell_type": "markdown",
   "metadata": {
    "tags": []
   },
   "source": [
    "La energía cinética por la rotación de las poleas es\n",
    "\n",
    "$$\n",
    "\\frac{I}{2} \\omega^2\n",
    "$$\n",
    "Puesto que $\\omega_i = \\dot{\\theta}_i = \\frac{v_i}{R}$ y $v$ la velocidad tangencial que coincide con la de las masas que cuelgan, se puede escribir esta energía cinética en funcion de la $\\dot{y}_i$\n",
    "\n",
    "$$\n",
    "\\frac{I}{2} \\left( \\frac{\\dot{y}_i}{R} \\right)^2,\n",
    "$$\n",
    "siendo $R$ el radio de la polea.\n",
    "\n",
    "Puesto que el montento de inercia de un cilíndro es $I = \\frac{M}{2} R^2$, este término para la polea superior es\n",
    "\n",
    "$$\n",
    "\\frac{I}{2} \\dot{\\theta_i}^2 = \\frac{1}{2} \\frac{M}{2} R^2 \\left( \\frac{\\dot{y}_1}{R} \\right)^2 = \\frac{M}{4} \\dot{y}_1^2,\n",
    "$$\n",
    "donde uso la coordenada de la masa izquierda $y_1$ en que $\\dot{\\theta_i}$ sería positivo.\n",
    "\n",
    "Para la polea inferior\n",
    "$$\n",
    "\\frac{M}{4} \\dot{y}_2^2,\n",
    "$$\n",
    "pues uso la coordenada de la masa izquierda inferior $y_2$ en que $\\dot{\\theta_i}$ sería positivo."
   ]
  },
  {
   "cell_type": "code",
   "execution_count": 6,
   "metadata": {
    "tags": []
   },
   "outputs": [
    {
     "data": {
      "image/png": "[encoded data removed]",
      "text/latex": [
       "$\\displaystyle \\frac{m_{p} \\left(\\dot{y}_{1} - \\dot{y}_{2}\\right)^{2}}{4} + \\frac{m_{p} \\dot{y}_{1}^{2}}{4}$"
      ],
      "text/plain": [
       "            2        2\n",
       "mₚ⋅(y₁̇ - y₂̇)    mₚ⋅y₁̇ \n",
       "───────────── + ──────\n",
       "      4           4   "
      ]
     },
     "execution_count": 6,
     "metadata": {},
     "output_type": "execute_result"
    }
   ],
   "source": [
    "# Energía cinética rotación\n",
    "T_rotación = unMedio *( \n",
    "    mp/2* m1_v.dot(m1_v) \\\n",
    "  + mp/2* m2_v.dot(m2_v) \\\n",
    "    )\n",
    "T_rotación"
   ]
  },
  {
   "cell_type": "code",
   "execution_count": 7,
   "metadata": {},
   "outputs": [
    {
     "data": {
      "image/png": "[encoded data removed]",
      "text/latex": [
       "$\\displaystyle T = \\frac{m_{1} \\dot{y}_{1}^{2}}{2} + \\frac{m_{2} \\left(\\dot{y}_{1} - \\dot{y}_{2}\\right)^{2}}{2} + \\frac{m_{3} \\left(\\dot{y}_{1} + \\dot{y}_{2}\\right)^{2}}{2} + \\frac{m_{p} \\left(\\dot{y}_{1} - \\dot{y}_{2}\\right)^{2}}{4} + \\frac{3 m_{p} \\dot{y}_{1}^{2}}{4}$"
      ],
      "text/plain": [
       "         2               2               2               2          2\n",
       "    m₁⋅y₁̇    m₂⋅(y₁̇ - y₂̇)    m₃⋅(y₁̇ + y₂̇)    mₚ⋅(y₁̇ - y₂̇)    3⋅mₚ⋅y₁̇ \n",
       "T = ────── + ───────────── + ───────────── + ───────────── + ────────\n",
       "      2            2               2               4            4    "
      ]
     },
     "execution_count": 7,
     "metadata": {},
     "output_type": "execute_result"
    }
   ],
   "source": [
    "T = sym.Eq(sym.Symbol('T'), T_traslación + T_rotación ) # simplify: simplifica usando factor común y otras operaciones\n",
    "T"
   ]
  },
  {
   "cell_type": "markdown",
   "metadata": {
    "tags": []
   },
   "source": [
    "### Energía potencial"
   ]
  },
  {
   "cell_type": "code",
   "execution_count": 8,
   "metadata": {
    "tags": []
   },
   "outputs": [
    {
     "data": {
      "image/png": "[encoded data removed]",
      "text/latex": [
       "$\\displaystyle V = g \\left(- m_{1} y_{1} + m_{2} \\left(\\pi R - l_{1} + y_{1} - y_{2}\\right) + m_{3} \\left(2 \\pi R - l_{1} - l_{2} + y_{1} + y_{2}\\right) + m_{p} \\left(\\pi R - l_{1} + y_{1}\\right)\\right)$"
      ],
      "text/plain": [
       "V = g⋅(-m₁⋅y₁ + m₂⋅(π⋅R - l₁ + y₁ - y₂) + m₃⋅(2⋅π⋅R - l₁ - l₂ + y₁ + y₂) + mₚ⋅\n",
       "(π⋅R - l₁ + y₁))"
      ]
     },
     "execution_count": 8,
     "metadata": {},
     "output_type": "execute_result"
    }
   ],
   "source": [
    "# Energía potencial\n",
    "V = - (g* (-N.y) ).dot( \\\n",
    "         m1* m1_r \\\n",
    "       + m2* m2_r \\\n",
    "       + m3* m3_r \\\n",
    "       + mp* mp_r \\\n",
    "      )\n",
    "V = sym.Eq(sym.Symbol('V'), V ).simplify()\n",
    "V"
   ]
  },
  {
   "cell_type": "markdown",
   "metadata": {
    "tags": []
   },
   "source": [
    "### Lagrangiano"
   ]
  },
  {
   "cell_type": "code",
   "execution_count": 9,
   "metadata": {
    "tags": []
   },
   "outputs": [
    {
     "data": {
      "image/png": "[encoded data removed]",
      "text/latex": [
       "$\\displaystyle \\mathcal{L} = - g \\left(- m_{1} y_{1} + m_{2} \\left(\\pi R - l_{1} + y_{1} - y_{2}\\right) + m_{3} \\left(2 \\pi R - l_{1} - l_{2} + y_{1} + y_{2}\\right) + m_{p} \\left(\\pi R - l_{1} + y_{1}\\right)\\right) + \\frac{m_{1} \\dot{y}_{1}^{2}}{2} + \\frac{m_{2} \\left(\\dot{y}_{1} - \\dot{y}_{2}\\right)^{2}}{2} + \\frac{m_{3} \\left(\\dot{y}_{1} + \\dot{y}_{2}\\right)^{2}}{2} + \\frac{m_{p} \\left(\\dot{y}_{1} - \\dot{y}_{2}\\right)^{2}}{4} + \\frac{3 m_{p} \\dot{y}_{1}^{2}}{4}$"
      ],
      "text/plain": [
       "                                                                              \n",
       "                                                                              \n",
       "\\mathcal{L} = -g⋅(-m₁⋅y₁ + m₂⋅(π⋅R - l₁ + y₁ - y₂) + m₃⋅(2⋅π⋅R - l₁ - l₂ + y₁ \n",
       "                                                                              \n",
       "\n",
       "                                   2               2               2          \n",
       "                              m₁⋅y₁̇    m₂⋅(y₁̇ - y₂̇)    m₃⋅(y₁̇ + y₂̇)    mₚ\n",
       "+ y₂) + mₚ⋅(π⋅R - l₁ + y₁)) + ────── + ───────────── + ───────────── + ───────\n",
       "                                2            2               2               4\n",
       "\n",
       "     2          2\n",
       "⋅(y₁̇ - y₂̇)    3⋅mₚ⋅y₁̇ \n",
       "────── + ────────\n",
       "            4    "
      ]
     },
     "execution_count": 9,
     "metadata": {},
     "output_type": "execute_result"
    }
   ],
   "source": [
    "L = sym.Eq(sym.Symbol('\\mathcal{L}'), T.rhs - V.rhs ) # Lagrangiano\n",
    "L"
   ]
  },
  {
   "cell_type": "markdown",
   "metadata": {},
   "source": [
    "### Ecuaciones de Euler-Lagrange"
   ]
  },
  {
   "cell_type": "markdown",
   "metadata": {},
   "source": [
    "Puesto que los momentos generalizados se obtienen de \n",
    "\n",
    "$$\n",
    "p_i = \\frac{\\partial}{\\partial \\dot{q_i}} \\mathcal{L},\n",
    "$$\n",
    "se utiliza esto para dar nombre `dtdp` a la parte de la ecuación de Euler-Lagrange en que\n",
    "\n",
    "$$\\frac{\\mathrm{d}}{\\mathrm{d}t} \\frac{\\partial}{\\partial \\dot{q_i}} \\mathcal{L} = \\frac{\\mathrm{d}}{\\mathrm{d}t} p_i$$\n",
    "se deriva respecto al tiempo el momento generalizado $p_i$."
   ]
  },
  {
   "cell_type": "code",
   "execution_count": 10,
   "metadata": {},
   "outputs": [],
   "source": [
    "# derivada total respecto al tiempo de las parciales respecto a cada momento generalizado\n",
    "y1_dtdp = L.rhs.diff(y1.diff(t)).diff(t) # primero deriva con x punto y luego con\n",
    "y2_dtdp = L.rhs.diff(y2.diff(t)).diff(t) # primero deriva con x punto y luego con"
   ]
  },
  {
   "cell_type": "markdown",
   "metadata": {},
   "source": [
    "De manera similar el derivar respecto a la coordenada generalizada\n",
    "\n",
    "$$\n",
    "\\frac{\\partial}{\\partial q_i} \\mathcal{L},\n",
    "$$\n",
    "se notara como `dq`."
   ]
  },
  {
   "cell_type": "code",
   "execution_count": 11,
   "metadata": {},
   "outputs": [],
   "source": [
    "# derivadas parciales respecto a las coordenadas generalizadas\n",
    "y1_dq = L.rhs.diff(y1)\n",
    "y2_dq = L.rhs.diff(y2)"
   ]
  },
  {
   "cell_type": "markdown",
   "metadata": {},
   "source": [
    "Con ambos terminos se escriben las ecuaciones homegéneas (no hay fuerzas no conservativas)\n",
    "$$\n",
    "\\frac{\\partial}{\\partial q_i} L\n",
    "- \\frac{\\mathrm{d}}{\\mathrm{d}t} \\frac{\\partial}{\\partial \\dot{q}_i} L\n",
    "= 0\n",
    "$$"
   ]
  },
  {
   "cell_type": "code",
   "execution_count": 12,
   "metadata": {},
   "outputs": [
    {
     "data": {
      "image/png": "[encoded data removed]",
      "text/latex": [
       "$\\displaystyle \\left( - g m_{1} + g m_{2} + g m_{3} + g m_{p} + m_{1} \\ddot{y}_{1} + m_{2} \\ddot{y}_{1} - m_{2} \\ddot{y}_{2} + m_{3} \\ddot{y}_{1} + m_{3} \\ddot{y}_{2} + 2 m_{p} \\ddot{y}_{1} - \\frac{m_{p} \\ddot{y}_{2}}{2} = 0, \\  g \\left(m_{2} - m_{3}\\right) + m_{2} \\left(\\ddot{y}_{1} - \\ddot{y}_{2}\\right) - m_{3} \\left(\\ddot{y}_{1} + \\ddot{y}_{2}\\right) + \\frac{m_{p} \\left(\\ddot{y}_{1} - \\ddot{y}_{2}\\right)}{2} = 0\\right)$"
      ],
      "text/plain": [
       "⎛                                                                             \n",
       "⎜-g⋅m₁ + g⋅m₂ + g⋅m₃ + g⋅mₚ + m₁⋅y₁̈ + m₂⋅y₁̈ - m₂⋅y₂̈ + m₃⋅y₁̈ + m₃⋅y₂̈ + 2⋅m\n",
       "⎝                                                                             \n",
       "\n",
       "  mₚ⋅y₂̈                                                  mₚ⋅(y₁̈ - y₂̈)    ⎞\n",
       "ₚ⋅y₁̈ - ───── = 0, g⋅(m₂ - m₃) + m₂⋅(y₁̈ - y₂̈) - m₃⋅(y₁̈ + y₂̈) + ───────────\n",
       "    2                                                         2          ⎠"
      ]
     },
     "execution_count": 12,
     "metadata": {},
     "output_type": "execute_result"
    }
   ],
   "source": [
    "y1_EL = sym.Eq(y1_dq - y1_dtdp, 0) # ecuación igualando a cero\n",
    "y2_EL = sym.Eq(y2_dq - y2_dtdp, 0) # ecuación igualando a cero\n",
    "y1_EL.simplify(), y2_EL.simplify()"
   ]
  },
  {
   "cell_type": "markdown",
   "metadata": {},
   "source": [
    "### Resolución del sistema de ecuaciones de Euler-Lagrange"
   ]
  },
  {
   "cell_type": "markdown",
   "metadata": {},
   "source": [
    "Con estas últimas tenemos un sistema de seis ecuaciones diferenciales lineales de segundo orden homogéneas."
   ]
  },
  {
   "cell_type": "code",
   "execution_count": 13,
   "metadata": {},
   "outputs": [
    {
     "data": {
      "image/png": "[encoded data removed]",
      "text/latex": [
       "$\\displaystyle \\left[ g m_{1} - g m_{2} - g m_{3} - g m_{p} - m_{1} \\ddot{y}_{1} - m_{2} \\ddot{y}_{1} + m_{2} \\ddot{y}_{2} - m_{3} \\ddot{y}_{1} - m_{3} \\ddot{y}_{2} - 2 m_{p} \\ddot{y}_{1} + \\frac{m_{p} \\ddot{y}_{2}}{2} = 0, \\  g m_{2} - g m_{3} + m_{2} \\ddot{y}_{1} - m_{2} \\ddot{y}_{2} - m_{3} \\ddot{y}_{1} - m_{3} \\ddot{y}_{2} + \\frac{m_{p} \\ddot{y}_{1}}{2} - \\frac{m_{p} \\ddot{y}_{2}}{2} = 0\\right]$"
      ],
      "text/plain": [
       "⎡                                                                             \n",
       "⎢g⋅m₁ - g⋅m₂ - g⋅m₃ - g⋅mₚ - m₁⋅y₁̈ - m₂⋅y₁̈ + m₂⋅y₂̈ - m₃⋅y₁̈ - m₃⋅y₂̈ - 2⋅mₚ\n",
       "⎣                                                                             \n",
       "\n",
       " mₚ⋅y₂̈                                                    mₚ⋅y₁̈   mₚ⋅y₂̈    \n",
       "⋅y₁̈ + ───── = 0, g⋅m₂ - g⋅m₃ + m₂⋅y₁̈ - m₂⋅y₂̈ - m₃⋅y₁̈ - m₃⋅y₂̈ + ───── - ──\n",
       "   2                                                        2       2      ⎦"
      ]
     },
     "execution_count": 13,
     "metadata": {},
     "output_type": "execute_result"
    }
   ],
   "source": [
    "sistemaEL = [\n",
    "    y1_EL,\n",
    "    y2_EL,\n",
    "    ]\n",
    "sistemaEL = [ecuación.expand() for ecuación in sistemaEL]\n",
    "sistemaEL"
   ]
  },
  {
   "cell_type": "code",
   "execution_count": 14,
   "metadata": {},
   "outputs": [],
   "source": [
    "ypp_funciones = [y1.diff(t,2), y2.diff(t,2)] # lista de las punto punto \n",
    "ypp_sol = sym.nonlinsolve(sistemaEL, ypp_funciones).args[0]\n",
    "ypp_sol = [sol.expand().simplify() for sol in ypp_sol]"
   ]
  },
  {
   "cell_type": "markdown",
   "metadata": {},
   "source": [
    "Y en `ypp_sol` se guardan las soluciones"
   ]
  },
  {
   "cell_type": "code",
   "execution_count": 15,
   "metadata": {},
   "outputs": [
    {
     "data": {
      "image/png": "[encoded data removed]",
      "text/latex": [
       "$\\displaystyle \\ddot{y}_{1} = \\frac{2 g \\left(2 m_{1} m_{2} + 2 m_{1} m_{3} + m_{1} m_{p} - 8 m_{2} m_{3} - 2 m_{2} m_{p} - 4 m_{3} m_{p} - m_{p}^{2}\\right)}{4 m_{1} m_{2} + 4 m_{1} m_{3} + 2 m_{1} m_{p} + 16 m_{2} m_{3} + 6 m_{2} m_{p} + 14 m_{3} m_{p} + 3 m_{p}^{2}}$"
      ],
      "text/plain": [
       "         ⎛                                                            2⎞\n",
       "     2⋅g⋅⎝2⋅m₁⋅m₂ + 2⋅m₁⋅m₃ + m₁⋅mₚ - 8⋅m₂⋅m₃ - 2⋅m₂⋅mₚ - 4⋅m₃⋅mₚ - mₚ ⎠\n",
       "y₁̈ = ───────────────────────────────────────────────────────────────────\n",
       "                                                                       2\n",
       "     4⋅m₁⋅m₂ + 4⋅m₁⋅m₃ + 2⋅m₁⋅mₚ + 16⋅m₂⋅m₃ + 6⋅m₂⋅mₚ + 14⋅m₃⋅mₚ + 3⋅mₚ "
      ]
     },
     "execution_count": 15,
     "metadata": {},
     "output_type": "execute_result"
    }
   ],
   "source": [
    "sym.Eq(ypp_funciones[0], ypp_sol[0])"
   ]
  },
  {
   "cell_type": "code",
   "execution_count": 16,
   "metadata": {},
   "outputs": [
    {
     "data": {
      "image/png": "[encoded data removed]",
      "text/latex": [
       "$\\displaystyle \\ddot{y}_{2} = \\frac{2 g \\left(4 m_{1} m_{2} - 4 m_{1} m_{3} + m_{1} m_{p} + m_{2} m_{p} - 3 m_{3} m_{p} - m_{p}^{2}\\right)}{4 m_{1} m_{2} + 4 m_{1} m_{3} + 2 m_{1} m_{p} + 16 m_{2} m_{3} + 6 m_{2} m_{p} + 14 m_{3} m_{p} + 3 m_{p}^{2}}$"
      ],
      "text/plain": [
       "               ⎛                                                2⎞      \n",
       "           2⋅g⋅⎝4⋅m₁⋅m₂ - 4⋅m₁⋅m₃ + m₁⋅mₚ + m₂⋅mₚ - 3⋅m₃⋅mₚ - mₚ ⎠      \n",
       "y₂̈ = ───────────────────────────────────────────────────────────────────\n",
       "                                                                       2\n",
       "     4⋅m₁⋅m₂ + 4⋅m₁⋅m₃ + 2⋅m₁⋅mₚ + 16⋅m₂⋅m₃ + 6⋅m₂⋅mₚ + 14⋅m₃⋅mₚ + 3⋅mₚ "
      ]
     },
     "execution_count": 16,
     "metadata": {},
     "output_type": "execute_result"
    }
   ],
   "source": [
    "sym.Eq(ypp_funciones[1], ypp_sol[1] )"
   ]
  },
  {
   "cell_type": "markdown",
   "metadata": {},
   "source": [
    "### Resolución del sistema de ecuaciónes en notación matricial"
   ]
  },
  {
   "cell_type": "code",
   "execution_count": 17,
   "metadata": {},
   "outputs": [
    {
     "data": {
      "text/latex": [
       "$\\displaystyle \\left[\\begin{matrix}- m_{1} - m_{2} - m_{3} - 2 m_{p} & m_{2} - m_{3} + \\frac{m_{p}}{2}\\\\m_{2} - m_{3} + \\frac{m_{p}}{2} & - m_{2} - m_{3} - \\frac{m_{p}}{2}\\end{matrix}\\right] \\left[\\begin{matrix}\\ddot{y}_1\\\\\\ddot{y}_2\\end{matrix}\\right] = \\left[\\begin{matrix}- g m_{1} + g m_{2} + g m_{3} + g m_{p}\\\\- g m_{2} + g m_{3}\\end{matrix}\\right]$"
      ],
      "text/plain": [
       "⎡                                mₚ ⎤                                         \n",
       "⎢-m₁ - m₂ - m₃ - 2⋅mₚ  m₂ - m₃ + ── ⎥                                         \n",
       "⎢                                2  ⎥ ⎡\\ddot{y}₁⎤   ⎡-g⋅m₁ + g⋅m₂ + g⋅m₃ + g⋅m\n",
       "⎢                                   ⎥⋅⎢         ⎥ = ⎢                         \n",
       "⎢              mₚ                 mₚ⎥ ⎣\\ddot{y}₂⎦   ⎣       -g⋅m₂ + g⋅m₃      \n",
       "⎢    m₂ - m₃ + ──      -m₂ - m₃ - ──⎥                                         \n",
       "⎣              2                  2 ⎦                                         \n",
       "\n",
       "  \n",
       "  \n",
       "ₚ⎤\n",
       " ⎥\n",
       " ⎦\n",
       "  \n",
       "  "
      ]
     },
     "execution_count": 17,
     "metadata": {},
     "output_type": "execute_result"
    }
   ],
   "source": [
    "y_1pp, y_2pp = sym.symbols('\\ddot{y}_1, \\ddot{y}_2')\n",
    "ypp_simbolos = [y_1pp, y_2pp] # símbolos muleto\n",
    "muletosDiccionario = {\n",
    "    ypp_funciones[0] : ypp_simbolos[0],\n",
    "    ypp_funciones[1] : ypp_simbolos[1],\n",
    "}\n",
    "\n",
    "ecuaciones = [cadaEcuacion.expand() for cadaEcuacion in sistemaEL] # expand ayuda a la conversión en forma matricial\n",
    "ecuacionesMuleto = [cadaEcuacion.subs(muletosDiccionario) for cadaEcuacion in ecuaciones]\n",
    "\n",
    "A,b = sym.linear_eq_to_matrix(ecuacionesMuleto, ypp_simbolos )\n",
    "sym.Eq(sym.MatMul(A, sym.Matrix(ypp_simbolos)), b) # esto presenta el sistema como igualdad matricial"
   ]
  },
  {
   "cell_type": "markdown",
   "metadata": {},
   "source": [
    "Aprovechando las relaciones que provienen de $f_1$ y $f_2$ se puede todo a una dependencia de solo dos coordenadas generalizadas: $y_1$ y $y_2$."
   ]
  },
  {
   "cell_type": "code",
   "execution_count": 18,
   "metadata": {},
   "outputs": [
    {
     "data": {
      "image/png": "[encoded data removed]",
      "text/latex": [
       "$\\displaystyle \\left[ \\frac{2 g \\left(2 m_{1} m_{2} + 2 m_{1} m_{3} + m_{1} m_{p} - 8 m_{2} m_{3} - 2 m_{2} m_{p} - 4 m_{3} m_{p} - m_{p}^{2}\\right)}{4 m_{1} m_{2} + 4 m_{1} m_{3} + 2 m_{1} m_{p} + 16 m_{2} m_{3} + 6 m_{2} m_{p} + 14 m_{3} m_{p} + 3 m_{p}^{2}}, \\  \\frac{2 g \\left(4 m_{1} m_{2} - 4 m_{1} m_{3} + m_{1} m_{p} + m_{2} m_{p} - 3 m_{3} m_{p} - m_{p}^{2}\\right)}{4 m_{1} m_{2} + 4 m_{1} m_{3} + 2 m_{1} m_{p} + 16 m_{2} m_{3} + 6 m_{2} m_{p} + 14 m_{3} m_{p} + 3 m_{p}^{2}}\\right]$"
      ],
      "text/plain": [
       "⎡    ⎛                                                            2⎞          \n",
       "⎢2⋅g⋅⎝2⋅m₁⋅m₂ + 2⋅m₁⋅m₃ + m₁⋅mₚ - 8⋅m₂⋅m₃ - 2⋅m₂⋅mₚ - 4⋅m₃⋅mₚ - mₚ ⎠        2⋅\n",
       "⎢───────────────────────────────────────────────────────────────────, ────────\n",
       "⎢                                                                  2          \n",
       "⎣4⋅m₁⋅m₂ + 4⋅m₁⋅m₃ + 2⋅m₁⋅mₚ + 16⋅m₂⋅m₃ + 6⋅m₂⋅mₚ + 14⋅m₃⋅mₚ + 3⋅mₚ   4⋅m₁⋅m₂ \n",
       "\n",
       "  ⎛                                                2⎞      ⎤\n",
       "g⋅⎝4⋅m₁⋅m₂ - 4⋅m₁⋅m₃ + m₁⋅mₚ + m₂⋅mₚ - 3⋅m₃⋅mₚ - mₚ ⎠      ⎥\n",
       "───────────────────────────────────────────────────────────⎥\n",
       "                                                          2⎥\n",
       "+ 4⋅m₁⋅m₃ + 2⋅m₁⋅mₚ + 16⋅m₂⋅m₃ + 6⋅m₂⋅mₚ + 14⋅m₃⋅mₚ + 3⋅mₚ ⎦"
      ]
     },
     "execution_count": 18,
     "metadata": {},
     "output_type": "execute_result"
    }
   ],
   "source": [
    "ypp_sol_matricial = A.solve(b)\n",
    "ypp_sol_matricial = [x.simplify() for x in ypp_sol_matricial]\n",
    "ypp_sol_matricial"
   ]
  },
  {
   "cell_type": "markdown",
   "metadata": {},
   "source": [
    "Como forma de verificar que hicimos las cosas bien podemos comparar con una resolución en la que no se contempló $m_p$.\n",
    "> Double Atwood Machine  \n",
    "UCSC Physics Demonstration Room  \n",
    "https://ucscphysicsdemo.sites.ucsc.edu/physics-5a6a/u/\n",
    "\n",
    "Para esto establecemos $m_p =0$ en las soluciones."
   ]
  },
  {
   "cell_type": "code",
   "execution_count": 19,
   "metadata": {},
   "outputs": [
    {
     "data": {
      "image/png": "[encoded data removed]",
      "text/latex": [
       "$\\displaystyle \\left( \\frac{g \\left(m_{1} m_{2} + m_{1} m_{3} - 4 m_{2} m_{3}\\right)}{m_{1} m_{2} + m_{1} m_{3} + 4 m_{2} m_{3}}, \\  \\frac{2 g m_{1} \\left(m_{2} - m_{3}\\right)}{m_{1} m_{2} + m_{1} m_{3} + 4 m_{2} m_{3}}\\right)$"
      ],
      "text/plain": [
       "⎛g⋅(m₁⋅m₂ + m₁⋅m₃ - 4⋅m₂⋅m₃)      2⋅g⋅m₁⋅(m₂ - m₃)   ⎞\n",
       "⎜───────────────────────────, ───────────────────────⎟\n",
       "⎝  m₁⋅m₂ + m₁⋅m₃ + 4⋅m₂⋅m₃    m₁⋅m₂ + m₁⋅m₃ + 4⋅m₂⋅m₃⎠"
      ]
     },
     "execution_count": 19,
     "metadata": {},
     "output_type": "execute_result"
    }
   ],
   "source": [
    "ypp_sol[0].subs(mp, 0).simplify(), ypp_sol[1].subs(mp, 0).simplify()"
   ]
  },
  {
   "cell_type": "markdown",
   "metadata": {},
   "source": [
    "Puede verificarse que estas coinciden con las $\\ddot{x}_1$ y $\\ddot{x}_3$ que allí figuran."
   ]
  },
  {
   "cell_type": "markdown",
   "metadata": {},
   "source": [
    "## Resolución numérica"
   ]
  },
  {
   "cell_type": "code",
   "execution_count": 20,
   "metadata": {},
   "outputs": [],
   "source": [
    "# un diccionario (un tipo de variable Python) fácilará el reemplazar con valores numéricos\n",
    "magnitudes = {\n",
    "    m1 : 1, # [kg]\n",
    "    m2 : 2, # [kg]\n",
    "    m3 : 3, # [kg]\n",
    "    mp : 4, # [kg]\n",
    "    g : 9.81, # [m s-2]\n",
    "}"
   ]
  },
  {
   "cell_type": "code",
   "execution_count": 21,
   "metadata": {},
   "outputs": [],
   "source": [
    "aceleraciones_numpy = [( sym.lambdify(t, x.subs(magnitudes) ) )(0) for x in ypp_sol]"
   ]
  },
  {
   "cell_type": "markdown",
   "metadata": {},
   "source": [
    "Para esta ecuación diferencial de 2.o orden la integración numérica nos entregará un vector con la   coordenada y velocidades generalizadas.\n",
    "Haremos dos vectores, uno pa $y_1$ y otro para $y_2$\n",
    "\n",
    "$$\n",
    "\\left\\{\n",
    "\\begin{array}{l}\n",
    "\\vec{v}_{10} = y_1 \\\\\n",
    "\\vec{v}_{11} = \\dot{\\vec{v}}_{10} = \\dot{y}_1 \\\\\n",
    "\\end{array}\n",
    "\\right.\n",
    "$$\n",
    "y\n",
    "$$\n",
    "\\left\\{\n",
    "\\begin{array}{l}\n",
    "\\vec{v}_{20} = y_2 \\\\\n",
    "\\vec{v}_{21} = \\dot{\\vec{v}}_{20} = \\dot{y}_2 \\\\\n",
    "\\end{array}\n",
    "\\right.\n",
    "$$\n",
    "\n",
    "Para obtenerlos lo alimentaremos con el que correspende a la derivada del mismo con velocidades y aceleraciones. Solo las últimas son dato:\n",
    "$$\n",
    "\\left\\{\n",
    "\\begin{array}{l}\n",
    "\\dot{\\vec{v}}_{10} = \\vec{v}_{11} \\\\\n",
    "\\dot{\\vec{v}}_{11} = \\ddot{y}_1 \\\\\n",
    "\\end{array}\n",
    "\\right.\n",
    "$$\n",
    "y\n",
    "$$\n",
    "\\left\\{\n",
    "\\begin{array}{l}\n",
    "\\dot{\\vec{v}}_{20} = \\vec{v}_{21} \\\\\n",
    "\\dot{\\vec{v}}_{21} = \\ddot{y}_2 \\\\\n",
    "\\end{array}\n",
    "\\right.\n",
    "$$"
   ]
  },
  {
   "cell_type": "code",
   "execution_count": 22,
   "metadata": {},
   "outputs": [],
   "source": [
    "# defino una función con el sistema de derivadas\n",
    "# t : no se usa en este sistema pero lo dejamos para uso posterior\n",
    "# vect_i : lista de estado con [x_0, x_1]\n",
    "# c : lista de constates, en este caso las aceleraciones\n",
    "# dx_dt : lista de derivadas\n",
    "def derivaday1(t, vect_1):\n",
    "    dy1dt = [vect_1[1], aceleraciones_numpy[0]]\n",
    "    return dy1dt\n",
    "\n",
    "def derivaday2(t, vect_2):\n",
    "    dy2dt = [vect_2[1], aceleraciones_numpy[1]]\n",
    "    return dy2dt"
   ]
  },
  {
   "cell_type": "markdown",
   "metadata": {},
   "source": [
    "Ahora defino condiciones iniciales del sistema y el rango de tiempo a analizar "
   ]
  },
  {
   "cell_type": "code",
   "execution_count": 23,
   "metadata": {},
   "outputs": [],
   "source": [
    "# biblioteca de cálculo numérico general\n",
    "import numpy as np"
   ]
  },
  {
   "cell_type": "code",
   "execution_count": 24,
   "metadata": {},
   "outputs": [],
   "source": [
    "# parámetros para inicial las integración de sistemaDerivadas\n",
    "t_rango = np.linspace(0,2, num= 100) # 100 tiempos entre 0 y 10 s\n",
    "y1_inicial = [1,0] # parte del reposo y_1 = 1m\n",
    "y2_inicial = [2,0] # parte del reposo y_2 = 2m"
   ]
  },
  {
   "cell_type": "code",
   "execution_count": 25,
   "metadata": {},
   "outputs": [],
   "source": [
    "# biblioteca de cálculo científico: eficientes herramientas de cálculo numérico\n",
    "from scipy.integrate import solve_ivp"
   ]
  },
  {
   "cell_type": "code",
   "execution_count": 26,
   "metadata": {},
   "outputs": [],
   "source": [
    "# E integrar de a pasos en el tiempo\n",
    "sol_y1 = solve_ivp(derivaday1, (t_rango[0], t_rango[-1] ), y1_inicial, t_eval = t_rango)\n",
    "sol_y2 = solve_ivp(derivaday2, (t_rango[0], t_rango[-1] ), y2_inicial, t_eval = t_rango)"
   ]
  },
  {
   "cell_type": "markdown",
   "metadata": {},
   "source": [
    "## Graficación"
   ]
  },
  {
   "cell_type": "code",
   "execution_count": 27,
   "metadata": {},
   "outputs": [],
   "source": [
    "# biblioteca de graficación\n",
    "import matplotlib.pyplot as plt\n",
    "plt.style.use('fivethirtyeight')"
   ]
  },
  {
   "cell_type": "code",
   "execution_count": 28,
   "metadata": {},
   "outputs": [],
   "source": [
    "def graficaFuncion(solucion, nombreCoordenada='q'):\n",
    "    fig, ax = plt.subplots(nrows= 1, ncols= 2, squeeze=False, figsize=(12, 4)) # dos figuras en la misma fila\n",
    "    fig.suptitle('Integración numérica para '+ nombreCoordenada, fontsize=16)\n",
    "    ax[0,0].plot(solucion.t, solucion.y[0]) # posición\n",
    "    ax[0,0].set(xlabel='t [s]', ylabel= '$' + nombreCoordenada+ '$ [m]', title='Posición')\n",
    "    ax[0,1].plot(solucion.t, solucion.y[1]) # velocidad\n",
    "    ax[0,1].set(xlabel='t [s]', ylabel='$\\dot{' + nombreCoordenada+ '}$ [m/s]', title='Velocidad')"
   ]
  },
  {
   "cell_type": "code",
   "execution_count": 29,
   "metadata": {},
   "outputs": [
    {
     "data": {
      "image/png": "[encoded data removed]",
      "text/plain": [
       "<Figure size 864x288 with 2 Axes>"
      ]
     },
     "metadata": {},
     "output_type": "display_data"
    }
   ],
   "source": [
    "graficaFuncion(sol_y1, nombreCoordenada = 'y_1')"
   ]
  },
  {
   "cell_type": "code",
   "execution_count": 30,
   "metadata": {},
   "outputs": [
    {
     "data": {
      "image/png": "[encoded data removed]",
      "text/plain": [
       "<Figure size 864x288 with 2 Axes>"
      ]
     },
     "metadata": {},
     "output_type": "display_data"
    }
   ],
   "source": [
    "graficaFuncion(sol_y2, nombreCoordenada = 'y_2')"
   ]
  },
  {
   "cell_type": "code",
   "execution_count": null,
   "metadata": {},
   "outputs": [],
   "source": []
  }
 ],
 "metadata": {
  "kernelspec": {
   "display_name": "Python 3",
   "language": "python",
   "name": "python3"
  },
  "language_info": {
   "codemirror_mode": {
    "name": "ipython",
    "version": 3
   },
   "file_extension": ".py",
   "mimetype": "text/x-python",
   "name": "python",
   "nbconvert_exporter": "python",
   "pygments_lexer": "ipython3",
   "version": "3.7.3"
  }
 },
 "nbformat": 4,
 "nbformat_minor": 4
}
