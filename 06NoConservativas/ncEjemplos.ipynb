{
 "cells": [
  {
   "cell_type": "markdown",
   "metadata": {
    "slideshow": {
     "slide_type": "slide"
    }
   },
   "source": [
    "# Euler-Lagrange: fuerzas externas | Ejemplos"
   ]
  },
  {
   "cell_type": "markdown",
   "metadata": {},
   "source": [
    "![UNLaM | DIIT](figuras/ambos.png)    \n",
    "© 2021 [Víctor A. Bettachini](mailto:vbettachini@unlam.edu.ar)  \n",
    "Mecánica General  \n",
    "Departamento de Ingeniería e Investigación Tecnológica  \n",
    "Universidad Nacional de La Matanza  \n",
    "\n",
    "---"
   ]
  },
  {
   "cell_type": "markdown",
   "metadata": {
    "slideshow": {
     "slide_type": "slide"
    }
   },
   "source": [
    "## Ejemplo: péndulo con fuerza elástica\n",
    "La cuerda de un péndulo tiene cierta elastícidad, lo cual puede contemplarse al realizar un modelo para obtener su dinámica.\n",
    "\n",
    "En la figura de abajo la pesa de masa $m$ cuyo centro se denomina $C$ no solo está a merced de la fuerza peso $\\vec{P} = m \\vec{g}$ y la elástica del resorte sino que además actúa una \n",
    "$$\n",
    "\\vec{F}= F(t) \\hat{I}.\n",
    "$$\n",
    "\n",
    "![](figuras/penduloElastico.png \"Péndulo con cuerda elástica\")"
   ]
  },
  {
   "cell_type": "markdown",
   "metadata": {
    "slideshow": {
     "slide_type": "slide"
    }
   },
   "source": [
    "### Cálculo del trabajo virtual\n",
    "- Desplazamiento virtual en función de coordenadas generalizadas\n",
    "\n",
    "$$\n",
    "\\delta \\vec{r}_c\n",
    "= \\delta x \\hat{\\rho} + (l_0 + x) \\delta \\theta \\hat{\\theta}\n",
    "= \\delta x \\left( \\sin(\\theta) \\hat{I} - \\cos(\\theta) \\hat{J} \\right) + (l_0 + x) \\delta \\theta \\left( \\cos(\\theta) \\hat{I} + \\sin(\\theta) \\hat{J} \\right).\n",
    "$$\n",
    "- Trabajo virtual a causa de la $\\vec{F}$ aplicada en $C$\n",
    "\n",
    "$$\n",
    "\\begin{aligned}\n",
    "\\delta W\n",
    "&= \\sum_i Q_i \\delta q_i = \\vec{F} \\cdot \\delta \\vec{r}_C = F(t) \\hat{I} \\cdot \\delta \\vec{r}_c\\\\\n",
    "&= F(t) \\sin(\\theta) \\delta x + F(t) (l_0 + x) \\cos(\\theta) \\delta \\theta \\\\\n",
    "&= Q_x \\delta x + Q_\\theta \\delta \\theta \\\\\n",
    "&\\implies Q_x = F(t) \\sin(\\theta) \\quad Q_\\theta = F(t) (l_0 + x) \\cos(\\theta)\n",
    "\\end{aligned}\n",
    "$$"
   ]
  },
  {
   "cell_type": "markdown",
   "metadata": {
    "slideshow": {
     "slide_type": "slide"
    }
   },
   "source": [
    "### Cálculo directo de fuerzas generalizadas\n",
    "- Se escribe $\\vec{r}$ en el sistema geométrico de coordenadas \n",
    "\n",
    "$$\n",
    "\\vec{r}_C = (l_0 + x) \\hat{\\rho} = (l_0 + x) \\left( \\sin(\\theta) \\hat{I} - \\cos(\\theta) \\hat{J} \\right)\n",
    "$$\n",
    "\n",
    "- Se calcula para cada $\\delta q_i$\n",
    "\n",
    "$$\n",
    "\\sum_i Q_i \\delta q_i = \\sum_j F_j \\left( \\frac{\\partial r_j}{\\partial q_j} \\right) \\delta q_j\n",
    "$$"
   ]
  },
  {
   "cell_type": "markdown",
   "metadata": {
    "slideshow": {
     "slide_type": "slide"
    }
   },
   "source": [
    "$\\exists! \\vec{F} \\implies\n",
    "Q_x \\delta x = \\vec{F} \\cdot \\frac{\\partial \\vec{r}_C}{\\partial x} \\quad\n",
    "Q_\\theta = \\vec{F} \\cdot \\frac{\\partial \\vec{r}_C}{\\partial \\theta}$.\n",
    "\n",
    "$$\n",
    "Q_x \n",
    "= \\vec{F} \\cdot \\frac{\\partial \\vec{r}_C}{\\partial x} \n",
    "= F(t) \\hat{I} \\cdot \\left( \\sin(\\theta) \\hat{I} - \\cos(\\theta) \\hat{J} \\right)\n",
    "= F(t) \\sin(\\theta)\n",
    "$$\n",
    "\n",
    "$$\n",
    "Q_\\theta \n",
    "= \\vec{F} \\cdot \\frac{\\partial \\vec{r}_C}{\\partial \\theta} \n",
    "= F(t) \\hat{I} \\cdot (l_0 + x) \\left( \\cos(\\theta) \\hat{I} + \\sin(\\theta) \\hat{J} \\right)\n",
    "= F(t) (l_0 + x) \\cos(\\theta)\n",
    "$$"
   ]
  },
  {
   "cell_type": "markdown",
   "metadata": {
    "slideshow": {
     "slide_type": "slide"
    }
   },
   "source": [
    "## Otro ejemplo: barra que pende de un carro\n",
    "- Barra $m_2$, $l$ (centro de masa en G) pende de (A) sujeta a $\\vec{g}$.\n",
    "- Carro $m_1$ unido a pared por un resorte de constante elástica $k$.\n",
    "\n",
    "![](figuras/erste.png \"Barra rígida como péndulo pendiente de un carro oscilante\")"
   ]
  },
  {
   "cell_type": "markdown",
   "metadata": {
    "slideshow": {
     "slide_type": "slide"
    }
   },
   "source": [
    "### Lagrangiano\n",
    "\n",
    "Recorando que la fuerza elástica que ejerce el resorte es $\\vec{F}_\\text{elástica}= - k x \\hat{x}$ y que el momento de inercia de una barra calculado desde el extremo $I= \\frac{m}{12} l^2$, se puede calcular el Lagrangiano\n",
    "\n",
    "$$\n",
    "\\mathcal{L}( x, \\dot{x}, \\theta, \\dot{\\theta} ) = \\frac{m_1}{2} \\dot{x}^2 + \\frac{m_2}{2} \n",
    "\\left( \n",
    "\\dot{x}^2 \n",
    "+ l \\dot{x} \\dot{\\theta} \\cos(\\theta)\n",
    "+ \\frac{l^2 \\dot{\\theta}^2 }{4}\n",
    "\\right) + \\frac{1}{2} \\left( \\frac{m_2 }{12} l^2 \\dot{\\theta}^2 \\right)\n",
    "- \\frac{k}{2} x^2\n",
    "- m_2 g \\frac{l}{2} \\left( 1 - \\cos(\\theta) \\right).\n",
    "$$"
   ]
  },
  {
   "cell_type": "markdown",
   "metadata": {
    "slideshow": {
     "slide_type": "slide"
    }
   },
   "source": [
    "### Dos ecuaciones de Euler-Lagrange\n",
    "\n",
    "$$\n",
    "\\begin{aligned}\n",
    "\\frac{ \\mathrm{d} }{ \\mathrm{d} t } \\frac{\\partial \\mathcal{L} }{ \\partial \\dot{x} } \n",
    "&- \\frac{\\partial \\mathcal{L} }{ \\partial x } = 0 \\\\\n",
    "m_1 \\ddot{x} + m_2 \\ddot{x} + \\frac{m_2}{2} l \\ddot{\\theta} \\cos(\\theta) -  \\frac{m_2}{2} l \\dot{\\theta}^2 \\sin(\\theta)\n",
    "&- \\left( - k x \\right) = 0 \\\\\n",
    "  \\left( m_1 + m_2 \\right) \\ddot{x} \n",
    "+ \\frac{m_2}{2} l \\cos(\\theta) \\ddot{\\theta}\n",
    "- \\frac{m_2}{2} l \\sin(\\theta) \\dot{\\theta}^2\n",
    "&+ k x  = 0\n",
    "\\end{aligned}\n",
    "$$"
   ]
  },
  {
   "cell_type": "markdown",
   "metadata": {
    "slideshow": {
     "slide_type": "slide"
    }
   },
   "source": [
    "$$\n",
    "\\begin{aligned}\n",
    "\\frac{ \\mathrm{d} }{ \\mathrm{d} t } \\frac{\\partial \\mathcal{L} }{ \\partial \\dot{\\theta} } \n",
    "- \\frac{\\partial \\mathcal{L} }{ \\partial \\theta } &= 0 \\\\\n",
    "  \\frac{ m_2 }{ 2 } l \\ddot{x} \\cos(\\theta) \n",
    "- \\frac{ m_2 }{ 2 } l \\dot{x} \\sin(\\theta) \\dot{\\theta}\n",
    "+ \\frac{ m_2 }{ 4 } l^2 \\ddot{\\theta}\n",
    "+ \\frac{m_2}{12} l^2 \\ddot{\\theta} \\\\\n",
    "- \\left(- m_2 g \\frac{l}{2} \\sin(\\theta) \\right) &= 0\\\\\n",
    "  \\frac{ m_2 }{ 2 } l \\cos(\\theta) \\ddot{x} \n",
    "- \\frac{ m_2 }{ 2 } l \\sin(\\theta) \\dot{x} \\dot{\\theta}\n",
    "+ \\frac{ m_2 }{ 3 } l^2 \\ddot{\\theta}\n",
    "+ m_2 g \\frac{ l }{ 2 } \\sin(\\theta) &= 0\n",
    "\\end{aligned}\n",
    "$$"
   ]
  },
  {
   "cell_type": "markdown",
   "metadata": {
    "slideshow": {
     "slide_type": "slide"
    }
   },
   "source": [
    "### Dinámica\n",
    "En defininitiva el sistema de ecuaciones que describe la dinámica es\n",
    "\n",
    "$$\n",
    "\\left\\{\n",
    "\\begin{array}{l}\n",
    "  \\left( m_1 + m_2 \\right) \\ddot{x} \n",
    "+ \\frac{m_2}{2} l \\cos(\\theta) \\ddot{\\theta}\n",
    "- \\frac{m_2}{2} l \\sin(\\theta) \\dot{\\theta}^2\n",
    "+ k x  = 0 \\\\\n",
    "  \\frac{ m_2 }{ 2 } l \\cos(\\theta) \\ddot{x} \n",
    "- \\frac{ m_2 }{ 2 } l \\sin(\\theta) \\dot{x} \\dot{\\theta}\n",
    "+ \\frac{ m_2 }{ 3 } l^2 \\ddot{\\theta} \n",
    "+ m_2 g \\frac{ l }{ 2 } \\sin(\\theta) = 0\n",
    "\\end{array}\n",
    "\\right.\n",
    "$$"
   ]
  },
  {
   "cell_type": "markdown",
   "metadata": {
    "slideshow": {
     "slide_type": "slide"
    }
   },
   "source": [
    "### Ahora agregamos unas fuerzas no conservativas\n",
    "Al sistema anterior se aplican dos fuerzas no conservativas:\n",
    "- una motríz externa $\\vec{F}_\\text{motríz}= F(t) \\hat{x}$\n",
    "- una de amortiguación proporcional a la velocidad $\\vec{F}_\\text{amortiguación}= - b \\dot{x} \\hat{x}$\n",
    "\n",
    "![](figuras/zweite.png \"Lo mismo con una fuerza motríz y una de amortiguación.\")"
   ]
  },
  {
   "cell_type": "markdown",
   "metadata": {
    "slideshow": {
     "slide_type": "slide"
    }
   },
   "source": [
    "Se analizan la variación de trabajos virtuales\n",
    "\n",
    "$$\n",
    "\\begin{aligned}\n",
    "\\delta W^\\text{nc} \n",
    "& = \\sum_j \\vec{F}_j^\\text{nc} \\cdot \\delta \\vec{r}_j = \\sum_i Q_i \\delta q_i \\\\\n",
    "& = \\left[ - b \\dot{x} + F(t) \\right] \\delta x + \\left[ 0 \\right] \\delta \\theta \\\\\n",
    "& \\implies Q_x = - b \\dot{x} + F(t) \\quad Q_\\theta = 0\n",
    "\\end{aligned}\n",
    "$$\n",
    "\n",
    "Con esto el sistema de ecuaciones de la dinámica es\n",
    "\n",
    "$$\n",
    "\\left\\{\n",
    "\\begin{array}{l}\n",
    "  \\left( m_1 + m_2 \\right) \\ddot{x} \n",
    "+ \\frac{m_2}{2} l \\cos(\\theta) \\ddot{\\theta}\n",
    "- \\frac{m_2}{2} l \\sin(\\theta) \\dot{\\theta}^2\n",
    "+ k x  = - b \\dot{x} + F(t) \\\\\n",
    "  \\frac{ m_2 }{ 2 } l \\cos(\\theta) \\ddot{x} \n",
    "- \\frac{ m_2 }{ 2 } l \\sin(\\theta) \\dot{x} \\dot{\\theta}\n",
    "+ \\frac{ m_2 }{ 3 } l^2 \\ddot{\\theta}\n",
    "+ m_2 g \\frac{ l }{ 2 } \\sin(\\theta) = 0\n",
    "\\end{array}\n",
    "\\right.\n",
    "$$"
   ]
  }
 ],
 "metadata": {
  "celltoolbar": "Slideshow",
  "kernelspec": {
   "display_name": "Python 3",
   "language": "python",
   "name": "python3"
  },
  "language_info": {
   "codemirror_mode": {
    "name": "ipython",
    "version": 3
   },
   "file_extension": ".py",
   "mimetype": "text/x-python",
   "name": "python",
   "nbconvert_exporter": "python",
   "pygments_lexer": "ipython3",
   "version": "3.7.3"
  }
 },
 "nbformat": 4,
 "nbformat_minor": 4
}
