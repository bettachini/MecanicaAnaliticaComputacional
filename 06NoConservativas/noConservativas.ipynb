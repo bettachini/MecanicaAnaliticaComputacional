{
 "cells": [
  {
   "cell_type": "markdown",
   "metadata": {
    "slideshow": {
     "slide_type": "slide"
    }
   },
   "source": [
    "# Euler-Lagrange | Fuerzas no conservativas"
   ]
  },
  {
   "cell_type": "markdown",
   "metadata": {},
   "source": [
    "![UNLaM | DIIT](figuras/ambos.png)    \n",
    "© 2021 [Víctor A. Bettachini](mailto:vbettachini@unlam.edu.ar)  \n",
    "Mecánica General  \n",
    "Departamento de Ingeniería e Investigación Tecnológica  \n",
    "Universidad Nacional de La Matanza  \n",
    "\n",
    "---"
   ]
  },
  {
   "cell_type": "markdown",
   "metadata": {
    "slideshow": {
     "slide_type": "slide"
    }
   },
   "source": [
    "## Descomposición en fuerzas generalizadas\n",
    "Para un sistema sometido a campos externos que dan lugar a potenciales en función de coordenadas $V=V(q_i)$, se puede despejar su ecuación de Euler-Lagrange así\n",
    "\n",
    "$$\n",
    "\\frac{\\mathrm{d}}{\\mathrm{d} t} \\frac{\\partial}{\\partial \\dot{x}} \\mathcal{L} = \\frac{\\partial}{\\partial x} \\mathcal{L},\n",
    "$$\n",
    "cuya derivada del Lagrangiano respecto de la coordenada es\n",
    "\n",
    "$$\n",
    "\\frac{\\partial}{\\partial x} \\mathcal{L} = - \\frac{\\partial}{\\partial x} V = F,\n",
    "$$\n",
    "donde esta fuerza $F$ depende de un potencial $V$, una de las llamadas **fuerzas conservativas**.\n",
    "\n",
    "Pero buena parte de las fuerzas que actuan sobre el sistema, como la fricción o la acción de un motor externo son **fuerzas no conservativas**.\n",
    "Ya vimos que $\\frac{\\mathrm{d}}{\\mathrm{d} t} \\frac{\\partial}{\\partial \\dot{x}} \\mathcal{L}$ es el equivalente de masa por aceleración, y recordemos que la 2.a ley de Newton establece que \n",
    "\n",
    "$$\n",
    "m \\ddot{\\vec{r}} = \\sum_j \\vec{F}_j,\n",
    "$$\n",
    "es la suma de **todas las fuerzas aplicadas**.\n",
    "\n",
    "Evidentemente a las fuerzas conservativas deben adicionarse en las ecuación de Euler-Lagrange para cada coordenada $q_i$ las **fuerzas generalizadas** $Q_i$ que no dependen de un potencial\n",
    "\n",
    "$$\n",
    "\\frac{\\mathrm{d}}{\\mathrm{d} t} \\frac{\\partial}{\\partial \\dot{q_i}} \\mathcal{L} = \\frac{\\partial}{\\partial q_i} \\mathcal{L} + Q_i.\n",
    "$$"
   ]
  },
  {
   "cell_type": "markdown",
   "metadata": {
    "slideshow": {
     "slide_type": "slide"
    }
   },
   "source": [
    "### ¿Cómo obtener tales fuerzas generalizadas $Q_i$?\n",
    "- Las $Q_i$ para cada $q_i$ se obtienen de la _descomposición_ de una fuerza conocida\n",
    "- No necesitan ser vectoriales. Basta estimar el _trabajo virtual_ $\\delta W$ que tal fuerza cuasaría ante un _desplazamiento virtual_ en esa coordenada $\\delta q_i$."
   ]
  },
  {
   "cell_type": "markdown",
   "metadata": {
    "slideshow": {
     "slide_type": "slide"
    }
   },
   "source": [
    "### Repasemos trabajo y energía\n",
    "Una **fuerza no conservativa** $\\vec{F^\\text{nc}}$ actuando mientras se produce un desplazamiento entere un punto 1 y un 2 puede variar la energía mecánica del sistema $T + V$.\n",
    "Esta variación es igual al **trabajo** que realizó esta fuerza $W_{1\\rightarrow2}^\\text{nc}$.\n",
    "\n",
    "El trabajo no es función de estado del sistema, es decir no depende de cuál sea su configuración en 1 y en 2 sino de cuál fue el recorrido para ir de $1$ a $2$.\n",
    "Por tanto de la integral de camino\n",
    "\n",
    "$$\n",
    "W_{1\\rightarrow2}^\\text{nc} = \\int_1^2 \\vec{F^\\text{nc}} \\cdot \\mathrm{d}\\vec{r} \\neq \\int_1^2 \\mathrm{d} W_{1\\rightarrow2}^\\text{nc},\n",
    "$$\n",
    "no puede reducirse a la integración de un hipotético diferencial exacto $\\mathrm{d} W_{1\\rightarrow2}^\\text{nc}$ pues, como sabemos, el trabajo no es función de la posición.\n",
    "\n",
    "Pero si 1 y 2 están infinitesimálmente próximos habrá una variación infinitesimal del trabajo $\\delta W^\\text{nc}$ que puede calculse explorando los posibles **desplazamiento virtuales** $\\delta \\vec{r}$ desde cada punto del espacio."
   ]
  },
  {
   "cell_type": "markdown",
   "metadata": {
    "slideshow": {
     "slide_type": "slide"
    }
   },
   "source": [
    "#### $\\delta W^{nc}$ en función de $Q_i$\n",
    "Para cada fuerza externa al sistema que sea no conservativa $\\vec{F^\\text{nc}}$ (las conservativas se contemplan a través de un potencial $V$) se puede calcular\n",
    "\n",
    "$$\n",
    "\\delta W^\\text{nc} = \\vec{F^\\text{nc}} \\cdot \\delta\\vec{r}.\n",
    "$$\n",
    "donde $\\delta\\vec{r}$ es función de variaciones de las coordenadas generalizadas $\\delta q_i$, es decir $\\delta\\vec{r} = \\delta\\vec{r} (\\delta q_i)$.\n",
    "Esto recibe el nombre de **trabajo de las fuerzas virtuales**, en este caso las no conservativas.\n",
    "\n",
    "Como a cada coordenada generalizada $q_i$ se asocia una fuerza generalizada $Q_i$, esta ante el desplazamiento virtual $\\delta q_i$ causa la misma variación del trabajo\n",
    "\n",
    "$$\n",
    "\\delta W^\\text{nc} = \\sum_i Q_i \\delta q_i.\n",
    "$$\n",
    "Puede entonces plantearse la igualdad\n",
    "\n",
    "$$\n",
    "\\vec{F^\\text{nc}} \\cdot \\delta\\vec{r} = \\sum_i Q_i \\delta q_i,\n",
    "$$\n",
    "que permite relacionar la magnitud vectorial que representa a la fuerza externa no conservativa $\\vec{F^\\text{nc}}$ con las fuerzas generalizadas $Q_i$."
   ]
  },
  {
   "cell_type": "markdown",
   "metadata": {
    "slideshow": {
     "slide_type": "slide"
    }
   },
   "source": [
    "## Un ejemplo\n",
    "Supongamos una geometría similar a la de un péndulo para una barra rígida con uno de los extremos en una bisagra que le permite un grado de libertad de rotación $\\theta$.\n",
    "En el otro extremo de la barra de longitud $l$ hay una masa sobre la que se aplica una fuerza hacia abajo\n",
    "\n",
    "$$\n",
    "\\vec{F}= - F(t) \\hat{y}.\n",
    "$$\n",
    "\n",
    "![](figuras/hingeA.png \"Barra rígida que rota en torno a bisagra a la que se aplica en su extremo una fuerza\")\n",
    "\n",
    "El único desplazamiento virtual dada una variación de la única coordenada es $\\delta \\theta$ y resulta en un desplazamiento virtual $\\delta{\\vec{r}}$ llevaría la masa a una posición ligeramente arriba y la derecha de la anterior."
   ]
  },
  {
   "cell_type": "markdown",
   "metadata": {
    "slideshow": {
     "slide_type": "slide"
    }
   },
   "source": [
    "### Desplazamiento virtual $\\delta{\\vec{r}}$\n",
    "\n",
    "![](figuras/hingeB.png \"Componentes del desplazamiento virtual\")\n",
    "\n",
    "Como disponemos de una expresión de $\\vec{F}$ en coordenadas cartesianas descompondremos $\\delta{\\vec{r}}$ en ese sistema para calcular el trabajo virtual de esta fuerza.\n",
    "\n",
    "$$\n",
    "\\delta{\\vec{r}} = l \\cos(\\theta) \\delta \\theta \\hat{x} + l \\sin(\\theta) \\delta \\theta \\hat{y}.\n",
    "$$"
   ]
  },
  {
   "cell_type": "markdown",
   "metadata": {
    "slideshow": {
     "slide_type": "slide"
    }
   },
   "source": [
    "### $\\delta W$ a partir de $\\vec{F}$ y $\\delta{\\vec{r}} $\n",
    "Con $\\delta{\\vec{r}}$ y $\\vec{F}$ en el mismo sistema\n",
    "\n",
    "$$\n",
    "\\begin{aligned}\n",
    "\\delta W \n",
    "&= \\vec{F} \\cdot \\delta{\\vec{r}} \\\\\n",
    "&= \\left[ - F(t) \\hat{y} \\right] \\cdot \\left[ l \\cos(\\theta) \\delta \\theta \\hat{x}  + l \\sin(\\theta) \\delta \\theta \\hat{y} \\right] \\\\\n",
    "&= - F(t) l \\sin(\\theta) \\delta \\theta.\n",
    "\\end{aligned}\n",
    "$$\n",
    "\n",
    "La fuerza generalizada $Q_\\theta$ asociada a $\\delta \\theta$ será la responsable del mismo trabajo virtual\n",
    "\n",
    "$$\n",
    "\\delta W = Q_\\theta \\delta q_\\theta,\n",
    "$$\n",
    "por tanto\n",
    "\n",
    "$$\n",
    "\\boxed{\n",
    "Q_\\theta = - F(t) l \\sin(\\theta).\n",
    "}\n",
    "$$"
   ]
  },
  {
   "cell_type": "markdown",
   "metadata": {},
   "source": [
    "## Generalizando el procedimiento\n",
    "En cada punto que se aplica una fuerza real $\\vec{F}$ se hace un trabajo sobre el sistema si tal punto se mueve.\n",
    "Tal trabajo agrega o quita energía, de ahí su carácter de fuerza no conservativa.\n",
    "\n",
    "La variación total del trabajo de tales fuerzas es\n",
    "\n",
    "$$\n",
    "\\delta W^\\text{nc} = \\sum_{i=1}^n Q_i \\delta q_i = \\sum_{j=1} \\vec{F}_j \\cdot \\delta \\vec{ r}_j(\\delta q_1,\\dots,\\delta q_n),\n",
    "$$\n",
    "donde $r_j$ son coordenadas en algún sistema (cartesiano, esférico, etc.) de los puntos en que se ejercen las fuezas reals expresadas en función de las $q_i$ y las $F_j$ sus componentes en tal sistema."
   ]
  },
  {
   "cell_type": "markdown",
   "metadata": {
    "slideshow": {
     "slide_type": "slide"
    }
   },
   "source": [
    "Para calcular $Q_i$ correspondiente a cada $q_i$\n",
    "\n",
    "$$\n",
    "\\boxed{\n",
    "Q_i \\delta q_i = \\sum_j \\vec{F}_j \\cdot \\delta \\vec{r}_j .\n",
    "}\n",
    "$$\n",
    "\n",
    "Hay veces que es difícil expresar $\\delta \\vec{r}_j$ en función de los $\\delta q_i$.\n",
    "En tal caso\n",
    "\n",
    "$$\n",
    "\\boxed{\n",
    "Q_i \\delta q_i = \\sum_j F_j \\left( \\frac{\\partial r_j}{\\partial q_j} \\right) \\delta q_j,\n",
    "}\n",
    "$$\n",
    "teniendo cuidado de asignar correctamente el signo de $F_j$."
   ]
  },
  {
   "cell_type": "markdown",
   "metadata": {
    "slideshow": {
     "slide_type": "slide"
    }
   },
   "source": [
    "## En resumen: las fuerzas en el enfoque Lagrangiano\n",
    "Si la fuerza que actua sobre los componentes de un sistema es\n",
    "- causada por algún **campo** (eléctrico, gravitatorio), se l contemplan calculando el **potencial** usando que $\\vec{F}= - \\vec{\\nabla} V$,\n",
    "- si es de otro origen se la expresa como una **no conservativa**, pueden ser las disipativas, de un motor externo, etc. Se las escribe como fuerzas generalizadas $Q_i$.\n",
    "\n",
    "Hay otras fuerzas, que son las que mantienen un **vínculo**.\n",
    "Por ejemplo las que haga una barra rígida manteniendo una cierta distancia, o la que haga una superfie sobre la que se asiente un componente.\n",
    "Estas no hacen trabajo pues los posibles $\\delta r$ de los componentes del sistema serán siempre perpendiculares a estas (de lo contrario no se cumple el vínculo).\n",
    "Si no necesitamos su magnitud no se incluyen en el cálculo, pero si le necesitamos, este puede obtenerse con la técnica de **multiplicadores de Lagrange**."
   ]
  }
 ],
 "metadata": {
  "celltoolbar": "Slideshow",
  "kernelspec": {
   "display_name": "Python 3",
   "language": "python",
   "name": "python3"
  },
  "language_info": {
   "codemirror_mode": {
    "name": "ipython",
    "version": 3
   },
   "file_extension": ".py",
   "mimetype": "text/x-python",
   "name": "python",
   "nbconvert_exporter": "python",
   "pygments_lexer": "ipython3",
   "version": "3.7.3"
  }
 },
 "nbformat": 4,
 "nbformat_minor": 4
}
