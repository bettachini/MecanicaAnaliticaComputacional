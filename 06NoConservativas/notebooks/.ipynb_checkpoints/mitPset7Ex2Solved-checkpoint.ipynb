{
 "cells": [
  {
   "cell_type": "markdown",
   "metadata": {},
   "source": [
    "# Péndulo de torsión\n",
    "© 2020 Víctor A. Bettachini  \n",
    "Mecánica General  \n",
    "Departamento de Ingeniería e Investigación Tecnológica  \n",
    "Universidad Nacional de La Matanza   \n",
    "![](ambos.png \"UNLaM | DIIT\")  \n",
    "\n",
    "---"
   ]
  },
  {
   "cell_type": "markdown",
   "metadata": {},
   "source": [
    "## Enunciado"
   ]
  },
  {
   "cell_type": "markdown",
   "metadata": {},
   "source": [
    "Dos pesos de masa idéntica $m$ están unidos al extremo de brazos de masa despreciable.\n",
    "Uno de los brazos describe una inclinación fija con la horizontal de $\\phi$.\n",
    "Descartamos la fricción con los rodamientos que mantiene vertical el eje de donde parten los brazos.\n",
    "Este no puede rotar libremente a cualquier ángulo $\\theta$ pues un resorte de torsión de constante elástica $K_t$ opone un torque cada vez que $\\theta \\neq 0$.\n",
    "En adición a este torque se ejerce uno externo variable en el tiempo: $\\vec{\\tau}= \\tau (t) \\hat{z}$.  \n",
    "![](pset7ex2.png)  \n",
    "Pregunta conceptual:\n",
    "¿Cuales es la unidad de la fuerza generalizada?\n",
    "\n",
    "1. $\\mathrm{N}$\n",
    "2. $\\mathrm{N m^{-1}}$\n",
    "3. $\\mathrm{N m}$\n",
    "4. Otra\n",
    "\n",
    "Obtenga las ecuaciones de la dinámica de Euler-Lagrange. "
   ]
  },
  {
   "cell_type": "markdown",
   "metadata": {},
   "source": [
    "## Resolución simbólica en el formalismo Lagrangiano"
   ]
  },
  {
   "cell_type": "code",
   "execution_count": 12,
   "metadata": {},
   "outputs": [],
   "source": [
    "# biblioteca de cálculo simbólico\n",
    "import sympy as sym\n",
    "import sympy.physics.mechanics as mech\n",
    "mech.init_vprinting() # notación con puntos para derivadas temporales"
   ]
  },
  {
   "cell_type": "markdown",
   "metadata": {},
   "source": [
    "### Parámetros del sistema"
   ]
  },
  {
   "cell_type": "markdown",
   "metadata": {},
   "source": [
    "Utilizaré $\\theta$ como el ángulo de rotación en torno al eje vertical, su derivada $\\dot{\\theta} = \\Omega$.\n",
    "\n",
    "Ojo, no confundir con la inclinación del brazo levantado $\\phi$."
   ]
  },
  {
   "cell_type": "code",
   "execution_count": 13,
   "metadata": {},
   "outputs": [],
   "source": [
    "# Defino los parámetros físicos del sistema\n",
    "g, m, K, L, phi = sym.symbols('g, m, K, L, phi', positive=True)\n",
    "\n",
    "# Defino coordenadas generalizadas \n",
    "t = sym.symbols('t') # tiempo\n",
    "theta = sym.Function('theta')(t) # posición pesa 1: x = x(t)\n",
    "tau = sym.Function('tau')(t) # posición pesa 1: x = x(t)"
   ]
  },
  {
   "cell_type": "markdown",
   "metadata": {},
   "source": [
    "### Coordenadas generalizadas"
   ]
  },
  {
   "cell_type": "code",
   "execution_count": 14,
   "metadata": {},
   "outputs": [],
   "source": [
    "# Sistema cartesiano\n",
    "N = sym.physics.vector.ReferenceFrame('N') # marco referencial N en coordenadas cartesianas\n",
    "\n",
    "# posiciones\n",
    "m1_r = L* ( sym.cos(phi)* (sym.cos(theta)* N.x +  sym.sin(theta)* N.y) + sym.sin(phi)* (N.z))\n",
    "m2_r = L* (-1)* (sym.cos(theta)* N.x +  sym.sin(theta)* N.y)\n",
    "           \n",
    "# velocidades\n",
    "m1_v = m1_r.diff(t,N) # derivada respecto a t en el marco referencial N\n",
    "m2_v = m2_r.diff(t,N)"
   ]
  },
  {
   "cell_type": "markdown",
   "metadata": {},
   "source": [
    "### Energía cinética y potencial"
   ]
  },
  {
   "cell_type": "code",
   "execution_count": 15,
   "metadata": {},
   "outputs": [
    {
     "data": {
      "image/png": "[encoded data removed]",
      "text/latex": [
       "$\\displaystyle T = \\frac{L^{2} m \\left(\\operatorname{cos}^{2}\\left(\\phi\\right) + 1\\right) \\dot{\\theta}^{2}}{2}$"
      ],
      "text/plain": [
       "     2   ⎛   2       ⎞  2\n",
       "    L ⋅m⋅⎝cos (φ) + 1⎠⋅θ̇ \n",
       "T = ─────────────────────\n",
       "              2          "
      ]
     },
     "execution_count": 15,
     "metadata": {},
     "output_type": "execute_result"
    }
   ],
   "source": [
    "unMedio = sym.Rational(1,2) # Rational: fracción de enteros, alternativamente podría haberse usado 0.5 \n",
    "m1_T = unMedio* m* m1_v.dot(m1_v)\n",
    "m2_T = unMedio* m* m2_v.dot(m2_v)\n",
    "T = m1_T + m2_T\n",
    "cineticaSimbolo = sym.Symbol('T')\n",
    "sym.Eq(cineticaSimbolo, T.simplify() ) # simplify: simplifica usando factor común y otras operaciones"
   ]
  },
  {
   "cell_type": "code",
   "execution_count": 16,
   "metadata": {},
   "outputs": [
    {
     "data": {
      "image/png": "[encoded data removed]",
      "text/latex": [
       "$\\displaystyle V = \\frac{K \\theta^{2}}{2} + L g m \\operatorname{sin}\\left(\\phi\\right)$"
      ],
      "text/plain": [
       "       2               \n",
       "    K⋅θ                \n",
       "V = ──── + L⋅g⋅m⋅sin(φ)\n",
       "     2                 "
      ]
     },
     "execution_count": 16,
     "metadata": {},
     "output_type": "execute_result"
    }
   ],
   "source": [
    "m1_V = m* g* m1_r.dot(N.z)\n",
    "m2_V = m* g* m2_r.dot(N.z)\n",
    "resorte_V = unMedio* K* theta**2\n",
    "V = m1_V+ m2_V+ resorte_V\n",
    "potencialSimbolo = sym.Symbol('V')\n",
    "sym.Eq(potencialSimbolo, V.simplify() )"
   ]
  },
  {
   "cell_type": "markdown",
   "metadata": {},
   "source": [
    "### Lagrangiano"
   ]
  },
  {
   "cell_type": "code",
   "execution_count": 17,
   "metadata": {},
   "outputs": [
    {
     "data": {
      "image/png": "[encoded data removed]",
      "text/latex": [
       "$\\displaystyle \\mathcal{L} = - \\frac{K \\theta^{2}}{2} - \\frac{L^{2} m \\operatorname{sin}^{2}\\left(\\phi\\right) \\dot{\\theta}^{2}}{2} + L^{2} m \\dot{\\theta}^{2} - L g m \\operatorname{sin}\\left(\\phi\\right)$"
      ],
      "text/plain": [
       "                   2    2      2     2                         \n",
       "                K⋅θ    L ⋅m⋅sin (φ)⋅θ̇     2    2               \n",
       "\\mathcal{L} = - ──── - ─────────────── + L ⋅m⋅θ̇  - L⋅g⋅m⋅sin(φ)\n",
       "                 2            2                                "
      ]
     },
     "execution_count": 17,
     "metadata": {},
     "output_type": "execute_result"
    }
   ],
   "source": [
    "lagrangianoSimbolo = sym.Symbol('\\mathcal{L}')\n",
    "L = T- V\n",
    "sym.Eq(lagrangianoSimbolo, L.simplify())"
   ]
  },
  {
   "cell_type": "markdown",
   "metadata": {},
   "source": [
    "### Torque externo"
   ]
  },
  {
   "cell_type": "markdown",
   "metadata": {},
   "source": [
    "El diferencial del trabajo de este torque $\\vec{\\tau}(t)$ es $\\vec{\\tau} \\cdot \\mathrm{d} \\vec{\\theta}$, donde $\\mathrm{d} \\vec{\\theta} = \\mathrm{d} \\theta \\hat{z}$, de la misma manera que $\\dot{\\vec{\\theta}} = \\frac{\\partial \\theta}{\\partial t} \\hat{z} = \\vec{\\Omega}$.\n",
    "\n",
    "$$\n",
    "\\delta W = Q_\\theta \\delta \\theta = \\vec{\\tau} \\cdot \\delta \\vec{\\theta}\n",
    "$$\n",
    "Por tanto $Q_\\theta = \\tau$."
   ]
  },
  {
   "cell_type": "markdown",
   "metadata": {},
   "source": [
    "### Euler-Lagrange\n",
    "\n",
    "$$\n",
    "\\frac{\\mathrm{d}}{\\mathrm{d} t} \\frac{\\partial}{\\partial \\dot{q_i}} \\mathcal{L}  - \\frac{\\partial}{\\partial q_i} \\mathcal{L} = Q_i.\n",
    "$$"
   ]
  },
  {
   "cell_type": "code",
   "execution_count": 18,
   "metadata": {},
   "outputs": [],
   "source": [
    "theta_dtdqp = L.diff(theta.diff(t) ).diff(t)\n",
    "theta_dq = L.diff(theta)\n",
    "theta_Q = tau"
   ]
  },
  {
   "cell_type": "code",
   "execution_count": 19,
   "metadata": {},
   "outputs": [
    {
     "data": {
      "image/png": "[encoded data removed]",
      "text/latex": [
       "$\\displaystyle K \\theta + L^{2} m \\operatorname{cos}^{2}\\left(\\phi\\right) \\ddot{\\theta} + L^{2} m \\ddot{\\theta} = \\tau$"
      ],
      "text/plain": [
       "       2      2         2        \n",
       "K⋅θ + L ⋅m⋅cos (φ)⋅θ̈ + L ⋅m⋅θ̈ = τ"
      ]
     },
     "execution_count": 19,
     "metadata": {},
     "output_type": "execute_result"
    }
   ],
   "source": [
    "theta_EL_val = theta_dtdqp - theta_dq\n",
    "theta_EL = sym.Eq(theta_EL_val.simplify(), theta_Q)\n",
    "theta_EL"
   ]
  },
  {
   "cell_type": "markdown",
   "metadata": {},
   "source": [
    "De aquí puede despejarse la aceleración generalizada que quedará en función de la magnitud del torque externo $\\tau$."
   ]
  },
  {
   "cell_type": "code",
   "execution_count": 20,
   "metadata": {},
   "outputs": [
    {
     "data": {
      "image/png": "[encoded data removed]",
      "text/latex": [
       "$\\displaystyle \\ddot{\\theta} = \\frac{- K \\theta + \\tau}{L^{2} m \\left(\\operatorname{cos}^{2}\\left(\\phi\\right) + 1\\right)}$"
      ],
      "text/plain": [
       "         -K⋅θ + τ     \n",
       "θ̈ = ──────────────────\n",
       "     2   ⎛   2       ⎞\n",
       "    L ⋅m⋅⎝cos (φ) + 1⎠"
      ]
     },
     "execution_count": 20,
     "metadata": {},
     "output_type": "execute_result"
    }
   ],
   "source": [
    "theta_pp = sym.solve(theta_EL, theta.diff(t,2))[0]\n",
    "sym.Eq(theta.diff(t,2), theta_pp)"
   ]
  },
  {
   "cell_type": "markdown",
   "metadata": {},
   "source": [
    "Nótese que obviando $\\tau$ la aceleración es restitutiva, es decir de signo contrario al $\\theta$.\n",
    "Esto se observa en cualquier sistema con un potencial elástico, pues este actuará como un oscilador."
   ]
  },
  {
   "cell_type": "code",
   "execution_count": null,
   "metadata": {},
   "outputs": [],
   "source": []
  }
 ],
 "metadata": {
  "kernelspec": {
   "display_name": "Python 3",
   "language": "python",
   "name": "python3"
  },
  "language_info": {
   "codemirror_mode": {
    "name": "ipython",
    "version": 3
   },
   "file_extension": ".py",
   "mimetype": "text/x-python",
   "name": "python",
   "nbconvert_exporter": "python",
   "pygments_lexer": "ipython3",
   "version": "3.7.3"
  }
 },
 "nbformat": 4,
 "nbformat_minor": 4
}
