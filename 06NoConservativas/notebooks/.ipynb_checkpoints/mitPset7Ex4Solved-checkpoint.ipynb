{
 "cells": [
  {
   "cell_type": "markdown",
   "metadata": {},
   "source": [
    "# Péndulo de torsión\n",
    "© 2020 Víctor A. Bettachini  \n",
    "Mecánica General  \n",
    "Departamento de Ingeniería e Investigación Tecnológica  \n",
    "Universidad Nacional de La Matanza   \n",
    "![](ambos.png \"UNLaM | DIIT\")  \n",
    "\n",
    "---"
   ]
  },
  {
   "cell_type": "markdown",
   "metadata": {},
   "source": [
    "## Enunciado"
   ]
  },
  {
   "cell_type": "markdown",
   "metadata": {},
   "source": [
    "Dos barriles cilíndricos homogéneos de respectivas masas y radios $m_1$,$m_2$, $R_1$ y $R_2$ están soldados.\n",
    "Este armado rota sin fricción en torno a un eje. \n",
    "Una cuerda de masa despreciable envuelve al cilindro externo y sus extremos conectan un resorte de constante elástica $k$ y un amortiguador en función de la velocidad (constante de proporcionalidad $b$). \n",
    "Una correa de masa despreciable envuelve al cilindro de menor radio y de ella pende vertical un bloque de masa $m_o$.\n",
    "\n",
    "Obtenga las ecuaciones de la dinámica de Euler-Lagrange.\n",
    "\n",
    "![](pset7ex4.png)  "
   ]
  },
  {
   "cell_type": "markdown",
   "metadata": {},
   "source": [
    "## Resolución simbólica en el formalismo Lagrangiano"
   ]
  },
  {
   "cell_type": "code",
   "execution_count": 2,
   "metadata": {},
   "outputs": [],
   "source": [
    "# biblioteca de cálculo simbólico\n",
    "import sympy as sym\n",
    "import sympy.physics.mechanics as mech\n",
    "mech.init_vprinting() # notación con puntos para derivadas temporales"
   ]
  },
  {
   "cell_type": "markdown",
   "metadata": {},
   "source": [
    "### Parámetros del sistema"
   ]
  },
  {
   "cell_type": "markdown",
   "metadata": {},
   "source": [
    "Utilizaré $\\theta$ como el ángulo de rotación de los cilíndros.\n",
    "\n",
    "Asumo que la cuerda de la que pende $m_0$ tiene cierta longitud al inicio de la dinámica $l_0$."
   ]
  },
  {
   "cell_type": "code",
   "execution_count": 3,
   "metadata": {},
   "outputs": [],
   "source": [
    "# Defino los parámetros físicos del sistema\n",
    "g, m0, m1, m2, k, b, R1, R2, l0 = sym.symbols('g, m_0, m_1, m_2, k, b, R_1, R_2, l_0', positive=True)\n",
    "\n",
    "# Defino coordenadas generalizadas \n",
    "t = sym.symbols('t') # tiempo\n",
    "theta = sym.Function('theta')(t) # posición pesa 1: x = x(t)"
   ]
  },
  {
   "cell_type": "markdown",
   "metadata": {},
   "source": [
    "### Coordenadas generalizadas"
   ]
  },
  {
   "cell_type": "code",
   "execution_count": 4,
   "metadata": {},
   "outputs": [],
   "source": [
    "# Sistema cartesiano\n",
    "N = sym.physics.vector.ReferenceFrame('N') # marco referencial N en coordenadas cartesianas\n",
    "\n",
    "# posiciones\n",
    "m0_r = (l0+ theta* R1)* (-N.z)\n",
    "           \n",
    "# velocidades\n",
    "m0_v = m0_r.diff(t,N) # derivada respecto a t en el marco referencial N"
   ]
  },
  {
   "cell_type": "markdown",
   "metadata": {},
   "source": [
    "### Energía cinética y potencial"
   ]
  },
  {
   "cell_type": "markdown",
   "metadata": {},
   "source": [
    "No olvidar los momentos de inercia de los barriles homogéneos\n",
    "\n",
    "$$\n",
    "I = \\frac{m}{2} R^2\n",
    "$$"
   ]
  },
  {
   "cell_type": "code",
   "execution_count": 5,
   "metadata": {},
   "outputs": [
    {
     "data": {
      "image/png": "[encoded data removed]",
      "text/latex": [
       "$\\displaystyle T = \\frac{\\left(2 R_{1}^{2} m_{0} + R_{1}^{2} m_{1} + R_{2}^{2} m_{2}\\right) \\dot{\\theta}^{2}}{4}$"
      ],
      "text/plain": [
       "    ⎛    2        2        2   ⎞  2\n",
       "    ⎝2⋅R₁ ⋅m₀ + R₁ ⋅m₁ + R₂ ⋅m₂⎠⋅θ̇ \n",
       "T = ───────────────────────────────\n",
       "                   4               "
      ]
     },
     "execution_count": 5,
     "metadata": {},
     "output_type": "execute_result"
    }
   ],
   "source": [
    "unMedio = sym.Rational(1,2) # Rational: fracción de enteros, alternativamente podría haberse usado 0.5 \n",
    "m0_T = unMedio* m0* m0_v.dot(m0_v)\n",
    "R1_T = unMedio* (unMedio* m1)* R1**2* theta.diff(t)**2\n",
    "R2_T = unMedio* (unMedio* m2)* R2**2* theta.diff(t)**2\n",
    "T = m0_T +R1_T+ R2_T\n",
    "cineticaSimbolo = sym.Symbol('T')\n",
    "sym.Eq(cineticaSimbolo, T.simplify() ) # simplify: simplifica usando factor común y otras operaciones"
   ]
  },
  {
   "cell_type": "code",
   "execution_count": 6,
   "metadata": {},
   "outputs": [
    {
     "data": {
      "image/png": "[encoded data removed]",
      "text/latex": [
       "$\\displaystyle V = \\frac{R_{2}^{2} k \\theta^{2}}{2} - g m_{0} \\left(R_{1} \\theta + l_{0}\\right)$"
      ],
      "text/plain": [
       "      2    2                   \n",
       "    R₂ ⋅k⋅θ                    \n",
       "V = ──────── - g⋅m₀⋅(R₁⋅θ + l₀)\n",
       "       2                       "
      ]
     },
     "execution_count": 6,
     "metadata": {},
     "output_type": "execute_result"
    }
   ],
   "source": [
    "m0_V = m0* g* m0_r.dot(N.z)\n",
    "resorte_V = unMedio* k* (theta* R2)**2\n",
    "V = m0_V+ resorte_V\n",
    "potencialSimbolo = sym.Symbol('V')\n",
    "sym.Eq(potencialSimbolo, V.simplify() )"
   ]
  },
  {
   "cell_type": "markdown",
   "metadata": {},
   "source": [
    "### Lagrangiano"
   ]
  },
  {
   "cell_type": "code",
   "execution_count": 7,
   "metadata": {},
   "outputs": [
    {
     "data": {
      "image/png": "[encoded data removed]",
      "text/latex": [
       "$\\displaystyle \\mathcal{L} = \\frac{R_{1}^{2} m_{0} \\dot{\\theta}^{2}}{2} + \\frac{R_{1}^{2} m_{1} \\dot{\\theta}^{2}}{4} - \\frac{R_{2}^{2} k \\theta^{2}}{2} + \\frac{R_{2}^{2} m_{2} \\dot{\\theta}^{2}}{4} + g m_{0} \\left(R_{1} \\theta + l_{0}\\right)$"
      ],
      "text/plain": [
       "                2     2     2     2     2    2     2     2                   \n",
       "              R₁ ⋅m₀⋅θ̇    R₁ ⋅m₁⋅θ̇    R₂ ⋅k⋅θ    R₂ ⋅m₂⋅θ̇                    \n",
       "\\mathcal{L} = ───────── + ───────── - ──────── + ───────── + g⋅m₀⋅(R₁⋅θ + l₀)\n",
       "                  2           4          2           4                       "
      ]
     },
     "execution_count": 7,
     "metadata": {},
     "output_type": "execute_result"
    }
   ],
   "source": [
    "lagrangianoSimbolo = sym.Symbol('\\mathcal{L}')\n",
    "L = T- V\n",
    "sym.Eq(lagrangianoSimbolo, L.simplify())"
   ]
  },
  {
   "cell_type": "markdown",
   "metadata": {},
   "source": [
    "### Amortiguación"
   ]
  },
  {
   "cell_type": "markdown",
   "metadata": {},
   "source": [
    "La fuerza que hace el amortiguador es\n",
    "\n",
    "$$\n",
    "\\vec{F}_\\mathrm{amortiguador} = -b \\dot{z}_{m0} \\hat{z},\n",
    "$$\n",
    "es decir que se opone al sentido que tenga la velocidad ya que $\\dot{z}_{m0} = \\dot{\\vec{r}}_{m0} \\cdot \\hat{z}$, es la velocidad vertical de la $m_0$.\n",
    "\n",
    "$$\n",
    "\\dot{z}_{m0} \n",
    "= \\frac{\\mathrm{d} }{\\mathrm{d} t} \\vec{r}_{m0} \\cdot{\\hat{z}} \n",
    "= \\left( \\frac{\\partial \\vec{r}_{m0}}{\\partial \\theta} \\cdot{\\hat{z}} \\right) \\frac{\\mathrm{d} }{\\mathrm{d} t} \\theta \n",
    "= \\left( -  R_1 \\hat{z} \\cdot{\\hat{z}} \\right) \\dot{\\theta}\n",
    "= -  R_1 \\dot{\\theta},\n",
    "$$"
   ]
  },
  {
   "cell_type": "code",
   "execution_count": 11,
   "metadata": {},
   "outputs": [
    {
     "data": {
      "image/png": "[encoded data removed]",
      "text/latex": [
       "$\\displaystyle - R_{1} \\dot{\\theta}$"
      ],
      "text/plain": [
       "-R₁⋅θ̇"
      ]
     },
     "execution_count": 11,
     "metadata": {},
     "output_type": "execute_result"
    }
   ],
   "source": [
    "# velocidad de masa amortiguada en z\n",
    "m0_v.dot(N.z)"
   ]
  },
  {
   "cell_type": "markdown",
   "metadata": {},
   "source": [
    "El diferencial del trabajo que realiza esta fuerza es\n",
    "\n",
    "$$\n",
    "\\delta W \n",
    "= Q_\\theta \\delta \\theta \n",
    "= \\vec{F}_\\mathrm{amortiguador} \\cdot \\delta \\vec{r}_{m0}.\n",
    "$$\n",
    "Falta relacionar $\\delta \\vec{r}_{m0}$ con la coordenada generalizada $\\theta$, para esto se plantea\n",
    "\n",
    "$$\n",
    "\\delta W \n",
    "= Q_\\theta \\delta \\theta = \\vec{F}_\\mathrm{amortiguador} \\cdot \\left( \\frac{\\partial \\vec{r}_{m0}}{\\partial \\theta} \\right) \\delta \\theta \n",
    "= \\vec{F}_\\mathrm{amortiguador} \\cdot \\left( - R_1 \\hat{z} \\right) \\delta \\theta.\n",
    "$$"
   ]
  },
  {
   "cell_type": "code",
   "execution_count": 9,
   "metadata": {},
   "outputs": [
    {
     "data": {
      "image/png": "[encoded data removed]",
      "text/latex": [
       "$\\displaystyle -  R_{1}\\mathbf{\\hat{n}_z}$"
      ],
      "text/plain": [
       "-R₁ n_z"
      ]
     },
     "execution_count": 9,
     "metadata": {},
     "output_type": "execute_result"
    }
   ],
   "source": [
    "# derivada posición masa amortiguada con theta\n",
    "m0_r.diff(theta, N)"
   ]
  },
  {
   "cell_type": "markdown",
   "metadata": {},
   "source": [
    "En la expresión de $\\vec{F}_\\mathrm{amortiguador}$ el producto vectorial simplifica los versores $\\hat{z}$ para obtener\n",
    "\n",
    "$$\n",
    "\\delta W \n",
    "= Q_\\theta \\delta \\theta \n",
    "= \\left( -b \\dot{z}_{m0} \\hat{z} \\right) \\left( - R_1 \\hat{z} \\right) \\delta \\theta \n",
    "= b R_1 \\dot{z}_{m0} \\delta \\theta,\n",
    "$$\n",
    "\n",
    "y por tanto\n",
    "$$\n",
    "Q_\\theta = - b R_1^2 \\dot{\\theta},\n",
    "$$\n",
    "\n",
    "donde no hay que equivocar el signo pues al incrementar $\\theta$ el $z$ va contra el versor $\\hat{z}$."
   ]
  },
  {
   "cell_type": "code",
   "execution_count": 59,
   "metadata": {},
   "outputs": [
    {
     "data": {
      "image/png": "[encoded data removed]",
      "text/latex": [
       "$\\displaystyle Q_\\theta = - R_{1}^{2} b \\dot{\\theta}$"
      ],
      "text/plain": [
       "              2    \n",
       "Q_\\theta = -R₁ ⋅b⋅θ̇"
      ]
     },
     "execution_count": 59,
     "metadata": {},
     "output_type": "execute_result"
    }
   ],
   "source": [
    "theta_Q = (-b* m0_v.dot(N.z) )* (- R1)\n",
    "theta_Qsimbolo = sym.Symbol('Q_\\\\theta')\n",
    "sym.Eq(theta_Qsimbolo, theta_Q)"
   ]
  },
  {
   "cell_type": "markdown",
   "metadata": {},
   "source": [
    "### Euler-Lagrange\n",
    "\n",
    "$$\n",
    "\\frac{\\mathrm{d}}{\\mathrm{d} t} \\frac{\\partial}{\\partial \\dot{q_i}} \\mathcal{L}  - \\frac{\\partial}{\\partial q_i} \\mathcal{L} = Q_i.\n",
    "$$"
   ]
  },
  {
   "cell_type": "code",
   "execution_count": 60,
   "metadata": {},
   "outputs": [],
   "source": [
    "theta_dtdqp = L.diff(theta.diff(t) ).diff(t)\n",
    "theta_dq = L.diff(theta)"
   ]
  },
  {
   "cell_type": "code",
   "execution_count": 61,
   "metadata": {},
   "outputs": [
    {
     "data": {
      "image/png": "[encoded data removed]",
      "text/latex": [
       "$\\displaystyle R_{1}^{2} m_{0} \\ddot{\\theta} + \\frac{R_{1}^{2} m_{1} \\ddot{\\theta}}{2} - R_{1} g m_{0} + R_{2}^{2} k \\theta + \\frac{R_{2}^{2} m_{2} \\ddot{\\theta}}{2} = - R_{1}^{2} b \\dot{\\theta}$"
      ],
      "text/plain": [
       "             2                              2                \n",
       "  2        R₁ ⋅m₁⋅θ̈               2       R₂ ⋅m₂⋅θ̈      2    \n",
       "R₁ ⋅m₀⋅θ̈ + ──────── - R₁⋅g⋅m₀ + R₂ ⋅k⋅θ + ──────── = -R₁ ⋅b⋅θ̇\n",
       "              2                              2               "
      ]
     },
     "execution_count": 61,
     "metadata": {},
     "output_type": "execute_result"
    }
   ],
   "source": [
    "theta_EL_val = theta_dtdqp - theta_dq\n",
    "theta_EL = sym.Eq(theta_EL_val.simplify(), theta_Q)\n",
    "theta_EL"
   ]
  },
  {
   "cell_type": "markdown",
   "metadata": {},
   "source": [
    "De aquí puede despejarse la aceleración generalizada."
   ]
  },
  {
   "cell_type": "code",
   "execution_count": 62,
   "metadata": {},
   "outputs": [
    {
     "data": {
      "image/png": "[encoded data removed]",
      "text/latex": [
       "$\\displaystyle \\ddot{\\theta} = \\frac{2 \\left(- R_{1}^{2} b \\dot{\\theta} + R_{1} g m_{0} - R_{2}^{2} k \\theta\\right)}{2 R_{1}^{2} m_{0} + R_{1}^{2} m_{1} + R_{2}^{2} m_{2}}$"
      ],
      "text/plain": [
       "      ⎛    2                   2    ⎞\n",
       "    2⋅⎝- R₁ ⋅b⋅θ̇ + R₁⋅g⋅m₀ - R₂ ⋅k⋅θ⎠\n",
       "θ̈ = ─────────────────────────────────\n",
       "            2        2        2      \n",
       "        2⋅R₁ ⋅m₀ + R₁ ⋅m₁ + R₂ ⋅m₂   "
      ]
     },
     "execution_count": 62,
     "metadata": {},
     "output_type": "execute_result"
    }
   ],
   "source": [
    "theta_pp = sym.solve(theta_EL, theta.diff(t,2))[0]\n",
    "sym.Eq(theta.diff(t,2), theta_pp)"
   ]
  },
  {
   "cell_type": "markdown",
   "metadata": {},
   "source": [
    "Nótese que la aceleración es restitutiva, es decir de signo contrario al $\\theta$.\n",
    "Esto se observa en cualquier sistema con un potencial elástico, pues este actuará como un oscilador."
   ]
  }
 ],
 "metadata": {
  "kernelspec": {
   "display_name": "Python 3",
   "language": "python",
   "name": "python3"
  },
  "language_info": {
   "codemirror_mode": {
    "name": "ipython",
    "version": 3
   },
   "file_extension": ".py",
   "mimetype": "text/x-python",
   "name": "python",
   "nbconvert_exporter": "python",
   "pygments_lexer": "ipython3",
   "version": "3.7.3"
  }
 },
 "nbformat": 4,
 "nbformat_minor": 4
}
