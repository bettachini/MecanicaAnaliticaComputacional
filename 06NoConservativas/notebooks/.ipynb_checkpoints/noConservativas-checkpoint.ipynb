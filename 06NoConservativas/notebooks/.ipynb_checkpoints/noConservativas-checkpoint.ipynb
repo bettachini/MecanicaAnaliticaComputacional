{
 "cells": [
  {
   "cell_type": "markdown",
   "metadata": {
    "slideshow": {
     "slide_type": "slide"
    }
   },
   "source": [
    "# Euler-Lagrange | Fuerzas no conservativas\n",
    "© 2020\n",
    "Víctor A. Bettachini  \n",
    "Mecánica General  \n",
    "Departamento de Ingeniería e Investigación Tecnológica  \n",
    "Universidad Nacional de La Matanza  \n",
    "\n",
    "----"
   ]
  },
  {
   "cell_type": "markdown",
   "metadata": {
    "slideshow": {
     "slide_type": "slide"
    }
   },
   "source": [
    "## Descomposición en fuerzas generalizadas\n",
    "Las fuerzas que\n",
    "- no son de vínculo,\n",
    "- ni dependen de un potencial $V$,\n",
    "no son tenidas en cuenta en la formulación de la ecuación de Euler-Lagrange homogénea (igualada a $0$).\n",
    "\n",
    "Para dar cuenta de las mismas puede adicionarse a la ecuación las **fuerzas generalizadas** $Q_i$ relacionadas a cada coordenada $q_i$\n",
    "\n",
    "$$\n",
    "\\frac{\\mathrm{d}}{\\mathrm{d} t} \\frac{\\partial}{\\partial \\dot{q_i}} L  - \\frac{\\partial}{\\partial q_i} L = Q_i.\n",
    "$$"
   ]
  },
  {
   "cell_type": "markdown",
   "metadata": {
    "slideshow": {
     "slide_type": "slide"
    }
   },
   "source": [
    "### ¿Cómo obtener las fuerzas generalizadas $Q_i$?\n",
    "- Las $Q_i$ para cada $q_i$ se obtienen de la _descomposición_ de una fuerza conocida\n",
    "- No necesitan ser vectoriales. Basta estimar el _trabajo virtual_ $\\delta W$ que tal fuerza cuasaría ante un _desplazamiento virtual_ en esa coordenada $\\delta q_i$."
   ]
  },
  {
   "cell_type": "markdown",
   "metadata": {
    "slideshow": {
     "slide_type": "slide"
    }
   },
   "source": [
    "### Repasemos trabajo y energía\n",
    "Una **fuerza no conservativa** actuando mientras se produce un desplazamiento entere un punto 1 y un 2 puede variar la energía total del sistema.\n",
    "Esta variación es el **trabajo** $W_{1\\rightarrow2}^\\text{nc}$.\n",
    "Entre estos puntos tanto la energía cinética como potencial puede haber variado:\n",
    "\n",
    "$$\n",
    "(T_2 - T_1) + (V_2- V_1) = W_{1\\rightarrow2}^\\text{nc}.\n",
    "$$\n",
    "Si estos 1 y 2 representan una variación infinitesimal en la posición del sistema\n",
    "\n",
    "$$\n",
    "\\delta T + \\delta V = \\delta W^\\text{nc},\n",
    "$$\n",
    "y esto podemos calcularlo instante a instante para cualquier **desplazamiento virtual** de cualquier coordenada generalizada $\\delta q_i$."
   ]
  },
  {
   "cell_type": "markdown",
   "metadata": {
    "slideshow": {
     "slide_type": "slide"
    }
   },
   "source": [
    "#### $\\delta W^{nc}$ en función de $Q_i$\n",
    "Para cada fuerza externa al sistema que sea no conservativa $\\vec{F^\\text{nc}}$ (las conservativas se contemplan a través de un potencial $V$) se calcula el trabajo a través de la descomposición en componentes de fuerzas generalizadas\n",
    "\n",
    "$$\n",
    "\\delta W^\\text{nc} = Q_i \\delta q_i = \\vec{F^\\text{nc}} \\cdot \\delta\\vec{r}.\n",
    "$$\n",
    "Esta última igualdad permite plantear la fuerza externa no conservativa como una magnitud vectorial $\\vec{F^\\text{nc}}$ y relacionar variaciones de coordenadas generalizadas $\\delta q_i$ con la de una coordenada espacial vectorial $\\delta\\vec{r}$."
   ]
  },
  {
   "cell_type": "markdown",
   "metadata": {
    "slideshow": {
     "slide_type": "slide"
    }
   },
   "source": [
    "## Un ejemplo\n",
    "Supongamos una geometría similar a la de un péndulo para una barra rígida con uno de los extremos en una bisagra que le permite un grado de libertad de rotación $\\theta$.\n",
    "En el otro extremo de la barra de longitud $l$ hay una masa sobre la que se aplica una fuerza hacia abajo\n",
    "\n",
    "$$\n",
    "\\vec{F}= - F(t) \\hat{y}.\n",
    "$$\n",
    "\n",
    "![](hingeA.png \"Barra rígida que rota en torno a bisagra a la que se aplica en su extremo una fuerza\")\n",
    "\n",
    "El único desplazamiento virtual dada una variación de la única coordenada es $\\delta \\theta$ y resulta en un desplazamiento virtual $\\delta{\\vec{r}}$ llevaría la masa a una posición ligeramente arriba y la derecha de la anterior."
   ]
  },
  {
   "cell_type": "markdown",
   "metadata": {
    "slideshow": {
     "slide_type": "slide"
    }
   },
   "source": [
    "### Desplazamiento virtual $\\delta{\\vec{r}}$\n",
    "\n",
    "![](hingeB.png \"Componentes del desplazamiento virtual\")\n",
    "\n",
    "Como disponemos de una expresión de $\\vec{F}$ en coordenadas cartesianas descompondremos $\\delta{\\vec{r}}$ en ese sistema para calcular el trabajo virtual de esta fuerza.\n",
    "\n",
    "$$\n",
    "\\delta{\\vec{r}} = l \\cos(\\theta) \\delta \\theta \\hat{x} + l \\sin(\\theta) \\delta \\theta \\hat{y}.\n",
    "$$"
   ]
  },
  {
   "cell_type": "markdown",
   "metadata": {
    "slideshow": {
     "slide_type": "slide"
    }
   },
   "source": [
    "### $\\delta W$ a partir de $\\vec{F}$ y $\\delta{\\vec{r}} $\n",
    "Con $\\delta{\\vec{r}}$ y $\\vec{F}$ en el mismo sistema\n",
    "\n",
    "$$\n",
    "\\begin{aligned}\n",
    "\\delta W \n",
    "&= \\vec{F} \\cdot \\delta{\\vec{r}} \\\\\n",
    "&= \\left[ - F(t) \\hat{y} \\right] \\cdot \\left[ l \\cos(\\theta) \\delta \\theta \\hat{x}  + l \\sin(\\theta) \\delta \\theta \\hat{y} \\right] \\\\\n",
    "&= - F(t) l \\sin(\\theta) \\delta \\theta.\n",
    "\\end{aligned}\n",
    "$$\n",
    "\n",
    "La fuerza generalizada $Q_\\theta$ asociada a $\\delta \\theta$ será la responsable del mismo trabajo virtual\n",
    "\n",
    "$$\n",
    "\\delta W = Q_\\theta \\delta q_\\theta,\n",
    "$$\n",
    "por tanto\n",
    "\n",
    "$$\n",
    "\\boxed{\n",
    "Q_\\theta = - F(t) l \\sin(\\theta).\n",
    "}\n",
    "$$"
   ]
  },
  {
   "cell_type": "markdown",
   "metadata": {},
   "source": [
    "## Generalizando el procedimiento\n",
    "En cada punto que se aplica una fuerza real $\\vec{F}$ se hace un trabajo sobre el sistema si tal punto se mueve.\n",
    "Tal trabajo agrega o quita energía, de ahí su carácter de fuerza no conservativa.\n",
    "\n",
    "La variación total del trabajo de tales fuerzas es\n",
    "\n",
    "$$\n",
    "\\delta W^\\text{nc} = \\sum_{i=1}^n Q_i \\delta q_i = \\sum_{j=1} \\vec{F}_j \\cdot \\delta \\vec{ r}_j(\\delta q_1,\\dots,\\delta q_n),\n",
    "$$\n",
    "donde $r_j$ son coordenadas en algún sistema (cartesiano, esférico, etc.) de los puntos en que se ejercen las fuezas reals expresadas en función de las $q_i$ y las $F_j$ sus componentes en tal sistema."
   ]
  },
  {
   "cell_type": "markdown",
   "metadata": {
    "slideshow": {
     "slide_type": "slide"
    }
   },
   "source": [
    "Para calcular $Q_i$ correspondiente a cada $q_i$\n",
    "\n",
    "$$\n",
    "\\boxed{\n",
    "Q_i \\delta q_i = \\sum_j \\vec{F}_j \\cdot \\delta \\vec{r}_j .\n",
    "}\n",
    "$$\n",
    "\n",
    "Hay veces que es difícil expresar $\\delta \\vec{r}_j$ en función de los $\\delta q_i$.\n",
    "En tal caso\n",
    "\n",
    "$$\n",
    "\\boxed{\n",
    "Q_i \\delta q_i = \\sum_j F_j \\left( \\frac{\\partial r_j}{\\partial q_j} \\right) \\delta q_j,\n",
    "}\n",
    "$$\n",
    "teniendo cuidado de asignar correctamente el signo de $F_j$."
   ]
  },
  {
   "cell_type": "markdown",
   "metadata": {
    "slideshow": {
     "slide_type": "slide"
    }
   },
   "source": [
    "## ¿Que hacer entonces en el enfoque Lagrangiano con una fuerza?\n",
    "- Si es causada por algún **campo** (eléctrico, gravitatorio): Basta calcular el **potencial** sabiendo que $\\vec{F}= - \\vec{\\nabla} V$.\n",
    "- Si es un **vínculo**: No hace trabajo pues los posibles $\\delta r$ serán siempre perpendiculares a estas. Si no necesitamos su magnitud nunca las calculamos. Y si las necesitamos las obtenemos con multiplicadores de Lagrange.\n",
    "- Cualquier otra se expresa como una **no conservativa**: Estas pueden ser las disipativas, externas, etc. Hay que escribirlas como fuerzas generalizadas $Q_i$."
   ]
  }
 ],
 "metadata": {
  "celltoolbar": "Slideshow",
  "kernelspec": {
   "display_name": "Python 3",
   "language": "python",
   "name": "python3"
  },
  "language_info": {
   "codemirror_mode": {
    "name": "ipython",
    "version": 3
   },
   "file_extension": ".py",
   "mimetype": "text/x-python",
   "name": "python",
   "nbconvert_exporter": "python",
   "pygments_lexer": "ipython3",
   "version": "3.7.3"
  }
 },
 "nbformat": 4,
 "nbformat_minor": 4
}
