{
 "cells": [
  {
   "cell_type": "markdown",
   "metadata": {},
   "source": [
    "# Plano inclinado oscilante\n",
    "© 2020 Víctor A. Bettachini  \n",
    "Mecánica General  \n",
    "Departamento de Ingeniería e Investigación Tecnológica  \n",
    "Universidad Nacional de La Matanza   \n",
    "![](ambos.png \"UNLaM | DIIT\")  \n",
    "\n",
    "---"
   ]
  },
  {
   "cell_type": "markdown",
   "metadata": {},
   "source": [
    "## Enunciado"
   ]
  },
  {
   "cell_type": "markdown",
   "metadata": {},
   "source": [
    "Sobre la superficie inclinada en $\\theta_0$ del carro de masa $m_0$ rueda sin deslizar un disco de radio $R$ y masa $m$.\n",
    "Este no se sale de la superficie a pesar de que al centro del mismo se aplica una fuerza $\\vec{F}= F(t) \\hat{x}$ gracias a un resorte de constante elástica $K_1$ que une este centro con el carro.\n",
    "Limita el alcance de este un resorte de constante elástica $K_2$ fijado a la pared y un amortiguador proporcional a la velocidad de constante proporcional $b$.\n",
    "Se descarta la fricción del carro con el suelo.\n",
    "Ambos resortes tienen originalmente su longitud de equilibrio $l_{10}$ y $l_{20}$.\n",
    "Todo el sistema está sometido a la aceleración gravitatoria $\\vec{g}= - g \\hat{y}$.\n",
    "\n",
    "![](pset7ex6.png)  \n",
    "\n",
    "Pregunta conceptual: ¿Qué es la fuerza generalizada asociada al desplazamiento virtual $\\delta x$ debida a $\\vec{F}$?\n",
    "1. $F(t) \\cos(\\theta)$\n",
    "1. $F(t)$\n",
    "1. $F(t) \\delta x$\n",
    "1. $0$\n",
    "\n",
    "Obtenga las ecuaciones de la dinámica de Euler-Lagrange."
   ]
  },
  {
   "cell_type": "markdown",
   "metadata": {},
   "source": [
    "## Resolución simbólica en el formalismo Lagrangiano"
   ]
  },
  {
   "cell_type": "code",
   "execution_count": 1,
   "metadata": {},
   "outputs": [],
   "source": [
    "# biblioteca de cálculo simbólico\n",
    "import sympy as sym\n",
    "import sympy.physics.mechanics as mech\n",
    "mech.init_vprinting() # notación con puntos para derivadas temporales"
   ]
  },
  {
   "cell_type": "markdown",
   "metadata": {},
   "source": [
    "### Parámetros del sistema"
   ]
  },
  {
   "cell_type": "code",
   "execution_count": 2,
   "metadata": {},
   "outputs": [],
   "source": [
    "# Defino los parámetros físicos del sistema\n",
    "# theta0: inclinación del plano\n",
    "g, m0, m, R, K1, K2, b, theta0 = sym.symbols('g, m_0, m, R, K_1, K_2, b, theta_0', positive=True)"
   ]
  },
  {
   "cell_type": "markdown",
   "metadata": {},
   "source": [
    "### Coordenadas generalizadas"
   ]
  },
  {
   "cell_type": "markdown",
   "metadata": {},
   "source": [
    "Describiré la posición de\n",
    "- punto C en el carro, inicialmente en $x=0$ y una altura sobre el piso que se mantiene constante\n",
    "- centro del cilindro en el plano\n"
   ]
  },
  {
   "cell_type": "code",
   "execution_count": 3,
   "metadata": {},
   "outputs": [],
   "source": [
    "# longitudes auxiliares\n",
    "# li0: longitud de reposo resorte i\n",
    "# hC: altura punto C respecto al piso\n",
    "# h2: altura punto de sujeción del resorte 2 por sobre punto C \n",
    "# eC: espesor que separa C de su borde izquierdo donde conectan resorte 1 y amortiguador.\n",
    "eC, hC, h2, l10, l20 = sym.symbols('e_C, h_C, h_2, l_{10}, l_{20}', positive=True)"
   ]
  },
  {
   "cell_type": "code",
   "execution_count": 4,
   "metadata": {},
   "outputs": [],
   "source": [
    "# Defino coordenadas generalizadas \n",
    "t = sym.Symbol('t') # tiempo\n",
    "x = sym.Function('x')(t) # lado izquierdo carro C\n",
    "X1 = sym.Function('X_1')(t) # centro cilindro cilindro"
   ]
  },
  {
   "cell_type": "code",
   "execution_count": 5,
   "metadata": {},
   "outputs": [],
   "source": [
    "# Sistema cartesiano\n",
    "N = sym.physics.vector.ReferenceFrame('N') # marco referencial N en coordenadas cartesianas\n",
    "\n",
    "# posiciones\n",
    "m0_C_r = x* N.x + hC* N.y # punto C carro\n",
    "res2_sujecion = m0_C_r + h2* N.y # punto de sujeción del resorte 2\n",
    "m_r = res2_sujecion + X1*( sym.cos(theta0)* N.x + (-sym.sin(theta0)* N.y) ) # centro cilindro"
   ]
  },
  {
   "cell_type": "markdown",
   "metadata": {},
   "source": [
    "### Energía cinética y potencial"
   ]
  },
  {
   "cell_type": "markdown",
   "metadata": {},
   "source": [
    "Como el momentos de inercia de un cilindro homogéneos en torno a eje de simetría es\n",
    "\n",
    "$$\n",
    "I = \\frac{m}{2} R^2,\n",
    "$$\n",
    "el término de energía cinético relacionado a su rotación es\n",
    "\n",
    "$$\n",
    "\\frac{I}{2} \\dot{\\theta}^2 = \\frac{m}{4} \\left( \\dot{\\theta} R \\right)^2 =  \\frac{m}{4} \\left( \\dot{x} \\right)^2,\n",
    "$$\n",
    "si $x$ es el recorrido que hace al rodar con $\\dot{\\theta}$."
   ]
  },
  {
   "cell_type": "code",
   "execution_count": 6,
   "metadata": {},
   "outputs": [
    {
     "data": {
      "image/png": "[encoded data removed]",
      "text/latex": [
       "$\\displaystyle T = \\frac{3 m \\left(2 \\operatorname{cos}\\left(\\theta_{0}\\right) \\dot{X}_{1} \\dot{x} + \\dot{X}_{1}^{2} + \\dot{x}^{2}\\right)}{4} + \\frac{m_{0} \\dot{x}^{2}}{2}$"
      ],
      "text/plain": [
       "        ⎛                   2    2⎞       2\n",
       "    3⋅m⋅⎝2⋅cos(θ₀)⋅X₁̇⋅ẋ + X₁̇  + ẋ ⎠   m₀⋅ẋ \n",
       "T = ─────────────────────────────── + ─────\n",
       "                   4                    2  "
      ]
     },
     "execution_count": 6,
     "metadata": {},
     "output_type": "execute_result"
    }
   ],
   "source": [
    "unMedio = sym.Rational(1,2) # Rational: fracción de enteros, alternativamente podría haberse usado 0.5\n",
    "\n",
    "# traslación del carro\n",
    "m0_C_v = m0_C_r.diff(t, N)\n",
    "m0_Ttraslacion = unMedio* m0* m0_C_v.dot(m0_C_v)\n",
    "\n",
    "# traslación del cilindro\n",
    "m_v = m_r.diff(t, N)\n",
    "m_Ttraslacion = unMedio* m* m_v.dot(m_v)\n",
    "\n",
    "# rotación del cilindro\n",
    "m_Trotacion = unMedio* unMedio* m* m_v.dot(m_v)\n",
    "\n",
    "T = m0_Ttraslacion+ m_Ttraslacion+ m_Trotacion\n",
    "cineticaSimbolo = sym.Symbol('T')\n",
    "sym.Eq(cineticaSimbolo, T.simplify() ) # simplify: simplifica usando factor común y otras operaciones"
   ]
  },
  {
   "cell_type": "code",
   "execution_count": 7,
   "metadata": {},
   "outputs": [
    {
     "data": {
      "image/png": "[encoded data removed]",
      "text/latex": [
       "$\\displaystyle V = \\frac{K_{1} \\left(l_{10} + X_{1}\\right)^{2}}{2} + \\frac{K_{2} \\left(l_{20} + x\\right)^{2}}{2} + g m \\left(h_{2} + h_{C} - X_{1} \\operatorname{sin}\\left(\\theta_{0}\\right)\\right)$"
      ],
      "text/plain": [
       "                    2                  2                              \n",
       "    K₁⋅(l_{10} + X₁)    K₂⋅(l_{20} + x)                               \n",
       "V = ───────────────── + ──────────────── + g⋅m⋅(h₂ + h_C - X₁⋅sin(θ₀))\n",
       "            2                  2                                      "
      ]
     },
     "execution_count": 7,
     "metadata": {},
     "output_type": "execute_result"
    }
   ],
   "source": [
    "# potencial gravitatoria\n",
    "m_gravitatoria = m* g* m_r.dot(N.y)\n",
    "\n",
    "# elástica resorte 1\n",
    "resorte1_V = unMedio* K1* (l10+ X1)**2\n",
    "\n",
    "# elástica resorte 2\n",
    "resorte2_V = unMedio* K2* (l20+ x)**2\n",
    "\n",
    "V = m_gravitatoria+ resorte1_V + resorte2_V\n",
    "potencialSimbolo = sym.Symbol('V')\n",
    "sym.Eq(potencialSimbolo, V.simplify() )"
   ]
  },
  {
   "cell_type": "markdown",
   "metadata": {},
   "source": [
    "### Lagrangiano"
   ]
  },
  {
   "cell_type": "code",
   "execution_count": 8,
   "metadata": {},
   "outputs": [
    {
     "data": {
      "image/png": "[encoded data removed]",
      "text/latex": [
       "$\\displaystyle \\mathcal{L} = - \\frac{K_{1} \\left(l_{10} + X_{1}\\right)^{2}}{2} - \\frac{K_{2} \\left(l_{20} + x\\right)^{2}}{2} - g m \\left(h_{2} + h_{C} - X_{1} \\operatorname{sin}\\left(\\theta_{0}\\right)\\right) + \\frac{3 m \\left(2 \\operatorname{cos}\\left(\\theta_{0}\\right) \\dot{X}_{1} \\dot{x} + \\dot{X}_{1}^{2} + \\dot{x}^{2}\\right)}{4} + \\frac{m_{0} \\dot{x}^{2}}{2}$"
      ],
      "text/plain": [
       "                                2                  2                          \n",
       "                K₁⋅(l_{10} + X₁)    K₂⋅(l_{20} + x)                           \n",
       "\\mathcal{L} = - ───────────────── - ──────────────── - g⋅m⋅(h₂ + h_C - X₁⋅sin(\n",
       "                        2                  2                                  \n",
       "\n",
       "           ⎛                   2    2⎞       2\n",
       "       3⋅m⋅⎝2⋅cos(θ₀)⋅X₁̇⋅ẋ + X₁̇  + ẋ ⎠   m₀⋅ẋ \n",
       "θ₀)) + ─────────────────────────────── + ─────\n",
       "                      4                    2  "
      ]
     },
     "execution_count": 8,
     "metadata": {},
     "output_type": "execute_result"
    }
   ],
   "source": [
    "lagrangianoSimbolo = sym.Symbol('\\mathcal{L}')\n",
    "L = T- V\n",
    "sym.Eq(lagrangianoSimbolo, L.simplify())"
   ]
  },
  {
   "cell_type": "markdown",
   "metadata": {},
   "source": [
    "### Fuerzas no conservativas\n",
    "\n",
    "Hay dos coordenadas generalizada, $q_i = x, X_1$, así que las habrá que obtener dos $Q_i$.\n",
    "Estas puden obtenerse siguiendo \n",
    "\n",
    "$$\n",
    "\\boxed{\n",
    "Q_i \\delta q_i = \\sum_j \\vec{F}_j \\cdot \\left( \\frac{\\partial \\vec{r}_j}{\\partial q_j} \\right) \\delta q_j,\n",
    "}\n",
    "$$\n",
    "donde habrá dos fuerzas $\\vec{F}_j$, la del amortiguador y la $\\vec{F}(t)$ aplicada sobre el centro del cilindro.\n",
    "Es el desplazamiento de los puntos $\\vec{r}_j$ en que se aplica cada $\\vec{F}_j$ el trabajo que afecta al sistema.\n",
    "\n",
    "La $\\vec{F}_\\mathrm{amortiguador}$"
   ]
  },
  {
   "cell_type": "code",
   "execution_count": 9,
   "metadata": {},
   "outputs": [
    {
     "data": {
      "image/png": "[encoded data removed]",
      "text/latex": [
       "$\\displaystyle -  b \\dot{x}\\mathbf{\\hat{n}_x}$"
      ],
      "text/plain": [
       "-b⋅ẋ n_x"
      ]
     },
     "execution_count": 9,
     "metadata": {},
     "output_type": "execute_result"
    }
   ],
   "source": [
    "amortiguadorFuerza_vectorial = -b* m0_C_v.dot(N.x) * N.x\n",
    "amortiguadorFuerza_vectorial"
   ]
  },
  {
   "cell_type": "markdown",
   "metadata": {},
   "source": [
    "se aplica a un costado del carro, que al ser rígido, tiene posición es solidaria a su punto C en"
   ]
  },
  {
   "cell_type": "code",
   "execution_count": 10,
   "metadata": {},
   "outputs": [
    {
     "data": {
      "image/png": "[encoded data removed]",
      "text/latex": [
       "$\\displaystyle x\\mathbf{\\hat{n}_x} + h_{C}\\mathbf{\\hat{n}_y}$"
      ],
      "text/plain": [
       "x n_x + h_C n_y"
      ]
     },
     "execution_count": 10,
     "metadata": {},
     "output_type": "execute_result"
    }
   ],
   "source": [
    "m0_C_r"
   ]
  },
  {
   "cell_type": "markdown",
   "metadata": {},
   "source": [
    "que solo puede derivarse respecto a la coordenada $x$.\n",
    "\n",
    "Por el contrario la fuerza externa $F(t)$ "
   ]
  },
  {
   "cell_type": "code",
   "execution_count": 11,
   "metadata": {},
   "outputs": [
    {
     "data": {
      "image/png": "[encoded data removed]",
      "text/latex": [
       "$\\displaystyle F\\mathbf{\\hat{n}_x}$"
      ],
      "text/plain": [
       "F n_x"
      ]
     },
     "execution_count": 11,
     "metadata": {},
     "output_type": "execute_result"
    }
   ],
   "source": [
    "F = sym.Function('F')(t)\n",
    "F_vectorial = F* N.x\n",
    "F_vectorial"
   ]
  },
  {
   "cell_type": "markdown",
   "metadata": {},
   "source": [
    "aplicada en el centro del cilindro"
   ]
  },
  {
   "cell_type": "code",
   "execution_count": 12,
   "metadata": {},
   "outputs": [
    {
     "data": {
      "image/png": "[encoded data removed]",
      "text/latex": [
       "$\\displaystyle (X_{1} \\operatorname{cos}\\left(\\theta_{0}\\right) + x)\\mathbf{\\hat{n}_x} + (h_{2} + h_{C} - X_{1} \\operatorname{sin}\\left(\\theta_{0}\\right))\\mathbf{\\hat{n}_y}$"
      ],
      "text/plain": [
       "(X₁⋅cos(θ₀) + x) n_x + (h₂ + h_C - X₁⋅sin(θ₀)) n_y"
      ]
     },
     "execution_count": 12,
     "metadata": {},
     "output_type": "execute_result"
    }
   ],
   "source": [
    "m_r"
   ]
  },
  {
   "cell_type": "markdown",
   "metadata": {},
   "source": [
    "presenta dependencia en ambas coordenadas $x, X_1$"
   ]
  },
  {
   "cell_type": "markdown",
   "metadata": {},
   "source": [
    "Para calcular los $Q_i$ basta con realizar los productos escalares (producto punto) de los vectores de las fuerzas con la derivada de las posiciones de los puntos en que se aplican respecto a cada coordenada generalizadas."
   ]
  },
  {
   "cell_type": "code",
   "execution_count": 13,
   "metadata": {},
   "outputs": [
    {
     "data": {
      "image/png": "[encoded data removed]",
      "text/latex": [
       "$\\displaystyle Q_{x} = - b \\dot{x} + F$"
      ],
      "text/plain": [
       "Qₓ = -b⋅ẋ + F"
      ]
     },
     "execution_count": 13,
     "metadata": {},
     "output_type": "execute_result"
    }
   ],
   "source": [
    "x_Q = amortiguadorFuerza_vectorial.dot( m0_C_r.diff(x,N) ) + F_vectorial.dot( m_r.diff(x,N) )\n",
    "x_Qsimbolo = sym.Symbol('Q_x')\n",
    "sym.Eq(x_Qsimbolo, x_Q)"
   ]
  },
  {
   "cell_type": "markdown",
   "metadata": {},
   "source": [
    "Se hace lo análogo para $Q_{X_1}$"
   ]
  },
  {
   "cell_type": "code",
   "execution_count": 14,
   "metadata": {},
   "outputs": [
    {
     "data": {
      "image/png": "[encoded data removed]",
      "text/latex": [
       "$\\displaystyle Q_{X_1} = F \\operatorname{cos}\\left(\\theta_{0}\\right)$"
      ],
      "text/plain": [
       "Q_{X_1} = F⋅cos(θ₀)"
      ]
     },
     "execution_count": 14,
     "metadata": {},
     "output_type": "execute_result"
    }
   ],
   "source": [
    "X1_Q = amortiguadorFuerza_vectorial.dot( m0_C_r.diff(X1,N) ) + F_vectorial.dot( m_r.diff(X1,N) )\n",
    "X1_Qsimbolo = sym.Symbol('Q_{X_1}')\n",
    "sym.Eq(X1_Qsimbolo, X1_Q)"
   ]
  },
  {
   "cell_type": "markdown",
   "metadata": {},
   "source": [
    "### Euler-Lagrange\n",
    "\n",
    "$$\n",
    "\\boxed{\n",
    "    \\frac{\\partial}{\\partial q_i} \\mathcal{L}\n",
    "    - \\frac{\\mathrm{d}}{\\mathrm{d}t} \\frac{\\partial}{\\partial \\dot{q}_i} \\mathcal{L}\n",
    "    + \\sum_j \\lambda_j \\frac{\\partial}{\\partial q_i}  f_j\n",
    "    + Q_i\n",
    "    = 0\n",
    "}.\n",
    "$$"
   ]
  },
  {
   "cell_type": "code",
   "execution_count": 15,
   "metadata": {},
   "outputs": [],
   "source": [
    "x_dq = L.diff(x)\n",
    "x_dtdqp = L.diff(x.diff(t) ).diff(t)\n",
    "x_EL_val = x_dq- x_dtdqp+ x_Q\n",
    "x_EL = sym.Eq(x_EL_val.simplify(), 0)\n",
    "\n",
    "X1_dq = L.diff(X1)\n",
    "X1_dtdqp = L.diff(X1.diff(t) ).diff(t)\n",
    "X1_EL_val = X1_dq - X1_dtdqp+ X1_Q\n",
    "X1_EL = sym.Eq(X1_EL_val.simplify(), 0)\n",
    "\n",
    "sistemaEcuacionesEL = [x_EL, X1_EL]"
   ]
  },
  {
   "cell_type": "code",
   "execution_count": 16,
   "metadata": {},
   "outputs": [
    {
     "data": {
      "image/png": "[encoded data removed]",
      "text/latex": [
       "$\\displaystyle - K_{2} \\left(l_{20} + x\\right) - b \\dot{x} - \\frac{3 m \\left(\\operatorname{cos}\\left(\\theta_{0}\\right) \\ddot{X}_{1} + \\ddot{x}\\right)}{2} - m_{0} \\ddot{x} + F = 0$"
      ],
      "text/plain": [
       "                         3⋅m⋅(cos(θ₀)⋅X₁̈ + ẍ)               \n",
       "-K₂⋅(l_{20} + x) - b⋅ẋ - ──────────────────── - m₀⋅ẍ + F = 0\n",
       "                                  2                         "
      ]
     },
     "execution_count": 16,
     "metadata": {},
     "output_type": "execute_result"
    }
   ],
   "source": [
    "sistemaEcuacionesEL[0]"
   ]
  },
  {
   "cell_type": "code",
   "execution_count": 17,
   "metadata": {},
   "outputs": [
    {
     "data": {
      "image/png": "[encoded data removed]",
      "text/latex": [
       "$\\displaystyle - K_{1} \\left(l_{10} + X_{1}\\right) + g m \\operatorname{sin}\\left(\\theta_{0}\\right) - \\frac{3 m \\left(\\operatorname{cos}\\left(\\theta_{0}\\right) \\ddot{x} + \\ddot{X}_{1}\\right)}{2} + F \\operatorname{cos}\\left(\\theta_{0}\\right) = 0$"
      ],
      "text/plain": [
       "                                  3⋅m⋅(cos(θ₀)⋅ẍ + X₁̈)                \n",
       "-K₁⋅(l_{10} + X₁) + g⋅m⋅sin(θ₀) - ──────────────────── + F⋅cos(θ₀) = 0\n",
       "                                           2                          "
      ]
     },
     "execution_count": 17,
     "metadata": {},
     "output_type": "execute_result"
    }
   ],
   "source": [
    "sistemaEcuacionesEL[1]"
   ]
  },
  {
   "cell_type": "markdown",
   "metadata": {},
   "source": [
    "## Ecuaciones de la dinámica"
   ]
  },
  {
   "cell_type": "markdown",
   "metadata": {},
   "source": [
    "Del sistema de ecuaciones de Euler-Lagrange pueden despejarse las aceleraciones generalizadas."
   ]
  },
  {
   "cell_type": "code",
   "execution_count": 18,
   "metadata": {},
   "outputs": [],
   "source": [
    "variblesDespeje = [x.diff(t,2,), X1.diff(t,2,)]\n",
    "variblesDespeje_sol= sym.nonlinsolve(sistemaEcuacionesEL, variblesDespeje ).args[0]\n",
    "variblesDespeje_sol= [variable.simplify() for variable in variblesDespeje_sol]"
   ]
  },
  {
   "cell_type": "code",
   "execution_count": 19,
   "metadata": {},
   "outputs": [
    {
     "data": {
      "image/png": "[encoded data removed]",
      "text/latex": [
       "$\\displaystyle \\ddot{x} = \\frac{2 K_{1} l_{10} \\operatorname{cos}\\left(\\theta_{0}\\right) + 2 K_{1} X_{1} \\operatorname{cos}\\left(\\theta_{0}\\right) - 2 K_{2} l_{20} - 2 K_{2} x - 2 b \\dot{x} + \\frac{2 g m \\operatorname{sin}^{3}\\left(\\theta_{0}\\right)}{\\operatorname{cos}\\left(\\theta_{0}\\right)} - 2 g m \\operatorname{tan}\\left(\\theta_{0}\\right) - 2 F \\operatorname{cos}^{2}\\left(\\theta_{0}\\right) + 2 F}{- 3 m \\operatorname{cos}^{2}\\left(\\theta_{0}\\right) + 3 m + 2 m_{0}}$"
      ],
      "text/plain": [
       "                                                                              \n",
       "                                                                           2⋅g\n",
       "    2⋅K₁⋅l_{10}⋅cos(θ₀) + 2⋅K₁⋅X₁⋅cos(θ₀) - 2⋅K₂⋅l_{20} - 2⋅K₂⋅x - 2⋅b⋅ẋ + ──\n",
       "                                                                              \n",
       "ẍ = ─────────────────────────────────────────────────────────────────────────\n",
       "                                                            2                 \n",
       "                                                   - 3⋅m⋅cos (θ₀) + 3⋅m + 2⋅m₀\n",
       "\n",
       "      3                                         \n",
       "⋅m⋅sin (θ₀)                          2          \n",
       "──────────── - 2⋅g⋅m⋅tan(θ₀) - 2⋅F⋅cos (θ₀) + 2⋅F\n",
       "cos(θ₀)                                         \n",
       "─────────────────────────────────────────────────\n",
       "                                                \n",
       "                                                "
      ]
     },
     "execution_count": 19,
     "metadata": {},
     "output_type": "execute_result"
    }
   ],
   "source": [
    "sym.Eq(x.diff(t,2), variblesDespeje_sol[0])"
   ]
  },
  {
   "cell_type": "code",
   "execution_count": 20,
   "metadata": {},
   "outputs": [
    {
     "data": {
      "image/png": "[encoded data removed]",
      "text/latex": [
       "$\\displaystyle \\ddot{X}_{1} = \\frac{2 \\left(- 3 K_{1} l_{10} m - 2 K_{1} l_{10} m_{0} - 3 K_{1} m X_{1} - 2 K_{1} m_{0} X_{1} + 3 K_{2} l_{20} m \\operatorname{cos}\\left(\\theta_{0}\\right) + 3 K_{2} m x \\operatorname{cos}\\left(\\theta_{0}\\right) + 3 b m \\operatorname{cos}\\left(\\theta_{0}\\right) \\dot{x} + 3 g m^{2} \\operatorname{sin}\\left(\\theta_{0}\\right) + 2 g m m_{0} \\operatorname{sin}\\left(\\theta_{0}\\right) + 2 m_{0} F \\operatorname{cos}\\left(\\theta_{0}\\right)\\right)}{3 m \\left(3 m \\operatorname{sin}^{2}\\left(\\theta_{0}\\right) + 2 m_{0}\\right)}$"
      ],
      "text/plain": [
       "       ⎛                                                                      \n",
       "     2⋅⎝-3⋅K₁⋅l_{10}⋅m - 2⋅K₁⋅l_{10}⋅m₀ - 3⋅K₁⋅m⋅X₁ - 2⋅K₁⋅m₀⋅X₁ + 3⋅K₂⋅l_{20}\n",
       "X₁̈ = ────────────────────────────────────────────────────────────────────────\n",
       "                                                                              \n",
       "                                                                              \n",
       "\n",
       "                                                       2                      \n",
       "⋅m⋅cos(θ₀) + 3⋅K₂⋅m⋅x⋅cos(θ₀) + 3⋅b⋅m⋅cos(θ₀)⋅ẋ + 3⋅g⋅m ⋅sin(θ₀) + 2⋅g⋅m⋅m₀⋅s\n",
       "──────────────────────────────────────────────────────────────────────────────\n",
       "     ⎛       2           ⎞                                                    \n",
       " 3⋅m⋅⎝3⋅m⋅sin (θ₀) + 2⋅m₀⎠                                                    \n",
       "\n",
       "                      ⎞\n",
       "in(θ₀) + 2⋅m₀⋅F⋅cos(θ₀)⎠\n",
       "────────────────────────\n",
       "                       \n",
       "                       "
      ]
     },
     "execution_count": 20,
     "metadata": {},
     "output_type": "execute_result"
    }
   ],
   "source": [
    "sym.Eq(X1.diff(t,2), variblesDespeje_sol[1])"
   ]
  }
 ],
 "metadata": {
  "kernelspec": {
   "display_name": "Python 3",
   "language": "python",
   "name": "python3"
  },
  "language_info": {
   "codemirror_mode": {
    "name": "ipython",
    "version": 3
   },
   "file_extension": ".py",
   "mimetype": "text/x-python",
   "name": "python",
   "nbconvert_exporter": "python",
   "pygments_lexer": "ipython3",
   "version": "3.7.3"
  }
 },
 "nbformat": 4,
 "nbformat_minor": 4
}
