{
 "cells": [
  {
   "cell_type": "markdown",
   "metadata": {},
   "source": [
    "# Sympy-Numpy conversión\n",
    "© 2020\n",
    "Víctor A. Bettachini  \n",
    "Mecánica General  \n",
    "Departamento de Ingeniería e Investigación Tecnológica  \n",
    "Universidad Nacional de La Matanza    \n",
    "\n",
    "--- \n",
    "\n",
    "Adaptado de: https://youtu.be/je8GW3aqmzc"
   ]
  },
  {
   "cell_type": "code",
   "execution_count": 1,
   "metadata": {},
   "outputs": [],
   "source": [
    "# bibliotecas de cálculo numérico y graficación\n",
    "import numpy as np\n",
    "import matplotlib.pyplot as plt\n",
    "plt.style.use('seaborn-darkgrid')"
   ]
  },
  {
   "cell_type": "markdown",
   "metadata": {},
   "source": [
    "# Oscilador armónico amortiguado\n",
    "Supongamos que tenemos la solución \n",
    "$$\n",
    "x(t) = \\operatorname{e}^{- \\beta t} \\left( A \\cos(\\omega t) + B \\sin(\\omega t) \\right),\n",
    "$$\n",
    "para los que conocemos las condiciones iniciales\n",
    "$$\n",
    "x(0) = 10 \\\\\n",
    "v(0) = 2\n",
    "$$\n",
    "y los parámetros son\n",
    "$$\n",
    "\\beta = 0.2\\,\\mathrm{1/s} \\\\\n",
    "k = 30 \\,\\mathrm{N/m} \\\\\n",
    "m = 1\\,\\mathrm{kg}\n",
    "$$"
   ]
  },
  {
   "cell_type": "markdown",
   "metadata": {},
   "source": [
    "# Escribiendo las ecuaciones en forma simbólica"
   ]
  },
  {
   "cell_type": "code",
   "execution_count": 2,
   "metadata": {},
   "outputs": [],
   "source": [
    "# biblioteca de cálculo simbólico\n",
    "import sympy as sym\n",
    "import sympy.physics.mechanics as mech\n",
    "mech.init_vprinting() # notación con puntos para derivadas temporales"
   ]
  },
  {
   "cell_type": "code",
   "execution_count": 6,
   "metadata": {},
   "outputs": [
    {
     "data": {
      "image/png": "[encoded data removed]",
      "text/latex": [
       "$\\displaystyle \\left(A \\operatorname{cos}\\left(t ω\\right) + B \\operatorname{sin}\\left(t ω\\right)\\right) e^{- t β}$"
      ],
      "text/plain": [
       "                           -t⋅β\n",
       "(A⋅cos(t⋅ω) + B⋅sin(t⋅ω))⋅ℯ    "
      ]
     },
     "execution_count": 6,
     "metadata": {},
     "output_type": "execute_result"
    }
   ],
   "source": [
    "# defino los símbolos a utilizar\n",
    "β, k, m, ω = sym.symbols(' β, k, m, ω ', positive= True)\n",
    "A, B, t = sym.symbols('A, B, t') \n",
    "\n",
    "# la función x(t)\n",
    "x = sym.exp(- β* t)* (A* sym.cos(ω* t) + B* sym.sin(ω* t) )\n",
    "x0, v0 = sym.symbols('x_0, v_0') \n",
    "x"
   ]
  },
  {
   "cell_type": "code",
   "execution_count": 7,
   "metadata": {},
   "outputs": [
    {
     "data": {
      "image/png": "[encoded data removed]",
      "text/latex": [
       "$\\displaystyle \\left[ \\left\\{ A : x_{0}, \\  B : \\frac{v_{0} + x_{0} β}{ω}\\right\\}\\right]$"
      ],
      "text/plain": [
       "⎡⎧          v₀ + x₀⋅β⎫⎤\n",
       "⎢⎨A: x₀, B: ─────────⎬⎥\n",
       "⎣⎩              ω    ⎭⎦"
      ]
     },
     "execution_count": 7,
     "metadata": {},
     "output_type": "execute_result"
    }
   ],
   "source": [
    "# soluciones\n",
    "# solve | resuelve un sistema algebráico, asume que igual a 0, si es un sistema requiere una lista []\n",
    "# subs | substituye una variable por otra o un valor\n",
    "sols = sym.solve([x.subs(t,0)- x0, x.diff(t).subs(t,0)- v0])  # sistema x y x punto igualados a sus condiciones iniciales \n",
    "sols"
   ]
  },
  {
   "cell_type": "code",
   "execution_count": 8,
   "metadata": {},
   "outputs": [
    {
     "data": {
      "image/png": "[encoded data removed]",
      "text/latex": [
       "$\\displaystyle \\left(x_{0} \\operatorname{cos}\\left(t ω\\right) + \\frac{\\left(v_{0} + x_{0} β\\right) \\operatorname{sin}\\left(t ω\\right)}{ω}\\right) e^{- t β}$"
      ],
      "text/plain": [
       "⎛              (v₀ + x₀⋅β)⋅sin(t⋅ω)⎞  -t⋅β\n",
       "⎜x₀⋅cos(t⋅ω) + ────────────────────⎟⋅ℯ    \n",
       "⎝                       ω          ⎠      "
      ]
     },
     "execution_count": 8,
     "metadata": {},
     "output_type": "execute_result"
    }
   ],
   "source": [
    "x.subs(sols[0]) # substituye con la primer y única solución en el diccionario [0] que devolvió solve"
   ]
  },
  {
   "cell_type": "code",
   "execution_count": 11,
   "metadata": {},
   "outputs": [],
   "source": [
    "# escribo los valores numéricos en variables\n",
    "β_valor = 0.2\n",
    "k_valor = 30\n",
    "m_valor = 1\n",
    "ω_valor = np.sqrt(k_valor/ m_valor)\n",
    "x0_valor = 10\n",
    "v0_valor = 2\n",
    "\n",
    "# un diccionario (un tipo de variable Python) fácilará el reemplazar con valores numéricos\n",
    "valores = {\n",
    "    β : β_valor,\n",
    "    k : k_valor,\n",
    "    m : m_valor,\n",
    "    ω : ω_valor,\n",
    "    x0 : x0_valor,\n",
    "    v0 : v0_valor\n",
    "}"
   ]
  },
  {
   "cell_type": "code",
   "execution_count": 12,
   "metadata": {},
   "outputs": [
    {
     "data": {
      "image/png": "[encoded data removed]",
      "text/latex": [
       "$\\displaystyle \\left(0.730296743340221 \\operatorname{sin}\\left(5.47722557505166 t\\right) + 10 \\operatorname{cos}\\left(5.47722557505166 t\\right)\\right) e^{- 0.2 t}$"
      ],
      "text/plain": [
       "                                                                          -0.2\n",
       "(0.730296743340221⋅sin(5.47722557505166⋅t) + 10⋅cos(5.47722557505166⋅t))⋅ℯ    \n",
       "\n",
       "⋅t\n",
       "  "
      ]
     },
     "execution_count": 12,
     "metadata": {},
     "output_type": "execute_result"
    }
   ],
   "source": [
    "x_valores = x.subs(sols[0]).subs(valores)\n",
    "x_valores"
   ]
  },
  {
   "cell_type": "markdown",
   "metadata": {},
   "source": [
    "## Graficación\n",
    "Lo anterior es una expresión _sympy_, necesito pasarla a una expresión que pueda interpretarse fuera de este módulo.\n",
    "Esto lo hace la función _lambdify_ que retorna una función para el módulo indicado, por defecto _numpy_, en función de la variable indicada."
   ]
  },
  {
   "cell_type": "code",
   "execution_count": 13,
   "metadata": {},
   "outputs": [],
   "source": [
    "x_numerica = sym.lambdify(t, x_valores) # variable t"
   ]
  },
  {
   "cell_type": "code",
   "execution_count": 14,
   "metadata": {},
   "outputs": [
    {
     "data": {
      "image/png": "[encoded data removed]",
      "text/latex": [
       "$\\displaystyle 5.237654205721216$"
      ],
      "text/plain": [
       "5.237654205721216"
      ]
     },
     "execution_count": 14,
     "metadata": {},
     "output_type": "execute_result"
    }
   ],
   "source": [
    "x_numerica(1) # i.e. a t= 1 s"
   ]
  },
  {
   "cell_type": "code",
   "execution_count": 17,
   "metadata": {},
   "outputs": [],
   "source": [
    "tiempos = np.arange(0,10,0.1) # genero una cantidad de tiempos de interés"
   ]
  },
  {
   "cell_type": "code",
   "execution_count": 18,
   "metadata": {},
   "outputs": [
    {
     "data": {
      "text/plain": [
       "[(-1.0, 11.0),\n",
       " Text(0.5, 0, 't [s]'),\n",
       " Text(0, 0.5, 'x(t)'),\n",
       " Text(0.5, 1.0, 'Oscilación amortiguada')]"
      ]
     },
     "execution_count": 18,
     "metadata": {},
     "output_type": "execute_result"
    },
    {
     "data": {
      "image/png": "[encoded data removed]",
      "text/plain": [
       "<Figure size 432x288 with 1 Axes>"
      ]
     },
     "metadata": {},
     "output_type": "display_data"
    }
   ],
   "source": [
    "# grafico\n",
    "# Referencia: https://matplotlib.org/3.2.1/tutorials/introductory/lifecycle.html\n",
    "plt.style.use('fivethirtyeight')\n",
    "fig, ax = plt.subplots()\n",
    "ax.plot(tiempos, x_numerica(tiempos))\n",
    "ax.set(xlim=[-1, 11], xlabel='t [s]', ylabel='x(t)',\n",
    "       title='Oscilación amortiguada')"
   ]
  },
  {
   "cell_type": "code",
   "execution_count": null,
   "metadata": {},
   "outputs": [],
   "source": []
  }
 ],
 "metadata": {
  "kernelspec": {
   "display_name": "Python 3",
   "language": "python",
   "name": "python3"
  },
  "language_info": {
   "codemirror_mode": {
    "name": "ipython",
    "version": 3
   },
   "file_extension": ".py",
   "mimetype": "text/x-python",
   "name": "python",
   "nbconvert_exporter": "python",
   "pygments_lexer": "ipython3",
   "version": "3.7.3"
  }
 },
 "nbformat": 4,
 "nbformat_minor": 4
}
