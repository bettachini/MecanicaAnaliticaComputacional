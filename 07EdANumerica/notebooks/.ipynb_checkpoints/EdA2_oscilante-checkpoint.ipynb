{
 "cells": [
  {
   "cell_type": "markdown",
   "metadata": {},
   "source": [
    "# Máquina oscilante\n",
    "© 2020 Víctor A. Bettachini  \n",
    "Mecánica General  \n",
    "Departamento de Ingeniería e Investigación Tecnológica  \n",
    "Universidad Nacional de La Matanza   \n",
    "![](ambos.png \"UNLaM | DIIT\")  \n",
    "\n",
    "---"
   ]
  },
  {
   "cell_type": "markdown",
   "metadata": {},
   "source": [
    "## Enunciado\n",
    "Los centros de los elementos $A$ y $B$ de masas $m = 5\\,\\mathrm{kg}$ y $M = 1\\,\\mathrm{kg}$ están unidos por una barra rígida de longitud $l = 2\\,\\mathrm{m}$. \n",
    "Otra barra idéntica conecta $O$ y $A$ obligando que $A$ sea equidistante de $O$ y $B$ en $\\hat{I}$. \n",
    "El peso del elemento de masa $m$ debe tenerse en cuenta pues actúa $\\vec{g}$. \n",
    " \n",
    "El elemento de masa $M$ está engarzado en un riel y solo puede moverse en $\\hat{I}$.\n",
    "Tal movimiento está afectado por el resorte de constante elástica $k = 30\\,\\mathrm{N\\,m^{-1}}$ y del amortiguador cuya fuerza se opone a la velocidad con proporcionalidad $c = 0.5\\,\\mathrm{N\\,m^{-1}\\,s}$.\n",
    "\n",
    "![Sistema oscilante amortiguado](mitDva.png)\n",
    "\n",
    "1. Construya el Lagrangiano y obtenga la ecuación de Euler-Lagrange.\n",
    "1. Genere una gráfica de la coordenada y velocidad generalizada.\n",
    "1. ¿Qué pasa con $m$ si se usa un resorte más débil, $k = 10\\,\\mathrm{N\\,m^{-1}}$?\n",
    "1. ¿Qué cambia en el movimiento de $M$ si se usa un amortiguador más fuerte, $c = 1.5\\,\\mathrm{N\\,m^{-1}\\,s}$?"
   ]
  },
  {
   "cell_type": "markdown",
   "metadata": {},
   "source": [
    "## Resolución simbólica en el formalismo Lagrangiano"
   ]
  },
  {
   "cell_type": "code",
   "execution_count": 1,
   "metadata": {},
   "outputs": [],
   "source": [
    "# biblioteca de cálculo simbólico\n",
    "import sympy as sym\n",
    "import sympy.physics.mechanics as mech\n",
    "mech.init_vprinting() # notación con puntos para derivadas temporales"
   ]
  },
  {
   "cell_type": "markdown",
   "metadata": {},
   "source": [
    "### Variables"
   ]
  },
  {
   "cell_type": "code",
   "execution_count": 2,
   "metadata": {},
   "outputs": [],
   "source": [
    "# Parámetros físicos del sistema\n",
    "m, M, g, l, c, k = sym.symbols('m, M, g, l, c, k', positive=True)\n",
    "\n",
    "# Coordenadas generalizadas \n",
    "t = sym.symbols('t') # tiempo, todo es función del tiempo\n",
    "theta = sym.Function('theta')(t)"
   ]
  },
  {
   "cell_type": "code",
   "execution_count": 3,
   "metadata": {},
   "outputs": [],
   "source": [
    "# Sistema cartesiano\n",
    "N = sym.physics.vector.ReferenceFrame('N') # marco referencial N en coordenadas cartesianas\n",
    "\n",
    "# posiciones\n",
    "m_r = l * (sym.cos(theta)* N.x + sym.sin(theta)* N.y)\n",
    "M_r = 2* l* sym.cos(theta)* N.x"
   ]
  },
  {
   "cell_type": "markdown",
   "metadata": {},
   "source": [
    "### Energía cinética"
   ]
  },
  {
   "cell_type": "code",
   "execution_count": 4,
   "metadata": {},
   "outputs": [
    {
     "data": {
      "image/png": "[encoded data removed]",
      "text/latex": [
       "$\\displaystyle T = \\frac{l^{2} \\left(M + m\\right) \\dot{\\theta}^{2}}{2}$"
      ],
      "text/plain": [
       "     2          2\n",
       "    l ⋅(M + m)⋅θ̇ \n",
       "T = ─────────────\n",
       "          2      "
      ]
     },
     "execution_count": 4,
     "metadata": {},
     "output_type": "execute_result"
    }
   ],
   "source": [
    "# velocidades\n",
    "m_v = m_r.diff(t,N) # derivada respecto a t en el marco referencial N\n",
    "M_v = m_r.diff(t,N)\n",
    "\n",
    "# energía cinética\n",
    "unMedio = sym.Rational(1,2) # Rational: fracción de enteros\n",
    "m_T = unMedio* m* m_v.dot(m_v)\n",
    "M_T = unMedio* M* M_v.dot(M_v)\n",
    "T = m_T + M_T\n",
    "\n",
    "cineticaSimbolo = sym.Symbol('T')\n",
    "sym.Eq(cineticaSimbolo, T.simplify() ) # simplify: simplifica usando factor común y otras operaciones"
   ]
  },
  {
   "cell_type": "markdown",
   "metadata": {},
   "source": [
    "### Energía potencial"
   ]
  },
  {
   "cell_type": "markdown",
   "metadata": {},
   "source": [
    "Para el cálculo de energía potencial elástica del resorte $\\frac{k}{2} (l - l_0)^2$ considero que su longitud de reposo del resorte puede aproximarse por nula $l_0 \\simeq 0$."
   ]
  },
  {
   "cell_type": "code",
   "execution_count": 5,
   "metadata": {},
   "outputs": [
    {
     "data": {
      "image/png": "[encoded data removed]",
      "text/latex": [
       "$\\displaystyle V = l \\left(g m \\operatorname{sin}\\left(\\theta\\right) + 2 k l \\operatorname{cos}^{2}\\left(\\theta\\right)\\right)$"
      ],
      "text/plain": [
       "      ⎛                      2   ⎞\n",
       "V = l⋅⎝g⋅m⋅sin(θ) + 2⋅k⋅l⋅cos (θ)⎠"
      ]
     },
     "execution_count": 5,
     "metadata": {},
     "output_type": "execute_result"
    }
   ],
   "source": [
    "# Energía potencial\n",
    "m_V = m* g* m_r.dot(N.y) # potencial gravitatorio\n",
    "M_V = unMedio* k* M_r.dot(N.x)**2 # potencial del resorte\n",
    "V = m_V + M_V\n",
    "potencialSimbolo = sym.Symbol('V')\n",
    "sym.Eq(potencialSimbolo, V.simplify() )"
   ]
  },
  {
   "cell_type": "markdown",
   "metadata": {},
   "source": [
    "### Lagrangiano\n",
    "$$\n",
    "L(x,\\dot{x}) = T(\\dot{x})- V(x)\n",
    "$$"
   ]
  },
  {
   "cell_type": "code",
   "execution_count": 6,
   "metadata": {},
   "outputs": [
    {
     "data": {
      "image/png": "[encoded data removed]",
      "text/latex": [
       "$\\displaystyle \\mathcal{L} = \\frac{l \\left(M l \\dot{\\theta}^{2} - 2 g m \\operatorname{sin}\\left(\\theta\\right) - 4 k l \\operatorname{cos}^{2}\\left(\\theta\\right) + l m \\dot{\\theta}^{2}\\right)}{2}$"
      ],
      "text/plain": [
       "                ⎛     2                           2           2⎞\n",
       "              l⋅⎝M⋅l⋅θ̇  - 2⋅g⋅m⋅sin(θ) - 4⋅k⋅l⋅cos (θ) + l⋅m⋅θ̇ ⎠\n",
       "\\mathcal{L} = ──────────────────────────────────────────────────\n",
       "                                      2                         "
      ]
     },
     "execution_count": 6,
     "metadata": {},
     "output_type": "execute_result"
    }
   ],
   "source": [
    "L = T-V\n",
    "lagrangianoSimbolo = sym.Symbol('\\mathcal{L}')\n",
    "sym.Eq(lagrangianoSimbolo, L.simplify() )"
   ]
  },
  {
   "cell_type": "markdown",
   "metadata": {},
   "source": [
    "### Ecuaciones de Euler-Lagrange"
   ]
  },
  {
   "cell_type": "markdown",
   "metadata": {},
   "source": [
    "Primero calculamos el que tiene derivada total respecto al tiempo\n",
    "$$\\frac{\\mathrm{d}}{\\mathrm{d}t} \\frac{\\partial}{\\partial \\dot{q_i}} \\mathcal{L}$$"
   ]
  },
  {
   "cell_type": "code",
   "execution_count": 7,
   "metadata": {},
   "outputs": [
    {
     "data": {
      "image/png": "[encoded data removed]",
      "text/latex": [
       "$\\displaystyle \\frac{M \\left(2 l^{2} \\operatorname{sin}^{2}\\left(\\theta\\right) \\dot{\\theta} + 2 l^{2} \\operatorname{cos}^{2}\\left(\\theta\\right) \\dot{\\theta}\\right)}{2} + \\frac{m \\left(2 l^{2} \\operatorname{sin}^{2}\\left(\\theta\\right) \\dot{\\theta} + 2 l^{2} \\operatorname{cos}^{2}\\left(\\theta\\right) \\dot{\\theta}\\right)}{2}$"
      ],
      "text/plain": [
       "  ⎛   2    2           2    2     ⎞     ⎛   2    2           2    2     ⎞\n",
       "M⋅⎝2⋅l ⋅sin (θ)⋅θ̇ + 2⋅l ⋅cos (θ)⋅θ̇⎠   m⋅⎝2⋅l ⋅sin (θ)⋅θ̇ + 2⋅l ⋅cos (θ)⋅θ̇⎠\n",
       "─────────────────────────────────── + ───────────────────────────────────\n",
       "                 2                                     2                 "
      ]
     },
     "execution_count": 7,
     "metadata": {},
     "output_type": "execute_result"
    }
   ],
   "source": [
    "L.diff( theta.diff(t) )"
   ]
  },
  {
   "cell_type": "code",
   "execution_count": 8,
   "metadata": {},
   "outputs": [
    {
     "data": {
      "image/png": "[encoded data removed]",
      "text/latex": [
       "$\\displaystyle \\frac{M \\left(2 l^{2} \\operatorname{sin}^{2}\\left(\\theta\\right) \\ddot{\\theta} + 2 l^{2} \\operatorname{cos}^{2}\\left(\\theta\\right) \\ddot{\\theta}\\right)}{2} + \\frac{m \\left(2 l^{2} \\operatorname{sin}^{2}\\left(\\theta\\right) \\ddot{\\theta} + 2 l^{2} \\operatorname{cos}^{2}\\left(\\theta\\right) \\ddot{\\theta}\\right)}{2}$"
      ],
      "text/plain": [
       "  ⎛   2    2           2    2     ⎞     ⎛   2    2           2    2     ⎞\n",
       "M⋅⎝2⋅l ⋅sin (θ)⋅θ̈ + 2⋅l ⋅cos (θ)⋅θ̈⎠   m⋅⎝2⋅l ⋅sin (θ)⋅θ̈ + 2⋅l ⋅cos (θ)⋅θ̈⎠\n",
       "─────────────────────────────────── + ───────────────────────────────────\n",
       "                 2                                     2                 "
      ]
     },
     "execution_count": 8,
     "metadata": {},
     "output_type": "execute_result"
    }
   ],
   "source": [
    "theta_dt = L.diff( theta.diff(t) ).diff(t)\n",
    "theta_dt"
   ]
  },
  {
   "cell_type": "code",
   "execution_count": 9,
   "metadata": {},
   "outputs": [
    {
     "data": {
      "image/png": "[encoded data removed]",
      "text/latex": [
       "$\\displaystyle l^{2} \\left(M + m\\right) \\ddot{\\theta}$"
      ],
      "text/plain": [
       " 2          \n",
       "l ⋅(M + m)⋅θ̈"
      ]
     },
     "execution_count": 9,
     "metadata": {},
     "output_type": "execute_result"
    }
   ],
   "source": [
    "theta_dt.simplify()"
   ]
  },
  {
   "cell_type": "markdown",
   "metadata": {},
   "source": [
    "Luego el que deriva respecto a la coordenada generalizada\n",
    "$$\n",
    "\\frac{\\partial}{\\partial q_i} \\mathcal{L}\n",
    "$$"
   ]
  },
  {
   "cell_type": "code",
   "execution_count": 10,
   "metadata": {},
   "outputs": [
    {
     "data": {
      "image/png": "[encoded data removed]",
      "text/latex": [
       "$\\displaystyle l \\left(- g m + 4 k l \\operatorname{sin}\\left(\\theta\\right)\\right) \\operatorname{cos}\\left(\\theta\\right)$"
      ],
      "text/plain": [
       "l⋅(-g⋅m + 4⋅k⋅l⋅sin(θ))⋅cos(θ)"
      ]
     },
     "execution_count": 10,
     "metadata": {},
     "output_type": "execute_result"
    }
   ],
   "source": [
    "theta_dq = L.diff( theta )\n",
    "theta_dq.simplify()"
   ]
  },
  {
   "cell_type": "markdown",
   "metadata": {},
   "source": [
    "### Funciones de vínculo"
   ]
  },
  {
   "cell_type": "markdown",
   "metadata": {},
   "source": [
    "Habría que obtener los\n",
    "$$\n",
    "\\sum_j \\lambda_j \\frac{\\partial f_j}{\\partial q_i}\n",
    "$$\n",
    "más no hay ninguno."
   ]
  },
  {
   "cell_type": "code",
   "execution_count": 11,
   "metadata": {},
   "outputs": [],
   "source": [
    "theta_lam = 0"
   ]
  },
  {
   "cell_type": "markdown",
   "metadata": {},
   "source": [
    "### Fuerzas no conservativas"
   ]
  },
  {
   "cell_type": "markdown",
   "metadata": {},
   "source": [
    "Para calcular la fuerza generalizada utilizaré el camino de la derivar la posición del punto de aplicación de las fuerzas no conservativas respecto a las coordenadas generalizadas:\n",
    "$$\n",
    "Q_i \\delta q_i = \\sum_j F_j \\left( \\frac{\\partial r_j}{\\partial q_j} \\right) \\delta q_j,\n",
    "$$\n",
    "\n",
    "Aquí actua la fuerza de amortiguación\n",
    "$$\n",
    "\\vec{F}_\\text{amortiguación} = - c \\dot{x}_M \\hat{I}\n",
    "$$\n",
    "aplicada sobre\n",
    "$$\n",
    "\\vec{r}_B = x_M \\hat{I}\n",
    "$$\n",
    "entonces\n",
    "$$\n",
    "Q_\\theta \\delta \\theta = \\left( - c \\dot{x}_M \\hat{I} \\right) \\left( \\frac{\\partial r_j}{\\partial q_j} \\right) \\delta \\theta\n",
    "= \\left( - c \\dot{x}_M \\hat{I} \\right) \\left( \\frac{\\partial x_M}{\\partial \\theta } \\right) \\delta \\theta\n",
    "= \\left( - c \\dot{x}_M \\hat{I} \\right) \\left( - 2 l \\sin{\\theta} \\hat{I} \\right) \\delta \\theta\n",
    "$$\n",
    "con lo que determina que \n",
    "$$\n",
    "Q_\\theta = 2 c l \\dot{x}_M \\sin{(\\theta)} = - 4 c l^2 \\sin^2{(\\theta)} \\dot{\\theta}\n",
    "$$"
   ]
  },
  {
   "cell_type": "code",
   "execution_count": 12,
   "metadata": {},
   "outputs": [
    {
     "data": {
      "image/png": "[encoded data removed]",
      "text/latex": [
       "$\\displaystyle - 4 c l^{2} \\operatorname{sin}^{2}\\left(\\theta\\right) \\dot{\\theta}$"
      ],
      "text/plain": [
       "      2    2     \n",
       "-4⋅c⋅l ⋅sin (θ)⋅θ̇"
      ]
     },
     "execution_count": 12,
     "metadata": {},
     "output_type": "execute_result"
    }
   ],
   "source": [
    "F_noCons = - c * M_r.dot(N.x).diff(t)\n",
    "theta_Q = F_noCons* M_r.dot(N.x).diff(theta)\n",
    "theta_Q"
   ]
  },
  {
   "cell_type": "markdown",
   "metadata": {},
   "source": [
    "### Ecuaciones de Euler-Lagrange\n",
    "$$\n",
    "\\frac{\\partial}{\\partial q_i} L\n",
    "- \\frac{\\mathrm{d}}{\\mathrm{d}t} \\frac{\\partial}{\\partial \\dot{q}_i} L\n",
    "+ \\sum_j \\lambda_j \\frac{\\partial f_j}{\\partial q_i}\n",
    "+ Q_i\n",
    "= 0\n",
    "$$"
   ]
  },
  {
   "cell_type": "code",
   "execution_count": 13,
   "metadata": {},
   "outputs": [
    {
     "data": {
      "image/png": "[encoded data removed]",
      "text/latex": [
       "$\\displaystyle l \\left(- M l \\ddot{\\theta} - 4 c l \\operatorname{sin}^{2}\\left(\\theta\\right) \\dot{\\theta} - g m \\operatorname{cos}\\left(\\theta\\right) + 2 k l \\operatorname{sin}\\left(2 \\theta\\right) - l m \\ddot{\\theta}\\right) = 0$"
      ],
      "text/plain": [
       "  ⎛                  2                                           ⎞    \n",
       "l⋅⎝-M⋅l⋅θ̈ - 4⋅c⋅l⋅sin (θ)⋅θ̇ - g⋅m⋅cos(θ) + 2⋅k⋅l⋅sin(2⋅θ) - l⋅m⋅θ̈⎠ = 0"
      ]
     },
     "execution_count": 13,
     "metadata": {},
     "output_type": "execute_result"
    }
   ],
   "source": [
    "theta_el = sym.Eq( theta_dq - theta_dt + theta_lam + theta_Q, 0) # ecuación igualando a cero\n",
    "theta_el.simplify()"
   ]
  },
  {
   "cell_type": "markdown",
   "metadata": {},
   "source": [
    "## Resolución numérica"
   ]
  },
  {
   "cell_type": "markdown",
   "metadata": {},
   "source": [
    "Utilizaremos un esquema de Euler en que se actualiza un el estado del sistema $y(t_n) = y_n$ cada cortos intervalos tiempo $\\Delta h = t_{n+1} - t_n$\n",
    "\n",
    "$$\n",
    "y_{n+1} = y_n + \\dot{y}_n(t_n) \\Delta h\n",
    "$$\n",
    "usando una estimación de las velocidades $\\dot{y}_n(t_n)$ en el intervalo anterior."
   ]
  },
  {
   "cell_type": "markdown",
   "metadata": {},
   "source": [
    "No se dispone de una expresión de $\\dot{y}(t)$, pero si de las aceleraciones generalizadas fruto de la  ecuaciones de Euler-Lagrange.\n",
    "Realizando una integración numérica de estas aceleraciones se obtienen las velocidades.\n",
    "\n",
    "Entonces de estas ecuaciones diferenciales lineales homogéneas de segundo orden se necesita despejar la aceleración."
   ]
  },
  {
   "cell_type": "code",
   "execution_count": 14,
   "metadata": {},
   "outputs": [
    {
     "data": {
      "image/png": "[encoded data removed]",
      "text/latex": [
       "$\\displaystyle \\ddot{\\theta} = \\frac{- 4 c l \\operatorname{sin}^{2}\\left(\\theta\\right) \\dot{\\theta} - g m \\operatorname{cos}\\left(\\theta\\right) + 2 k l \\operatorname{sin}\\left(2 \\theta\\right)}{l \\left(M + m\\right)}$"
      ],
      "text/plain": [
       "               2                                   \n",
       "    - 4⋅c⋅l⋅sin (θ)⋅θ̇ - g⋅m⋅cos(θ) + 2⋅k⋅l⋅sin(2⋅θ)\n",
       "θ̈ = ───────────────────────────────────────────────\n",
       "                       l⋅(M + m)                   "
      ]
     },
     "execution_count": 14,
     "metadata": {},
     "output_type": "execute_result"
    }
   ],
   "source": [
    "ypp_solve = list( sym.solveset(theta_el, theta.diff(t,2)) )[0] # primer elemento de la lista en que se convirtió el set\n",
    "sym.Eq(theta.diff(t,2), ypp_solve)"
   ]
  },
  {
   "cell_type": "markdown",
   "metadata": {},
   "source": [
    "Como utilizamos un método de resolución basado en una integración no podemos pasar de la aceleración directamente a la posición en función del tiempo.\n",
    "La integración nos dará la velocidad y una integración sucesiva de la misma la posición."
   ]
  },
  {
   "cell_type": "markdown",
   "metadata": {},
   "source": [
    "Registro las magnitudes físicas del sistema."
   ]
  },
  {
   "cell_type": "code",
   "execution_count": 153,
   "metadata": {},
   "outputs": [],
   "source": [
    "# escribo los valores numéricos en variables\n",
    "g_val = 9.81 # [m s-2]\n",
    "m_val = 5 # [kg]\n",
    "M_val = 1 # [kg]\n",
    "l_val = 2 # [m]\n",
    "k_val = 30 # [N m-1]\n",
    "c_val = 0.5 # [N m-1 s]\n",
    " \n",
    "# un diccionario (un tipo de variable Python) fácilará el reemplazar con valores numéricos\n",
    "valores = {\n",
    "    g : g_val,\n",
    "    m : m_val,\n",
    "    M : M_val,\n",
    "    l : l_val,\n",
    "    k : k_val,\n",
    "    c : c_val\n",
    "}"
   ]
  },
  {
   "cell_type": "markdown",
   "metadata": {},
   "source": [
    "Genero la función `aThetaNumerica` con dos variables $(\\theta, \\dot{\\theta})$"
   ]
  },
  {
   "cell_type": "code",
   "execution_count": 154,
   "metadata": {},
   "outputs": [],
   "source": [
    "aThetaNumerica = sym.lambdify([theta, theta.diff(t)], ypp_solve.subs(valores))"
   ]
  },
  {
   "cell_type": "markdown",
   "metadata": {},
   "source": [
    "La ensayo, si $\\theta= 0$ y $\\dot{\\theta}=0$ debiera darnos $-\\frac{g m}{l (M+m)}$"
   ]
  },
  {
   "cell_type": "code",
   "execution_count": 155,
   "metadata": {},
   "outputs": [
    {
     "data": {
      "image/png": "[encoded data removed]",
      "text/latex": [
       "$\\displaystyle \\left( -4.0875, \\  -4.0875\\right)$"
      ],
      "text/plain": [
       "(-4.0875, -4.0875)"
      ]
     },
     "execution_count": 155,
     "metadata": {},
     "output_type": "execute_result"
    }
   ],
   "source": [
    "aThetaNumerica(0,0), -(g_val* m_val)/(l_val*(M_val+ m_val))"
   ]
  },
  {
   "cell_type": "markdown",
   "metadata": {},
   "source": [
    "¡Perfecto!"
   ]
  },
  {
   "cell_type": "markdown",
   "metadata": {},
   "source": [
    "Por esto escribimos la ecuación de segundo orden como dos de primer orden resolubles con el esquema de Euler.\n",
    "Si notamos $y_0$ la posición $y_1$ la derivada primera, la velocidad, e $y_2$ la segunda derivada o aceleración\n",
    "\n",
    "$$\n",
    "\\left\\{\n",
    "\\begin{array}{l}\n",
    "\\dot{y}_0 = y_1 \\\\\n",
    "\\dot{y}_1 = \\ddot{y}_0 = \\ddot{\\theta}(\\theta, \\dot{\\theta}) \\\\\n",
    "\\end{array}\n",
    "\\right.\n",
    "$$"
   ]
  },
  {
   "cell_type": "code",
   "execution_count": 156,
   "metadata": {},
   "outputs": [],
   "source": [
    "# defino una función con el sistema de derivadas\n",
    "# t : no se usa en este sistema pero lo dejamos para uso posterior\n",
    "# y : lista de estado con [y_0, y_1]\n",
    "# y[0]: coordenada generalizada\n",
    "# y[1]: velocidad generalizada\n",
    "# dydt : lista de derivadas\n",
    "def derivaday(t, y):\n",
    "    dydt = [y[1], aThetaNumerica(y[0],y[1])]\n",
    "    return dydt"
   ]
  },
  {
   "cell_type": "code",
   "execution_count": 157,
   "metadata": {},
   "outputs": [],
   "source": [
    "# biblioteca de cálculo numérico general\n",
    "import numpy as np"
   ]
  },
  {
   "cell_type": "code",
   "execution_count": 158,
   "metadata": {},
   "outputs": [],
   "source": [
    "# biblioteca de cálculo científico: eficientes herramientas de cálculo numérico\n",
    "from scipy.integrate import solve_ivp"
   ]
  },
  {
   "cell_type": "markdown",
   "metadata": {},
   "source": [
    "### Corrida de simulación a partir de parámetros iniciales\n",
    "\n",
    "Previo a la corrida de la simulación se definen condiciones iniciales del sistema y el rango de tiempo a analizar "
   ]
  },
  {
   "cell_type": "code",
   "execution_count": 159,
   "metadata": {},
   "outputs": [],
   "source": [
    "# parámetros para inicial las integración de sistemaDerivadas\n",
    "t_inicial = 0 # [s]\n",
    "t_final = 20 # [s]\n",
    "t_paso = 0.01 # [s]\n",
    "t_rango = np.arange(t_inicial, t_final, t_paso)\n",
    "y_inicial = [np.pi/6.0, 0] # parte del reposo en theta = 30 grados (pi/6)"
   ]
  },
  {
   "cell_type": "code",
   "execution_count": 160,
   "metadata": {},
   "outputs": [],
   "source": [
    "# Integra de a pasos en el tiempo\n",
    "sol_y = solve_ivp(derivaday, (t_rango[0], t_rango[-1] ), y_inicial, t_eval = t_rango)"
   ]
  },
  {
   "cell_type": "markdown",
   "metadata": {},
   "source": [
    "## Graficación"
   ]
  },
  {
   "cell_type": "code",
   "execution_count": 161,
   "metadata": {},
   "outputs": [],
   "source": [
    "# biblioteca de graficación\n",
    "import matplotlib.pyplot as plt\n",
    "plt.style.use('fivethirtyeight')"
   ]
  },
  {
   "cell_type": "code",
   "execution_count": 162,
   "metadata": {},
   "outputs": [],
   "source": [
    "def graficaFuncion(solucion, nombreCoordenada='q'):\n",
    "    fig, ax = plt.subplots(nrows= 1, ncols= 2, squeeze=False, figsize=(12, 4)) # dos figuras en la misma fila\n",
    "    fig.suptitle('Integración numérica para $'+ nombreCoordenada + '$', fontsize=16)\n",
    "    ax[0,0].plot(solucion.t, solucion.y[0]) # posición\n",
    "    ax[0,0].set(xlabel='t [s]', ylabel = '$' + nombreCoordenada+ '$ [rad]', title='Posición')\n",
    "    ax[0,1].plot(solucion.t, solucion.y[1]) # velocidad\n",
    "    ax[0,1].set(xlabel='t [s]', ylabel = '$\\dot{' + nombreCoordenada + '}$ [rad/s]', title='Velocidad')"
   ]
  },
  {
   "cell_type": "code",
   "execution_count": 163,
   "metadata": {},
   "outputs": [
    {
     "data": {
      "image/png": "[encoded data removed]",
      "text/plain": [
       "<Figure size 864x288 with 2 Axes>"
      ]
     },
     "metadata": {},
     "output_type": "display_data"
    }
   ],
   "source": [
    "graficaFuncion(sol_y, nombreCoordenada = r'\\theta')"
   ]
  },
  {
   "cell_type": "code",
   "execution_count": null,
   "metadata": {},
   "outputs": [],
   "source": []
  },
  {
   "cell_type": "code",
   "execution_count": null,
   "metadata": {},
   "outputs": [],
   "source": []
  }
 ],
 "metadata": {
  "kernelspec": {
   "display_name": "Python 3",
   "language": "python",
   "name": "python3"
  },
  "language_info": {
   "codemirror_mode": {
    "name": "ipython",
    "version": 3
   },
   "file_extension": ".py",
   "mimetype": "text/x-python",
   "name": "python",
   "nbconvert_exporter": "python",
   "pygments_lexer": "ipython3",
   "version": "3.7.3"
  }
 },
 "nbformat": 4,
 "nbformat_minor": 4
}
