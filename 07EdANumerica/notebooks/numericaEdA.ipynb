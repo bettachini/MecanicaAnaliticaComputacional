{
 "cells": [
  {
   "cell_type": "markdown",
   "metadata": {},
   "source": [
    "# Simulación numérica | Evaluación de aprendizajes\n",
    "© 2020 Víctor A. Bettachini  \n",
    "Mecánica General  \n",
    "Departamento de Ingeniería e Investigación Tecnológica  \n",
    "Universidad Nacional de La Matanza   \n",
    "![](ambos.png \"UNLaM | DIIT\")  \n",
    "\n",
    "---"
   ]
  },
  {
   "cell_type": "markdown",
   "metadata": {},
   "source": [
    "## Requisitos\n",
    "1. Resolver **alguno de los dos** problemas.\n",
    "2. Proponga valores numéricos para los parámetros físicos del sistema (masas, longitudes, etc.), condiciones iniciales y explore gráficamente las resultantes dinámicas. Explique en **pocas** palabras lo observado."
   ]
  },
  {
   "cell_type": "markdown",
   "metadata": {},
   "source": [
    "## Problema 1\n",
    "Las partículas de masa $m$ se encuentran unidas por una barra rígida de masa despreciable y longitud $l$.\n",
    "Una de ellas está enhebrada a un anillo de radio $a$.\n",
    "El movimiento de la barra se realiza siempre en el plano del anillo.\n",
    "El sistema se halla bajo el potencial gravitatorio de la superficie terrestre.\n",
    "El objetivo primario es determinar la fuerza que debe hacer la barra rígida.\n",
    "\n",
    "![Péndulo enhebrado](edaEins.png)\n",
    "\n",
    "1. Determine un conjunto de coordenadas generalizadas que describan el estado del sistema y una función para el vínculo de interés recordando de no utilizarla para reducir el número de coordenadas.\n",
    "2. Construya el correspondiente Lagrangiano.\n",
    "3. Obtenga con las ecuaciones de Euler-Lagrange la fuerza de vínculo.\n",
    "4. Genera una gráfica de la magnitud de la fuerza de vínculo en función del tiempo."
   ]
  },
  {
   "cell_type": "markdown",
   "metadata": {},
   "source": [
    "## Problema 2\n",
    "Los centros de los elementos $A$ y $B$ de masas $m = 5\\,\\mathrm{kg}$ y $M = 1\\,\\mathrm{kg}$ están unidos por una barra rígida de longitud $l = 2\\,\\mathrm{m}$. \n",
    "Otra barra idéntica conecta $O$ y $A$ obligando que $A$ sea equidistante de $O$ y $B$ en $\\hat{I}$. \n",
    "El peso del elemento de masa $m$ debe tenerse en cuenta pues actúa $\\vec{g}$. \n",
    " \n",
    "El elemento de masa $M$ está engarzado en un riel y solo puede moverse en $\\hat{I}$.\n",
    "Tal movimiento está afectado por el resorte de constante elástica $k = 30\\,\\mathrm{N\\,m^{-1}}$ y del amortiguador cuya fuerza se opone a la velocidad con proporcionalidad $c = 0.5\\,\\mathrm{N\\,m^{-1}\\,s}$.\n",
    "\n",
    "![Sistema oscilante amortiguado](mitDva.png)\n",
    "\n",
    "1. Construya el Lagrangiano y obtenga la ecuación de Euler-Lagrange.\n",
    "1. Genere una gráfica de la coordenada y velocidad generalizada.\n",
    "1. ¿Qué pasa con $m$ si se usa un resorte más débil, $k = 10\\,\\mathrm{N\\,m^{-1}}$?\n",
    "1. ¿Qué cambia en el movimiento de $M$ si se usa un amortiguador más fuerte, $c = 1.5\\,\\mathrm{N\\,m^{-1}\\,s}$?"
   ]
  },
  {
   "cell_type": "code",
   "execution_count": null,
   "metadata": {},
   "outputs": [],
   "source": []
  }
 ],
 "metadata": {
  "kernelspec": {
   "display_name": "Python 3",
   "language": "python",
   "name": "python3"
  },
  "language_info": {
   "codemirror_mode": {
    "name": "ipython",
    "version": 3
   },
   "file_extension": ".py",
   "mimetype": "text/x-python",
   "name": "python",
   "nbconvert_exporter": "python",
   "pygments_lexer": "ipython3",
   "version": "3.7.3"
  }
 },
 "nbformat": 4,
 "nbformat_minor": 4
}
