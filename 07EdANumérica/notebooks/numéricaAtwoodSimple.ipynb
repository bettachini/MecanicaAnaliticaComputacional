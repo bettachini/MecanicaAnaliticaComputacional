{
 "cells": [
  {
   "cell_type": "markdown",
   "metadata": {},
   "source": [
    "# Simulación numérica | Máquina de Atwood\n",
    "© 2020\n",
    "Víctor A. Bettachini  \n",
    "Mecánica General  \n",
    "Departamento de Ingeniería e Investigación Tecnológica  \n",
    "Universidad Nacional de La Matanza  \n",
    "\n",
    "---  "
   ]
  },
  {
   "cell_type": "markdown",
   "metadata": {},
   "source": [
    "## Enunciado\n",
    "1. Obtenga con la ecuación de Euler-Lagrange la ecuación de la dinámica. \n",
    "Simplifique el problema considerando que la poleas de radio \\\\(R\\\\) tiene masa nula (\\\\(M=0\\\\)).\n",
    "2. Compare las aceleraciones con las obtenidas usando ecuaciones de Newton.\n",
    "\n",
    "![](marion_fig2_1a.png)"
   ]
  },
  {
   "cell_type": "markdown",
   "metadata": {},
   "source": [
    "## Análisis preliminar\n",
    "- Dos coordenadas generalizadas: $x,y$\n",
    "- Potencial externo: debido a la aceleración gravitatoria\n",
    "- Vínculo: cuerda de longitud $l$ impone $x+ y + \\pi R = l$ siendo $R$ el radio de la polea que se la considera sin masa."
   ]
  },
  {
   "cell_type": "markdown",
   "metadata": {},
   "source": [
    "## Resolución simbólica en el formalismo Lagrangiano"
   ]
  },
  {
   "cell_type": "code",
   "execution_count": 1,
   "metadata": {},
   "outputs": [],
   "source": [
    "# biblioteca de cálculo simbólico\n",
    "import sympy as sym\n",
    "import sympy.physics.mechanics as mech\n",
    "mech.init_vprinting() # notación con puntos para derivadas temporales"
   ]
  },
  {
   "cell_type": "markdown",
   "metadata": {},
   "source": [
    "### Variables"
   ]
  },
  {
   "cell_type": "code",
   "execution_count": 2,
   "metadata": {},
   "outputs": [
    {
     "data": {
      "image/png": "[encoded data removed]",
      "text/latex": [
       "$\\displaystyle - \\pi R + l - x$"
      ],
      "text/plain": [
       "-π⋅R + l - x"
      ]
     },
     "execution_count": 2,
     "metadata": {},
     "output_type": "execute_result"
    }
   ],
   "source": [
    "# Defino los parámetros físicos del sistema\n",
    "R, m1, m2, g, l = sym.symbols('R, m_1, m_2, g, l', positive=True)\n",
    "\n",
    "# Defino coordenadas generalizadas \n",
    "t = sym.symbols('t') # tiempo\n",
    "x = sym.Function('x')(t) # posición pesa 1: x = x(t)\n",
    "y = (l- sym.pi* R)- x  # posición pesa 2: definida por el vínculo\n",
    "y"
   ]
  },
  {
   "cell_type": "markdown",
   "metadata": {},
   "source": [
    "### Energía cinética"
   ]
  },
  {
   "cell_type": "code",
   "execution_count": 3,
   "metadata": {},
   "outputs": [
    {
     "data": {
      "image/png": "[encoded data removed]",
      "text/latex": [
       "$\\displaystyle T = \\frac{\\left(m_{1} + m_{2}\\right) \\dot{x}^{2}}{2}$"
      ],
      "text/plain": [
       "               2\n",
       "    (m₁ + m₂)⋅ẋ \n",
       "T = ────────────\n",
       "         2      "
      ]
     },
     "execution_count": 3,
     "metadata": {},
     "output_type": "execute_result"
    }
   ],
   "source": [
    "# Energía cinética\n",
    "unMedio = sym.Rational(1,2) # Rational: fracción de enteros\n",
    "T =  unMedio* (m1* x.diff(t)**2 + m2* y.diff(t)**2) # diff: derivada\n",
    "cineticaSimbolo = sym.Symbol('T')\n",
    "sym.Eq(cineticaSimbolo, T.simplify() ) # simplify: simplifica usando factor común y otras operaciones"
   ]
  },
  {
   "cell_type": "markdown",
   "metadata": {},
   "source": [
    "### Energía potencial"
   ]
  },
  {
   "cell_type": "code",
   "execution_count": 4,
   "metadata": {},
   "outputs": [
    {
     "data": {
      "image/png": "[encoded data removed]",
      "text/latex": [
       "$\\displaystyle V = g \\left(- m_{1} x + m_{2} \\left(\\pi R - l + x\\right)\\right)$"
      ],
      "text/plain": [
       "V = g⋅(-m₁⋅x + m₂⋅(π⋅R - l + x))"
      ]
     },
     "execution_count": 4,
     "metadata": {},
     "output_type": "execute_result"
    }
   ],
   "source": [
    "# Energía potencial\n",
    "V = m1* g* (-x) + m2* g* (-y)\n",
    "potencialSimbolo = sym.Symbol('V')\n",
    "sym.Eq(potencialSimbolo, V.simplify() )"
   ]
  },
  {
   "cell_type": "markdown",
   "metadata": {},
   "source": [
    "### Lagrangiano\n",
    "$$\n",
    "\\mathcal{L}(x,\\dot{x}) = T(\\dot{x})- V(x)\n",
    "$$"
   ]
  },
  {
   "cell_type": "code",
   "execution_count": 5,
   "metadata": {},
   "outputs": [
    {
     "data": {
      "image/png": "[encoded data removed]",
      "text/latex": [
       "$\\displaystyle \\mathcal{L} = g m_{1} x - g m_{2} \\left(\\pi R - l + x\\right) + \\frac{m_{1} \\dot{x}^{2}}{2} + \\frac{m_{2} \\dot{x}^{2}}{2}$"
      ],
      "text/plain": [
       "                                                2       2\n",
       "                                            m₁⋅ẋ    m₂⋅ẋ \n",
       "\\mathcal{L} = g⋅m₁⋅x - g⋅m₂⋅(π⋅R - l + x) + ───── + ─────\n",
       "                                              2       2  "
      ]
     },
     "execution_count": 5,
     "metadata": {},
     "output_type": "execute_result"
    }
   ],
   "source": [
    "L = T- V\n",
    "lagrangianoSimbolo = sym.Symbol('\\mathcal{L}')\n",
    "sym.Eq(lagrangianoSimbolo, L.simplify() )"
   ]
  },
  {
   "cell_type": "markdown",
   "metadata": {},
   "source": [
    "### Ecuaciones de Euler-Lagrange"
   ]
  },
  {
   "cell_type": "markdown",
   "metadata": {},
   "source": [
    "Puesto que los momentos generalizados se obtienen de \n",
    "\n",
    "$$\n",
    "p_i = \\frac{\\partial}{\\partial \\dot{q_i}} \\mathcal{L},\n",
    "$$\n",
    "se utiliza esto para dar nombre `dtdp` a la parte de la ecuación de Euler-Lagrange en que\n",
    "\n",
    "$$\\frac{\\mathrm{d}}{\\mathrm{d}t} \\frac{\\partial}{\\partial \\dot{q_i}} \\mathcal{L} = \\frac{\\mathrm{d}}{\\mathrm{d}t} p_i$$\n",
    "se deriva respecto al tiempo el momento generalizado $p_i$."
   ]
  },
  {
   "cell_type": "code",
   "execution_count": 6,
   "metadata": {},
   "outputs": [
    {
     "data": {
      "image/png": "[encoded data removed]",
      "text/latex": [
       "$\\displaystyle m_{1} \\ddot{x} + m_{2} \\ddot{x}$"
      ],
      "text/plain": [
       "m₁⋅ẍ + m₂⋅ẍ"
      ]
     },
     "execution_count": 6,
     "metadata": {},
     "output_type": "execute_result"
    }
   ],
   "source": [
    "x_dtdp = L.diff(x.diff(t)).diff(t) # primero deriva respecto a x punto y luego a t\n",
    "x_dtdp"
   ]
  },
  {
   "cell_type": "markdown",
   "metadata": {},
   "source": [
    "De manera similar el derivar respecto a la coordenada generalizada\n",
    "\n",
    "$$\n",
    "\\frac{\\partial}{\\partial q_i} \\mathcal{L},\n",
    "$$\n",
    "se notara como `dq`."
   ]
  },
  {
   "cell_type": "code",
   "execution_count": 7,
   "metadata": {},
   "outputs": [
    {
     "data": {
      "image/png": "[encoded data removed]",
      "text/latex": [
       "$\\displaystyle g m_{1} - g m_{2}$"
      ],
      "text/plain": [
       "g⋅m₁ - g⋅m₂"
      ]
     },
     "execution_count": 7,
     "metadata": {},
     "output_type": "execute_result"
    }
   ],
   "source": [
    "x_dq = L.diff(x)\n",
    "x_dq"
   ]
  },
  {
   "cell_type": "markdown",
   "metadata": {},
   "source": [
    "Con todos estos elementos se puede escribir la ecuación homegénea (no hay fuerzas no conservativas)\n",
    "\n",
    "$$\n",
    "\\frac{\\partial}{\\partial q_i} \\mathcal{L}\n",
    "- \\frac{\\mathrm{d}}{\\mathrm{d}t} \\frac{\\partial}{\\partial \\dot{q}_i} \\mathcal{L}\n",
    "= 0\n",
    "$$"
   ]
  },
  {
   "cell_type": "code",
   "execution_count": 8,
   "metadata": {},
   "outputs": [
    {
     "data": {
      "image/png": "[encoded data removed]",
      "text/latex": [
       "$\\displaystyle - g m_{1} + g m_{2} + m_{1} \\ddot{x} + m_{2} \\ddot{x} = 0$"
      ],
      "text/plain": [
       "-g⋅m₁ + g⋅m₂ + m₁⋅ẍ + m₂⋅ẍ = 0"
      ]
     },
     "execution_count": 8,
     "metadata": {},
     "output_type": "execute_result"
    }
   ],
   "source": [
    "x_EL = sym.Eq(x_dtdp- x_dq, 0) # ecuación igualando a cero\n",
    "x_EL.simplify()"
   ]
  },
  {
   "cell_type": "markdown",
   "metadata": {},
   "source": [
    "Esta es una ecuación diferencial lineal de segundo orden homogena.  "
   ]
  },
  {
   "cell_type": "markdown",
   "metadata": {},
   "source": [
    "### Ecuación de la dinámica\n",
    "Podemos despejar $\\ddot{x}$"
   ]
  },
  {
   "cell_type": "code",
   "execution_count": 9,
   "metadata": {},
   "outputs": [
    {
     "data": {
      "image/png": "[encoded data removed]",
      "text/latex": [
       "$\\displaystyle \\ddot{x} = \\frac{g \\left(m_{1} - m_{2}\\right)}{m_{1} + m_{2}}$"
      ],
      "text/plain": [
       "    g⋅(m₁ - m₂)\n",
       "ẍ = ───────────\n",
       "      m₁ + m₂  "
      ]
     },
     "execution_count": 9,
     "metadata": {},
     "output_type": "execute_result"
    }
   ],
   "source": [
    "x_pp = sym.solve(x_EL, x.diff(t,2) )[0] # entrega una lista con los posibles despejes en función de x punto punto (derivada de 2.o orden con t)\n",
    "sym.Eq(x.diff(t,2), x_pp)"
   ]
  },
  {
   "cell_type": "markdown",
   "metadata": {},
   "source": [
    "## Resolución de la ecuación de la dinámica\n",
    "Resolver analíticamente esta ecuación es sencillo.\n",
    "Basta con integrar dos veces en el tiempo esta $\\ddot{x}$ para obtener $x(t)$ "
   ]
  },
  {
   "cell_type": "code",
   "execution_count": 10,
   "metadata": {},
   "outputs": [
    {
     "data": {
      "image/png": "[encoded data removed]",
      "text/latex": [
       "$\\displaystyle x = \\frac{g t^{2} \\left(m_{1} - m_{2}\\right)}{2 \\left(m_{1} + m_{2}\\right)} + t v_{0} + x_{0}$"
      ],
      "text/plain": [
       "       2                      \n",
       "    g⋅t ⋅(m₁ - m₂)            \n",
       "x = ────────────── + t⋅v₀ + x₀\n",
       "     2⋅(m₁ + m₂)              "
      ]
     },
     "execution_count": 10,
     "metadata": {},
     "output_type": "execute_result"
    }
   ],
   "source": [
    "x0, v0 = sym.symbols('x_0 v_0')\n",
    "sym.Eq(x,unMedio* x_pp* t**2+ v0* t + x0)"
   ]
  },
  {
   "cell_type": "markdown",
   "metadata": {},
   "source": [
    "La resolución analítica de una ecuación diferncial ordinaria (ODE en inglés) puede ser engorrosa o inclusive imposible para muchas soluciones que encontraremos para la dinámica de sistemas mecánicos complejos.\n",
    "Por esa razón exploraremos la alternativa que es la **resolución numérica** ."
   ]
  },
  {
   "cell_type": "markdown",
   "metadata": {},
   "source": [
    "### Valores numéricos"
   ]
  },
  {
   "cell_type": "markdown",
   "metadata": {},
   "source": [
    "Establecemos la magnitud de $\\ddot{x}$, esto es cuantos $\\mathrm{\\frac{m}{s^2}}$,  en función de los parámetros físicos del sistema."
   ]
  },
  {
   "cell_type": "code",
   "execution_count": 11,
   "metadata": {},
   "outputs": [
    {
     "data": {
      "image/png": "[encoded data removed]",
      "text/latex": [
       "$\\displaystyle 3.27$"
      ],
      "text/plain": [
       "3.27000000000000"
      ]
     },
     "execution_count": 11,
     "metadata": {},
     "output_type": "execute_result"
    }
   ],
   "source": [
    "# parámetros físicos\n",
    "g_valor = 9.81 # [m s-2]\n",
    "m1_valor = 2 # [kg]\n",
    "m2_valor = 1 # [kg]\n",
    "x_pp_valores = x_pp.subs([(g,g_valor),(m1,m1_valor), (m2,m2_valor)]) # lista de un elemento, substituyo con valores\n",
    "x_pp_valores # [m s-2]"
   ]
  },
  {
   "cell_type": "markdown",
   "metadata": {},
   "source": [
    "Lo anterior es una expresión _sympy_, necesito convertirla en una expresión que pueda interpretarse fuera de este módulo.\n",
    "Se usa el comando _lambdify_ que retorna la función en un formato compatible con el módulo de Python indicado.\n",
    "Por defecto este módulo es el _numpy_ que es la que usaremos a continuación.\n",
    "Obligatoriamente hay que indicar al menos una variable de la que depende la función.\n",
    "En este caso se indicó $t$ aunque realmente no figura en $\\ddot{x}$. "
   ]
  },
  {
   "cell_type": "code",
   "execution_count": 12,
   "metadata": {},
   "outputs": [
    {
     "data": {
      "image/png": "[encoded data removed]",
      "text/latex": [
       "$\\displaystyle 3.27$"
      ],
      "text/plain": [
       "3.27"
      ]
     },
     "execution_count": 12,
     "metadata": {},
     "output_type": "execute_result"
    }
   ],
   "source": [
    "x_pp_numpy = sym.lambdify(t, x_pp_valores)\n",
    "x_pp_numpy = x_pp_numpy(9999) # en este caso el valor de t no afecta nada\n",
    "x_pp_numpy # [m s-2]"
   ]
  },
  {
   "cell_type": "markdown",
   "metadata": {},
   "source": [
    "### Integración numérica"
   ]
  },
  {
   "cell_type": "markdown",
   "metadata": {},
   "source": [
    "La idea central es partir de la información de la derivada en un determinado tiempo $t_i$, $\\frac{\\partial x}{\\partial t}|_{t=t_i}$, para predecir $x(t)|_{t=t_{i+i}}$, esto es en un $t_{i+1}$ posterior.\n"
   ]
  },
  {
   "cell_type": "markdown",
   "metadata": {},
   "source": [
    "Los métodos numéricos de integración más eficientes trabajan sobre una ecuación diferencial de primer orden.\n",
    "Para utilizarlos se reduce la ecuación de la dinámica, una ecuación diferencial ordinaria de **2.o orden**, a un **sistema de dos ecuaciones de 1.er orden**.\n",
    "\n",
    "Se crean variables auxiliares para las derivadas de $x$ que se ubican en un **vector de estado** a un $t_i$.\n",
    "Este será re-calculado en pequeños pasos de $t$ desde un inicial $t_0$\n",
    "\n",
    "$$\n",
    "[x_1, x_2]=[\\dot{x}, \\ddot{x}]\n",
    "$$\n",
    "de forma que ahora debe resolverse\n",
    "\n",
    "$$\n",
    "\\left\\{\n",
    "\\begin{array}{l}\n",
    "x_0 = x\\\\\n",
    "\\dot{x}_0 = \\dot{x} = x_1\\\\\n",
    "\\dot{x}_1 = \\ddot{x}_0 = \\ddot{x} = g \\frac{(m1 - m_2)}{m_1 + m_2}\\\\\n",
    "\\end{array}\n",
    "\\right.\n",
    "\\implies\n",
    "\\left\\{\n",
    "\\begin{array}{l}\n",
    "\\dot{x}_0 = x_1\\\\\n",
    "\\dot{x}_1 = g \\frac{(m1 - m_2)}{m_1 + m_2}\\\\\n",
    "\\end{array}\n",
    "\\right.\n",
    "$$\n",
    "\n",
    "Referencia: https://pundit.pratt.duke.edu/wiki/Python:Ordinary_Differential_Equations/Examples\n",
    "\n",
    "Referencia: http://sam-dolan.staff.shef.ac.uk/mas212/notebooks/ODE_Example.html\n",
    "\n",
    "Referencia: https://ipython-books.github.io/123-simulating-an-ordinary-differential-equation-with-scipy/"
   ]
  },
  {
   "cell_type": "code",
   "execution_count": 13,
   "metadata": {},
   "outputs": [],
   "source": [
    "# defino una función con el sistema de derivadas\n",
    "# t : no se usa en este sistema pero lo dejamos para uso posterior\n",
    "# x : lista de estado con [x_0, x_1]\n",
    "# constantes : lista de constates, en este caso tendrá g(m1-m2)/(m1+m2)\n",
    "# dx_dt : lista de derivadas\n",
    "def sistemaDerivadas(x,t, constante):\n",
    "    velocidad = x[1]\n",
    "    aceleracion = constante \n",
    "    dx_dt = [velocidad, aceleracion]\n",
    "    return dx_dt"
   ]
  },
  {
   "cell_type": "markdown",
   "metadata": {},
   "source": [
    "Ahora defino condiciones iniciales del sistema y el rango de tiempo a analizar "
   ]
  },
  {
   "cell_type": "code",
   "execution_count": 14,
   "metadata": {},
   "outputs": [],
   "source": [
    "# biblioteca de cálculo numérico general\n",
    "import numpy as np"
   ]
  },
  {
   "cell_type": "code",
   "execution_count": 15,
   "metadata": {},
   "outputs": [],
   "source": [
    "t_rango = np.linspace(0,10, num= 100) # 100 tiempos entre 0 y 10 s"
   ]
  },
  {
   "cell_type": "markdown",
   "metadata": {},
   "source": [
    "E integramos en los pasos de tiempo de `t_rango`.\n",
    "\n",
    "Referencia: https://docs.scipy.org/doc/scipy-1.1.0/reference/tutorial/integrate.html"
   ]
  },
  {
   "cell_type": "code",
   "execution_count": 16,
   "metadata": {},
   "outputs": [],
   "source": [
    "# biblioteca de cálculo científico: eficientes herramientas de cálculo numérico\n",
    "# Importo la función solve_ivp: resolver un sistema de ODEs con condiciones iniciales\n",
    "# https://docs.scipy.org/doc/scipy/reference/generated/scipy.integrate.solve_ivp.html#scipy.integrate.solve_ivp\n",
    "from scipy.integrate import solve_ivp"
   ]
  },
  {
   "cell_type": "code",
   "execution_count": 17,
   "metadata": {},
   "outputs": [],
   "source": [
    "# Condición inicial\n",
    "x_inicial = [0, 0] # [posicion, velocidad] iniciales"
   ]
  },
  {
   "cell_type": "code",
   "execution_count": 18,
   "metadata": {},
   "outputs": [],
   "source": [
    "# defino una función con el sistema de derivadas\n",
    "# t : no se usa en este sistema pero lo dejamos para uso posterior\n",
    "# x : lista de estado con [x_0, x_1]\n",
    "# constantes : lista de constates, en este caso tendrá g(m1-m2)/(m1+m2)\n",
    "# dx_dt : lista de derivadas\n",
    "def derivadaX(t, x):\n",
    "    velocidad = x[1] # 2.o elemento del vector de estado\n",
    "    aceleracion = x_pp_numpy\n",
    "    dx_dt = [velocidad, aceleracion]\n",
    "    return dx_dt"
   ]
  },
  {
   "cell_type": "code",
   "execution_count": 19,
   "metadata": {},
   "outputs": [],
   "source": [
    "# Integración de a pasos en el tiempo\n",
    "x_ode2 = solve_ivp(derivadaX, (t_rango[0], t_rango[-1] ), x_inicial, t_eval = t_rango)"
   ]
  },
  {
   "cell_type": "code",
   "execution_count": 20,
   "metadata": {},
   "outputs": [
    {
     "data": {
      "text/plain": [
       "  message: 'The solver successfully reached the end of the integration interval.'\n",
       "     nfev: 38\n",
       "     njev: 0\n",
       "      nlu: 0\n",
       "      sol: None\n",
       "   status: 0\n",
       "  success: True\n",
       "        t: array([ 0.        ,  0.1010101 ,  0.2020202 ,  0.3030303 ,  0.4040404 ,\n",
       "        0.50505051,  0.60606061,  0.70707071,  0.80808081,  0.90909091,\n",
       "        1.01010101,  1.11111111,  1.21212121,  1.31313131,  1.41414141,\n",
       "        1.51515152,  1.61616162,  1.71717172,  1.81818182,  1.91919192,\n",
       "        2.02020202,  2.12121212,  2.22222222,  2.32323232,  2.42424242,\n",
       "        2.52525253,  2.62626263,  2.72727273,  2.82828283,  2.92929293,\n",
       "        3.03030303,  3.13131313,  3.23232323,  3.33333333,  3.43434343,\n",
       "        3.53535354,  3.63636364,  3.73737374,  3.83838384,  3.93939394,\n",
       "        4.04040404,  4.14141414,  4.24242424,  4.34343434,  4.44444444,\n",
       "        4.54545455,  4.64646465,  4.74747475,  4.84848485,  4.94949495,\n",
       "        5.05050505,  5.15151515,  5.25252525,  5.35353535,  5.45454545,\n",
       "        5.55555556,  5.65656566,  5.75757576,  5.85858586,  5.95959596,\n",
       "        6.06060606,  6.16161616,  6.26262626,  6.36363636,  6.46464646,\n",
       "        6.56565657,  6.66666667,  6.76767677,  6.86868687,  6.96969697,\n",
       "        7.07070707,  7.17171717,  7.27272727,  7.37373737,  7.47474747,\n",
       "        7.57575758,  7.67676768,  7.77777778,  7.87878788,  7.97979798,\n",
       "        8.08080808,  8.18181818,  8.28282828,  8.38383838,  8.48484848,\n",
       "        8.58585859,  8.68686869,  8.78787879,  8.88888889,  8.98989899,\n",
       "        9.09090909,  9.19191919,  9.29292929,  9.39393939,  9.49494949,\n",
       "        9.5959596 ,  9.6969697 ,  9.7979798 ,  9.8989899 , 10.        ])\n",
       " t_events: None\n",
       "        y: array([[0.00000000e+00, 1.66819712e-02, 6.67278849e-02, 1.50137741e-01,\n",
       "        2.66911540e-01, 4.17049281e-01, 6.00550964e-01, 8.17416590e-01,\n",
       "        1.06764616e+00, 1.35123967e+00, 1.66819712e+00, 2.01851852e+00,\n",
       "        2.40220386e+00, 2.81925314e+00, 3.26966636e+00, 3.75344353e+00,\n",
       "        4.27058463e+00, 4.82108968e+00, 5.40495868e+00, 6.02219161e+00,\n",
       "        6.67278849e+00, 7.35674931e+00, 8.07407407e+00, 8.82476278e+00,\n",
       "        9.60881543e+00, 1.04262320e+01, 1.12770125e+01, 1.21611570e+01,\n",
       "        1.30786654e+01, 1.40295378e+01, 1.50137741e+01, 1.60313743e+01,\n",
       "        1.70823385e+01, 1.81666667e+01, 1.92843587e+01, 2.04354148e+01,\n",
       "        2.16198347e+01, 2.28376186e+01, 2.40887665e+01, 2.53732782e+01,\n",
       "        2.66911540e+01, 2.80423936e+01, 2.94269972e+01, 3.08449648e+01,\n",
       "        3.22962963e+01, 3.37809917e+01, 3.52990511e+01, 3.68504744e+01,\n",
       "        3.84352617e+01, 4.00534129e+01, 4.17049281e+01, 4.33898072e+01,\n",
       "        4.51080502e+01, 4.68596572e+01, 4.86446281e+01, 5.04629630e+01,\n",
       "        5.23146618e+01, 5.41997245e+01, 5.61181512e+01, 5.80699418e+01,\n",
       "        6.00550964e+01, 6.20736149e+01, 6.41254974e+01, 6.62107438e+01,\n",
       "        6.83293541e+01, 7.04813284e+01, 7.26666667e+01, 7.48853688e+01,\n",
       "        7.71374350e+01, 7.94228650e+01, 8.17416590e+01, 8.40938170e+01,\n",
       "        8.64793388e+01, 8.88982247e+01, 9.13504744e+01, 9.38360882e+01,\n",
       "        9.63550658e+01, 9.89074074e+01, 1.01493113e+02, 1.04112182e+02,\n",
       "        1.06764616e+02, 1.09450413e+02, 1.12169575e+02, 1.14922100e+02,\n",
       "        1.17707989e+02, 1.20527242e+02, 1.23379859e+02, 1.26265840e+02,\n",
       "        1.29185185e+02, 1.32137894e+02, 1.35123967e+02, 1.38143404e+02,\n",
       "        1.41196204e+02, 1.44282369e+02, 1.47401898e+02, 1.50554790e+02,\n",
       "        1.53741047e+02, 1.56960667e+02, 1.60213652e+02, 1.63500000e+02],\n",
       "       [0.00000000e+00, 3.30303030e-01, 6.60606061e-01, 9.90909091e-01,\n",
       "        1.32121212e+00, 1.65151515e+00, 1.98181818e+00, 2.31212121e+00,\n",
       "        2.64242424e+00, 2.97272727e+00, 3.30303030e+00, 3.63333333e+00,\n",
       "        3.96363636e+00, 4.29393939e+00, 4.62424242e+00, 4.95454545e+00,\n",
       "        5.28484848e+00, 5.61515152e+00, 5.94545455e+00, 6.27575758e+00,\n",
       "        6.60606061e+00, 6.93636364e+00, 7.26666667e+00, 7.59696970e+00,\n",
       "        7.92727273e+00, 8.25757576e+00, 8.58787879e+00, 8.91818182e+00,\n",
       "        9.24848485e+00, 9.57878788e+00, 9.90909091e+00, 1.02393939e+01,\n",
       "        1.05696970e+01, 1.09000000e+01, 1.12303030e+01, 1.15606061e+01,\n",
       "        1.18909091e+01, 1.22212121e+01, 1.25515152e+01, 1.28818182e+01,\n",
       "        1.32121212e+01, 1.35424242e+01, 1.38727273e+01, 1.42030303e+01,\n",
       "        1.45333333e+01, 1.48636364e+01, 1.51939394e+01, 1.55242424e+01,\n",
       "        1.58545455e+01, 1.61848485e+01, 1.65151515e+01, 1.68454545e+01,\n",
       "        1.71757576e+01, 1.75060606e+01, 1.78363636e+01, 1.81666667e+01,\n",
       "        1.84969697e+01, 1.88272727e+01, 1.91575758e+01, 1.94878788e+01,\n",
       "        1.98181818e+01, 2.01484848e+01, 2.04787879e+01, 2.08090909e+01,\n",
       "        2.11393939e+01, 2.14696970e+01, 2.18000000e+01, 2.21303030e+01,\n",
       "        2.24606061e+01, 2.27909091e+01, 2.31212121e+01, 2.34515152e+01,\n",
       "        2.37818182e+01, 2.41121212e+01, 2.44424242e+01, 2.47727273e+01,\n",
       "        2.51030303e+01, 2.54333333e+01, 2.57636364e+01, 2.60939394e+01,\n",
       "        2.64242424e+01, 2.67545455e+01, 2.70848485e+01, 2.74151515e+01,\n",
       "        2.77454545e+01, 2.80757576e+01, 2.84060606e+01, 2.87363636e+01,\n",
       "        2.90666667e+01, 2.93969697e+01, 2.97272727e+01, 3.00575758e+01,\n",
       "        3.03878788e+01, 3.07181818e+01, 3.10484848e+01, 3.13787879e+01,\n",
       "        3.17090909e+01, 3.20393939e+01, 3.23696970e+01, 3.27000000e+01]])\n",
       " y_events: None"
      ]
     },
     "execution_count": 20,
     "metadata": {},
     "output_type": "execute_result"
    }
   ],
   "source": [
    "x_ode2"
   ]
  },
  {
   "cell_type": "markdown",
   "metadata": {},
   "source": [
    "Aquí se ve que `t_rango` es lo que contiene `xode2.t`.\n",
    "\n",
    "Los resultados de la integracíon están en `x_ode2.y`. Las $x(t)$ en `x_ode2.y[0]` y las $\\dot{x}(t)$ en `x_ode2.y[1]`."
   ]
  },
  {
   "cell_type": "markdown",
   "metadata": {},
   "source": [
    "## Graficación"
   ]
  },
  {
   "cell_type": "code",
   "execution_count": 21,
   "metadata": {},
   "outputs": [],
   "source": [
    "# biblioteca de graficación\n",
    "import matplotlib.pyplot as plt\n",
    "plt.style.use('fivethirtyeight')"
   ]
  },
  {
   "cell_type": "code",
   "execution_count": 25,
   "metadata": {},
   "outputs": [
    {
     "data": {
      "text/plain": [
       "[<matplotlib.lines.Line2D at 0x7f34c2156d68>]"
      ]
     },
     "execution_count": 25,
     "metadata": {},
     "output_type": "execute_result"
    },
    {
     "data": {
      "image/png": "[encoded data removed]",
      "text/plain": [
       "<Figure size 864x288 with 2 Axes>"
      ]
     },
     "metadata": {},
     "output_type": "display_data"
    }
   ],
   "source": [
    "fig, ax = plt.subplots(nrows= 1, ncols= 2, squeeze=False, figsize=(12, 4)) # dos figuras en la misma fila\n",
    "ax[0,0].set(xlabel='t [s]', ylabel='x [m]', title='Posición')\n",
    "ax[0,0].plot(t_rango, x_ode2.y[0]) # fila 0 columna 0\n",
    "ax[0,1].set(xlabel='t [s]', ylabel='$\\dot{x}$ [m/s]', title='Velocidad')\n",
    "ax[0,1].plot(t_rango, x_ode2.y[1]) # fila 0 columna 1"
   ]
  },
  {
   "cell_type": "markdown",
   "metadata": {},
   "source": [
    "### Error del método numérico\n",
    "Comparemos con la solución analítica"
   ]
  },
  {
   "cell_type": "markdown",
   "metadata": {},
   "source": [
    "Defino funciones que calculan la posición y velocidad a partir de la $\\ddot{x}$ despejada de la ecuación de Euler-Lagrange. "
   ]
  },
  {
   "cell_type": "code",
   "execution_count": 23,
   "metadata": {},
   "outputs": [],
   "source": [
    "def xAnalitica(aceleracion_analitica, t):\n",
    "    '''\n",
    "    Posición: Un medio de la aceleración por cuadrado del tiempo\n",
    "    '''\n",
    "    return 0.5* aceleracion_analitica* t**2\n",
    "\n",
    "def vAnalitica(aceleracion_analitica, t):\n",
    "    '''\n",
    "    Velocidad: aceleración por tiempo\n",
    "    '''\n",
    "    return aceleracion_analitica* t"
   ]
  },
  {
   "cell_type": "markdown",
   "metadata": {},
   "source": [
    "Y grafico la solución numérica, la analítica y su diferencia para evaluar el error de la primera."
   ]
  },
  {
   "cell_type": "code",
   "execution_count": 24,
   "metadata": {},
   "outputs": [
    {
     "data": {
      "text/plain": [
       "<matplotlib.legend.Legend at 0x7f34c38515c0>"
      ]
     },
     "execution_count": 24,
     "metadata": {},
     "output_type": "execute_result"
    },
    {
     "data": {
      "image/png": "[encoded data removed]",
      "text/plain": [
       "<Figure size 1296x576 with 6 Axes>"
      ]
     },
     "metadata": {},
     "output_type": "display_data"
    }
   ],
   "source": [
    "fig, ax = plt.subplots(nrows= 3, ncols= 2, figsize=(18, 8), sharex= True) # dos figuras en la misma fila\n",
    "\n",
    "ax[0,0].set(ylabel='x [m]', title='Posición')\n",
    "ax[0,0].plot(t_rango, x_ode2.y[0], label='Numérica') # fila 0 columna 0\n",
    "ax[0,0].legend()\n",
    "\n",
    "ax[1,0].set(ylabel='x [m]')\n",
    "ax[1,0].plot(t_rango, xAnalitica(x_pp_numpy, t_rango), 'r', label='Analítica') # fila 0 columna 0\n",
    "ax[1,0].legend()\n",
    "\n",
    "ax[2,0].set(xlabel='t [s]', ylabel='$\\Delta x$ [m]')\n",
    "ax[2,0].plot(t_rango, x_ode2.y[0] - xAnalitica(x_pp_numpy, t_rango), label='Error') # fila 0 columna 0\n",
    "ax[2,0].legend()\n",
    "\n",
    "ax[0,1].set(ylabel='$\\dot{x}$ [m/s]', title='Velocidad')\n",
    "ax[0,1].plot(t_rango, x_ode2.y[1], label='Numérica') # fila 0 columna 1\n",
    "ax[0,1].legend()\n",
    "\n",
    "ax[1,1].set(ylabel='$\\dot{x}$ [m/s]')\n",
    "ax[1,1].plot(t_rango, vAnalitica(x_pp_numpy, t_rango), 'r', label='Analítica') # fila 0 columna 0\n",
    "ax[1,1].legend()\n",
    "\n",
    "ax[2,1].set(xlabel='t [s]', ylabel='$\\Delta \\dot{x}$[m/s]')\n",
    "ax[2,1].plot(t_rango, x_ode2.y[1]- vAnalitica(x_pp_numpy, t_rango), label='Error') # fila 0 columna 0\n",
    "ax[2,1].legend()"
   ]
  },
  {
   "cell_type": "markdown",
   "metadata": {},
   "source": [
    "El algorítmo de integración mantiene el error dentro de un tolerancia.\n",
    "Este puede ajustarse en la función de intergración numérica.\n",
    "Se impone así una cota al error en la variable principal (posición) modificando paso a paso en el tiempo la predicción que hace de la derivada primera (velocidad).\n",
    "Por eso esta última presenta tantos saltos, pero como vemos son pequeños en magnitud."
   ]
  }
 ],
 "metadata": {
  "kernelspec": {
   "display_name": "Python 3",
   "language": "python",
   "name": "python3"
  },
  "language_info": {
   "codemirror_mode": {
    "name": "ipython",
    "version": 3
   },
   "file_extension": ".py",
   "mimetype": "text/x-python",
   "name": "python",
   "nbconvert_exporter": "python",
   "pygments_lexer": "ipython3",
   "version": "3.7.3"
  }
 },
 "nbformat": 4,
 "nbformat_minor": 4
}
