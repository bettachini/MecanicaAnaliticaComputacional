{
  "cells": [
    {
      "cell_type": "markdown",
      "metadata": {
        "id": "jBD_AL9Ha0ho"
      },
      "source": [
        "# Fuerzas de ligadura | Partícula deslizando sobre una semi-esfera"
      ]
    },
    {
      "cell_type": "markdown",
      "metadata": {
        "id": "9sT3rKXEa0hq"
      },
      "source": [
        "[![DIIT - UNLaM](data:image/png;base64,iVBORw0KGgoAAAANSUhEUgAAAMkAAABTCAYAAAA1OyMgAAAABHNCSVQICAgIfAhkiAAAAAlwSFlzAAAPYQAAD2EBqD+naQAAABl0RVh0U29mdHdhcmUAd3d3Lmlua3NjYXBlLm9yZ5vuPBoAACAASURBVHic7Z15fFxV2fi/z7kzWdpm7ZI0M3eSVvayiGWxoAiC6A9ErMiisggqFdpsRcSFV+PyqiiQrVXhFXgFXF6piiiLLFKgsmlRlrKUQpPMJF0ozUabbe55fn9M2qbNbEmTptR+P5/8Mfc+95znTu4z59xznkWYaJZeOQWbcRToIag5GPRgkACiBSiTgSnAZJB20C2g7wAdKG8ivILwGphXeTtvFTU1doLvZjuzZs0s9Txz3Fi1p6p9Imz1PNni93vrmprWR4DoWLUPEAwGs42xp6Ujm5NT8NdVq1b173LYCYVKzkjn+q1b+5dv2rSpe9vnAw44ILO/f+vpI1B3DyFbZY/3WVPjo7DzRODDoKcCxwH+MWh5M6KPofwN8T1M+Q2vjkGboyYUClykyu3j2EUUeBXkWbAP9vT03zf0oRsNpaVFs6z1vZmO7MCAN2P9+vVvDT1WUlIyyXFkS3q9mSPC4fBL2z6VlZUVe97AupHou4cI+/ZYV0uq52C5CNovASkehx4KUZkPzEc9aKh+GeztOBm/ZOFP1o9DfxONDzgc9HCQy7KzM3tDocAysHUtLetWTrRy+xLjayQ1NT6mtl+AylewelTs4J4avPQwkB/hDXyfhqp7sfpDquqf2UOdTwRZqlwI5sJgMLDMcaJfbW7esHaildoXMOPS6k2X+2movJjCjlWo3AEcNS79pIcPOBsjT9NQtYKG6rMmUJc9ggiftta3KhQKVk60LvsCYz+S1Fd/jD5tBA5IIdkNvAa8jmonYjqBLlS7QfoQnQSaiRhByQctAi0GCYIEQAtGod2JoPfQWHkfUVNOdW1a8+93KdmqWue6gYPC4dZyYK9Z1Hi3MXZGcmN1AB+1oOfGOdsPPA7yKOo9g+e8yuLa1t3vT98LejTIh4CTSfd+VM7A0VNoqPwR2OuoaOzbLV32bq503ZL8cLjtIvYbyqgYmxeExsrzUbkZyN3lzAugS/D1L+PKn7UDsSVfUT+9WZMQMsly3uEdtnD19WmuiiRgycKpeBnnIHwNdFb6F8rLGM5jUe2q3ep/F/bA6tZIuSEcbv1KMoH9q1txCe+ekdxWk0V3x43AFbuciSD8EksP6GGIKQMtA2aS1DClHegAXYvKWtC1GFmL8Dyb8l5Jax+kpiaDwvbLQa4FitK8k62ILKK89rY05VOyFxoJIpzX0tJ6V6Lz+40kLrthJA3lQTD3gBwd52wPkD3qtuPTgeiTKE9heZyOgiepqUm8mbb0yil4mVeDfp1092FUb6O94MvU1Oy6STZiRmAkb4jolxOrxCRgqirTRKQE9H0gxwOZo1BrU39/dM6GDRs2xjs5kUYyZ86cjK6u9pPTu3YHqqZURG9OU/qjI20ftGd0RtJ41SGo91cgNKrrx4a3gT+hehuV9SsSStVXzEXkTpBD0mz3QZz+c1j403d2R7l0jUSEf7e0tMb7oUnI7Nmz8/r7+88T0auBA0emmSwNhyOL4p2ZSCMZLa7rHg72xXRkw+HWUT3vI18Crqs8FvWeYGINBGAqcBkiT9BQ9RL1VRfxu3OdYVKVDSuJmvcBSwFNo93T8TIe4fqrpo2xvmPGm2++2RmJRP5nxoziOapaA3jpX62Xl5UVl42TavskIzOSuspjMfIIMJoHqBN4Cfgrwi9BfgJyHcL1CDfHjrECiDsVSMEchNvZEHiRusqThp1dXNtDRd0iRD9JbOk5FceR4S3nxurCUeiyx1i5cuVAJNL2HVU5j/T9uPzW+q4cT732NdIffpYsPghrVwDT07yiA3gQlftQ+zSV9auRtH7J4aZr8ujtnwd6CsJpwPvS1jM2WtRS3PpVzrtr+C9sXeWRGPkzaY2E8iSZWz7Cgpu3jqB/YHynW/Fw3ZIrQZamKf72jBnFM1euXDkw9OD+6VZ80ruocVEJ6vs7UJZCUoGHULkFif5pzPYfllTPwdMvIVxO2gsC+gCZWRew4LrOYaeWLnbx7MPAQambkb/Qnjc/6SJBHPa0kQDiuoEHgbS8eEX0Iy0tbQ8PPbbfSOKTerrVUJ6J+v5EagP5E4ZjqKj7KJW1vxvTDbpFtauorKvCOIcCv0vvIvkYff1P0rho+J7JwhvDOP4PIbySuhn9OAUd149Q44lAwXw9XWFr2efdc8aKNHaofT8GPSaJwGsgi6io3fGrdNPlk9g66SB8lIFORZkGJuZGotqNYQAkgmffwBddw6Klb6el7aIbmoHzaaheAroEODL5BXoY6ltOfeUHqaxv2enUwp+sp6H8dHD+Tqqpl1BBffVjVNb+MS09J4hwOPxP1w28BByeSlZEPrAHVNonSD78NFZ9EuUPSeSW4vR/DS/rcNSegPBB4GhiD91IhrbVwH0YvY9NBY+ltU+ReCMzHmvwOInquuGbVY1XHYLaJ1P7gkk7nr6P6rqmNPqbiOkWAK4buBb4XhqiA6qSF4lEerYd2D/dik/i6VZdZREqt5L4YV8FzMHL2AD2KYQbgE8CpUmuScRBQBVWHqSwo4X6qu+mXFm6tKaXirorET2P2MpZMg7A4SGWLJw67Ez5Da8i+jlS+jVpAY78ipqa8fGcHiOM0XvTFPU7jk137+g/msT/cDHXp/h1nUPMqXDSGOtUhPBf+PRNGqqvirv3MZTy+rtQeyzQlKLdOVh//Ie8vO5+0G+nVk1PoKDjstRyE4ffP+ll0lwOtnbC97reFcQ3kobqDw3+uo4EJbYP8jPQcoQzMJyA2mNibhTyUdDLgRuBp0j9j8wDvZ71gcdYWp3c7b6y4XUccxKxaVsyPkpBR03cM8VtPwT+nuJ6EH4Yd0TaS1izZk2fCG+kI6uKO9767AsMf3GvqfFBx1LSnjLJy6jeguU3cef8iWgoz0V98xG9FPhQEskT8fR5Gqoup6LuVwmlFt4Ypq7yJIw8BByRWF2+SUPVM1TU7TwtOe8uj9rqi3H0BWByEn2mof4fAAuSyEwoqrwJHJxKTkRGE5PzH8fwkWRq+wXEplIp0H8hejbltYdTWXfjiAwEoKKxi8raX1JRdzLI8Yjel0R6EnAH9VU1aBLjrarfAN6pIMnCVg1wW9zRoLr2TZT/Tqm7chm11bNTyk0c6SaEGGsn1H2SnY2kpsagKdfau1EqKG47lvL6e9LeRU9GRe2zlNefiejZQDiBlCB8m8aqXyZ9T6lofAtrPwkkc1CcjvXH3/sQ70ZgTQqNffj0mhQyE4jsN5IxZGcjKeg8O5ZAISEvYvVYKusa47p87C7l9fcQlfcCyVZoLmJd8KYUI8oLwCUkd2i8hMaqDw87WtHYh8o3U+qqXBILF9gr6UktAiIykFpqPzsbScz1OhEP0uebR1X9a+Oq0eLazZTXnYVSn1BG9As0VN6QtJ2Kuj+g/CSJhKD8jJsuHx5r0p63LI3d+EzwVaSQmRBUNS9N0bSM6T+dHUZSV3kwMC+B3J/ZnH/WbofYpougVNZVgf4gsYxUU1/1xaTteFKT4v3kIPomXTTsaE2NRfVHqRXVC2MLHXsdab2Qq2qq/aX9MNRIDBcnkPk7UTl/LKL1RkxF/TdRuSXheaGBxurEK1mLa3tAy1P08o34D7r9P2KBXcmYSUFnWg6FexKRdEMZtG18Ndk3iBlJTY0BibMvouuxek7sYZsgsrZcATyb4Gw2an/HbTVZCa+vqLsX0WQ+V+9haufw0aSisQ/VNMJv7fBrJxYB0kqEIUJknHXZJ4gZSWHXccTcSYaiYC6JLatOIAtuHsCTz5BwtUoOobs9aRYQrF5Dsug91aviH+d/U+oncjY1NRkp5fYQZWUlB5N2AgzfmGaI2VeJGYnaU4adUf0NFbUP7mmF4lJd+ybo9xMLyNeSrjRVNrwOLEvSwxzqK+YOOxpbJWtKod1kCjuPTyGzx4hGzQfTFA23tLS0j6sy+wjb3kl2MRLtxTNf3ePaJGNzQS2JH9jJ4Hwn6fWqS5KeFyf+O5nw55S6iQ5fSp4gROImB4wnmTh5xn52wlBTk4Fw4k5Hlf/d7QyLY01NTT9KkuAn/WzS5A2V9StAk5Rj0M/EXQ5WeSilbpa9wkgCgcBRpBmZqMrfxlmdfQZDfvtR7OrJa3yJ9ygmEk9uBbrin5QsMm3yJWFMsqjG6fRmHTvsqN9JnYle9LiU3sp7AGP4Lun53HmO46TrUv8fj8EZ5gj37EQXwEnI4toeVH+f8LzqpUmvt/YvSc+LnDjs2BXXb4RUXrWSRWtw14WPPUooFKwAPpGetDzS3Ny8N2ZL3CsxsRJsQ9FkL7gTj8Mfkpw9iNqqsoRnOwpWkjRAK46RxHg+pV4+Tel1O16EQiVnqWoy74KdUOWm8dRnX8Owq0u1ZfmEaJIu1j5OslgUn56a8FxNjUUT7rkAnBD/sKYuhqOpXdPHAZ/rBq5VlbuBdJehV0cikbvHU6l9DTOYyHoQ7aWk7bkJ0yYdKhq7gJcTnldJ8KAPYpKOCtP56RXDXTrEpBH3LSPIZL97HHBAYa7rllzquoFXiMWzpx1SLMK17C/BMCJ87FQuQdaMi3fv2LOaRJlSUkXbxQKSEtOf4QK77B/YSOr3Yd217ERaqFIUCgXTcbsvVNXpIhzS18exjKK2jCqPhMOJs8rvJz4+IGfI53dJjT1Zm9AL3pDcfd1oGJus+sOwGitgnW4kVZ4IyUkukJCZmpYz5WA3o4/eaff77RdGffV/MIadjSTB8urehk2sp6ZIDRRNdY86vKSB0dRBTKKjNZI9wYCqfG7t2nXNE63IuxEfO++RHERD5fCh35ObqK7rGJMeG8pzwaTOlbW54CeJi/aYx4Dr4p/T5J67xr4JvgTXAtYMX+71bBhj4lyjfmDx4IdkcfETiVWVSyORyP0Trci7FR+xwJspg5+PBRm+oWbsvcQSYO8+jj8Pz6aeXkzfuJRETo0VtU8AT4yq/4rGCPC1EV0Tc/Icfs31V00jw9tmJHtjANMW0Asjkdb9q1m7gSG9pAGjeimNi/almaF98pTUMhOMY4d+L3vVVFWEf6vKvHC4bb+B7CaG5AkTBnHGzkg2TU8vScFA/4TuYKeF8XYs+0raGUrGm02gV0+fXnxcJBJJK/3nfpJjQFL/AoqWjFmPsQjHNPqU1GURJhoxQ3Wc6JHkORGp6unpmx0Ot12/a+2R/YweH2gzMDyWYifSrjeYJvI6aPI+heOBO8a23zFnR04AlT25crSJWNqj11RlhYg8Gg6H08rauJ+R40N4LXXmrKRphkaBvkpqwxweCLY3oQhL+PD2787YnbLI5OTk/193d3dyh8oRkpHxjrdmzeZxG7Gamzc0z5o1ozgd2XB446Zdj7W1tW1N9/q1a4dfPxrC4fAr6fY5WnxYeQ1JaSUp612MDH06fkz9TjKH0XjVIXutR3Lj4uPBBrZ/9nQnI1m1alU/sOeTZ+wedu3ajbsVrr27148Cb7z7NIikk0erNG7FqNGiujw9Qe/CMetzzLFDdeunvfBd4q2wn5FiyMn9N2hvSkl1xi51TkXDKhKnMx3SJ1/ipsvHurTD7hOrnTIk3Ff+OdKaivt59+Dj0ppeGiqfYlic+67IacD/jEmvgtIgv4aU+XRn0Jf9RaBhTPodK3xUsrM7z7BQ2Elf/U1JX793VKImPMlYTu15Pf6bn32vQWbGlVHpji44ZoWq5iwPP35Nn+2L64GQk5H7+okl778jt2ZeYWb/QMKkFP026+nOH61o73u07BDHOnFnBqo64D/tzYcB2msOPElF4nsSqLQW1rz2wvOnF03u3yLDy4JvE/N7/zpu+Vvr7ykqneUJCReANgamPbxg5cqBBdOmHWM9iVvhWcW0/2LzhqcBGt9/xf9L2KfxVlc8efMbp8+vmeFEJeG7r1+yVtxzzzXdJ5ww/3CxGtcxVvD1xDxJRR5FUxkJZ7D0yiks/Gka+yppYLgDy1dJ6V4r32LJwl+lXVdxvKmvDIHunMJIZZiRDPQPnGpEEubt8ju9s3thrQhfV/S8eDIGfZlYhv+CZav/+JXVHW8M9ysDzjv4U38A7vBHvfdiJGF2/gzp+SCwwljfAkWr4gqJdLAtA6TILYIkqg1zJ3DRQLfjqvESVwQYcM4Hfhd1zDmQOO1sybru6cAmD/meGD4WVzXs08C83517rrMxkqQKgTXXAv/tRJ0TkuVc66fnKOAFtVIFEtf5U7HhWByC1UcTdriDKdjMNDNxpMGi2lXAA2lITsXzpR11N64oAmYpO/u79ZCb+9REqbSf8SdmJDPbnkJInR0lVQz5iJEfpicml1JffcHY9j0KGivLEf34zgflL1xak/qdbj/vWmJGct5dHiq/TkP+AzQsHrNKsYOOin9KS1b05rgJ5PYU9RWngsQb0fb2Dc/97CY7wj7VSyPvLQL2W2OqgUSrSc+DNgeRv7Bk8Z53V6mrPBYxf2B4HPlbZG5JZ8q4n3cxO4yksuElkJVpXHM2tVXvHTMNypesBU3TdV2KsfaJMR3NUlFfcSpGHiGeJ7TyaxbcvN9Hah9nlyI+Np0XZMFJWhxn5JTXN5LutAtmgH2ChqqRVgceGYrQUH0VYu5n5+XebQxgqRtXHfazV7BzMoGitmWsD6wGUk1pTqOx8kLK6+8cEy0EpZbP4/A4ySrn7mAycCf11R8jw7lqMIHc2LG0+gAadQnoRxPKqN5JdX1TotMDju9+nzeQMHNLb19nG4B49lrPL3GNTWBb7M3bFx76mW/32/j7lZOc7DUA6pN/ipcoLRLY/qyXAHx4dVF14mazVIZ0onquNSZuXUWfOm8BdGdmNE3q35o4Q03UtxpA/fZXEk1cAnxKa0kHrMaorRZ1vhu3KY3Vgjzvrru8JScsSNinD2kBMNb3mCeJ/wd+idXGdDz5gfXbuHVwrJW+4XsUDVWfB25L1PAQNhKVQ1lcuzkN2fRoKA+C8ySMpL64tKP6E3ozlnDNj3cvpqOusgjD1cBCkMQ1T8BD7aGD2er3s48z3EhuutxPX/YLabrH30153afGpALvNhoXzUJ9DwKJNrESIO2I3omnd1BZ/8+0daqp8TGt/RSsXAR8mnQq0qreRmX9ZSPTbz/vVuLvdtdXnIqYh9NqQbmayrok2d5HwdKri/EG7gGGx9unx0bgUZAXEPsaajah3jZPgXyMU4RyKOjRwEnEf+dIgLTjdw4Z8ynefvYIruu+R1UnjSRqM7FLSGPlb1BJZwMvivARyuuWp9tpWjSUZ4JzA7BwTNvdfa6kou5nqYSCweABIvrXwY8dItzR0tI6Zi/6oVDwOmOiP2tqWt80Vm0OJRAIHGQMF4bDrWkv+btu4Gkwi8Lh8D+TyNwqIs+3tETGrHJBMBg8QoQV4XAkZdXhYDDwd8fRq5ub255Mt/0k6TG9q0iaXHo7PpS7WVL1vnQ7TYuKxj4q6hah9swUFXT3JM+yOT+tZNPGRDOA2f390XkiWqnKdYFA4P0A06dPn1JSUuIy+P3Pnj07D3BKS0uHOjqaQCAQLCoqmgEwZ86cjGnTpuWUlZXlBwKBoKq9WNWZDTjBYDA7FArNLisrywIoKiqaXFZWlhUIBIKhUKhgsK2D5s6du73+yqxZM0uLioomA5SVlWWVlJRMCoVCBbNmzSwFxHH0YOCz06ZNy9mmYzAYLIx3r8Fg8MCSkpJJoKUiXhZASUnJtG2674yWAIXBYDA7GAxmFxcXTw8EAtsTCrquW+K6bsn06dOnzJkzJwMgEAhMLSsr2xZYZcrKyvIBX2npzEMBx1r7xqAD7jZ9AoPf6fbvLRgMFpaWls40hm81N7c9tU1uSLs7UVRUNKO4uHg6pHIubKw8F5VkNT2G8hbinDQuQVI3XT6J/klXoVQBcf9RY0iU+ClEu3BkLgtr16TTSChUfJiqs2rGjOKMlStXDrhuYIUI94Jzj7XeMhFWg5aEw23zXDcQUeUlYwiqyqvhcGR+MBh4COgV4VBV+aEx2qHKd1WZJMILwMdUecMYFlnLLcbwhCqnDAx4R2dkODeqcjCIAQ2q8qAIJ4OsCIcjn3XdwG9VmSzC4apyJdjDReRCYANwkqp8VkR/CIRE9E4w/9BYXcke4L5wuPUb2+7TdQNXqfLVmE5ynIg9U5WAiHxNlS0g/wqHI+U75EseEDHPqOpkkJNFtEuVE0XsCWDyVbkbeAUoFOE71spWEf0W0C2iL0ejfN9x5DUR7lXleJAHrdVGY/hXONwqrhv4ATBPlWJj+BGwxVq+J8JkEVmiqtf19PTlZmdn3qJKoYll/Pz50FHedQNfBi4DFZD7kydaLq+/C9WfpvNQANNR729jutG4jQU3b6W87nvgzUK4BkgnUGwkbEXlTkQvAOLHqot+MV0DScAGVSm01qsQ4Y5wuPWTIKWBQGDwvUtu7euLngR69uD04e2iouL5wC3G6IcG25hhrR4TDrd+AnhLxFysqo4IDS0trZcA+Hy+OQCq+lQ4HDkeyAG51RiuAD02EAgcBHwkEmk9S0R+LqKDhY+0LRxuPR30URE9RFUWAC0tLW1fUtVrjOEKY6LzgaumT58+NN3TJcbIfzmO/yzQwedJviGiC42JXgT65aEj2M7oiy0trR8GXrJW3qvKl4DGcLh1HpA/KPNNEf2K43gXqsplxpgMIMsY/6KYN7Yes621wZGxsre3/yxj+JaqlAOIMGNgwJsLZhmA53kGsNbqBaraqDqsUtm3VOULquYLwBWps5HnFlwF+q+UcjFm4vA4Syo/kqb8yKho7KK87sdU1B0CZh7Cf8dCgZNU1k2IvAwsRfTT9GQU43E5KpcD74kjvJTy+t1NNO1XtdFY+/I51w08KMJmny+2muY4tmnDhg0bgXdEbDHoAxs3rr8XOD/2iwYirG5ra9spNtxxMp4Fgq4beAyYpBqTNca0E/tetqpqu7W2CxARmQ1kum7gIVWdD9I32NTgUr50ALtW7XKtNc3NzRvCgJORkTE0e06xqm1qamrqlR1OsrOtlR97nu8XQMuGDRsSLYxs2z7oAmNASlTlTcATiQXlich7VOW70ahzC9CsqlMAfD5fOzgdDHll8Pl8AcCflZXxR1UqQbe5O61ev379Wzu+M8eKsMxxuAPkMtUdM6pgMJgNzBSxS0S0HuhMnZn80ppeGso/MYL9ixys3Et9VTUVdT8d0+XhoVTc+DTwNHAtDeWZqByImENQKURsAZgpwNBfsC7QZoQm1FtNReP2L42fXlFANOuPEK/2oT5AZk/1GGhcaox5WFU7Ve3dkUjbEtd1P+o4faus9WOtk0Ns+usYwzRr5aeepwcbY04X0ZMBrB3+XXrewGKQWeFw5GTXDfw7lRKOY7uslbfC4daPlJYWzVJ1SlQTb0AOstVaO4VYlnIjIluGnOtVNTkAqhRK7HHrEnEWhMMtr4VCgfnhcCSt7J8i2s2g+4+1FBgDoJ2qUhWJRFaGQoH5xpjuRJUjfD5ft7XRaDjcenppaWmx6sDhIHmyyzOYmZk5U5XfiviOAu8w1R1RppFIpM91A30+n148MGA2Amekl76/ojEyuCy8AojzMjYMP8ISGqs+wpKBL4x7wFRFYx/w0uDfyKitei9RloHGG0H+gTNw7u74Z23cuO6cYLDkYOBAY6L3WOubBJwSCARWiNi7wBn0MNBzg8FgCNQzxolYa8XvZ6q1fFxV8hzH+K3d6eHoBztfVSeLiIRCJe9X5T0i8p6EGfcBVd8r4OW7rnusqq2wVluBYf8fx7H91kpRKFRymiqPOw5nhEKBI1VZE4lE2rbJifAscI7rlvjY8b640tromaFQ4DBVfgCkOQrLX4EFrhuYxo7n7B9gPxYKBUpVuTEajZ7o88WfADU3N29w3cDbwWDw/1nrnQImIKLDKqOJSCaoozpQKCJni1AcDAazI5FID2BVWRmNmjOAqDF6ZfrFMB94ZjNnvv/vKBeQflWlQ1Dns5zx/rXc//TelfVEEQqrvohhGXENX1+l33caVQ2jyoGclTVZjBELFBtjPFVZ3NLStnry5CnPGSPvM4ZPqOp3mpvXPZOXl/sVYLkIx4HWNDe3PpSfn+cHPdMYfg5aaK15RkTXd3V1/xMgLy+3U5WDrOUXxuixIqYA9BfGMFVVnxPR1zo7u9/My8vNchzfE8ZEt1grPeFw5JHc3LwXRagCwllZvd/3vEwPdF1XV/dLeXk5GcbIKyIZz4I3A4zPcfw/stZ+EjhQxKvo7Hxn+yg8eXLOU8ZwsipTROSPjmOfNUbvVzXniXCIqlR0dXVt31PKy8udoiqrHIdmEdZ2dna/np+fl6nK8+Fw5O7c3Nx2Y/QNkENFeMzz9BZj5JOgc4yhwufLXG+tJ01NzY/k5OSICFtA/gE4XV3d9+fk5D7tOCwE6fP5+r/heb5e0M6uru5/5OTkCChZWdm/j0YHukXMJ0S4TZVJfv/Asx0dW7YAFBbmPKnKRSIEHEer06nUujN1lccOhogmLgcdn7+BV05FY+IqVXuK2D3UAglqJMpK/M4Ze2rD0HUD60X0opaWttTlsPdhXDdwLejZwP+CfBfMEeFwuC3VdePNyI0EoKH8MHAeYEQ+VgD0o/orlOuoqh/rFarU1FUeicPXUTmfxPf+MD0Zn9ptPzCQuXPn+tJJNxoKBS6yVv4WiURSR4cOMn369CmZmZkZkUhk1L5zRUVFM7Kzs7uamprGPLJy2x7HNlatWuWReoHFCQaDZ4tokao8HIlEEvnGCbHFhShAaWnpTNXo6S0trXcQ54WlrKwsS2Rr3mjzc43OSACWLnax9h6U0Sz5WlT+iHAzxZFHxrUEXU2Nj6ntZxNbDvxQCunb2Zz/pcF8xbuF67ongX0kHG5NsPw5coqKimZkZDj3hsNtx4ZCwWtU7fHhcNunRq9j4EVV+XYkEklW0XjEzJkzJ6Orq6OT2MpTBtAror9vaWkbkzxqoVDg06r8VzjcehRAMBioM0bWJtrFj1UnlqXhcGtoNP2NuO7edhbeGOa2mnl0d9QBJ4WBpAAACf9JREFUC0Z4tUH0HOAc1gfWUV/5W8T8kc15z4zFA8qN1dn4OA30k9BxFho/Rc0QehAtp7w+rrv07lJaWnJ0X5+N+P1mnuPYF3p6dGt2tlPY1NT2aiAQmOrz2RnNzeteCQaDR4rY2T5f9Km1azduCAaD2cbY01TpC4fbHs7M9B2hytxAIPBeEed2a/k9xHapwTvGGP8/oD+/uXndK2VlxWXRqG+u49i1zc2xYrHBYPBAEXtYf7/3VGy52XzGGGkdPHeEMVpqjH9FU1NTR2npzEN7e+3bfr//GGNMc0tLyypAQqHAh62VDGB5JBLpcV23RFXnqeobra2t/4bt2SuzA4HAKcbw+3C4tTD2Pcw81POcQ1X12dbW1shgv8cDBdbaxzMyMqxq/6HWOhtU9XhjzPKWlpb2mNdA9APge3NQj+0ccEBhbl+fPq1qtu9hlZUVl1nrHG6t/AvINsb3xMDAwFkQ20vx+/0fBDZHIpFnB3U40hg9WNU8Fw6H35g7d65/w4YNpwFSVFT00OhHkqE0VH0GuIkROQrGZSvwJOgTCK+gzmqiuprFtYnDe2tqMpjeGSLKHIR5oO8n5hiZXlI74RWQ8ymvHdMyBUNHEtcNvKPKchH1gcwGXQTyq3C4dYbrBr4Jcpgxdomq3Koqfwb9bG9v/8FZWRkPABFVXBEeBckHXaiqDcaYNlV7fG5uwQVdXR2vqPKcCKWA43k633HkOVX9hYh8Acw5qtonon8Q0XtV5RPWMscYlqvKt0WsBXMj6GPACbm5+Ud0dXU8Rez/sQ44o7e3vzg7O3Ohqj0DZJ0qk41xLlb1XlLV20XkYmO4qLm5dXt6paFGUlpacrS1skxEllmrn1flMGP4PHARsQ3cbGtZZAyrgN8DhwCvZWZmX9zX1/MSsAI4WUQrQDIHR5KjXTfwnCrPiOiJwA1+f9YfBgZ6XwV5jFjx2SYR/dm2kcR1g4+D3RTzctcl4LwB9qfAb0UoN8Z/kOf136AqeSLqiBAZ/UgylIq639BQ/gTqqxscIUbLJOA0kNNiq5g25hnWUN0B2o2wBZUhRYC0CDpK8DAjnzhqLyI/Ykr+dXsi24kq37SWXsdhleNkPO55A5ODweB7wL5PVe5T5VJr9ZZIpPUnrhv4aHa2fx5wpLVyA7BGRA+2lqdEuDISaavcVrG3s7PzaBFyI5HWc2MvvszPyGCS5+m38/IK/qezs+ODIt4RwEEgv2tpaasOBgNqjJm1Y/oul4EuDYdbb3DdwNqOjo4TjQERGnJy8v/U1dXxTmZmZrGqXi7CxY4zsCYa9bcZY0qjUc/n82XUWzvwd2tNwmTensfnQe8Kh1u/5rqBk0X0gyLyJWtlgaq+ZAw/s9Y6xhif4/g/73n9nwGu7O/f+kGQzHC49dJgsOSrYC4T0V8BuK47F2xxJNK6IBQKXKKql0WjfW+pSl8k0npBKBS8TlW3B/EFg8EDQT/gOBmTotHoh0V4nzH2VVUqt27teyw7O3OBav9skMNF+JnncZ/PJ6eMjZHAtjJrn6ax6sOoLh3Dcg0CWgAUxAxnLPYm5RHEWbSHk3H3AL0ATU1NvcFg4EljdJ6qzHWcgatUffNF5ATXDZwObFB1+sBWiOhSoMXzqJb4PwQFINtW4TYB+Hy9bZ6XfUx3d8c5IpoHIGKmq9p/AUQirQsAXHd7vu9iVRl8qZWwMbYo9rqqvatWrep33cC2aMUSa+XHqv6twN+6urrenDIl6/88b+BV4JH+/v4ktTClRISjXDcwF+gSYYsqxT6f3dDU1PY2cN6gy4w2NTX1um5JL4C1ZoaIrgcwRtar6naHRGPsDGtZH/ukraoyQ4SpIqyLXWs3yZAvzRg7Q1U2Dy5U3AfcFwqFZlvr1U+alHmFtbGFBRG9VlWWOA6LQL+e2i1lpJTX/Y3MniNBLyFWb31v4u8gn6Ci9rSJzlZvjDysysdV0ebmDWtV2STCTeFw60dAfy3SH1FVJxxudVX1PmP4cYKm2kGnE3uqSwD6+rIuBA5saWk9VVVeAVDVbmAqgOsG/mvQg3YQaQc76Ctls8HZpY79dt4CqZ4xo/gMVX0oMzOzwFpzn9+fWQoyJTPTf2Wi+xXhLeC3g/d3qzGEgU7Pc3KCwWC26wZ+bq0dtm/nONrJdj8uyY/d7za0fds9AdkivE1sY3RGrE/ZqfjU4EiXR2wV7XjXDVwB0a+J8HpLS+uZIrFCTNaavN7e/jmqpl5Vfj72RgKw4OYBKupvZ3P+HGJb/s+PSz/pEQX+BGYeFXUfoKL2zxOoy3ZU5WFgvogMBrfpY6p6bigU+DTIjx1Ht4jwfdctuXjQUzXi8/m2ALhuYLsXblFR0XOqbA2FAn8BPjN4uBekxHVLzmewWKyI3i/Cx4PB4OeAq4zxhiwd693GyKdcN/B5kEB/f/+KBGo/Yoz90ltvbVgsIp92HCdXRG/p7+8/ETTP2sQJDkX4myofDwaD80EaolHjgdwD9isiWg061xgzbJVzy5a+x1XJc93A51XtOaqyPW3plCkF/wQ0GAx+CeTLoHdnZPQ8rsoU1w38CeTsoW1FIpGXgUgoFPyKiH5DhHxV0w8cHgoFLxehyPPMXBFdmJXl/7KIlgEt6e+4j4blyy0PPP0C9z/9c86ctwyVbtADQPZA0VB5GfQGnIxLKL/xF9z/VGT8+9xBYWFhn7X6eldX13N5eTnrMzKy/tHT07PVcXzNXV1dz3V1da3Pzc1bJyLLurq6NnZ1db+Ql5ejIAcbo99salq/Jicn9xEROQEk4jj+7zc1NXXk5ua9IKKetTwhwquO42/u6+tboSovGiNrgPfk5hZc3dfXC4hPxHwbbG843LYs1p8ebi3fbmlZ/1p+fu5bjuOtbGlZ93BOTt4A6CzH0WtaW9e35ebmbfL57L87Ot7pzMvLWZeV1fMPny/6QDTqKwMyjfF9NRwOv5GXl/OGCCeIcF843PpLhsyH8/Pz+0X09c7O7uc7O7tfyc3Ne0dEjxTR74fDrf92XfeRvr7eQmCKtfK1zMzMzaq2qbOza2VeXn6Pqqxev3798/n5k+9TlXki/DUSab09P39SD5jX16x548W8vPx7RPT9IjwVDrf9PDe3SDzPPgbyojHaBkz1PO4QMau7urpeKCiYdI+qOQr0pRkzZi7p6Oh8xhgpVpW1YBpF7FZwbhGRY0VkqzG+b4zN6tZIqKnxUdg5D9VTET4MHE/6bi7JeBuV5aCP4piHWHTj3jbVGxcOOKAwt7c3+3UR7gT9qKqpj0QiY5P9/11IbC/J97KI3Ar6CWvlG7u7D7TnjWRXfvKVyWT0H4WYQ0AOAj0YxAXNA50yOOpMjrlwazfIO6CdwBqU12Ll7OyrtBe+TE1NfPfQfZxQKFRgrT0KaE2yS/0fQ0lJyTQROcLnizY1N2/Y7ajW/w/nBUXweFljBgAAAABJRU5ErkJggg==)](https://ingenieria.unlam.edu.ar/)    \n",
        "[![by-nc-sa_80x15.png](data:image/png;base64,iVBORw0KGgoAAAANSUhEUgAAAFAAAAAPCAMAAABEF7i9AAAABGdBTUEAANbY1E9YMgAAAJZQTFRF////7u7u3d3dys7KzMzMyMzIxsrGxcbFur+6u7u7s7iyq7GqqqqqmZmZlJmTj5CPiIiIh4eHhoaGgICAfYJ9d3d3cnZxZ2tnZmZmW15bVVVVS0xLREREQ0NDQkJCQUJBOz07OTs5MzMzMTMxLjAuJygnJCUjIiIiISEhICAgGRkZERERDxAPDg4ODQ4NDQ0NDQ0MAAAADbeuvgAAAOhJREFUeNqtk+tyAiEMhQ+6XtroutZiveBdu+p2tXn/l3OQy8roL5fMMENC+HIIAI5sYEQ1DSRtP5zZkCpToubf2/oMMC0zX0QdiLqjmsD1sVKd8JSoNa8HvGRIclZCcZ5A7Yiag/s6oJPMYD8FKgIC3wG/+QP5DFIWot+DvBB1OxYAk+W2W88HqqwAOOZE6FuZbfWZZUn02fb1rTAHc3izZgQCrxWqSSFkH/IaKuSHEzEChfyk2PbwmqFX8EQo3jaw2Ac9DIFhD12Tn4CbU+RbTv+HHrj8jfAOacxflrc61/0psf9yZLsBr5WUrhUa3hEAAAAASUVORK5CYII=)](https://creativecommons.org/licenses/by-sa/4.0/deed.es_ES) \n",
        "2021 [Víctor A. Bettachini](mailto:vbettachini@unlam.edu.ar)  \n",
        "\n",
        "---"
      ]
    },
    {
      "cell_type": "markdown",
      "metadata": {
        "id": "b8riZBc5a0hu"
      },
      "source": [
        "[![Open In Colab](https://colab.research.google.com/assets/colab-badge.svg)](https://colab.research.google.com/github/bettachini/UNLaM_MecanicaGeneral/blob/master/06FuerzasLigadura/ligaduraDeslizaSemiEsfera.ipynb)"
      ]
    },
    {
      "cell_type": "markdown",
      "metadata": {
        "id": "E5G4S04Sa0hw"
      },
      "source": [
        "## Enunciado\n",
        "> Classical Dynamics of Particles and Systems  \n",
        "Example 7.10  \n",
        "Stephen T. Thornton y Jerry B. Marion  \n",
        "\n",
        "Una partícula de masa $m$ está inicialmente en reposo en la cúspide de de una semi-esfera suave (sin fricción) fija de radio $R$.\n",
        "Encuentre la fuerza de ligadura, y determine el ángulo en que la partícula abandona la semi-esfera.\n",
        "\n",
        "![](https://github.com/realmariano/UNLaM_MecanicaGeneral/blob/master/07FuerzasLigadura/figuras/deslizaSemiEsfera.png?raw=1)"
      ]
    },
    {
      "cell_type": "markdown",
      "metadata": {
        "id": "-099SULMa0hx"
      },
      "source": [
        "## Resolución simbólica en el formalismo Lagrangiano"
      ]
    },
    {
      "cell_type": "code",
      "execution_count": 1,
      "metadata": {
        "id": "DOnUyDTEa0hy"
      },
      "outputs": [],
      "source": [
        "# módulo de cálculo simbólico\n",
        "import sympy as sym\n",
        "import sympy.physics.mechanics as mech\n",
        "mech.init_vprinting() # notación con puntos para derivadas temporales\n",
        "import warnings\n",
        "warnings.filterwarnings(\"ignore\")"
      ]
    },
    {
      "cell_type": "markdown",
      "metadata": {
        "id": "nNhuArwwa0h0"
      },
      "source": [
        "### Parámetros del sistema"
      ]
    },
    {
      "cell_type": "code",
      "execution_count": 2,
      "metadata": {
        "id": "bMEhM1ala0h0"
      },
      "outputs": [],
      "source": [
        "# parámetros físicos del sistema\n",
        "g, R, m = sym.symbols('g, R, m', positive=True)# Defino coordenadas generalizadas "
      ]
    },
    {
      "cell_type": "markdown",
      "metadata": {
        "id": "iloOVEaOa0h2"
      },
      "source": [
        "### Coordenadas generalizadas"
      ]
    },
    {
      "cell_type": "code",
      "execution_count": 3,
      "metadata": {
        "id": "DBttcBJ8a0iA"
      },
      "outputs": [],
      "source": [
        "# Defino coordenadas generalizadas\n",
        "t = sym.symbols('t') # tiempo\n",
        "theta = sym.Function('theta')(t)\n",
        "rho = sym.Function('rho')(t)"
      ]
    },
    {
      "cell_type": "code",
      "execution_count": 4,
      "metadata": {
        "id": "1xNcX5t8a0iB"
      },
      "outputs": [],
      "source": [
        "# Sistema cartesiano\n",
        "N = sym.physics.vector.ReferenceFrame('N') # marco referencial N en coordenadas cartesianas\n",
        "\n",
        "# posiciones\n",
        "m_r = rho* (sym.sin(theta)* N.x + sym.cos(theta)* N.y)"
      ]
    },
    {
      "cell_type": "markdown",
      "metadata": {
        "id": "gaiNgU6ua0iC"
      },
      "source": [
        "### Restricciones a causa de las ligaduras"
      ]
    },
    {
      "cell_type": "code",
      "execution_count": 5,
      "metadata": {
        "id": "Eh6Xt0Bya0iD",
        "outputId": "9d127b5e-888e-46cc-bf95-3897c1f98c98",
        "colab": {
          "base_uri": "https://localhost:8080/",
          "height": 39
        }
      },
      "outputs": [
        {
          "output_type": "execute_result",
          "data": {
            "text/plain": [
              "f₁(ρ) = -R + ρ"
            ],
            "image/png": "[encoded data removed]",
            "text/latex": "$\\displaystyle \\operatorname{f_{1}}{\\left(\\rho \\right)} = - R + \\rho$"
          },
          "metadata": {},
          "execution_count": 5
        }
      ],
      "source": [
        "# Funciones de restricción fruto de las Ligaduras\n",
        "lambda1 = sym.symbols('lambda_1') # Tantos lambda como funciones de restricción a causa de la ligadura\n",
        "f1 = sym.Eq(sym.Function('f_1')(rho), rho - R)\n",
        "f1"
      ]
    },
    {
      "cell_type": "markdown",
      "metadata": {
        "id": "nDpxVrYIa0iE"
      },
      "source": [
        "### Energía cinética y potencial"
      ]
    },
    {
      "cell_type": "code",
      "execution_count": 6,
      "metadata": {
        "id": "zjK50-6Sa0iE",
        "outputId": "fa44d711-e9d7-458b-ead4-4f7111eb91bb",
        "colab": {
          "base_uri": "https://localhost:8080/",
          "height": 66
        }
      },
      "outputs": [
        {
          "output_type": "execute_result",
          "data": {
            "text/plain": [
              "      ⎛ 2  2    2⎞\n",
              "    m⋅⎝ρ ⋅θ̇  + ρ̇ ⎠\n",
              "T = ──────────────\n",
              "          2       "
            ],
            "image/png": "[encoded data removed]",
            "text/latex": "$\\displaystyle T = \\frac{m \\left(\\rho^{2} \\dot{\\theta}^{2} + \\dot{\\rho}^{2}\\right)}{2}$"
          },
          "metadata": {},
          "execution_count": 6
        }
      ],
      "source": [
        "unMedio = sym.Rational(1,2) # Rational: fracción de enteros, alternativamente podría haberse usado 0.5 \n",
        "m_v = m_r.diff(t,N) # derivada respecto a t en el marco referencial N\n",
        "m_T = unMedio* m* m_v.dot(m_v)\n",
        "T = sym.Eq(sym.Symbol('T'), m_T.simplify() ) # simplify: simplifica usando factor común y otras operaciones\n",
        "T"
      ]
    },
    {
      "cell_type": "code",
      "execution_count": 7,
      "metadata": {
        "id": "z-HeGFIea0iF",
        "outputId": "935ae8d8-da5f-4eb1-a6da-710c041e64f5",
        "colab": {
          "base_uri": "https://localhost:8080/",
          "height": 39
        }
      },
      "outputs": [
        {
          "output_type": "execute_result",
          "data": {
            "text/plain": [
              "V = g⋅m⋅ρ⋅cos(θ)"
            ],
            "image/png": "[encoded data removed]",
            "text/latex": "$\\displaystyle V = g m \\rho \\cos{\\left(\\theta \\right)}$"
          },
          "metadata": {},
          "execution_count": 7
        }
      ],
      "source": [
        "# potencial gravitatoria\n",
        "m_V = - (m* g* (- N.y)).dot(m_r)\n",
        "V = sym.Eq(sym.Symbol('V'), m_V )\n",
        "V"
      ]
    },
    {
      "cell_type": "markdown",
      "metadata": {
        "id": "M58gnb0ja0iG"
      },
      "source": [
        "## Lagrangiano"
      ]
    },
    {
      "cell_type": "code",
      "execution_count": 8,
      "metadata": {
        "id": "SdVU9aWda0iH",
        "outputId": "8f578cd7-fd2c-406c-9ce6-0e33e9efe66c",
        "colab": {
          "base_uri": "https://localhost:8080/",
          "height": 128
        }
      },
      "outputs": [
        {
          "output_type": "execute_result",
          "data": {
            "text/plain": [
              "                                ⎛ 2  2    2⎞\n",
              "                              m⋅⎝ρ ⋅θ̇  + ρ̇ ⎠\n",
              "\\mathcal{L} = -g⋅m⋅ρ⋅cos(θ) + ──────────────\n",
              "                                    2       "
            ],
            "image/png": "[encoded data removed]",
            "text/latex": "$\\displaystyle \\mathcal{L} = - g m \\rho \\cos{\\left(\\theta \\right)} + \\frac{m \\left(\\rho^{2} \\dot{\\theta}^{2} + \\dot{\\rho}^{2}\\right)}{2}$"
          },
          "metadata": {},
          "execution_count": 8
        }
      ],
      "source": [
        "L = sym.Eq(sym.Symbol('\\mathcal{L}'), (T.rhs - V.rhs))\n",
        "L"
      ]
    },
    {
      "cell_type": "markdown",
      "metadata": {
        "id": "NtcUqToMa0iH"
      },
      "source": [
        "## Ecuaciones de Euler-Lagrange\n",
        "\n",
        "$$\n",
        "\\boxed{\n",
        "    \\frac{\\partial}{\\partial q_i} \\mathcal{L}\n",
        "    - \\frac{\\mathrm{d}}{\\mathrm{d}t} \\frac{\\partial}{\\partial \\dot{q}_i} \\mathcal{L}\n",
        "    + \\sum_j \\lambda_j \\frac{\\partial}{\\partial q_i}  f_j\n",
        "    = 0\n",
        "}.\n",
        "$$"
      ]
    },
    {
      "cell_type": "code",
      "execution_count": 9,
      "metadata": {
        "id": "I4hjgmd1a0iI"
      },
      "outputs": [],
      "source": [
        "rho_dq = L.rhs.diff(rho)\n",
        "rho_dtdqp = L.rhs.diff(rho.diff(t) ).diff(t)\n",
        "rho_ligadura = lambda1* f1.rhs.diff(rho)\n",
        "rho_EL_val = rho_dq - rho_dtdqp + rho_ligadura\n",
        "rho_EL = sym.Eq(rho_EL_val.simplify(), 0)\n",
        "\n",
        "theta_dq = L.rhs.diff(theta)\n",
        "theta_dtdqp = L.rhs.diff(theta.diff(t) ).diff(t)\n",
        "theta_ligadura = lambda1* f1.rhs.diff(theta)\n",
        "theta_EL_val = theta_dq - theta_dtdqp + theta_ligadura\n",
        "theta_EL = sym.Eq(theta_EL_val.simplify(), 0)\n",
        "\n",
        "sistemaEcuacionesEL = [rho_EL, theta_EL]"
      ]
    },
    {
      "cell_type": "code",
      "execution_count": 10,
      "metadata": {
        "id": "nIrf0cdza0iJ",
        "outputId": "49b45da9-6397-4e36-afc8-f44bbbfcdb76",
        "colab": {
          "base_uri": "https://localhost:8080/",
          "height": 39
        }
      },
      "outputs": [
        {
          "output_type": "execute_result",
          "data": {
            "text/plain": [
              "                        2          \n",
              "-g⋅m⋅cos(θ) + λ₁ + m⋅ρ⋅θ̇  - m⋅ρ̈ = 0"
            ],
            "image/png": "[encoded data removed]",
            "text/latex": "$\\displaystyle - g m \\cos{\\left(\\theta \\right)} + \\lambda_{1} + m \\rho \\dot{\\theta}^{2} - m \\ddot{\\rho} = 0$"
          },
          "metadata": {},
          "execution_count": 10
        }
      ],
      "source": [
        "sistemaEcuacionesEL[0]"
      ]
    },
    {
      "cell_type": "code",
      "execution_count": 11,
      "metadata": {
        "id": "wBdzvXN3a0iJ",
        "outputId": "143096b6-5c66-4e7d-c612-8ef90aad4acc",
        "colab": {
          "base_uri": "https://localhost:8080/",
          "height": 48
        }
      },
      "outputs": [
        {
          "output_type": "execute_result",
          "data": {
            "text/plain": [
              "m⋅(g⋅sin(θ) - ρ⋅θ̈ - 2⋅ρ̇⋅θ̇)⋅ρ = 0"
            ],
            "image/png": "[encoded data removed]",
            "text/latex": "$\\displaystyle m \\left(g \\sin{\\left(\\theta \\right)} - \\rho \\ddot{\\theta} - 2 \\dot{\\rho} \\dot{\\theta}\\right) \\rho = 0$"
          },
          "metadata": {},
          "execution_count": 11
        }
      ],
      "source": [
        "sistemaEcuacionesEL[1]"
      ]
    },
    {
      "cell_type": "markdown",
      "metadata": {
        "id": "AHywsoqCa0iK"
      },
      "source": [
        "## Fuerza de ligadura\n",
        "\n",
        "Para despejar $\\lambda_1$ se hace uso de la expresión de la restricción de la ligadura, que puede derivarse sucesivamete para disponer de relaciones de velocidad y aceleración."
      ]
    },
    {
      "cell_type": "code",
      "execution_count": 12,
      "metadata": {
        "id": "fxMWqMQGa0iK",
        "outputId": "b7d12604-40fe-48b6-a033-29b187aba645",
        "colab": {
          "base_uri": "https://localhost:8080/",
          "height": 39
        }
      },
      "outputs": [
        {
          "output_type": "execute_result",
          "data": {
            "text/plain": [
              "{ρ: R, ρ̇: 0, ρ̈: 0}"
            ],
            "image/png": "[encoded data removed]",
            "text/latex": "$\\displaystyle \\left\\{ \\rho : R, \\  \\dot{\\rho} : 0, \\  \\ddot{\\rho} : 0\\right\\}$"
          },
          "metadata": {},
          "execution_count": 12
        }
      ],
      "source": [
        "# en un diccionario registramos restricciones sobre rho de la ligadura\n",
        "rho_f1_despeje = list ( sym.solveset(f1.rhs, rho) )[0]\n",
        "rho_f1_restricciones = {\n",
        "    rho : rho_f1_despeje,\n",
        "    rho.diff(t) : rho_f1_despeje.diff(t),\n",
        "    rho.diff(t,2) : rho_f1_despeje.diff(t,2),\n",
        "}\n",
        "rho_f1_restricciones"
      ]
    },
    {
      "cell_type": "markdown",
      "metadata": {
        "id": "4gkH5OJRa0iL"
      },
      "source": [
        "Estos restricciones fruto de la ligadura pueden escribirse como ecuaciones"
      ]
    },
    {
      "cell_type": "code",
      "execution_count": 13,
      "metadata": {
        "id": "na9XBjHRa0iL",
        "outputId": "3faf5c0f-031a-4f0f-aa56-d11693e94ae6",
        "colab": {
          "base_uri": "https://localhost:8080/",
          "height": 39
        }
      },
      "outputs": [
        {
          "output_type": "execute_result",
          "data": {
            "text/plain": [
              "[-R + ρ = 0, ρ̇ = 0, ρ̈ = 0]"
            ],
            "image/png": "[encoded data removed]",
            "text/latex": "$\\displaystyle \\left[ - R + \\rho = 0, \\  \\dot{\\rho} = 0, \\  \\ddot{\\rho} = 0\\right]$"
          },
          "metadata": {},
          "execution_count": 13
        }
      ],
      "source": [
        "f1_condiciones = [ sym.Eq(f1.rhs, 0), sym.Eq(f1.rhs.diff(t), 0), sym.Eq(f1.rhs.diff(t,2), 0) ]\n",
        "f1_condiciones"
      ]
    },
    {
      "cell_type": "markdown",
      "metadata": {
        "id": "K5dbXwjba0iL"
      },
      "source": [
        "Para juntar en un único sistema de ecuaciones la que figuran en `sistemaEcuacionesEL` con aquellas en `f1_condiciones` se _concatenan_ ambas listas. "
      ]
    },
    {
      "cell_type": "code",
      "execution_count": 14,
      "metadata": {
        "id": "_2vKgXZAa0iL",
        "outputId": "88af3865-f870-41c2-c7fb-906dc8aa0d4d",
        "colab": {
          "base_uri": "https://localhost:8080/",
          "height": 48
        }
      },
      "outputs": [
        {
          "output_type": "execute_result",
          "data": {
            "text/plain": [
              "⎡                        2                                                    \n",
              "⎣-g⋅m⋅cos(θ) + λ₁ + m⋅ρ⋅θ̇  - m⋅ρ̈ = 0, m⋅(g⋅sin(θ) - ρ⋅θ̈ - 2⋅ρ̇⋅θ̇)⋅ρ = 0, -\n",
              "\n",
              "                  ⎤\n",
              "R + ρ = 0, ρ̇ = 0, ρ̈ = 0⎦"
            ],
            "image/png": "[encoded data removed]",
            "text/latex": "$\\displaystyle \\left[ - g m \\cos{\\left(\\theta \\right)} + \\lambda_{1} + m \\rho \\dot{\\theta}^{2} - m \\ddot{\\rho} = 0, \\  m \\left(g \\sin{\\left(\\theta \\right)} - \\rho \\ddot{\\theta} - 2 \\dot{\\rho} \\dot{\\theta}\\right) \\rho = 0, \\  - R + \\rho = 0, \\  \\dot{\\rho} = 0, \\  \\ddot{\\rho} = 0\\right]$"
          },
          "metadata": {},
          "execution_count": 14
        }
      ],
      "source": [
        "sistemaEcuaciones = sistemaEcuacionesEL + f1_condiciones # el signo + concatena listas\n",
        "sistemaEcuaciones"
      ]
    },
    {
      "cell_type": "markdown",
      "metadata": {
        "id": "gXMxp2qMa0iM"
      },
      "source": [
        "Con este conjunto es posible despejar las variables"
      ]
    },
    {
      "cell_type": "code",
      "execution_count": 15,
      "metadata": {
        "id": "7-9jWIOya0iM",
        "outputId": "5e43195d-40e4-40d5-e2bb-a7bbc784c035",
        "colab": {
          "base_uri": "https://localhost:8080/",
          "height": 48
        }
      },
      "outputs": [
        {
          "output_type": "execute_result",
          "data": {
            "text/plain": [
              "[ρ̈, θ̈, λ₁]"
            ],
            "image/png": "[encoded data removed]",
            "text/latex": "$\\displaystyle \\left[ \\ddot{\\rho}, \\  \\ddot{\\theta}, \\  \\lambda_{1}\\right]$"
          },
          "metadata": {},
          "execution_count": 15
        }
      ],
      "source": [
        "variblesDespeje = [rho.diff(t,2,), theta.diff(t,2,), lambda1]\n",
        "variblesDespeje"
      ]
    },
    {
      "cell_type": "code",
      "execution_count": 16,
      "metadata": {
        "id": "Kciqw1Cza0iN"
      },
      "outputs": [],
      "source": [
        "variblesDespeje_sol= sym.nonlinsolve(sistemaEcuaciones, variblesDespeje ).args[0]\n",
        "variblesDespeje_sol= [variable.simplify() for variable in variblesDespeje_sol] # simplifica cada solución"
      ]
    },
    {
      "cell_type": "markdown",
      "metadata": {
        "id": "Ozni-7P-a0iN"
      },
      "source": [
        "Y en `variblesDespeje_sol` quedan expresiones simplificadas para cada una de las variables en `variablesDespeje` "
      ]
    },
    {
      "cell_type": "code",
      "execution_count": 17,
      "metadata": {
        "id": "1Ja2fChqa0iO",
        "outputId": "fc2f36ba-84f8-4884-a360-c84dbebce60e",
        "colab": {
          "base_uri": "https://localhost:8080/",
          "height": 37
        }
      },
      "outputs": [
        {
          "output_type": "execute_result",
          "data": {
            "text/plain": [
              "ρ̈ = 0"
            ],
            "image/png": "[encoded data removed]",
            "text/latex": "$\\displaystyle \\ddot{\\rho} = 0$"
          },
          "metadata": {},
          "execution_count": 17
        }
      ],
      "source": [
        "sym.Eq(variblesDespeje[0], variblesDespeje_sol[0] )"
      ]
    },
    {
      "cell_type": "code",
      "execution_count": 18,
      "metadata": {
        "id": "sbn-sHgqa0iO",
        "outputId": "6b93a720-2a3b-4c6f-9a8e-684713c82c8d",
        "colab": {
          "base_uri": "https://localhost:8080/",
          "height": 59
        }
      },
      "outputs": [
        {
          "output_type": "execute_result",
          "data": {
            "text/plain": [
              "    g⋅sin(θ) - 2⋅ρ̇⋅θ̇\n",
              "θ̈ = ────────────────\n",
              "           ρ        "
            ],
            "image/png": "[encoded data removed]",
            "text/latex": "$\\displaystyle \\ddot{\\theta} = \\frac{g \\sin{\\left(\\theta \\right)} - 2 \\dot{\\rho} \\dot{\\theta}}{\\rho}$"
          },
          "metadata": {},
          "execution_count": 18
        }
      ],
      "source": [
        "sym.Eq(variblesDespeje[1], variblesDespeje_sol[1] )"
      ]
    },
    {
      "cell_type": "code",
      "execution_count": 19,
      "metadata": {
        "id": "U-dBHN69a0iP",
        "outputId": "74213374-ac17-499e-e27d-743a5bbf8053",
        "colab": {
          "base_uri": "https://localhost:8080/",
          "height": 48
        }
      },
      "outputs": [
        {
          "output_type": "execute_result",
          "data": {
            "text/plain": [
              "       ⎛              2⎞\n",
              "λ₁ = m⋅⎝g⋅cos(θ) - ρ⋅θ̇ ⎠"
            ],
            "image/png": "[encoded data removed]",
            "text/latex": "$\\displaystyle \\lambda_{1} = m \\left(g \\cos{\\left(\\theta \\right)} - \\rho \\dot{\\theta}^{2}\\right)$"
          },
          "metadata": {},
          "execution_count": 19
        }
      ],
      "source": [
        "sym.Eq(variblesDespeje[2], variblesDespeje_sol[2] )"
      ]
    },
    {
      "cell_type": "markdown",
      "metadata": {
        "id": "xbbVZm6za0iP"
      },
      "source": [
        "Como la fuerza de ligadura se presenta cuando está en contacto con la semi-esfera "
      ]
    },
    {
      "cell_type": "code",
      "execution_count": 20,
      "metadata": {
        "id": "wJfcA_SXa0iQ",
        "outputId": "0c9fafc0-5abb-489e-d3ac-d92ef66860af",
        "colab": {
          "base_uri": "https://localhost:8080/",
          "height": 39
        }
      },
      "outputs": [
        {
          "output_type": "execute_result",
          "data": {
            "text/plain": [
              "ρ = R"
            ],
            "image/png": "[encoded data removed]",
            "text/latex": "$\\displaystyle \\rho = R$"
          },
          "metadata": {},
          "execution_count": 20
        }
      ],
      "source": [
        "f1_despejeRho = list ( sym.solveset(f1.rhs, rho) )[0] \n",
        "sym.Eq( rho, f1_despejeRho )"
      ]
    },
    {
      "cell_type": "markdown",
      "metadata": {
        "id": "iVjwhBV3a0iQ"
      },
      "source": [
        "Así la fuerza de ligadura es"
      ]
    },
    {
      "cell_type": "code",
      "execution_count": 21,
      "metadata": {
        "id": "T-9TCtTea0iQ",
        "outputId": "c6279688-865f-4a79-a846-a689e6c7b92b",
        "colab": {
          "base_uri": "https://localhost:8080/",
          "height": 48
        }
      },
      "outputs": [
        {
          "output_type": "execute_result",
          "data": {
            "text/plain": [
              "                                ⎛     2           ⎞\n",
              "F_{\\rho}__\\mathrm{ligadura} = m⋅⎝- R⋅θ̇  + g⋅cos(θ)⎠"
            ],
            "image/png": "[encoded data removed]",
            "text/latex": "$\\displaystyle F^\\mathrm{ligadura}_{\\rho} = m \\left(- R \\dot{\\theta}^{2} + g \\cos{\\left(\\theta \\right)}\\right)$"
          },
          "metadata": {},
          "execution_count": 21
        }
      ],
      "source": [
        "lambda1_subs = variblesDespeje_sol[2].subs(rho_f1_restricciones)\n",
        "rho_ligadura_subs = lambda1_subs* f1.rhs.diff(rho)\n",
        "rho_ligadura = sym.Eq( sym.Symbol('F^\\mathrm{ligadura}_{\\\\rho}'), rho_ligadura_subs )\n",
        "rho_ligadura"
      ]
    },
    {
      "cell_type": "markdown",
      "metadata": {
        "id": "5RAbP_hsa0iS"
      },
      "source": [
        "## Ángulo de despegue"
      ]
    },
    {
      "cell_type": "markdown",
      "metadata": {
        "id": "4I7OM5xqa0iS"
      },
      "source": [
        "Al anularse $F^\\mathrm{ligadura}_{\\rho}$, es decir, desaparezca la fuerza normal a la superficie, la partícula se despega de esta.\n",
        "Para obtener $\\theta^\\mathrm{despegue}$ primero debe hallarse$\\dot{\\theta} = \\dot{\\theta}(\\theta)$."
      ]
    },
    {
      "cell_type": "markdown",
      "metadata": {
        "id": "3wfNkCc0a0iS"
      },
      "source": [
        "En la expresión para $\\ddot{\\theta}$"
      ]
    },
    {
      "cell_type": "code",
      "execution_count": 22,
      "metadata": {
        "id": "8Lu4Ykuja0iT",
        "outputId": "73dc3a0e-572f-46a6-e8d2-46c65701b925",
        "colab": {
          "base_uri": "https://localhost:8080/",
          "height": 59
        }
      },
      "outputs": [
        {
          "output_type": "execute_result",
          "data": {
            "text/plain": [
              "    g⋅sin(θ) - 2⋅ρ̇⋅θ̇\n",
              "θ̈ = ────────────────\n",
              "           ρ        "
            ],
            "image/png": "[encoded data removed]",
            "text/latex": "$\\displaystyle \\ddot{\\theta} = \\frac{g \\sin{\\left(\\theta \\right)} - 2 \\dot{\\rho} \\dot{\\theta}}{\\rho}$"
          },
          "metadata": {},
          "execution_count": 22
        }
      ],
      "source": [
        "sym.Eq(variblesDespeje[1], variblesDespeje_sol[1] )"
      ]
    },
    {
      "cell_type": "markdown",
      "metadata": {
        "id": "TJ52xrVva0iT"
      },
      "source": [
        "se substituyen las restricciones que impone la ligadura.  "
      ]
    },
    {
      "cell_type": "code",
      "execution_count": 23,
      "metadata": {
        "id": "bA465TEma0iT",
        "outputId": "f5a81c19-21f4-468f-dbea-cc7450514b0d",
        "colab": {
          "base_uri": "https://localhost:8080/",
          "height": 53
        }
      },
      "outputs": [
        {
          "output_type": "execute_result",
          "data": {
            "text/plain": [
              "    g⋅sin(θ)\n",
              "θ̈ = ────────\n",
              "       R    "
            ],
            "image/png": "[encoded data removed]",
            "text/latex": "$\\displaystyle \\ddot{\\theta} = \\frac{g \\sin{\\left(\\theta \\right)}}{R}$"
          },
          "metadata": {},
          "execution_count": 23
        }
      ],
      "source": [
        "theta_pp_subs = variblesDespeje_sol[1].subs(rho_f1_restricciones)\n",
        "sym.Eq(variblesDespeje[1], theta_pp_subs )"
      ]
    },
    {
      "cell_type": "markdown",
      "metadata": {
        "id": "btO6xkrxa0iU"
      },
      "source": [
        "Esta expresión es integrable para el recorrido que hace la partícula.\n",
        "Previo a integrar se aprovecha que\n",
        "$$\n",
        "\\ddot{\\theta} \n",
        "= \\frac{d}{d t} \\frac{d \\theta}{d t} \n",
        "= \\frac{d}{d t} \\frac{d \\dot{\\theta}}{d t} \n",
        "= \\frac{d \\dot{\\theta}}{d \\theta} \\frac{d \\theta}{d t}\n",
        "= \\dot{\\theta} \\frac{d \\dot{\\theta}}{d \\theta}\n",
        "$$\n",
        "\n",
        "Como la partícula parte de $\\theta(t=0) = 0$ con $\\dot{\\theta}(t=0) = 0$.\n",
        "$$\n",
        "\\begin{aligned}\n",
        "\\int_0^{\\dot{\\theta}_\\mathrm{despegue}} \\dot{\\theta} d \\dot{\\theta}\n",
        "&= \\int_0^{\\theta_\\mathrm{despegue}} \\frac{g}{R} \\sin{\\theta} d \\theta\\\\\n",
        "\\frac{\\dot{\\theta}^2}{2} \\bigg|_0^{\\dot{\\theta}_\\mathrm{despegue}}\n",
        "&= \\frac{g}{R} (-\\cos{\\theta}) \\bigg|_0^{\\theta_\\mathrm{despegue}}\\\\\n",
        "\\frac{\\dot{\\theta}_\\mathrm{despegue}^2}{2}\n",
        "&= \\frac{g}{R} (-\\cos{\\theta_\\mathrm{despegue}} + 1)\\\\\n",
        "\\end{aligned}\n",
        "$$"
      ]
    },
    {
      "cell_type": "markdown",
      "metadata": {
        "id": "_yCJZNFsa0iU"
      },
      "source": [
        "Se substituye el $\\dot{\\theta}^2$ en la expresión de \\\\(F^\\mathrm{ligadura}_{\\rho}\\\\).\n",
        "En el momento de _despegue_ esta fuerza debe sere igual a cero."
      ]
    },
    {
      "cell_type": "code",
      "execution_count": 24,
      "metadata": {
        "id": "lXDAbifqa0iV",
        "outputId": "b2d3fc69-02a3-45d0-b13d-701aa3188aad",
        "colab": {
          "base_uri": "https://localhost:8080/",
          "height": 39
        }
      },
      "outputs": [
        {
          "output_type": "execute_result",
          "data": {
            "text/plain": [
              "g⋅m⋅(3⋅cos(θ) - 2) = 0"
            ],
            "image/png": "[encoded data removed]",
            "text/latex": "$\\displaystyle g m \\left(3 \\cos{\\left(\\theta \\right)} - 2\\right) = 0$"
          },
          "metadata": {},
          "execution_count": 24
        }
      ],
      "source": [
        "rho_ligadura_despegue = rho_ligadura_subs.subs(theta.diff(t)**2, (2*g/R)* (-sym.cos(theta)+1 ) ).simplify()\n",
        "sym.Eq(rho_ligadura_despegue, 0)"
      ]
    },
    {
      "cell_type": "code",
      "execution_count": 25,
      "metadata": {
        "id": "aK7CDy1-a0iV",
        "outputId": "5917d865-d1ec-46cd-e8e9-309a243b216d",
        "colab": {
          "base_uri": "https://localhost:8080/",
          "height": 58
        }
      },
      "outputs": [
        {
          "output_type": "execute_result",
          "data": {
            "text/plain": [
              "[-acos(2/3) + 2⋅π, acos(2/3)]"
            ],
            "image/png": "[encoded data removed]",
            "text/latex": "$\\displaystyle \\left[ - \\operatorname{acos}{\\left(\\frac{2}{3} \\right)} + 2 \\pi, \\  \\operatorname{acos}{\\left(\\frac{2}{3} \\right)}\\right]$"
          },
          "metadata": {},
          "execution_count": 25
        }
      ],
      "source": [
        "theta_despegue = sym.solve(sym.Eq(rho_ligadura_despegue, 0), theta)\n",
        "theta_despegue"
      ]
    },
    {
      "cell_type": "markdown",
      "metadata": {
        "id": "W3fefRnfa0iW"
      },
      "source": [
        "Tomando la 2.a solución (la otra es que caiga del otro lado de la semi-esfera) y expresandola en grados resulta"
      ]
    },
    {
      "cell_type": "code",
      "execution_count": 26,
      "metadata": {
        "id": "OYvvzkKMa0iX",
        "outputId": "712c39e1-5bc6-4250-ef1e-534132a7ec14",
        "colab": {
          "base_uri": "https://localhost:8080/",
          "height": 37
        }
      },
      "outputs": [
        {
          "output_type": "execute_result",
          "data": {
            "text/plain": [
              "(0.84106867056793, 48.1896851042214)"
            ],
            "image/png": "[encoded data removed]",
            "text/latex": "$\\displaystyle \\left( 0.84106867056793, \\  48.1896851042214\\right)$"
          },
          "metadata": {},
          "execution_count": 26
        }
      ],
      "source": [
        "theta_despegue[1].n(), (theta_despegue[1]* 180/ sym.pi ).n()"
      ]
    },
    {
      "cell_type": "markdown",
      "metadata": {
        "id": "B5wPWVmha0iX"
      },
      "source": [
        "## Graficando la fuerza de ligadura"
      ]
    },
    {
      "cell_type": "code",
      "execution_count": 27,
      "metadata": {
        "id": "fZ8IeJrna0iY",
        "outputId": "e490845d-3443-4acd-917d-f79bc7fe769d",
        "colab": {
          "base_uri": "https://localhost:8080/",
          "height": 48
        }
      },
      "outputs": [
        {
          "output_type": "execute_result",
          "data": {
            "text/plain": [
              "                                ⎛     2           ⎞\n",
              "F_{\\rho}__\\mathrm{ligadura} = m⋅⎝- R⋅θ̇  + g⋅cos(θ)⎠"
            ],
            "image/png": "[encoded data removed]",
            "text/latex": "$\\displaystyle F^\\mathrm{ligadura}_{\\rho} = m \\left(- R \\dot{\\theta}^{2} + g \\cos{\\left(\\theta \\right)}\\right)$"
          },
          "metadata": {},
          "execution_count": 27
        }
      ],
      "source": [
        "rho_ligadura"
      ]
    },
    {
      "cell_type": "markdown",
      "metadata": {
        "id": "V888F9kaa0iY"
      },
      "source": [
        "Obtendremos soluciones numéricas para las variables $\\theta(t)$ y $\\dot{\\theta}(t)$.\n",
        "Por tanto el vector de estado que nos interesa actualizar es"
      ]
    },
    {
      "cell_type": "code",
      "execution_count": 28,
      "metadata": {
        "id": "KbNsBiiua0iZ",
        "outputId": "cfe68b22-e96d-417a-d4ca-08b8acee8a07",
        "colab": {
          "base_uri": "https://localhost:8080/",
          "height": 48
        }
      },
      "outputs": [
        {
          "output_type": "execute_result",
          "data": {
            "text/plain": [
              "[θ, θ̇]"
            ],
            "image/png": "[encoded data removed]",
            "text/latex": "$\\displaystyle \\left[ \\theta, \\  \\dot{\\theta}\\right]$"
          },
          "metadata": {},
          "execution_count": 28
        }
      ],
      "source": [
        "y= [theta, theta.diff(t)]\n",
        "y"
      ]
    },
    {
      "cell_type": "markdown",
      "metadata": {
        "id": "-QBKkODKa0iZ"
      },
      "source": [
        "Ya se resolvió el sistema para $\\ddot{\\theta}$ en el que substituimos las condiciones de ligadura"
      ]
    },
    {
      "cell_type": "code",
      "execution_count": 29,
      "metadata": {
        "id": "QQIUgnI8a0iZ",
        "outputId": "d09e3c0d-4816-4006-bfb8-18d5a7957847",
        "colab": {
          "base_uri": "https://localhost:8080/",
          "height": 53
        }
      },
      "outputs": [
        {
          "output_type": "execute_result",
          "data": {
            "text/plain": [
              "    g⋅sin(θ)\n",
              "θ̈ = ────────\n",
              "       R    "
            ],
            "image/png": "[encoded data removed]",
            "text/latex": "$\\displaystyle \\ddot{\\theta} = \\frac{g \\sin{\\left(\\theta \\right)}}{R}$"
          },
          "metadata": {},
          "execution_count": 29
        }
      ],
      "source": [
        "theta_pp = sym.Eq(variblesDespeje[1], variblesDespeje_sol[1].subs(rho_f1_restricciones) )\n",
        "theta_pp"
      ]
    },
    {
      "cell_type": "markdown",
      "metadata": {
        "id": "EJ2ajUYka0ia"
      },
      "source": [
        "Resto dar establecer las magnitudes de los parámetros físicos del problema y convertir la expresión en una que procese `numpy`"
      ]
    },
    {
      "cell_type": "code",
      "execution_count": 30,
      "metadata": {
        "id": "yAxYAIbWa0ia"
      },
      "outputs": [],
      "source": [
        "import numpy as np  # biblioteca de cálculo numérico general"
      ]
    },
    {
      "cell_type": "code",
      "execution_count": 31,
      "metadata": {
        "id": "2Mef0N_ya0ia"
      },
      "outputs": [],
      "source": [
        "magnitudes = {\n",
        "    g : 9.81 , # [m s-2]\n",
        "    R : 1 , # [m] radio de la semi-esfera\n",
        "    m : 1 , # [kg] no es necesaria para la dinámica pero si para la fuerza de ligadura\n",
        "}\n",
        "theta_pp_numpy = sym.lambdify(y, theta_pp.subs(magnitudes).rhs )"
      ]
    },
    {
      "cell_type": "markdown",
      "metadata": {
        "id": "sn9BsSxQa0ib"
      },
      "source": [
        "Las condiciones iniciales son las del enunciado: la partícula parte del reposo en al cúspide de la semi-esfera.\n",
        "\n",
        "Pero si efectivamente está ahí en reposo no hay razón para que salga de tal estado.\n",
        "Así que cambio ligeramente la condición inicial poniendola en un $\\theta(0) = 0.1^{\\circ}$"
      ]
    },
    {
      "cell_type": "code",
      "execution_count": 32,
      "metadata": {
        "id": "PvA_2-ufa0ib"
      },
      "outputs": [],
      "source": [
        "y_inicial = [0, 0.1* np.pi/180]"
      ]
    },
    {
      "cell_type": "markdown",
      "metadata": {
        "id": "syGaeloAa0ib"
      },
      "source": [
        "Se simularán los primeros 2,6 segundos.\n",
        "Poco antes de ese tiempo se despega de la semi-esfera."
      ]
    },
    {
      "cell_type": "code",
      "execution_count": 33,
      "metadata": {
        "id": "w0AL41tda0ib"
      },
      "outputs": [],
      "source": [
        "t_rango = np.linspace(0, 2.6, 100) # tiempos inicial,final y cuantos tiempos intermedios equiespaciados"
      ]
    },
    {
      "cell_type": "markdown",
      "metadata": {
        "id": "7P5l3-tWa0ic"
      },
      "source": [
        "Integramos en los pasos de tiempo de `t_rango`."
      ]
    },
    {
      "cell_type": "code",
      "execution_count": 34,
      "metadata": {
        "id": "9AjUA4t8a0ic"
      },
      "outputs": [],
      "source": [
        "# biblioteca de cálculo científico: eficientes herramientas de cálculo numérico\n",
        "# Importo la función solve_ivp: resolver un sistema de ODEs con condiciones iniciales\n",
        "# https://docs.scipy.org/doc/scipy/reference/generated/scipy.integrate.solve_ivp.html#scipy.integrate.solve_ivp\n",
        "from scipy.integrate import solve_ivp"
      ]
    },
    {
      "cell_type": "code",
      "execution_count": 35,
      "metadata": {
        "id": "1YD6FzRqa0ic"
      },
      "outputs": [],
      "source": [
        "# defino una función con el sistema de derivadas\n",
        "# t : no se usa en este sistema pero lo dejamos para uso posterior\n",
        "# y : lista de estado con [y[0], y[1]]\n",
        "# y[0]: theta\n",
        "# y[1]: theta punto\n",
        "# dydt : lista de derivadas\n",
        "def y_punto(t, y):\n",
        "    dydt = [y[1],\n",
        "            theta_pp_numpy(y[0], y[1] )\n",
        "           ]\n",
        "    return dydt"
      ]
    },
    {
      "cell_type": "code",
      "execution_count": 36,
      "metadata": {
        "id": "nl1T8x-Oa0id"
      },
      "outputs": [],
      "source": [
        "# Integración de a pasos en el tiempo\n",
        "y_ode2 = solve_ivp(y_punto, \n",
        "                   (t_rango[0], t_rango[-1] ), \n",
        "                   y_inicial, t_eval = t_rango,\n",
        "                  )"
      ]
    },
    {
      "cell_type": "markdown",
      "metadata": {
        "id": "cScGFpk0a0id"
      },
      "source": [
        "En `y_ode2` se almacenan los resultados:\n",
        "- `y_ode2.y[0]` está $\\theta(t)$ en radianes\n",
        "- `y_ode2.y[1]` $\\dot{\\theta}$ en radianes por segundo\n",
        "- `y_ode2.t` los tiempos que corresponden a los elementos anteriores"
      ]
    },
    {
      "cell_type": "code",
      "execution_count": 37,
      "metadata": {
        "id": "RLEmU8JAa0id"
      },
      "outputs": [],
      "source": [
        "# biblioteca de graficación\n",
        "import matplotlib.pyplot as plt\n",
        "plt.style.use('fivethirtyeight')"
      ]
    },
    {
      "cell_type": "code",
      "execution_count": 42,
      "metadata": {
        "id": "0IeycP6Ja0ie",
        "outputId": "e64c2a4d-311b-4ec0-e59f-99bae661afa0",
        "colab": {
          "base_uri": "https://localhost:8080/",
          "height": 384
        }
      },
      "outputs": [
        {
          "output_type": "execute_result",
          "data": {
            "text/plain": [
              "[Text(0, 0.5, '$\\\\dot{\\\\theta}$ [$^\\\\circ$/s]'),\n",
              " Text(0.5, 0, 't [s]'),\n",
              " Text(0.5, 1.0, 'Velocidad')]"
            ]
          },
          "metadata": {},
          "execution_count": 42
        },
        {
          "output_type": "display_data",
          "data": {
            "text/plain": [
              "<Figure size 864x288 with 2 Axes>"
            ],
            "image/png": "[encoded data removed]"
          },
          "metadata": {}
        }
      ],
      "source": [
        "solucion = y_ode2\n",
        "nombreCoordenada = '\\\\theta'\n",
        "\n",
        "fig, ax = plt.subplots(nrows= 1, ncols= 2, squeeze=False, figsize=(12, 4)) # dos figuras en la misma fila\n",
        "fig.suptitle('Integración numérica para $'+ nombreCoordenada + '$', fontsize=16)\n",
        "ax[0,0].plot(solucion.t, solucion.y[0]* 180/np.pi) # posición phi\n",
        "ax[0,0].set(xlabel='t [s]', ylabel= '$' + nombreCoordenada+ '$ [$^\\circ$]', title='Posición')\n",
        "ax[0,1].plot(solucion.t, solucion.y[1]* 180/np.pi) # velocidad phi\n",
        "ax[0,1].set(xlabel='t [s]', ylabel='$\\dot{' + nombreCoordenada+ '}$ [$^\\circ$/s]', title='Velocidad')"
      ]
    },
    {
      "cell_type": "markdown",
      "metadata": {
        "id": "C9z_cDSNa0ie"
      },
      "source": [
        "Hay que obtener \\\\(F^\\mathrm{ligadura}_{\\rho}\\\\) en esos tiempos primero la convertimos en una expresión para `numpy` contemplando los parámetros físicos.\n",
        "Luego se usan los $\\theta(t)$ y $\\dot{\\theta}(t)$ en esos tiempos para calcular un vector que graficaremos contra el vector de tiempos. "
      ]
    },
    {
      "cell_type": "code",
      "execution_count": 39,
      "metadata": {
        "id": "gqusZrnAa0if"
      },
      "outputs": [],
      "source": [
        "rho_ligadura_numpy = sym.lambdify(y, rho_ligadura.rhs.subs(magnitudes) )\n",
        "rho_ligadura_t = rho_ligadura_numpy(y_ode2.y[0], y_ode2.y[1])"
      ]
    },
    {
      "cell_type": "code",
      "execution_count": 40,
      "metadata": {
        "id": "kSev9oTfa0if",
        "outputId": "ac6b065a-d404-4410-d3f7-3008091a230d",
        "colab": {
          "base_uri": "https://localhost:8080/",
          "height": 321
        }
      },
      "outputs": [
        {
          "output_type": "execute_result",
          "data": {
            "text/plain": [
              "[Text(0, 0.5, '$F^\\\\mathrm{ligadura}_{\\\\rho}$ [N]'), Text(0.5, 0, 't [s]')]"
            ]
          },
          "metadata": {},
          "execution_count": 40
        },
        {
          "output_type": "display_data",
          "data": {
            "text/plain": [
              "<Figure size 864x288 with 1 Axes>"
            ],
            "image/png": "[encoded data removed]"
          },
          "metadata": {}
        }
      ],
      "source": [
        "fig, ax = plt.subplots(nrows= 1, ncols= 1, figsize=(12, 4)) # dos figuras en la misma fila\n",
        "ax.plot(y_ode2.t, rho_ligadura_t)\n",
        "ax.set(xlabel = 't [s]', ylabel= '$F^\\mathrm{ligadura}_{\\\\rho}$ [N]')"
      ]
    },
    {
      "cell_type": "markdown",
      "metadata": {
        "id": "LDQPu6SQa0if"
      },
      "source": [
        "Aquí se ve como \\\\(F^\\mathrm{ligadura}_{\\rho}\\\\) fue casi todo el tiempo la contrapartida del peso hasta llegar a despegarse \\\\(F^\\mathrm{ligadura}_{\\rho}(\\theta^\\mathrm{despegue}) = 0\\\\).\n",
        "\n",
        "De hecho es mucho más interesante graficar esto mismo  en función de $\\theta$."
      ]
    },
    {
      "cell_type": "code",
      "execution_count": 41,
      "metadata": {
        "id": "n2M10aORa0ig",
        "outputId": "b3516418-ead0-4add-a158-a99b40009aa1",
        "colab": {
          "base_uri": "https://localhost:8080/",
          "height": 340
        }
      },
      "outputs": [
        {
          "output_type": "execute_result",
          "data": {
            "text/plain": [
              "[Text(0, 0.5, '$F^\\\\mathrm{ligadura}_{\\\\rho}$ [N]'),\n",
              " Text(0.5, 0, '$\\\\theta$ [$^\\\\circ$]')]"
            ]
          },
          "metadata": {},
          "execution_count": 41
        },
        {
          "output_type": "display_data",
          "data": {
            "text/plain": [
              "<Figure size 864x288 with 1 Axes>"
            ],
            "image/png": "[encoded data removed]"
          },
          "metadata": {}
        }
      ],
      "source": [
        "fig, ax = plt.subplots(nrows= 1, ncols= 1, figsize=(12, 4)) # dos figuras en la misma fila\n",
        "ax.plot(y_ode2.y[0]* 180/np.pi, rho_ligadura_t)\n",
        "ax.set(xlabel = '$\\\\theta$ [$^\\circ$]', ylabel= '$F^\\mathrm{ligadura}_{\\\\rho}$ [N]')"
      ]
    },
    {
      "cell_type": "markdown",
      "metadata": {
        "id": "jnMPYS1wa0ig"
      },
      "source": [
        "Donde se evidencia que la fuerza se hace nula para los $\\sim 48^\\circ$ anteriormente calculados."
      ]
    },
    {
      "cell_type": "code",
      "execution_count": 41,
      "metadata": {
        "id": "pQdJtUwha0ig"
      },
      "outputs": [],
      "source": [
        ""
      ]
    }
  ],
  "metadata": {
    "kernelspec": {
      "display_name": "Python 3",
      "language": "python",
      "name": "python3"
    },
    "language_info": {
      "codemirror_mode": {
        "name": "ipython",
        "version": 3
      },
      "file_extension": ".py",
      "mimetype": "text/x-python",
      "name": "python",
      "nbconvert_exporter": "python",
      "pygments_lexer": "ipython3",
      "version": "3.7.3"
    },
    "colab": {
      "name": "ligaduraDeslizaSemiEsfera.ipynb",
      "provenance": []
    }
  },
  "nbformat": 4,
  "nbformat_minor": 0
}