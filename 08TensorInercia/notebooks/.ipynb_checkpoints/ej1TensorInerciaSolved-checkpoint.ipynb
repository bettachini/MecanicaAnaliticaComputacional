{
 "cells": [
  {
   "cell_type": "markdown",
   "metadata": {},
   "source": [
    "# Tensor de inercia | Guía de ejercicios | Ejercicio 7\n",
    "© 2020 Víctor A. Bettachini  \n",
    "Mecánica General  \n",
    "Departamento de Ingeniería e Investigación Tecnológica  \n",
    "Universidad Nacional de La Matanza   \n",
    "![](ambos.png \"UNLaM | DIIT\")  \n",
    "\n",
    "---"
   ]
  },
  {
   "cell_type": "markdown",
   "metadata": {},
   "source": [
    "## Enunciado\n",
    "Se tiene una barra de \\\\(m= 1\\,\\mathrm{kg}\\\\) de sección despreciable frente a \\\\(l= 1\\,\\mathrm{m}\\\\).\n",
    "De alinear un eje (\\\\(\\hat{z}\\\\)) con ella, \n",
    "1. ¿cuales son sus momentos de inercia?,\n",
    "2. ¿existen los productos de inercia?"
   ]
  },
  {
   "cell_type": "markdown",
   "metadata": {},
   "source": [
    "### Resolución"
   ]
  },
  {
   "cell_type": "code",
   "execution_count": 2,
   "metadata": {},
   "outputs": [],
   "source": [
    "# biblioteca de cálculo simbólico\n",
    "import sympy as sym\n",
    "import sympy.physics.mechanics as mech\n",
    "mech.init_vprinting() # notación con puntos para derivadas temporales"
   ]
  },
  {
   "cell_type": "markdown",
   "metadata": {},
   "source": [
    "El tensor de inercia para el continuo\n",
    "\n",
    "$$\n",
    "I_{ik} = \\iiint \\rho(\\vec{r}) \\left[ x_l^2 \\delta_{ik} -  x_i x_k \\right] dV.\n",
    "$$\n",
    "\n",
    "$$\n",
    "\\overline{\\overline{I}}\n",
    "= I_{ik} = \n",
    "\\begin{pmatrix}\n",
    "I_{xx} & I_{xy} & I_{xz} \\\\\n",
    "I_{yx} & I_{yy} & I_{yz} \\\\\n",
    "I_{zx} & I_{zy} & I_{zz} \\\\\n",
    "\\end{pmatrix}\n",
    "=\n",
    "\\begin{pmatrix}\n",
    "\\iiint \\rho(\\vec{r}) (y^2 + z^2) dV  &  - \\iiint \\rho(\\vec{r}) x y dV  &  - \\iiint \\rho(\\vec{r}) x z dV \\\\\n",
    "- \\iiint \\rho(\\vec{r}) y x dV  &  \\iiint \\rho(\\vec{r}) (x^2 + z^2) dV  &  - \\iiint \\rho(\\vec{r}) y z dV \\\\\n",
    "- \\iiint \\rho(\\vec{r}) z x dV  &  - \\iiint \\rho(\\vec{r}) z y dV  &   \\iiint \\rho(\\vec{r}) (x^2 + y^2) dV \\\\\n",
    "\\end{pmatrix}\n",
    "$$\n",
    "para coordenadas cartesianas tendrá que $dV = dx dy dz$."
   ]
  },
  {
   "cell_type": "markdown",
   "metadata": {},
   "source": [
    "Se aproxima que la barra no tiene espezor, $x\\simeq 0$ e $y\\simeq 0$.\n",
    "\n",
    "Por tal razón el diferencial de volumen se reduce a uno en z, es decir, $dV = dz$.\n",
    "\n",
    "Por esta razón los únicos momentos de inercia serán $I_{xx}$ e $I_{yy}$, que son iguales.\n",
    "\n",
    "$$\n",
    "I_{xx} = \\iiint \\rho(\\vec{r}) (y^2 + z^2) dV = \\int \\rho(\\vec{r}) (z^2) dz\\\\\n",
    "I_{yy} = \\iiint \\rho(\\vec{r}) (x^2 + z^2) dV = \\int \\rho(\\vec{r}) (z^2) dz\\\\\n",
    "$$\n",
    "\n",
    "Asimismo no habrá productos de inercia pues todos tienen componentes sea de $x$ o $y$.\n",
    "\n"
   ]
  },
  {
   "cell_type": "code",
   "execution_count": 16,
   "metadata": {},
   "outputs": [],
   "source": [
    "x, y, z = sym.symbols('x y z')\n",
    "m, l, rho = sym.symbols(r'm l \\tilde{\\rho}', positive=True) # tilde para diferenciar densidad de radio"
   ]
  },
  {
   "cell_type": "code",
   "execution_count": 17,
   "metadata": {},
   "outputs": [],
   "source": [
    "volumen = l # aquí descartamos x e y \n",
    "densidad = m/ volumen"
   ]
  },
  {
   "cell_type": "code",
   "execution_count": 19,
   "metadata": {},
   "outputs": [
    {
     "data": {
      "image/png": "[encoded data removed]",
      "text/latex": [
       "$\\displaystyle I_{xx} = \\int\\limits_{- \\frac{l}{2}}^{\\frac{l}{2}} \\frac{m z^{2}}{l}\\, dz$"
      ],
      "text/plain": [
       "          l         \n",
       "          ─         \n",
       "          2         \n",
       "          ⌠         \n",
       "          ⎮     2   \n",
       "          ⎮  m⋅z    \n",
       "I_{xx} =  ⎮  ──── dz\n",
       "          ⎮   l     \n",
       "          ⌡         \n",
       "         -l         \n",
       "         ───        \n",
       "          2         "
      ]
     },
     "execution_count": 19,
     "metadata": {},
     "output_type": "execute_result"
    }
   ],
   "source": [
    "Ixx_integrando = densidad* z**2\n",
    "Ixx_integral = sym.Integral(Ixx_integrando, (z, -l/2, l/2))\n",
    "Ixx_simbolo = sym.symbols('I_{xx}')\n",
    "sym.Eq(Ixx_simbolo, Ixx_integral)"
   ]
  },
  {
   "cell_type": "code",
   "execution_count": 23,
   "metadata": {},
   "outputs": [
    {
     "data": {
      "image/png": "[encoded data removed]",
      "text/latex": [
       "$\\displaystyle I_{xx} = \\frac{l^{2} m}{12}$"
      ],
      "text/plain": [
       "          2  \n",
       "         l ⋅m\n",
       "I_{xx} = ────\n",
       "          12 "
      ]
     },
     "execution_count": 23,
     "metadata": {},
     "output_type": "execute_result"
    }
   ],
   "source": [
    "Ixx = Ixx_integral.doit()\n",
    "sym.Eq(Ixx_simbolo, Ixx )"
   ]
  },
  {
   "cell_type": "markdown",
   "metadata": {},
   "source": [
    "Substituyendo con los parámetros."
   ]
  },
  {
   "cell_type": "code",
   "execution_count": 27,
   "metadata": {},
   "outputs": [
    {
     "data": {
      "image/png": "[encoded data removed]",
      "text/latex": [
       "$\\displaystyle I_{xx} = \\frac{1}{12}$"
      ],
      "text/plain": [
       "I_{xx} = 1/12"
      ]
     },
     "execution_count": 27,
     "metadata": {},
     "output_type": "execute_result"
    }
   ],
   "source": [
    "m_valor = 1 # [kg]\n",
    "l_valor = 1 # [m]\n",
    "parametros = {\n",
    "    m : m_valor,\n",
    "    l : l_valor\n",
    "}\n",
    "\n",
    "sym.Eq(Ixx_simbolo, Ixx.subs(parametros) )"
   ]
  },
  {
   "cell_type": "markdown",
   "metadata": {},
   "source": [
    "En unidades de $\\mathrm{kg\\,m^2}$.\n",
    "\n",
    "Como se fundamentó anteriormente $I_{xx} = I_{yy}$."
   ]
  },
  {
   "cell_type": "code",
   "execution_count": 28,
   "metadata": {},
   "outputs": [
    {
     "data": {
      "image/png": "[encoded data removed]",
      "text/latex": [
       "$\\displaystyle I_{yy} = \\frac{1}{12}$"
      ],
      "text/plain": [
       "I_{yy} = 1/12"
      ]
     },
     "execution_count": 28,
     "metadata": {},
     "output_type": "execute_result"
    }
   ],
   "source": [
    "Iyy_simbolo = sym.symbols('I_{yy}')\n",
    "sym.Eq(Iyy_simbolo, Ixx.subs(parametros) )"
   ]
  },
  {
   "cell_type": "markdown",
   "metadata": {},
   "source": [
    "El tensor de inercia, en las unidades mencionadas, es"
   ]
  },
  {
   "cell_type": "code",
   "execution_count": 46,
   "metadata": {},
   "outputs": [
    {
     "data": {
      "text/latex": [
       "$\\displaystyle \\overline{\\overline{I}} = \\left[\\begin{matrix}\\frac{1}{12} & 0 & 0\\\\0 & \\frac{1}{12} & 0\\\\0 & 0 & 0\\end{matrix}\\right]$"
      ],
      "text/plain": [
       "                          ⎡1/12   0    0⎤\n",
       "                          ⎢             ⎥\n",
       "\\overline{\\overline{I}} = ⎢ 0    1/12  0⎥\n",
       "                          ⎢             ⎥\n",
       "                          ⎣ 0     0    0⎦"
      ]
     },
     "execution_count": 46,
     "metadata": {},
     "output_type": "execute_result"
    }
   ],
   "source": [
    "Iik = sym.Matrix([[Ixx.subs(parametros), 0, 0], [0, Ixx.subs(parametros), 0], [0,0,0]])\n",
    "Iik_simbolo = sym.Symbol(r'\\overline{\\overline{I}}')\n",
    "sym.Eq(Iik_simbolo, Iik, evaluate=False)"
   ]
  }
 ],
 "metadata": {
  "kernelspec": {
   "display_name": "Python 3",
   "language": "python",
   "name": "python3"
  },
  "language_info": {
   "codemirror_mode": {
    "name": "ipython",
    "version": 3
   },
   "file_extension": ".py",
   "mimetype": "text/x-python",
   "name": "python",
   "nbconvert_exporter": "python",
   "pygments_lexer": "ipython3",
   "version": "3.7.3"
  }
 },
 "nbformat": 4,
 "nbformat_minor": 4
}
