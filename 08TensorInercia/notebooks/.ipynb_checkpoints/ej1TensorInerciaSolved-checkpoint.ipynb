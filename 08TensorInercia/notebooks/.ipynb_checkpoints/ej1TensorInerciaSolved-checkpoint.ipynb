{
 "cells": [
  {
   "cell_type": "markdown",
   "metadata": {},
   "source": [
    "# Tensor de inercia | Guía de ejercicios | Ejercicio 7\n",
    "© 2020 Víctor A. Bettachini  \n",
    "Mecánica General  \n",
    "Departamento de Ingeniería e Investigación Tecnológica  \n",
    "Universidad Nacional de La Matanza   \n",
    "![](ambos.png \"UNLaM | DIIT\")  \n",
    "\n",
    "---"
   ]
  },
  {
   "cell_type": "markdown",
   "metadata": {},
   "source": [
    "## Enunciado\n",
    "Se tiene una barra de \\\\(m= 1\\,\\mathrm{kg}\\\\) de sección despreciable frente a \\\\(l= 1\\,\\mathrm{m}\\\\).\n",
    "De alinear un eje (\\\\(\\hat{z}\\\\)) con ella, \n",
    "1. ¿cuales son sus momentos de inercia?,\n",
    "2. ¿existen los productos de inercia?"
   ]
  },
  {
   "cell_type": "markdown",
   "metadata": {},
   "source": [
    "### Resolución"
   ]
  },
  {
   "cell_type": "code",
   "execution_count": 2,
   "metadata": {},
   "outputs": [],
   "source": [
    "# biblioteca de cálculo simbólico\n",
    "import sympy as sym\n",
    "import sympy.physics.mechanics as mech\n",
    "mech.init_vprinting() # notación con puntos para derivadas temporales"
   ]
  },
  {
   "cell_type": "markdown",
   "metadata": {},
   "source": [
    "El tensor de inercia para el continuo\n",
    "\n",
    "$$\n",
    "I_{ik} = \\iiint \\rho(\\vec{r}) \\left(x_l^2 \\delta_{ik} -  x_i x_k \\right) dV, \n",
    "$$\n",
    "para coordenadas cartesianas tendrá que $dV = dx dy dz$."
   ]
  },
  {
   "cell_type": "code",
   "execution_count": null,
   "metadata": {},
   "outputs": [],
   "source": []
  },
  {
   "cell_type": "markdown",
   "metadata": {},
   "source": [
    "$$\n",
    "\\overline{\\overline{I}}\n",
    "= I_{ik} = \n",
    "\\begin{pmatrix}\n",
    "I_{xx} & I_{xy} & I_{xz} \\\\\n",
    "I_{yx} & I_{yy} & I_{yz} \\\\\n",
    "I_{zx} & I_{zy} & I_{zz} \\\\\n",
    "\\end{pmatrix}\n",
    "=\n",
    "\\begin{pmatrix}\n",
    "\\sum_p m_p (y_p^2 + z_p^2) & - \\sum_p m_p x_p y_p & - \\sum_p m_p x_p z_p \\\\\n",
    "- \\sum_p m_p y_p x_p & \\sum_p m_p (x_p^2 + z_p^2)  & - \\sum_p m_p y_p z_p \\\\\n",
    "- \\sum_p m_p z_p x_p & - \\sum_p m_p z_p y_p & \\sum_p m_p (x_p^2 + y_p^2) \\\\\n",
    "\\end{pmatrix}\n",
    "$$"
   ]
  },
  {
   "cell_type": "markdown",
   "metadata": {},
   "source": [
    "\n",
    "\n",
    "se aproxima que $x\\simeq 0$ e $y\\simeq 0$. "
   ]
  },
  {
   "cell_type": "markdown",
   "metadata": {},
   "source": [
    "#### Momento de inercia del cilindro en su eje de simetría\n",
    "Primero calculo el tensor de inercia del cilíndro de radio $a$ en coordenadas cilíndricas para el cilíndro asumiendo un eje $\\hat{z}$ colineal con su eje."
   ]
  },
  {
   "cell_type": "code",
   "execution_count": 6,
   "metadata": {},
   "outputs": [],
   "source": [
    "x, y, z = sym.symbols('x y z')\n",
    "m, l, rho = sym.symbols(r'm l \\tilde{\\rho}', positive=True) # tilde para diferenciar densidad de radio"
   ]
  },
  {
   "cell_type": "code",
   "execution_count": 8,
   "metadata": {},
   "outputs": [
    {
     "data": {
      "image/png": "[encoded data removed]",
      "text/latex": [
       "$\\displaystyle m = \\pi a^{2} \\delta l$"
      ],
      "text/plain": [
       "       2    \n",
       "m = π⋅a ⋅δ⋅l"
      ]
     },
     "execution_count": 8,
     "metadata": {},
     "output_type": "execute_result"
    }
   ],
   "source": [
    "f_dens = delta\n",
    "masa_exp = sym.integrate(f_dens* rho, (rho,0,a), (varphi,0,2*sym.pi), (z,-l/2, l/2))\n",
    "masa_eq = sym.Eq( m , masa_exp )\n",
    "masa_eq"
   ]
  },
  {
   "cell_type": "code",
   "execution_count": 9,
   "metadata": {},
   "outputs": [
    {
     "data": {
      "image/png": "[encoded data removed]",
      "text/latex": [
       "$\\displaystyle \\delta = \\frac{m}{\\pi a^{2} l}$"
      ],
      "text/plain": [
       "      m   \n",
       "δ = ──────\n",
       "       2  \n",
       "    π⋅a ⋅l"
      ]
     },
     "execution_count": 9,
     "metadata": {},
     "output_type": "execute_result"
    }
   ],
   "source": [
    "delta_exp = sym.solve(masa_eq,delta)[0]\n",
    "sym.Eq(delta, delta_exp)"
   ]
  },
  {
   "cell_type": "markdown",
   "metadata": {},
   "source": [
    "Recordamos la expresión de los elementos del tensor de inercia para un sistema continuo\n",
    "$$\n",
    "I_{ik} = \\iiint \\delta(\\vec{r}) \\left(x_l^2 \\delta_{ik} -  x_i x_k \\right) dV .\n",
    "$$\n",
    "\n",
    "El momento de inercia en la dirección de $\\hat{z}$ tiene $i=z$ e $k=z$\n",
    "$$\n",
    "\\begin{aligned}\n",
    "I{zz} \n",
    "&= \\iiint \\delta(\\vec{r}) \\left(x^2 + y^2 + z^2 - zz \\right) dV = \\delta \\iiint \\left(\\rho^2 \\right) dV \\\\\n",
    "&= \\delta \\int_{-l/2}^{l/2} dz \\int_0^{2\\pi} d\\varphi \\int_0^R d\\rho \\rho ( \\rho^2 ),\n",
    "\\end{aligned}\n",
    "$$\n",
    "ya que la densidad $\\delta$ es homogénea."
   ]
  },
  {
   "cell_type": "code",
   "execution_count": 20,
   "metadata": {},
   "outputs": [
    {
     "data": {
      "image/png": "[encoded data removed]",
      "text/latex": [
       "$\\displaystyle I_{zz} = \\frac{a^{2} m}{2}$"
      ],
      "text/plain": [
       "          2  \n",
       "         a ⋅m\n",
       "I_{zz} = ────\n",
       "          2  "
      ]
     },
     "execution_count": 20,
     "metadata": {},
     "output_type": "execute_result"
    }
   ],
   "source": [
    "Izz = sym.Symbol('I_{zz}')\n",
    "f_Izz = delta* rho**2\n",
    "Izz_int = sym.integrate(f_Izz* rho, (rho,0,a), (phi,0,2*sym.pi), (z,-l/2, l/2))\n",
    "Izz_exp = Izz_int.subs(delta, delta_exp)\n",
    "Izz_eq = sym.Eq( Izz , Izz_exp.subs(delta, delta_exp) )\n",
    "Izz_eq"
   ]
  },
  {
   "cell_type": "markdown",
   "metadata": {},
   "source": [
    "#### Energía cinética\n",
    "Hay dos términos de la energía cinética, uno ligado al desplazamiento del centro de masa y otro al de la rotación.\n",
    "En este último usaremos \\\\(\\theta\\\\) como el ángulo de rotación del cilíndro sobre su eje de simetría.\n",
    "El desplazamiento del centro de masa es una rotación en torno al origen de \\\\(R\\\\) a un radio \\\\( (R -a) \\\\)."
   ]
  },
  {
   "cell_type": "code",
   "execution_count": 21,
   "metadata": {},
   "outputs": [
    {
     "data": {
      "image/png": "[encoded data removed]",
      "text/latex": [
       "$\\displaystyle T = \\frac{I_{zz} \\dot{\\theta}^{2}}{2} + \\frac{m \\left(R - a\\right)^{2} \\dot{\\phi}^{2}}{2}$"
      ],
      "text/plain": [
       "            2            2  2\n",
       "    I_{zz}⋅θ̇    m⋅(R - a) ⋅φ̇ \n",
       "T = ───────── + ─────────────\n",
       "        2             2      "
      ]
     },
     "execution_count": 21,
     "metadata": {},
     "output_type": "execute_result"
    }
   ],
   "source": [
    "t, T = sym.symbols('t, T')\n",
    "R = sym.symbols('R', positive=True)\n",
    "theta = sym.Function('theta')(t)\n",
    "phi = sym.Function('phi')(t)\n",
    "\n",
    "v_cm_exp = (R - a)* phi.diff(t)\n",
    "T_desp_exp = (m/2)* v_cm_exp**2\n",
    "T_rot_exp = (Izz/2)* theta.diff(t)**2\n",
    "T_exp = T_desp_exp + T_rot_exp\n",
    "sym.Eq(T, T_exp)"
   ]
  },
  {
   "cell_type": "markdown",
   "metadata": {},
   "source": [
    "Aquí reemplazo \\\\(I_{zz}\\\\)"
   ]
  },
  {
   "cell_type": "code",
   "execution_count": 22,
   "metadata": {},
   "outputs": [
    {
     "data": {
      "image/png": "[encoded data removed]",
      "text/latex": [
       "$\\displaystyle T = \\frac{a^{2} m \\dot{\\theta}^{2}}{4} + \\frac{m \\left(R - a\\right)^{2} \\dot{\\phi}^{2}}{2}$"
      ],
      "text/plain": [
       "     2    2            2  2\n",
       "    a ⋅m⋅θ̇    m⋅(R - a) ⋅φ̇ \n",
       "T = ─────── + ─────────────\n",
       "       4            2      "
      ]
     },
     "execution_count": 22,
     "metadata": {},
     "output_type": "execute_result"
    }
   ],
   "source": [
    "T_subsIzz = T_exp.subs(Izz, Izz_exp)\n",
    "sym.Eq(T, T_subsIzz)"
   ]
  },
  {
   "cell_type": "markdown",
   "metadata": {},
   "source": [
    "La **condición de rodadura** impone una relación entre una diferencia de su orientación respecto a su eje y el ángulo \\\\(\\phi\\\\) de la figura\n",
    "\\\\(\n",
    "(R - a) d\\phi  =  a d\\theta,\n",
    "\\\\)\n",
    "por tanto \n",
    "\\\\(\n",
    "(R - a) \\dot{\\phi} = a \\dot{ \\theta}.\n",
    "\\\\)"
   ]
  },
  {
   "cell_type": "code",
   "execution_count": 24,
   "metadata": {},
   "outputs": [
    {
     "data": {
      "image/png": "[encoded data removed]",
      "text/latex": [
       "$\\displaystyle T = \\frac{3 m \\left(R - a\\right)^{2} \\dot{\\phi}^{2}}{4}$"
      ],
      "text/plain": [
       "               2  2\n",
       "    3⋅m⋅(R - a) ⋅φ̇ \n",
       "T = ───────────────\n",
       "           4       "
      ]
     },
     "execution_count": 24,
     "metadata": {},
     "output_type": "execute_result"
    }
   ],
   "source": [
    "T_fin = T_subsIzz.subs((a* theta.diff(t)), (R-a)* phi.diff(t))\n",
    "sym.Eq(T, T_fin)"
   ]
  },
  {
   "cell_type": "code",
   "execution_count": null,
   "metadata": {},
   "outputs": [],
   "source": []
  }
 ],
 "metadata": {
  "kernelspec": {
   "display_name": "Python 3",
   "language": "python",
   "name": "python3"
  },
  "language_info": {
   "codemirror_mode": {
    "name": "ipython",
    "version": 3
   },
   "file_extension": ".py",
   "mimetype": "text/x-python",
   "name": "python",
   "nbconvert_exporter": "python",
   "pygments_lexer": "ipython3",
   "version": "3.7.3"
  }
 },
 "nbformat": 4,
 "nbformat_minor": 4
}
