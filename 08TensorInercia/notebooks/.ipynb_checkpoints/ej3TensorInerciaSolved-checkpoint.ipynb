{
 "cells": [
  {
   "cell_type": "markdown",
   "metadata": {},
   "source": [
    "# Tensor de inercia | Guía de ejercicios | Ejercicio 3\n",
    "© 2020 Víctor A. Bettachini  \n",
    "Mecánica General  \n",
    "Departamento de Ingeniería e Investigación Tecnológica  \n",
    "Universidad Nacional de La Matanza   \n",
    "![](ambos.png \"UNLaM | DIIT\")  \n",
    "\n",
    "---"
   ]
  },
  {
   "cell_type": "markdown",
   "metadata": {},
   "source": [
    "## Enunciado\n",
    "Calcule para el sistema de ambas $m$ (la masa de brazos y ejes es despreciable)\n",
    "1. momento de inercia \\\\(\\overline{\\overline{I}}\\\\) respecto a A,\n",
    "1. momento angular $\\vec{L}\\bigg\\rvert_A = \\overline{\\overline{I}} \\vec{\\Omega}$ y torque $\\vec{\\tau} = \\dot{\\vec{L}}$.\n",
    "\n",
    "La porción vertical de la barra se mantiene con rulemanes que impiden su movimiento vertical, pero posibilitan que el eje rote sin fricción con velocidad angular $\\Omega$ respecto el marco inercial $O_{xyz}$.\n",
    "\n",
    "![](o-021.png)"
   ]
  },
  {
   "cell_type": "markdown",
   "metadata": {},
   "source": [
    "### Resolución"
   ]
  },
  {
   "cell_type": "markdown",
   "metadata": {},
   "source": [
    "Solo se contemplarán los pesos en los extremos de las barras laterales como masas puntuales.\n",
    "Por tanto se utiliza la expresión del tensor de inercia para distribuciones discretas de masa.\n",
    "\n",
    "$$\n",
    "\\overline{\\overline{I}}\n",
    "= I_{ik} = \n",
    "\\begin{pmatrix}\n",
    "I_{xx} & I_{xy} & I_{xz} \\\\\n",
    "I_{yx} & I_{yy} & I_{yz} \\\\\n",
    "I_{zx} & I_{zy} & I_{zz} \\\\\n",
    "\\end{pmatrix}\n",
    "=\n",
    "\\begin{pmatrix}\n",
    "\\sum_p m_p (y_p^2 + z_p^2) & - \\sum_p m_p x_p y_p & - \\sum_p m_p x_p z_p \\\\\n",
    "- \\sum_p m_p y_p x_p & \\sum_p m_p (x_p^2 + z_p^2)  & - \\sum_p m_p y_p z_p \\\\\n",
    "- \\sum_p m_p z_p x_p & - \\sum_p m_p z_p y_p & \\sum_p m_p (x_p^2 + y_p^2) \\\\\n",
    "\\end{pmatrix}\n",
    "$$"
   ]
  },
  {
   "cell_type": "markdown",
   "metadata": {},
   "source": [
    "Debe determinarse la posición de estas masas."
   ]
  },
  {
   "cell_type": "code",
   "execution_count": 10,
   "metadata": {},
   "outputs": [],
   "source": [
    "# biblioteca de cálculo simbólico\n",
    "import sympy as sym\n",
    "import sympy.physics.mechanics as mech\n",
    "mech.init_vprinting() # notación con puntos para derivadas temporales"
   ]
  },
  {
   "cell_type": "code",
   "execution_count": 11,
   "metadata": {},
   "outputs": [],
   "source": [
    "phi, m, L = sym.symbols('phi m L', positive=True) # tilde para diferenciar densidad de radio\n",
    "t = sym.symbols('t') # tiempo, todo es función del tiempo\n",
    "# Omega = sym.Function('Omega')(t)\n",
    "Omega = sym.Symbol('Omega')"
   ]
  },
  {
   "cell_type": "code",
   "execution_count": 12,
   "metadata": {},
   "outputs": [],
   "source": [
    "# Sistema cartesiano\n",
    "N = sym.physics.vector.ReferenceFrame('N') # marco referencial N en coordenadas cartesianas\n",
    "\n",
    "# posiciones\n",
    "m1_r = L* (sym.sin(phi)* N.z + sym.cos(phi)* ( sym.cos(Omega* t)* N.x + sym.sin(Omega* t)* N.y ) )\n",
    "m2_r = L* ( sym.cos(Omega* t)* (-N.x) + sym.sin(Omega* t)* (-N.y ) )"
   ]
  },
  {
   "cell_type": "markdown",
   "metadata": {},
   "source": [
    "Con estas posiciones pueden calcularse los elementos del tensor de inercia.\n",
    "\n",
    "Primero lo momentos de inercia, en la diagonal del tensor."
   ]
  },
  {
   "cell_type": "code",
   "execution_count": 13,
   "metadata": {},
   "outputs": [],
   "source": [
    "Ixx = m* (m1_r.dot(N.y)**2 + m1_r.dot(N.z)**2 + m2_r.dot(N.y)**2 + m2_r.dot(N.z)**2 ).simplify()\n",
    "Iyy = m* (m1_r.dot(N.x)**2 + m1_r.dot(N.z)**2 + m2_r.dot(N.x)**2 + m2_r.dot(N.z)**2 ).simplify()\n",
    "Izz = m* (m1_r.dot(N.x)**2 + m1_r.dot(N.y)**2 + m2_r.dot(N.x)**2 + m2_r.dot(N.y)**2 ).simplify()"
   ]
  },
  {
   "cell_type": "markdown",
   "metadata": {},
   "source": [
    "Y luego los productos de inercia, fuera de la diagonal.\n",
    "Hay que recordar que el tensor es simétrico respecto a la diagonal, por lo que solo hay que calcular tres productos."
   ]
  },
  {
   "cell_type": "code",
   "execution_count": 14,
   "metadata": {},
   "outputs": [],
   "source": [
    "Ixy = -m* ( m1_r.dot(N.x) * m1_r.dot(N.y) + m2_r.dot(N.x) * m2_r.dot(N.y) ).simplify()\n",
    "Iyx = Ixy\n",
    "Ixz = -m* ( m1_r.dot(N.x) * m1_r.dot(N.z) + m2_r.dot(N.x) * m2_r.dot(N.z) ).simplify()\n",
    "Izx = Ixz\n",
    "Iyz = -m* ( m1_r.dot(N.y) * m1_r.dot(N.z) + m2_r.dot(N.y) * m2_r.dot(N.z) ).simplify()\n",
    "Izy = Iyz"
   ]
  },
  {
   "cell_type": "markdown",
   "metadata": {},
   "source": [
    "### Momento de inercia \\\\(\\overline{\\overline{I}}\\\\) respecto a A"
   ]
  },
  {
   "cell_type": "code",
   "execution_count": 15,
   "metadata": {},
   "outputs": [
    {
     "data": {
      "text/latex": [
       "$\\displaystyle \\overline{\\overline{I}} = \\left[\\begin{matrix}L^{2} m \\left(- \\operatorname{cos}^{2}\\left(\\phi\\right) \\operatorname{cos}^{2}\\left(\\Omega t\\right) - \\operatorname{cos}^{2}\\left(\\Omega t\\right) + 2\\right) & - L^{2} m \\left(\\operatorname{cos}^{2}\\left(\\phi\\right) + 1\\right) \\operatorname{sin}\\left(\\Omega t\\right) \\operatorname{cos}\\left(\\Omega t\\right) & - \\frac{L^{2} m \\left(- \\operatorname{sin}\\left(\\Omega t - 2 \\phi\\right) + \\operatorname{sin}\\left(\\Omega t + 2 \\phi\\right)\\right)}{4}\\\\- L^{2} m \\left(\\operatorname{cos}^{2}\\left(\\phi\\right) + 1\\right) \\operatorname{sin}\\left(\\Omega t\\right) \\operatorname{cos}\\left(\\Omega t\\right) & L^{2} m \\left(\\operatorname{sin}^{2}\\left(\\phi\\right) \\operatorname{sin}^{2}\\left(\\Omega t\\right) - 2 \\operatorname{sin}^{2}\\left(\\Omega t\\right) + 2\\right) & - \\frac{L^{2} m \\left(\\operatorname{cos}\\left(\\Omega t - 2 \\phi\\right) - \\operatorname{cos}\\left(\\Omega t + 2 \\phi\\right)\\right)}{4}\\\\- \\frac{L^{2} m \\left(- \\operatorname{sin}\\left(\\Omega t - 2 \\phi\\right) + \\operatorname{sin}\\left(\\Omega t + 2 \\phi\\right)\\right)}{4} & - \\frac{L^{2} m \\left(\\operatorname{cos}\\left(\\Omega t - 2 \\phi\\right) - \\operatorname{cos}\\left(\\Omega t + 2 \\phi\\right)\\right)}{4} & L^{2} m \\left(\\operatorname{cos}^{2}\\left(\\phi\\right) + 1\\right)\\end{matrix}\\right]$"
      ],
      "text/plain": [
       "                          ⎡                                                   \n",
       "                          ⎢ 2   ⎛     2       2           2         ⎞      2  \n",
       "                          ⎢L ⋅m⋅⎝- cos (φ)⋅cos (Ω⋅t) - cos (Ω⋅t) + 2⎠    -L ⋅m\n",
       "                          ⎢                                                   \n",
       "                          ⎢                                                   \n",
       "                          ⎢                                                   \n",
       "                          ⎢    2   ⎛   2       ⎞                        2   ⎛ \n",
       "\\overline{\\overline{I}} = ⎢  -L ⋅m⋅⎝cos (φ) + 1⎠⋅sin(Ω⋅t)⋅cos(Ω⋅t)     L ⋅m⋅⎝s\n",
       "                          ⎢                                                   \n",
       "                          ⎢                                                   \n",
       "                          ⎢  2                                            2   \n",
       "                          ⎢-L ⋅m⋅(-sin(Ω⋅t - 2⋅φ) + sin(Ω⋅t + 2⋅φ))     -L ⋅m⋅\n",
       "                          ⎢─────────────────────────────────────────    ──────\n",
       "                          ⎣                    4                              \n",
       "\n",
       "                                       2                                      \n",
       " ⎛   2       ⎞                       -L ⋅m⋅(-sin(Ω⋅t - 2⋅φ) + sin(Ω⋅t + 2⋅φ)) \n",
       "⋅⎝cos (φ) + 1⎠⋅sin(Ω⋅t)⋅cos(Ω⋅t)     ─────────────────────────────────────────\n",
       "                                                         4                    \n",
       "                                                                              \n",
       "                                       2                                      \n",
       "  2       2             2         ⎞  -L ⋅m⋅(cos(Ω⋅t - 2⋅φ) - cos(Ω⋅t + 2⋅φ))  \n",
       "in (φ)⋅sin (Ω⋅t) - 2⋅sin (Ω⋅t) + 2⎠  ──────────────────────────────────────── \n",
       "                                                        4                     \n",
       "                                                                              \n",
       "                                                                              \n",
       "(cos(Ω⋅t - 2⋅φ) - cos(Ω⋅t + 2⋅φ))                2   ⎛   2       ⎞            \n",
       "──────────────────────────────────              L ⋅m⋅⎝cos (φ) + 1⎠            \n",
       "             4                                                                \n",
       "\n",
       "⎤\n",
       "⎥\n",
       "⎥\n",
       "⎥\n",
       "⎥\n",
       "⎥\n",
       "⎥\n",
       "⎥\n",
       "⎥\n",
       "⎥\n",
       "⎥\n",
       "⎥\n",
       "⎥\n",
       "⎦"
      ]
     },
     "execution_count": 15,
     "metadata": {},
     "output_type": "execute_result"
    }
   ],
   "source": [
    "Iik = sym.Matrix([[Ixx, Ixy, Ixz], [Ixy, Iyy, Iyz], [Izx, Izy, Izz]])\n",
    "Iik_simbolo = sym.Symbol(r'\\overline{\\overline{I}}')\n",
    "sym.Eq(Iik_simbolo, Iik, evaluate=False)"
   ]
  },
  {
   "cell_type": "markdown",
   "metadata": {},
   "source": [
    "### momento angular $\\vec{L}\\bigg\\rvert_A = \\overline{\\overline{I}} \\vec{\\Omega}$"
   ]
  },
  {
   "cell_type": "markdown",
   "metadata": {},
   "source": [
    "El vector de velocidad angular $\\vec{\\Omega}$."
   ]
  },
  {
   "cell_type": "code",
   "execution_count": 16,
   "metadata": {},
   "outputs": [
    {
     "data": {
      "text/latex": [
       "$\\displaystyle \\left[\\begin{matrix}0\\\\0\\\\\\Omega\\end{matrix}\\right]$"
      ],
      "text/plain": [
       "⎡0⎤\n",
       "⎢ ⎥\n",
       "⎢0⎥\n",
       "⎢ ⎥\n",
       "⎣Ω⎦"
      ]
     },
     "execution_count": 16,
     "metadata": {},
     "output_type": "execute_result"
    }
   ],
   "source": [
    "velocidadAngular = sym.Matrix([0,0,Omega])\n",
    "velocidadAngular"
   ]
  },
  {
   "cell_type": "code",
   "execution_count": 21,
   "metadata": {},
   "outputs": [
    {
     "data": {
      "text/latex": [
       "$\\displaystyle \\vec{L} = \\left[\\begin{matrix}\\frac{L^{2} \\Omega m \\left(\\operatorname{sin}\\left(\\Omega t - 2 \\phi\\right) - \\operatorname{sin}\\left(\\Omega t + 2 \\phi\\right)\\right)}{4}\\\\\\frac{L^{2} \\Omega m \\left(- \\operatorname{cos}\\left(\\Omega t - 2 \\phi\\right) + \\operatorname{cos}\\left(\\Omega t + 2 \\phi\\right)\\right)}{4}\\\\L^{2} \\Omega m \\left(\\operatorname{cos}^{2}\\left(\\phi\\right) + 1\\right)\\end{matrix}\\right]$"
      ],
      "text/plain": [
       "          ⎡ 2                                       ⎤\n",
       "          ⎢L ⋅Ω⋅m⋅(sin(Ω⋅t - 2⋅φ) - sin(Ω⋅t + 2⋅φ)) ⎥\n",
       "          ⎢──────────────────────────────────────── ⎥\n",
       "          ⎢                   4                     ⎥\n",
       "          ⎢                                         ⎥\n",
       "          ⎢ 2                                       ⎥\n",
       "\\vec{L} = ⎢L ⋅Ω⋅m⋅(-cos(Ω⋅t - 2⋅φ) + cos(Ω⋅t + 2⋅φ))⎥\n",
       "          ⎢─────────────────────────────────────────⎥\n",
       "          ⎢                    4                    ⎥\n",
       "          ⎢                                         ⎥\n",
       "          ⎢           2     ⎛   2       ⎞           ⎥\n",
       "          ⎣          L ⋅Ω⋅m⋅⎝cos (φ) + 1⎠           ⎦"
      ]
     },
     "execution_count": 21,
     "metadata": {},
     "output_type": "execute_result"
    }
   ],
   "source": [
    "momentoAngular = Iik* velocidadAngular\n",
    "momentoAngular_simplificado = [elementos.simplify() for elementos in momentoAngular]\n",
    "momentoAngular_simbolo = sym.Symbol(r'\\vec{L}')\n",
    "sym.Eq(momentoAngular_simbolo, sym.Matrix(momentoAngular_simplificado), evaluate=False)"
   ]
  },
  {
   "cell_type": "markdown",
   "metadata": {},
   "source": [
    "###  Torque $\\vec{\\tau} = \\dot{\\vec{L}}$ si $\\vec{\\Omega}(t)$"
   ]
  },
  {
   "cell_type": "code",
   "execution_count": 22,
   "metadata": {},
   "outputs": [
    {
     "data": {
      "text/latex": [
       "$\\displaystyle \\vec{\\tau} = \\left[\\begin{matrix}\\frac{L^{2} \\Omega^{2} m \\left(\\operatorname{cos}\\left(\\Omega t - 2 \\phi\\right) - \\operatorname{cos}\\left(\\Omega t + 2 \\phi\\right)\\right)}{4}\\\\\\frac{L^{2} \\Omega^{2} m \\left(\\operatorname{sin}\\left(\\Omega t - 2 \\phi\\right) - \\operatorname{sin}\\left(\\Omega t + 2 \\phi\\right)\\right)}{4}\\\\0\\end{matrix}\\right]$"
      ],
      "text/plain": [
       "             ⎡ 2  2                                    ⎤\n",
       "             ⎢L ⋅Ω ⋅m⋅(cos(Ω⋅t - 2⋅φ) - cos(Ω⋅t + 2⋅φ))⎥\n",
       "             ⎢─────────────────────────────────────────⎥\n",
       "             ⎢                    4                    ⎥\n",
       "             ⎢                                         ⎥\n",
       "\\vec{\\tau} = ⎢ 2  2                                    ⎥\n",
       "             ⎢L ⋅Ω ⋅m⋅(sin(Ω⋅t - 2⋅φ) - sin(Ω⋅t + 2⋅φ))⎥\n",
       "             ⎢─────────────────────────────────────────⎥\n",
       "             ⎢                    4                    ⎥\n",
       "             ⎢                                         ⎥\n",
       "             ⎣                    0                    ⎦"
      ]
     },
     "execution_count": 22,
     "metadata": {},
     "output_type": "execute_result"
    }
   ],
   "source": [
    "torque = momentoAngular.diff(t)\n",
    "torque_simplificado = [elementos.simplify() for elementos in torque]\n",
    "torque_simbolo = sym.Symbol(r'\\vec{\\tau}')\n",
    "sym.Eq(torque_simbolo, sym.Matrix(torque_simplificado), evaluate=False)"
   ]
  },
  {
   "cell_type": "code",
   "execution_count": null,
   "metadata": {},
   "outputs": [],
   "source": []
  }
 ],
 "metadata": {
  "kernelspec": {
   "display_name": "Python 3",
   "language": "python",
   "name": "python3"
  },
  "language_info": {
   "codemirror_mode": {
    "name": "ipython",
    "version": 3
   },
   "file_extension": ".py",
   "mimetype": "text/x-python",
   "name": "python",
   "nbconvert_exporter": "python",
   "pygments_lexer": "ipython3",
   "version": "3.7.3"
  }
 },
 "nbformat": 4,
 "nbformat_minor": 4
}
