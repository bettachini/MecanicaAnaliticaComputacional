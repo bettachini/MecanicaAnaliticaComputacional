{
 "cells": [
  {
   "cell_type": "markdown",
   "metadata": {},
   "source": [
    "# Tensor de inercia | Guía de ejercicios | Ejercicio 4\n",
    "\n",
    "© 2020 Víctor A. Bettachini  \n",
    "Mecánica General  \n",
    "Departamento de Ingeniería e Investigación Tecnológica  \n",
    "Universidad Nacional de La Matanza  \n",
    "\n",
    "![](ambos.png \"UNLaM | DIIT\")  \n",
    "\n",
    "---"
   ]
  },
  {
   "cell_type": "markdown",
   "metadata": {},
   "source": [
    "## Enunciado\n",
    "Calcule los momentos de inercia para una molécula de \\\\(\\mathrm{H_2O}\\\\).\n",
    "\n",
    "En CNPT se abre con un ángulo de \\\\(104,5^o\\\\) y median \\\\(95,84\\,\\mathrm{pm}\\\\) entre O y H.\n",
    "\n",
    "![](moleculaH2O.png)"
   ]
  },
  {
   "cell_type": "markdown",
   "metadata": {},
   "source": [
    "## Tensor de inercia para masas discretas "
   ]
  },
  {
   "cell_type": "markdown",
   "metadata": {},
   "source": [
    "Solo se contemplarán los núcleos en los extremos de los enlaces considerados como masas puntuales.\n",
    "Por tanto se utiliza la expresión del tensor de inercia para distribuciones discretas de masa.\n",
    "\n",
    "$$\n",
    "\\overline{\\overline{I}}\n",
    "= I_{ik} = \n",
    "\\begin{pmatrix}\n",
    "I_{xx} & I_{xy} & I_{xz} \\\\\n",
    "I_{yx} & I_{yy} & I_{yz} \\\\\n",
    "I_{zx} & I_{zy} & I_{zz} \\\\\n",
    "\\end{pmatrix}\n",
    "=\n",
    "\\begin{pmatrix}\n",
    "\\sum_p m_p (y_p^2 + z_p^2) & - \\sum_p m_p x_p y_p & - \\sum_p m_p x_p z_p \\\\\n",
    "- \\sum_p m_p y_p x_p & \\sum_p m_p (x_p^2 + z_p^2)  & - \\sum_p m_p y_p z_p \\\\\n",
    "- \\sum_p m_p z_p x_p & - \\sum_p m_p z_p y_p & \\sum_p m_p (x_p^2 + y_p^2) \\\\\n",
    "\\end{pmatrix}\n",
    "$$"
   ]
  },
  {
   "cell_type": "markdown",
   "metadata": {},
   "source": [
    "## Tensor de inercia centrado en el átomo de oxígeno"
   ]
  },
  {
   "cell_type": "code",
   "execution_count": 1,
   "metadata": {},
   "outputs": [],
   "source": [
    "# biblioteca de cálculo simbólico\n",
    "import sympy as sym\n",
    "import sympy.physics.mechanics as mech\n",
    "mech.init_vprinting() # notación con puntos para derivadas temporales"
   ]
  },
  {
   "cell_type": "code",
   "execution_count": 2,
   "metadata": {},
   "outputs": [],
   "source": [
    "phi, mO, mH, d = sym.symbols('phi m_O m_H d', positive=True) # tilde para diferenciar densidad de radio"
   ]
  },
  {
   "cell_type": "markdown",
   "metadata": {},
   "source": [
    "Primero se escriben las posiciones en un sistema centrado en el núcleo del átomo de O."
   ]
  },
  {
   "cell_type": "code",
   "execution_count": 3,
   "metadata": {},
   "outputs": [],
   "source": [
    "# Sistema cartesiano\n",
    "N = sym.physics.vector.ReferenceFrame('N') # marco referencial N en coordenadas cartesianas\n",
    "\n",
    "# posiciones\n",
    "O_r_centradaEnO = 0* (N.x + N.y)\n",
    "H1_r_centradaEnO = d* ( -sym.sin(phi/2)* (N.x) + sym.cos(phi/2)* (N.y ) ) # Hidrógeno inferior en figura\n",
    "H2_r_centradaEnO = d* ( +sym.sin(phi/2)* (N.x) + sym.cos(phi/2)* (N.y ) ) # Hidrógeno superior en figura\n",
    "\n",
    "O_r = O_r_centradaEnO\n",
    "H1_r = H1_r_centradaEnO\n",
    "H2_r = H2_r_centradaEnO"
   ]
  },
  {
   "cell_type": "markdown",
   "metadata": {},
   "source": [
    "Los momentos de inercia, en la diagonal del tensor."
   ]
  },
  {
   "cell_type": "code",
   "execution_count": 4,
   "metadata": {},
   "outputs": [],
   "source": [
    "Ixx = (  mO* (O_r.dot(N.y)**2 + O_r.dot(N.z)**2)\n",
    "       + mH* (H1_r.dot(N.y)**2 + H1_r.dot(N.z)**2)\n",
    "       + mH* (H2_r.dot(N.y)**2 + H2_r.dot(N.z)**2)\n",
    "      ).simplify()\n",
    "Iyy = (  mO* (O_r.dot(N.x)**2 + O_r.dot(N.z)**2)\n",
    "       + mH* (H1_r.dot(N.x)**2 + H1_r.dot(N.z)**2)\n",
    "       + mH* (H2_r.dot(N.x)**2 + H2_r.dot(N.z)**2)\n",
    "      ).simplify()\n",
    "Izz = (  mO* (O_r.dot(N.x)**2 + O_r.dot(N.y)**2)\n",
    "       + mH* (H1_r.dot(N.x)**2 + H1_r.dot(N.y)**2)\n",
    "       + mH* (H2_r.dot(N.x)**2 + H2_r.dot(N.y)**2)\n",
    "      ).simplify()"
   ]
  },
  {
   "cell_type": "markdown",
   "metadata": {},
   "source": [
    "Los productos de inercia, son nulos, pero se los calcula para verificar esto."
   ]
  },
  {
   "cell_type": "code",
   "execution_count": 5,
   "metadata": {},
   "outputs": [],
   "source": [
    "Ixy = (  mO* (O_r.dot(N.x)* O_r.dot(N.y) )\n",
    "       + mH* (H1_r.dot(N.x)* H1_r.dot(N.y) )\n",
    "       + mH* (H2_r.dot(N.x)* H2_r.dot(N.y) )\n",
    "      ).simplify()\n",
    "Iyx = Ixy\n",
    "Ixz = (  mO* (O_r.dot(N.x)* O_r.dot(N.z) )\n",
    "       + mH* (H1_r.dot(N.x)* H1_r.dot(N.z) )\n",
    "       + mH* (H2_r.dot(N.x)* H2_r.dot(N.z) )\n",
    "      ).simplify()\n",
    "Izx = Ixz\n",
    "Iyz = (  mO* (O_r.dot(N.y)* O_r.dot(N.z) )\n",
    "       + mH* (H1_r.dot(N.y)* H1_r.dot(N.z) )\n",
    "       + mH* (H2_r.dot(N.y)* H2_r.dot(N.z) )\n",
    "      ).simplify()\n",
    "Izy = Iyz"
   ]
  },
  {
   "cell_type": "code",
   "execution_count": 12,
   "metadata": {},
   "outputs": [
    {
     "data": {
      "text/latex": [
       "$\\displaystyle \\overline{\\overline{I}} = \\left[\\begin{matrix}2 d^{2} m_{H} \\operatorname{cos}^{2}\\left(\\frac{\\phi}{2}\\right) & 0 & 0\\\\0 & 2 d^{2} m_{H} \\operatorname{sin}^{2}\\left(\\frac{\\phi}{2}\\right) & 0\\\\0 & 0 & 2 d^{2} m_{H}\\end{matrix}\\right]$"
      ],
      "text/plain": [
       "                          ⎡   2        2⎛φ⎞                            ⎤\n",
       "                          ⎢2⋅d ⋅m_H⋅cos ⎜─⎟         0             0    ⎥\n",
       "                          ⎢             ⎝2⎠                            ⎥\n",
       "                          ⎢                                            ⎥\n",
       "                          ⎢                     2        2⎛φ⎞          ⎥\n",
       "\\overline{\\overline{I}} = ⎢       0          2⋅d ⋅m_H⋅sin ⎜─⎟     0    ⎥\n",
       "                          ⎢                               ⎝2⎠          ⎥\n",
       "                          ⎢                                            ⎥\n",
       "                          ⎢                                       2    ⎥\n",
       "                          ⎣       0                 0          2⋅d ⋅m_H⎦"
      ]
     },
     "execution_count": 12,
     "metadata": {},
     "output_type": "execute_result"
    }
   ],
   "source": [
    "Iik_simbolo = sym.Symbol(r'\\overline{\\overline{I}}')\n",
    "Iik = sym.Matrix([[Ixx, Ixy, Ixz], [Ixy, Iyy, Iyz], [Izx, Izy, Izz]])\n",
    "sym.Eq(Iik_simbolo, Iik, evaluate=False)"
   ]
  },
  {
   "cell_type": "markdown",
   "metadata": {},
   "source": [
    "## Tensor de inercia para rotaciones desde el centro de masa con teorema de Steiner"
   ]
  },
  {
   "cell_type": "markdown",
   "metadata": {},
   "source": [
    "Puesto que se piden los momentos de inercia, el sistema de ejes tiene que estar orientado con los de simetría de la molécula y debe calcularse desde su centro de masa. Este se encuentra en algún punto en el eje $\\hat{y}$ que se muestra en la figura."
   ]
  },
  {
   "cell_type": "markdown",
   "metadata": {},
   "source": [
    "Si se calcula con un sistema de ejes $x'_i$ que no parten del centro de masa, se puede calcular un tensor $I'_{ik}$ con el que luego se puede recuperar el calculado desde el centro de masa $I_{ik}$\n",
    "\n",
    "$$\n",
    "I_{ik} = I'_{ik} - M [ a^2 \\delta_{ik} - a_i a_k ]\n",
    "$$\n",
    "donde $M$ es la masa de todo el sistema y $\\vec{a}$ va del origen de este sistema al centro de masa."
   ]
  },
  {
   "cell_type": "code",
   "execution_count": 7,
   "metadata": {},
   "outputs": [
    {
     "data": {
      "image/png": "[encoded data removed]",
      "text/latex": [
       "$\\displaystyle \\frac{2 d m_{H} \\operatorname{cos}\\left(\\frac{\\phi}{2}\\right)}{2 m_{H} + m_{O}}\\mathbf{\\hat{n}_y}$"
      ],
      "text/plain": [
       "           ⎛φ⎞\n",
       "2⋅d⋅m_H⋅cos⎜─⎟\n",
       "           ⎝2⎠\n",
       "────────────── n_y\n",
       " 2⋅m_H + m_O"
      ]
     },
     "execution_count": 7,
     "metadata": {},
     "output_type": "execute_result"
    }
   ],
   "source": [
    "cm_r = mH* (H1_r_centradaEnO + H2_r_centradaEnO)/(2* mH + mO)\n",
    "cm_r"
   ]
  },
  {
   "cell_type": "markdown",
   "metadata": {},
   "source": [
    "Con este dato hay que calcular el término de Steiner\n",
    "\n",
    "$$\n",
    "M [ a^2 \\delta_{ik} - a_i a_k ]\n",
    "=\n",
    "\\begin{pmatrix}\n",
    "M (a_y^2 + a_z^2) & - M a_x a_y & - M a_x a_z \\\\\n",
    "- M a_y a_x & M (a_x^2 + a_z^2) & - M a_y a_z \\\\\n",
    "- M a_z a_x & - M a_z a_y & M (a_x^2 + a_y^2),\n",
    "\\end{pmatrix}\n",
    "$$"
   ]
  },
  {
   "cell_type": "markdown",
   "metadata": {},
   "source": [
    "Solo se ven afectados $I_{xx}$ e $I{zz}$."
   ]
  },
  {
   "cell_type": "code",
   "execution_count": 8,
   "metadata": {},
   "outputs": [],
   "source": [
    "Ixx_cm = Ixx - (mO + 2* mH)* cm_r.dot(cm_r)\n",
    "Izz_cm = Izz - (mO + 2* mH)* cm_r.dot(cm_r)"
   ]
  },
  {
   "cell_type": "code",
   "execution_count": 9,
   "metadata": {},
   "outputs": [
    {
     "data": {
      "text/latex": [
       "$\\displaystyle \\overline{\\overline{I}} = \\left[\\begin{matrix}- \\frac{4 d^{2} m_{H}^{2} \\operatorname{cos}^{2}\\left(\\frac{\\phi}{2}\\right)}{2 m_{H} + m_{O}} + 2 d^{2} m_{H} \\operatorname{cos}^{2}\\left(\\frac{\\phi}{2}\\right) & 0 & 0\\\\0 & 2 d^{2} m_{H} \\operatorname{sin}^{2}\\left(\\frac{\\phi}{2}\\right) & 0\\\\0 & 0 & - \\frac{4 d^{2} m_{H}^{2} \\operatorname{cos}^{2}\\left(\\frac{\\phi}{2}\\right)}{2 m_{H} + m_{O}} + 2 d^{2} m_{H}\\end{matrix}\\right]$"
      ],
      "text/plain": [
       "                          ⎡     2    2    2⎛φ⎞                                \n",
       "                          ⎢  4⋅d ⋅m_H ⋅cos ⎜─⎟                                \n",
       "                          ⎢                ⎝2⎠      2        2⎛φ⎞             \n",
       "                          ⎢- ───────────────── + 2⋅d ⋅m_H⋅cos ⎜─⎟         0   \n",
       "                          ⎢     2⋅m_H + m_O                   ⎝2⎠             \n",
       "                          ⎢                                                   \n",
       "                          ⎢                                           2       \n",
       "\\overline{\\overline{I}} = ⎢                  0                     2⋅d ⋅m_H⋅si\n",
       "                          ⎢                                                   \n",
       "                          ⎢                                                   \n",
       "                          ⎢                                                   \n",
       "                          ⎢                                                   \n",
       "                          ⎢                                                   \n",
       "                          ⎢                  0                            0   \n",
       "                          ⎣                                                   \n",
       "\n",
       "                                     ⎤\n",
       "                                     ⎥\n",
       "                                     ⎥\n",
       "                     0               ⎥\n",
       "                                     ⎥\n",
       "                                     ⎥\n",
       " 2⎛φ⎞                                ⎥\n",
       "n ⎜─⎟                0               ⎥\n",
       "  ⎝2⎠                                ⎥\n",
       "                                     ⎥\n",
       "            2    2    2⎛φ⎞           ⎥\n",
       "         4⋅d ⋅m_H ⋅cos ⎜─⎟           ⎥\n",
       "                       ⎝2⎠      2    ⎥\n",
       "       - ───────────────── + 2⋅d ⋅m_H⎥\n",
       "            2⋅m_H + m_O              ⎦"
      ]
     },
     "execution_count": 9,
     "metadata": {},
     "output_type": "execute_result"
    }
   ],
   "source": [
    "Iik_cm = sym.Matrix([[Ixx_cm, Ixy, Ixz], [Ixy, Iyy, Iyz], [Izx, Izy, Izz_cm]])\n",
    "sym.Eq(Iik_simbolo, Iik_cm, evaluate=False)"
   ]
  },
  {
   "cell_type": "markdown",
   "metadata": {},
   "source": [
    "Simplificando."
   ]
  },
  {
   "cell_type": "code",
   "execution_count": 10,
   "metadata": {},
   "outputs": [
    {
     "data": {
      "text/latex": [
       "$\\displaystyle \\overline{\\overline{I}} = \\left[\\begin{matrix}\\frac{2 d^{2} m_{H} m_{O} \\operatorname{cos}^{2}\\left(\\frac{\\phi}{2}\\right)}{2 m_{H} + m_{O}} & 0 & 0\\\\0 & 2 d^{2} m_{H} \\operatorname{sin}^{2}\\left(\\frac{\\phi}{2}\\right) & 0\\\\0 & 0 & \\frac{2 d^{2} m_{H} \\left(2 m_{H} \\operatorname{sin}^{2}\\left(\\frac{\\phi}{2}\\right) + m_{O}\\right)}{2 m_{H} + m_{O}}\\end{matrix}\\right]$"
      ],
      "text/plain": [
       "                          ⎡   2            2⎛φ⎞                               \n",
       "                          ⎢2⋅d ⋅m_H⋅m_O⋅cos ⎜─⎟                               \n",
       "                          ⎢                 ⎝2⎠                               \n",
       "                          ⎢────────────────────         0                     \n",
       "                          ⎢    2⋅m_H + m_O                                    \n",
       "                          ⎢                                                   \n",
       "                          ⎢                         2        2⎛φ⎞             \n",
       "\\overline{\\overline{I}} = ⎢         0            2⋅d ⋅m_H⋅sin ⎜─⎟             \n",
       "                          ⎢                                   ⎝2⎠             \n",
       "                          ⎢                                                   \n",
       "                          ⎢                                           2     ⎛ \n",
       "                          ⎢                                        2⋅d ⋅m_H⋅⎜2\n",
       "                          ⎢                                                 ⎝ \n",
       "                          ⎢         0                   0          ───────────\n",
       "                          ⎣                                                 2⋅\n",
       "\n",
       "                   ⎤\n",
       "                   ⎥\n",
       "                   ⎥\n",
       "   0               ⎥\n",
       "                   ⎥\n",
       "                   ⎥\n",
       "                   ⎥\n",
       "   0               ⎥\n",
       "                   ⎥\n",
       "                   ⎥\n",
       "        2⎛φ⎞      ⎞⎥\n",
       "⋅m_H⋅sin ⎜─⎟ + m_O⎟⎥\n",
       "         ⎝2⎠      ⎠⎥\n",
       "───────────────────⎥\n",
       "m_H + m_O          ⎦"
      ]
     },
     "execution_count": 10,
     "metadata": {},
     "output_type": "execute_result"
    }
   ],
   "source": [
    "Iik_cmSimplificado = Iik_cm.applyfunc(sym.simplify)\n",
    "sym.Eq(Iik_simbolo, Iik_cmSimplificado, evaluate=False)"
   ]
  },
  {
   "cell_type": "markdown",
   "metadata": {},
   "source": [
    "Se substituyen las magnitudes restantes: $d$ y $\\phi$ para obtener los momentos de inercia en unidades de $\\mathrm{kg\\,m^2}$."
   ]
  },
  {
   "cell_type": "code",
   "execution_count": 11,
   "metadata": {},
   "outputs": [
    {
     "data": {
      "text/latex": [
       "$\\displaystyle \\overline{\\overline{I}} = \\left[\\begin{matrix}1.02353565118967 \\cdot 10^{-47} & 0 & 0\\\\0 & 1.92240664746526 \\cdot 10^{-47} & 0\\\\0 & 0 & 2.94594229865493 \\cdot 10^{-47}\\end{matrix}\\right]$"
      ],
      "text/plain": [
       "                          ⎡1.02353565118967e-47           0                   \n",
       "                          ⎢                                                   \n",
       "\\overline{\\overline{I}} = ⎢         0            1.92240664746526e-47         \n",
       "                          ⎢                                                   \n",
       "                          ⎣         0                     0            2.94594\n",
       "\n",
       "  0          ⎤\n",
       "             ⎥\n",
       "  0          ⎥\n",
       "             ⎥\n",
       "229865493e-47⎦"
      ]
     },
     "execution_count": 11,
     "metadata": {},
     "output_type": "execute_result"
    }
   ],
   "source": [
    "# geometría\n",
    "phi_magnitud = (sym.pi/180)* 104.5 # [rad]\n",
    "d_magnitud = 95.84E-12 # [m]\n",
    "\n",
    "# masas (asumo el isótopo más común)\n",
    "amu = 1.66053906660E-27 # [kg]\n",
    "mH_magnitud = 1.008* amu # [kg]\n",
    "mO_magnitud = 15.999* amu # [kg]\n",
    "\n",
    "parametros = {\n",
    "    mH : mH_magnitud,\n",
    "    mO : mO_magnitud,\n",
    "    d : d_magnitud,\n",
    "    phi : phi_magnitud\n",
    "}\n",
    "Iik_magnitudes = sym.N( Iik_cmSimplificado.subs(parametros) )\n",
    "sym.Eq(Iik_simbolo, Iik_magnitudes, evaluate=False)"
   ]
  }
 ],
 "metadata": {
  "kernelspec": {
   "display_name": "Python 3",
   "language": "python",
   "name": "python3"
  },
  "language_info": {
   "codemirror_mode": {
    "name": "ipython",
    "version": 3
   },
   "file_extension": ".py",
   "mimetype": "text/x-python",
   "name": "python",
   "nbconvert_exporter": "python",
   "pygments_lexer": "ipython3",
   "version": "3.7.3"
  }
 },
 "nbformat": 4,
 "nbformat_minor": 4
}
