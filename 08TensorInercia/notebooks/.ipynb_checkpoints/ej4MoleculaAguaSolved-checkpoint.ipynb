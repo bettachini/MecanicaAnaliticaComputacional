{
 "cells": [
  {
   "cell_type": "markdown",
   "metadata": {},
   "source": [
    "# Tensor de inercia | Guía de ejercicios | Ejercicio 4\n",
    "\n",
    "© 2020 Víctor A. Bettachini  \n",
    "Mecánica General  \n",
    "Departamento de Ingeniería e Investigación Tecnológica  \n",
    "Universidad Nacional de La Matanza   \n",
    "![](ambos.png \"UNLaM | DIIT\")  \n",
    "\n",
    "---"
   ]
  },
  {
   "cell_type": "markdown",
   "metadata": {},
   "source": [
    "## Enunciado\n",
    "Calcule los momentos de inercia para una molécula de \\\\(\\mathrm{H_2O}\\\\).\n",
    "\n",
    "En CNPT se abre con un ángulo de \\\\(104,5^o\\\\) y median \\\\(95,84\\,\\mathrm{pm}\\\\) entre O y H.\n",
    "\n",
    "![](moleculaH2O.png)"
   ]
  },
  {
   "cell_type": "markdown",
   "metadata": {},
   "source": [
    "### Resolución"
   ]
  },
  {
   "cell_type": "markdown",
   "metadata": {},
   "source": [
    "Solo se contemplarán los núcleos en los extremos de los enlaces considerados como masas puntuales.\n",
    "Por tanto se utiliza la expresión del tensor de inercia para distribuciones discretas de masa.\n",
    "\n",
    "$$\n",
    "\\overline{\\overline{I}}\n",
    "= I_{ik} = \n",
    "\\begin{pmatrix}\n",
    "I_{xx} & I_{xy} & I_{xz} \\\\\n",
    "I_{yx} & I_{yy} & I_{yz} \\\\\n",
    "I_{zx} & I_{zy} & I_{zz} \\\\\n",
    "\\end{pmatrix}\n",
    "=\n",
    "\\begin{pmatrix}\n",
    "\\sum_p m_p (y_p^2 + z_p^2) & - \\sum_p m_p x_p y_p & - \\sum_p m_p x_p z_p \\\\\n",
    "- \\sum_p m_p y_p x_p & \\sum_p m_p (x_p^2 + z_p^2)  & - \\sum_p m_p y_p z_p \\\\\n",
    "- \\sum_p m_p z_p x_p & - \\sum_p m_p z_p y_p & \\sum_p m_p (x_p^2 + y_p^2) \\\\\n",
    "\\end{pmatrix}\n",
    "$$"
   ]
  },
  {
   "cell_type": "markdown",
   "metadata": {},
   "source": [
    "Puesto que se piden los momentos de inercia, el sistema de ejes tiene que estar orientado con los de simetría de la molécula y debe calcularse desde su centro de masa. Este se encuentra en algún punto en el eje $\\hat{y}$ que se muestra en la figura.\n",
    "\n",
    "Primero se escriben las posiciones en un sistema centrado en el núcleo del átomo de O."
   ]
  },
  {
   "cell_type": "code",
   "execution_count": 25,
   "metadata": {},
   "outputs": [],
   "source": [
    "# biblioteca de cálculo simbólico\n",
    "import sympy as sym\n",
    "import sympy.physics.mechanics as mech\n",
    "mech.init_vprinting() # notación con puntos para derivadas temporales"
   ]
  },
  {
   "cell_type": "code",
   "execution_count": 26,
   "metadata": {},
   "outputs": [],
   "source": [
    "phi, mO, mH, d = sym.symbols('phi m_O m_H d', positive=True) # tilde para diferenciar densidad de radio"
   ]
  },
  {
   "cell_type": "code",
   "execution_count": 30,
   "metadata": {},
   "outputs": [],
   "source": [
    "# Sistema cartesiano\n",
    "N = sym.physics.vector.ReferenceFrame('N') # marco referencial N en coordenadas cartesianas\n",
    "\n",
    "# posiciones\n",
    "O_r_centradaEnO = 0\n",
    "H1_r_centradaEnO = d* ( -sym.sin(phi/2)* (N.x) + sym.cos(phi/2)* (N.y ) ) # Hidrógeno inferior en figura\n",
    "H2_r_centradaEnO = d* ( +sym.sin(phi/2)* (N.x) + sym.cos(phi/2)* (N.y ) ) # Hidrógeno superior en figura"
   ]
  },
  {
   "cell_type": "code",
   "execution_count": 31,
   "metadata": {},
   "outputs": [
    {
     "data": {
      "image/png": "[encoded data removed]",
      "text/latex": [
       "$\\displaystyle 0.111906744379684 d \\operatorname{cos}\\left(\\frac{\\phi}{2}\\right)\\mathbf{\\hat{n}_y}$"
      ],
      "text/plain": [
       "                       ⎛φ⎞\n",
       "0.111906744379684⋅d⋅cos⎜─⎟ n_y\n",
       "                       ⎝2⎠"
      ]
     },
     "execution_count": 31,
     "metadata": {},
     "output_type": "execute_result"
    }
   ],
   "source": [
    "# masas (asumo el isótopo más común)\n",
    "amu = 1.66053906660E-27 # [kg]\n",
    "m_H = 1.008* amu # [kg]\n",
    "m_O = 15.999* amu # [kg]\n",
    "cm_r = m_H* (H1_r_centradaEnO + H2_r_centradaEnO)/(2* m_H + m_O)\n",
    "cm_r"
   ]
  },
  {
   "cell_type": "markdown",
   "metadata": {},
   "source": [
    "Recalculo posiciones respecto al centro de masa para poder calcular los elementos del tensor de inercia calculado desde este."
   ]
  },
  {
   "cell_type": "code",
   "execution_count": 32,
   "metadata": {},
   "outputs": [],
   "source": [
    "O_r = O_r_centradaEnO - cm_r\n",
    "H1_r = H1_r_centradaEnO - cm_r\n",
    "H2_r = H1_r_centradaEnO - cm_r"
   ]
  },
  {
   "cell_type": "markdown",
   "metadata": {},
   "source": [
    "Primero lo momentos de inercia, en la diagonal del tensor."
   ]
  },
  {
   "cell_type": "code",
   "execution_count": 48,
   "metadata": {},
   "outputs": [],
   "source": [
    "Ixx = (  m_O* (O_r.dot(N.y)**2 + O_r.dot(N.z)**2)\n",
    "       + m_H* (H1_r.dot(N.y)**2 + H1_r.dot(N.z)**2)\n",
    "       + m_H* (H2_r.dot(N.y)**2 + H2_r.dot(N.z)**2)\n",
    "      ).simplify()\n",
    "Iyy = (  m_O* (O_r.dot(N.x)**2 + O_r.dot(N.z)**2)\n",
    "       + m_H* (H1_r.dot(N.x)**2 + H1_r.dot(N.z)**2)\n",
    "       + m_H* (H2_r.dot(N.x)**2 + H2_r.dot(N.z)**2)\n",
    "      ).simplify()\n",
    "Izz = (  m_O* (O_r.dot(N.x)**2 + O_r.dot(N.y)**2)\n",
    "       + m_H* (H1_r.dot(N.x)**2 + H1_r.dot(N.y)**2)\n",
    "       + m_H* (H2_r.dot(N.x)**2 + H2_r.dot(N.y)**2)\n",
    "      ).simplify()"
   ]
  },
  {
   "cell_type": "markdown",
   "metadata": {},
   "source": [
    "Solo por verificar calculo uno de los productos de inercia que debiera ser nulo."
   ]
  },
  {
   "cell_type": "code",
   "execution_count": 50,
   "metadata": {},
   "outputs": [
    {
     "data": {
      "image/png": "[encoded data removed]",
      "text/latex": [
       "$\\displaystyle 0$"
      ],
      "text/plain": [
       "0"
      ]
     },
     "execution_count": 50,
     "metadata": {},
     "output_type": "execute_result"
    }
   ],
   "source": [
    "Ixy =  m_O* (O_r.dot(N.x)* O_r.dot(N.y)).simplify()\n",
    "Ixy"
   ]
  },
  {
   "cell_type": "code",
   "execution_count": 39,
   "metadata": {},
   "outputs": [],
   "source": [
    "Ixy = 0\n",
    "Iyx = Ixy\n",
    "Ixz = 0\n",
    "Izx = Ixz\n",
    "Iyz = 0\n",
    "Izy = Iyz"
   ]
  },
  {
   "cell_type": "markdown",
   "metadata": {},
   "source": [
    "### Momento de inercia \\\\(\\overline{\\overline{I}}\\\\) respecto al centro de masa"
   ]
  },
  {
   "cell_type": "code",
   "execution_count": 51,
   "metadata": {},
   "outputs": [
    {
     "data": {
      "text/latex": [
       "$\\displaystyle \\overline{\\overline{I}} = \\left[\\begin{matrix}2.9730225082149 \\cdot 10^{-27} d^{2} \\operatorname{cos}^{2}\\left(\\frac{\\phi}{2}\\right) & 0 & 0\\\\0 & 3.3476467582656 \\cdot 10^{-27} d^{2} \\operatorname{sin}^{2}\\left(\\frac{\\phi}{2}\\right) & 0\\\\0 & 0 & d^{2} \\left(3.16033463324025 \\cdot 10^{-27} - 1.87312125025353 \\cdot 10^{-28} \\operatorname{cos}\\left(\\phi\\right)\\right)\\end{matrix}\\right]$"
      ],
      "text/plain": [
       "                          ⎡                     2    2⎛φ⎞                     \n",
       "                          ⎢2.9730225082149e-27⋅d ⋅cos ⎜─⎟                0    \n",
       "                          ⎢                           ⎝2⎠                     \n",
       "                          ⎢                                                   \n",
       "                          ⎢                                                   \n",
       "\\overline{\\overline{I}} = ⎢              0                 3.3476467582656e-27\n",
       "                          ⎢                                                   \n",
       "                          ⎢                                                   \n",
       "                          ⎢                                                   \n",
       "                          ⎣              0                               0    \n",
       "\n",
       "                                                                    ⎤\n",
       "                                        0                           ⎥\n",
       "                                                                    ⎥\n",
       "                                                                    ⎥\n",
       "  2    2⎛φ⎞                                                         ⎥\n",
       "⋅d ⋅sin ⎜─⎟                             0                           ⎥\n",
       "        ⎝2⎠                                                         ⎥\n",
       "                                                                    ⎥\n",
       "              2                                                     ⎥\n",
       "             d ⋅(3.16033463324025e-27 - 1.87312125025353e-28⋅cos(φ))⎦"
      ]
     },
     "execution_count": 51,
     "metadata": {},
     "output_type": "execute_result"
    }
   ],
   "source": [
    "Iik = sym.Matrix([[Ixx, Ixy, Ixz], [Ixy, Iyy, Iyz], [Izx, Izy, Izz]])\n",
    "Iik_simbolo = sym.Symbol(r'\\overline{\\overline{I}}')\n",
    "sym.Eq(Iik_simbolo, Iik, evaluate=False)"
   ]
  },
  {
   "cell_type": "markdown",
   "metadata": {},
   "source": [
    "Se substituyen las magnitudes restantes: $d$ y $\\phi$ para obtener los momentos de inercia en unidades de $\\mathrm{kg\\,m^2}$."
   ]
  },
  {
   "cell_type": "code",
   "execution_count": 54,
   "metadata": {},
   "outputs": [
    {
     "data": {
      "text/latex": [
       "$\\displaystyle \\overline{\\overline{I}} = \\left[\\begin{matrix}1.02353565118967 \\cdot 10^{-47} & 0 & 0\\\\0 & 1.92240664746526 \\cdot 10^{-47} & 0\\\\0 & 0 & 2.94594229865493 \\cdot 10^{-47}\\end{matrix}\\right]$"
      ],
      "text/plain": [
       "                          ⎡1.02353565118967e-47           0                   \n",
       "                          ⎢                                                   \n",
       "\\overline{\\overline{I}} = ⎢         0            1.92240664746526e-47         \n",
       "                          ⎢                                                   \n",
       "                          ⎣         0                     0            2.94594\n",
       "\n",
       "  0          ⎤\n",
       "             ⎥\n",
       "  0          ⎥\n",
       "             ⎥\n",
       "229865493e-47⎦"
      ]
     },
     "execution_count": 54,
     "metadata": {},
     "output_type": "execute_result"
    }
   ],
   "source": [
    "phi_valor = (sym.pi/180)* 104.5 # [rad]\n",
    "d_valor = 95.84E-12 # [m]\n",
    "parametros = {\n",
    "    d : d_valor,\n",
    "    phi : phi_valor\n",
    "}\n",
    "Iik_valores = sym.N( Iik.subs(parametros) )\n",
    "sym.Eq(Iik_simbolo, Iik_valores, evaluate=False)"
   ]
  },
  {
   "cell_type": "code",
   "execution_count": null,
   "metadata": {},
   "outputs": [],
   "source": []
  }
 ],
 "metadata": {
  "kernelspec": {
   "display_name": "Python 3",
   "language": "python",
   "name": "python3"
  },
  "language_info": {
   "codemirror_mode": {
    "name": "ipython",
    "version": 3
   },
   "file_extension": ".py",
   "mimetype": "text/x-python",
   "name": "python",
   "nbconvert_exporter": "python",
   "pygments_lexer": "ipython3",
   "version": "3.7.3"
  }
 },
 "nbformat": 4,
 "nbformat_minor": 4
}
