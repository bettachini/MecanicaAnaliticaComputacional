{
 "cells": [
  {
   "cell_type": "markdown",
   "metadata": {},
   "source": [
    "# Tensor de inercia | Guía de ejercicios | Ejercicio 5\n",
    "© 2020 Víctor A. Bettachini  \n",
    "Mecánica General  \n",
    "Departamento de Ingeniería e Investigación Tecnológica  \n",
    "Universidad Nacional de La Matanza   \n",
    "![](ambos.png \"UNLaM | DIIT\")  \n",
    "\n",
    "---"
   ]
  },
  {
   "cell_type": "markdown",
   "metadata": {},
   "source": [
    "## Enunciado\n",
    "Tensor de inercia de un cubo con arista \\(b\\).\n",
    "<!---\n",
    "**Marion e.g. 11-35 y 11-6} Tensor de inercia de un cubo con arista \\(b\\).\n",
    "--->\n",
    "Encuentre:   \n",
    "a) Calcule el tensor de inercia desde el sistema con origen en el vértice \\(Q\\) en el sistema \\(X_i\\).  \n",
    "\n",
    "b) Use la forma general del teorema de ejes paralelos de Steiner para calcularlo ahora desde el centro de masa \\(O\\) para el sistema \\(x_i\\).   \n",
    "\n",
    "![](mFig11-8.png)"
   ]
  },
  {
   "cell_type": "markdown",
   "metadata": {},
   "source": [
    "### Resolución\n",
    "\n",
    "#### a) Tensor de inercia desde $Q$\n",
    "El problema nos pide calcular el tensor de inercia.\n",
    "Esto es todos los momentos y productos de inercia que lo componen. "
   ]
  },
  {
   "cell_type": "code",
   "execution_count": 2,
   "metadata": {},
   "outputs": [],
   "source": [
    "import sympy as sym"
   ]
  },
  {
   "cell_type": "code",
   "execution_count": 48,
   "metadata": {},
   "outputs": [],
   "source": [
    "I = sym.Symbol('I')\n",
    "Ixx, Ixy, Ixz = sym.symbols('I_{xx} I_{xy} I_{xz}')\n",
    "Iyx, Iyy, Iyz = sym.symbols('I_{yx} I_{yy} I_{yz}')\n",
    "Izx, Izy, Izz = sym.symbols('I_{zx} I_{zy} I_{zz}')"
   ]
  },
  {
   "cell_type": "code",
   "execution_count": 32,
   "metadata": {},
   "outputs": [
    {
     "data": {
      "text/latex": [
       "$\\displaystyle I = \\left[\\begin{matrix}I_{xx} & I_{xy} & I_{xz}\\\\I_{yx} & I_{yy} & I_{yz}\\\\I_{zx} & I_{zy} & I_{zz}\\end{matrix}\\right]$"
      ],
      "text/plain": [
       "Eq(I, [[I_{xx}, I_{xy}, I_{xz}], [I_{yx}, I_{yy}, I_{yz}], [I_{zx}, I_{zy}, I_{zz}]])"
      ]
     },
     "execution_count": 32,
     "metadata": {},
     "output_type": "execute_result"
    }
   ],
   "source": [
    "I_exp = sym.Array([[Ixx, Ixy, Ixz], [Iyx, Iyy, Iyz], [Izx, Izy, Izz]])\n",
    "sym.Eq( I , I_exp )"
   ]
  },
  {
   "cell_type": "markdown",
   "metadata": {},
   "source": [
    "Recordamos la expresión de los elementos del tensor de inercia para un sistema continuo\n",
    "$$\n",
    "I_{ik} = \\iiint \\rho(\\vec{r}) \\left(x_l^2 \\delta_{ik} -  x_i x_k \\right) dV .\n",
    "$$\n",
    "Calcularemos en coordenadas cartesianas, por tanto $dV = dx dy dz$. \n",
    "La densidad $\\rho = \\frac{m}{b^3}$\n",
    "\n",
    "Empecemos por uno de los momentos de inercia.\n",
    "El primero tiene $i=x$ e $k=x$\n",
    "$$\n",
    "\\begin{aligned}\n",
    "I{xx} \n",
    "&= \\iiint \\rho(\\vec{r}) \\left(x^2 + y^2 + z^2 - xx \\right) \\\\\n",
    "&= \\frac{m}{b^3} \\int_0^b dx \\int_0^b dy \\int_0^b dz ( y^2 + z^2 ).\n",
    "\\end{aligned}\n",
    "$$"
   ]
  },
  {
   "cell_type": "code",
   "execution_count": 36,
   "metadata": {},
   "outputs": [
    {
     "data": {
      "text/latex": [
       "$\\displaystyle I_{xx} = \\frac{2 b^{2} m}{3}$"
      ],
      "text/plain": [
       "Eq(I_{xx}, 2*b**2*m/3)"
      ]
     },
     "execution_count": 36,
     "metadata": {},
     "output_type": "execute_result"
    }
   ],
   "source": [
    "x, y, z, b, m = sym.symbols('x y z b m')\n",
    "f_xx = y**2 + z**2\n",
    "rho = m/ b**3\n",
    "Ixx_exp = rho* sym.integrate(f_xx, (x,0,b), (y,0,b), (z,0,b))\n",
    "sym.Eq( Ixx , Ixx_exp )"
   ]
  },
  {
   "cell_type": "markdown",
   "metadata": {},
   "source": [
    "Los momentos de inercia $I_{yy}$ e $I_{zz}$ son iguales"
   ]
  },
  {
   "cell_type": "code",
   "execution_count": 39,
   "metadata": {},
   "outputs": [],
   "source": [
    "Iyy_exp = Ixx_exp\n",
    "Izz_exp = Ixx_exp"
   ]
  },
  {
   "cell_type": "markdown",
   "metadata": {},
   "source": [
    "Empiezo con los productos de inercia de $i=x$.\n",
    "El primero sería el que tiene $k=y$\n",
    "$$\n",
    "\\begin{aligned}\n",
    "I{xy} \n",
    "&= \\iiint \\rho(\\vec{r}) \\left(- xy \\right) \\\\\n",
    "&= \\frac{m}{b^3} \\int_0^b dz \\int_0^b dy \\int_0^b dx ( -xy ).\n",
    "\\end{aligned}\n",
    "$$"
   ]
  },
  {
   "cell_type": "code",
   "execution_count": 37,
   "metadata": {},
   "outputs": [
    {
     "data": {
      "text/latex": [
       "$\\displaystyle I_{xy} = - \\frac{b^{2} m}{4}$"
      ],
      "text/plain": [
       "Eq(I_{xy}, -b**2*m/4)"
      ]
     },
     "execution_count": 37,
     "metadata": {},
     "output_type": "execute_result"
    }
   ],
   "source": [
    "f_xy = -x* y\n",
    "Ixy_exp = rho* sym.integrate(f_xy, (x,0,b), (y,0,b), (z,0,b))\n",
    "sym.Eq( Ixy , Ixy_exp )"
   ]
  },
  {
   "cell_type": "markdown",
   "metadata": {},
   "source": [
    "Es sencillo comprobar que todos los demás productos de inercia son iguales."
   ]
  },
  {
   "cell_type": "code",
   "execution_count": 35,
   "metadata": {},
   "outputs": [],
   "source": [
    "Ixz_exp = Ixy_exp\n",
    "Iyx_exp = Ixy_exp\n",
    "Iyz_exp = Ixy_exp\n",
    "Izx_exp = Ixy_exp\n",
    "Izy_exp = Ixy_exp"
   ]
  },
  {
   "cell_type": "markdown",
   "metadata": {},
   "source": [
    "Por tanto el tensor de inercia calculado desde el vertice $Q$ con los ejes orientados como muestra la figura es"
   ]
  },
  {
   "cell_type": "code",
   "execution_count": 44,
   "metadata": {},
   "outputs": [
    {
     "data": {
      "text/latex": [
       "$\\displaystyle I = \\left[\\begin{matrix}\\frac{2 b^{2} m}{3} & - \\frac{b^{2} m}{4} & - \\frac{b^{2} m}{4}\\\\- \\frac{b^{2} m}{4} & \\frac{2 b^{2} m}{3} & - \\frac{b^{2} m}{4}\\\\- \\frac{b^{2} m}{4} & - \\frac{b^{2} m}{4} & \\frac{2 b^{2} m}{3}\\end{matrix}\\right]$"
      ],
      "text/plain": [
       "Eq(I, [[2*b**2*m/3, -b**2*m/4, -b**2*m/4], [-b**2*m/4, 2*b**2*m/3, -b**2*m/4], [-b**2*m/4, -b**2*m/4, 2*b**2*m/3]])"
      ]
     },
     "execution_count": 44,
     "metadata": {},
     "output_type": "execute_result"
    }
   ],
   "source": [
    "subsI = {\n",
    "    Ixx: Ixx_exp,\n",
    "    Ixy: Ixy_exp,\n",
    "    Ixz: Ixz_exp,\n",
    "    Iyx: Iyx_exp,\n",
    "    Iyy: Iyy_exp,\n",
    "    Iyz: Iyz_exp,\n",
    "    Izx: Izx_exp,\n",
    "    Izy: Izy_exp,\n",
    "    Izz: Izz_exp\n",
    "}\n",
    "I_subs = I_exp.subs(subsI)\n",
    "sym.Eq( I , I_subs )"
   ]
  },
  {
   "cell_type": "markdown",
   "metadata": {},
   "source": [
    "#### b) Traslado de $I$ al centro de masa con teorema de Steiner"
   ]
  },
  {
   "cell_type": "markdown",
   "metadata": {},
   "source": [
    "Si los ejes $x'_i$ no parten del centro de masa\n",
    "$$\n",
    "I'_{ik} = I_{ik} + m (a^2 \\delta_{ik} - a_i a_k ) \n",
    "$$\n",
    "donde $\\vec{a}$ va del centro de masa a este sistema. Esta expresión se llama **teorema de Steiner**.\n",
    "\n",
    "En este caso $\\vec{a} = \\vec{OQ} = -\\frac{b}{2} \\left( \\hat{x} + \\hat{y} + \\hat{z} \\right)$, por lo que para obtener $I_{ik}$ hay que restar al $I$ calculado en el punto anterior $m (a^2 \\delta_{ik} - a_i a_k )$.\n",
    "\n",
    "Para los elementos en la diagonal en que $i=k$, hay que calcular\n",
    "$$\n",
    "\\vec{a}^2 = \\frac{b^2}{4} \\left( \\hat{x} + \\hat{y} + \\hat{z} \\right) \\cdot \\left( \\hat{x} + \\hat{y} + \\hat{z} \\right) = \\frac{3 b^2}{4},\n",
    "$$\n",
    "en tanto que todos los $- a_i a_k$ valen\n",
    "$$\n",
    "- a_i a_k = - \\frac{b}{2} \\frac{b}{2} = - \\frac{b^2}{4}.\n",
    "$$\n",
    "\n",
    "Queda entonces que el tensor de Steiner a restar del obtenido anteriormente es\n",
    "$$\n",
    "m (a^2 \\delta_{ik} - a_i a_k )\n",
    "= m \\frac{b^2}{4}\n",
    "\\begin{pmatrix}\n",
    "3 -1 & -1 & -1 \\\\\n",
    "-1 & 3 -1 & -1 \\\\\n",
    "-1 & -1 & 3 -1 \\\\\n",
    "\\end{pmatrix}\n",
    "= m \\frac{b^2}{4}\n",
    "\\begin{pmatrix}\n",
    "2 & -1 & -1 \\\\\n",
    "-1 & 2 & -1 \\\\\n",
    "-1 & -1 & 2 \\\\\n",
    "\\end{pmatrix}\n",
    "$$"
   ]
  },
  {
   "cell_type": "code",
   "execution_count": 45,
   "metadata": {},
   "outputs": [
    {
     "data": {
      "text/latex": [
       "$\\displaystyle \\left[\\begin{matrix}\\frac{b^{2} m}{2} & - \\frac{b^{2} m}{4} & - \\frac{b^{2} m}{4}\\\\- \\frac{b^{2} m}{4} & \\frac{b^{2} m}{2} & - \\frac{b^{2} m}{4}\\\\- \\frac{b^{2} m}{4} & - \\frac{b^{2} m}{4} & \\frac{b^{2} m}{2}\\end{matrix}\\right]$"
      ],
      "text/plain": [
       "[[b**2*m/2, -b**2*m/4, -b**2*m/4], [-b**2*m/4, b**2*m/2, -b**2*m/4], [-b**2*m/4, -b**2*m/4, b**2*m/2]]"
      ]
     },
     "execution_count": 45,
     "metadata": {},
     "output_type": "execute_result"
    }
   ],
   "source": [
    "steiner = (m* b**2/ 4)* sym.Array([[2, -1, -1], [-1, 2, -1], [-1, -1, 2]])\n",
    "steiner"
   ]
  },
  {
   "cell_type": "code",
   "execution_count": 47,
   "metadata": {},
   "outputs": [
    {
     "data": {
      "text/latex": [
       "$\\displaystyle I_{cm} = \\left[\\begin{matrix}\\frac{b^{2} m}{6} & 0 & 0\\\\0 & \\frac{b^{2} m}{6} & 0\\\\0 & 0 & \\frac{b^{2} m}{6}\\end{matrix}\\right]$"
      ],
      "text/plain": [
       "Eq(I_{cm}, [[b**2*m/6, 0, 0], [0, b**2*m/6, 0], [0, 0, b**2*m/6]])"
      ]
     },
     "execution_count": 47,
     "metadata": {},
     "output_type": "execute_result"
    }
   ],
   "source": [
    "Icm = sym.symbols('I_{cm}')\n",
    "Icm_exp = I_subs - steiner\n",
    "sym.Eq( Icm , Icm_exp )"
   ]
  },
  {
   "cell_type": "markdown",
   "metadata": {},
   "source": [
    "Que es el tensor de inercia para un cubo con ejes perpendiculares a sus caras."
   ]
  }
 ],
 "metadata": {
  "kernelspec": {
   "display_name": "Python 3",
   "language": "python",
   "name": "python3"
  },
  "language_info": {
   "codemirror_mode": {
    "name": "ipython",
    "version": 3
   },
   "file_extension": ".py",
   "mimetype": "text/x-python",
   "name": "python",
   "nbconvert_exporter": "python",
   "pygments_lexer": "ipython3",
   "version": "3.7.3"
  }
 },
 "nbformat": 4,
 "nbformat_minor": 4
}
