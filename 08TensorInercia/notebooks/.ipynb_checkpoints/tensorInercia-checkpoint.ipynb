{
 "cells": [
  {
   "cell_type": "markdown",
   "metadata": {},
   "source": [
    "# Dinámica del cuerpo rígido | Tensor de inercia\n",
    "© 2020 Víctor A. Bettachini  \n",
    "Mecánica General  \n",
    "Departamento de Ingeniería e Investigación Tecnológica  \n",
    "Universidad Nacional de La Matanza   \n",
    "![](ambos.png \"UNLaM | DIIT\")  \n",
    "\n",
    "---\n",
    "\n",
    "**Referencia**: _Adaptado de secciones $\\S$30 y $\\S$31. Mecánica. Landau y Lifschitz.MIR (Moscú), 1969._"
   ]
  },
  {
   "cell_type": "markdown",
   "metadata": {},
   "source": [
    "## Cuerpo rígido\n",
    "\n",
    "**Rígido**: si las **distancias son invariantes** entre puntos del sistema.\n",
    "\n",
    "Tal cosa no existe: es una aproximación.\n",
    "\n",
    "Frente al desplazamiento $\\Delta \\vec{r}$ se desprecian cambios:\n",
    "- forma\n",
    "- dimensiones"
   ]
  },
  {
   "cell_type": "markdown",
   "metadata": {},
   "source": [
    "## Distribución y centro de masa\n",
    "\n",
    "- Cada diferencial de volúmen $d V$ tiene un $d m$\n",
    "- Masa total \n",
    "$$\n",
    "m = \\int d m (\\vec{r}) = \\iiint \\rho(\\vec{r}) dV\n",
    "$$\n",
    "    - Si no es homogéno la **densidad** $\\rho(\\vec{r})$ depende de $\\vec{r}$\n",
    "- Centro de masa (centro de inercia)\n",
    "$$\n",
    "\\vec{r}_{cm} = \\frac{1}{m} \\iiint \\vec{r} \\rho(\\vec{r}) dV\n",
    "$$\n"
   ]
  },
  {
   "cell_type": "markdown",
   "metadata": {},
   "source": [
    "## Energía cinética\n",
    "$$\n",
    "T = \\int \\frac{d m (\\vec{r})}{2} \\dot{\\vec{r}}^2\n",
    "$$\n",
    "Volvemos sobre que es $\\dot{\\vec{r}}$ cuando hay rotación."
   ]
  },
  {
   "cell_type": "markdown",
   "metadata": {},
   "source": [
    "### Velocidad angular: araña en el frisbee\n",
    "![](aranaFrisbee.png \"Sistemas de coordenadas para la araña en el frisbee\")\n",
    "![](lFig5.png \"Cambio de posición ante rotación\")\n",
    "\n",
    "$d \\vec{\\varphi} = d \\varphi \\hat{k} \\implies d \\vec{r}_{a/o} = d \\vec{\\varphi} \\times \\vec{r}_{a/f}$ (regla de la _mano derecha_)\n",
    "\n",
    "$$\n",
    "\\begin{aligned}\n",
    "\\vec{r}_{a/o} &= \\vec{r}_{f/o} + \\vec{r}_{a/f} \\\\\n",
    "d \\vec{r}_{a/o} &= d \\vec{r}_{f/o} + d \\vec{\\varphi} \\times \\vec{r}_{a/f}\n",
    "\\end{aligned}\n",
    "$$"
   ]
  },
  {
   "cell_type": "markdown",
   "metadata": {},
   "source": [
    "### Teorema del transporte\n",
    "$$\n",
    "\\begin{aligned}\n",
    "d \\vec{r}_{a/o}\n",
    "&= d \\vec{r}_{f/o} + d \\vec{\\varphi} \\times \\vec{r}_{a/f} \\\\\n",
    "\\dot{\\vec{r}}_{a/o} = \\frac{d }{d t} \\vec{r}_{a/o}\n",
    "&= \\frac{d }{d t} \\vec{r}_{f/o}  + \\frac{d }{d t} \\vec{\\varphi}  \\times \\vec{r}_{a/f} = \\dot{\\vec{r}}_{f/o} + \\vec{\\Omega}_{f/o} \\times \\vec{r}_{a/f}\n",
    "\\end{aligned}\n",
    "$$\n",
    "\n",
    "$$\n",
    "\\boxed{\n",
    "\\dot{ \\vec{r} }_o = \\frac{\\mathrm{d}}{\\mathrm{d} t} \\vec{r}_o = \\frac{\\mathrm{d}}{\\mathrm{d} t} \\vec{R}_P + \\vec{\\Omega}_{P/o} \\times \\vec{r}_P = \\dot{ \\vec{R}}_P + \\vec{\\Omega}_{P/o} \\times \\vec{r}_P\n",
    "}\n",
    "$$\n",
    "- $\\vec{r}_o$ punto que rota en torno a $\\vec{R}_P$ con $\\vec{\\Omega}_{P/O}$  \n",
    "- $\\vec{r}_o, \\vec{r}_P$ respecto a inercial (suelo) y a  $\\vec{R}_o$: $\\vec{r}_o = \\vec{R}_o + \\vec{r}_P$"
   ]
  },
  {
   "cell_type": "markdown",
   "metadata": {},
   "source": [
    "### Energía cinética de un sistema discreto\n",
    "Elementos finitos: partir en una suma discreta\n",
    "\n",
    "$$\n",
    "\\begin{aligned}\n",
    "T\n",
    "&= \\int \\frac{d m (\\vec{r})}{2} \\dot{\\vec{r}}^2\n",
    "\\simeq \\sum_p \\frac{m_p }{2} \\dot{\\vec{r}_p}^2\n",
    "= \\sum_p \\frac{m_p }{2} \\left( \\dot{ \\vec{R}} + \\vec{\\Omega} \\times \\vec{r} \\right)^2 \\\\\n",
    "&\\simeq \n",
    " \\dot{ \\vec{R}}^2 \\sum_p \\frac{m_p }{2}\n",
    "+ \\sum_p m_p \\dot{ \\vec{R}} \\left(  \\vec{\\Omega} \\times \\vec{r}_p \\right)\n",
    "+ \\sum_p \\frac{m_p }{2} \\left( \\vec{\\Omega} \\times \\vec{r}_p \\right)^2\n",
    "\\end{aligned}\n",
    "$$\n",
    "El termino del medio se anula si el origen es el centro de masa\n",
    "\n",
    "$$\n",
    "\\sum_p m_p \\dot{ \\vec{R}} \\left( \\vec{\\Omega} \\times \\vec{r}_p \\right) = \\sum_p m_p \\vec{r}_p \\left( \\dot{ \\vec{R}} \\times \\vec{\\Omega} \\right) =  \\left( \\dot{ \\vec{R}} \\times \\vec{\\Omega} \\right) \\sum_p m_p \\vec{r}_p = 0\n",
    "$$\n",
    "\n",
    "$$\n",
    "T \\simeq \\frac{m }{2} \\dot{ \\vec{R}}^2 \n",
    "+ \\frac{1}{2} \\sum_p m_p \\left[ \\vec{\\Omega}^2 \\vec{r}_p^2\n",
    "- \\left( \\vec{\\Omega} \\cdot \\vec{r}_p \\right)^2 \\right]\n",
    "$$"
   ]
  },
  {
   "cell_type": "markdown",
   "metadata": {},
   "source": [
    "### Energía cinética de rotación\n",
    "En notación tensorial $x_{i,k,l}$ son las componentes de $\\vec{r}_p$.\n",
    "No se escriben los símbolos de suma sobre tales índices, pero se entiende que $A_i B_i = \\vec{A} \\cdot \\vec{B}$ y $A_l A_l = \\vec{A}^2$.\n",
    "El índice que se elija es indistinto para los elementos individuales, así para el primer $\\vec{\\Omega}^2$ se utiliza el índice $i$ ($\\Omega_i$) y para $\\vec{r}_p^2$ el $l$ ($x_l$) para que quede claro que no hay que realizar un producto escalar entre sus componentes al cuadrado.\n",
    "\n",
    "$$\n",
    "\\begin{aligned}\n",
    "T_\\text{rot}\n",
    "&\\simeq \\frac{1}{2} \\sum_p m_p \\left[ \\vec{\\Omega}^2 \\vec{r}_p^2 - \\left( \\vec{\\Omega} \\cdot \\vec{r}_p \\right)^2 \\right]\n",
    "= \\frac{1}{2} \\sum_p m_p \\left[ \\Omega_i^2 x_l^2 - \\Omega_i x_i \\Omega_k x_k \\right] \\\\\n",
    "&\\simeq \\frac{1}{2} \\sum_p m_p \\left[ \\Omega_i \\Omega_k \\delta_{ik} x_l^2 - \\Omega_i \\Omega_k x_i x_k \\right]\n",
    "= \\frac{1}{2} \\Omega_i \\Omega_k \\sum_p m_p \\left[ x_l^2 \\delta_{ik} -  x_i x_k \\right]\n",
    "\\end{aligned}\n",
    "$$\n",
    "La cantidad entre corchetes es el **tensor de inercia** $I_{ik}$."
   ]
  },
  {
   "cell_type": "markdown",
   "metadata": {},
   "source": [
    "### Tensor de inercia\n",
    "Con el tensor de 2.o orden $I_{ik}$ se calcula $T = \\frac{m}{2} \\dot{\\vec{R}}^2 + \\frac{1}{2} I_{ik} \\Omega_i \\Omega_k$\n",
    "\n",
    "$$\n",
    "\\overline{\\overline{I}}\n",
    "= I_{ik} = \n",
    "\\begin{pmatrix}\n",
    "I_{xx} & I_{xy} & I_{xz} \\\\\n",
    "I_{yx} & I_{yy} & I_{yz} \\\\\n",
    "I_{zx} & I_{zy} & I_{zz} \\\\\n",
    "\\end{pmatrix}\n",
    "=\n",
    "\\begin{pmatrix}\n",
    "\\sum_p m_p (y_p^2 + z_p^2) & - \\sum_p m_p x_p y_p & - \\sum_p m_p x_p z_p \\\\\n",
    "- \\sum_p m_p y_p x_p & \\sum_p m_p (x_p^2 + z_p^2)  & - \\sum_p m_p y_p z_p \\\\\n",
    "- \\sum_p m_p z_p x_p & - \\sum_p m_p z_p y_p & \\sum_p m_p (x_p^2 + y_p^2) \\\\\n",
    "\\end{pmatrix}\n",
    "$$\n",
    "- El tensor $\\overline{\\overline{I}}$ es simétrico\n",
    "- $I_{xx}, I_{yy}, I_{zz}$: **momentos de inercia**, los otros **productos de inercia**"
   ]
  },
  {
   "cell_type": "markdown",
   "metadata": {},
   "source": [
    "### Diagonalización de $I_{ik}$\n",
    "- Los $x_i$ que solo dejan los elementos en la diagonal de $I_{ik}$ son **ejes principales de inercia**.\n",
    "En este caso \n",
    "$T_\\text{rot} = \\frac{1}{2} \\left( I_1 \\Omega_1^2 + I_2 \\Omega_2^2 + I_3 \\Omega_3^2 \\right)$\n",
    "\n",
    "- Si los ejes $x'_i$ no parten del centro de masa\n",
    "$$\n",
    "I'_{ik} = I_{ik} + m [ a^2 \\delta_{ik} - a_i a_k ]\n",
    "$$\n",
    "donde $\\vec{a}$ va del centro de masa a este sistema. Esta expresión se llama **teorema de Steiner**."
   ]
  },
  {
   "cell_type": "markdown",
   "metadata": {},
   "source": [
    "### $I_{ik}$ Casos particulares\n",
    "Si la masa está dispuesta:\n",
    "- linealmente en $\\hat{z} \\implies x_p = y_p = 0$\n",
    "$$\n",
    "I_{xx} = I_{yy} = \\sum_p  m_pz_p^2 \\quad I_{zz}= 0\n",
    "$$\n",
    "\n",
    "- en un plano $(x,y) \\implies z_p = 0$\n",
    "$$\n",
    "I_{xx} = \\sum_p m_p y_p^2 \\quad I_{yy} = \\sum_p m_p x_p^2\\\\\n",
    "\\quad I_{zz} = \\sum_p m_p (x_p^2 + y_p^2) = I_{xx} + I_{yy}\n",
    "$$"
   ]
  },
  {
   "cell_type": "markdown",
   "metadata": {},
   "source": [
    "### Sistema continuo\n",
    "En el tensor de inercia $I_{ik}$ la sumatoria sobre posiciones discretas de masas se reemplaza por una integración continua en todo el volumen de la densidad en función de la posición $\\rho(\\vec{r})$\n",
    "\n",
    "$$\n",
    "I_{ik} = \\iiint \\rho(\\vec{r}) \\left[ x_l^2 \\delta_{ik} -  x_i x_k \\right] dV.\n",
    "$$\n",
    "\n",
    "$$\n",
    "\\overline{\\overline{I}}\n",
    "= I_{ik} = \n",
    "\\begin{pmatrix}\n",
    "I_{xx} & I_{xy} & I_{xz} \\\\\n",
    "I_{yx} & I_{yy} & I_{yz} \\\\\n",
    "I_{zx} & I_{zy} & I_{zz} \\\\\n",
    "\\end{pmatrix}\n",
    "=\n",
    "\\begin{pmatrix}\n",
    "\\iiint \\rho(\\vec{r}) (y^2 + z^2) dV  &  - \\iiint \\rho(\\vec{r}) x y dV  &  - \\iiint \\rho(\\vec{r}) x z dV \\\\\n",
    "- \\iiint \\rho(\\vec{r}) y x dV  &  \\iiint \\rho(\\vec{r}) (x^2 + z^2) dV  &  - \\iiint \\rho(\\vec{r}) y z dV \\\\\n",
    "- \\iiint \\rho(\\vec{r}) z x dV  &  - \\iiint \\rho(\\vec{r}) z y dV  &   \\iiint \\rho(\\vec{r}) (x^2 + y^2) dV \\\\\n",
    "\\end{pmatrix}\n",
    "$$"
   ]
  },
  {
   "cell_type": "markdown",
   "metadata": {},
   "source": [
    "#### Ejemplos\n",
    "**Referencia**: \n",
    "Momentos de inercia, Wikipedia  \n",
    "https://es.wikipedia.org/wiki/Anexo:Momentos_de_inercia"
   ]
  },
  {
   "cell_type": "markdown",
   "metadata": {},
   "source": [
    "##### **Cilíndro homogéneo**   \n",
    "![](Moment_of_inertia_solid_cylinder.svg.png)\n",
    "\n",
    "Es conveniente trabajar en coordenadas cilíndricas, por lo que $dV = \\rho d\\rho d\\varphi dz$, ya que $\\rho$ es el jacobiano para este sistema de coordenadas."
   ]
  },
  {
   "cell_type": "markdown",
   "metadata": {},
   "source": [
    "Para evitar una confusión del radio de coordenadas cilíndricas $\\rho$ con la densidad notaremos esta última $\\tilde{\\rho}$.\n",
    "\n",
    "Recordamos la expresión de los elementos del tensor de inercia para un sistema continuo\n",
    "\n",
    "$$\n",
    "I_{ik} = \\iiint \\tilde{\\rho}(\\vec{r}) \\left[ x_l^2 \\delta_{ik} -  x_i x_k \\right] dV .\n",
    "$$\n",
    "\n",
    "Para calcular $I_{zz}$, el momento de inercia en la dirección de $\\hat{z}$, se tiene que $i=z$ e $k=z$\n",
    "\n",
    "$$\n",
    "\\begin{aligned}\n",
    "I{zz} \n",
    "&= \\iiint \\tilde{\\rho}(\\vec{r}) \\left[ x^2 + y^2 + z^2 - zz \\right] dV \\\\\n",
    "&= \\iiint \\tilde{\\rho}(\\vec{r}) \\left[ x^2 + y^2 \\right] dV \\\\\n",
    "&= \\iiint \\tilde{\\rho}(\\vec{r}) \\left[ \\left(\\rho^2 \\cos^2{\\varphi} \\right) + \\left(\\rho^2 \\sin^2{\\varphi} \\right) \\right] dV \\\\\n",
    "&= \\iiint \\tilde{\\rho}(\\vec{r}) \\left[ \\rho^2 \\left(\\rho^2 \\cos^2{\\varphi} + \\sin^2{\\varphi} \\right) \\right] dV \\\\\n",
    "&= \\iiint \\tilde{\\rho}(\\vec{r}) \\left[ \\rho^2 \\right] dV \\\\\n",
    "&= \\int_{-h/2}^{h/2} \\int_0^{2\\pi} \\int_0^R \\tilde{\\rho}(\\vec{r}) \\left[ \\rho^2 \\right] \\rho d\\rho  d\\varphi  dz .\n",
    "\\end{aligned}\n",
    "$$\n",
    "\n",
    "Para determinar $\\left[ x_l^2 \\delta_{ik} - x_i x_k \\right]$ no es necesario recalcularlo cada vez. \n",
    "Basta con referirse a la expresión del tensor de inercia $\\overline{\\overline{I}}$ ya vista, donde para $I_{zz}$ corresponde\n",
    "\n",
    "$$\n",
    "x^2 + y^2 = \\rho^2 (\\cos^2{\\varphi} + \\sin^2{\\varphi}) = \\rho^2\n",
    "$$"
   ]
  },
  {
   "cell_type": "markdown",
   "metadata": {},
   "source": [
    "Este cilindro tiene densidad homogénea, es decir que no depende de la posición $\\tilde{\\rho}(\\vec{r}) = \\tilde{\\rho}$.\n",
    "Para calcularla basta obtener el volumen"
   ]
  },
  {
   "cell_type": "code",
   "execution_count": 1,
   "metadata": {},
   "outputs": [],
   "source": [
    "import sympy as sym"
   ]
  },
  {
   "cell_type": "code",
   "execution_count": 2,
   "metadata": {},
   "outputs": [],
   "source": [
    "rho, varphi, z = sym.symbols(r'rho \\varphi z')\n",
    "jacobianoCilindricas = rho\n",
    "a, R, h, m = sym.symbols('a R h m', positive=True) # radio y largo del cilíndro"
   ]
  },
  {
   "cell_type": "code",
   "execution_count": 3,
   "metadata": {},
   "outputs": [
    {
     "data": {
      "text/latex": [
       "$\\displaystyle V = \\int\\limits_{- \\frac{h}{2}}^{\\frac{h}{2}}\\int\\limits_{0}^{2 \\pi}\\int\\limits_{0}^{R} \\rho\\, d\\rho\\, d\\varphi\\, dz$"
      ],
      "text/plain": [
       "Eq(V, Integral(rho, (rho, 0, R), (\\varphi, 0, 2*pi), (z, -h/2, h/2)))"
      ]
     },
     "execution_count": 3,
     "metadata": {},
     "output_type": "execute_result"
    }
   ],
   "source": [
    "V_integrando = jacobianoCilindricas\n",
    "V_integral = sym.Integral(V_integrando, (rho, 0, R), (varphi, 0, 2* sym.pi), (z, -h/2, h/2))\n",
    "V_simbolo = sym.symbols('V')\n",
    "sym.Eq(V_simbolo, V_integral)"
   ]
  },
  {
   "cell_type": "code",
   "execution_count": 4,
   "metadata": {},
   "outputs": [
    {
     "data": {
      "text/latex": [
       "$\\displaystyle V = \\pi R^{2} h$"
      ],
      "text/plain": [
       "Eq(V, pi*R**2*h)"
      ]
     },
     "execution_count": 4,
     "metadata": {},
     "output_type": "execute_result"
    }
   ],
   "source": [
    "V = V_integral.doit()\n",
    "densidad = m/ V\n",
    "sym.Eq(V_simbolo, V)"
   ]
  },
  {
   "cell_type": "markdown",
   "metadata": {},
   "source": [
    "Para calcular $I_{zz}$\n",
    "\n",
    "$$\n",
    "x^2 + y^2 = \\rho^2 (\\cos^2{\\varphi} + \\sin^2{\\varphi}) = \\rho^2 \\implies I_{zz} = \\int^{h}_{0} \\int^{2 \\pi}_{0} \\int^{R}_{0} \\frac{m}{\\pi R^2 h} \\rho \\left(\\rho^2 \\right) d\\rho d\\varphi dz = \\frac{m}{\\pi R^2 h} 2 \\pi h \\frac{\\rho^3}{3}\\bigg\\rvert^{R}_{0} = \\frac{m R^2}{2}\n",
    "$$"
   ]
  },
  {
   "cell_type": "code",
   "execution_count": 5,
   "metadata": {},
   "outputs": [
    {
     "data": {
      "text/latex": [
       "$\\displaystyle I_{zz} = \\int\\limits_{- \\frac{h}{2}}^{\\frac{h}{2}}\\int\\limits_{0}^{2 \\pi}\\int\\limits_{0}^{R} \\frac{m \\rho^{3}}{\\pi R^{2} h}\\, d\\rho\\, d\\varphi\\, dz$"
      ],
      "text/plain": [
       "Eq(I_{zz}, Integral(m*rho**3/(pi*R**2*h), (rho, 0, R), (\\varphi, 0, 2*pi), (z, -h/2, h/2)))"
      ]
     },
     "execution_count": 5,
     "metadata": {},
     "output_type": "execute_result"
    }
   ],
   "source": [
    "Izz_integrando = densidad* jacobianoCilindricas* rho**2\n",
    "Izz_integral = sym.Integral(Izz_integrando, (rho, 0, R), (varphi, 0, 2* sym.pi), (z, -h/2, h/2))\n",
    "Izz_simbolo = sym.symbols('I_{zz}')\n",
    "sym.Eq(Izz_simbolo, Izz_integral)"
   ]
  },
  {
   "cell_type": "code",
   "execution_count": 6,
   "metadata": {},
   "outputs": [
    {
     "data": {
      "text/latex": [
       "$\\displaystyle I_{zz} = \\frac{R^{2} m}{2}$"
      ],
      "text/plain": [
       "Eq(I_{zz}, R**2*m/2)"
      ]
     },
     "execution_count": 6,
     "metadata": {},
     "output_type": "execute_result"
    }
   ],
   "source": [
    "sym.Eq(Izz_simbolo, Izz_integral.doit() )"
   ]
  },
  {
   "cell_type": "markdown",
   "metadata": {},
   "source": [
    "Para calcular $I_{xx}$ (que es igual a $I_{yy}$) hay que integrar $[x^2 + z^2]$\n",
    "\n",
    "$$\n",
    "x^2 + z^2 = \\rho^2 (\\cos^2{\\varphi} + z^2)\n",
    "$$"
   ]
  },
  {
   "cell_type": "code",
   "execution_count": 7,
   "metadata": {},
   "outputs": [
    {
     "data": {
      "text/latex": [
       "$\\displaystyle I_{xx} = \\int\\limits_{0}^{h}\\int\\limits_{0}^{2 \\pi}\\int\\limits_{0}^{R} \\frac{m \\rho \\left(\\rho^{2} \\cos^{2}{\\left(\\varphi \\right)} + z^{2}\\right)}{\\pi R^{2} h}\\, d\\rho\\, d\\varphi\\, dz$"
      ],
      "text/plain": [
       "Eq(I_{xx}, Integral(m*rho*(rho**2*cos(\\varphi)**2 + z**2)/(pi*R**2*h), (rho, 0, R), (\\varphi, 0, 2*pi), (z, 0, h)))"
      ]
     },
     "execution_count": 7,
     "metadata": {},
     "output_type": "execute_result"
    }
   ],
   "source": [
    "Ixx_integrando = densidad* jacobianoCilindricas* (rho**2* sym.cos(varphi)**2 + z**2)\n",
    "Ixx_integral = sym.Integral(Ixx_integrando, (rho, 0, R), (varphi, 0, 2* sym.pi), (z, 0, h))\n",
    "Ixx_simbolo, Iyy_simbolo = sym.symbols('I_{xx}, I_{yy}')\n",
    "sym.Eq(Ixx_simbolo, Ixx_integral)"
   ]
  },
  {
   "cell_type": "code",
   "execution_count": 8,
   "metadata": {},
   "outputs": [
    {
     "data": {
      "text/latex": [
       "$\\displaystyle I_{xx} = \\frac{R^{2} m}{4} + \\frac{h^{2} m}{3}$"
      ],
      "text/plain": [
       "Eq(I_{xx}, R**2*m/4 + h**2*m/3)"
      ]
     },
     "execution_count": 8,
     "metadata": {},
     "output_type": "execute_result"
    }
   ],
   "source": [
    "sym.Eq(Ixx_simbolo, Ixx_integral.doit() )"
   ]
  },
  {
   "cell_type": "markdown",
   "metadata": {},
   "source": [
    "##### **Varilla** girando en torno a su centro   \n",
    "![](Moment_of_inertia_rod_center.svg.png)  \n",
    "\n",
    "Cilíndro con $r \\ll l$ rotando sobre un eje perpendicular a su longitud $l$ que pasa por su centro.   \n",
    "El eje $\\hat{z}$ está alineado con $l$ y $r \\ll l \\implies x, y \\simeq 0$    \n",
    "$$\n",
    "I_{xx} = I_{yy} = \\int_{l/2}^{l/2} \\frac{m}{l} \\left(z^2 \\right) dz = \\frac{m}{l} \\frac{z^3}{3}\\bigg\\rvert_{l/2}^{l/2} = \\frac{m l^2}{12} \\quad I_{zz}= 0\n",
    "$$"
   ]
  },
  {
   "cell_type": "markdown",
   "metadata": {},
   "source": [
    "##### **Varilla** girando desde un extremo   \n",
    "![](240px-Moment_of_inertia_rod_end.svg.png)  \n",
    "\n",
    "Utilizando el teorema de Steiner se calcula con el dato del momento para la rotación en torno al centro\n",
    "$$\n",
    "I_{xx} = I_{yy} = I_{xx, \\mathrm{centro}} + m \\left(\\frac{l}{2}\\right)^2 =  m l^2 \\left( \\frac{1}{12} + \\frac{1}{4} \\right) =  \\frac{m l^2}{3}\n",
    "$$"
   ]
  },
  {
   "cell_type": "markdown",
   "metadata": {},
   "source": [
    "##### **Cáscara esférica**\n",
    "\n",
    "![](261px-Spherical_shell_moment_of_inertia.png)\n",
    "\n",
    "$r= r_2$ con cavidad esférica concéntrica $r = r_1<r_2$\n",
    "$$\n",
    "x^2 + y^2 = \\rho^2 (\\cos^2{\\varphi} + \\sin^2{\\varphi}) = \\rho^2 \\implies I = \\int^{\\pi}_{0} \\int^{2 \\pi}_{0} \\int^{r_2}_{r_1} \\frac{m}{\\frac{4\\pi}{3} (r_2^3 -  r_1^3)} \\rho^2 \\sin{\\theta} \\left(\\rho^2 \\right) d\\rho d\\varphi d\\theta = \\frac{2 m}{5} \\left( \\frac{r_2^5 - r_1^5}{r_2^3 - r_1^3} \\right)\n",
    "$$"
   ]
  },
  {
   "cell_type": "code",
   "execution_count": null,
   "metadata": {},
   "outputs": [],
   "source": []
  }
 ],
 "metadata": {
  "kernelspec": {
   "display_name": "Python 3",
   "language": "python",
   "name": "python3"
  },
  "language_info": {
   "codemirror_mode": {
    "name": "ipython",
    "version": 3
   },
   "file_extension": ".py",
   "mimetype": "text/x-python",
   "name": "python",
   "nbconvert_exporter": "python",
   "pygments_lexer": "ipython3",
   "version": "3.7.3"
  }
 },
 "nbformat": 4,
 "nbformat_minor": 4
}
