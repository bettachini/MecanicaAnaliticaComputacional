{
 "cells": [
  {
   "cell_type": "markdown",
   "metadata": {},
   "source": [
    "# Ecuaciones de Euler de la rotación | Ejercicio 1\n",
    "© 2020 Víctor A. Bettachini  \n",
    "Mecánica General  \n",
    "Departamento de Ingeniería e Investigación Tecnológica  \n",
    "Universidad Nacional de La Matanza   \n",
    "![](ambos.png \"UNLaM | DIIT\")  \n",
    "---"
   ]
  },
  {
   "cell_type": "markdown",
   "metadata": {},
   "source": [
    "## Enunciado\n",
    "El engranaje de la figura tiene una masa de $10\\,\\mathrm{kg}$ y está montado con una inclinación de $10^o$ al eje de masa despreciable sujeto por los cojinetes $A$ y $B$.\n",
    "El cojinete $A$ es de empuje, por lo que provee reacción también en la dirección longitudinal al eje en tanto que el $B$ solo lo hace en las direcciones transversales.\n",
    "Los momentos de inercia del engranaje son $I_z = 0,1\\,\\mathrm{kg m^2}$ y el $I_y = 0,05\\,\\mathrm{kg m^2}$.\n",
    "El eje gira con velocidad angular constante.\n",
    "1. Determine las reacciones que deben proveer los cojinetes.\n",
    "\n",
    "![](hibb21_4.png \"engranaje\")  "
   ]
  },
  {
   "cell_type": "markdown",
   "metadata": {},
   "source": [
    "## Resolución\n"
   ]
  },
  {
   "cell_type": "markdown",
   "metadata": {},
   "source": [
    "### Descomposición de la $\\omega$ del eje\n",
    "Tenemos $\\vec{\\omega}= \\omega_Z \\hat{Z} = 30\\,\\mathrm{s^{-1}} \\hat{Z}$.\n",
    "\n",
    "Como $\\hat{Z} = \\cos{\\theta} \\hat{z} + (- \\sin{\\theta} \\hat{y})$ con $\\theta = 10^o \\times \\frac{\\pi}{180^o}$.\n",
    "\n",
    "$$\n",
    "\\begin{aligned}\n",
    "\\Omega_z &= \\omega_Z \\cos{\\theta}\\\\\n",
    "\\Omega_y &= - \\omega_Z \\sin{\\theta}\n",
    "\\end{aligned}\n",
    "$$\n",
    "Como $\\vec{\\omega}$ del eje es constante todas las componentes de aceleración son nulas $\\dot{\\Omega}_i$ en los $x_i$ del engranaje."
   ]
  },
  {
   "cell_type": "markdown",
   "metadata": {},
   "source": [
    "### Ecuaciones de Euler-Lagrange\n",
    "La descomposición de reacciones $A_i$ y $B_i$ se muestra esquemáticamente en la figura \n",
    "\n",
    "![](hibb21_4_res.png \"descomposición de reacciones\")  "
   ]
  },
  {
   "cell_type": "markdown",
   "metadata": {},
   "source": [
    "Para expresar las ecuaciones de Euler-Lagrange \n",
    "\n",
    "$$\n",
    "(I_j - I_k) \\Omega_j \\Omega_k - I_i \\dot{\\Omega}_i + \\tau_i = 0\n",
    "$$\n",
    "calculamos primero el $\\vec{\\tau}$ debido a las reacciones.\n",
    "\n",
    "Desde el centro del engranaje $G$ al\n",
    "- punto $A$ hay un $\\vec{r}_{\\overline{GA}} = 0.2\\,\\mathrm{m} \\hat{Z}$.\n",
    "- punto $B$ hay un $\\vec{r}_{\\overline{GB}} = - 0.25\\,\\mathrm{m} \\hat{Z}$.\n",
    "\n",
    "Las reacciones propuestas:\n",
    "- En $A$, $F_{A} = A_x \\hat{X} + A_y \\hat{Y} + A_z \\hat{Z}$\n",
    "- En $B$, $F_{B} = B_x \\hat{X} + B_y \\hat{Y}$"
   ]
  },
  {
   "cell_type": "code",
   "execution_count": 1,
   "metadata": {},
   "outputs": [],
   "source": [
    "# biblioteca de cálculo simbólico\n",
    "import sympy as sym\n",
    "import sympy.physics.mechanics as mech\n",
    "mech.init_vprinting() # notación con puntos para derivadas temporales"
   ]
  },
  {
   "cell_type": "markdown",
   "metadata": {},
   "source": [
    "Utilizarémos dos sistemas cartesianos de coordenadas.\n",
    "El alineado con el eje, que se denota con mayúsculas los agruparemos en el sistema M.\n",
    "Para el sistema alineado con el engranaje utilizaremos el N que definiremos girando $\\theta = -10^o$ en torno al eje $\\hat{X}$ del sistema M."
   ]
  },
  {
   "cell_type": "code",
   "execution_count": 38,
   "metadata": {},
   "outputs": [],
   "source": [
    "# Sistemas cartesianos\n",
    "M = sym.physics.vector.ReferenceFrame('M')\n",
    "theta =  sym.Symbol('theta')\n",
    "N = M.orientnew('N', 'Axis', [theta, M.x])\n",
    "theta_magnitud = -10* sym.pi/180\n",
    "# N = M.orientnew('N', 'Axis', [theta_angulo, M.x])"
   ]
  },
  {
   "cell_type": "code",
   "execution_count": 40,
   "metadata": {},
   "outputs": [],
   "source": [
    "# las fuerzas de reacción de los cojinetes\n",
    "Ax, Ay, Az, Bx, By = sym.symbols('A_x A_y A_z B_x B_y')\n",
    "F_A = Ax* M.x + Ay* M.y + Az* M.z\n",
    "F_B = Bx* M.x + By* M.y\n",
    "\n",
    "# distancias engranaje a cojinetes\n",
    "d_GA, d_GB =  sym.symbols('d_{GA} d_{GB}')\n",
    "d_GA_magnitud = 0.2 # [m]\n",
    "d_GB_magnitud = 0.25 # [m]\n",
    "r_GA = d_GA* M.z\n",
    "r_GB = d_GB* (-M.z)"
   ]
  },
  {
   "cell_type": "markdown",
   "metadata": {},
   "source": [
    "Con esto\n",
    "\n",
    "$$\n",
    "\\begin{aligned}\n",
    "\\vec{\\tau}_G = \\vec{r} \\times \\vec{F} \n",
    "= \\vec{r}_{\\overline{GA}} \\times \\vec{F}_A\n",
    "&+ \\vec{r}_{\\overline{GB}} \\times \\vec{F}_B \\\\\n",
    "= \\vec{r}_{\\overline{GA}} \\times \\left( A_X \\hat{X} + A_Y \\hat{Y} + A_Z \\hat{Z} \\right)\n",
    " &+ \\vec{r}_{\\overline{GB}} \\times \\left( B_X \\hat{X} + B_Y \\hat{Y} \\right) \\\\\n",
    "= \\left( \\vec{r}_{\\overline{GA}} \\times A_X \\hat{X} \\right) + \\left( \\vec{r}_{\\overline{GA}} \\times A_Y \\hat{Y} \\right)\n",
    " &+ \\left( \\vec{r}_{\\overline{GB}} \\times B_X \\hat{X} \\right) + \\left( \\vec{r}_{\\overline{GB}} \\times B_Y \\hat{Y} \\right) \\\\\n",
    "= \\left( 0.2\\,\\mathrm{m} A_X \\hat{Y} \\right) + \\left( - 0.2\\,\\mathrm{m} A_Y \\hat{X} \\right)\n",
    " &+ \\left( - 0.25\\,\\mathrm{m} B_X \\hat{Y} \\right) + \\left( 0.25\\,\\mathrm{m} B_Y \\hat{X} \\right) \\\\\n",
    "= \\left( - 0.2\\,\\mathrm{m} A_Y + 0.25\\,\\mathrm{m} B_Y \\right) \\hat{X}\n",
    " &+ \\left( 0.2\\,\\mathrm{m} A_X- 0.25\\,\\mathrm{m} B_X  \\right) \\hat{Y} \\\\\n",
    "\\end{aligned}\n",
    "$$\n",
    "Luego este $\\vec{\\tau}_G$ lo descomponemos en los $\\tau_i$ en los ejes $x,y,z$ en que el tensor de inercia se reduce a los momentos principales."
   ]
  },
  {
   "cell_type": "code",
   "execution_count": 41,
   "metadata": {},
   "outputs": [
    {
     "data": {
      "text/latex": [
       "$\\displaystyle \\vec{\\tau}_G = \\left[\\begin{matrix}- A_{y} d_{GA} + B_{y} d_{GB}\\\\A_{x} d_{GA} - B_{x} d_{GB}\\\\0\\end{matrix}\\right]$"
      ],
      "text/plain": [
       "               ⎡-A_y⋅d_{GA} + B_y⋅d_{GB}⎤\n",
       "               ⎢                        ⎥\n",
       "\\vec{\\tau}_G = ⎢ Aₓ⋅d_{GA} - Bₓ⋅d_{GB}  ⎥\n",
       "               ⎢                        ⎥\n",
       "               ⎣           0            ⎦"
      ]
     },
     "execution_count": 41,
     "metadata": {},
     "output_type": "execute_result"
    }
   ],
   "source": [
    "tau_G = r_GA.cross(F_A) + r_GB.cross(F_B)\n",
    "tau_G_simbolo = sym.Symbol(r'\\vec{\\tau}_G')\n",
    "sym.Eq(tau_G_simbolo, tau_G.to_matrix(M), evaluate=False )"
   ]
  },
  {
   "cell_type": "markdown",
   "metadata": {},
   "source": [
    "Puesto que $\\hat{X} = \\hat{x}$ y $\\hat{Y} = \\cos{\\theta} \\hat{y} + \\sin{\\theta} \\hat{z}$\n",
    "\n",
    "$$\n",
    "\\begin{aligned}\n",
    "\\vec{\\tau}_G = \\vec{r} \\times \\vec{F} \n",
    "&= \\left( - 0.2\\,\\mathrm{m} A_Y + 0.25\\,\\mathrm{m} B_Y \\right) \\hat{x}\n",
    " + \\left( 0.2\\,\\mathrm{m} A_X- 0.25\\,\\mathrm{m} B_X  \\right) \\left( \\cos{\\theta} \\hat{y} + \\sin{\\theta} \\hat{z} \\right)\\\\\n",
    "&= \\left( - 0.2\\,\\mathrm{m} A_Y + 0.25\\,\\mathrm{m} B_Y \\right) \\hat{x}\n",
    " + \\left( 0.2\\,\\mathrm{m} A_X- 0.25\\,\\mathrm{m} B_X  \\right) \\cos{\\theta} \\hat{y} \n",
    " + \\left( 0.2\\,\\mathrm{m} A_X- 0.25\\,\\mathrm{m} B_X  \\right) \\sin{\\theta} \\hat{z}\\\\\n",
    "\\end{aligned}\n",
    "$$"
   ]
  },
  {
   "cell_type": "markdown",
   "metadata": {},
   "source": [
    "La matriz de rotación en torno del eje $\\hat{X}$ en $\\theta$ es"
   ]
  },
  {
   "cell_type": "code",
   "execution_count": 42,
   "metadata": {},
   "outputs": [
    {
     "data": {
      "text/latex": [
       "$\\displaystyle \\left[\\begin{matrix}1 & 0 & 0\\\\0 & \\operatorname{cos}\\left(\\theta\\right) & \\operatorname{sin}\\left(\\theta\\right)\\\\0 & - \\operatorname{sin}\\left(\\theta\\right) & \\operatorname{cos}\\left(\\theta\\right)\\end{matrix}\\right]$"
      ],
      "text/plain": [
       "⎡1     0       0   ⎤\n",
       "⎢                  ⎥\n",
       "⎢0  cos(θ)   sin(θ)⎥\n",
       "⎢                  ⎥\n",
       "⎣0  -sin(θ)  cos(θ)⎦"
      ]
     },
     "execution_count": 42,
     "metadata": {},
     "output_type": "execute_result"
    }
   ],
   "source": [
    "N.dcm(M)"
   ]
  },
  {
   "cell_type": "markdown",
   "metadata": {},
   "source": [
    "Aplicandola recobramos el $\\vec{\\tau}_G$ en el sistema de eje del engranaje que se obtuvo manualmente."
   ]
  },
  {
   "cell_type": "code",
   "execution_count": 43,
   "metadata": {},
   "outputs": [
    {
     "data": {
      "text/latex": [
       "$\\displaystyle \\vec{\\tau}_G = \\left[\\begin{matrix}- A_{y} d_{GA} + B_{y} d_{GB}\\\\\\left(A_{x} d_{GA} - B_{x} d_{GB}\\right) \\operatorname{cos}\\left(\\theta\\right)\\\\- \\left(A_{x} d_{GA} - B_{x} d_{GB}\\right) \\operatorname{sin}\\left(\\theta\\right)\\end{matrix}\\right]$"
      ],
      "text/plain": [
       "               ⎡   -A_y⋅d_{GA} + B_y⋅d_{GB}    ⎤\n",
       "               ⎢                               ⎥\n",
       "\\vec{\\tau}_G = ⎢(Aₓ⋅d_{GA} - Bₓ⋅d_{GB})⋅cos(θ) ⎥\n",
       "               ⎢                               ⎥\n",
       "               ⎣-(Aₓ⋅d_{GA} - Bₓ⋅d_{GB})⋅sin(θ)⎦"
      ]
     },
     "execution_count": 43,
     "metadata": {},
     "output_type": "execute_result"
    }
   ],
   "source": [
    "sym.Eq(tau_G_simbolo, tau_G.to_matrix(N), evaluate=False )"
   ]
  },
  {
   "cell_type": "markdown",
   "metadata": {},
   "source": [
    "Podemos ahora si expresar las ecuaciones de Euler en los ejes $x,y,z$\n",
    "\n",
    "Por los ejes $x,y$\n",
    "\n",
    "$$\n",
    "\\begin{aligned}\n",
    "I_y \\dot{\\Omega}_y - (I_z - I_x) \\Omega_z \\Omega_x & = \\tau_y \\\\\n",
    "0 - 0 & = 0,2\\,\\mathrm{m} \\cos{\\theta} A_X - 0,25\\,\\mathrm{m} \\cos{\\theta} B_X\\\\\n",
    "\\end{aligned}\n",
    "$$\n",
    "\n",
    "$$\n",
    "\\begin{aligned}\n",
    "I_z \\dot{\\Omega}_z - (I_x - I_y) \\Omega_x \\Omega_y & = \\tau_z \\\\\n",
    "0 - 0 & = 0,2\\,\\mathrm{m} \\sin{\\theta} A_X - 0,25\\,\\mathrm{m} \\sin{\\theta} B_X\\\\\n",
    "\\end{aligned}\n",
    "$$\n",
    "De cualquiera de estas dos últimas se obtiene\n",
    "\n",
    "$$\n",
    "B_X = \\frac{0.2}{0.25} A_X = \\frac{4}{5} A_X\n",
    "$$"
   ]
  },
  {
   "cell_type": "markdown",
   "metadata": {},
   "source": [
    "En el eje $z$\n",
    "$$\n",
    "\\begin{aligned}\n",
    "I_x \\dot{\\Omega}_x - (I_y - I_z) \\Omega_y \\Omega_z & = \\tau_x \\\\\n",
    "0 - (I_y - I_z) (- \\omega_Z^2 \\cos{\\theta} \\sin{\\theta}) & = - 0,2\\,\\mathrm{m} A_Y + 0,25\\,\\mathrm{m} B_Y\\\\\n",
    "\\end{aligned}\n",
    "$$\n",
    "De aquí tenemos una relación ente $A_Y$ y $B_Y$ que no despejo aún."
   ]
  },
  {
   "cell_type": "markdown",
   "metadata": {},
   "source": [
    "Resta plantear la 2.a ley de Newton, que es más sencillo plantearlas en los ejes $X,Y,Z$\n",
    "\n",
    "$$\n",
    "A_X + B_X = m a_X = 0\\\\\n",
    "A_Y + B_Y = m a_Y = - m g\\\\\n",
    "A_Z = m a_Z = 0 \\implies A_Z = 0\n",
    "$$\n",
    "Si $A_X$ e $B_X$ deben cumplir simultáneamente que $A_X + B_X = 0$ y $B_X = \\frac{4}{5} A_X \\implies A_X = 0$ y $B_X =0$. "
   ]
  },
  {
   "cell_type": "markdown",
   "metadata": {},
   "source": [
    "Queda obtener $A_Y$ y $B_Y$ sabiendo que\n",
    "\n",
    "$$\n",
    "-mg = A_Y + B_Y\n",
    "$$\n",
    "y \n",
    "\n",
    "$$\n",
    "\\begin{aligned}\n",
    "- (I_y - I_z) (- \\omega_Z^2 \\cos{\\theta} \\sin{\\theta}) & = - 0,2\\,\\mathrm{m} A_Y + 0,25\\,\\mathrm{m} B_Y\\\\\n",
    "- (0.05 - 0.1) \\mathrm{kg\\,m^2} (- 900\\,\\mathrm{s^{-2}} \\cos{\\theta} \\sin{\\theta}) & = - 0,2\\,\\mathrm{m} A_Y + 0,25\\,\\mathrm{m} B_Y\\\\\n",
    "\\end{aligned}\n",
    "$$\n",
    "\n",
    "Con un poco de álgebra se obtiene que $A_Y \\simeq 71.6\\,\\mathrm{N}$ y $B_Y \\simeq 26.5\\,\\mathrm{N}$, siendo estas las únicas componentes no nulas de reacción en los cojinetes."
   ]
  },
  {
   "cell_type": "code",
   "execution_count": null,
   "metadata": {},
   "outputs": [],
   "source": []
  }
 ],
 "metadata": {
  "kernelspec": {
   "display_name": "Python 3",
   "language": "python",
   "name": "python3"
  },
  "language_info": {
   "codemirror_mode": {
    "name": "ipython",
    "version": 3
   },
   "file_extension": ".py",
   "mimetype": "text/x-python",
   "name": "python",
   "nbconvert_exporter": "python",
   "pygments_lexer": "ipython3",
   "version": "3.7.3"
  }
 },
 "nbformat": 4,
 "nbformat_minor": 4
}
