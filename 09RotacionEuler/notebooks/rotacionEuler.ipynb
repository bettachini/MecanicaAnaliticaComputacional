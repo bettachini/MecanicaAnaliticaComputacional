{
 "cells": [
  {
   "cell_type": "markdown",
   "metadata": {},
   "source": [
    "# Dinámica del cuerpo rígido | Ecuaciones de Euler de la rotación\n",
    "© 2020 Víctor A. Bettachini  \n",
    "Mecánica General  \n",
    "Departamento de Ingeniería e Investigación Tecnológica  \n",
    "Universidad Nacional de La Matanza   \n",
    "![](ambos.png \"UNLaM | DIIT\")  \n",
    "---"
   ]
  },
  {
   "cell_type": "markdown",
   "metadata": {},
   "source": [
    "## Ángulos de Euler\n",
    "**Referencia**:\n",
    "- Sección $\\S$35 \"Ángulos de Euler\". Landau y Lifschitz. Mecánica. MIR (Moscú), 1969.  \n",
    "- Sección 12.7 \"Ángulos de Euler\". Jerry B. Marion. Dinámica clásica de las partículas y sistemas. 2.a. Reverté, 2003."
   ]
  },
  {
   "cell_type": "markdown",
   "metadata": {},
   "source": [
    "![](LandauFig47.png \"Ángulos de Euler. Reproducción de figura 47 Landau\")  \n",
    "1. El sistema de los $x_i$ ($x_1, x_2, x_3$) coincide originalmente con $X,Y,Z$\n",
    "1. Roto $\\varphi$ aplicando $\\dot{\\varphi}$ que está en el eje $Z$. Esto deja $x_1$ a lo largo de a $\\overline{O N}$, la línea nodal. \n",
    "1. Roto $\\theta$ aplicando $\\dot{\\theta}$ que está en $\\overline{O N}$. Esto levanta a $x_2$ del plano $XY$ y hace que $x_3$ no coincida más con $Z$.\n",
    "1. Roto $\\psi$ aplicando $\\dot{\\psi}$ que está en $x_3$. Esto levanta a $x_1$ del plano $XY$ y cambia la orientación de $x_2$.\n",
    "\n",
    "Los $\\varphi, \\theta, \\psi$ son los **ángulos de Euler** y serán las coordenadas generalizadas utilizadas para describir cualquiér rotación.\n",
    "\n",
    "La proyección de $\\dot{\\varphi}, \\dot{\\theta}, \\dot{\\psi}$ en las velocidades angulares colineales con los $x_i$ son:\n",
    "\n",
    "$$\n",
    "\\boxed{\n",
    "\\vec{\\Omega} = \n",
    "\\begin{pmatrix}\n",
    "\\Omega_1\\\\\n",
    "\\Omega_2\\\\\n",
    "\\Omega_3\\\\\n",
    "\\end{pmatrix}\n",
    "= \n",
    "\\begin{pmatrix}\n",
    "\\dot{\\varphi} \\sin{\\theta} \\sin{\\psi} + \\dot{\\theta} \\cos{\\psi} \\\\\n",
    "\\dot{\\varphi} \\sin{\\theta} \\cos{\\psi} - \\dot{\\theta} \\sin{\\psi} \\\\\n",
    "\\dot{\\varphi} \\cos{\\theta} + \\dot{\\psi}\n",
    "\\end{pmatrix}\n",
    "}\n",
    "$$"
   ]
  },
  {
   "cell_type": "markdown",
   "metadata": {},
   "source": [
    "## Ecuaciones de Euler\n",
    "**Referencia**:\n",
    "- Sección $\\S$36 \"Ángulos de Euler\". Landau y Lifschitz. Mecánica. MIR (Moscú), 1969.  \n",
    "- Sección 12.8 \"Ecuaciones de Euler para un cuerpo rígido\". Jerry B. Marion. Dinámica clásica de las partículas y sistemas. 2.a. Reverté, 2003."
   ]
  },
  {
   "cell_type": "markdown",
   "metadata": {},
   "source": [
    "Los $x_i$ se pueden alinear con el cuerpo para que el tensor de inercial $\\overline{\\overline{I}}$ sea diagonal.\n",
    "Los elementos de esta diagonal, los $I_{i}$ son los **momentos principales de inercia** de este cuerpo y los $x_i$ son sus **ejes principales de inercia**.\n",
    "En tal caso\n",
    "\n",
    "$$\n",
    "T_\\text{rot} = \\frac{1}{2} \\left( I_1 \\Omega_1^2 + I_2 \\Omega_2^2 + I_3 \\Omega_3^2 \\right).\n",
    "$$"
   ]
  },
  {
   "cell_type": "markdown",
   "metadata": {},
   "source": [
    "Resolveremos las ecuaciones de Euler-Lagrange para las coordenadas generalizadas de la rotación: $\\varphi, \\theta, \\psi$.\n",
    "Para esta última\n",
    "\n",
    "$$\n",
    "\\frac{\\partial T}{\\partial \\psi} - \\frac{d}{d t} \\frac{\\partial T}{\\partial \\dot{\\psi}} = 0\n",
    "$$\n",
    "Para resolver usaremos las proyecciones en el sistema $x_i$:\n",
    "\n",
    "$$\n",
    "\\sum_i \\frac{\\partial T}{\\partial \\Omega_i} \\frac{\\partial \\Omega_i}{\\partial \\psi}\n",
    "- \\frac{d}{d t} \\sum_i \\frac{\\partial T}{\\partial \\Omega_i} \\frac{\\partial \\Omega_i}{\\partial \\dot{\\psi}} \n",
    "= 0\n",
    "$$\n",
    "\n",
    "Los $\\frac{\\partial \\Omega_i}{\\partial \\psi}$ son\n",
    "\n",
    "$$\n",
    "\\left\\{ \\begin{aligned}\n",
    "\\frac{\\partial \\Omega_1}{\\partial \\psi} &= \n",
    "\\dot{\\varphi} \\sin{\\theta} \\cos{\\psi} - \\dot{\\theta} \\sin{\\psi} = \\Omega_2\\\\\n",
    "\\frac{\\partial \\Omega_2}{\\partial \\psi} &= \n",
    "- \\dot{\\varphi} \\sin{\\theta} \\sin{\\psi} - \\dot{\\theta} \\cos{\\psi} = - \\Omega_1\\\\\n",
    "\\frac{\\partial \\Omega_3}{\\partial \\psi} &= \n",
    "0 \\\\\n",
    "\\end{aligned} \\right.\n",
    "$$\n",
    "en tanto que los $\\frac{\\partial \\Omega_i}{\\partial \\dot{\\psi}}$ son \n",
    "\n",
    "$$\n",
    "\\left\\{ \\begin{aligned}\n",
    "\\frac{\\partial \\Omega_1}{\\partial {\\dot{\\psi}} } &= \\frac{\\partial \\Omega_2}{\\partial {\\dot{\\psi}}  } = 0 \\\\ \n",
    "\\frac{\\partial \\Omega_3}{\\partial {\\dot{\\psi}} } &=  \n",
    "1 \\\\\n",
    "\\end{aligned} \\right.\n",
    "$$\n",
    "Y como $\\frac{\\partial T}{\\partial \\Omega_i} = I_i \\Omega_i$ queda\n",
    "\n",
    "$$\n",
    "I_1 \\Omega_1 \\Omega_2 + I_2 \\Omega_2 (-\\Omega_1) - \\frac{d}{d t} I_3 \\Omega_3 = (I_1 - I_2) \\Omega_1 \\Omega_2 - I_3 \\frac{d \\Omega_3}{d t} = 0\n",
    "$$\n",
    "Siguiendo el mismo procedimiento con $\\theta$ y $\\varphi$ se obtienen las otras dos ecuaciones de Euler-Lagrange."
   ]
  },
  {
   "cell_type": "markdown",
   "metadata": {},
   "source": [
    "Antes de resumir todas estas ecuaciones recordemos que el momento de inercia $\\vec{L}$ puede descomponerse en aquellos asociados a cada $x_i$, es decir $L_i$.\n",
    "Cada uno de estos puede estar afectado por algún torque externo $\\vec{\\tau}$ que hay que descomponer en $\\tau_i$ en cada $x_i$.\n",
    "Estos los tratamos igual que a cualquier otra fuerza generalizada externa $Q_i$:\n",
    "\n",
    "$$\n",
    "  \\frac{\\partial}{\\partial q_i} \\mathcal{L} \n",
    "- \\frac{\\mathrm{d}}{\\mathrm{d} t} \\frac{\\partial}{\\partial \\dot{q_i}} \\mathcal{L}  \n",
    "+ Q_i = 0,\n",
    "$$\n",
    "para el caso de la rotación se puede resumir en\n",
    "\n",
    "$$\n",
    "\\boxed{\n",
    "(I_j - I_k) \\Omega_j \\Omega_k - I_i \\dot{\\Omega}_i + \\tau_i = 0\n",
    "},\n",
    "$$\n",
    "que resulta en un sistema que debe resolverse en conjunto:\n",
    "\n",
    "$$\n",
    "\\left\\{\n",
    "\\begin{aligned}\n",
    "(I_2 - I_3) \\Omega_2 \\Omega_3 - I_1 \\frac{d \\Omega_1}{d t} + \\tau_1 &= 0\\\\\n",
    "(I_3 - I_1) \\Omega_3 \\Omega_1 - I_2 \\frac{d \\Omega_2}{d t} + \\tau_2 &= 0\\\\\n",
    "(I_1 - I_2) \\Omega_1 \\Omega_2 - I_3 \\frac{d \\Omega_3}{d t} + \\tau_3 &= 0\n",
    "\\end{aligned}\n",
    "\\right.\n",
    "$$"
   ]
  }
 ],
 "metadata": {
  "kernelspec": {
   "display_name": "Python 3",
   "language": "python",
   "name": "python3"
  },
  "language_info": {
   "codemirror_mode": {
    "name": "ipython",
    "version": 3
   },
   "file_extension": ".py",
   "mimetype": "text/x-python",
   "name": "python",
   "nbconvert_exporter": "python",
   "pygments_lexer": "ipython3",
   "version": "3.7.3"
  }
 },
 "nbformat": 4,
 "nbformat_minor": 4
}
