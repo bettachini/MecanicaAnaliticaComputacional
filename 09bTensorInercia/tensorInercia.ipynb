{
 "cells": [
  {
   "cell_type": "markdown",
   "metadata": {},
   "source": [
    "# Dinámica del cuerpo rígido | Tensor de inercia"
   ]
  },
  {
   "cell_type": "markdown",
   "metadata": {},
   "source": [
    "[![DIIT - UNLaM](data:image/png;base64,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)](https://ingenieria.unlam.edu.ar/)    \n",
    "[![by-nc-sa_80x15.png](data:image/png;base64,iVBORw0KGgoAAAANSUhEUgAAAFAAAAAPCAMAAABEF7i9AAAABGdBTUEAANbY1E9YMgAAAJZQTFRF////7u7u3d3dys7KzMzMyMzIxsrGxcbFur+6u7u7s7iyq7GqqqqqmZmZlJmTj5CPiIiIh4eHhoaGgICAfYJ9d3d3cnZxZ2tnZmZmW15bVVVVS0xLREREQ0NDQkJCQUJBOz07OTs5MzMzMTMxLjAuJygnJCUjIiIiISEhICAgGRkZERERDxAPDg4ODQ4NDQ0NDQ0MAAAADbeuvgAAAOhJREFUeNqtk+tyAiEMhQ+6XtroutZiveBdu+p2tXn/l3OQy8roL5fMMENC+HIIAI5sYEQ1DSRtP5zZkCpToubf2/oMMC0zX0QdiLqjmsD1sVKd8JSoNa8HvGRIclZCcZ5A7Yiag/s6oJPMYD8FKgIC3wG/+QP5DFIWot+DvBB1OxYAk+W2W88HqqwAOOZE6FuZbfWZZUn02fb1rTAHc3izZgQCrxWqSSFkH/IaKuSHEzEChfyk2PbwmqFX8EQo3jaw2Ac9DIFhD12Tn4CbU+RbTv+HHrj8jfAOacxflrc61/0psf9yZLsBr5WUrhUa3hEAAAAASUVORK5CYII=)](https://creativecommons.org/licenses/by-sa/4.0/deed.es_ES)\n",
    "2023 [Víctor A. Bettachini](mailto:vbettachini@unlam.edu.ar)  \n",
    "\n",
    "---"
   ]
  },
  {
   "cell_type": "markdown",
   "metadata": {},
   "source": [
    "## Cuerpo rígido\n",
    "> **Referencia**  \n",
    "Secciones $\\S$ 31 y $\\S$ 32.  \n",
    "Mecánica  \n",
    "Landau y Lifschitz  \n",
    "\n",
    "**Rígido**: si las **distancias son invariantes** entre puntos del sistema.\n",
    "\n",
    "Tal cosa no existe: es una aproximación.\n",
    "\n",
    "Frente al desplazamiento $\\Delta \\vec{r}$ se desprecian cambios:\n",
    "- forma\n",
    "- dimensiones"
   ]
  },
  {
   "cell_type": "markdown",
   "metadata": {},
   "source": [
    "## Distribución y centro de masa\n",
    "\n",
    "- Cada diferencial de volúmen $d V$ tiene un $d m$\n",
    "- Masa total \n",
    "$$\n",
    "m = \\int d m (\\vec{r}) = \\iiint \\tilde{\\rho}(\\vec{r}) dV\n",
    "$$\n",
    "- Si no es homogéno la **densidad** $\\tilde{\\rho}(\\vec{r})$ depende de $\\vec{r}$\n",
    "- Centro de masa (centro de inercia)\n",
    "$$\n",
    "\\vec{r}_{cm} = \\frac{1}{m} \\iiint \\vec{r} \\tilde{\\rho}(\\vec{r}) dV\n",
    "$$\n"
   ]
  },
  {
   "cell_type": "markdown",
   "metadata": {},
   "source": [
    "### La energía cinética de cada pedazo depende de su velocidad\n",
    "$$\n",
    "T = \\int \\frac{d m (\\vec{r})}{2} \\dot{\\vec{r}}^2\n",
    "$$\n",
    "Volvemos sobre que es $\\dot{\\vec{r}}$ cuando hay rotación."
   ]
  },
  {
   "cell_type": "markdown",
   "metadata": {},
   "source": [
    "### Velocidad en un sistema no inercial\n",
    "> Esto es un breve resumen del tema que se desarrolla   \n",
    "> en el cuaderno Jupyter [arañaFrisbee.ipynb](../09aNoInercial/arañaFrisbee.ipynb)  \n",
    "> Se recomienda referirse al mismo\n",
    "\n",
    "#### Velocidad angular de una araña sobre un frisbee\n",
    "\n",
    "Viendo desde arriba un frisbee rotando en el sentido opuesto a las agujas del reloj  \n",
    "![](figuras/aranaFrisbee.png \"Sistemas de coordenadas para la araña en el frisbee\")\n",
    "\n",
    "el vector velocidad angular de rotación $\\dot{\\varphi} = \\frac{d \\varphi}{d t}$ apunta arriba. \n",
    "\n",
    "Viendo esto en perspectiva con un vector posición de la araña $\\vec{r}$ sabre el frisbee que vuela a cierta altura parte desde un origen fijo al suelo $O$  \n",
    "![](figuras/lFig5.png \"Cambio de posición ante rotación\")\n",
    "\n",
    "Una pequeña variación del ángulo $\\delta \\varphi$ del frisbee repercute en una respectiva pequeña variación $\\delta r$ de la posición de la araña respecto a ese punto fijo en el suelo $\\vec{r}_{a/o}$.\n",
    "El cálculo algebráico del efecto de $d \\vec{\\varphi} = d \\varphi \\hat{k}$ es el producto vectorial de estos factores familiarmente conocido como _regla de la mano derecha_ para la rotación\n",
    "$$\n",
    "d \\vec{r}_{a/o} = d \\vec{\\varphi} \\times \\vec{r}_{a/f}\n",
    "$$\n",
    "\n",
    "\n",
    "#### Teorema del transporte\n",
    "La herramienta algebraica de la _regla de la mano derecha_ facilita el análisis de $\\vec{r}_{a/o}$ como suma vectorial de la posición de la araña respecto al centro de rotación del frisbee $\\vec{r}_{a/f}$ y de la posición de este respecto al punto fijo en el suelo $\\vec{r}_{f/o}$\n",
    "$$\n",
    "\\begin{aligned}\n",
    "\\vec{r}_{a/o} &= \\vec{r}_{f/o} + \\vec{r}_{a/f} \\\\\n",
    "d \\vec{r}_{a/o} &= d \\vec{r}_{f/o} + d \\vec{\\varphi} \\times \\vec{r}_{a/f} \\\\\n",
    "\\frac{d }{d t} \\vec{r}_{a/o}\n",
    "&= \\frac{d }{d t} \\vec{r}_{f/o}  + \\frac{d }{d t} \\vec{\\varphi}  \\times \\vec{r}_{a/f} \\\\\n",
    "\\dot{\\vec{r}}_{a/o} \n",
    "&= \\dot{\\vec{r}}_{f/o} + \\vec{\\Omega}_{f/o} \\times \\vec{r}_{a/f}\n",
    "\\end{aligned}\n",
    "$$\n",
    "\n",
    "$$\n",
    "\\boxed{\n",
    "\\dot{ \\vec{r} }_o = \\frac{\\mathrm{d}}{\\mathrm{d} t} \\vec{r}_o = \\frac{\\mathrm{d}}{\\mathrm{d} t} \\vec{R}_P + \\vec{\\Omega}_{P/o} \\times \\vec{r}_P = \\dot{ \\vec{R}}_P + \\vec{\\Omega}_{P/o} \\times \\vec{r}_P\n",
    "}\n",
    "$$\n",
    "- $\\vec{r}_o$ posición respecto al sistema inercial (suelo)\n",
    "- $\\vec{R}_P$ posición del punto donde pasa el eje de rotación\n",
    "- $\\vec{r}_P$ punto que rota en torno a $\\vec{R}_P$ con $\\vec{\\Omega}_{P/o}$ tal que $\\vec{r}_o = \\vec{R}_P + \\vec{r}_P$"
   ]
  },
  {
   "cell_type": "markdown",
   "metadata": {},
   "source": [
    "### Energía cinética de un sistema discreto\n",
    "Elementos finitos: partir en una suma discreta\n",
    "\n",
    "$$\n",
    "\\begin{aligned}\n",
    "T\n",
    "&= \\int \\frac{d m (\\vec{r})}{2} \\dot{\\vec{r}}^2\n",
    "\\simeq \\sum_p \\frac{m_p }{2} \\dot{\\vec{r}_p}^2\n",
    "= \\sum_p \\frac{m_p }{2} \\left( \\dot{ \\vec{R}} + \\vec{\\Omega} \\times \\vec{r}_p \\right)^2 \\\\\n",
    "&\\simeq \n",
    " \\dot{ \\vec{R}}^2 \\sum_p \\frac{m_p }{2}\n",
    "+ \\sum_p m_p \\dot{ \\vec{R}} \\left(  \\vec{\\Omega} \\times \\vec{r}_p \\right)\n",
    "+ \\sum_p \\frac{m_p }{2} \\left( \\vec{\\Omega} \\times \\vec{r}_p \\right)^2\n",
    "\\end{aligned}\n",
    "$$\n",
    "\n",
    "El termino del medio se anula si el origen es el centro de masa\n",
    "$$\n",
    "\\sum_p m_p \\dot{ \\vec{R}} \\left( \\vec{\\Omega} \\times \\vec{r}_p \\right) = \\sum_p m_p \\vec{r}_p \\left( \\dot{ \\vec{R}} \\times \\vec{\\Omega} \\right) =  \\left( \\dot{ \\vec{R}} \\times \\vec{\\Omega} \\right) \\sum_p m_p \\vec{r}_p = 0\n",
    "$$\n",
    "\n",
    "El producto vectorial al cuadrado puede re-escribirse (son muchas cuentas)\n",
    "$$\n",
    "\\left( \\vec{\\Omega} \\times \\vec{r}_p \\right)^2\n",
    "= \\left( \\vec{\\Omega} \\times \\vec{r}_p \\right) \\cdot \\left( \\vec{\\Omega} \\times \\vec{r}_p \\right)\n",
    "=  \\vec{\\Omega}^2 \\vec{r}_p^2 - \\left( \\vec{\\Omega} \\cdot \\vec{r}_p \\right)^2\n",
    "$$\n",
    "\n",
    "Puede entonces escribirse la energía cinética\n",
    "$$\n",
    "T \\simeq \\frac{m}{2} \\left( \\dot{\\vec{R} } \\right)^2 + \\frac{1}{2} \\sum_p m_p \\left[ \\vec{\\Omega}^2 \\vec{r}_p^2 - \\left( \\vec{\\Omega} \\cdot \\vec{r}_p \\right)^2 \\right]\n",
    "$$\n",
    "\n",
    "donde el primer término es la desplazamiento (del centro de masa) y el segundo es la que corresponde a la rotación."
   ]
  },
  {
   "cell_type": "markdown",
   "metadata": {},
   "source": [
    "### Energía cinética de rotación\n",
    "Utilizaremos la notación tensorial como alternativa a la vectorial.\n",
    "- Los vectores se resumen en un único subindice entendiendose que se realiza una suma sobre las tres componentes\n",
    "    - El vector posición $\\vec{r}_p$ se decribe por $r_i$\n",
    "    - Ídem. $\\vec{\\Omega}$ se describe por $\\Omega_i$\n",
    "- Al darse por entendida la suma sobre el índice $i$, no se escriben los signos de suma $\\sum_i$\n",
    "    - $\\vec{A} \\cdot \\vec{B} = \\sum_i A_i B_i$ se resume en $A_i B_i$\n",
    "    - $\\vec{A}^2 = \\vec{A} \\cdot \\vec{A}$ se resumen en $A_i A_i = A_i^2$\n",
    "    - $\\vec{A}^2 \\vec{B}^2 = (\\vec{A} \\cdot \\vec{A}) (\\vec{B} \\cdot \\vec{B})$ se resume en $A_i^2 B_k^2$ donde se utilizan subindices distintos para que no se malinterprete como $( \\vec{A} \\cdot \\vec{B} )^2 = (A_i B_i)^2$ \n",
    "\n",
    "En la energía cinética de rotación se escribe $\\vec{\\Omega}^2 \\vec{r}_p^2$ como $\\Omega_i^2 r_l^2$ usando el subindice $l$ en $r_l$ para diferenciarlo del $i$ en $\\Omega_i$\n",
    "$$\n",
    "\\begin{aligned}\n",
    "T_\\text{rot}\n",
    "&\\simeq \\frac{1}{2} \\sum_p m_p \\left[ \\vec{\\Omega}^2 \\vec{r}_p^2 - \\left( \\vec{\\Omega} \\cdot \\vec{r}_p \\right)^2 \\right]\n",
    "= \\frac{1}{2} \\sum_p m_p \\left[ \\Omega_i^2 r_l^2 - \\Omega_i r_i \\Omega_k r_k \\right] \\\\\n",
    "&\\simeq \\frac{1}{2} \\sum_p m_p \\left[ \\Omega_i \\Omega_k \\delta_{ik} r_l^2 - \\Omega_i \\Omega_k r_i r_k \\right]\n",
    "= \\frac{1}{2} \\Omega_i \\Omega_k \\sum_p m_p \\left[ r_l^2 \\delta_{ik} - r_i r_k \\right]\n",
    "\\end{aligned}\n",
    "$$\n",
    "donde para poder sacar el factor común $\\Omega_i \\Omega_k$ si hizo uso de la [delta de Kronecker](https://es.wikipedia.org/wiki/Delta_de_Kronecker) $\\delta_{ii} =1, \\delta_{ik} = 0\\,(i \\neq k)$ para hacer la substitución $\\Omega_i^2 = \\Omega_i \\Omega_k \\delta_{ik}$.\n",
    "\n",
    "El **tensor de inercia** es la cantidad entre corchetes\n",
    "$$\n",
    "I_{ik} = \\left[ r_l^2 \\delta_{ik} - r_i r_k \\right]\n",
    "$$\n",
    "en la que $r_l$ debe sumarse sobre las tres componentes vectoriales e $i$ y $k$ son los índices de las respectivas componentes."
   ]
  },
  {
   "cell_type": "markdown",
   "metadata": {},
   "source": [
    "### Tensor de inercia\n",
    "Con el tensor de 2.o orden $I_{ik}$ se calcula $T = \\frac{m}{2} \\dot{\\vec{R}}^2 + \\frac{1}{2} I_{ik} \\Omega_i \\Omega_k$\n",
    "\n",
    "$$\n",
    "\\overline{\\overline{I}}\n",
    "= I_{ik} = \n",
    "\\begin{pmatrix}\n",
    "I_{xx} & I_{xy} & I_{xz} \\\\\n",
    "I_{yx} & I_{yy} & I_{yz} \\\\\n",
    "I_{zx} & I_{zy} & I_{zz} \\\\\n",
    "\\end{pmatrix}\n",
    "=\n",
    "\\begin{pmatrix}\n",
    "\\sum_p m_p (y_p^2 + z_p^2) & - \\sum_p m_p x_p y_p & - \\sum_p m_p x_p z_p \\\\\n",
    "- \\sum_p m_p y_p x_p & \\sum_p m_p (x_p^2 + z_p^2)  & - \\sum_p m_p y_p z_p \\\\\n",
    "- \\sum_p m_p z_p x_p & - \\sum_p m_p z_p y_p & \\sum_p m_p (x_p^2 + y_p^2) \\\\\n",
    "\\end{pmatrix}\n",
    "$$\n",
    "- El tensor $\\overline{\\overline{I}}$ es simétrico\n",
    "- $I_{xx}, I_{yy}, I_{zz}$: **momentos de inercia**, los otros **productos de inercia**"
   ]
  },
  {
   "cell_type": "markdown",
   "metadata": {},
   "source": [
    "### Diagonalización de $I_{ik}$\n",
    "- Los $x_i$ que solo dejan los elementos en la diagonal de $I_{ik}$ son **ejes principales de inercia**, que son los de simetría geométrica del sistema.\n",
    "En este caso \n",
    "$T_\\text{rot} = \\frac{1}{2} \\left( I_1 \\Omega_1^2 + I_2 \\Omega_2^2 + I_3 \\Omega_3^2 \\right)$\n",
    "\n",
    "- Si la rotación se produce en un eje de un sistema $x'_i$ que no pasa por uno centrado en el centro de masa $x_i$ se puede calcular un tensor $I'_{ik}$ a partir del calculado desde el centro de masa $I_{ik}$\n",
    "$$\n",
    "I'_{ik} = I_{ik} + M [ a^2 \\delta_{ik} - a_i a_k ]\n",
    "$$\n",
    "donde $M$ es la masa de todo el sistema y $\\vec{a}$ va del origen de este sistema al centro de masa.\n",
    "Esta expresión es la del [**teorema de ejes paralelos de Steiner**](https://es.wikipedia.org/wiki/Teorema_del_eje_paralelo).\n",
    "Una vez adicionado este término, y si los ejes del sistema de coordenadas son paralelos a los **ejes principales de inercia**, no habrá productos de inercia en $I_{ik}$.\n",
    "\n",
    "Para un vector que va desde el origen del sistema de ejes $x'_i$ al centro de masa $\\vec{a} = a_x \\hat{x} + a_y \\hat{y} + a_z \\hat{z}$, se tiene que $a^2 = \\vec{a} \\cdot \\vec{a} = a_x^2 + a_y^2 + a_z^2$.\n",
    "Así el término de Steiner es\n",
    "\n",
    "$$\n",
    "M [ a^2 \\delta_{ik} - a_i a_k ]\n",
    "=\n",
    "\\begin{pmatrix}\n",
    "M (a_y^2 + a_z^2) & - M a_x a_y & - M a_x a_z \\\\\n",
    "- M a_y a_x & M (a_x^2 + a_z^2) & - M a_y a_z \\\\\n",
    "- M a_z a_x & - M a_z a_y & M (a_x^2 + a_y^2),\n",
    "\\end{pmatrix}\n",
    "$$\n",
    "que es también un tensor simétrico. "
   ]
  },
  {
   "cell_type": "markdown",
   "metadata": {},
   "source": [
    "### $I_{ik}$ Casos particulares\n",
    "Si la masa está dispuesta:\n",
    "- linealmente en $\\hat{z} \\implies x_p = y_p = 0$\n",
    "$$\n",
    "I_{xx} = I_{yy} = \\sum_p  m_pz_p^2 \\quad I_{zz}= 0\n",
    "$$\n",
    "\n",
    "- en un plano $(x,y) \\implies z_p = 0$\n",
    "$$\n",
    "I_{xx} = \\sum_p m_p y_p^2 \\quad I_{yy} = \\sum_p m_p x_p^2\\\\\n",
    "\\quad I_{zz} = \\sum_p m_p (x_p^2 + y_p^2) = I_{xx} + I_{yy}\n",
    "$$"
   ]
  },
  {
   "cell_type": "markdown",
   "metadata": {},
   "source": [
    "### Sistema continuo\n",
    "En el tensor de inercia $I_{ik}$ la sumatoria sobre posiciones discretas de masas se reemplaza por una integración continua en todo el volumen de la densidad en función de la posición $\\tilde{\\rho}(\\vec{r})$\n",
    "\n",
    "$$\n",
    "I_{ik} = \\iiint \\tilde{\\rho}(\\vec{r}) \\left[ x_l^2 \\delta_{ik} -  x_i x_k \\right] dV.\n",
    "$$\n",
    "\n",
    "$$\n",
    "\\overline{\\overline{I}}\n",
    "= I_{ik} = \n",
    "\\begin{pmatrix}\n",
    "I_{xx} & I_{xy} & I_{xz} \\\\\n",
    "I_{yx} & I_{yy} & I_{yz} \\\\\n",
    "I_{zx} & I_{zy} & I_{zz} \\\\\n",
    "\\end{pmatrix}\n",
    "=\n",
    "\\begin{pmatrix}\n",
    "\\iiint \\tilde{\\rho}(\\vec{r}) (y^2 + z^2) dV  &  - \\iiint \\tilde{\\rho}(\\vec{r}) x y dV  &  - \\iiint \\tilde{\\rho}(\\vec{r}) x z dV \\\\\n",
    "- \\iiint \\tilde{\\rho}(\\vec{r}) y x dV  &  \\iiint \\tilde{\\rho}(\\vec{r}) (x^2 + z^2) dV  &  - \\iiint \\tilde{\\rho}(\\vec{r}) y z dV \\\\\n",
    "- \\iiint \\tilde{\\rho}(\\vec{r}) z x dV  &  - \\iiint \\tilde{\\rho}(\\vec{r}) z y dV  &   \\iiint \\tilde{\\rho}(\\vec{r}) (x^2 + y^2) dV \\\\\n",
    "\\end{pmatrix}\n",
    "$$"
   ]
  },
  {
   "cell_type": "markdown",
   "metadata": {},
   "source": [
    "### Finalmente, la energía cinética\n",
    "\n",
    "Ahora hacemos explicita la expresión completa para la energía cinética en notación vectorial\n",
    "$$\n",
    "\\begin{aligned}\n",
    "T\n",
    "= \\frac{m}{2} \\dot{\\vec{R}}^2 + \\frac{1}{2} \\overline{\\overline{I}} \\vec{\\Omega}^2\n",
    "= \\frac{m}{2} \\dot{\\vec{R}}^{\\mathrm{tr}} \\dot{\\vec{R}} &+ \\frac{1}{2} \\vec{\\Omega}^{\\mathrm{tr}} \\overline{\\overline{I}} \\vec{\\Omega}\\\\\n",
    "T = \\frac{m}{2} \n",
    "\\begin{pmatrix}\n",
    "\\dot{R}_x & \\dot{R}_y & \\dot{R}_z \\\\\n",
    "\\end{pmatrix}\n",
    "\\begin{pmatrix}\n",
    "\\dot{R}_x \\\\\n",
    "\\dot{R}_y \\\\\n",
    "\\dot{R}_z \\\\\n",
    "\\end{pmatrix} \n",
    "&+\n",
    "\\frac{1}{2} \n",
    "\\begin{pmatrix}\n",
    "\\Omega_x &\n",
    "\\Omega_y &\n",
    "\\Omega_z \\\\\n",
    "\\end{pmatrix} \n",
    "\\begin{pmatrix}\n",
    "I_{xx} & I_{xy} & I_{xz} \\\\\n",
    "I_{yx} & I_{yy} & I_{yz} \\\\\n",
    "I_{zx} & I_{zy} & I_{zz} \\\\\n",
    "\\end{pmatrix}\n",
    "\\begin{pmatrix}\n",
    "\\Omega_x \\\\\n",
    "\\Omega_y \\\\\n",
    "\\Omega_z \\\\\n",
    "\\end{pmatrix}\n",
    "\\\\ \n",
    "T = \\frac{m}{2} \n",
    "\\left(\n",
    "\\dot{R}_x^2 + \\dot{R}_y^2 + \\dot{R}_z^2 \n",
    "\\right) \n",
    "&+\n",
    "\\frac{1}{2}\n",
    "\\begin{pmatrix}\n",
    "\\Omega_x &\n",
    "\\Omega_y &\n",
    "\\Omega_z \\\\\n",
    "\\end{pmatrix} \n",
    "\\begin{pmatrix}\n",
    "I_{xx} & I_{xy} & I_{xz} \\\\\n",
    "I_{yx} & I_{yy} & I_{yz} \\\\\n",
    "I_{zx} & I_{zy} & I_{zz} \\\\\n",
    "\\end{pmatrix}\n",
    "\\begin{pmatrix}\n",
    "\\Omega_x \\\\\n",
    "\\Omega_y \\\\\n",
    "\\Omega_z \\\\\n",
    "\\end{pmatrix} \n",
    "\\\\ \n",
    "\\end{aligned}\n",
    "$$"
   ]
  },
  {
   "cell_type": "markdown",
   "metadata": {},
   "source": [
    "Si bien esta es la forma general para el tensor $\\overline{\\overline{I}}$ con una orientación arbitraria, usualmente se hace la rotación que la **diagonaliza**.\n",
    "Esto se puede hacer con la matriz de rotación que se construye con los autovectores de $\\overline{\\overline{I}}$ indica la rotación de ejes que se requiere para que en unos nuevos, $\\left( \\hat{x}', \\hat{y}', \\hat{z}' \\right)$, el sólido presente simetría geométrica.\n",
    "Tras esa operación la expresión de la energía cinética es más sencilla\n",
    "\n",
    "$$\n",
    "\\begin{aligned}\n",
    "T = \\frac{m}{2} \\dot{\\vec{R}}^{\\mathrm{tr}} \\dot{\\vec{R}} &+ \\frac{1}{2} \\vec{\\Omega'}^{\\mathrm{tr}} \\overline{\\overline{I'}} \\vec{\\Omega'}\\\\\n",
    "T = \\frac{m}{2} \n",
    "\\begin{pmatrix}\n",
    "\\dot{R}_x & \\dot{R}_y & \\dot{R}_z \\\\\n",
    "\\end{pmatrix}\n",
    "\\begin{pmatrix}\n",
    "\\dot{R}_x \\\\\n",
    "\\dot{R}_y \\\\\n",
    "\\dot{R}_z \\\\\n",
    "\\end{pmatrix}\n",
    "&+\n",
    "\\frac{1}{2} \n",
    "\\begin{pmatrix}\n",
    "\\Omega_x' &\n",
    "\\Omega_y' &\n",
    "\\Omega_z' \\\\\n",
    "\\end{pmatrix} \n",
    "\\begin{pmatrix}\n",
    "I_{x'x'} & 0 & 0 \\\\\n",
    "0 & I_{y'y'} & 0 \\\\\n",
    "0 & 0 & I_{z'z'} \\\\\n",
    "\\end{pmatrix}\n",
    "\\begin{pmatrix}\n",
    "\\Omega_x' \\\\\n",
    "\\Omega_y' \\\\\n",
    "\\Omega_z' \\\\\n",
    "\\end{pmatrix} \n",
    "\\\\\n",
    "T = \\frac{m}{2} \n",
    "\\left(\n",
    "\\dot{R}_x^2 + \\dot{R}_y^2 + \\dot{R}_z^2 \n",
    "\\right) \n",
    "&+\n",
    "\\frac{1}{2}\n",
    "\\begin{pmatrix}\n",
    "\\Omega_x' &\n",
    "\\Omega_y' &\n",
    "\\Omega_z' \\\\\n",
    "\\end{pmatrix} \n",
    "\\begin{pmatrix}\n",
    "I_{x'x'} \\Omega_x' \\\\\n",
    "I_{y'y'} \\Omega_y' \\\\\n",
    "I_{z'z'} \\Omega_z' \\\\\n",
    "\\end{pmatrix} \n",
    "\\end{aligned}\n",
    "$$\n",
    "\n",
    "$$\n",
    "\\boxed{T = \\frac{m}{2} \n",
    "\\left(\n",
    "\\dot{R}_x^2 + \\dot{R}_y^2 + \\dot{R}_z^2 \n",
    "\\right) \n",
    "+\n",
    "\\frac{1}{2} \n",
    "\\left(\n",
    "I_{x'x'} \\dot{\\Omega}_x'^2 +\n",
    "I_{y'y'} \\dot{\\Omega}_y'^2 +\n",
    "I_{z'z'} \\dot{\\Omega}_z'^2 \n",
    "\\right)}\n",
    "$$\n",
    "\n",
    "pues en el tensor $\\overline{\\overline{I}}$ solo sobreviven los elementos en la diagonal, los momentos de inercia."
   ]
  },
  {
   "cell_type": "markdown",
   "metadata": {},
   "source": [
    "## Momentos de inercia de sólidos simples\n",
    "\n",
    "Cada vez que tenga que realizar un ejercicio no vuelva a inventar la rueda, use los resultados de aquí abajo o los de la \n",
    "\n",
    ">**Referencia**   \n",
    "[Lista de tensiones de inercia en 3 dimensiones](https://es.wikipedia.org/wiki/Anexo:Momentos_de_inercia#Lista_de_tensores_de_inercia_en_3_dimensiones)  \n",
    "Wikipedia  "
   ]
  },
  {
   "cell_type": "markdown",
   "metadata": {},
   "source": [
    "### **Cilíndro homogéneo**   \n",
    "![](figuras/Moment_of_inertia_solid_cylinder.svg.png)\n",
    "\n",
    "Es conveniente trabajar en coordenadas cilíndricas, por lo que $dV = \\rho d\\rho d\\varphi dz$, ya que $\\rho$ es el jacobiano para este sistema de coordenadas."
   ]
  },
  {
   "cell_type": "markdown",
   "metadata": {},
   "source": [
    "Si se cuenta con el dato de densidad de un objeto, se puede calcular el tensor de inercia de un objeto.\n",
    "Pero es usual que no se tenga el dato de densidad, sino que se tenga el dato de masa producto de una pesada.\n",
    "Resta entonces calcular la densidad a partir de la masa y el volumen."
   ]
  },
  {
   "cell_type": "code",
   "execution_count": 1,
   "metadata": {},
   "outputs": [],
   "source": [
    "import sympy as sym"
   ]
  },
  {
   "cell_type": "code",
   "execution_count": 2,
   "metadata": {},
   "outputs": [
    {
     "data": {
      "text/latex": [
       "$\\displaystyle Volumen_{cilindro} = \\int\\limits_{- \\frac{h}{2}}^{\\frac{h}{2}}\\int\\limits_{0}^{2 \\pi}\\int\\limits_{0}^{r} \\rho\\, d\\rho\\, d\\varphi\\, dz$"
      ],
      "text/plain": [
       "Eq(Volumen_{cilindro}, Integral(rho, (rho, 0, r), (varphi, 0, 2*pi), (z, -h/2, h/2)))"
      ]
     },
     "execution_count": 2,
     "metadata": {},
     "output_type": "execute_result"
    }
   ],
   "source": [
    "ro, z, fi = sym.symbols('rho z varphi') # variables sistema de coordenadas cilíndricas\n",
    "r, h = sym.symbols('r h') # definimos los símbolos para la densidad, radio de la base y altura\n",
    "cilíndricas_jacobiano = ro # jacobiano de la transformación cilíndricas a cartesianas\n",
    "\n",
    "cilindro_volumen = sym.Eq(\n",
    "  sym.Symbol('Volumen_{cilindro}'),\n",
    "  sym.Integral(\n",
    "    cilíndricas_jacobiano,\n",
    "    (ro, 0, r), (fi, 0, 2 * sym.pi), (z, -h/2, h/2)\n",
    "    )\n",
    ")\n",
    "\n",
    "cilindro_volumen\n"
   ]
  },
  {
   "cell_type": "code",
   "execution_count": 3,
   "metadata": {},
   "outputs": [
    {
     "data": {
      "text/latex": [
       "$\\displaystyle Volumen_{cilindro} = \\pi h r^{2}$"
      ],
      "text/plain": [
       "Eq(Volumen_{cilindro}, pi*h*r**2)"
      ]
     },
     "execution_count": 3,
     "metadata": {},
     "output_type": "execute_result"
    }
   ],
   "source": [
    "cilindro_volumen.doit()"
   ]
  },
  {
   "cell_type": "markdown",
   "metadata": {},
   "source": [
    "Para evitar una confusión del radio de coordenadas cilíndricas $\\rho$ con la densidad notaremos esta última $\\tilde{\\rho}$."
   ]
  },
  {
   "cell_type": "code",
   "execution_count": 4,
   "metadata": {},
   "outputs": [
    {
     "data": {
      "text/latex": [
       "$\\displaystyle \\tilde{\\rho}_{cilindro} = \\frac{m}{\\pi h r^{2}}$"
      ],
      "text/plain": [
       "Eq(\\tilde{\\rho}_{cilindro}, m/(pi*h*r**2))"
      ]
     },
     "execution_count": 4,
     "metadata": {},
     "output_type": "execute_result"
    }
   ],
   "source": [
    "m = sym.Symbol('m') # definimos el símbolo para la masa\n",
    "cilindro_densidad = sym.Eq(\n",
    "  sym.Symbol(r'\\tilde{\\rho}_{cilindro}'),\n",
    "  m/ cilindro_volumen.rhs.doit()\n",
    ")\n",
    "cilindro_densidad"
   ]
  },
  {
   "cell_type": "markdown",
   "metadata": {},
   "source": [
    "\n",
    "Recordamos la expresión de los elementos del tensor de inercia para un sistema continuo\n",
    "\n",
    "$$\n",
    "I_{ik} = \\iiint \\tilde{\\rho}(\\vec{r}) \\left[ x_l^2 \\delta_{ik} -  x_i x_k \\right] dV .\n",
    "$$\n",
    "\n",
    "Para calcular $I_{zz}$, el momento de inercia en la dirección de $\\hat{z}$, se tiene que $i=z$ e $k=z$\n",
    "\n",
    "$$\n",
    "\\begin{aligned}\n",
    "I{zz} \n",
    "&= \\iiint \\tilde{\\rho}(\\vec{r}) \\left[ x^2 + y^2 + z^2 - zz \\right] dV \\\\\n",
    "&= \\iiint \\tilde{\\rho}(\\vec{r}) \\left[ x^2 + y^2 \\right] dV \\\\\n",
    "&= \\iiint \\tilde{\\rho}(\\vec{r}) \\left[ \\left(\\rho^2 \\cos^2{\\varphi} \\right) + \\left(\\rho^2 \\sin^2{\\varphi} \\right) \\right] dV \\\\\n",
    "&= \\iiint \\tilde{\\rho}(\\vec{r}) \\left[ \\rho^2 \\left( \\cos^2{\\varphi} + \\sin^2{\\varphi} \\right) \\right] dV \\\\\n",
    "&= \\iiint \\tilde{\\rho}(\\vec{r}) \\left[ \\rho^2 \\right] dV \\\\\n",
    "&= \\int_{-h/2}^{h/2} \\int_0^{2\\pi} \\int_0^R \\tilde{\\rho}(\\vec{r}) \\left[ \\rho^2 \\right] \\rho d\\rho  d\\varphi  dz .\n",
    "\\end{aligned}\n",
    "$$\n",
    "\n",
    "Para determinar $\\left[ x_l^2 \\delta_{ik} - x_i x_k \\right]$ no es necesario recalcularlo cada vez. \n",
    "Basta con referirse a la expresión del tensor de inercia $\\overline{\\overline{I}}$ ya vista, donde para $I_{zz}$ corresponde\n",
    "\n",
    "$$\n",
    "x^2 + y^2 = \\rho^2 (\\cos^2{\\varphi} + \\sin^2{\\varphi}) = \\rho^2\n",
    "$$"
   ]
  },
  {
   "cell_type": "code",
   "execution_count": 19,
   "metadata": {},
   "outputs": [
    {
     "data": {
      "text/latex": [
       "$\\displaystyle I_{zz} = \\int\\limits_{- \\frac{h}{2}}^{\\frac{h}{2}}\\int\\limits_{0}^{2 \\pi}\\int\\limits_{0}^{r} \\rho^{2} \\tilde{\\rho}_{cilindro} \\rho\\, d\\rho\\, d\\varphi\\, dz$"
      ],
      "text/plain": [
       "Eq(I_{zz}, Integral(\\rho**2*\\tilde{\\rho}_{cilindro}*rho, (\\rho, 0, r), (\\varphi, 0, 2*pi), (z, -h/2, h/2)))"
      ]
     },
     "execution_count": 19,
     "metadata": {},
     "output_type": "execute_result"
    }
   ],
   "source": [
    "ro_densidad = sym.Symbol(r'\\tilde{\\rho}_{cilindro}') # definimos el símbolo para la densidad\n",
    "cilindro_Izz = sym.Eq(\n",
    "  sym.Symbol('I_{zz}'),\n",
    "  sym.Integral(\n",
    "    cilindro_densidad.lhs * ro**2 * cilíndricas_jacobiano,\n",
    "    (ro, 0, r), (fi, 0, 2* sym.pi), (z, -h/2, h/2)\n",
    "  )\n",
    ")\n",
    "cilindro_Izz"
   ]
  },
  {
   "cell_type": "code",
   "execution_count": 6,
   "metadata": {},
   "outputs": [
    {
     "data": {
      "text/latex": [
       "$\\displaystyle I_{zz} = \\frac{\\pi \\tilde{\\rho}_{cilindro} h r^{4}}{2}$"
      ],
      "text/plain": [
       "Eq(I_{zz}, pi*\\tilde{\\rho}_{cilindro}*h*r**4/2)"
      ]
     },
     "execution_count": 6,
     "metadata": {},
     "output_type": "execute_result"
    }
   ],
   "source": [
    "cilindro_Izz.doit()"
   ]
  },
  {
   "cell_type": "markdown",
   "metadata": {},
   "source": [
    "Este cilindro tiene densidad homogénea, es decir que no depende de la posición $\\tilde{\\rho}(\\vec{r}) = \\tilde{\\rho}$.\n",
    "Y ahora puede sustituise en el momento de inercia esta expresión para la densidad y obtener así la expresión que se utilizará."
   ]
  },
  {
   "cell_type": "code",
   "execution_count": 7,
   "metadata": {},
   "outputs": [
    {
     "data": {
      "text/latex": [
       "$\\displaystyle I_{zz} = \\frac{m r^{2}}{2}$"
      ],
      "text/plain": [
       "Eq(I_{zz}, m*r**2/2)"
      ]
     },
     "execution_count": 7,
     "metadata": {},
     "output_type": "execute_result"
    }
   ],
   "source": [
    "cilindro_Izz.doit().subs(cilindro_densidad.lhs, cilindro_densidad.rhs).simplify()"
   ]
  },
  {
   "cell_type": "markdown",
   "metadata": {},
   "source": [
    "Para calcular $I_{yy}$ (que es igual a $I_{xx}$) hay que integrar $[x^2 + z^2]$\n",
    "\n",
    "$$\n",
    "x^2 + z^2 = \\rho^2 \\cos^2{\\varphi} + z^2\n",
    "$$"
   ]
  },
  {
   "cell_type": "code",
   "execution_count": 8,
   "metadata": {},
   "outputs": [
    {
     "data": {
      "text/latex": [
       "$\\displaystyle I_{yy} = \\int\\limits_{- \\frac{h}{2}}^{\\frac{h}{2}}\\int\\limits_{0}^{2 \\pi}\\int\\limits_{0}^{r} \\tilde{\\rho}_{cilindro} \\rho \\left(\\rho^{2} \\cos^{2}{\\left(\\varphi \\right)} + z^{2}\\right)\\, d\\rho\\, d\\varphi\\, dz$"
      ],
      "text/plain": [
       "Eq(I_{yy}, Integral(\\tilde{\\rho}_{cilindro}*rho*(rho**2*cos(varphi)**2 + z**2), (rho, 0, r), (varphi, 0, 2*pi), (z, -h/2, h/2)))"
      ]
     },
     "execution_count": 8,
     "metadata": {},
     "output_type": "execute_result"
    }
   ],
   "source": [
    "Iyy = sym.Eq(\n",
    "  sym.Symbol('I_{yy}'),\n",
    "  sym.Integral(\n",
    "    cilíndricas_jacobiano* ro_densidad* (ro**2* sym.cos(fi)**2 + z**2),\n",
    "    (ro, 0, r), (fi, 0, 2* sym.pi), (z, -h/2, h/2)\n",
    "  )\n",
    ")\n",
    "Iyy"
   ]
  },
  {
   "cell_type": "code",
   "execution_count": 20,
   "metadata": {},
   "outputs": [
    {
     "data": {
      "text/latex": [
       "$\\displaystyle I_{yy} = \\int\\limits_{- \\frac{h}{2}}^{\\frac{h}{2}}\\int\\limits_{0}^{2 \\pi}\\int\\limits_{0}^{r} \\frac{m \\rho \\left(\\rho^{2} \\cos^{2}{\\left(\\varphi \\right)} + z^{2}\\right)}{\\pi h r^{2}}\\, d\\rho\\, d\\varphi\\, dz$"
      ],
      "text/plain": [
       "Eq(I_{yy}, Integral(m*rho*(rho**2*cos(varphi)**2 + z**2)/(pi*h*r**2), (rho, 0, r), (varphi, 0, 2*pi), (z, -h/2, h/2)))"
      ]
     },
     "execution_count": 20,
     "metadata": {},
     "output_type": "execute_result"
    }
   ],
   "source": [
    "Iyy.subs(ro_densidad, cilindro_densidad.rhs)"
   ]
  },
  {
   "cell_type": "code",
   "execution_count": 21,
   "metadata": {},
   "outputs": [
    {
     "data": {
      "text/latex": [
       "$\\displaystyle I_{yy} = \\frac{h^{2} m}{12} + \\frac{m r^{2}}{4}$"
      ],
      "text/plain": [
       "Eq(I_{yy}, h**2*m/12 + m*r**2/4)"
      ]
     },
     "execution_count": 21,
     "metadata": {},
     "output_type": "execute_result"
    }
   ],
   "source": [
    "Iyy.subs(ro_densidad, cilindro_densidad.rhs).doit()"
   ]
  },
  {
   "cell_type": "markdown",
   "metadata": {},
   "source": [
    "### **Varilla** que rota en torno a su centro   \n",
    "![](figuras/Moment_of_inertia_rod_center.svg.png)  \n",
    "\n",
    "Cilíndro con $r \\ll l$ rotando sobre un eje perpendicular a su longitud $l$ que pasa por su centro.   \n",
    "Si su masa es $m$ su densidad es $\\tilde{\\rho} = \\frac{m}{l}$.\n",
    "\n",
    "El eje $\\hat{z}$ está alineado con $l$ y $r \\ll l \\implies x, y \\simeq 0$    \n",
    "$$\n",
    "I_{xx} = I_{yy} = \\int_{l/2}^{l/2} \\frac{m}{l} \\left(z^2 \\right) dz = \\frac{m}{l} \\frac{z^3}{3}\\bigg\\rvert_{l/2}^{l/2} = \\frac{m l^2}{12} \\quad I_{zz}= 0\n",
    "$$\n"
   ]
  },
  {
   "cell_type": "markdown",
   "metadata": {},
   "source": [
    "### **Varilla** que rota desde un extremo   \n",
    "![](figuras/240px-Moment_of_inertia_rod_end.svg.png)  \n",
    "\n",
    "El [teorema de Steiner](https://es.wikipedia.org/wiki/Teorema_del_eje_paralelo) permite calcular rotaciones en torno a ejes paralelos al que pasan por el centro de masa simplemente adicionando\n",
    "$$\n",
    "M r^2\n",
    "$$\n",
    "siendo $M$ la masa del sistema y $r$ la distancia entre ambos ejes.\n",
    "\n",
    "Para la varilla rotando en torno a un extremo\n",
    "$$\n",
    "I_{xx} = I_{yy} = I_{xx, \\mathrm{centro\\,de\\,masa}} + m \\left(\\frac{l}{2}\\right)^2 =  m l^2 \\left( \\frac{1}{12} + \\frac{1}{4} \\right) =  \\frac{m l^2}{3}\n",
    "$$"
   ]
  },
  {
   "cell_type": "markdown",
   "metadata": {},
   "source": [
    "### **Cáscara vacía esférica**\n",
    "![](figuras/261px-Spherical_shell_moment_of_inertia.png)"
   ]
  },
  {
   "cell_type": "markdown",
   "metadata": {},
   "source": [
    "Para cualquier cuerpo material del que conozcamos la masa, $m$, nos resta conocer el volumen en que esta distribuye. Para calcular el volumen de una esfera por integración es más sencillo utilizar coordenadas esféricas. La coordenada radial $\\rho$ se complementa con el ángulo azimutal, en el plano $x,y$ en el sistema cartesiano, y $\\theta$ la coordenada polar que parte desde el eje $\\hat{z}$ del sistema cartesiano. El jacobiano en este sistema es $\\rho^2 \\sin(\\varphi)$."
   ]
  },
  {
   "cell_type": "code",
   "execution_count": 11,
   "metadata": {},
   "outputs": [
    {
     "data": {
      "text/latex": [
       "$\\displaystyle Volumen_{esfera} = \\int\\limits_{0}^{2 \\pi}\\int\\limits_{0}^{\\pi}\\int\\limits_{0}^{r} \\rho^{2} \\sin{\\left(\\theta \\right)}\\, d\\rho\\, d\\theta\\, d\\varphi$"
      ],
      "text/plain": [
       "Eq(Volumen_{esfera}, Integral(\\rho**2*sin(theta), (\\rho, 0, r), (theta, 0, pi), (\\varphi, 0, 2*pi)))"
      ]
     },
     "execution_count": 11,
     "metadata": {},
     "output_type": "execute_result"
    }
   ],
   "source": [
    "ro, fi, zeta = sym.symbols(r'\\rho \\varphi theta') # coordenadas del sistema esférico\n",
    "esféricas_jacobiano = ro**2 * sym.sin(zeta)\n",
    "\n",
    "esfera_volumen = sym.Eq(\n",
    "  sym.Symbol('Volumen_{esfera}'),\n",
    "  sym.Integral(\n",
    "    esféricas_jacobiano,\n",
    "    (ro, 0, r), (zeta, 0, sym.pi), (fi, 0, 2* sym.pi)\n",
    "    )\n",
    ")\n",
    "esfera_volumen"
   ]
  },
  {
   "cell_type": "code",
   "execution_count": 12,
   "metadata": {},
   "outputs": [
    {
     "data": {
      "text/latex": [
       "$\\displaystyle Volumen_{esfera} = \\frac{4 \\pi r_{2}^{3}}{3}$"
      ],
      "text/plain": [
       "Eq(Volumen_{esfera}, 4*pi*r_2**3/3)"
      ]
     },
     "execution_count": 12,
     "metadata": {},
     "output_type": "execute_result"
    }
   ],
   "source": [
    "esfera_exterior_volumen = esfera_volumen.subs(r, sym.Symbol('r_2')).doit() # definimos el símbolo para el radio de la esfera\n",
    "esfera_exterior_volumen"
   ]
  },
  {
   "cell_type": "markdown",
   "metadata": {},
   "source": [
    "En este casquete esférico $r_1<r_2$."
   ]
  },
  {
   "cell_type": "code",
   "execution_count": 13,
   "metadata": {},
   "outputs": [
    {
     "data": {
      "text/latex": [
       "$\\displaystyle Volumen_{casquete} = \\frac{4 \\pi \\left(- r_{1}^{3} + r_{2}^{3}\\right)}{3}$"
      ],
      "text/plain": [
       "Eq(Volumen_{casquete}, 4*pi*(-r_1**3 + r_2**3)/3)"
      ]
     },
     "execution_count": 13,
     "metadata": {},
     "output_type": "execute_result"
    }
   ],
   "source": [
    "casquete_volumen = sym.Eq(\n",
    "  sym.Symbol('Volumen_{casquete}'),\n",
    "  esfera_exterior_volumen.rhs - esfera_volumen.subs(r, sym.Symbol('r_1')).doit().rhs\n",
    ")\n",
    "casquete_volumen.simplify()"
   ]
  },
  {
   "cell_type": "markdown",
   "metadata": {},
   "source": [
    "La densidad queda"
   ]
  },
  {
   "cell_type": "code",
   "execution_count": 14,
   "metadata": {},
   "outputs": [
    {
     "data": {
      "text/latex": [
       "$\\displaystyle \\tilde{\\rho}_{casquete} = \\frac{3 m}{4 \\pi \\left(- r_{1}^{3} + r_{2}^{3}\\right)}$"
      ],
      "text/plain": [
       "Eq(\\tilde{\\rho}_{casquete}, 3*m/(4*pi*(-r_1**3 + r_2**3)))"
      ]
     },
     "execution_count": 14,
     "metadata": {},
     "output_type": "execute_result"
    }
   ],
   "source": [
    "m = sym.Symbol('m') # definimos el símbolo para la masa\n",
    "casquete_densidad = sym.Eq(\n",
    "  sym.Symbol(r'\\tilde{\\rho}_{casquete}'),\n",
    "  m/ casquete_volumen.rhs.doit().simplify()\n",
    ")\n",
    "casquete_densidad"
   ]
  },
  {
   "cell_type": "markdown",
   "metadata": {},
   "source": [
    "Por su simetría el casquete esférico tiene el mismo momento de inercia en los ejes x e y, por lo que solo calcularemos el momento de inercia en el eje z.\n",
    "\n",
    "Para eso recordamos que $x^2 + y^2 = \\rho^2 (\\cos^2{\\varphi} + \\sin^2{\\varphi}) = \\rho^2$\n"
   ]
  },
  {
   "cell_type": "code",
   "execution_count": 15,
   "metadata": {},
   "outputs": [
    {
     "data": {
      "text/latex": [
       "$\\displaystyle I_{zz} = \\int\\limits_{0}^{2 \\pi}\\int\\limits_{0}^{\\pi}\\int\\limits_{r_{1}}^{r_{2}} \\rho^{4} \\tilde{\\rho}_{casquete} \\sin{\\left(\\theta \\right)}\\, d\\rho\\, d\\theta\\, d\\varphi$"
      ],
      "text/plain": [
       "Eq(I_{zz}, Integral(\\rho**4*\\tilde{\\rho}_{casquete}*sin(theta), (\\rho, r_1, r_2), (theta, 0, pi), (\\varphi, 0, 2*pi)))"
      ]
     },
     "execution_count": 15,
     "metadata": {},
     "output_type": "execute_result"
    }
   ],
   "source": [
    "r1, r2 = sym.symbols('r_1 r_2') # definimos los símbolos para los radios de la esfera\n",
    "Izz = sym.Eq(\n",
    "  sym.Symbol('I_{zz}'),\n",
    "  sym.Integral(\n",
    "    esféricas_jacobiano* casquete_densidad.lhs* ro**2,\n",
    "    (ro, r1, r2), (zeta, 0, sym.pi), (fi, 0, 2* sym.pi)\n",
    "  )\n",
    ")\n",
    "Izz"
   ]
  },
  {
   "cell_type": "code",
   "execution_count": 16,
   "metadata": {},
   "outputs": [
    {
     "data": {
      "text/latex": [
       "$\\displaystyle I_{zz} = \\frac{4 \\pi \\tilde{\\rho}_{casquete} \\left(- r_{1}^{5} + r_{2}^{5}\\right)}{5}$"
      ],
      "text/plain": [
       "Eq(I_{zz}, 4*pi*\\tilde{\\rho}_{casquete}*(-r_1**5 + r_2**5)/5)"
      ]
     },
     "execution_count": 16,
     "metadata": {},
     "output_type": "execute_result"
    }
   ],
   "source": [
    "Izz.doit().simplify()"
   ]
  },
  {
   "cell_type": "code",
   "execution_count": 17,
   "metadata": {},
   "outputs": [
    {
     "data": {
      "text/latex": [
       "$\\displaystyle I_{zz} = \\frac{3 m \\left(r_{1}^{5} - r_{2}^{5}\\right)}{5 \\left(r_{1}^{3} - r_{2}^{3}\\right)}$"
      ],
      "text/plain": [
       "Eq(I_{zz}, 3*m*(r_1**5 - r_2**5)/(5*(r_1**3 - r_2**3)))"
      ]
     },
     "execution_count": 17,
     "metadata": {},
     "output_type": "execute_result"
    }
   ],
   "source": [
    "Izz.doit().subs(casquete_densidad.lhs, casquete_densidad.rhs).simplify()"
   ]
  }
 ],
 "metadata": {
  "kernelspec": {
   "display_name": "Python 3 (ipykernel)",
   "language": "python",
   "name": "python3"
  },
  "language_info": {
   "codemirror_mode": {
    "name": "ipython",
    "version": 3
   },
   "file_extension": ".py",
   "mimetype": "text/x-python",
   "name": "python",
   "nbconvert_exporter": "python",
   "pygments_lexer": "ipython3",
   "version": "3.11.2"
  }
 },
 "nbformat": 4,
 "nbformat_minor": 4
}
