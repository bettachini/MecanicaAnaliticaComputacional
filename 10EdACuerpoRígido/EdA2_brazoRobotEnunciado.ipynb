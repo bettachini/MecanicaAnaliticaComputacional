{
 "cells": [
  {
   "cell_type": "markdown",
   "metadata": {},
   "source": [
    "# Brazo robótico industrial\n",
    "\n",
    "© 2020 Víctor A. Bettachini  \n",
    "Mecánica General  \n",
    "Departamento de Ingeniería e Investigación Tecnológica  \n",
    "Universidad Nacional de La Matanza   \n",
    "\n",
    "![](ambos.png \"UNLaM | DIIT\")  \n",
    "\n",
    "--- "
   ]
  },
  {
   "cell_type": "markdown",
   "metadata": {},
   "source": [
    "## Uniones motorizadas de piezas rígidas\n",
    "\n",
    "![](rob_4_1_2.png \"Brazo robótico de tres grados de libertad con una únión prismática y dos rotacionales\")\n",
    "\n",
    "El esquema de este sencillo brazo muestra las uniones (joints):\n",
    "- **rotacional 1** entre el vínculo (link) 0 con el suelo y 1 en la sección cilíndrica de longitud $d$,\n",
    "- **prismática 2** entre vínculos 1 y 2,\n",
    "- **rotacional 3** entre vínculo 2 y 3 que provee la pieza de longitud $l_3$ en cuyo extremo se ubica el efector $E$."
   ]
  },
  {
   "cell_type": "markdown",
   "metadata": {},
   "source": [
    "![](rob_3_1_1.png \"Uniones prismáticas y rotacionales\")\n",
    "\n",
    "- La unión prismática 2 adiciona una longitud a las de los vínculos 1 y 2 ($l_1$ y $l_2$) para conformar la longitud $d$.\n",
    "- En tanto que la uniones rotacionales suelen operar sobre un único eje de rotación.\n",
    "\n",
    "Ambas uniones son accionadas por motor de corriente continua que ofician de actuadores.\n",
    "En forma proporcional a la corriente eléctrica que se les alimenta provéen el torque requerido.\n",
    "\n",
    "![](rob_2_1_1.png \"Motor de corriente continua\")\n",
    "![](rob_2_2_1.png \"Unión rotacional motorizada\")"
   ]
  },
  {
   "cell_type": "markdown",
   "metadata": {},
   "source": [
    "# Enunciado\n",
    "Objetivo: levantar una pieza del suelo y presentarla con el efector en el extremo del brazo mirando hacia arriba en una determinada posición.\n",
    "- Calcular los torques y fuerzas de los motores siguiendo una secuencia\n",
    "    1. Brazo vertical, retraido\n",
    "    1. Rotar sección primera hasta apuntar a elemento\n",
    "    1. Extender hasta tomar elemento\n",
    "    1. Rotar 1.a sección hasta su ángulo final\n",
    "    1. Rotar 2.a sección hasta apuntar hacia arriba\n",
    "    1. Extender 1.a sección hasta posición final\n",
    "- Graficar torques y fuerzas en función del tiempo."
   ]
  },
  {
   "cell_type": "markdown",
   "metadata": {},
   "source": [
    "## Consideraciones\n",
    "Haremos muchas simplificaciones para hacer más accesible el problema\n",
    "- Punto de sujeción del sistema $O$\n",
    "    - El primer vínculo de longitud $l_1$ rota en torno del punto $O$ elevado $0.5\\,\\mathrm{m}$ del suelo.\n",
    "- Vínculos\n",
    "    - Cilindros macizos de aluminio $\\delta_{Al} = 2.7\\,\\mathrm{\\frac{g}{cm^3}}$.\n",
    "    - Longitudes iguales $l_1 = l_2 = l_3 = 2\\,\\mathrm{m}$.\n",
    "    - diámetros iguales $10\\,\\mathrm{cm}$\n",
    "    - Recuerde que $l_1 < d < l_1+ l_2$, es decir que el vínculo de $l_2$ se pliega totalmente dentro del de $l_1$.\n",
    "- Uniones (y sus motores)\n",
    "    - Despreciamos sus masas en el modelo, por lo que no afectan la dinámica salvo proveyendo torque o fuerza.\n",
    "    - Velocidad de rotación en torno a uniones rotacionales $10\\,\\mathrm{\\frac{^\\circ}{s}}$\n",
    "    - Velocidad de extensión/retracción del vínculo de $l_2$, $5\\,\\mathrm{\\frac{cm}{s}}$\n",
    "- Efector\n",
    "    - Posición coincidente con el extremo del vínculo de longitud $l_3$.\n",
    "    - Masa concentrada en este punto (masa puntual) $20\\,\\mathrm{kg}$. \n",
    "- Pieza a levantar\n",
    "    - La asumimos puntual, es decir toda su masa de $100\\,\\mathrm{kg}$ estará concentrada en un el mismo punto de la posición del efector.\n",
    "    - Ubicado inicialmente en el suelo a $4.5\\,\\mathrm{m}$ del centro del soporte de la sujeción del brazo."
   ]
  },
  {
   "cell_type": "code",
   "execution_count": null,
   "metadata": {},
   "outputs": [],
   "source": []
  }
 ],
 "metadata": {
  "kernelspec": {
   "display_name": "Python 3",
   "language": "python",
   "name": "python3"
  },
  "language_info": {
   "codemirror_mode": {
    "name": "ipython",
    "version": 3
   },
   "file_extension": ".py",
   "mimetype": "text/x-python",
   "name": "python",
   "nbconvert_exporter": "python",
   "pygments_lexer": "ipython3",
   "version": "3.7.3"
  }
 },
 "nbformat": 4,
 "nbformat_minor": 4
}
