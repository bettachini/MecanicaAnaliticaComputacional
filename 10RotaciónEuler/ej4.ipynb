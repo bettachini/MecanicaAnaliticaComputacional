{
  "cells": [
    {
      "cell_type": "markdown",
      "metadata": {
        "id": "-Bz0PlPo6PXW"
      },
      "source": [
        "# Ecuaciones de Euler de la rotación | Volante de inercia"
      ]
    },
    {
      "cell_type": "markdown",
      "metadata": {
        "id": "_b1M6iPc6PXd"
      },
      "source": [
        "[![DIIT - UNLaM](data:image/png;base64,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)](https://ingenieria.unlam.edu.ar/)    \n",
        "[![by-nc-sa_80x15.png](data:image/png;base64,iVBORw0KGgoAAAANSUhEUgAAAFAAAAAPCAMAAABEF7i9AAAABGdBTUEAANbY1E9YMgAAAJZQTFRF////7u7u3d3dys7KzMzMyMzIxsrGxcbFur+6u7u7s7iyq7GqqqqqmZmZlJmTj5CPiIiIh4eHhoaGgICAfYJ9d3d3cnZxZ2tnZmZmW15bVVVVS0xLREREQ0NDQkJCQUJBOz07OTs5MzMzMTMxLjAuJygnJCUjIiIiISEhICAgGRkZERERDxAPDg4ODQ4NDQ0NDQ0MAAAADbeuvgAAAOhJREFUeNqtk+tyAiEMhQ+6XtroutZiveBdu+p2tXn/l3OQy8roL5fMMENC+HIIAI5sYEQ1DSRtP5zZkCpToubf2/oMMC0zX0QdiLqjmsD1sVKd8JSoNa8HvGRIclZCcZ5A7Yiag/s6oJPMYD8FKgIC3wG/+QP5DFIWot+DvBB1OxYAk+W2W88HqqwAOOZE6FuZbfWZZUn02fb1rTAHc3izZgQCrxWqSSFkH/IaKuSHEzEChfyk2PbwmqFX8EQo3jaw2Ac9DIFhD12Tn4CbU+RbTv+HHrj8jfAOacxflrc61/0psf9yZLsBr5WUrhUa3hEAAAAASUVORK5CYII=)](https://creativecommons.org/licenses/by-sa/4.0/deed.es_ES) \n",
        "2021 [Víctor A. Bettachini](mailto:vbettachini@unlam.edu.ar)  \n",
        "\n",
        "---"
      ]
    },
    {
      "cell_type": "markdown",
      "metadata": {
        "id": "WBycGGAM6PXg"
      },
      "source": [
        "## Enunciado\n",
        "El volante de inercia de la figura tiene una masa de \\\\(10\\,\\mathrm{kg}\\\\) es solidario al eje de masa despreciable sostenido por los cojinetes \\\\(A\\\\) y \\\\(B\\\\).\n",
        "Este eje gira con velocidad angular constante.\n",
        "El cojinete \\\\(A\\\\) es de empuje, por lo que provee reacción también en la dirección longitudinal al eje en tanto que el \\\\(B\\\\) solo lo hace en las direcciones transversales.\n",
        "Un eje transversal al del volante sostiene la montura del cojinete \\\\(A\\\\) y también gira con velocidad angular constante.\n",
        "1. Determine las reacciones que deben proveer los cojinetes.\n",
        "    \n",
        "![](https://github.com/bettachini/UNLaM_MecanicaGeneral/blob/master/10Rotaci%C3%B3nEuler/figuras/hibb21_6.png?raw=1)"
      ]
    },
    {
      "cell_type": "markdown",
      "metadata": {
        "id": "12SK3QJK6PXi"
      },
      "source": [
        "## Planteo\n",
        "Las vectores de velocidad angular pasan por el punto $A$ por lo que restaría obtener los $I$ y los $\\vec{\\tau}$ referidos a tal punto para poder escribir las ecuaciones de Euler para la rotación.\n",
        "\n",
        "$$\n",
        "\\left\\{\n",
        "\\begin{aligned}\n",
        "(I_y - I_z) \\Omega_y \\Omega_z - I_x \\frac{d \\Omega_x}{d t} + \\tau_x &= 0\\\\\n",
        "(I_z - I_x) \\Omega_z \\Omega_x - I_y \\frac{d \\Omega_y}{d t} + \\tau_y &= 0\\\\\n",
        "(I_x - I_y) \\Omega_x \\Omega_y - I_z \\frac{d \\Omega_z}{d t} + \\tau_z &= 0\n",
        "\\end{aligned}\n",
        "\\right.\n",
        "$$\n",
        "Se alinean ejes pasando por $A$ con $\\hat{z}$ en la dirección del eje sobre el que rota el disco.\n",
        "Las fuerzas de reacción $A_x$, $B_x$ y $A_z$ se calcularan respetando el sentido positivo de tal eje, con signo opuesto a los dibujados.\n",
        "\n",
        "![](https://github.com/bettachini/UNLaM_MecanicaGeneral/blob/master/10Rotaci%C3%B3nEuler/figuras/hibb21_6Solved.png?raw=1)"
      ]
    },
    {
      "cell_type": "code",
      "execution_count": null,
      "metadata": {
        "id": "wIVLsJsv6PXj"
      },
      "outputs": [],
      "source": [
        "# biblioteca de cálculo simbólico\n",
        "import sympy as sym\n",
        "import sympy.physics.mechanics as mech\n",
        "mech.init_vprinting() # notación con puntos para derivadas temporales"
      ]
    },
    {
      "cell_type": "code",
      "execution_count": null,
      "metadata": {
        "id": "qheDmKT06PXl",
        "outputId": "72450fca-b061-4ece-ab6b-e22c113a7477"
      },
      "outputs": [
        {
          "data": {
            "text/latex": [
              "$\\displaystyle \\left[\\begin{matrix}- I_{x} \\dot{\\Omega}_{x} + \\tau_{x} + \\left(I_{y} - I_{z}\\right) \\Omega_{y} \\Omega_{z} = 0\\\\- I_{y} \\dot{\\Omega}_{y} + \\tau_{y} + \\left(- I_{x} + I_{z}\\right) \\Omega_{x} \\Omega_{z} = 0\\\\- I_{z} \\dot{\\Omega}_{z} + \\tau_{z} + \\left(I_{x} - I_{y}\\right) \\Omega_{x} \\Omega_{y} = 0\\end{matrix}\\right]$"
            ],
            "text/plain": [
              "⎡ -Iₓ⋅Ωₓ̇ + τₓ + (I_y - I_z)⋅Ω_y⋅Ω_z = 0 ⎤\n",
              "⎢                                       ⎥\n",
              "⎢-I_y⋅Ω_̇y + τ_y + (-Iₓ + I_z)⋅Ωₓ⋅Ω_z = 0⎥\n",
              "⎢                                       ⎥\n",
              "⎣-I_z⋅Ω_̇z + τ_z + (Iₓ - I_y)⋅Ωₓ⋅Ω_y = 0 ⎦"
            ]
          },
          "execution_count": 2,
          "metadata": {},
          "output_type": "execute_result"
        }
      ],
      "source": [
        "# las ecuaciones de Euler para la rotación\n",
        "t = sym.symbols('t')\n",
        "I_x, I_y, I_z = sym.symbols('I_x I_y I_z', positive=True)\n",
        "tau_x, tau_y, tau_z = sym.symbols('tau_x tau_y tau_z') \n",
        "omega_x = sym.Function('Omega_x')(t)\n",
        "omega_y = sym.Function('Omega_y')(t)\n",
        "omega_z = sym.Function('Omega_z')(t)\n",
        "\n",
        "x_EL = sym.Eq( (I_y - I_z)* omega_y* omega_z - I_x* (omega_x.diff(t) ) + tau_x, 0)\n",
        "y_EL = sym.Eq( (I_z - I_x)* omega_z* omega_x - I_y* (omega_y.diff(t) ) + tau_y, 0 )\n",
        "z_EL = sym.Eq((I_x - I_y)* omega_x* omega_y - I_z* (omega_z.diff(t) ) + tau_z, 0 )\n",
        "sym.Matrix([x_EL, y_EL, z_EL])"
      ]
    },
    {
      "cell_type": "code",
      "execution_count": null,
      "metadata": {
        "id": "z9Lxfr1V6PXn"
      },
      "outputs": [],
      "source": [
        "# Sistema cartesiano\n",
        "N = sym.physics.vector.ReferenceFrame('N')\n",
        "\n",
        "# Parametros del sistema\n",
        "g, m, R, d_AG, d_GB = sym.symbols('g m R d_{AG} d_{GB}')\n",
        "omega_p, omega_s = sym.symbols('omega_p, omega_s')\n",
        "\n",
        "# Fuerzas de reacción de los cojinetes\n",
        "Ax, Ay, Az, Bx, By = sym.symbols('A_x A_y A_z B_x B_y')\n",
        "F_A = Ax* N.x + Ay* N.y + Az* N.z\n",
        "F_B = Bx* N.x + By* N.y\n",
        "\n",
        "# Peso\n",
        "F_G = m* (-g * N.y)"
      ]
    },
    {
      "cell_type": "code",
      "execution_count": null,
      "metadata": {
        "id": "rRxGXxdW6PXp",
        "outputId": "b448e4f4-7b8e-4309-b884-98de66fa8e39"
      },
      "outputs": [
        {
          "data": {
            "text/latex": [
              "$\\displaystyle \\vec{\\Omega}_A = \\left[\\begin{matrix}0\\\\\\omega_{p}\\\\\\omega_{s}\\end{matrix}\\right]$"
            ],
            "text/plain": [
              "                 ⎡0 ⎤\n",
              "                 ⎢  ⎥\n",
              "\\vec{\\Omega}_A = ⎢ωₚ⎥\n",
              "                 ⎢  ⎥\n",
              "                 ⎣ωₛ⎦"
            ]
          },
          "execution_count": 4,
          "metadata": {},
          "output_type": "execute_result"
        }
      ],
      "source": [
        "# velocidades angulares\n",
        "omega_A = sym.Eq( sym.Symbol(r'\\vec{\\Omega}_A') , sym.Matrix( [0, omega_p, omega_s] ) , evaluate=False)\n",
        "omega_A"
      ]
    },
    {
      "cell_type": "code",
      "execution_count": null,
      "metadata": {
        "id": "_pxbsx2s6PXr",
        "outputId": "80aa78b7-aa29-4852-bbed-00fa0b6d61e1"
      },
      "outputs": [
        {
          "data": {
            "text/latex": [
              "$\\displaystyle \\vec{\\tau}_A = \\left[\\begin{matrix}- B_{y} \\left(d_{AG} + d_{GB}\\right) + d_{AG} g m\\\\B_{x} \\left(d_{AG} + d_{GB}\\right)\\\\0\\end{matrix}\\right]$"
            ],
            "text/plain": [
              "               ⎡-B_y⋅(d_{AG} + d_{GB}) + d_{AG}⋅g⋅m⎤\n",
              "               ⎢                                   ⎥\n",
              "\\vec{\\tau}_A = ⎢       Bₓ⋅(d_{AG} + d_{GB})        ⎥\n",
              "               ⎢                                   ⎥\n",
              "               ⎣                 0                 ⎦"
            ]
          },
          "execution_count": 5,
          "metadata": {},
          "output_type": "execute_result"
        }
      ],
      "source": [
        "# torques desde A\n",
        "r_AG = d_AG* N.z\n",
        "tau_AG = r_AG.cross(F_G)\n",
        "r_BA = r_AG + d_GB* N.z\n",
        "tau_AB = r_BA.cross(F_B)\n",
        "tau_A =  sym.Eq(sym.Symbol(r'\\vec{\\tau}_A'), (tau_AG + tau_AB).to_matrix(N), evaluate=False)\n",
        "tau_A"
      ]
    },
    {
      "cell_type": "markdown",
      "metadata": {
        "id": "XgEi8hfw6PXs"
      },
      "source": [
        "## Ecuaciones de Euler con los datos del problema"
      ]
    },
    {
      "cell_type": "code",
      "execution_count": null,
      "metadata": {
        "id": "9SHnI27d6PXt",
        "outputId": "3fe7e91d-df7a-4ac2-b691-5c8bff04b68c"
      },
      "outputs": [
        {
          "data": {
            "text/latex": [
              "$\\displaystyle \\left[\\begin{matrix}- B_{y} \\left(d_{AG} + d_{GB}\\right) + d_{AG} g m + \\omega_{p} \\omega_{s} \\left(I_{y} - I_{z}\\right) = 0\\\\B_{x} \\left(d_{AG} + d_{GB}\\right) = 0\\\\\\text{True}\\end{matrix}\\right]$"
            ],
            "text/plain": [
              "⎡-B_y⋅(d_{AG} + d_{GB}) + d_{AG}⋅g⋅m + ωₚ⋅ωₛ⋅(I_y - I_z) = 0⎤\n",
              "⎢                                                           ⎥\n",
              "⎢                 Bₓ⋅(d_{AG} + d_{GB}) = 0                  ⎥\n",
              "⎢                                                           ⎥\n",
              "⎣                           True                            ⎦"
            ]
          },
          "execution_count": 6,
          "metadata": {},
          "output_type": "execute_result"
        }
      ],
      "source": [
        "taus_omegas = {\n",
        "    tau_x : tau_A.rhs[0],\n",
        "    tau_y : tau_A.rhs[1],\n",
        "    tau_z : tau_A.rhs[2],\n",
        "    omega_x : omega_A.rhs[0],\n",
        "    omega_y : omega_A.rhs[1],\n",
        "    omega_z : omega_A.rhs[2],    \n",
        "}\n",
        "x_EL = x_EL.subs(taus_omegas).simplify()\n",
        "y_EL = y_EL.subs(taus_omegas).simplify()\n",
        "z_EL = z_EL.subs(taus_omegas).simplify()\n",
        "\n",
        "sym.Matrix([x_EL, y_EL, z_EL]) # el último no tiene aplicación pues es 0 = 0"
      ]
    },
    {
      "cell_type": "markdown",
      "metadata": {
        "id": "d1KKVdL_6PXv"
      },
      "source": [
        "## Ecuaciones de la 2.a ley de Newton"
      ]
    },
    {
      "cell_type": "code",
      "execution_count": null,
      "metadata": {
        "id": "mqunUgvq6PXw",
        "outputId": "883fcac0-7c28-4716-aff1-3edd823694dd"
      },
      "outputs": [
        {
          "data": {
            "text/latex": [
              "$\\displaystyle \\left[\\begin{matrix}A_{x} + B_{x} = 0\\\\A_{y} + B_{y} - g m = 0\\\\A_{z} = 0\\end{matrix}\\right]$"
            ],
            "text/plain": [
              "⎡    Aₓ + Bₓ = 0    ⎤\n",
              "⎢                   ⎥\n",
              "⎢A_y + B_y - g⋅m = 0⎥\n",
              "⎢                   ⎥\n",
              "⎣      A_z = 0      ⎦"
            ]
          },
          "execution_count": 15,
          "metadata": {},
          "output_type": "execute_result"
        }
      ],
      "source": [
        "# F = m* a\n",
        "x_Newton = sym.Eq( (F_A+ F_B+ F_G).dot(N.x) , 0 )\n",
        "y_Newton = sym.Eq( (F_A+ F_B+ F_G).dot(N.y) , 0 )\n",
        "z_Newton = sym.Eq( (F_A+ F_B+ F_G).dot(N.z) , 0 )\n",
        "\n",
        "sym.Matrix( [x_Newton, y_Newton, z_Newton])"
      ]
    },
    {
      "cell_type": "markdown",
      "metadata": {
        "id": "34101GSE6PXx"
      },
      "source": [
        "## Resolución del sistema de ecuaciones"
      ]
    },
    {
      "cell_type": "code",
      "execution_count": null,
      "metadata": {
        "id": "-qCH7Z5B6PXx"
      },
      "outputs": [],
      "source": [
        "variablesDespeje = [Ax, Ay, Az, Bx, By]\n",
        "# sistemaEcuaciones = sistema_EL + sistema_Newton\n",
        "sistemaEcuaciones = [\n",
        "    x_EL,\n",
        "    y_EL,\n",
        "#    z_EL,\n",
        "    x_Newton,\n",
        "    y_Newton,\n",
        "    z_Newton    \n",
        "]"
      ]
    },
    {
      "cell_type": "code",
      "execution_count": null,
      "metadata": {
        "id": "xijGPZaf6PXx",
        "outputId": "34558f72-ade7-4200-9c96-d1344e5b0b2e"
      },
      "outputs": [
        {
          "data": {
            "text/latex": [
              "$\\displaystyle \\left[\\begin{matrix}A_{x}\\\\A_{y}\\\\A_{z}\\\\B_{x}\\\\B_{y}\\end{matrix}\\right] = \\left[\\begin{matrix}0\\\\- \\frac{I_{y} \\omega_{p} \\omega_{s}}{d_{AG} + d_{GB}} + \\frac{I_{z} \\omega_{p} \\omega_{s}}{d_{AG} + d_{GB}} - \\frac{d_{AG} g m}{d_{AG} + d_{GB}} + g m\\\\0\\\\0\\\\\\frac{I_{y} \\omega_{p} \\omega_{s} - I_{z} \\omega_{p} \\omega_{s} + d_{AG} g m}{d_{AG} + d_{GB}}\\end{matrix}\\right]$"
            ],
            "text/plain": [
              "        ⎡                             0                             ⎤\n",
              "        ⎢                                                           ⎥\n",
              "⎡Aₓ ⎤   ⎢     I_y⋅ωₚ⋅ωₛ         I_z⋅ωₚ⋅ωₛ         d_{AG}⋅g⋅m        ⎥\n",
              "⎢   ⎥   ⎢- ─────────────── + ─────────────── - ─────────────── + g⋅m⎥\n",
              "⎢A_y⎥   ⎢  d_{AG} + d_{GB}   d_{AG} + d_{GB}   d_{AG} + d_{GB}      ⎥\n",
              "⎢   ⎥   ⎢                                                           ⎥\n",
              "⎢A_z⎥ = ⎢                             0                             ⎥\n",
              "⎢   ⎥   ⎢                                                           ⎥\n",
              "⎢Bₓ ⎥   ⎢                             0                             ⎥\n",
              "⎢   ⎥   ⎢                                                           ⎥\n",
              "⎣B_y⎦   ⎢            I_y⋅ωₚ⋅ωₛ - I_z⋅ωₚ⋅ωₛ + d_{AG}⋅g⋅m             ⎥\n",
              "        ⎢            ──────────────────────────────────             ⎥\n",
              "        ⎣                     d_{AG} + d_{GB}                       ⎦"
            ]
          },
          "execution_count": 9,
          "metadata": {},
          "output_type": "execute_result"
        }
      ],
      "source": [
        "variblesDespeje_sol = sym.nonlinsolve(sistemaEcuaciones, variablesDespeje ).args[0]\n",
        "sym.Eq(sym.Matrix(variablesDespeje), sym.Matrix(variblesDespeje_sol) )"
      ]
    },
    {
      "cell_type": "markdown",
      "metadata": {
        "id": "ei8GjiCM6PXz"
      },
      "source": [
        "## Tensor de inercia"
      ]
    },
    {
      "cell_type": "markdown",
      "metadata": {
        "id": "hPrbBZ4z6PXz"
      },
      "source": [
        "El momento de inercia en la dirección de $\\hat{z}$ tiene $i=z$ e $k=z$\n",
        "$$\n",
        "I_{zz} \n",
        "= \\iiint \\tilde{\\rho}(\\vec{r}) \\left(x^2 + y^2 + z^2 - zz \\right) dV = \\tilde{\\rho} \\iiint \\left(\\rho^2 \\right) dV\n",
        "$$\n",
        "ya que la densidad es homogénea."
      ]
    },
    {
      "cell_type": "code",
      "execution_count": null,
      "metadata": {
        "id": "h2E37Xr06PX0",
        "outputId": "0bf77327-9a89-497a-ddd8-d42599e02cfb"
      },
      "outputs": [
        {
          "data": {
            "image/png": "[encoded data removed]",
            "text/latex": [
              "$\\displaystyle I_{zz} = \\frac{R^{2} m}{2}$"
            ],
            "text/plain": [
              "          2  \n",
              "         R ⋅m\n",
              "I_{zz} = ────\n",
              "          2  "
            ]
          },
          "execution_count": 10,
          "metadata": {},
          "output_type": "execute_result"
        }
      ],
      "source": [
        "rho, z, varphi = sym.symbols('\\rho z varphi')\n",
        "jacobianoCilindricas = rho\n",
        "volumen = sym.integrate(jacobianoCilindricas, (rho, 0,R), (varphi, 0, 2* sym.pi))\n",
        "densidad = m/(volumen)\n",
        "\n",
        "integrando = rho**2\n",
        "I_zz_magnitud = sym.integrate(densidad* integrando* jacobianoCilindricas, (rho, 0, R), (varphi,0,2*sym.pi))\n",
        "I_zz = sym.Eq( sym.Symbol('I_{zz}') , I_zz_magnitud)\n",
        "I_zz"
      ]
    },
    {
      "cell_type": "markdown",
      "metadata": {
        "id": "icLbR-ds6PX0"
      },
      "source": [
        "Como el disco se considera plano $I_{zz} = I_{xx} + I_{yy}$ y por la simetría $I_{xx}= I_{yy} = \\frac{I_{zz}}{2}$."
      ]
    },
    {
      "cell_type": "code",
      "execution_count": null,
      "metadata": {
        "id": "jqPsrtby6PX1",
        "outputId": "765ab485-f86b-4b32-a85d-fea8acf05d5c"
      },
      "outputs": [
        {
          "data": {
            "image/png": "[encoded data removed]",
            "text/latex": [
              "$\\displaystyle \\left( I_{xx} = \\frac{R^{2} m}{4}, \\  I_{xx} = \\frac{R^{2} m}{4}\\right)$"
            ],
            "text/plain": [
              "⎛          2              2  ⎞\n",
              "⎜         R ⋅m           R ⋅m⎟\n",
              "⎜I_{xx} = ────, I_{xx} = ────⎟\n",
              "⎝          4              4  ⎠"
            ]
          },
          "execution_count": 11,
          "metadata": {},
          "output_type": "execute_result"
        }
      ],
      "source": [
        "I_xx = sym.Eq( sym.Symbol('I_{xx}') , I_zz.rhs/2)\n",
        "I_yy = sym.Eq( sym.Symbol('I_{xx}') , I_zz.rhs/2)\n",
        "I_xx, I_yy"
      ]
    },
    {
      "cell_type": "markdown",
      "metadata": {
        "id": "rPJqp1VA6PX1"
      },
      "source": [
        "Con Steiner los trasladamos al punto $A$.\n",
        "El vector que va desde el punto de cálculo al centro de masa es $\\vec{a} = d_{AG} \\hat{z}$."
      ]
    },
    {
      "cell_type": "code",
      "execution_count": null,
      "metadata": {
        "id": "yKhxZPvt6PX2",
        "outputId": "bbfd2bbe-c33a-49d9-a7c8-112b7855fd92"
      },
      "outputs": [
        {
          "data": {
            "text/latex": [
              "$\\displaystyle \\overline{\\overline{I}}_A = \\left[\\begin{matrix}\\frac{R^{2} m}{4} + d_{AG}^{2} m & 0 & 0\\\\0 & \\frac{R^{2} m}{4} + d_{AG}^{2} m & 0\\\\0 & 0 & \\frac{R^{2} m}{2}\\end{matrix}\\right]$"
            ],
            "text/plain": [
              "                            ⎡ 2                                      ⎤\n",
              "                            ⎢R ⋅m         2                          ⎥\n",
              "                            ⎢──── + d_{AG} ⋅m         0           0  ⎥\n",
              "                            ⎢ 4                                      ⎥\n",
              "                            ⎢                                        ⎥\n",
              "                            ⎢                   2                    ⎥\n",
              "                            ⎢                  R ⋅m         2        ⎥\n",
              "\\overline{\\overline{I}}_A = ⎢       0          ──── + d_{AG} ⋅m   0  ⎥\n",
              "                            ⎢                   4                    ⎥\n",
              "                            ⎢                                        ⎥\n",
              "                            ⎢                                     2  ⎥\n",
              "                            ⎢                                    R ⋅m⎥\n",
              "                            ⎢       0                 0          ────⎥\n",
              "                            ⎣                                     2  ⎦"
            ]
          },
          "execution_count": 12,
          "metadata": {},
          "output_type": "execute_result"
        }
      ],
      "source": [
        "# momentos de inercia desde el punto A\n",
        "I_A_zz = I_zz.rhs\n",
        "I_A_xx = I_xx.rhs + m* d_AG**2\n",
        "I_A_yy = I_yy.rhs + m* d_AG**2\n",
        "I_A =  sym.Eq( sym.symbols('\\overline{\\overline{I}}_A') ,\n",
        "              sym.Matrix( [ [I_A_xx,0,0], [0,I_A_yy,0], [0,0,I_A_zz] ] ) , evaluate= False)\n",
        "I_A"
      ]
    },
    {
      "cell_type": "markdown",
      "metadata": {
        "id": "Of5lLT8c6PX2"
      },
      "source": [
        "## Magnitudes numéricas "
      ]
    },
    {
      "cell_type": "code",
      "execution_count": null,
      "metadata": {
        "id": "W06tfiM16PX2"
      },
      "outputs": [],
      "source": [
        "g_magnitud = 9.81 # [m s-2]\n",
        "m_magnitud = 10 # [kg]\n",
        "R_magnitud = 0.2 # [m] radio disco\n",
        "d_AG_magnitud = 0.5 # [m]\n",
        "d_GB_magnitud = 0.5 # [m]\n",
        "omega_p_magnitud = 3.0 # [rad s-1]\n",
        "omega_s_magnitud = 6.0 # [rad s-1]\n",
        "\n",
        "parametros = {\n",
        "    I_x : I_A.rhs[0,0],\n",
        "    I_y : I_A.rhs[1,1],\n",
        "    I_z : I_A.rhs[2,2],\n",
        "    omega_p : omega_p_magnitud,\n",
        "    omega_s : omega_s_magnitud,\n",
        "    g : g_magnitud,\n",
        "    m : m_magnitud,\n",
        "    R : R_magnitud,\n",
        "    d_AG: d_AG_magnitud,\n",
        "    d_GB : d_GB_magnitud,\n",
        "}"
      ]
    },
    {
      "cell_type": "code",
      "execution_count": null,
      "metadata": {
        "id": "1S9hFo-66PX3",
        "outputId": "fd9e1df3-8700-4b35-b250-0f5ffb497f0d"
      },
      "outputs": [
        {
          "data": {
            "text/latex": [
              "$\\displaystyle \\left[\\begin{matrix}A_{x}\\\\A_{y}\\\\A_{z}\\\\B_{x}\\\\B_{y}\\end{matrix}\\right] = \\left[\\begin{matrix}0\\\\5.85000000000001\\\\0\\\\0\\\\92.25\\end{matrix}\\right]$"
            ],
            "text/plain": [
              "⎡Aₓ ⎤   ⎡       0        ⎤\n",
              "⎢   ⎥   ⎢                ⎥\n",
              "⎢A_y⎥   ⎢5.85000000000001⎥\n",
              "⎢   ⎥   ⎢                ⎥\n",
              "⎢A_z⎥ = ⎢       0        ⎥\n",
              "⎢   ⎥   ⎢                ⎥\n",
              "⎢Bₓ ⎥   ⎢       0        ⎥\n",
              "⎢   ⎥   ⎢                ⎥\n",
              "⎣B_y⎦   ⎣     92.25      ⎦"
            ]
          },
          "execution_count": 14,
          "metadata": {},
          "output_type": "execute_result"
        }
      ],
      "source": [
        "variblesDespeje_numerico = variblesDespeje_sol.subs(parametros)\n",
        "sym.Eq(sym.Matrix(variablesDespeje), sym.Matrix(variblesDespeje_numerico) )"
      ]
    },
    {
      "cell_type": "code",
      "execution_count": null,
      "metadata": {
        "id": "2P0xqKh46PX4"
      },
      "outputs": [],
      "source": []
    }
  ],
  "metadata": {
    "kernelspec": {
      "display_name": "Python 3 (ipykernel)",
      "language": "python",
      "name": "python3"
    },
    "language_info": {
      "codemirror_mode": {
        "name": "ipython",
        "version": 3
      },
      "file_extension": ".py",
      "mimetype": "text/x-python",
      "name": "python",
      "nbconvert_exporter": "python",
      "pygments_lexer": "ipython3",
      "version": "3.9.2"
    },
    "colab": {
      "provenance": []
    }
  },
  "nbformat": 4,
  "nbformat_minor": 0
}