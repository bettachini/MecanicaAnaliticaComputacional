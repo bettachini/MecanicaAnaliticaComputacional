{
 "cells": [
  {
   "cell_type": "markdown",
   "metadata": {},
   "source": [
    "# Ecuaciones de Euler de la rotación | Ejercicio 1\n",
    "© 2020 Víctor A. Bettachini  \n",
    "Mecánica General  \n",
    "Departamento de Ingeniería e Investigación Tecnológica  \n",
    "Universidad Nacional de La Matanza   \n",
    "![](ambos.png \"UNLaM | DIIT\")  \n",
    "---"
   ]
  },
  {
   "cell_type": "markdown",
   "metadata": {},
   "source": [
    "## Enunciado\n",
    "El engranaje de la figura tiene una masa de $10\\,\\mathrm{kg}$ y está montado con una inclinación de $10^o$ al eje de masa despreciable sujeto por los cojinetes $A$ y $B$.\n",
    "El cojinete $A$ es de empuje, por lo que provee reacción también en la dirección longitudinal al eje en tanto que el $B$ solo lo hace en las direcciones transversales.\n",
    "Los momentos de inercia del engranaje son $I_z = 0,1\\,\\mathrm{kg m^2}$ y el $I_y = 0,05\\,\\mathrm{kg m^2}$.\n",
    "El eje gira con velocidad angular constante.\n",
    "1. Determine las reacciones que deben proveer los cojinetes.\n",
    "\n",
    "![](hibb21_4.png \"engranaje\")  "
   ]
  },
  {
   "cell_type": "markdown",
   "metadata": {},
   "source": [
    "## Ecuaciones de Euler-Lagrange para la rotación\n",
    "\n",
    "$$\n",
    "(I_j - I_k) \\Omega_j \\Omega_k - I_i \\dot{\\Omega}_i + \\tau_i = 0\n",
    "$$"
   ]
  },
  {
   "cell_type": "markdown",
   "metadata": {},
   "source": [
    "Teniendo los $\\tau_{x,y,z}$ se pueden expresar las ecuaciones de Euler en los ejes $x,y,z$\n",
    "\n",
    "$$\n",
    "\\left\\{\n",
    "\\begin{aligned}\n",
    "(I_y - I_z) \\Omega_y \\Omega_z - I_1 \\frac{d \\Omega_x}{d t} + \\tau_x &= 0\\\\\n",
    "(I_z - I_x) \\Omega_z \\Omega_x - I_2 \\frac{d \\Omega_y}{d t} + \\tau_y &= 0\\\\\n",
    "(I_x - I_y) \\Omega_x \\Omega_y - I_3 \\frac{d \\Omega_z}{d t} + \\tau_z &= 0\n",
    "\\end{aligned}\n",
    "\\right.\n",
    "$$\n",
    "\n",
    "Para calcular los torques $\\tau_i$ hay que analizar las fuerzas que actuan sobre el sistema."
   ]
  },
  {
   "cell_type": "markdown",
   "metadata": {},
   "source": [
    "## Fuerzas de reacción de los cojinetes\n",
    "Además de la fuerza peso que se considera actua sobre el centro del engranaje, punto $G$, hay que descomponer las reacciones en los cojinetes $A$ y $B$.\n",
    "Estas componentes $A_i$ y $B_i$ se muestra esquemáticamente en la figura siguiente.\n",
    "\n",
    "![](hibb21_4_res.png \"descomposición de reacciones\")  "
   ]
  },
  {
   "cell_type": "markdown",
   "metadata": {},
   "source": [
    "## Cálculo de los torques $\\tau_i$\n",
    "\n",
    "Calculamos primero el $\\vec{\\tau}$ debido a las reacciones.\n",
    "\n",
    "Desde el centro del engranaje $G$ al\n",
    "- punto $A$ hay un $\\vec{r}_{\\overline{GA}} = d_{GA} \\hat{Z} = 0.2\\,\\mathrm{m} \\hat{Z}$\n",
    "- punto $B$ hay un $\\vec{r}_{\\overline{GB}} = - d_{GB} \\hat{Z} = - 0.25\\,\\mathrm{m} \\hat{Z}$\n",
    "\n",
    "Las reacciones propuestas:\n",
    "- En $A$, $F_{A} = A_x \\hat{X} + A_y \\hat{Y} + A_z \\hat{Z}$\n",
    "- En $B$, $F_{B} = B_x \\hat{X} + B_y \\hat{Y}$"
   ]
  },
  {
   "cell_type": "code",
   "execution_count": 1,
   "metadata": {},
   "outputs": [],
   "source": [
    "# biblioteca de cálculo simbólico\n",
    "import sympy as sym\n",
    "import sympy.physics.mechanics as mech\n",
    "mech.init_vprinting() # notación con puntos para derivadas temporales"
   ]
  },
  {
   "cell_type": "markdown",
   "metadata": {},
   "source": [
    "Utilizarémos dos sistemas cartesianos de coordenadas.\n",
    "El alineado con el eje, que se denota con mayúsculas los agruparemos en el sistema M.\n",
    "Para el sistema alineado con el engranaje utilizaremos el N que definiremos girando $\\theta = -10^o$ en torno al eje $\\hat{X}$ del sistema M."
   ]
  },
  {
   "cell_type": "code",
   "execution_count": 2,
   "metadata": {},
   "outputs": [],
   "source": [
    "# Sistemas cartesianos\n",
    "M = sym.physics.vector.ReferenceFrame('M')\n",
    "theta, omega =  sym.symbols('theta omega')\n",
    "N = M.orientnew('N', 'Axis', [theta, M.x])"
   ]
  },
  {
   "cell_type": "code",
   "execution_count": 3,
   "metadata": {},
   "outputs": [],
   "source": [
    "# las fuerzas de reacción de los cojinetes\n",
    "Ax, Ay, Az, Bx, By = sym.symbols('A_X A_Y A_Z B_X B_Y')\n",
    "F_A = Ax* M.x + Ay* M.y + Az* M.z\n",
    "F_B = Bx* M.x + By* M.y\n",
    "\n",
    "# distancias engranaje a cojinetes\n",
    "d_GA, d_GB =  sym.symbols('d_{GA} d_{GB}')\n",
    "\n",
    "r_GA = d_GA* M.z\n",
    "r_GB = d_GB* (-M.z)"
   ]
  },
  {
   "cell_type": "markdown",
   "metadata": {},
   "source": [
    "Con esto\n",
    "\n",
    "$$\n",
    "\\begin{aligned}\n",
    "\\vec{\\tau}_G = \\vec{r} \\times \\vec{F} \n",
    "= \\vec{r}_{\\overline{GA}} \\times \\vec{F}_A\n",
    "&+ \\vec{r}_{\\overline{GB}} \\times \\vec{F}_B \\\\\n",
    "= \\vec{r}_{\\overline{GA}} \\times \\left( A_X \\hat{X} + A_Y \\hat{Y} + A_Z \\hat{Z} \\right)\n",
    " &+ \\vec{r}_{\\overline{GB}} \\times \\left( B_X \\hat{X} + B_Y \\hat{Y} \\right) \\\\\n",
    "= \\left( \\vec{r}_{\\overline{GA}} \\times A_X \\hat{X} \\right) + \\left( \\vec{r}_{\\overline{GA}} \\times A_Y \\hat{Y} \\right)\n",
    " &+ \\left( \\vec{r}_{\\overline{GB}} \\times B_X \\hat{X} \\right) + \\left( \\vec{r}_{\\overline{GB}} \\times B_Y \\hat{Y} \\right) \\\\\n",
    "= \\left( 0.2\\,\\mathrm{m} A_X \\hat{Y} \\right) + \\left( - 0.2\\,\\mathrm{m} A_Y \\hat{X} \\right)\n",
    " &+ \\left( - 0.25\\,\\mathrm{m} B_X \\hat{Y} \\right) + \\left( 0.25\\,\\mathrm{m} B_Y \\hat{X} \\right) \\\\\n",
    "= \\left( - 0.2\\,\\mathrm{m} A_Y + 0.25\\,\\mathrm{m} B_Y \\right) \\hat{X}\n",
    " &+ \\left( 0.2\\,\\mathrm{m} A_X- 0.25\\,\\mathrm{m} B_X  \\right) \\hat{Y} \\\\\n",
    "\\end{aligned}\n",
    "$$\n",
    "Luego este $\\vec{\\tau}_G$ lo descomponemos en los $\\tau_i$ en los ejes $x,y,z$ en que el tensor de inercia se reduce a los momentos principales."
   ]
  },
  {
   "cell_type": "code",
   "execution_count": 4,
   "metadata": {},
   "outputs": [
    {
     "data": {
      "text/latex": [
       "$\\displaystyle \\vec{\\tau}_G = \\left[\\begin{matrix}- A_{Y} d_{GA} + B_{Y} d_{GB}\\\\A_{X} d_{GA} - B_{X} d_{GB}\\\\0\\end{matrix}\\right]$"
      ],
      "text/plain": [
       "               ⎡-A_Y⋅d_{GA} + B_Y⋅d_{GB}⎤\n",
       "               ⎢                        ⎥\n",
       "\\vec{\\tau}_G = ⎢A_X⋅d_{GA} - B_X⋅d_{GB} ⎥\n",
       "               ⎢                        ⎥\n",
       "               ⎣           0            ⎦"
      ]
     },
     "execution_count": 4,
     "metadata": {},
     "output_type": "execute_result"
    }
   ],
   "source": [
    "tau_G = r_GA.cross(F_A) + r_GB.cross(F_B)\n",
    "tau_G_simbolo = sym.Symbol(r'\\vec{\\tau}_G')\n",
    "sym.Eq(tau_G_simbolo, tau_G.to_matrix(M), evaluate=False )"
   ]
  },
  {
   "cell_type": "markdown",
   "metadata": {},
   "source": [
    "Puesto que $\\hat{X} = \\hat{x}$ y $\\hat{Y} = \\cos{\\theta} \\hat{y} + \\sin{\\theta} \\hat{z}$\n",
    "\n",
    "$$\n",
    "\\begin{aligned}\n",
    "\\vec{\\tau}_G = \\vec{r} \\times \\vec{F} \n",
    "&= \\left( - 0.2\\,\\mathrm{m} A_Y + 0.25\\,\\mathrm{m} B_Y \\right) \\hat{x}\n",
    " + \\left( 0.2\\,\\mathrm{m} A_X- 0.25\\,\\mathrm{m} B_X  \\right) \\left( \\cos{\\theta} \\hat{y} + \\sin{\\theta} \\hat{z} \\right)\\\\\n",
    "&= \\left( - 0.2\\,\\mathrm{m} A_Y + 0.25\\,\\mathrm{m} B_Y \\right) \\hat{x}\n",
    " + \\left( 0.2\\,\\mathrm{m} A_X- 0.25\\,\\mathrm{m} B_X  \\right) \\cos{\\theta} \\hat{y} \n",
    " + \\left( 0.2\\,\\mathrm{m} A_X- 0.25\\,\\mathrm{m} B_X  \\right) \\sin{\\theta} \\hat{z}\\\\\n",
    "\\end{aligned}\n",
    "$$"
   ]
  },
  {
   "cell_type": "markdown",
   "metadata": {},
   "source": [
    "La matriz de rotación en torno del eje $\\hat{X}$ en $\\theta$ es"
   ]
  },
  {
   "cell_type": "code",
   "execution_count": 5,
   "metadata": {},
   "outputs": [
    {
     "data": {
      "text/latex": [
       "$\\displaystyle \\left[\\begin{matrix}1 & 0 & 0\\\\0 & \\operatorname{cos}\\left(\\theta\\right) & \\operatorname{sin}\\left(\\theta\\right)\\\\0 & - \\operatorname{sin}\\left(\\theta\\right) & \\operatorname{cos}\\left(\\theta\\right)\\end{matrix}\\right]$"
      ],
      "text/plain": [
       "⎡1     0       0   ⎤\n",
       "⎢                  ⎥\n",
       "⎢0  cos(θ)   sin(θ)⎥\n",
       "⎢                  ⎥\n",
       "⎣0  -sin(θ)  cos(θ)⎦"
      ]
     },
     "execution_count": 5,
     "metadata": {},
     "output_type": "execute_result"
    }
   ],
   "source": [
    "N.dcm(M)"
   ]
  },
  {
   "cell_type": "markdown",
   "metadata": {},
   "source": [
    "Aplicandola recobramos el $\\vec{\\tau}_G$ en el sistema de eje del engranaje que se obtuvo manualmente."
   ]
  },
  {
   "cell_type": "code",
   "execution_count": 6,
   "metadata": {},
   "outputs": [
    {
     "data": {
      "text/latex": [
       "$\\displaystyle \\vec{\\tau}_G = \\left[\\begin{matrix}- A_{Y} d_{GA} + B_{Y} d_{GB}\\\\\\left(A_{X} d_{GA} - B_{X} d_{GB}\\right) \\operatorname{cos}\\left(\\theta\\right)\\\\- \\left(A_{X} d_{GA} - B_{X} d_{GB}\\right) \\operatorname{sin}\\left(\\theta\\right)\\end{matrix}\\right]$"
      ],
      "text/plain": [
       "               ⎡    -A_Y⋅d_{GA} + B_Y⋅d_{GB}     ⎤\n",
       "               ⎢                                 ⎥\n",
       "\\vec{\\tau}_G = ⎢(A_X⋅d_{GA} - B_X⋅d_{GB})⋅cos(θ) ⎥\n",
       "               ⎢                                 ⎥\n",
       "               ⎣-(A_X⋅d_{GA} - B_X⋅d_{GB})⋅sin(θ)⎦"
      ]
     },
     "execution_count": 6,
     "metadata": {},
     "output_type": "execute_result"
    }
   ],
   "source": [
    "tau_G_xyz = tau_G.to_matrix(N)\n",
    "sym.Eq(tau_G_simbolo, tau_G_xyz, evaluate=False )"
   ]
  },
  {
   "cell_type": "markdown",
   "metadata": {},
   "source": [
    "## Momentos de inercia $I_i$\n",
    "El enunciado informa las magnitudes de $I_y$ e $I_z$.\n",
    "Para conocer $I_x$ basta recordar para un cuerpo plano, como estamos considerando al engranaje, $I_z = I_x + I_y$ (ver expresión 32.10 del libro de Landau).\n",
    "Además por la simetría geométrica del engranaje es claro que $I_x = I_y$."
   ]
  },
  {
   "cell_type": "markdown",
   "metadata": {},
   "source": [
    "## Velocidades $\\Omega_i$ y aceleraciones angulares $\\dot{\\Omega}_i$ \n",
    "Se descompone la $\\vec{\\omega}$ del eje en los $\\Omega_i$ del sistema solidario al engranaje.\n",
    "\n",
    "Tenemos que $\\vec{\\omega} = \\omega \\hat{Z} = 30 \\mathrm{s^{-1}} \\hat{Z}$.\n",
    "Y puesto que  $\\hat{Z} = \\cos{\\theta} \\hat{z} + \\sin{\\theta} \\hat{y}$ con $\\theta = -10^o \\times \\frac{\\pi}{180^o}$\n",
    "\n",
    "$$\n",
    "\\begin{aligned}\n",
    "\\Omega_z &= \\omega \\cos{\\theta}\\\\\n",
    "\\Omega_y &= \\omega \\sin{\\theta}.\n",
    "\\end{aligned}\n",
    "$$\n",
    "Como $\\vec{\\omega}$ del eje es constante todas las componentes de aceleración son nulas $\\dot{\\Omega}_i$ en los $x_i$ del engranaje."
   ]
  },
  {
   "cell_type": "code",
   "execution_count": 7,
   "metadata": {},
   "outputs": [
    {
     "data": {
      "text/latex": [
       "$\\displaystyle \\vec{\\Omega} = \\left[\\begin{matrix}0\\\\\\omega \\operatorname{sin}\\left(\\theta\\right)\\\\\\omega \\operatorname{cos}\\left(\\theta\\right)\\end{matrix}\\right]$"
      ],
      "text/plain": [
       "               ⎡   0    ⎤\n",
       "               ⎢        ⎥\n",
       "\\vec{\\Omega} = ⎢ω⋅sin(θ)⎥\n",
       "               ⎢        ⎥\n",
       "               ⎣ω⋅cos(θ)⎦"
      ]
     },
     "execution_count": 7,
     "metadata": {},
     "output_type": "execute_result"
    }
   ],
   "source": [
    "Omega_vector = N.dcm(M)* (omega* M.z).to_matrix(M)\n",
    "Omega_simbolo = sym.Symbol(r'\\vec{\\Omega}')\n",
    "sym.Eq(Omega_simbolo, Omega_vector, evaluate=False)"
   ]
  },
  {
   "cell_type": "markdown",
   "metadata": {},
   "source": [
    "## Resolución del sistema de ecuaciones"
   ]
  },
  {
   "cell_type": "markdown",
   "metadata": {},
   "source": [
    "Con lo anterior el sistema a resolver se simplifica.\n",
    "\n",
    "$$\n",
    "\\left\\{\n",
    "\\begin{aligned}\n",
    "(- I_y) \\Omega_y \\Omega_z + \\tau_x &= 0\\\\\n",
    "(I_y) \\Omega_z \\Omega_x + \\tau_y &= 0\\\\\n",
    "\\tau_z &= 0\n",
    "\\end{aligned}\n",
    "\\right.\n",
    "$$"
   ]
  },
  {
   "cell_type": "code",
   "execution_count": 8,
   "metadata": {},
   "outputs": [
    {
     "data": {
      "image/png": "[encoded data removed]",
      "text/latex": [
       "$\\displaystyle \\left[ - A_{Y} d_{GA} + B_{Y} d_{GB} - I_{y} \\omega^{2} \\operatorname{sin}\\left(\\theta\\right) \\operatorname{cos}\\left(\\theta\\right) = 0, \\  \\left(A_{X} d_{GA} - B_{X} d_{GB}\\right) \\operatorname{cos}\\left(\\theta\\right) = 0, \\  - \\left(A_{X} d_{GA} - B_{X} d_{GB}\\right) \\operatorname{sin}\\left(\\theta\\right) = 0\\right]$"
      ],
      "text/plain": [
       "⎡                                2                                            \n",
       "⎣-A_Y⋅d_{GA} + B_Y⋅d_{GB} - I_y⋅ω ⋅sin(θ)⋅cos(θ) = 0, (A_X⋅d_{GA} - B_X⋅d_{GB}\n",
       "\n",
       "                                                   ⎤\n",
       ")⋅cos(θ) = 0, -(A_X⋅d_{GA} - B_X⋅d_{GB})⋅sin(θ) = 0⎦"
      ]
     },
     "execution_count": 8,
     "metadata": {},
     "output_type": "execute_result"
    }
   ],
   "source": [
    "I_y_simbolo = sym.Symbol('I_y')\n",
    "x_EL = sym.Eq( - I_y_simbolo * Omega_vector[1]* Omega_vector[2] + tau_G_xyz[0], 0)\n",
    "y_EL = sym.Eq( I_y_simbolo * Omega_vector[2]* Omega_vector[0] + tau_G_xyz[1], 0)\n",
    "z_EL = sym.Eq( tau_G_xyz[2], 0)\n",
    "sistema_EL = [x_EL, y_EL, z_EL]\n",
    "sistema_EL"
   ]
  },
  {
   "cell_type": "markdown",
   "metadata": {},
   "source": [
    "En el eje $x$\n",
    "\n",
    "$$\n",
    "\\begin{aligned}\n",
    "I_x \\dot{\\Omega}_x - (I_y - I_z) \\Omega_y \\Omega_z & = \\tau_x \\\\\n",
    "I_y \\omega^2 \\cos{\\theta} \\sin{\\theta} & = - 0.2\\,\\mathrm{m} A_Y + 0.25\\,\\mathrm{m} B_Y\n",
    "\\end{aligned}\n",
    "$$\n",
    "De aquí tenemos una relación ente $A_Y$ y $B_Y$ que no despejo aún.\n",
    "\n",
    "Por los ejes $y,z$\n",
    "\n",
    "$$\n",
    "\\begin{aligned}\n",
    "I_y \\dot{\\Omega}_y - (I_z - I_x) \\Omega_z \\Omega_x & = \\tau_y \\\\\n",
    "- I_y \\Omega_z \\Omega_x & = \\tau_y \\\\\n",
    "- I_y \\omega^2 \\cos{\\theta} \\sin{\\theta} & = - 0.2\\,\\mathrm{m} A_Y + 0.25\\,\\mathrm{m} B_Y\n",
    "\\end{aligned}\n",
    "$$\n",
    "\n",
    "$$\n",
    "\\begin{aligned}\n",
    "I_z \\dot{\\Omega}_z - (I_x - I_y) \\Omega_x \\Omega_y & = \\tau_z \\\\\n",
    "0 & = \\left( 0.2\\,\\mathrm{m} A_X- 0.25\\,\\mathrm{m} B_X  \\right) \\sin{\\theta}\n",
    "\\end{aligned}\n",
    "$$\n",
    "De esta última se obtiene\n",
    "\n",
    "$$\n",
    "B_X = \\frac{0.2}{0.25} A_X = \\frac{4}{5} A_X\n",
    "$$"
   ]
  },
  {
   "cell_type": "markdown",
   "metadata": {},
   "source": [
    "Además de estas ecuaciones se dispone de las tres ecuaciones de la 2.a ley de Newton para los tres ejes del sistema solidario al eje ($X,Y,Z$).\n",
    "\n",
    "$$\n",
    "\\left\\{\n",
    "\\begin{aligned}\n",
    "A_X + B_X &= m a_X = 0\\\\\n",
    "A_Y + B_Y - m g &= m a_Y = 0\\\\\n",
    "A_Z &= m a_Z = 0\n",
    "\\end{aligned}\n",
    "\\right.\n",
    "$$\n",
    "donde $a_X = a_Y = 0$ pues para eso están los cojinetes.\n",
    "En tanto que $a_Z = 0$ es _una corazonada_ pues no tenemos datos al respecto, pero es lo razonable si se espera que el eje no se salga de los cojinetes."
   ]
  },
  {
   "cell_type": "code",
   "execution_count": 9,
   "metadata": {},
   "outputs": [
    {
     "data": {
      "image/png": "[encoded data removed]",
      "text/latex": [
       "$\\displaystyle \\left[ A_{X} + B_{X} = 0, \\  A_{Y} + B_{Y} - g m = 0, \\  A_{Z} = 0\\right]$"
      ],
      "text/plain": [
       "[A_X + B_X = 0, A_Y + B_Y - g⋅m = 0, A_Z = 0]"
      ]
     },
     "execution_count": 9,
     "metadata": {},
     "output_type": "execute_result"
    }
   ],
   "source": [
    "m, g = sym.symbols('m g')\n",
    "x_Newton = sym.Eq(Ax + Bx, 0)\n",
    "y_Newton = sym.Eq(Ay + By - m* g, 0)\n",
    "z_Newton = sym.Eq(Az, 0)\n",
    "sistema_Newton = [x_Newton, y_Newton, z_Newton]\n",
    "sistema_Newton"
   ]
  },
  {
   "cell_type": "markdown",
   "metadata": {},
   "source": [
    "Con las ecuaciones de la 2.a ley de Newton se puede continuar la resolución.\n",
    "\n",
    "$$\n",
    "A_X + B_X = m a_X = 0\\\\\n",
    "A_Y + B_Y = m a_Y = - m g\\\\\n",
    "A_Z = m a_Z = 0 \\implies A_Z = 0\n",
    "$$\n",
    "Si $A_X$ e $B_X$ deben cumplir simultáneamente que $A_X + B_X = 0$ y $B_X = \\frac{4}{5} A_X \\implies \\boxed{A_X = 0, B_X =0}$. "
   ]
  },
  {
   "cell_type": "markdown",
   "metadata": {},
   "source": [
    "Queda obtener $A_Y$ y $B_Y$ sabiendo que\n",
    "\n",
    "$$\n",
    "-mg = A_Y + B_Y\n",
    "$$\n",
    "y \n",
    "\n",
    "$$\n",
    "\\begin{aligned}\n",
    "- I_y \\omega^2 \\cos{\\theta} \\sin{\\theta} \n",
    "&= - 0.2\\,\\mathrm{m} A_Y + 0.25\\,\\mathrm{m} B_Y\\\\\n",
    "-0.05 \\mathrm{kg\\,m^2} 900\\,\\mathrm{s^{-2}} \\cos{\\theta} \\sin{\\theta}\n",
    "&= - 0,2\\,\\mathrm{m} A_Y + 0,25\\,\\mathrm{m} B_Y\n",
    "\\end{aligned}\n",
    "$$\n",
    "Con un poco de álgebra se obtiene $\\boxed{ A_Y \\simeq 71.6\\,\\mathrm{N}, B_Y \\simeq 26.5\\,\\mathrm{N} }$, siendo estas las únicas componentes no nulas de reacción en los cojinetes."
   ]
  },
  {
   "cell_type": "code",
   "execution_count": 10,
   "metadata": {},
   "outputs": [],
   "source": [
    "variablesDespeje = [Ax, Ay, Bx, By]\n",
    "# sistemaEcuaciones = sistema_EL + sistema_Newton\n",
    "sistemaEcuaciones = [\n",
    "    x_EL.args[0],\n",
    "    y_EL.args[0],\n",
    "    z_EL.args[0],\n",
    "    x_Newton.args[0],\n",
    "    y_Newton.args[0],\n",
    "    z_Newton.args[0]    \n",
    "]"
   ]
  },
  {
   "cell_type": "code",
   "execution_count": 13,
   "metadata": {},
   "outputs": [
    {
     "data": {
      "text/latex": [
       "$\\displaystyle \\left[\\begin{matrix}A_{X}\\\\A_{Y}\\\\B_{X}\\\\B_{Y}\\end{matrix}\\right] = \\left[\\begin{matrix}0\\\\g m - \\frac{\\frac{I_{y} \\omega^{2} \\operatorname{sin}\\left(2 \\theta\\right)}{2} + d_{GA} g m}{d_{GA} + d_{GB}}\\\\0\\\\\\frac{\\frac{I_{y} \\omega^{2} \\operatorname{sin}\\left(2 \\theta\\right)}{2} + d_{GA} g m}{d_{GA} + d_{GB}}\\end{matrix}\\right]$"
      ],
      "text/plain": [
       "        ⎡                0                 ⎤\n",
       "        ⎢                                  ⎥\n",
       "        ⎢           2                      ⎥\n",
       "        ⎢      I_y⋅ω ⋅sin(2⋅θ)             ⎥\n",
       "        ⎢      ─────────────── + d_{GA}⋅g⋅m⎥\n",
       "⎡A_X⎤   ⎢             2                    ⎥\n",
       "⎢   ⎥   ⎢g⋅m - ────────────────────────────⎥\n",
       "⎢A_Y⎥   ⎢            d_{GA} + d_{GB}       ⎥\n",
       "⎢   ⎥ = ⎢                                  ⎥\n",
       "⎢B_X⎥   ⎢                0                 ⎥\n",
       "⎢   ⎥   ⎢                                  ⎥\n",
       "⎣B_Y⎦   ⎢        2                         ⎥\n",
       "        ⎢   I_y⋅ω ⋅sin(2⋅θ)                ⎥\n",
       "        ⎢   ─────────────── + d_{GA}⋅g⋅m   ⎥\n",
       "        ⎢          2                       ⎥\n",
       "        ⎢   ────────────────────────────   ⎥\n",
       "        ⎣         d_{GA} + d_{GB}          ⎦"
      ]
     },
     "execution_count": 13,
     "metadata": {},
     "output_type": "execute_result"
    }
   ],
   "source": [
    "variblesDespeje_sol = sym.nonlinsolve(sistemaEcuaciones, variablesDespeje ).args[0]\n",
    "sym.Eq(sym.Matrix(variablesDespeje), sym.Matrix(variblesDespeje_sol) )"
   ]
  },
  {
   "cell_type": "code",
   "execution_count": 12,
   "metadata": {},
   "outputs": [],
   "source": [
    "I_y_magnitud = 0.05 # [kg m2]\n",
    "d_GA_magnitud = 0.2 # [m]\n",
    "d_GB_magnitud = 0.25 # [m]\n",
    "theta_magnitud = -10* sym.pi/180 # [rad]\n",
    "omega_magnitud = 30 # [rad s-1]\n",
    "m_magnitud = 10 # [kg]\n",
    "g_magnitud = 9.81 # [m s-2]\n",
    "\n",
    "parametros = {\n",
    "    I_y_simbolo : I_y_magnitud,\n",
    "    d_GA : d_GA_magnitud,\n",
    "    d_GB : d_GB_magnitud,\n",
    "    omega : omega_magnitud,\n",
    "    theta : theta_magnitud,\n",
    "    m : m_magnitud,\n",
    "    g : g_magnitud\n",
    "}"
   ]
  },
  {
   "cell_type": "code",
   "execution_count": 13,
   "metadata": {},
   "outputs": [
    {
     "data": {
      "text/latex": [
       "$\\displaystyle \\left[\\begin{matrix}A_{X}\\\\A_{Y}\\\\B_{X}\\\\B_{Y}\\end{matrix}\\right] = \\left[\\begin{matrix}0\\\\50.0 \\operatorname{sin}\\left(\\frac{\\pi}{9}\\right) + 54.5\\\\0\\\\43.6 - 50.0 \\operatorname{sin}\\left(\\frac{\\pi}{9}\\right)\\end{matrix}\\right]$"
      ],
      "text/plain": [
       "        ⎡        0         ⎤\n",
       "        ⎢                  ⎥\n",
       "⎡A_X⎤   ⎢        ⎛π⎞       ⎥\n",
       "⎢   ⎥   ⎢50.0⋅sin⎜─⎟ + 54.5⎥\n",
       "⎢A_Y⎥   ⎢        ⎝9⎠       ⎥\n",
       "⎢   ⎥ = ⎢                  ⎥\n",
       "⎢B_X⎥   ⎢        0         ⎥\n",
       "⎢   ⎥   ⎢                  ⎥\n",
       "⎣B_Y⎦   ⎢               ⎛π⎞⎥\n",
       "        ⎢43.6 - 50.0⋅sin⎜─⎟⎥\n",
       "        ⎣               ⎝9⎠⎦"
      ]
     },
     "execution_count": 13,
     "metadata": {},
     "output_type": "execute_result"
    }
   ],
   "source": [
    "variblesDespeje_magnitud = variblesDespeje_sol.subs(parametros)\n",
    "sym.Eq(sym.Matrix(variablesDespeje), sym.Matrix(variblesDespeje_magnitud) )"
   ]
  },
  {
   "cell_type": "code",
   "execution_count": 14,
   "metadata": {},
   "outputs": [
    {
     "data": {
      "text/latex": [
       "$\\displaystyle \\left[\\begin{matrix}A_{X}\\\\A_{Y}\\\\B_{X}\\\\B_{Y}\\end{matrix}\\right] = \\left[\\begin{matrix}0\\\\71.6010071662834\\\\0\\\\26.4989928337166\\end{matrix}\\right]$"
      ],
      "text/plain": [
       "⎡A_X⎤   ⎡       0        ⎤\n",
       "⎢   ⎥   ⎢                ⎥\n",
       "⎢A_Y⎥   ⎢71.6010071662834⎥\n",
       "⎢   ⎥ = ⎢                ⎥\n",
       "⎢B_X⎥   ⎢       0        ⎥\n",
       "⎢   ⎥   ⎢                ⎥\n",
       "⎣B_Y⎦   ⎣26.4989928337166⎦"
      ]
     },
     "execution_count": 14,
     "metadata": {},
     "output_type": "execute_result"
    }
   ],
   "source": [
    "variblesDespeje_numero = [variable.n() for variable in variblesDespeje_magnitud ]\n",
    "sym.Eq(sym.Matrix(variablesDespeje ), sym.Matrix(variblesDespeje_numero ) )"
   ]
  }
 ],
 "metadata": {
  "kernelspec": {
   "display_name": "Python 3",
   "language": "python",
   "name": "python3"
  },
  "language_info": {
   "codemirror_mode": {
    "name": "ipython",
    "version": 3
   },
   "file_extension": ".py",
   "mimetype": "text/x-python",
   "name": "python",
   "nbconvert_exporter": "python",
   "pygments_lexer": "ipython3",
   "version": "3.7.3"
  }
 },
 "nbformat": 4,
 "nbformat_minor": 4
}
