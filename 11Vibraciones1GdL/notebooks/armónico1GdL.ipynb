{
 "cells": [
  {
   "cell_type": "markdown",
   "metadata": {},
   "source": [
    "# Forzado armónico de un sistema de un único grado de libertad\n",
    " \n",
    "© 2020 Víctor A. Bettachini  \n",
    "Mecánica General  \n",
    "Departamento de Ingeniería e Investigación Tecnológica  \n",
    "Universidad Nacional de La Matanza   \n",
    "\n",
    "![](ambos.png \"UNLaM | DIIT\")  \n",
    "\n",
    "---"
   ]
  },
  {
   "cell_type": "markdown",
   "metadata": {},
   "source": [
    "## Amortiguación proporcional a la velocidad\n",
    "![](shabana_fig_1_11.png)\n",
    "\n",
    "Se aplica una $\\vec{F}(t)$ a un sistema caracterizado por\n",
    "\n",
    "- m : masa\n",
    "- c : coeficiente de de una fuerza de amortiguación lineal con la velocidad\n",
    "- k : coeficiente de rigidez (stiffness) de un resorte que proveé una fuerza de Hooke"
   ]
  },
  {
   "cell_type": "code",
   "execution_count": 1,
   "metadata": {},
   "outputs": [],
   "source": [
    "# biblioteca de cálculo simbólico\n",
    "import sympy as sym\n",
    "import sympy.physics.mechanics as mech\n",
    "mech.init_vprinting() # notación con puntos para derivadas temporales"
   ]
  },
  {
   "cell_type": "code",
   "execution_count": 2,
   "metadata": {},
   "outputs": [],
   "source": [
    "t = sym.symbols('t') # tiempo\n",
    "m, k, c = sym.symbols('m, k, c', positive = True)\n",
    "x, F = mech.dynamicsymbols('x F')"
   ]
  },
  {
   "cell_type": "markdown",
   "metadata": {},
   "source": [
    "Para una amortiguación proporcional con la velocidad la dinámica la describe"
   ]
  },
  {
   "cell_type": "code",
   "execution_count": 3,
   "metadata": {},
   "outputs": [
    {
     "data": {
      "image/png": "[encoded data removed]",
      "text/latex": [
       "$\\displaystyle c \\dot{x} + k x + m \\ddot{x} = F$"
      ],
      "text/plain": [
       "c⋅ẋ + k⋅x + m⋅ẍ = F"
      ]
     },
     "execution_count": 3,
     "metadata": {},
     "output_type": "execute_result"
    }
   ],
   "source": [
    "x_EL_homogenea = m* x.diff(t,2) + c* x.diff(t) + k* x\n",
    "x_EL_forzado = sym.Eq(x_EL_homogenea, F)\n",
    "x_EL_forzado"
   ]
  },
  {
   "cell_type": "markdown",
   "metadata": {},
   "source": [
    "que en ingeniería suele escibirse como"
   ]
  },
  {
   "cell_type": "code",
   "execution_count": 4,
   "metadata": {},
   "outputs": [
    {
     "data": {
      "image/png": "[encoded data removed]",
      "text/latex": [
       "$\\displaystyle \\frac{F}{m} = \\omega^{2} x + 2 \\omega \\zeta \\dot{x} + \\ddot{x}$"
      ],
      "text/plain": [
       "F    2                \n",
       "─ = ω ⋅x + 2⋅ω⋅ζ⋅ẋ + ẍ\n",
       "m                     "
      ]
     },
     "execution_count": 4,
     "metadata": {},
     "output_type": "execute_result"
    }
   ],
   "source": [
    "omega, zeta = sym.symbols('omega zeta', real = True)\n",
    "x_EL_ing = sym.Eq(x_EL_forzado.lhs/m, x_EL_forzado.rhs/m).expand()\n",
    "x_EL_ing = x_EL_ing.subs([(k/m, omega**2), (c/m, 2* zeta* omega) ]).simplify()\n",
    "x_EL_ing.expand()"
   ]
  },
  {
   "cell_type": "markdown",
   "metadata": {},
   "source": [
    "## forzado armónico\n",
    "Vimos que cuando $F=0$ el movimiento se extingue más o menos rápido en función del $c$ de amortiguación, pero finalmente lo hace.\n",
    "La solución de la ecuación homogénea produce entonces una **solución transitoria**.\n",
    "En la presencia de $F(t)$ esta determina la **solución de estado estable** que es la que finalmente domina la dinámica. \n",
    "\n",
    "Se estudiará primero la respuesta el sistema con una fuerza armónica"
   ]
  },
  {
   "cell_type": "code",
   "execution_count": 5,
   "metadata": {},
   "outputs": [
    {
     "data": {
      "image/png": "[encoded data removed]",
      "text/latex": [
       "$\\displaystyle F = F_{0} \\sin{\\left(\\omega_{f} t \\right)}$"
      ],
      "text/plain": [
       "F = F₀⋅sin(ω_f⋅t)"
      ]
     },
     "execution_count": 5,
     "metadata": {},
     "output_type": "execute_result"
    }
   ],
   "source": [
    "F_0, omega_f = sym.symbols('F_0 omega_f', positive = True)\n",
    "F_armonica = F_0* sym.sin(omega_f* t)\n",
    "sym.Eq(F, F_armonica)"
   ]
  },
  {
   "cell_type": "markdown",
   "metadata": {},
   "source": [
    "La ecuación diferencial a resolver es "
   ]
  },
  {
   "cell_type": "code",
   "execution_count": 6,
   "metadata": {},
   "outputs": [
    {
     "data": {
      "image/png": "[encoded data removed]",
      "text/latex": [
       "$\\displaystyle \\frac{F_{0} \\sin{\\left(\\omega_{f} t \\right)}}{m} = \\omega^{2} x + 2 \\omega \\zeta \\dot{x} + \\ddot{x}$"
      ],
      "text/plain": [
       "F₀⋅sin(ω_f⋅t)    2                \n",
       "───────────── = ω ⋅x + 2⋅ω⋅ζ⋅ẋ + ẍ\n",
       "      m                           "
      ]
     },
     "execution_count": 6,
     "metadata": {},
     "output_type": "execute_result"
    }
   ],
   "source": [
    "x_EL_ing_forzadoArmonico = x_EL_ing.expand().subs(F, F_armonica)\n",
    "x_EL_ing_forzadoArmonico"
   ]
  },
  {
   "cell_type": "markdown",
   "metadata": {},
   "source": [
    "Sabemos que substituyendo la solución particular que responde a tal forzado $x_p = A_1 \\cos{\\omega_f t} + A_2 \\sin{\\omega_f t}$ en la ecuación permite obtener los $A_i$.\n",
    "Pero `sympy` puede encargarse de todo el proceso y darnos $x = x_h + x_p$ directamente. "
   ]
  },
  {
   "cell_type": "code",
   "execution_count": 7,
   "metadata": {},
   "outputs": [
    {
     "data": {
      "image/png": "[encoded data removed]",
      "text/latex": [
       "$\\displaystyle x = C_{1} e^{\\omega t \\left(- \\zeta - \\sqrt{\\zeta^{2} - 1}\\right)} + C_{2} e^{\\omega t \\left(- \\zeta + \\sqrt{\\zeta^{2} - 1}\\right)} + \\frac{F_{0} \\omega^{2} \\sin{\\left(\\omega_{f} t \\right)}}{m \\left(\\omega^{4} + 4 \\omega^{2} \\omega_{f}^{2} \\zeta^{2} - 2 \\omega^{2} \\omega_{f}^{2} + \\omega_{f}^{4}\\right)} - \\frac{2 F_{0} \\omega \\omega_{f} \\zeta \\cos{\\left(\\omega_{f} t \\right)}}{m \\left(\\omega^{4} + 4 \\omega^{2} \\omega_{f}^{2} \\zeta^{2} - 2 \\omega^{2} \\omega_{f}^{2} + \\omega_{f}^{4}\\right)} - \\frac{F_{0} \\omega_{f}^{2} \\sin{\\left(\\omega_{f} t \\right)}}{m \\left(\\omega^{4} + 4 \\omega^{2} \\omega_{f}^{2} \\zeta^{2} - 2 \\omega^{2} \\omega_{f}^{2} + \\omega_{f}^{4}\\right)}$"
      ],
      "text/plain": [
       "            ⎛        ________⎞           ⎛        ________⎞                   \n",
       "            ⎜       ╱  2     ⎟           ⎜       ╱  2     ⎟                   \n",
       "        ω⋅t⋅⎝-ζ - ╲╱  ζ  - 1 ⎠       ω⋅t⋅⎝-ζ + ╲╱  ζ  - 1 ⎠               F₀⋅ω\n",
       "x = C₁⋅ℯ                       + C₂⋅ℯ                       + ────────────────\n",
       "                                                                ⎛ 4      2    \n",
       "                                                              m⋅⎝ω  + 4⋅ω ⋅ω_f\n",
       "\n",
       "                                                                              \n",
       "2                                                                             \n",
       " ⋅sin(ω_f⋅t)                       2⋅F₀⋅ω⋅ω_f⋅ζ⋅cos(ω_f⋅t)                    \n",
       "──────────────────────── - ──────────────────────────────────────── - ────────\n",
       "2  2      2    2      4⎞     ⎛ 4      2    2  2      2    2      4⎞     ⎛ 4   \n",
       " ⋅ζ  - 2⋅ω ⋅ω_f  + ω_f ⎠   m⋅⎝ω  + 4⋅ω ⋅ω_f ⋅ζ  - 2⋅ω ⋅ω_f  + ω_f ⎠   m⋅⎝ω  + \n",
       "\n",
       "                                \n",
       "         2                      \n",
       "   F₀⋅ω_f ⋅sin(ω_f⋅t)           \n",
       "────────────────────────────────\n",
       "   2    2  2      2    2      4⎞\n",
       "4⋅ω ⋅ω_f ⋅ζ  - 2⋅ω ⋅ω_f  + ω_f ⎠"
      ]
     },
     "execution_count": 7,
     "metadata": {},
     "output_type": "execute_result"
    }
   ],
   "source": [
    "x_forzadoArmonico_sol = sym.dsolve(x_EL_ing_forzadoArmonico)\n",
    "x_forzadoArmonico_sol"
   ]
  },
  {
   "cell_type": "markdown",
   "metadata": {},
   "source": [
    "Los términos que dependen de $C_i$ son los de la solución homogénea que se considera se presenta durante un **transitorio** que se extiende extinto para $t> 10 \\tau$ (10 **períodos de relajación**).\n",
    "Para tiempos posteriores la solución alcanza el **estado estacionario** dado por los términos que dependen del forzado.\n",
    "\n",
    "Se establece $C_1 = C_2 = 0$ para obtener solo $x_p(t)$."
   ]
  },
  {
   "cell_type": "code",
   "execution_count": 14,
   "metadata": {},
   "outputs": [
    {
     "data": {
      "image/png": "[encoded data removed]",
      "text/latex": [
       "$\\displaystyle x = \\frac{F_{0} \\omega^{2} \\sin{\\left(\\omega_{f} t \\right)}}{m \\left(\\omega^{4} + 4 \\omega^{2} \\omega_{f}^{2} \\zeta^{2} - 2 \\omega^{2} \\omega_{f}^{2} + \\omega_{f}^{4}\\right)} - \\frac{2 F_{0} \\omega \\omega_{f} \\zeta \\cos{\\left(\\omega_{f} t \\right)}}{m \\left(\\omega^{4} + 4 \\omega^{2} \\omega_{f}^{2} \\zeta^{2} - 2 \\omega^{2} \\omega_{f}^{2} + \\omega_{f}^{4}\\right)} - \\frac{F_{0} \\omega_{f}^{2} \\sin{\\left(\\omega_{f} t \\right)}}{m \\left(\\omega^{4} + 4 \\omega^{2} \\omega_{f}^{2} \\zeta^{2} - 2 \\omega^{2} \\omega_{f}^{2} + \\omega_{f}^{4}\\right)}$"
      ],
      "text/plain": [
       "                    2                                                         \n",
       "                F₀⋅ω ⋅sin(ω_f⋅t)                       2⋅F₀⋅ω⋅ω_f⋅ζ⋅cos(ω_f⋅t)\n",
       "x = ──────────────────────────────────────── - ───────────────────────────────\n",
       "      ⎛ 4      2    2  2      2    2      4⎞     ⎛ 4      2    2  2      2    \n",
       "    m⋅⎝ω  + 4⋅ω ⋅ω_f ⋅ζ  - 2⋅ω ⋅ω_f  + ω_f ⎠   m⋅⎝ω  + 4⋅ω ⋅ω_f ⋅ζ  - 2⋅ω ⋅ω_f\n",
       "\n",
       "                             2                      \n",
       "                       F₀⋅ω_f ⋅sin(ω_f⋅t)           \n",
       "───────── - ────────────────────────────────────────\n",
       "2      4⎞     ⎛ 4      2    2  2      2    2      4⎞\n",
       "  + ω_f ⎠   m⋅⎝ω  + 4⋅ω ⋅ω_f ⋅ζ  - 2⋅ω ⋅ω_f  + ω_f ⎠"
      ]
     },
     "execution_count": 14,
     "metadata": {},
     "output_type": "execute_result"
    }
   ],
   "source": [
    "x_forzadoArmonico = x_forzadoArmonico_sol.subs([('C1', 0), ('C2', 0)])\n",
    "x_forzadoArmonico"
   ]
  },
  {
   "cell_type": "markdown",
   "metadata": {},
   "source": [
    "## Respuesta al forzado en el régimen sub-amortiguado"
   ]
  },
  {
   "cell_type": "markdown",
   "metadata": {},
   "source": [
    "Utilizando los mismos parámetros para el caso sin forzado en el mismo régimen sub-amortiguado, $\\zeta = 0.2$."
   ]
  },
  {
   "cell_type": "code",
   "execution_count": 15,
   "metadata": {},
   "outputs": [
    {
     "data": {
      "image/png": "[encoded data removed]",
      "text/latex": [
       "$\\displaystyle x = \\frac{F_{0} \\left(- \\omega_{f}^{2} \\sin{\\left(\\omega_{f} t \\right)} - 4.0 \\omega_{f} \\cos{\\left(\\omega_{f} t \\right)} + 100.0 \\sin{\\left(\\omega_{f} t \\right)}\\right)}{\\omega_{f}^{4} - 184.0 \\omega_{f}^{2} + 10000.0}$"
      ],
      "text/plain": [
       "       ⎛     2                                                   ⎞\n",
       "    F₀⋅⎝- ω_f ⋅sin(ω_f⋅t) - 4.0⋅ω_f⋅cos(ω_f⋅t) + 100.0⋅sin(ω_f⋅t)⎠\n",
       "x = ──────────────────────────────────────────────────────────────\n",
       "                        4            2                            \n",
       "                     ω_f  - 184.0⋅ω_f  + 10000.0                  "
      ]
     },
     "execution_count": 15,
     "metadata": {},
     "output_type": "execute_result"
    }
   ],
   "source": [
    "k_magnitud = 100 # [N m-1]\n",
    "m_magnitud = 1 # [kg]\n",
    "zeta_magnitud = 0.2 # [s-1]\n",
    "\n",
    "parametros ={\n",
    "    zeta : zeta_magnitud,\n",
    "    omega : sym.sqrt(k_magnitud/m_magnitud),\n",
    "    m : m_magnitud\n",
    "}\n",
    "x_forzadoArmonico_parametros = x_forzadoArmonico.subs(parametros).simplify()\n",
    "x_forzadoArmonico_parametros"
   ]
  },
  {
   "cell_type": "markdown",
   "metadata": {},
   "source": [
    "Pasa a ser de interés como varía la amplitud de la oscilación de $x$ en función de los parámetros del forzado.\n",
    "\n",
    "Evidentemente es lineal con la amplitud del mismo. \n",
    "Es con su frecuencia $\\omega_f$ donde se presentan distintos comportamientos."
   ]
  },
  {
   "cell_type": "code",
   "execution_count": 16,
   "metadata": {},
   "outputs": [],
   "source": [
    "F_0_magnitud = 100 # [N]\n",
    "x_forzadoArmonico_omega_f = x_forzadoArmonico_parametros.subs(F_0, F_0_magnitud)"
   ]
  },
  {
   "cell_type": "markdown",
   "metadata": {},
   "source": [
    "Para analizar la amplitud basta agrupar los términos con $\\sin{(\\omega_f t)}$ y los de $\\cos{(\\omega_f t)}$ y operar de igual manera de cuando se pasan números complejos de la forma rectangular a la polar.\n",
    "Pues $a^2 \\cos^2{\\omega_f t} + b^2 \\sin^2{\\omega_f t} = a^2 + b^2 = R^2$, siendo $R$ el equivalente al módulo del número complejo. "
   ]
  },
  {
   "cell_type": "code",
   "execution_count": 17,
   "metadata": {},
   "outputs": [
    {
     "data": {
      "image/png": "[encoded data removed]",
      "text/latex": [
       "$\\displaystyle \\left\\{ \\sin{\\left(\\omega_{f} t \\right)} : - \\frac{100 \\omega_{f}^{2}}{\\omega_{f}^{4} - 184.0 \\omega_{f}^{2} + 10000.0} + \\frac{10000.0}{\\omega_{f}^{4} - 184.0 \\omega_{f}^{2} + 10000.0}, \\  \\cos{\\left(\\omega_{f} t \\right)} : - \\frac{400.0 \\omega_{f}}{\\omega_{f}^{4} - 184.0 \\omega_{f}^{2} + 10000.0}\\right\\}$"
      ],
      "text/plain": [
       "⎧                               2                                             \n",
       "⎪                        100⋅ω_f                       10000.0                \n",
       "⎨sin(ω_f⋅t): - ─────────────────────────── + ───────────────────────────, cos(\n",
       "⎪                 4            2                4            2                \n",
       "⎩              ω_f  - 184.0⋅ω_f  + 10000.0   ω_f  - 184.0⋅ω_f  + 10000.0      \n",
       "\n",
       "                                   ⎫\n",
       "                -400.0⋅ω_f         ⎪\n",
       "ω_f⋅t): ───────────────────────────⎬\n",
       "           4            2          ⎪\n",
       "        ω_f  - 184.0⋅ω_f  + 10000.0⎭"
      ]
     },
     "execution_count": 17,
     "metadata": {},
     "output_type": "execute_result"
    }
   ],
   "source": [
    "rectangular = sym.collect(x_forzadoArmonico_omega_f.rhs.expand(trig=True), [sym.sin(omega_f* t), sym.cos(omega_f* t)], evaluate=False)\n",
    "rectangular"
   ]
  },
  {
   "cell_type": "code",
   "execution_count": 18,
   "metadata": {},
   "outputs": [
    {
     "data": {
      "image/png": "[encoded data removed]",
      "text/latex": [
       "$\\displaystyle \\frac{1.0 \\sqrt{0.0001 \\omega_{f}^{4} - 0.0184 \\omega_{f}^{2} + 1}}{\\left|{0.0001 \\omega_{f}^{4} - 0.0184 \\omega_{f}^{2} + 1}\\right|}$"
      ],
      "text/plain": [
       "       _______________________________\n",
       "      ╱           4             2     \n",
       "1.0⋅╲╱  0.0001⋅ω_f  - 0.0184⋅ω_f  + 1 \n",
       "──────────────────────────────────────\n",
       "   │          4             2    │    \n",
       "   │0.0001⋅ω_f  - 0.0184⋅ω_f  + 1│    "
      ]
     },
     "execution_count": 18,
     "metadata": {},
     "output_type": "execute_result"
    }
   ],
   "source": [
    "porSeno = rectangular[sym.sin(omega_f* t)]\n",
    "porCoseno = rectangular[sym.cos(omega_f* t)]\n",
    "# fase = sym.atan(porSeno / porCoseno).simplify()\n",
    "modulo = sym.sqrt(porSeno**2 + porCoseno**2).simplify()\n",
    "modulo"
   ]
  },
  {
   "cell_type": "code",
   "execution_count": 19,
   "metadata": {},
   "outputs": [
    {
     "data": {
      "image/png": "[encoded data removed]",
      "text/plain": [
       "<Figure size 432x288 with 1 Axes>"
      ]
     },
     "metadata": {
      "needs_background": "light"
     },
     "output_type": "display_data"
    },
    {
     "data": {
      "text/plain": [
       "<sympy.plotting.plot.Plot at 0x7fc847d6af28>"
      ]
     },
     "execution_count": 19,
     "metadata": {},
     "output_type": "execute_result"
    }
   ],
   "source": [
    "sym.plot(modulo, (omega_f,0, 50), ylabel='|x| [m]', xlabel=r'$\\omega_f$ [rad/s]') "
   ]
  },
  {
   "cell_type": "markdown",
   "metadata": {},
   "source": [
    "¿Y a que $\\omega$ corresponde ese pico? Pues a no otra que"
   ]
  },
  {
   "cell_type": "code",
   "execution_count": 20,
   "metadata": {},
   "outputs": [
    {
     "data": {
      "image/png": "[encoded data removed]",
      "text/latex": [
       "$\\displaystyle \\omega = 10.0$"
      ],
      "text/plain": [
       "ω = 10.0"
      ]
     },
     "execution_count": 20,
     "metadata": {},
     "output_type": "execute_result"
    }
   ],
   "source": [
    "sym.Eq(omega, sym.sqrt(k_magnitud/m_magnitud))"
   ]
  },
  {
   "cell_type": "markdown",
   "metadata": {},
   "source": [
    "Cuando un sistema es excitado con una oscilación armónica de la frecuencia en que el sistema aislado oscilaría, la transferencia de energía es máxima y por tanto se alcanza la máxima amplitud de oscilación.\n",
    "Esto se llama **resonancia** y es algo que debe evitarse si se busca una relativa estabilidad del sistema."
   ]
  },
  {
   "cell_type": "code",
   "execution_count": null,
   "metadata": {},
   "outputs": [],
   "source": []
  }
 ],
 "metadata": {
  "kernelspec": {
   "display_name": "Python 3",
   "language": "python",
   "name": "python3"
  },
  "language_info": {
   "codemirror_mode": {
    "name": "ipython",
    "version": 3
   },
   "file_extension": ".py",
   "mimetype": "text/x-python",
   "name": "python",
   "nbconvert_exporter": "python",
   "pygments_lexer": "ipython3",
   "version": "3.7.3"
  }
 },
 "nbformat": 4,
 "nbformat_minor": 4
}
