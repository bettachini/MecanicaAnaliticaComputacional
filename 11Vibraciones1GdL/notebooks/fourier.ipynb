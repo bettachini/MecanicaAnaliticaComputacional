{
 "cells": [
  {
   "cell_type": "code",
   "execution_count": 1,
   "metadata": {},
   "outputs": [],
   "source": [
    "import sympy as sym\n",
    "from sympy import fourier_series\n",
    "from sympy.abc import t\n",
    "from sympy.functions.special.delta_functions import Heaviside\n",
    "s = fourier_series(Heaviside(t) - Heaviside(t-1/4), (t, 0, 1))"
   ]
  },
  {
   "cell_type": "markdown",
   "metadata": {},
   "source": [
    "The class `sympy.series.fourier.FourierSeries` has method to provide cosine coefficients"
   ]
  },
  {
   "cell_type": "code",
   "execution_count": 2,
   "metadata": {},
   "outputs": [
    {
     "data": {
      "text/latex": [
       "$\\displaystyle 0.25$"
      ],
      "text/plain": [
       "0.250000000000000"
      ]
     },
     "execution_count": 2,
     "metadata": {},
     "output_type": "execute_result"
    }
   ],
   "source": [
    "s.a0"
   ]
  },
  {
   "cell_type": "code",
   "execution_count": 3,
   "metadata": {},
   "outputs": [
    {
     "data": {
      "text/latex": [
       "$\\displaystyle \\left[\\frac{\\cos{\\left(2 \\pi t \\right)}}{\\pi}, 0, - \\frac{\\cos{\\left(6 \\pi t \\right)}}{3 \\pi}, 0, \\ldots\\right]$"
      ],
      "text/plain": [
       "SeqFormula(2*Piecewise((0.25, Eq(_n, 0)), (sin(_n*pi/2)/(2*_n*pi), True))*cos(2*_n*pi*t), (_n, 1, oo))"
      ]
     },
     "execution_count": 3,
     "metadata": {},
     "output_type": "execute_result"
    }
   ],
   "source": [
    "s.an"
   ]
  },
  {
   "cell_type": "markdown",
   "metadata": {},
   "source": [
    "as well as sine coefficients"
   ]
  },
  {
   "cell_type": "code",
   "execution_count": 4,
   "metadata": {},
   "outputs": [
    {
     "data": {
      "text/latex": [
       "$\\displaystyle \\left[\\frac{\\sin{\\left(2 \\pi t \\right)}}{\\pi}, \\frac{\\sin{\\left(4 \\pi t \\right)}}{\\pi}, \\frac{\\sin{\\left(6 \\pi t \\right)}}{3 \\pi}, 0, \\ldots\\right]$"
      ],
      "text/plain": [
       "SeqFormula(2*(Piecewise((0, Eq(_n, 0)), (-cos(_n*pi/2)/(2*_n*pi), True)) - Piecewise((0, Eq(_n, 0)), (-cos(2*_n*pi)/(2*_n*pi), True)) + Piecewise((0, Eq(_n, 0)), (-cos(2*_n*pi)/(2*_n*pi) + 1/(2*_n*pi), True)))*sin(2*_n*pi*t), (_n, 1, oo))"
      ]
     },
     "execution_count": 4,
     "metadata": {},
     "output_type": "execute_result"
    }
   ],
   "source": [
    "s.bn"
   ]
  },
  {
   "cell_type": "code",
   "execution_count": 7,
   "metadata": {},
   "outputs": [
    {
     "data": {
      "text/plain": [
       "'\\\\left[\\\\frac{\\\\cos{\\\\left(2 \\\\pi t \\\\right)}}{\\\\pi}, 0, - \\\\frac{\\\\cos{\\\\left(6 \\\\pi t \\\\right)}}{3 \\\\pi}, 0, \\\\ldots\\\\right]'"
      ]
     },
     "execution_count": 7,
     "metadata": {},
     "output_type": "execute_result"
    }
   ],
   "source": [
    "sym.latex(s.an)"
   ]
  },
  {
   "cell_type": "code",
   "execution_count": 8,
   "metadata": {},
   "outputs": [
    {
     "data": {
      "text/plain": [
       "'\\\\left[\\\\frac{\\\\sin{\\\\left(2 \\\\pi t \\\\right)}}{\\\\pi}, \\\\frac{\\\\sin{\\\\left(4 \\\\pi t \\\\right)}}{\\\\pi}, \\\\frac{\\\\sin{\\\\left(6 \\\\pi t \\\\right)}}{3 \\\\pi}, 0, \\\\ldots\\\\right]'"
      ]
     },
     "execution_count": 8,
     "metadata": {},
     "output_type": "execute_result"
    }
   ],
   "source": [
    "sym.latex(s.bn)"
   ]
  },
  {
   "cell_type": "code",
   "execution_count": null,
   "metadata": {},
   "outputs": [],
   "source": []
  }
 ],
 "metadata": {
  "kernelspec": {
   "display_name": "Python 3",
   "language": "python",
   "name": "python3"
  },
  "language_info": {
   "codemirror_mode": {
    "name": "ipython",
    "version": 3
   },
   "file_extension": ".py",
   "mimetype": "text/x-python",
   "name": "python",
   "nbconvert_exporter": "python",
   "pygments_lexer": "ipython3",
   "version": "3.7.3"
  }
 },
 "nbformat": 4,
 "nbformat_minor": 4
}
