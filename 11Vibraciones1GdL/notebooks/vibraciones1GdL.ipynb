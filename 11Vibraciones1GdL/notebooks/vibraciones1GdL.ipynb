{
 "cells": [
  {
   "cell_type": "markdown",
   "metadata": {},
   "source": [
    "# Vibraciones amortiguadas de un único grado de libertad\n",
    " \n",
    "© 2020 Víctor A. Bettachini  \n",
    "Mecánica General  \n",
    "Departamento de Ingeniería e Investigación Tecnológica  \n",
    "Universidad Nacional de La Matanza   \n",
    "\n",
    "![](ambos.png \"UNLaM | DIIT\")  \n",
    "\n",
    "---"
   ]
  },
  {
   "cell_type": "markdown",
   "metadata": {},
   "source": [
    "## Amortiguación proporcional a la velocidad\n",
    "![](shabana_fig_1_11.png)\n",
    "\n",
    "Se aplica una $\\vec{F}(t)$ a un sistema caracterizado por\n",
    "\n",
    "- m : masa\n",
    "- c : coeficiente de de una fuerza de amortiguación lineal con la velocidad\n",
    "- k : coeficiente de rigidez (stiffness) de un resorte que proveé una fuerza de Hooke"
   ]
  },
  {
   "cell_type": "code",
   "execution_count": 1,
   "metadata": {},
   "outputs": [],
   "source": [
    "# biblioteca de cálculo simbólico\n",
    "import sympy as sym\n",
    "import sympy.physics.mechanics as mech\n",
    "mech.init_vprinting() # notación con puntos para derivadas temporales"
   ]
  },
  {
   "cell_type": "code",
   "execution_count": 2,
   "metadata": {},
   "outputs": [
    {
     "data": {
      "image/png": "[encoded data removed]",
      "text/latex": [
       "$\\displaystyle \\mathcal{L} = - \\frac{k x^{2}}{2} + \\frac{m \\dot{x}^{2}}{2}$"
      ],
      "text/plain": [
       "                   2      2\n",
       "                k⋅x    m⋅ẋ \n",
       "\\mathcal{L} = - ──── + ────\n",
       "                 2      2  "
      ]
     },
     "execution_count": 2,
     "metadata": {},
     "output_type": "execute_result"
    }
   ],
   "source": [
    "t = sym.symbols('t') # tiempo\n",
    "m, k, c = sym.symbols('m, k, c', positive = True)\n",
    "x, F = mech.dynamicsymbols('x F')\n",
    "N = sym.physics.vector.ReferenceFrame('N') # marco referencial N en coordenadas cartesianas\n",
    "r_m = x* N.x\n",
    "\n",
    "unMedio = sym.Rational(1,2) # Rational: fracción de enteros, alternativamente podría haberse usado 0.5 \n",
    "v_m = r_m.diff(t,N)\n",
    "T = unMedio* m* v_m.dot(v_m)\n",
    "\n",
    "V = unMedio* k* r_m.dot(r_m)\n",
    "\n",
    "lagrangianoSimbolo = sym.Symbol('\\mathcal{L}')\n",
    "L = T- V\n",
    "sym.Eq(lagrangianoSimbolo, L.simplify())"
   ]
  },
  {
   "cell_type": "markdown",
   "metadata": {},
   "source": [
    "Las fuerzas no conservativas actuando sobre el sistema.\n",
    "\n",
    "![](shabana_fig_1_11b.png)"
   ]
  },
  {
   "cell_type": "code",
   "execution_count": 3,
   "metadata": {},
   "outputs": [
    {
     "data": {
      "image/png": "[encoded data removed]",
      "text/latex": [
       "$\\displaystyle (- c \\dot{x} + F)\\mathbf{\\hat{n}_x}$"
      ],
      "text/plain": [
       "(-c⋅ẋ + F) n_x"
      ]
     },
     "execution_count": 3,
     "metadata": {},
     "output_type": "execute_result"
    }
   ],
   "source": [
    "f = F* N.x - c* r_m.diff(t,N)\n",
    "f"
   ]
  },
  {
   "cell_type": "markdown",
   "metadata": {},
   "source": [
    "Dado que la coordenada generalizada utilizada es la componente vectorial, su fuerza generalizada correspondiente es la resultante de fuerzas ($\\delta W = f \\delta x = Q_x \\delta x$)."
   ]
  },
  {
   "cell_type": "code",
   "execution_count": 4,
   "metadata": {},
   "outputs": [
    {
     "data": {
      "image/png": "[encoded data removed]",
      "text/latex": [
       "$\\displaystyle Q_{x} = - c \\dot{x} + F$"
      ],
      "text/plain": [
       "Qₓ = -c⋅ẋ + F"
      ]
     },
     "execution_count": 4,
     "metadata": {},
     "output_type": "execute_result"
    }
   ],
   "source": [
    "x_Q_simbolo = sym.Symbol('Q_x')\n",
    "x_Q = f.dot(N.x)\n",
    "sym.Eq(x_Q_simbolo, x_Q)"
   ]
  },
  {
   "cell_type": "markdown",
   "metadata": {},
   "source": [
    "Siendo la ecuación de Euler-Lagrange\n",
    "\n",
    "$$\n",
    "\\frac{\\mathrm{d}}{\\mathrm{d} t} \\frac{\\partial}{\\partial \\dot{q_i}} \\mathcal{L}  - \\frac{\\partial}{\\partial q_i} \\mathcal{L} = Q_i,\n",
    "$$\n",
    "resulta para este caso"
   ]
  },
  {
   "cell_type": "code",
   "execution_count": 5,
   "metadata": {},
   "outputs": [
    {
     "data": {
      "image/png": "[encoded data removed]",
      "text/latex": [
       "$\\displaystyle k x + m \\ddot{x} = - c \\dot{x} + F$"
      ],
      "text/plain": [
       "k⋅x + m⋅ẍ = -c⋅ẋ + F"
      ]
     },
     "execution_count": 5,
     "metadata": {},
     "output_type": "execute_result"
    }
   ],
   "source": [
    "x_dtdqp = L.diff(x.diff(t) ).diff(t)\n",
    "x_dq = L.diff(x)\n",
    "x_EL_sinFuerzas = x_dtdqp - x_dq\n",
    "x_EL = sym.Eq(x_EL_sinFuerzas.simplify(), x_Q)\n",
    "x_EL"
   ]
  },
  {
   "cell_type": "markdown",
   "metadata": {},
   "source": [
    "Para el análisis de oscilaciones se suele escribir la ecuación de la dinámica dejando la fuerza forzante de lado."
   ]
  },
  {
   "cell_type": "code",
   "execution_count": 6,
   "metadata": {},
   "outputs": [
    {
     "data": {
      "image/png": "[encoded data removed]",
      "text/latex": [
       "$\\displaystyle c \\dot{x} + k x + m \\ddot{x} = F$"
      ],
      "text/plain": [
       "c⋅ẋ + k⋅x + m⋅ẍ = F"
      ]
     },
     "execution_count": 6,
     "metadata": {},
     "output_type": "execute_result"
    }
   ],
   "source": [
    "x_EL_sinForzado = sym.solve(x_EL, F)[0] \n",
    "sym.Eq( x_EL_sinForzado, F) "
   ]
  },
  {
   "cell_type": "markdown",
   "metadata": {},
   "source": [
    "### Rotaciones\n",
    "No hay que olvidar que la coordenada generalizada puede ser un ángulo $\\theta$ y en ese caso la correspondiente ecuación de Euler-Lagrange es\n",
    "\n",
    "$$\n",
    "\\Gamma \\dot{\\theta} + \\mu \\theta + I \\ddot{\\theta} = \\tau,\n",
    "$$\n",
    "donde los coeficientes son\n",
    "- $\\Gamma$ : fricción rotacional\n",
    "- $\\mu$ : constante de torsión\n",
    "- $I$ : momento de inercia\n",
    "- $\\tau$ : torque (la fuerza generalizada que corresponde a $\\theta$)"
   ]
  },
  {
   "cell_type": "markdown",
   "metadata": {},
   "source": [
    "## Dinámica sin forzado externo\n",
    "Si no hay forzado externo ($F = 0$) la anterior ecuación diferencial lineal es homogénea."
   ]
  },
  {
   "cell_type": "code",
   "execution_count": 7,
   "metadata": {},
   "outputs": [
    {
     "data": {
      "image/png": "[encoded data removed]",
      "text/latex": [
       "$\\displaystyle c \\dot{x} + k x + m \\ddot{x} = 0$"
      ],
      "text/plain": [
       "c⋅ẋ + k⋅x + m⋅ẍ = 0"
      ]
     },
     "execution_count": 7,
     "metadata": {},
     "output_type": "execute_result"
    }
   ],
   "source": [
    "x_EL_homogenea =  x_EL_sinForzado.subs(F,0)\n",
    "sym.Eq(x_EL_homogenea, 0)"
   ]
  },
  {
   "cell_type": "markdown",
   "metadata": {},
   "source": [
    "En ingeniería se suele normalizar por la masa, "
   ]
  },
  {
   "cell_type": "code",
   "execution_count": 8,
   "metadata": {},
   "outputs": [
    {
     "data": {
      "image/png": "[encoded data removed]",
      "text/latex": [
       "$\\displaystyle \\frac{c \\dot{x}}{m} + \\frac{k x}{m} + \\ddot{x} = 0$"
      ],
      "text/plain": [
       "c⋅ẋ   k⋅x        \n",
       "─── + ─── + ẍ = 0\n",
       " m     m         "
      ]
     },
     "execution_count": 8,
     "metadata": {},
     "output_type": "execute_result"
    }
   ],
   "source": [
    "x_EL_masa = (x_EL_homogenea/ m).expand()\n",
    "sym.Eq(x_EL_masa, 0)"
   ]
  },
  {
   "cell_type": "markdown",
   "metadata": {},
   "source": [
    "para asignar símbolos particulares a los coeficientes de $x$ y $\\dot{x}$:\n",
    "- frecuencia angular de oscilación : $\\omega = \\sqrt{\\frac{k}{m} }$,\n",
    "- razón (o tasa) de amortiguamiento: $\\zeta = \\frac{c}{C_c}$, donde $C_c = 2 \\sqrt{k m} = 2 m \\omega$ es el coeficiente de amortiguamiento crítico. "
   ]
  },
  {
   "cell_type": "code",
   "execution_count": 9,
   "metadata": {},
   "outputs": [
    {
     "data": {
      "image/png": "[encoded data removed]",
      "text/latex": [
       "$\\displaystyle \\omega^{2} x + 2 \\omega \\zeta \\dot{x} + \\ddot{x} = 0$"
      ],
      "text/plain": [
       " 2                    \n",
       "ω ⋅x + 2⋅ω⋅ζ⋅ẋ + ẍ = 0"
      ]
     },
     "execution_count": 9,
     "metadata": {},
     "output_type": "execute_result"
    }
   ],
   "source": [
    "omega, zeta = sym.symbols('omega zeta', real = True)\n",
    "x_EL_ing = x_EL_masa.subs([(k/m, omega**2), (c/m, 2* zeta* omega) ]).simplify()\n",
    "sym.Eq((x_EL_ing).expand(), 0)"
   ]
  },
  {
   "cell_type": "markdown",
   "metadata": {},
   "source": [
    "La solución en términos de exponenciales complejas"
   ]
  },
  {
   "cell_type": "code",
   "execution_count": 10,
   "metadata": {},
   "outputs": [
    {
     "data": {
      "image/png": "[encoded data removed]",
      "text/latex": [
       "$\\displaystyle x = \\left(C_{1} e^{- \\omega t \\sqrt{\\zeta^{2} - 1}} + C_{2} e^{\\omega t \\sqrt{\\zeta^{2} - 1}}\\right) e^{- \\omega t \\zeta}$"
      ],
      "text/plain": [
       "    ⎛            ________              ________⎞        \n",
       "    ⎜           ╱  2                  ╱  2     ⎟        \n",
       "    ⎜    -ω⋅t⋅╲╱  ζ  - 1        ω⋅t⋅╲╱  ζ  - 1 ⎟  -ω⋅t⋅ζ\n",
       "x = ⎝C₁⋅ℯ                 + C₂⋅ℯ               ⎠⋅ℯ      "
      ]
     },
     "execution_count": 10,
     "metadata": {},
     "output_type": "execute_result"
    }
   ],
   "source": [
    "x_EL_ing_sol = sym.dsolve(x_EL_ing)\n",
    "x_EL_ing_sol.simplify()"
   ]
  },
  {
   "cell_type": "markdown",
   "metadata": {},
   "source": [
    "es una combinación lineal de las dos posible soluciones, pesadas por los coeficientes $C_i$."
   ]
  },
  {
   "cell_type": "markdown",
   "metadata": {},
   "source": [
    "### Periodo de relajación $\\tau$\n",
    "Independientemente del comportamiento que presente $x(t)$ en función de $\\zeta$, el término $\\operatorname{e}^{- \\omega \\zeta t}$ se encarga de ir reduciendo la amplitud a medida que aumenta $t$.\n",
    "De hecho cada vez que transcurre este **período de relajación** $\\tau = \\frac{1}{\\omega \\zeta}$ la amplitud decae en $\\operatorname{e}^{-1}$.\n",
    "Se considera que trancurrido $\\sim 10 \\tau$ la oscilación se considera extinta."
   ]
  },
  {
   "cell_type": "markdown",
   "metadata": {},
   "source": [
    "### Críticamente amortiguado, $\\zeta = 1$\n",
    "Si $\\zeta = 1$ se logra el comportamiento más sencillo"
   ]
  },
  {
   "cell_type": "code",
   "execution_count": 11,
   "metadata": {},
   "outputs": [
    {
     "data": {
      "image/png": "[encoded data removed]",
      "text/latex": [
       "$\\displaystyle x = \\left(C_{1} + C_{2}\\right) e^{- \\omega t}$"
      ],
      "text/plain": [
       "               -ω⋅t\n",
       "x = (C₁ + C₂)⋅ℯ    "
      ]
     },
     "execution_count": 11,
     "metadata": {},
     "output_type": "execute_result"
    }
   ],
   "source": [
    "x_crit = x_EL_ing_sol.subs(zeta,1).simplify()\n",
    "x_crit"
   ]
  },
  {
   "cell_type": "markdown",
   "metadata": {},
   "source": [
    "que se trata de un acercamiento exponencial a la posición de equilibrio. "
   ]
  },
  {
   "cell_type": "markdown",
   "metadata": {},
   "source": [
    "Para visualizar estos comportamientos pueden determinarse los $C_i$ en función de los $x$ y $\\dot{x}$ conocidos en un determinado $t$, las llamadas condiciones iniciales.\n",
    "\n",
    "Si para $t_0 = 0$ conocemos $x_0 = x(t_0)$ y $\\dot{x}_0 = \\dot{x}(t_0)$"
   ]
  },
  {
   "cell_type": "code",
   "execution_count": 12,
   "metadata": {},
   "outputs": [
    {
     "data": {
      "image/png": "[encoded data removed]",
      "text/latex": [
       "$\\displaystyle \\left[ x_{0} = C_{1} + C_{2}, \\  \\dot{x}_0 = - \\omega \\left(C_{1} + C_{2}\\right)\\right]$"
      ],
      "text/plain": [
       "[x₀ = C₁ + C₂, \\dot{x}₀ = -ω⋅(C₁ + C₂)]"
      ]
     },
     "execution_count": 12,
     "metadata": {},
     "output_type": "execute_result"
    }
   ],
   "source": [
    "x_0, dx_0 = sym.symbols('x_0 \\dot{x}_0', real=True)\n",
    "crit_condInic = [sym.Eq(x_0, x_crit.args[1].subs(t, 0) ), sym.Eq(dx_0, x_crit.args[1].diff(t).subs(t, 0) ) ]\n",
    "crit_condInic"
   ]
  },
  {
   "cell_type": "markdown",
   "metadata": {},
   "source": [
    "de las que pueden despejarse los $C_i$ "
   ]
  },
  {
   "cell_type": "code",
   "execution_count": 13,
   "metadata": {},
   "outputs": [
    {
     "data": {
      "image/png": "[encoded data removed]",
      "text/latex": [
       "$\\displaystyle \\left[ \\left\\{ C_{1} : - C_{2} + x_{0}, \\  \\dot{x}_0 : - \\omega x_{0}\\right\\}\\right]$"
      ],
      "text/plain": [
       "[{C₁: -C₂ + x₀, \\dot{x}₀: -ω⋅x₀}]"
      ]
     },
     "execution_count": 13,
     "metadata": {},
     "output_type": "execute_result"
    }
   ],
   "source": [
    "crit_condInic_sol = sym.solve(crit_condInic)\n",
    "crit_condInic_sol"
   ]
  },
  {
   "cell_type": "code",
   "execution_count": 14,
   "metadata": {},
   "outputs": [
    {
     "data": {
      "image/png": "[encoded data removed]",
      "text/latex": [
       "$\\displaystyle x = x_{0} e^{- \\omega t}$"
      ],
      "text/plain": [
       "        -ω⋅t\n",
       "x = x₀⋅ℯ    "
      ]
     },
     "execution_count": 14,
     "metadata": {},
     "output_type": "execute_result"
    }
   ],
   "source": [
    "x_crit_condInic = x_crit.subs(crit_condInic_sol[0] )\n",
    "x_crit_condInic.simplify()"
   ]
  },
  {
   "cell_type": "markdown",
   "metadata": {},
   "source": [
    "Si por ejemplo asignamos"
   ]
  },
  {
   "cell_type": "code",
   "execution_count": 15,
   "metadata": {},
   "outputs": [
    {
     "data": {
      "image/png": "[encoded data removed]",
      "text/latex": [
       "$\\displaystyle x = e^{- 10.0 t}$"
      ],
      "text/plain": [
       "     -10.0⋅t\n",
       "x = ℯ       "
      ]
     },
     "execution_count": 15,
     "metadata": {},
     "output_type": "execute_result"
    }
   ],
   "source": [
    "k = 100 # [N m-1]\n",
    "m = 1 # [kg]\n",
    "x_0_magnitud = 1 # [m]\n",
    "dx_0_magnitud = -100 # [m s-1]\n",
    "\n",
    "parametros ={\n",
    "    x_0 : x_0_magnitud,\n",
    "    dx_0 : dx_0_magnitud,\n",
    "    omega : sym.sqrt(k/m)\n",
    "}\n",
    "x_crit_parametros = x_crit_condInic.subs(parametros)\n",
    "x_crit_parametros"
   ]
  },
  {
   "cell_type": "code",
   "execution_count": 16,
   "metadata": {},
   "outputs": [
    {
     "data": {
      "image/png": "[encoded data removed]",
      "text/plain": [
       "<Figure size 432x288 with 1 Axes>"
      ]
     },
     "metadata": {
      "needs_background": "light"
     },
     "output_type": "display_data"
    },
    {
     "data": {
      "text/plain": [
       "<sympy.plotting.plot.Plot at 0x7f04ac0970b8>"
      ]
     },
     "execution_count": 16,
     "metadata": {},
     "output_type": "execute_result"
    }
   ],
   "source": [
    "sym.plot(x_crit_parametros.rhs, (t,0, 5), ylabel='x [m]', xlabel='t [s]') "
   ]
  },
  {
   "cell_type": "markdown",
   "metadata": {},
   "source": [
    "### Sobreamortiguado, $\\zeta > 1$\n",
    "Si el amortiguamiento es aún más pronunciado, e.g. $\\zeta = 2$"
   ]
  },
  {
   "cell_type": "code",
   "execution_count": 17,
   "metadata": {},
   "outputs": [
    {
     "data": {
      "image/png": "[encoded data removed]",
      "text/latex": [
       "$\\displaystyle x = \\left(C_{1} e^{- \\sqrt{3} \\omega t} + C_{2} e^{\\sqrt{3} \\omega t}\\right) e^{- 2 \\omega t}$"
      ],
      "text/plain": [
       "    ⎛    -√3⋅ω⋅t       √3⋅ω⋅t⎞  -2⋅ω⋅t\n",
       "x = ⎝C₁⋅ℯ        + C₂⋅ℯ      ⎠⋅ℯ      "
      ]
     },
     "execution_count": 17,
     "metadata": {},
     "output_type": "execute_result"
    }
   ],
   "source": [
    "x_sobre = x_EL_ing_sol.subs(zeta, 2).simplify()\n",
    "x_sobre"
   ]
  },
  {
   "cell_type": "markdown",
   "metadata": {},
   "source": [
    "también habrá un acercamiento exponencial a $x=0$, pero puede haber violentas oscilaciones antes de alcanzar el punto de equilibrio."
   ]
  },
  {
   "cell_type": "code",
   "execution_count": 18,
   "metadata": {},
   "outputs": [
    {
     "data": {
      "image/png": "[encoded data removed]",
      "text/latex": [
       "$\\displaystyle x = \\frac{\\left(- \\sqrt{3} \\dot{x}_0 - \\omega x_{0} \\left(-3 + 2 \\sqrt{3}\\right) + \\left(\\sqrt{3} \\dot{x}_0 + \\omega x_{0} \\left(3 + 2 \\sqrt{3}\\right)\\right) e^{2 \\sqrt{3} \\omega t}\\right) e^{- \\omega t \\left(\\sqrt{3} + 2\\right)}}{6 \\omega}$"
      ],
      "text/plain": [
       "    ⎛                                                                   2⋅√3⋅ω\n",
       "    ⎝-√3⋅\\dot{x}₀ - ω⋅x₀⋅(-3 + 2⋅√3) + (√3⋅\\dot{x}₀ + ω⋅x₀⋅(3 + 2⋅√3))⋅ℯ      \n",
       "x = ──────────────────────────────────────────────────────────────────────────\n",
       "                                                6⋅ω                           \n",
       "\n",
       "⋅t⎞  -ω⋅t⋅(√3 + 2)\n",
       "  ⎠⋅ℯ             \n",
       "──────────────────\n",
       "                  "
      ]
     },
     "execution_count": 18,
     "metadata": {},
     "output_type": "execute_result"
    }
   ],
   "source": [
    "sobre_condInic = [sym.Eq(x_0, x_sobre.args[1].subs(t, 0) ), sym.Eq(dx_0, x_sobre.args[1].diff(t).subs(t, 0) ) ]\n",
    "sobre_condInic_sol = sym.solve(sobre_condInic)\n",
    "x_sobre_condInic = x_sobre.subs(sobre_condInic_sol[0] )\n",
    "x_sobre_condInic.simplify()"
   ]
  },
  {
   "cell_type": "markdown",
   "metadata": {},
   "source": [
    "Con las mismas condiciones iniciales"
   ]
  },
  {
   "cell_type": "code",
   "execution_count": 19,
   "metadata": {},
   "outputs": [
    {
     "data": {
      "image/png": "[encoded data removed]",
      "text/plain": [
       "<Figure size 432x288 with 1 Axes>"
      ]
     },
     "metadata": {
      "needs_background": "light"
     },
     "output_type": "display_data"
    },
    {
     "data": {
      "text/plain": [
       "<sympy.plotting.plot.Plot at 0x7f04a8e338d0>"
      ]
     },
     "execution_count": 19,
     "metadata": {},
     "output_type": "execute_result"
    }
   ],
   "source": [
    "x_sobre_parametros = x_sobre_condInic.subs(parametros)\n",
    "sym.plot(x_sobre_parametros.rhs, (t,0, 5), ylabel='x [m]', xlabel='t [s]') "
   ]
  },
  {
   "cell_type": "markdown",
   "metadata": {},
   "source": [
    "### Subamortiguado, $0< \\zeta < 1$\n",
    "El caso más frecuente es cuando se busca que la amortiguación no sea brusca   "
   ]
  },
  {
   "cell_type": "code",
   "execution_count": 20,
   "metadata": {},
   "outputs": [
    {
     "data": {
      "image/png": "[encoded data removed]",
      "text/latex": [
       "$\\displaystyle x = C_{1} e^{\\omega t \\left(-0.2 - 0.979795897113271 i\\right)} + C_{2} e^{\\omega t \\left(-0.2 + 0.979795897113271 i\\right)}$"
      ],
      "text/plain": [
       "        ω⋅t⋅(-0.2 - 0.979795897113271⋅ⅈ)       ω⋅t⋅(-0.2 + 0.979795897113271⋅ⅈ\n",
       "x = C₁⋅ℯ                                 + C₂⋅ℯ                               \n",
       "\n",
       ")\n",
       " "
      ]
     },
     "execution_count": 20,
     "metadata": {},
     "output_type": "execute_result"
    }
   ],
   "source": [
    "x_sub = x_EL_ing_sol.subs(zeta, 0.2)\n",
    "x_sub"
   ]
  },
  {
   "cell_type": "markdown",
   "metadata": {},
   "source": [
    "Las exponenciales complejas con $i t$ pueden re-escribirse como funciones trigonométricas con igualdad de Euler $\\mathrm{e}^{\\pm i \\theta}= \\cos{\\theta}+ i \\sin{\\theta}$.\n",
    "\n",
    "$$\n",
    "x= \\left[ (C_1+ C_2) \\cos{\\omega t} + i(C_1- C_2) \\sin{\\omega t} \\right] \\operatorname{e}^{- \\zeta \\omega t}\n",
    "$$\n",
    "que presenta se observara una reducción de la amplitud de las oscilaciones en torno a la posición de equilibrio.\n"
   ]
  },
  {
   "cell_type": "markdown",
   "metadata": {},
   "source": [
    "y escribir una solución de la dinámica en función de tales condiciones"
   ]
  },
  {
   "cell_type": "code",
   "execution_count": 21,
   "metadata": {},
   "outputs": [
    {
     "data": {
      "image/png": "[encoded data removed]",
      "text/latex": [
       "$\\displaystyle x = \\left(- \\frac{0.510310363079829 i \\dot{x}_0}{\\omega} + 0.5 x_{0} - 0.102062072615966 i x_{0}\\right) e^{\\omega t \\left(-0.2 + 0.979795897113271 i\\right)} + \\left(\\frac{0.510310363079829 i \\dot{x}_0}{\\omega} + 0.5 x_{0} + 0.102062072615966 i x_{0}\\right) e^{\\omega t \\left(-0.2 - 0.979795897113271 i\\right)}$"
      ],
      "text/plain": [
       "    ⎛  0.510310363079829⋅ⅈ⋅\\dot{x}₀                                  ⎞  ω⋅t⋅(-\n",
       "x = ⎜- ──────────────────────────── + 0.5⋅x₀ - 0.102062072615966⋅ⅈ⋅x₀⎟⋅ℯ      \n",
       "    ⎝               ω                                                ⎠        \n",
       "\n",
       "0.2 + 0.979795897113271⋅ⅈ)   ⎛0.510310363079829⋅ⅈ⋅\\dot{x}₀                    \n",
       "                           + ⎜──────────────────────────── + 0.5⋅x₀ + 0.102062\n",
       "                             ⎝             ω                                  \n",
       "\n",
       "              ⎞  ω⋅t⋅(-0.2 - 0.979795897113271⋅ⅈ)\n",
       "072615966⋅ⅈ⋅x₀⎟⋅ℯ                                \n",
       "              ⎠                                  "
      ]
     },
     "execution_count": 21,
     "metadata": {},
     "output_type": "execute_result"
    }
   ],
   "source": [
    "sub_condInic = [sym.Eq(x_0, x_sub.args[1].subs(t, 0) ), sym.Eq(dx_0, x_sub.args[1].diff(t).subs(t, 0) ) ]\n",
    "sub_condInic_sol = sym.solve(sub_condInic)\n",
    "x_sub_condInic = x_sub.subs(sub_condInic_sol[0] )\n",
    "x_sub_condInic"
   ]
  },
  {
   "cell_type": "code",
   "execution_count": 22,
   "metadata": {},
   "outputs": [
    {
     "data": {
      "image/png": "[encoded data removed]",
      "text/plain": [
       "<Figure size 432x288 with 1 Axes>"
      ]
     },
     "metadata": {
      "needs_background": "light"
     },
     "output_type": "display_data"
    },
    {
     "data": {
      "text/plain": [
       "<sympy.plotting.plot.Plot at 0x7f04a8c8b668>"
      ]
     },
     "execution_count": 22,
     "metadata": {},
     "output_type": "execute_result"
    }
   ],
   "source": [
    "x_sub_parametros = x_sub_condInic.subs(parametros)\n",
    "sym.plot(x_sub_parametros.rhs, (t,0, 5), ylabel='x [m]', xlabel='t [s]') "
   ]
  },
  {
   "cell_type": "markdown",
   "metadata": {},
   "source": [
    "### No amortiguado, $\\zeta = 0$"
   ]
  },
  {
   "cell_type": "code",
   "execution_count": 23,
   "metadata": {},
   "outputs": [
    {
     "data": {
      "image/png": "[encoded data removed]",
      "text/latex": [
       "$\\displaystyle x = C_{1} e^{- i \\omega t} + C_{2} e^{i \\omega t}$"
      ],
      "text/plain": [
       "        -ⅈ⋅ω⋅t       ⅈ⋅ω⋅t\n",
       "x = C₁⋅ℯ       + C₂⋅ℯ     "
      ]
     },
     "execution_count": 23,
     "metadata": {},
     "output_type": "execute_result"
    }
   ],
   "source": [
    "x_noAmortiguado = x_EL_ing_sol.subs(zeta, 0)\n",
    "x_noAmortiguado"
   ]
  },
  {
   "cell_type": "code",
   "execution_count": 24,
   "metadata": {},
   "outputs": [
    {
     "data": {
      "image/png": "[encoded data removed]",
      "text/latex": [
       "$\\displaystyle x = \\frac{\\left(- i \\dot{x}_0 + \\omega x_{0}\\right) e^{i \\omega t}}{2 \\omega} + \\frac{\\left(i \\dot{x}_0 + \\omega x_{0}\\right) e^{- i \\omega t}}{2 \\omega}$"
      ],
      "text/plain": [
       "                          ⅈ⋅ω⋅t                        -ⅈ⋅ω⋅t\n",
       "    (-ⅈ⋅\\dot{x}₀ + ω⋅x₀)⋅ℯ        (ⅈ⋅\\dot{x}₀ + ω⋅x₀)⋅ℯ      \n",
       "x = ─────────────────────────── + ───────────────────────────\n",
       "                2⋅ω                           2⋅ω            "
      ]
     },
     "execution_count": 24,
     "metadata": {},
     "output_type": "execute_result"
    }
   ],
   "source": [
    "noAmortiguado_condInic = [sym.Eq(x_0, x_noAmortiguado.args[1].subs(t, 0) ), sym.Eq(dx_0, x_noAmortiguado.args[1].diff(t).subs(t, 0) ) ]\n",
    "noAmortiguado_condInic_sol = sym.solve(noAmortiguado_condInic)\n",
    "x_noAmortiguado_condInic = x_noAmortiguado.subs(noAmortiguado_condInic_sol[0] )\n",
    "x_noAmortiguado_condInic"
   ]
  },
  {
   "cell_type": "code",
   "execution_count": 25,
   "metadata": {},
   "outputs": [
    {
     "data": {
      "image/png": "[encoded data removed]",
      "text/plain": [
       "<Figure size 432x288 with 1 Axes>"
      ]
     },
     "metadata": {
      "needs_background": "light"
     },
     "output_type": "display_data"
    },
    {
     "data": {
      "text/plain": [
       "<sympy.plotting.plot.Plot at 0x7f04aaf76438>"
      ]
     },
     "execution_count": 25,
     "metadata": {},
     "output_type": "execute_result"
    }
   ],
   "source": [
    "x_noAmortiguado_parametros = x_noAmortiguado_condInic.subs(parametros)\n",
    "sym.plot(x_noAmortiguado_parametros.rhs, (t,0, 5), ylabel='x [m]', xlabel='t [s]') "
   ]
  }
 ],
 "metadata": {
  "kernelspec": {
   "display_name": "Python 3",
   "language": "python",
   "name": "python3"
  },
  "language_info": {
   "codemirror_mode": {
    "name": "ipython",
    "version": 3
   },
   "file_extension": ".py",
   "mimetype": "text/x-python",
   "name": "python",
   "nbconvert_exporter": "python",
   "pygments_lexer": "ipython3",
   "version": "3.7.3"
  }
 },
 "nbformat": 4,
 "nbformat_minor": 4
}
