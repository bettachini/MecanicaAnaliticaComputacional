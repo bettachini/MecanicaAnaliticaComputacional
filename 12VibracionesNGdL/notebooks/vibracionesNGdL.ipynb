{
 "cells": [
  {
   "cell_type": "markdown",
   "metadata": {},
   "source": [
    "# Sistema discreto con múltiples grados de libertad\n",
    "\n",
    "© 2020 Víctor A. Bettachini  \n",
    "Mecánica General  \n",
    "Departamento de Ingeniería e Investigación Tecnológica  \n",
    "Universidad Nacional de La Matanza   \n",
    "\n",
    "![](ambos.png \"UNLaM | DIIT\")  \n",
    "\n",
    "---"
   ]
  },
  {
   "cell_type": "markdown",
   "metadata": {},
   "source": [
    "## Con un grado de libertad\n",
    "\n",
    "![](shabana_fig_1_11.png)\n",
    "\n",
    "Una $\\vec{F}(t)$ se aplica a un sistema caracterizado por\n",
    "\n",
    "- m : masa\n",
    "- c : coeficiente de de una fuerza de amortiguación lineal con la velocidad\n",
    "- k : coeficiente de rigidez (stiffness) de un resorte que proveé una fuerza de Hooke\n",
    "\n",
    "Para que la fuerza del resorte sea función del $x$ de la figura, este se mide desde la longitud de reposo del resorte."
   ]
  },
  {
   "cell_type": "code",
   "execution_count": 1,
   "metadata": {},
   "outputs": [],
   "source": [
    "# biblioteca de cálculo simbólico\n",
    "import sympy as sym\n",
    "import sympy.physics.mechanics as mech\n",
    "mech.init_vprinting() # notación con puntos para derivadas temporales"
   ]
  },
  {
   "cell_type": "code",
   "execution_count": 2,
   "metadata": {},
   "outputs": [
    {
     "data": {
      "image/png": "[encoded data removed]",
      "text/latex": [
       "$\\displaystyle \\mathcal{L} = - \\frac{k x^{2}}{2} + \\frac{m \\dot{x}^{2}}{2}$"
      ],
      "text/plain": [
       "                   2      2\n",
       "                k⋅x    m⋅ẋ \n",
       "\\mathcal{L} = - ──── + ────\n",
       "                 2      2  "
      ]
     },
     "execution_count": 2,
     "metadata": {},
     "output_type": "execute_result"
    }
   ],
   "source": [
    "t = sym.symbols('t') # tiempo\n",
    "m, k, c = sym.symbols('m, k, c', positive = True)\n",
    "x, F = mech.dynamicsymbols('x F')\n",
    "N = sym.physics.vector.ReferenceFrame('N') # marco referencial N en coordenadas cartesianas\n",
    "r_m = x* N.x\n",
    "\n",
    "unMedio = sym.Rational(1,2) # Rational: fracción de enteros, alternativamente podría haberse usado 0.5 \n",
    "v_m = r_m.diff(t,N)\n",
    "T = unMedio* m* v_m.dot(v_m)\n",
    "V = unMedio* k* r_m.dot(r_m)\n",
    "\n",
    "L = T- V\n",
    "sym.Eq( sym.Symbol('\\mathcal{L}') , L.simplify())"
   ]
  },
  {
   "cell_type": "markdown",
   "metadata": {},
   "source": [
    "Las fuerzas no conservativas actuando sobre el sistema.\n",
    "\n",
    "![](shabana_fig_1_11b.png)"
   ]
  },
  {
   "cell_type": "code",
   "execution_count": 3,
   "metadata": {},
   "outputs": [
    {
     "data": {
      "image/png": "[encoded data removed]",
      "text/latex": [
       "$\\displaystyle (- c \\dot{x} + F)\\mathbf{\\hat{n}_x}$"
      ],
      "text/plain": [
       "(-c⋅ẋ + F) n_x"
      ]
     },
     "execution_count": 3,
     "metadata": {},
     "output_type": "execute_result"
    }
   ],
   "source": [
    "f = F* N.x - c* r_m.diff(t,N)\n",
    "f"
   ]
  },
  {
   "cell_type": "markdown",
   "metadata": {},
   "source": [
    "Dado que la coordenada generalizada utilizada es la componente vectorial, su fuerza generalizada correspondiente es la resultante de fuerzas\n",
    "$$\n",
    "\\delta W = f \\delta x = Q_x \\delta x .\n",
    "$$"
   ]
  },
  {
   "cell_type": "code",
   "execution_count": 4,
   "metadata": {},
   "outputs": [
    {
     "data": {
      "image/png": "[encoded data removed]",
      "text/latex": [
       "$\\displaystyle Q_{x} = - c \\dot{x} + F$"
      ],
      "text/plain": [
       "Qₓ = -c⋅ẋ + F"
      ]
     },
     "execution_count": 4,
     "metadata": {},
     "output_type": "execute_result"
    }
   ],
   "source": [
    "x_Q = sym.Eq(sym.Symbol('Q_x'), f.dot(N.x))\n",
    "x_Q"
   ]
  },
  {
   "cell_type": "markdown",
   "metadata": {},
   "source": [
    "Siendo la ecuación de Euler-Lagrange\n",
    "\n",
    "$$\n",
    "\\frac{\\mathrm{d}}{\\mathrm{d} t} \\frac{\\partial}{\\partial \\dot{q_i}} \\mathcal{L}  - \\frac{\\partial}{\\partial q_i} \\mathcal{L} = Q_i,\n",
    "$$\n",
    "resulta para este caso"
   ]
  },
  {
   "cell_type": "code",
   "execution_count": 5,
   "metadata": {},
   "outputs": [
    {
     "data": {
      "image/png": "[encoded data removed]",
      "text/latex": [
       "$\\displaystyle k x + m \\ddot{x} = - c \\dot{x} + F$"
      ],
      "text/plain": [
       "k⋅x + m⋅ẍ = -c⋅ẋ + F"
      ]
     },
     "execution_count": 5,
     "metadata": {},
     "output_type": "execute_result"
    }
   ],
   "source": [
    "x_dtdqp = L.diff(x.diff(t) ).diff(t)\n",
    "x_dq = L.diff(x)\n",
    "x_EL_sinNoConservativas = x_dtdqp - x_dq\n",
    "x_EL = sym.Eq(x_EL_sinNoConservativas.simplify(), x_Q.rhs)\n",
    "x_EL"
   ]
  },
  {
   "cell_type": "markdown",
   "metadata": {},
   "source": [
    "Para el análisis de oscilaciones se suele escribir la ecuación de la dinámica dejando la fuerza forzante de lado."
   ]
  },
  {
   "cell_type": "code",
   "execution_count": 6,
   "metadata": {},
   "outputs": [
    {
     "data": {
      "image/png": "[encoded data removed]",
      "text/latex": [
       "$\\displaystyle c \\dot{x} + k x + m \\ddot{x} = F$"
      ],
      "text/plain": [
       "c⋅ẋ + k⋅x + m⋅ẍ = F"
      ]
     },
     "execution_count": 6,
     "metadata": {},
     "output_type": "execute_result"
    }
   ],
   "source": [
    "sym.Eq( sym.solve(x_EL, F)[0] , F) "
   ]
  },
  {
   "cell_type": "markdown",
   "metadata": {},
   "source": [
    "## Dos grados de libertad"
   ]
  },
  {
   "cell_type": "markdown",
   "metadata": {},
   "source": [
    "![](shabana_fig_2_1b.png)\n",
    "\n",
    "En este sistema nuevamente las $x_i$ se miden desde la posición en que la longitud de los resortes sea la de reposo, es decir en la cual no ejercen fuerzas. \n",
    "Evidentemente se requiere de dos coordenas generalizadas $x_1, x_2$ para su descripción."
   ]
  },
  {
   "cell_type": "code",
   "execution_count": 7,
   "metadata": {},
   "outputs": [
    {
     "data": {
      "image/png": "[encoded data removed]",
      "text/latex": [
       "$\\displaystyle \\mathcal{L} = - \\frac{k_{1} x^{2}_{1}}{2} - \\frac{k_{2} \\left(x_{1} - x_{2}\\right)^{2}}{2} + \\frac{m_{1} \\dot{x}_{1}^{2}}{2} + \\frac{m_{2} \\dot{x}_{2}^{2}}{2}$"
      ],
      "text/plain": [
       "                     2               2        2        2\n",
       "                k₁⋅x₁    k₂⋅(x₁ - x₂)    m₁⋅x₁̇    m₂⋅x₂̇ \n",
       "\\mathcal{L} = - ────── - ───────────── + ────── + ──────\n",
       "                  2            2           2        2   "
      ]
     },
     "execution_count": 7,
     "metadata": {},
     "output_type": "execute_result"
    }
   ],
   "source": [
    "t = sym.symbols('t') # tiempo\n",
    "m1, m2, k1, k2, c1, c2 = sym.symbols('m_1 m_2 k_1 k_2 c_1 c_2', positive = True)\n",
    "x1, x2, F1, F2 = mech.dynamicsymbols('x_1 x_2 F_1 F_2')\n",
    "N = sym.physics.vector.ReferenceFrame('N') # marco referencial N en coordenadas cartesianas\n",
    "r_m1 = x1* N.x\n",
    "r_m2 = x2* N.x\n",
    "\n",
    "unMedio = sym.Rational(1,2) # Rational: fracción de enteros, alternativamente podría haberse usado 0.5 \n",
    "v_m1 = r_m1.diff(t,N)\n",
    "v_m2 = r_m2.diff(t,N)\n",
    "T = unMedio* (m1* v_m1.dot(v_m1) + m2* v_m2.dot(v_m2) )\n",
    "l_resorte2 = r_m2 - r_m1\n",
    "V = unMedio* (k1* r_m1.dot(r_m1) + k2* l_resorte2.dot(l_resorte2) )\n",
    "\n",
    "L = T- V\n",
    "sym.Eq( sym.Symbol('\\mathcal{L}') , L.simplify())"
   ]
  },
  {
   "cell_type": "markdown",
   "metadata": {},
   "source": [
    "Al analizar las fuerzas no conservativas hay que considerar que los amortiguadores responden a las velocidades de ambas $m_i$."
   ]
  },
  {
   "cell_type": "code",
   "execution_count": 8,
   "metadata": {},
   "outputs": [
    {
     "data": {
      "image/png": "[encoded data removed]",
      "text/latex": [
       "$\\displaystyle \\left( Q_{x 1} = - c_{1} \\dot{x}_{1} - c_{2} \\left(\\dot{x}_{1} - \\dot{x}_{2}\\right) + F_{1}, \\  Q_{x 2} = - c_{2} \\left(- \\dot{x}_{1} + \\dot{x}_{2}\\right) + F_{2}\\right)$"
      ],
      "text/plain": [
       "(Qₓ ₁ = -c₁⋅x₁̇ - c₂⋅(x₁̇ - x₂̇) + F₁, Qₓ ₂ = -c₂⋅(-x₁̇ + x₂̇) + F₂)"
      ]
     },
     "execution_count": 8,
     "metadata": {},
     "output_type": "execute_result"
    }
   ],
   "source": [
    "f1 = F1* N.x - c1* r_m1.diff(t,N) - c2* (r_m1.diff(t,N)- r_m2.diff(t,N) )\n",
    "f2 = F2* N.x - c2* (r_m2.diff(t,N) - r_m1.diff(t,N) )\n",
    "x1_Q = sym.Eq(sym.Symbol('Q_x_1'), f1.dot(N.x))\n",
    "x2_Q = sym.Eq(sym.Symbol('Q_x_2'), f2.dot(N.x))\n",
    "x1_Q, x2_Q"
   ]
  },
  {
   "cell_type": "code",
   "execution_count": 9,
   "metadata": {},
   "outputs": [],
   "source": [
    "x1_dtdqp = L.diff(x1.diff(t) ).diff(t)\n",
    "x1_dq = L.diff(x1)\n",
    "x1_EL = sym.Eq(x1_dtdqp - x1_dq , x1_Q.rhs)\n",
    "\n",
    "x2_dtdqp = L.diff(x2.diff(t) ).diff(t)\n",
    "x2_dq = L.diff(x2)\n",
    "x2_EL_sinNoConservativas = x2_dtdqp - x2_dq\n",
    "x2_EL = sym.Eq(x2_dtdqp - x2_dq, x2_Q.rhs)"
   ]
  },
  {
   "cell_type": "code",
   "execution_count": 10,
   "metadata": {},
   "outputs": [
    {
     "data": {
      "image/png": "[encoded data removed]",
      "text/latex": [
       "$\\displaystyle c_{1} \\dot{x}_{1} + c_{2} \\dot{x}_{1} - c_{2} \\dot{x}_{2} + k_{1} x_{1} + k_{2} x_{1} - k_{2} x_{2} + m_{1} \\ddot{x}_{1} = F_{1}$"
      ],
      "text/plain": [
       "c₁⋅x₁̇ + c₂⋅x₁̇ - c₂⋅x₂̇ + k₁⋅x₁ + k₂⋅x₁ - k₂⋅x₂ + m₁⋅x₁̈ = F₁"
      ]
     },
     "execution_count": 10,
     "metadata": {},
     "output_type": "execute_result"
    }
   ],
   "source": [
    "sym.Eq( sym.solve(x1_EL, F1)[0].simplify() , F1) "
   ]
  },
  {
   "cell_type": "code",
   "execution_count": 11,
   "metadata": {},
   "outputs": [
    {
     "data": {
      "image/png": "[encoded data removed]",
      "text/latex": [
       "$\\displaystyle - c_{2} \\dot{x}_{1} + c_{2} \\dot{x}_{2} - k_{2} x_{1} + k_{2} x_{2} + m_{2} \\ddot{x}_{2} = F_{2}$"
      ],
      "text/plain": [
       "-c₂⋅x₁̇ + c₂⋅x₂̇ - k₂⋅x₁ + k₂⋅x₂ + m₂⋅x₂̈ = F₂"
      ]
     },
     "execution_count": 11,
     "metadata": {},
     "output_type": "execute_result"
    }
   ],
   "source": [
    "sym.Eq( sym.solve(x2_EL, F2)[0].simplify() , F2) "
   ]
  },
  {
   "cell_type": "markdown",
   "metadata": {},
   "source": [
    "Aquí las dos ecuaciones, cada una en la forma\n",
    "\n",
    "$$\n",
    "m \\ddot{x} + c \\dot{x} + k x = F, \n",
    "$$\n",
    "que pueden escribirse en conjunto en función de un vector de coordenadas generalizadas $\\vec{q}$ en la forma matrical\n",
    "\n",
    "$$\n",
    "M \\ddot{\\vec{q}} + C \\dot{\\vec{q}} + K \\vec{q} = \\vec{F} \n",
    "$$"
   ]
  },
  {
   "cell_type": "markdown",
   "metadata": {},
   "source": [
    "### Matrices $M$, $C$, $K$"
   ]
  },
  {
   "cell_type": "code",
   "execution_count": 12,
   "metadata": {},
   "outputs": [
    {
     "data": {
      "text/latex": [
       "$\\displaystyle \\left( \\left[\\begin{matrix}k_{1} + k_{2} & - k_{2}\\\\- k_{2} & k_{2}\\end{matrix}\\right], \\  \\left[\\begin{matrix}F_{1}\\\\F_{2}\\end{matrix}\\right]\\right)$"
      ],
      "text/plain": [
       "⎛⎡k₁ + k₂  -k₂⎤  ⎡F₁⎤⎞\n",
       "⎜⎢            ⎥, ⎢  ⎥⎟\n",
       "⎝⎣  -k₂    k₂ ⎦  ⎣F₂⎦⎠"
      ]
     },
     "execution_count": 12,
     "metadata": {},
     "output_type": "execute_result"
    }
   ],
   "source": [
    "muletos_K={\n",
    "    x1 : sym.Symbol('x_1'),\n",
    "    x2 : sym.Symbol('x_2'),\n",
    "} # reemplazando por símbolos que no dependen del tiempo las derivadas son 0\n",
    "sistema = [x1_EL, x2_EL ]\n",
    "sistema_subs = [elemento.subs(muletos_K).simplify() for elemento in sistema]\n",
    "simbolos = [x1, x2]\n",
    "simbolos_subs = [elemento.subs(muletos_K).simplify() for elemento in simbolos]\n",
    "K, f = sym.linear_eq_to_matrix(sistema_subs, simbolos_subs)\n",
    "K = (-1)* K\n",
    "K, (-1)*f"
   ]
  },
  {
   "cell_type": "markdown",
   "metadata": {},
   "source": [
    "Aquí se multiplicó la matriz $K$ por $-1$.\n",
    "Se verifica en la $\\vec{F}$ que los signos sean iguales."
   ]
  },
  {
   "cell_type": "code",
   "execution_count": 13,
   "metadata": {},
   "outputs": [
    {
     "data": {
      "text/latex": [
       "$\\displaystyle \\left( \\left[\\begin{matrix}c_{1} + c_{2} & - c_{2}\\\\c_{2} & - c_{2}\\end{matrix}\\right], \\  \\left[\\begin{matrix}F_{1}\\\\- F_{2}\\end{matrix}\\right]\\right)$"
      ],
      "text/plain": [
       "⎛⎡c₁ + c₂  -c₂⎤  ⎡F₁ ⎤⎞\n",
       "⎜⎢            ⎥, ⎢   ⎥⎟\n",
       "⎝⎣  c₂     -c₂⎦  ⎣-F₂⎦⎠"
      ]
     },
     "execution_count": 13,
     "metadata": {},
     "output_type": "execute_result"
    }
   ],
   "source": [
    "muletos_C={\n",
    "    x1 : 0,\n",
    "    x2 : 0,\n",
    "    x1.diff(t) : sym.Symbol('dx1'),\n",
    "    x2.diff(t) : sym.Symbol('dx2'),\n",
    "}\n",
    "sistema = [x1_EL, x2_EL ]\n",
    "sistema_subs = [elemento.subs(muletos_C).simplify() for elemento in sistema]\n",
    "simbolos = [x1.diff(t), x2.diff(t)]\n",
    "simbolos_subs = [elemento.subs(muletos_C).simplify() for elemento in simbolos]\n",
    "C, f = sym.linear_eq_to_matrix(sistema_subs, simbolos_subs)\n",
    "C, f"
   ]
  },
  {
   "cell_type": "markdown",
   "metadata": {},
   "source": [
    "mAquí los signos en $\\vec{F}$ no son iguales, por lo que se aplica $-1$ a una fila en particular de la matriz $C$."
   ]
  },
  {
   "cell_type": "code",
   "execution_count": 14,
   "metadata": {},
   "outputs": [
    {
     "data": {
      "text/latex": [
       "$\\displaystyle \\left( \\left[\\begin{matrix}c_{1} + c_{2} & - c_{2}\\\\- c_{2} & c_{2}\\end{matrix}\\right], \\  \\left[\\begin{matrix}F_{1}\\\\F_{2}\\end{matrix}\\right]\\right)$"
      ],
      "text/plain": [
       "⎛⎡c₁ + c₂  -c₂⎤  ⎡F₁⎤⎞\n",
       "⎜⎢            ⎥, ⎢  ⎥⎟\n",
       "⎝⎣  -c₂    c₂ ⎦  ⎣F₂⎦⎠"
      ]
     },
     "execution_count": 14,
     "metadata": {},
     "output_type": "execute_result"
    }
   ],
   "source": [
    "fila_invertir = 1\n",
    "C[fila_invertir,:] = C[fila_invertir,:]* (-1)\n",
    "f[fila_invertir] = f[fila_invertir]* (-1)\n",
    "C, f"
   ]
  },
  {
   "cell_type": "code",
   "execution_count": 15,
   "metadata": {},
   "outputs": [
    {
     "data": {
      "text/latex": [
       "$\\displaystyle \\left( \\left[\\begin{matrix}m_{1} & 0\\\\0 & m_{2}\\end{matrix}\\right], \\  \\left[\\begin{matrix}F_{1}\\\\F_{2}\\end{matrix}\\right]\\right)$"
      ],
      "text/plain": [
       "⎛⎡m₁  0 ⎤  ⎡F₁⎤⎞\n",
       "⎜⎢      ⎥, ⎢  ⎥⎟\n",
       "⎝⎣0   m₂⎦  ⎣F₂⎦⎠"
      ]
     },
     "execution_count": 15,
     "metadata": {},
     "output_type": "execute_result"
    }
   ],
   "source": [
    "muletos_M={\n",
    "    x1 : 0,\n",
    "    x2 : 0,\n",
    "    x1.diff(t) : 0,\n",
    "    x2.diff(t) : 0,\n",
    "    x1.diff(t,2) : sym.Symbol('ddx1'),\n",
    "    x2.diff(t,2) : sym.Symbol('ddx2'),\n",
    "}\n",
    "sistema = [x1_EL, x2_EL ]\n",
    "sistema_subs = [elemento.subs(muletos_M).simplify() for elemento in sistema]\n",
    "simbolos = [x1.diff(t,2), x2.diff(t,2)]\n",
    "simbolos_subs = [elemento.subs(muletos_M).simplify() for elemento in simbolos]\n",
    "M, f = sym.linear_eq_to_matrix(sistema_subs, simbolos_subs)\n",
    "M = (-1)* M\n",
    "M, (-1)*f"
   ]
  },
  {
   "cell_type": "code",
   "execution_count": 16,
   "metadata": {},
   "outputs": [
    {
     "data": {
      "text/latex": [
       "$\\displaystyle \\left( \\left[\\begin{matrix}m_{1} & 0\\\\0 & m_{2}\\end{matrix}\\right], \\  \\left[\\begin{matrix}c_{1} + c_{2} & - c_{2}\\\\- c_{2} & c_{2}\\end{matrix}\\right], \\  \\left[\\begin{matrix}k_{1} + k_{2} & - k_{2}\\\\- k_{2} & k_{2}\\end{matrix}\\right]\\right)$"
      ],
      "text/plain": [
       "⎛⎡m₁  0 ⎤  ⎡c₁ + c₂  -c₂⎤  ⎡k₁ + k₂  -k₂⎤⎞\n",
       "⎜⎢      ⎥, ⎢            ⎥, ⎢            ⎥⎟\n",
       "⎝⎣0   m₂⎦  ⎣  -c₂    c₂ ⎦  ⎣  -k₂    k₂ ⎦⎠"
      ]
     },
     "execution_count": 16,
     "metadata": {},
     "output_type": "execute_result"
    }
   ],
   "source": [
    "M, C, K"
   ]
  },
  {
   "cell_type": "markdown",
   "metadata": {},
   "source": [
    "## Frecuencias naturales de oscilación"
   ]
  },
  {
   "cell_type": "markdown",
   "metadata": {},
   "source": [
    "### Un $\\omega$ si hay un grado de libertad\n",
    "Un sistema con un único grado de libertad no es afectado por $F$ o $c$\n",
    "\n",
    "$$\n",
    "\\begin{aligned}\n",
    "m \\ddot{x} + c \\dot{x} + k x &= F\\\\\n",
    "m \\ddot{x} + k x &= 0\n",
    "\\end{aligned},\n",
    "$$\n",
    "apartado de su equilibrio si oscilará por siempe en una $\\omega$ en función de $k$ y $m$.\n",
    "Se asume una solución armónica $x = A \\operatorname{e}^{at}$ de amplitud $\\tilde{A}$ y frecuencia (angular) $a$ no nulas.\n",
    "\n",
    "$$\n",
    "\\begin{aligned}\n",
    "m \\ddot{x} + k x &= 0\\\\\n",
    "m \\tilde{A} a^2 \\operatorname{e}^{at} + k \\tilde{A} \\operatorname{e}^{at} &= 0\\\\\n",
    "\\tilde{A} (m a^2 + k) \\operatorname{e}^{at} &= 0\n",
    "\\end{aligned},\n",
    "$$\n",
    "obliga a que $a = \\pm \\sqrt{- \\frac{k}{m}} = \\pm i \\sqrt{\\frac{k}{m}}$, y habrá por tanto dos soluciones que se suman linealmente para obtener la solución general\n",
    "\n",
    "$$\n",
    "\\begin{aligned}\n",
    "x &= A_1 \\operatorname{e}^{i \\sqrt{\\frac{k}{m}} t} + A_2 \\operatorname{e}^{-i \\sqrt{\\frac{k}{m}} t}\\\\\n",
    "x &= A_1 \\operatorname{e}^{i \\omega t} + A_2 \\operatorname{e}^{- i \\omega t}\\\\\n",
    "x &= A \\cos{(\\omega t + \\phi_0)}\\\\\n",
    "x &= x(0) \\cos{(\\omega t)} +  \\frac{\\dot{x}(0)}{\\omega} \\sin{(\\omega t)}\n",
    "\\end{aligned}.\n",
    "$$\n",
    "El como llegar a las últimas dos expresión se vió en `penduloNewton.ipynb` en la clase `03Lagrangiano`. "
   ]
  },
  {
   "cell_type": "markdown",
   "metadata": {},
   "source": [
    "### Varios $\\omega$ para varios grados de libertad\n",
    "Si el sistema necesita más coordenadas generalizadas para describir su dinámica $q_i$ también tendrá sendas $\\omega_i$ determinadas por los elementos de las matrices $K$ y $M$.\n",
    "Proponiendo idéntica solución donde $\\vec{q} = \\vec{A} \\operatorname{e}^{i \\omega t}$, es decir todos los elementos de $\\vec{q}$ oscilan al unísono con $\\omega$ en las amplitudes $\\vec{A}$\n",
    "\n",
    "$$\n",
    "\\begin{aligned}\n",
    "M \\ddot{\\vec{q}} + K \\vec{q} &= 0\\\\\n",
    "- M \\omega^2 \\vec{A} \\operatorname{e}^{i \\omega t} + K \\tilde{A} \\operatorname{e}^{i \\omega t} &= 0\\\\\n",
    "(-M \\omega^2 + K) \\vec{A} \\operatorname{e}^{i \\omega t} &= 0\n",
    "\\end{aligned}.\n",
    "$$\n",
    "Esto solo tiene solucíon no trivial ($\\vec{A} \\neq 0 $) si lo que está entre paréntesis es una **matriz singular** que lo será solo y solo sí su **determinante es nulo**\n",
    "\n",
    "$$\n",
    "\\left| K - \\omega^2 M \\right| =0\n",
    "$$\n",
    "De hecho\n",
    "\n",
    "$$\n",
    "(K - \\omega^2 M) \\vec{A} = 0,\n",
    "$$\n",
    "es un problema de **autovalores** $\\omega^2$, y **autovectores** $\\vec{A}$. "
   ]
  },
  {
   "cell_type": "markdown",
   "metadata": {},
   "source": [
    "### Frecuencias $\\omega$ y amplitudes $\\vec{A}$ del sistema del ejemplo \n",
    "El vector de coordenas generalizas es"
   ]
  },
  {
   "cell_type": "code",
   "execution_count": 17,
   "metadata": {},
   "outputs": [
    {
     "data": {
      "text/latex": [
       "$\\displaystyle \\vec{q} = \\left[\\begin{matrix}x_{1}\\\\x_{2}\\end{matrix}\\right]$"
      ],
      "text/plain": [
       "          ⎡x₁⎤\n",
       "\\vec{q} = ⎢  ⎥\n",
       "          ⎣x₂⎦"
      ]
     },
     "execution_count": 17,
     "metadata": {},
     "output_type": "execute_result"
    }
   ],
   "source": [
    "vecq = sym.Matrix([[x1],[x2]])\n",
    "sym.Eq(sym.Symbol(r'\\vec{q}'), vecq, evaluate=False)"
   ]
  },
  {
   "cell_type": "markdown",
   "metadata": {},
   "source": [
    "por lo que para este caso\n",
    "\n",
    "$$\n",
    "(K - \\omega^2 M) \\vec{A} = 0,\n",
    "$$"
   ]
  },
  {
   "cell_type": "markdown",
   "metadata": {},
   "source": [
    "resulta ser"
   ]
  },
  {
   "cell_type": "code",
   "execution_count": 18,
   "metadata": {},
   "outputs": [
    {
     "data": {
      "text/latex": [
       "$\\displaystyle \\left[\\begin{matrix}k_{1} + k_{2} - m_{1} \\omega^{2} & - k_{2}\\\\- k_{2} & k_{2} - m_{2} \\omega^{2}\\end{matrix}\\right] \\left[\\begin{matrix}a_{1}\\\\a_{2}\\end{matrix}\\right] = 0$"
      ],
      "text/plain": [
       "⎡              2            ⎤         \n",
       "⎢k₁ + k₂ - m₁⋅ω      -k₂    ⎥ ⎡a₁⎤    \n",
       "⎢                           ⎥⋅⎢  ⎥ = 0\n",
       "⎢                          2⎥ ⎣a₂⎦    \n",
       "⎣      -k₂        k₂ - m₂⋅ω ⎦         "
      ]
     },
     "execution_count": 18,
     "metadata": {},
     "output_type": "execute_result"
    }
   ],
   "source": [
    "omega, a_1, a_2 = sym.symbols('omega a_1 a_2')\n",
    "parentesis = K - omega**2* M\n",
    "vecA = sym.Eq(sym.Symbol(r'\\vec{A}'), sym.Matrix([[a_1],[a_2]]), evaluate=False)\n",
    "sym.Eq(sym.MatMul(parentesis, vecA.rhs), 0, evaluate=False)"
   ]
  },
  {
   "cell_type": "markdown",
   "metadata": {},
   "source": [
    "Despejando $\\omega$ del determinante igualado a cero"
   ]
  },
  {
   "cell_type": "code",
   "execution_count": 19,
   "metadata": {},
   "outputs": [
    {
     "data": {
      "image/png": "[encoded data removed]",
      "text/latex": [
       "$\\displaystyle \\left\\{- \\frac{\\sqrt{2} \\sqrt{k_{1} m_{2} + k_{2} m_{1} + k_{2} m_{2} - \\sqrt{k_{1}^{2} m_{2}^{2} - 2 k_{1} k_{2} m_{1} m_{2} + 2 k_{1} k_{2} m_{2}^{2} + k_{2}^{2} m_{1}^{2} + 2 k_{2}^{2} m_{1} m_{2} + k_{2}^{2} m_{2}^{2}}}}{2 \\sqrt{m_{1}} \\sqrt{m_{2}}}, \\frac{\\sqrt{2} \\sqrt{k_{1} m_{2} + k_{2} m_{1} + k_{2} m_{2} - \\sqrt{k_{1}^{2} m_{2}^{2} - 2 k_{1} k_{2} m_{1} m_{2} + 2 k_{1} k_{2} m_{2}^{2} + k_{2}^{2} m_{1}^{2} + 2 k_{2}^{2} m_{1} m_{2} + k_{2}^{2} m_{2}^{2}}}}{2 \\sqrt{m_{1}} \\sqrt{m_{2}}}, - \\frac{\\sqrt{2} \\sqrt{k_{1} m_{2} + k_{2} m_{1} + k_{2} m_{2} + \\sqrt{k_{1}^{2} m_{2}^{2} - 2 k_{1} k_{2} m_{1} m_{2} + 2 k_{1} k_{2} m_{2}^{2} + k_{2}^{2} m_{1}^{2} + 2 k_{2}^{2} m_{1} m_{2} + k_{2}^{2} m_{2}^{2}}}}{2 \\sqrt{m_{1}} \\sqrt{m_{2}}}, \\frac{\\sqrt{2} \\sqrt{k_{1} m_{2} + k_{2} m_{1} + k_{2} m_{2} + \\sqrt{k_{1}^{2} m_{2}^{2} - 2 k_{1} k_{2} m_{1} m_{2} + 2 k_{1} k_{2} m_{2}^{2} + k_{2}^{2} m_{1}^{2} + 2 k_{2}^{2} m_{1} m_{2} + k_{2}^{2} m_{2}^{2}}}}{2 \\sqrt{m_{1}} \\sqrt{m_{2}}}\\right\\}$"
      ],
      "text/plain": [
       "⎧        _____________________________________________________________________\n",
       "⎪       ╱                            _________________________________________\n",
       "⎪      ╱                            ╱   2   2                             2   \n",
       "⎨-√2⋅╲╱   k₁⋅m₂ + k₂⋅m₁ + k₂⋅m₂ - ╲╱  k₁ ⋅m₂  - 2⋅k₁⋅k₂⋅m₁⋅m₂ + 2⋅k₁⋅k₂⋅m₂  + \n",
       "⎪─────────────────────────────────────────────────────────────────────────────\n",
       "⎪                                                    ____   ____              \n",
       "⎩                                                2⋅╲╱ m₁ ⋅╲╱ m₂               \n",
       "\n",
       "_________________________________          ___________________________________\n",
       "________________________________          ╱                            _______\n",
       "  2   2       2           2   2          ╱                            ╱   2   \n",
       "k₂ ⋅m₁  + 2⋅k₂ ⋅m₁⋅m₂ + k₂ ⋅m₂      √2⋅╲╱   k₁⋅m₂ + k₂⋅m₁ + k₂⋅m₂ - ╲╱  k₁ ⋅m₂\n",
       "──────────────────────────────────, ──────────────────────────────────────────\n",
       "                                                                              \n",
       "                                                                              \n",
       "\n",
       "___________________________________________________________________          _\n",
       "__________________________________________________________________          ╱ \n",
       "2                             2     2   2       2           2   2          ╱  \n",
       "  - 2⋅k₁⋅k₂⋅m₁⋅m₂ + 2⋅k₁⋅k₂⋅m₂  + k₂ ⋅m₁  + 2⋅k₂ ⋅m₁⋅m₂ + k₂ ⋅m₂     -√2⋅╲╱   \n",
       "───────────────────────────────────────────────────────────────────, ─────────\n",
       "         ____   ____                                                          \n",
       "     2⋅╲╱ m₁ ⋅╲╱ m₂                                                           \n",
       "\n",
       "______________________________________________________________________________\n",
       "                           ___________________________________________________\n",
       "                          ╱   2   2                             2     2   2   \n",
       "k₁⋅m₂ + k₂⋅m₁ + k₂⋅m₂ + ╲╱  k₁ ⋅m₂  - 2⋅k₁⋅k₂⋅m₁⋅m₂ + 2⋅k₁⋅k₂⋅m₂  + k₂ ⋅m₁  + \n",
       "──────────────────────────────────────────────────────────────────────────────\n",
       "                                           ____   ____                        \n",
       "                                       2⋅╲╱ m₁ ⋅╲╱ m₂                         \n",
       "\n",
       "_______________________          _____________________________________________\n",
       "______________________          ╱                            _________________\n",
       "    2           2   2          ╱                            ╱   2   2         \n",
       "2⋅k₂ ⋅m₁⋅m₂ + k₂ ⋅m₂      √2⋅╲╱   k₁⋅m₂ + k₂⋅m₁ + k₂⋅m₂ + ╲╱  k₁ ⋅m₂  - 2⋅k₁⋅k\n",
       "────────────────────────, ────────────────────────────────────────────────────\n",
       "                                                                             _\n",
       "                                                                         2⋅╲╱ \n",
       "\n",
       "_________________________________________________________⎫\n",
       "________________________________________________________ ⎪\n",
       "                    2     2   2       2           2   2  ⎪\n",
       "₂⋅m₁⋅m₂ + 2⋅k₁⋅k₂⋅m₂  + k₂ ⋅m₁  + 2⋅k₂ ⋅m₁⋅m₂ + k₂ ⋅m₂   ⎬\n",
       "─────────────────────────────────────────────────────────⎪\n",
       "___   ____                                               ⎪\n",
       "m₁ ⋅╲╱ m₂                                                ⎭"
      ]
     },
     "execution_count": 19,
     "metadata": {},
     "output_type": "execute_result"
    }
   ],
   "source": [
    "determinante = sym.Eq(sym.det(parentesis),0)\n",
    "omegas = sym.solveset(determinante, omega)\n",
    "omegas"
   ]
  },
  {
   "cell_type": "markdown",
   "metadata": {},
   "source": [
    "Las soluciones negativas no tienen aplicación física, pues no hay $\\omega < 0$.\n",
    "Se suele ordenar las $\\omega_i$ de menor a mayor. Es fácil ver cual es la menor por el signo en el discriminante dentro de la raíz."
   ]
  },
  {
   "cell_type": "code",
   "execution_count": 20,
   "metadata": {},
   "outputs": [
    {
     "data": {
      "image/png": "[encoded data removed]",
      "text/latex": [
       "$\\displaystyle \\omega_{1} = \\frac{\\sqrt{2} \\sqrt{k_{1} m_{2} + k_{2} m_{1} + k_{2} m_{2} - \\sqrt{k_{1}^{2} m_{2}^{2} - 2 k_{1} k_{2} m_{1} m_{2} + 2 k_{1} k_{2} m_{2}^{2} + k_{2}^{2} m_{1}^{2} + 2 k_{2}^{2} m_{1} m_{2} + k_{2}^{2} m_{2}^{2}}}}{2 \\sqrt{m_{1}} \\sqrt{m_{2}}}$"
      ],
      "text/plain": [
       "            __________________________________________________________________\n",
       "           ╱                            ______________________________________\n",
       "          ╱                            ╱   2   2                             2\n",
       "     √2⋅╲╱   k₁⋅m₂ + k₂⋅m₁ + k₂⋅m₂ - ╲╱  k₁ ⋅m₂  - 2⋅k₁⋅k₂⋅m₁⋅m₂ + 2⋅k₁⋅k₂⋅m₂ \n",
       "ω₁ = ─────────────────────────────────────────────────────────────────────────\n",
       "                                                        ____   ____           \n",
       "                                                    2⋅╲╱ m₁ ⋅╲╱ m₂            \n",
       "\n",
       "____________________________________\n",
       "___________________________________ \n",
       "     2   2       2           2   2  \n",
       " + k₂ ⋅m₁  + 2⋅k₂ ⋅m₁⋅m₂ + k₂ ⋅m₂   \n",
       "────────────────────────────────────\n",
       "                                    \n",
       "                                    "
      ]
     },
     "execution_count": 20,
     "metadata": {},
     "output_type": "execute_result"
    }
   ],
   "source": [
    "omega_1 = sym.Eq(sym.Symbol('omega_1'), list(omegas)[3])\n",
    "omega_1"
   ]
  },
  {
   "cell_type": "code",
   "execution_count": 21,
   "metadata": {},
   "outputs": [
    {
     "data": {
      "image/png": "[encoded data removed]",
      "text/latex": [
       "$\\displaystyle \\omega_{2} = \\frac{\\sqrt{2} \\sqrt{k_{1} m_{2} + k_{2} m_{1} + k_{2} m_{2} + \\sqrt{k_{1}^{2} m_{2}^{2} - 2 k_{1} k_{2} m_{1} m_{2} + 2 k_{1} k_{2} m_{2}^{2} + k_{2}^{2} m_{1}^{2} + 2 k_{2}^{2} m_{1} m_{2} + k_{2}^{2} m_{2}^{2}}}}{2 \\sqrt{m_{1}} \\sqrt{m_{2}}}$"
      ],
      "text/plain": [
       "            __________________________________________________________________\n",
       "           ╱                            ______________________________________\n",
       "          ╱                            ╱   2   2                             2\n",
       "     √2⋅╲╱   k₁⋅m₂ + k₂⋅m₁ + k₂⋅m₂ + ╲╱  k₁ ⋅m₂  - 2⋅k₁⋅k₂⋅m₁⋅m₂ + 2⋅k₁⋅k₂⋅m₂ \n",
       "ω₂ = ─────────────────────────────────────────────────────────────────────────\n",
       "                                                        ____   ____           \n",
       "                                                    2⋅╲╱ m₁ ⋅╲╱ m₂            \n",
       "\n",
       "____________________________________\n",
       "___________________________________ \n",
       "     2   2       2           2   2  \n",
       " + k₂ ⋅m₁  + 2⋅k₂ ⋅m₁⋅m₂ + k₂ ⋅m₂   \n",
       "────────────────────────────────────\n",
       "                                    \n",
       "                                    "
      ]
     },
     "execution_count": 21,
     "metadata": {},
     "output_type": "execute_result"
    }
   ],
   "source": [
    "omega_2 = sym.Eq(sym.Symbol('omega_2'), list(omegas)[1])\n",
    "omega_2"
   ]
  },
  {
   "cell_type": "markdown",
   "metadata": {},
   "source": [
    "## Amplitud de la oscilación con cada $\\omega$"
   ]
  },
  {
   "cell_type": "markdown",
   "metadata": {},
   "source": [
    "Los autovalares $\\omega^2 $ se reemplazan en $K- \\omega^2 M$ para obtener los correspondientes autovectores.\n",
    "Estos darán una relación de los componentes del vector de amplitudes $\\vec{A}$."
   ]
  },
  {
   "cell_type": "code",
   "execution_count": 22,
   "metadata": {},
   "outputs": [
    {
     "data": {
      "text/latex": [
       "$\\displaystyle \\left[\\begin{matrix}k_{1} + k_{2} - m_{1} \\omega_{i}^{2} & - k_{2}\\\\- k_{2} & k_{2} - m_{2} \\omega_{i}^{2}\\end{matrix}\\right] \\left[\\begin{matrix}a_{i1}\\\\a_{i2}\\end{matrix}\\right] = 0$"
      ],
      "text/plain": [
       "⎡               2             ⎤             \n",
       "⎢k₁ + k₂ - m₁⋅ωᵢ       -k₂    ⎥ ⎡a_{i1}⎤    \n",
       "⎢                             ⎥⋅⎢      ⎥ = 0\n",
       "⎢                            2⎥ ⎣a_{i2}⎦    \n",
       "⎣      -k₂         k₂ - m₂⋅ωᵢ ⎦             "
      ]
     },
     "execution_count": 22,
     "metadata": {},
     "output_type": "execute_result"
    }
   ],
   "source": [
    "omega_i, a_i1, a_i2 = sym.symbols('omega_i a_{i1} a_{i2}')\n",
    "veca_i = sym.Matrix([[a_i1],[a_i2]])\n",
    "sym.Eq(sym.MatMul(K - omega_i**2* M, veca_i), 0, evaluate=False)"
   ]
  },
  {
   "cell_type": "markdown",
   "metadata": {},
   "source": [
    "#### Para $\\omega_1$"
   ]
  },
  {
   "cell_type": "code",
   "execution_count": 23,
   "metadata": {},
   "outputs": [
    {
     "data": {
      "text/latex": [
       "$\\displaystyle \\left[\\begin{matrix}k_{1} + k_{2} - m_{1} \\omega_{1}^{2} & - k_{2}\\\\- k_{2} & k_{2} - m_{2} \\omega_{1}^{2}\\end{matrix}\\right] \\left[\\begin{matrix}a_{11}\\\\a_{12}\\end{matrix}\\right] = \\left[\\begin{matrix}0\\\\0\\end{matrix}\\right]$"
      ],
      "text/plain": [
       "⎡               2             ⎤               \n",
       "⎢k₁ + k₂ - m₁⋅ω₁       -k₂    ⎥ ⎡a_{11}⎤   ⎡0⎤\n",
       "⎢                             ⎥⋅⎢      ⎥ = ⎢ ⎥\n",
       "⎢                            2⎥ ⎣a_{12}⎦   ⎣0⎦\n",
       "⎣      -k₂         k₂ - m₂⋅ω₁ ⎦               "
      ]
     },
     "execution_count": 23,
     "metadata": {},
     "output_type": "execute_result"
    }
   ],
   "source": [
    "ceros = sym.Matrix([[0],[0]])\n",
    "a_11, a_12 = sym.symbols('a_{11} a_{12}')\n",
    "vecA1 = sym.Matrix([[a_11],[a_12]])\n",
    "sym.Eq(sym.MatMul(parentesis.subs(omega, omega_1.lhs), vecA1), ceros, evaluate=False)"
   ]
  },
  {
   "cell_type": "code",
   "execution_count": 24,
   "metadata": {},
   "outputs": [
    {
     "data": {
      "text/latex": [
       "$\\displaystyle \\left[\\begin{matrix}a_{11} \\left(k_{1} + k_{2} - \\frac{k_{1} m_{2} + k_{2} m_{1} + k_{2} m_{2} - \\sqrt{k_{1}^{2} m_{2}^{2} - 2 k_{1} k_{2} m_{1} m_{2} + 2 k_{1} k_{2} m_{2}^{2} + k_{2}^{2} m_{1}^{2} + 2 k_{2}^{2} m_{1} m_{2} + k_{2}^{2} m_{2}^{2}}}{2 m_{2}}\\right) - a_{12} k_{2}\\\\- a_{11} k_{2} + a_{12} \\left(k_{2} - \\frac{k_{1} m_{2} + k_{2} m_{1} + k_{2} m_{2} - \\sqrt{k_{1}^{2} m_{2}^{2} - 2 k_{1} k_{2} m_{1} m_{2} + 2 k_{1} k_{2} m_{2}^{2} + k_{2}^{2} m_{1}^{2} + 2 k_{2}^{2} m_{1} m_{2} + k_{2}^{2} m_{2}^{2}}}{2 m_{1}}\\right)\\end{matrix}\\right] = \\left[\\begin{matrix}0\\\\0\\end{matrix}\\right]$"
      ],
      "text/plain": [
       "⎡       ⎛                                     ________________________________\n",
       "⎢       ⎜                                    ╱   2   2                        \n",
       "⎢       ⎜          k₁⋅m₂ + k₂⋅m₁ + k₂⋅m₂ - ╲╱  k₁ ⋅m₂  - 2⋅k₁⋅k₂⋅m₁⋅m₂ + 2⋅k₁⋅\n",
       "⎢a_{11}⋅⎜k₁ + k₂ - ───────────────────────────────────────────────────────────\n",
       "⎢       ⎝                                                          2⋅m₂       \n",
       "⎢                                                                             \n",
       "⎢                      ⎛                                ______________________\n",
       "⎢                      ⎜                               ╱   2   2              \n",
       "⎢                      ⎜     k₁⋅m₂ + k₂⋅m₁ + k₂⋅m₂ - ╲╱  k₁ ⋅m₂  - 2⋅k₁⋅k₂⋅m₁⋅\n",
       "⎢  -a_{11}⋅k₂ + a_{12}⋅⎜k₂ - ─────────────────────────────────────────────────\n",
       "⎣                      ⎝                                                     2\n",
       "\n",
       "_________________________________________⎞            ⎤      \n",
       "     2     2   2       2           2   2 ⎟            ⎥      \n",
       "k₂⋅m₂  + k₂ ⋅m₁  + 2⋅k₂ ⋅m₁⋅m₂ + k₂ ⋅m₂  ⎟            ⎥      \n",
       "─────────────────────────────────────────⎟ - a_{12}⋅k₂⎥      \n",
       "                                         ⎠            ⎥   ⎡0⎤\n",
       "                                                      ⎥ = ⎢ ⎥\n",
       "___________________________________________________⎞  ⎥   ⎣0⎦\n",
       "               2     2   2       2           2   2 ⎟  ⎥      \n",
       "m₂ + 2⋅k₁⋅k₂⋅m₂  + k₂ ⋅m₁  + 2⋅k₂ ⋅m₁⋅m₂ + k₂ ⋅m₂  ⎟  ⎥      \n",
       "───────────────────────────────────────────────────⎟  ⎥      \n",
       "⋅m₁                                                ⎠  ⎦      "
      ]
     },
     "execution_count": 24,
     "metadata": {},
     "output_type": "execute_result"
    }
   ],
   "source": [
    "sistema_1 = parentesis.subs(omega, omega_1.rhs)* vecA1\n",
    "sym.Eq(sistema_1, ceros, evaluate=False)"
   ]
  },
  {
   "cell_type": "markdown",
   "metadata": {},
   "source": [
    "De cualquiera de las dos igualdades puede obtenerse una relación entre $a_{11}$ y $a_{12}$."
   ]
  },
  {
   "cell_type": "code",
   "execution_count": 25,
   "metadata": {},
   "outputs": [
    {
     "data": {
      "image/png": "[encoded data removed]",
      "text/latex": [
       "$\\displaystyle \\left\\{\\frac{a_{11} k_{1} - \\frac{a_{11} k_{2} m_{1}}{m_{2}} + a_{11} k_{2} + \\frac{a_{11} \\sqrt{k_{1}^{2} m_{2}^{2} - 2 k_{1} k_{2} m_{1} m_{2} + 2 k_{1} k_{2} m_{2}^{2} + k_{2}^{2} m_{1}^{2} + 2 k_{2}^{2} m_{1} m_{2} + k_{2}^{2} m_{2}^{2}}}{m_{2}}}{2 k_{2}}\\right\\}$"
      ],
      "text/plain": [
       "⎧                                                 ____________________________\n",
       "⎪                                                ╱   2   2                    \n",
       "⎪            a_{11}⋅k₂⋅m₁               a_{11}⋅╲╱  k₁ ⋅m₂  - 2⋅k₁⋅k₂⋅m₁⋅m₂ + 2\n",
       "⎨a_{11}⋅k₁ - ──────────── + a_{11}⋅k₂ + ──────────────────────────────────────\n",
       "⎪                 m₂                                                          \n",
       "⎪─────────────────────────────────────────────────────────────────────────────\n",
       "⎩                                                           2⋅k₂              \n",
       "\n",
       "_____________________________________________⎫\n",
       "         2     2   2       2           2   2 ⎪\n",
       "⋅k₁⋅k₂⋅m₂  + k₂ ⋅m₁  + 2⋅k₂ ⋅m₁⋅m₂ + k₂ ⋅m₂  ⎪\n",
       "─────────────────────────────────────────────⎬\n",
       "   m₂                                        ⎪\n",
       "─────────────────────────────────────────────⎪\n",
       "                                             ⎭"
      ]
     },
     "execution_count": 25,
     "metadata": {},
     "output_type": "execute_result"
    }
   ],
   "source": [
    "sistema_1_lista = [sistema_1[0].expand(), sistema_1[1].expand()]\n",
    "a_12_sol1 = sym.solveset(sistema_1_lista[0], a_12)\n",
    "a_12_sol1"
   ]
  },
  {
   "cell_type": "code",
   "execution_count": 26,
   "metadata": {},
   "outputs": [
    {
     "data": {
      "image/png": "[encoded data removed]",
      "text/latex": [
       "$\\displaystyle \\left\\{- \\frac{2 a_{11} k_{2} m_{1}}{k_{1} m_{2} - k_{2} m_{1} + k_{2} m_{2} - \\sqrt{k_{1}^{2} m_{2}^{2} - 2 k_{1} k_{2} m_{1} m_{2} + 2 k_{1} k_{2} m_{2}^{2} + k_{2}^{2} m_{1}^{2} + 2 k_{2}^{2} m_{1} m_{2} + k_{2}^{2} m_{2}^{2}}}\\right\\}$"
      ],
      "text/plain": [
       "⎧                                          -2⋅a_{11}⋅k₂⋅m₁                    \n",
       "⎪─────────────────────────────────────────────────────────────────────────────\n",
       "⎨                           __________________________________________________\n",
       "⎪                          ╱   2   2                             2     2   2  \n",
       "⎩k₁⋅m₂ - k₂⋅m₁ + k₂⋅m₂ - ╲╱  k₁ ⋅m₂  - 2⋅k₁⋅k₂⋅m₁⋅m₂ + 2⋅k₁⋅k₂⋅m₂  + k₂ ⋅m₁  +\n",
       "\n",
       "                       ⎫\n",
       "───────────────────────⎪\n",
       "_______________________⎬\n",
       "     2           2   2 ⎪\n",
       " 2⋅k₂ ⋅m₁⋅m₂ + k₂ ⋅m₂  ⎭"
      ]
     },
     "execution_count": 26,
     "metadata": {},
     "output_type": "execute_result"
    }
   ],
   "source": [
    "a_12_sol2 = sym.solveset(sistema_1_lista[1], a_12)\n",
    "a_12_sol2"
   ]
  },
  {
   "cell_type": "markdown",
   "metadata": {},
   "source": [
    "La soluciones parecen distintas, pero puede probarse que son equivalentes ensayando con magnitudes de fantasía."
   ]
  },
  {
   "cell_type": "code",
   "execution_count": 27,
   "metadata": {},
   "outputs": [],
   "source": [
    "parametros_test = {\n",
    "    m1 : 1,\n",
    "    m2 : 2,\n",
    "    k1 : 3,\n",
    "    k2 : 4,\n",
    "    c1 : 5,\n",
    "    c2 : 6,\n",
    "} # valores de fantasía"
   ]
  },
  {
   "cell_type": "code",
   "execution_count": 28,
   "metadata": {},
   "outputs": [
    {
     "data": {
      "image/png": "[encoded data removed]",
      "text/latex": [
       "$\\displaystyle \\frac{a_{11} \\left(5 + \\sqrt{57}\\right)}{8}$"
      ],
      "text/plain": [
       "a_{11}⋅(5 + √57)\n",
       "────────────────\n",
       "       8        "
      ]
     },
     "execution_count": 28,
     "metadata": {},
     "output_type": "execute_result"
    }
   ],
   "source": [
    "a_12_sol1.subs(parametros_test).args[0].simplify()"
   ]
  },
  {
   "cell_type": "code",
   "execution_count": 29,
   "metadata": {},
   "outputs": [
    {
     "data": {
      "image/png": "[encoded data removed]",
      "text/latex": [
       "$\\displaystyle \\frac{a_{11} \\left(5 + \\sqrt{57}\\right)}{8}$"
      ],
      "text/plain": [
       "a_{11}⋅(5 + √57)\n",
       "────────────────\n",
       "       8        "
      ]
     },
     "execution_count": 29,
     "metadata": {},
     "output_type": "execute_result"
    }
   ],
   "source": [
    "a_12_sol2.subs(parametros_test).args[0].simplify().simplify()"
   ]
  },
  {
   "cell_type": "markdown",
   "metadata": {},
   "source": [
    "Entonces la amplitud que correspende a $\\omega_1$ es"
   ]
  },
  {
   "cell_type": "code",
   "execution_count": 30,
   "metadata": {},
   "outputs": [
    {
     "data": {
      "text/latex": [
       "$\\displaystyle \\vec{A}_1 = a_{11} \\left[\\begin{matrix}1\\\\\\frac{- k_{2} m_{1} + m_{2} \\left(k_{1} + k_{2}\\right) + \\sqrt{k_{1}^{2} m_{2}^{2} - 2 k_{1} k_{2} m_{1} m_{2} + 2 k_{1} k_{2} m_{2}^{2} + k_{2}^{2} m_{1}^{2} + 2 k_{2}^{2} m_{1} m_{2} + k_{2}^{2} m_{2}^{2}}}{2 k_{2} m_{2}}\\end{matrix}\\right]$"
      ],
      "text/plain": [
       "                  ⎡                                                 1         \n",
       "                  ⎢                                                           \n",
       "                  ⎢                           ________________________________\n",
       "\\vec{A}₁ = a_{11}⋅⎢                          ╱   2   2                        \n",
       "                  ⎢-k₂⋅m₁ + m₂⋅(k₁ + k₂) + ╲╱  k₁ ⋅m₂  - 2⋅k₁⋅k₂⋅m₁⋅m₂ + 2⋅k₁⋅\n",
       "                  ⎢───────────────────────────────────────────────────────────\n",
       "                  ⎣                                              2⋅k₂⋅m₂      \n",
       "\n",
       "                                         ⎤\n",
       "                                         ⎥\n",
       "_________________________________________⎥\n",
       "     2     2   2       2           2   2 ⎥\n",
       "k₂⋅m₂  + k₂ ⋅m₁  + 2⋅k₂ ⋅m₁⋅m₂ + k₂ ⋅m₂  ⎥\n",
       "─────────────────────────────────────────⎥\n",
       "                                         ⎦"
      ]
     },
     "execution_count": 30,
     "metadata": {},
     "output_type": "execute_result"
    }
   ],
   "source": [
    "amplitud_1_con = sym.Matrix([a_11,  a_12_sol1.args[0].simplify() ])\n",
    "A_1 = sym.Eq(sym.Symbol(r'\\vec{A}_1'), sym.MatMul(a_11, amplitud_1_con/a_11), evaluate=False)\n",
    "A_1"
   ]
  },
  {
   "cell_type": "markdown",
   "metadata": {},
   "source": [
    "#### Para $\\omega_2$"
   ]
  },
  {
   "cell_type": "code",
   "execution_count": 31,
   "metadata": {},
   "outputs": [
    {
     "data": {
      "image/png": "[encoded data removed]",
      "text/latex": [
       "$\\displaystyle \\left\\{- \\frac{2 a_{21} k_{2} m_{1}}{k_{1} m_{2} - k_{2} m_{1} + k_{2} m_{2} + \\sqrt{k_{1}^{2} m_{2}^{2} - 2 k_{1} k_{2} m_{1} m_{2} + 2 k_{1} k_{2} m_{2}^{2} + k_{2}^{2} m_{1}^{2} + 2 k_{2}^{2} m_{1} m_{2} + k_{2}^{2} m_{2}^{2}}}\\right\\}$"
      ],
      "text/plain": [
       "⎧                                          -2⋅a_{21}⋅k₂⋅m₁                    \n",
       "⎪─────────────────────────────────────────────────────────────────────────────\n",
       "⎨                           __________________________________________________\n",
       "⎪                          ╱   2   2                             2     2   2  \n",
       "⎩k₁⋅m₂ - k₂⋅m₁ + k₂⋅m₂ + ╲╱  k₁ ⋅m₂  - 2⋅k₁⋅k₂⋅m₁⋅m₂ + 2⋅k₁⋅k₂⋅m₂  + k₂ ⋅m₁  +\n",
       "\n",
       "                       ⎫\n",
       "───────────────────────⎪\n",
       "_______________________⎬\n",
       "     2           2   2 ⎪\n",
       " 2⋅k₂ ⋅m₁⋅m₂ + k₂ ⋅m₂  ⎭"
      ]
     },
     "execution_count": 31,
     "metadata": {},
     "output_type": "execute_result"
    }
   ],
   "source": [
    "a_21, a_22 = sym.symbols('a_{21} a_{22}')\n",
    "vecA2 = sym.Matrix([[a_21],[a_22]])\n",
    "sistema_2 = parentesis.subs(omega, omega_2.rhs)* vecA2\n",
    "sistema_2_lista = [fila.expand() for fila in sistema_2]\n",
    "a_22_sol2 = sym.solveset(sistema_2_lista[1], a_22)\n",
    "a_22_sol2"
   ]
  },
  {
   "cell_type": "code",
   "execution_count": 32,
   "metadata": {},
   "outputs": [
    {
     "data": {
      "text/latex": [
       "$\\displaystyle \\vec{A}_2 = a_{21} \\left[\\begin{matrix}1\\\\- \\frac{2 k_{2} m_{1}}{k_{1} m_{2} - k_{2} m_{1} + k_{2} m_{2} + \\sqrt{k_{1}^{2} m_{2}^{2} - 2 k_{1} k_{2} m_{1} m_{2} + 2 k_{1} k_{2} m_{2}^{2} + k_{2}^{2} m_{1}^{2} + 2 k_{2}^{2} m_{1} m_{2} + k_{2}^{2} m_{2}^{2}}}\\end{matrix}\\right]$"
      ],
      "text/plain": [
       "                  ⎡                                                 1         \n",
       "                  ⎢                                                           \n",
       "                  ⎢                                             -2⋅k₂⋅m₁      \n",
       "\\vec{A}₂ = a_{21}⋅⎢───────────────────────────────────────────────────────────\n",
       "                  ⎢                           ________________________________\n",
       "                  ⎢                          ╱   2   2                        \n",
       "                  ⎣k₁⋅m₂ - k₂⋅m₁ + k₂⋅m₂ + ╲╱  k₁ ⋅m₂  - 2⋅k₁⋅k₂⋅m₁⋅m₂ + 2⋅k₁⋅\n",
       "\n",
       "                                         ⎤\n",
       "                                         ⎥\n",
       "                                         ⎥\n",
       "─────────────────────────────────────────⎥\n",
       "_________________________________________⎥\n",
       "     2     2   2       2           2   2 ⎥\n",
       "k₂⋅m₂  + k₂ ⋅m₁  + 2⋅k₂ ⋅m₁⋅m₂ + k₂ ⋅m₂  ⎦"
      ]
     },
     "execution_count": 32,
     "metadata": {},
     "output_type": "execute_result"
    }
   ],
   "source": [
    "amplitud_2_con = sym.Matrix([a_21, a_22_sol2.args[0].simplify() ])\n",
    "A_2 = sym.Eq(sym.Symbol(r'\\vec{A}_2'), sym.MatMul(a_21, amplitud_2_con/a_21), evaluate=False)\n",
    "A_2"
   ]
  },
  {
   "cell_type": "markdown",
   "metadata": {},
   "source": [
    "## Solución general para la dinámica"
   ]
  },
  {
   "cell_type": "markdown",
   "metadata": {},
   "source": [
    "Antes de obtener una expresión es útil analizar que dice la amplitud relativa para cada $\\omega$.\n",
    "A modo ilustrativo se utilizarán los valores de fantasía anteriormente introducidos."
   ]
  },
  {
   "cell_type": "code",
   "execution_count": 33,
   "metadata": {},
   "outputs": [
    {
     "data": {
      "text/latex": [
       "$\\displaystyle \\left( a_{11} \\left[\\begin{matrix}1\\\\\\frac{5}{8} + \\frac{\\sqrt{57}}{8}\\end{matrix}\\right], \\  a_{21} \\left[\\begin{matrix}1\\\\- \\frac{8}{10 + 2 \\sqrt{57}}\\end{matrix}\\right]\\right)$"
      ],
      "text/plain": [
       "⎛       ⎡   1   ⎤         ⎡    1     ⎤⎞\n",
       "⎜       ⎢       ⎥         ⎢          ⎥⎟\n",
       "⎜a_{11}⋅⎢5   √57⎥, a_{21}⋅⎢   -8     ⎥⎟\n",
       "⎜       ⎢─ + ───⎥         ⎢──────────⎥⎟\n",
       "⎝       ⎣8    8 ⎦         ⎣10 + 2⋅√57⎦⎠"
      ]
     },
     "execution_count": 33,
     "metadata": {},
     "output_type": "execute_result"
    }
   ],
   "source": [
    "A_1.rhs.subs(parametros_test), A_2.rhs.subs(parametros_test)"
   ]
  },
  {
   "cell_type": "markdown",
   "metadata": {},
   "source": [
    "Con estos parámtros se vé que con $\\omega_1$ ambos $x_i$ se mueven hacia el mismo lado, pero el $x_2$ lo hace con mayor amplitud que $x_1$.\n",
    "En tanto que con $\\omega_2 > \\omega_1$ al moverse $x_2$ a la derecha, $x_1$ lo hace hacía la izquierda y con una amplitud mayor.\n",
    "La frecuencia más baja corresponde **siempre** al que presenta menos _inversiones_ en el sentido de oscilación las componentes del sistema.\n",
    "\n",
    "Estas distintas formas de oscilar reciben el nombre de **modos normales de oscilación** y el sistema tendrá tantas de ellas como **frecuencias características**, es decir el número de grados de libertad."
   ]
  },
  {
   "cell_type": "code",
   "execution_count": 34,
   "metadata": {},
   "outputs": [
    {
     "data": {
      "text/latex": [
       "$\\displaystyle \\left[\\begin{matrix}x_{1}\\\\x_{2}\\end{matrix}\\right] = \\vec{A}_1 \\operatorname{cos}\\left(\\omega_{1} t + \\phi_{1}\\right) + \\vec{A}_2 \\operatorname{cos}\\left(\\omega_{2} t + \\phi_{2}\\right)$"
      ],
      "text/plain": [
       "⎡x₁⎤                                                    \n",
       "⎢  ⎥ = \\vec{A}₁⋅cos(ω₁⋅t + φ₁) + \\vec{A}₂⋅cos(ω₂⋅t + φ₂)\n",
       "⎣x₂⎦                                                    "
      ]
     },
     "execution_count": 34,
     "metadata": {},
     "output_type": "execute_result"
    }
   ],
   "source": [
    "phi_1, phi_2 = sym.symbols(r'phi_1 phi_2')\n",
    "vecX_sol_lhs = sym.Eq(vecq, A_1.lhs * sym.cos(omega_1.lhs* t + phi_1 ) + A_2.lhs * sym.cos(omega_2.lhs* t + phi_2), evaluate=False)\n",
    "vecX_sol_lhs"
   ]
  },
  {
   "cell_type": "markdown",
   "metadata": {},
   "source": [
    "Para hallar la solución general se suman las dos soluciones y se determinan los coeficientes $a_{11}, a_{21}, \\phi_1, \\phi_2$ a partir de condiciones iniciales."
   ]
  },
  {
   "cell_type": "code",
   "execution_count": 35,
   "metadata": {},
   "outputs": [
    {
     "data": {
      "text/latex": [
       "$\\displaystyle \\left[\\begin{matrix}x_{1}\\\\x_{2}\\end{matrix}\\right] = \\left[\\begin{matrix}a_{11} \\operatorname{cos}\\left(\\phi_{1} + \\frac{\\sqrt{2} t \\sqrt{k_{1} m_{2} + k_{2} m_{1} + k_{2} m_{2} - \\sqrt{k_{1}^{2} m_{2}^{2} - 2 k_{1} k_{2} m_{1} m_{2} + 2 k_{1} k_{2} m_{2}^{2} + k_{2}^{2} m_{1}^{2} + 2 k_{2}^{2} m_{1} m_{2} + k_{2}^{2} m_{2}^{2}}}}{2 \\sqrt{m_{1}} \\sqrt{m_{2}}}\\right) + a_{21} \\operatorname{cos}\\left(\\phi_{2} + \\frac{\\sqrt{2} t \\sqrt{k_{1} m_{2} + k_{2} m_{1} + k_{2} m_{2} + \\sqrt{k_{1}^{2} m_{2}^{2} - 2 k_{1} k_{2} m_{1} m_{2} + 2 k_{1} k_{2} m_{2}^{2} + k_{2}^{2} m_{1}^{2} + 2 k_{2}^{2} m_{1} m_{2} + k_{2}^{2} m_{2}^{2}}}}{2 \\sqrt{m_{1}} \\sqrt{m_{2}}}\\right)\\\\\\frac{a_{11} \\left(- k_{2} m_{1} + m_{2} \\left(k_{1} + k_{2}\\right) + \\sqrt{k_{1}^{2} m_{2}^{2} - 2 k_{1} k_{2} m_{1} m_{2} + 2 k_{1} k_{2} m_{2}^{2} + k_{2}^{2} m_{1}^{2} + 2 k_{2}^{2} m_{1} m_{2} + k_{2}^{2} m_{2}^{2}}\\right) \\operatorname{cos}\\left(\\phi_{1} + \\frac{\\sqrt{2} t \\sqrt{k_{1} m_{2} + k_{2} m_{1} + k_{2} m_{2} - \\sqrt{k_{1}^{2} m_{2}^{2} - 2 k_{1} k_{2} m_{1} m_{2} + 2 k_{1} k_{2} m_{2}^{2} + k_{2}^{2} m_{1}^{2} + 2 k_{2}^{2} m_{1} m_{2} + k_{2}^{2} m_{2}^{2}}}}{2 \\sqrt{m_{1}} \\sqrt{m_{2}}}\\right)}{2 k_{2} m_{2}} - \\frac{2 a_{21} k_{2} m_{1} \\operatorname{cos}\\left(\\phi_{2} + \\frac{\\sqrt{2} t \\sqrt{k_{1} m_{2} + k_{2} m_{1} + k_{2} m_{2} + \\sqrt{k_{1}^{2} m_{2}^{2} - 2 k_{1} k_{2} m_{1} m_{2} + 2 k_{1} k_{2} m_{2}^{2} + k_{2}^{2} m_{1}^{2} + 2 k_{2}^{2} m_{1} m_{2} + k_{2}^{2} m_{2}^{2}}}}{2 \\sqrt{m_{1}} \\sqrt{m_{2}}}\\right)}{k_{1} m_{2} - k_{2} m_{1} + k_{2} m_{2} + \\sqrt{k_{1}^{2} m_{2}^{2} - 2 k_{1} k_{2} m_{1} m_{2} + 2 k_{1} k_{2} m_{2}^{2} + k_{2}^{2} m_{1}^{2} + 2 k_{2}^{2} m_{1} m_{2} + k_{2}^{2} m_{2}^{2}}}\\end{matrix}\\right]$"
      ],
      "text/plain": [
       "       ⎡                                                                 ⎛    \n",
       "       ⎢                                                                 ⎜    \n",
       "       ⎢                                                                 ⎜    \n",
       "       ⎢                                                                 ⎜    \n",
       "       ⎢                                                       a_{11}⋅cos⎜φ₁ +\n",
       "       ⎢                                                                 ⎜    \n",
       "       ⎢                                                                 ⎝    \n",
       "       ⎢                                                                      \n",
       "⎡x₁⎤   ⎢                                                                      \n",
       "⎢  ⎥ = ⎢                                                                      \n",
       "⎣x₂⎦   ⎢       ⎛                           ___________________________________\n",
       "       ⎢       ⎜                          ╱   2   2                           \n",
       "       ⎢a_{11}⋅⎝-k₂⋅m₁ + m₂⋅(k₁ + k₂) + ╲╱  k₁ ⋅m₂  - 2⋅k₁⋅k₂⋅m₁⋅m₂ + 2⋅k₁⋅k₂⋅\n",
       "       ⎢                                                                      \n",
       "       ⎢                                                                      \n",
       "       ⎢──────────────────────────────────────────────────────────────────────\n",
       "       ⎢                                                                      \n",
       "       ⎢                                                                      \n",
       "       ⎣                                                                      \n",
       "\n",
       "          ____________________________________________________________________\n",
       "         ╱                            ________________________________________\n",
       "        ╱                            ╱   2   2                             2  \n",
       " √2⋅t⋅╲╱   k₁⋅m₂ + k₂⋅m₁ + k₂⋅m₂ - ╲╱  k₁ ⋅m₂  - 2⋅k₁⋅k₂⋅m₁⋅m₂ + 2⋅k₁⋅k₂⋅m₂  +\n",
       " ─────────────────────────────────────────────────────────────────────────────\n",
       "                                                     ____   ____              \n",
       "                                                 2⋅╲╱ m₁ ⋅╲╱ m₂               \n",
       "                                                                              \n",
       "                                           ⎛              ____________________\n",
       "                                           ⎜             ╱                    \n",
       "______________________________________⎞    ⎜            ╱                     \n",
       "  2     2   2       2           2   2 ⎟    ⎜     √2⋅t⋅╲╱   k₁⋅m₂ + k₂⋅m₁ + k₂⋅\n",
       "m₂  + k₂ ⋅m₁  + 2⋅k₂ ⋅m₁⋅m₂ + k₂ ⋅m₂  ⎠⋅cos⎜φ₁ + ─────────────────────────────\n",
       "                                           ⎜                                  \n",
       "                                           ⎝                                  \n",
       "──────────────────────────────────────────────────────────────────────────────\n",
       "                                          2⋅k₂⋅m₂                             \n",
       "                                                                              \n",
       "                                                                              \n",
       "\n",
       "__________________________________⎞             ⎛              _______________\n",
       "_________________________________ ⎟             ⎜             ╱               \n",
       "   2   2       2           2   2  ⎟             ⎜            ╱                \n",
       " k₂ ⋅m₁  + 2⋅k₂ ⋅m₁⋅m₂ + k₂ ⋅m₂   ⎟             ⎜     √2⋅t⋅╲╱   k₁⋅m₂ + k₂⋅m₁ \n",
       "──────────────────────────────────⎟ + a_{21}⋅cos⎜φ₂ + ────────────────────────\n",
       "                                  ⎟             ⎜                             \n",
       "                                  ⎠             ⎝                             \n",
       "                                                                              \n",
       "______________________________________________________________________________\n",
       "        ______________________________________________________________________\n",
       "       ╱   2   2                             2     2   2       2           2  \n",
       "m₂ - ╲╱  k₁ ⋅m₂  - 2⋅k₁⋅k₂⋅m₁⋅m₂ + 2⋅k₁⋅k₂⋅m₂  + k₂ ⋅m₁  + 2⋅k₂ ⋅m₁⋅m₂ + k₂ ⋅m\n",
       "──────────────────────────────────────────────────────────────────────────────\n",
       "                       ____   ____                                            \n",
       "                   2⋅╲╱ m₁ ⋅╲╱ m₂                                             \n",
       "──────────────────────────────────────────────────────────────────────────────\n",
       "                                                                              \n",
       "                                                                              \n",
       "                                                                              \n",
       "\n",
       "______________________________________________________________________________\n",
       "             _________________________________________________________________\n",
       "            ╱   2   2                             2     2   2       2         \n",
       "+ k₂⋅m₂ + ╲╱  k₁ ⋅m₂  - 2⋅k₁⋅k₂⋅m₁⋅m₂ + 2⋅k₁⋅k₂⋅m₂  + k₂ ⋅m₁  + 2⋅k₂ ⋅m₁⋅m₂ + \n",
       "──────────────────────────────────────────────────────────────────────────────\n",
       "                            ____   ____                                       \n",
       "                        2⋅╲╱ m₁ ⋅╲╱ m₂                                        \n",
       "                                                                              \n",
       "____⎞                     ⎛              _____________________________________\n",
       "___ ⎟                     ⎜             ╱                            _________\n",
       " 2  ⎟                     ⎜            ╱                            ╱   2   2 \n",
       "₂   ⎟                     ⎜     √2⋅t⋅╲╱   k₁⋅m₂ + k₂⋅m₁ + k₂⋅m₂ + ╲╱  k₁ ⋅m₂  \n",
       "────⎟   2⋅a_{21}⋅k₂⋅m₁⋅cos⎜φ₂ + ──────────────────────────────────────────────\n",
       "    ⎟                     ⎜                                                   \n",
       "    ⎠                     ⎝                                                   \n",
       "───── - ──────────────────────────────────────────────────────────────────────\n",
       "                                                     _________________________\n",
       "                                                    ╱   2   2                 \n",
       "                          k₁⋅m₂ - k₂⋅m₁ + k₂⋅m₂ + ╲╱  k₁ ⋅m₂  - 2⋅k₁⋅k₂⋅m₁⋅m₂ \n",
       "\n",
       "_________⎞                                                        ⎤\n",
       "________ ⎟                                                        ⎥\n",
       "  2   2  ⎟                                                        ⎥\n",
       "k₂ ⋅m₂   ⎟                                                        ⎥\n",
       "─────────⎟                                                        ⎥\n",
       "         ⎟                                                        ⎥\n",
       "         ⎠                                                        ⎥\n",
       "                                                                  ⎥\n",
       "_________________________________________________________________⎞⎥\n",
       "________________________________________________________________ ⎟⎥\n",
       "                            2     2   2       2           2   2  ⎟⎥\n",
       "- 2⋅k₁⋅k₂⋅m₁⋅m₂ + 2⋅k₁⋅k₂⋅m₂  + k₂ ⋅m₁  + 2⋅k₂ ⋅m₁⋅m₂ + k₂ ⋅m₂   ⎟⎥\n",
       "─────────────────────────────────────────────────────────────────⎟⎥\n",
       "      ____   ____                                                ⎟⎥\n",
       "  2⋅╲╱ m₁ ⋅╲╱ m₂                                                 ⎠⎥\n",
       "──────────────────────────────────────────────────────────────────⎥\n",
       "________________________________________________                  ⎥\n",
       "            2     2   2       2           2   2                   ⎥\n",
       "+ 2⋅k₁⋅k₂⋅m₂  + k₂ ⋅m₁  + 2⋅k₂ ⋅m₁⋅m₂ + k₂ ⋅m₂                    ⎦"
      ]
     },
     "execution_count": 35,
     "metadata": {},
     "output_type": "execute_result"
    }
   ],
   "source": [
    "vecX_sol_rhs = sym.Eq(vecq, A_1.rhs * sym.cos(omega_1.rhs* t + phi_1 ) + A_2.rhs * sym.cos(omega_2.rhs* t + phi_2), evaluate=False)\n",
    "vecX_sol_rhs"
   ]
  },
  {
   "cell_type": "markdown",
   "metadata": {},
   "source": [
    "## Condiciones iniciales"
   ]
  },
  {
   "cell_type": "markdown",
   "metadata": {},
   "source": [
    "Si el sistema partió del reposo, $\\vec{\\dot{x}}(t=0) = 0$"
   ]
  },
  {
   "cell_type": "code",
   "execution_count": 36,
   "metadata": {},
   "outputs": [
    {
     "data": {
      "text/latex": [
       "$\\displaystyle \\left[\\begin{matrix}0\\\\0\\end{matrix}\\right] = \\left[\\begin{matrix}- \\frac{\\sqrt{2} a_{11} \\sqrt{k_{1} m_{2} + k_{2} m_{1} + k_{2} m_{2} - \\sqrt{k_{1}^{2} m_{2}^{2} - 2 k_{1} k_{2} m_{1} m_{2} + 2 k_{1} k_{2} m_{2}^{2} + k_{2}^{2} m_{1}^{2} + 2 k_{2}^{2} m_{1} m_{2} + k_{2}^{2} m_{2}^{2}}} \\operatorname{sin}\\left(\\phi_{1}\\right)}{2 \\sqrt{m_{1}} \\sqrt{m_{2}}} - \\frac{\\sqrt{2} a_{21} \\sqrt{k_{1} m_{2} + k_{2} m_{1} + k_{2} m_{2} + \\sqrt{k_{1}^{2} m_{2}^{2} - 2 k_{1} k_{2} m_{1} m_{2} + 2 k_{1} k_{2} m_{2}^{2} + k_{2}^{2} m_{1}^{2} + 2 k_{2}^{2} m_{1} m_{2} + k_{2}^{2} m_{2}^{2}}} \\operatorname{sin}\\left(\\phi_{2}\\right)}{2 \\sqrt{m_{1}} \\sqrt{m_{2}}}\\\\- \\frac{\\sqrt{2} a_{11} \\left(- k_{2} m_{1} + m_{2} \\left(k_{1} + k_{2}\\right) + \\sqrt{k_{1}^{2} m_{2}^{2} - 2 k_{1} k_{2} m_{1} m_{2} + 2 k_{1} k_{2} m_{2}^{2} + k_{2}^{2} m_{1}^{2} + 2 k_{2}^{2} m_{1} m_{2} + k_{2}^{2} m_{2}^{2}}\\right) \\sqrt{k_{1} m_{2} + k_{2} m_{1} + k_{2} m_{2} - \\sqrt{k_{1}^{2} m_{2}^{2} - 2 k_{1} k_{2} m_{1} m_{2} + 2 k_{1} k_{2} m_{2}^{2} + k_{2}^{2} m_{1}^{2} + 2 k_{2}^{2} m_{1} m_{2} + k_{2}^{2} m_{2}^{2}}} \\operatorname{sin}\\left(\\phi_{1}\\right)}{4 k_{2} \\sqrt{m_{1}} m_{2}^{\\frac{3}{2}}} + \\frac{\\sqrt{2} a_{21} k_{2} \\sqrt{m_{1}} \\sqrt{k_{1} m_{2} + k_{2} m_{1} + k_{2} m_{2} + \\sqrt{k_{1}^{2} m_{2}^{2} - 2 k_{1} k_{2} m_{1} m_{2} + 2 k_{1} k_{2} m_{2}^{2} + k_{2}^{2} m_{1}^{2} + 2 k_{2}^{2} m_{1} m_{2} + k_{2}^{2} m_{2}^{2}}} \\operatorname{sin}\\left(\\phi_{2}\\right)}{\\sqrt{m_{2}} \\left(k_{1} m_{2} - k_{2} m_{1} + k_{2} m_{2} + \\sqrt{k_{1}^{2} m_{2}^{2} - 2 k_{1} k_{2} m_{1} m_{2} + 2 k_{1} k_{2} m_{2}^{2} + k_{2}^{2} m_{1}^{2} + 2 k_{2}^{2} m_{1} m_{2} + k_{2}^{2} m_{2}^{2}}\\right)}\\end{matrix}\\right]$"
      ],
      "text/plain": [
       "      ⎡                                                                       \n",
       "      ⎢                                                                       \n",
       "      ⎢                                                                      ╱\n",
       "      ⎢                                                          √2⋅a_{11}⋅╲╱ \n",
       "      ⎢                                                        - ─────────────\n",
       "      ⎢                                                                       \n",
       "      ⎢                                                                       \n",
       "⎡0⎤   ⎢                                                                       \n",
       "⎢ ⎥ = ⎢                                                                       \n",
       "⎣0⎦   ⎢            ⎛                           _______________________________\n",
       "      ⎢            ⎜                          ╱   2   2                       \n",
       "      ⎢  √2⋅a_{11}⋅⎝-k₂⋅m₁ + m₂⋅(k₁ + k₂) + ╲╱  k₁ ⋅m₂  - 2⋅k₁⋅k₂⋅m₁⋅m₂ + 2⋅k₁\n",
       "      ⎢- ─────────────────────────────────────────────────────────────────────\n",
       "      ⎢                                                                       \n",
       "      ⎢                                                                       \n",
       "      ⎣                                                                       \n",
       "\n",
       " _____________________________________________________________________________\n",
       "╱                            _________________________________________________\n",
       "                            ╱   2   2                             2     2   2 \n",
       "  k₁⋅m₂ + k₂⋅m₁ + k₂⋅m₂ - ╲╱  k₁ ⋅m₂  - 2⋅k₁⋅k₂⋅m₁⋅m₂ + 2⋅k₁⋅k₂⋅m₂  + k₂ ⋅m₁  \n",
       "──────────────────────────────────────────────────────────────────────────────\n",
       "                                             ____   ____                      \n",
       "                                         2⋅╲╱ m₁ ⋅╲╱ m₂                       \n",
       "                                                                              \n",
       "                                                ______________________________\n",
       "__________________________________________⎞    ╱                            __\n",
       "      2     2   2       2           2   2 ⎟   ╱                            ╱  \n",
       "⋅k₂⋅m₂  + k₂ ⋅m₁  + 2⋅k₂ ⋅m₁⋅m₂ + k₂ ⋅m₂  ⎠⋅╲╱   k₁⋅m₂ + k₂⋅m₁ + k₂⋅m₂ - ╲╱  k\n",
       "──────────────────────────────────────────────────────────────────────────────\n",
       "                                           ____   3/2                         \n",
       "                                    4⋅k₂⋅╲╱ m₁ ⋅m₂                            \n",
       "                                                                              \n",
       "\n",
       "_________________________                         ____________________________\n",
       "________________________                         ╱                            \n",
       "      2           2   2                         ╱                            ╱\n",
       "+ 2⋅k₂ ⋅m₁⋅m₂ + k₂ ⋅m₂   ⋅sin(φ₁)   √2⋅a_{21}⋅╲╱   k₁⋅m₂ + k₂⋅m₁ + k₂⋅m₂ + ╲╱ \n",
       "───────────────────────────────── - ──────────────────────────────────────────\n",
       "                                                                              \n",
       "                                                                              \n",
       "                                                                              \n",
       "________________________________________________________________________      \n",
       "_______________________________________________________________________       \n",
       " 2   2                             2     2   2       2           2   2        \n",
       "₁ ⋅m₂  - 2⋅k₁⋅k₂⋅m₁⋅m₂ + 2⋅k₁⋅k₂⋅m₂  + k₂ ⋅m₁  + 2⋅k₂ ⋅m₁⋅m₂ + k₂ ⋅m₂   ⋅sin(φ\n",
       "──────────────────────────────────────────────────────────────────────────────\n",
       "                                                                              \n",
       "                                                                              \n",
       "                                                                              \n",
       "\n",
       "__________________________________________________________________________    \n",
       "_________________________________________________________________________     \n",
       "   2   2                             2     2   2       2           2   2      \n",
       " k₁ ⋅m₂  - 2⋅k₁⋅k₂⋅m₁⋅m₂ + 2⋅k₁⋅k₂⋅m₂  + k₂ ⋅m₁  + 2⋅k₂ ⋅m₁⋅m₂ + k₂ ⋅m₂   ⋅sin\n",
       "──────────────────────────────────────────────────────────────────────────────\n",
       "                ____   ____                                                   \n",
       "            2⋅╲╱ m₁ ⋅╲╱ m₂                                                    \n",
       "                                                                              \n",
       "                             _________________________________________________\n",
       "                            ╱                            _____________________\n",
       "                    ____   ╱                            ╱   2   2             \n",
       "₁)   √2⋅a_{21}⋅k₂⋅╲╱ m₁ ⋅╲╱   k₁⋅m₂ + k₂⋅m₁ + k₂⋅m₂ + ╲╱  k₁ ⋅m₂  - 2⋅k₁⋅k₂⋅m₁\n",
       "── + ─────────────────────────────────────────────────────────────────────────\n",
       "                        ⎛                           __________________________\n",
       "                   ____ ⎜                          ╱   2   2                  \n",
       "                 ╲╱ m₂ ⋅⎝k₁⋅m₂ - k₂⋅m₁ + k₂⋅m₂ + ╲╱  k₁ ⋅m₂  - 2⋅k₁⋅k₂⋅m₁⋅m₂ +\n",
       "\n",
       "                                                             ⎤\n",
       "                                                             ⎥\n",
       "                                                             ⎥\n",
       "(φ₂)                                                         ⎥\n",
       "────                                                         ⎥\n",
       "                                                             ⎥\n",
       "                                                             ⎥\n",
       "                                                             ⎥\n",
       "_____________________________________________________        ⎥\n",
       "____________________________________________________         ⎥\n",
       "                2     2   2       2           2   2          ⎥\n",
       "⋅m₂ + 2⋅k₁⋅k₂⋅m₂  + k₂ ⋅m₁  + 2⋅k₂ ⋅m₁⋅m₂ + k₂ ⋅m₂   ⋅sin(φ₂)⎥\n",
       "─────────────────────────────────────────────────────────────⎥\n",
       "_______________________________________________⎞             ⎥\n",
       "           2     2   2       2           2   2 ⎟             ⎥\n",
       " 2⋅k₁⋅k₂⋅m₂  + k₂ ⋅m₁  + 2⋅k₂ ⋅m₁⋅m₂ + k₂ ⋅m₂  ⎠             ⎦"
      ]
     },
     "execution_count": 36,
     "metadata": {},
     "output_type": "execute_result"
    }
   ],
   "source": [
    "inicial_velocidad = sym.Eq(vecX_sol_rhs.lhs.subs([(x1, 0), (x2, 0) ]), vecX_sol_rhs.rhs.diff(t).subs([(t,0)]), evaluate=False)\n",
    "inicial_velocidad"
   ]
  },
  {
   "cell_type": "code",
   "execution_count": 37,
   "metadata": {},
   "outputs": [
    {
     "data": {
      "image/png": "[encoded data removed]",
      "text/latex": [
       "$\\displaystyle \\left[ \\left( 0, \\  0\\right), \\  \\left( 0, \\  \\pi\\right), \\  \\left( \\pi, \\  0\\right), \\  \\left( \\pi, \\  \\pi\\right)\\right]$"
      ],
      "text/plain": [
       "[(0, 0), (0, π), (π, 0), (π, π)]"
      ]
     },
     "execution_count": 37,
     "metadata": {},
     "output_type": "execute_result"
    }
   ],
   "source": [
    "fases = sym.solve(inicial_velocidad, phi_1, phi_2)\n",
    "fases"
   ]
  },
  {
   "cell_type": "markdown",
   "metadata": {},
   "source": [
    "Todos los términos están multiplicados por $\\sin{\\phi_i}$.\n",
    "El establecer $\\phi_1 = \\phi_2 = 0$ asegura cumplir con esta condición."
   ]
  },
  {
   "cell_type": "code",
   "execution_count": 38,
   "metadata": {},
   "outputs": [],
   "source": [
    "vecX_fases = vecX_sol_rhs.subs([(phi_1,0), (phi_2,0)] )"
   ]
  },
  {
   "cell_type": "markdown",
   "metadata": {},
   "source": [
    "Con unas posiciones iniciales de $\\vec{x}(t=0)$ se determinan $a_{11}$ y $a_{21}$."
   ]
  },
  {
   "cell_type": "code",
   "execution_count": 39,
   "metadata": {},
   "outputs": [
    {
     "data": {
      "text/latex": [
       "$\\displaystyle \\left[\\begin{matrix}\\operatorname{x_1}\\left(0\\right)\\\\\\operatorname{x_2}\\left(0\\right)\\end{matrix}\\right] = \\left[\\begin{matrix}a_{11} + a_{21}\\\\\\frac{a_{11} \\left(- k_{2} m_{1} + m_{2} \\left(k_{1} + k_{2}\\right) + \\sqrt{k_{1}^{2} m_{2}^{2} - 2 k_{1} k_{2} m_{1} m_{2} + 2 k_{1} k_{2} m_{2}^{2} + k_{2}^{2} m_{1}^{2} + 2 k_{2}^{2} m_{1} m_{2} + k_{2}^{2} m_{2}^{2}}\\right)}{2 k_{2} m_{2}} - \\frac{2 a_{21} k_{2} m_{1}}{k_{1} m_{2} - k_{2} m_{1} + k_{2} m_{2} + \\sqrt{k_{1}^{2} m_{2}^{2} - 2 k_{1} k_{2} m_{1} m_{2} + 2 k_{1} k_{2} m_{2}^{2} + k_{2}^{2} m_{1}^{2} + 2 k_{2}^{2} m_{1} m_{2} + k_{2}^{2} m_{2}^{2}}}\\end{matrix}\\right]$"
      ],
      "text/plain": [
       "          ⎡                                                                   \n",
       "          ⎢                                                                   \n",
       "          ⎢       ⎛                           ________________________________\n",
       "⎡x₁(0)⎤   ⎢       ⎜                          ╱   2   2                        \n",
       "⎢     ⎥ = ⎢a_{11}⋅⎝-k₂⋅m₁ + m₂⋅(k₁ + k₂) + ╲╱  k₁ ⋅m₂  - 2⋅k₁⋅k₂⋅m₁⋅m₂ + 2⋅k₁⋅\n",
       "⎣x₂(0)⎦   ⎢───────────────────────────────────────────────────────────────────\n",
       "          ⎢                                                   2⋅k₂⋅m₂         \n",
       "          ⎢                                                                   \n",
       "          ⎣                                                                   \n",
       "\n",
       "                               a_{11} + a_{21}                                \n",
       "                                                                              \n",
       "_________________________________________⎞                                    \n",
       "     2     2   2       2           2   2 ⎟                                    \n",
       "k₂⋅m₂  + k₂ ⋅m₁  + 2⋅k₂ ⋅m₁⋅m₂ + k₂ ⋅m₂  ⎠                                    \n",
       "────────────────────────────────────────── - ─────────────────────────────────\n",
       "                                                                        ______\n",
       "                                                                       ╱   2  \n",
       "                                             k₁⋅m₂ - k₂⋅m₁ + k₂⋅m₂ + ╲╱  k₁ ⋅m\n",
       "\n",
       "                                                                   ⎤\n",
       "                                                                   ⎥\n",
       "                                                                   ⎥\n",
       "                                                                   ⎥\n",
       "          2⋅a_{21}⋅k₂⋅m₁                                           ⎥\n",
       "───────────────────────────────────────────────────────────────────⎥\n",
       "___________________________________________________________________⎥\n",
       " 2                             2     2   2       2           2   2 ⎥\n",
       "₂  - 2⋅k₁⋅k₂⋅m₁⋅m₂ + 2⋅k₁⋅k₂⋅m₂  + k₂ ⋅m₁  + 2⋅k₂ ⋅m₁⋅m₂ + k₂ ⋅m₂  ⎦"
      ]
     },
     "execution_count": 39,
     "metadata": {},
     "output_type": "execute_result"
    }
   ],
   "source": [
    "vecX_posicionesIniciales = vecX_fases.subs(t,0)\n",
    "vecX_posicionesIniciales"
   ]
  },
  {
   "cell_type": "code",
   "execution_count": 40,
   "metadata": {},
   "outputs": [
    {
     "data": {
      "image/png": "[encoded data removed]",
      "text/latex": [
       "$\\displaystyle \\left\\{ a_{11} : \\frac{k_{2} m_{2} \\left(k_{1} m_{2} \\operatorname{x_2}\\left(0\\right) + 2 k_{2} m_{1} \\operatorname{x_1}\\left(0\\right) - k_{2} m_{1} \\operatorname{x_2}\\left(0\\right) + k_{2} m_{2} \\operatorname{x_2}\\left(0\\right) + \\sqrt{k_{1}^{2} m_{2}^{2} - 2 k_{1} k_{2} m_{1} m_{2} + 2 k_{1} k_{2} m_{2}^{2} + k_{2}^{2} m_{1}^{2} + 2 k_{2}^{2} m_{1} m_{2} + k_{2}^{2} m_{2}^{2}} \\operatorname{x_2}\\left(0\\right)\\right)}{k_{1}^{2} m_{2}^{2} - 2 k_{1} k_{2} m_{1} m_{2} + 2 k_{1} k_{2} m_{2}^{2} + k_{1} m_{2} \\sqrt{k_{1}^{2} m_{2}^{2} - 2 k_{1} k_{2} m_{1} m_{2} + 2 k_{1} k_{2} m_{2}^{2} + k_{2}^{2} m_{1}^{2} + 2 k_{2}^{2} m_{1} m_{2} + k_{2}^{2} m_{2}^{2}} + k_{2}^{2} m_{1}^{2} + 2 k_{2}^{2} m_{1} m_{2} + k_{2}^{2} m_{2}^{2} - k_{2} m_{1} \\sqrt{k_{1}^{2} m_{2}^{2} - 2 k_{1} k_{2} m_{1} m_{2} + 2 k_{1} k_{2} m_{2}^{2} + k_{2}^{2} m_{1}^{2} + 2 k_{2}^{2} m_{1} m_{2} + k_{2}^{2} m_{2}^{2}} + k_{2} m_{2} \\sqrt{k_{1}^{2} m_{2}^{2} - 2 k_{1} k_{2} m_{1} m_{2} + 2 k_{1} k_{2} m_{2}^{2} + k_{2}^{2} m_{1}^{2} + 2 k_{2}^{2} m_{1} m_{2} + k_{2}^{2} m_{2}^{2}}}, \\  a_{21} : \\frac{- k_{1} k_{2} m_{2}^{2} \\operatorname{x_2}\\left(0\\right) + k_{2}^{2} m_{1} m_{2} \\operatorname{x_2}\\left(0\\right) - k_{2}^{2} m_{2}^{2} \\operatorname{x_2}\\left(0\\right) - k_{2} m_{2} \\sqrt{k_{1}^{2} m_{2}^{2} - 2 k_{1} k_{2} m_{1} m_{2} + 2 k_{1} k_{2} m_{2}^{2} + k_{2}^{2} m_{1}^{2} + 2 k_{2}^{2} m_{1} m_{2} + k_{2}^{2} m_{2}^{2}} \\operatorname{x_2}\\left(0\\right) + \\left(k_{1}^{2} m_{2}^{2} - 2 k_{1} k_{2} m_{1} m_{2} + 2 k_{1} k_{2} m_{2}^{2} + k_{1} m_{2} \\sqrt{k_{1}^{2} m_{2}^{2} - 2 k_{1} k_{2} m_{1} m_{2} + 2 k_{1} k_{2} m_{2}^{2} + k_{2}^{2} m_{1}^{2} + 2 k_{2}^{2} m_{1} m_{2} + k_{2}^{2} m_{2}^{2}} + k_{2}^{2} m_{1}^{2} + k_{2}^{2} m_{2}^{2} - k_{2} m_{1} \\sqrt{k_{1}^{2} m_{2}^{2} - 2 k_{1} k_{2} m_{1} m_{2} + 2 k_{1} k_{2} m_{2}^{2} + k_{2}^{2} m_{1}^{2} + 2 k_{2}^{2} m_{1} m_{2} + k_{2}^{2} m_{2}^{2}} + k_{2} m_{2} \\sqrt{k_{1}^{2} m_{2}^{2} - 2 k_{1} k_{2} m_{1} m_{2} + 2 k_{1} k_{2} m_{2}^{2} + k_{2}^{2} m_{1}^{2} + 2 k_{2}^{2} m_{1} m_{2} + k_{2}^{2} m_{2}^{2}}\\right) \\operatorname{x_1}\\left(0\\right)}{k_{1}^{2} m_{2}^{2} - 2 k_{1} k_{2} m_{1} m_{2} + 2 k_{1} k_{2} m_{2}^{2} + k_{1} m_{2} \\sqrt{k_{1}^{2} m_{2}^{2} - 2 k_{1} k_{2} m_{1} m_{2} + 2 k_{1} k_{2} m_{2}^{2} + k_{2}^{2} m_{1}^{2} + 2 k_{2}^{2} m_{1} m_{2} + k_{2}^{2} m_{2}^{2}} + k_{2}^{2} m_{1}^{2} + 2 k_{2}^{2} m_{1} m_{2} + k_{2}^{2} m_{2}^{2} - k_{2} m_{1} \\sqrt{k_{1}^{2} m_{2}^{2} - 2 k_{1} k_{2} m_{1} m_{2} + 2 k_{1} k_{2} m_{2}^{2} + k_{2}^{2} m_{1}^{2} + 2 k_{2}^{2} m_{1} m_{2} + k_{2}^{2} m_{2}^{2}} + k_{2} m_{2} \\sqrt{k_{1}^{2} m_{2}^{2} - 2 k_{1} k_{2} m_{1} m_{2} + 2 k_{1} k_{2} m_{2}^{2} + k_{2}^{2} m_{1}^{2} + 2 k_{2}^{2} m_{1} m_{2} + k_{2}^{2} m_{2}^{2}}}\\right\\}$"
      ],
      "text/plain": [
       "⎧                                                                             \n",
       "⎪                                                                             \n",
       "⎪                                                                             \n",
       "⎨a_{11}: ─────────────────────────────────────────────────────────────────────\n",
       "⎪                                                         ____________________\n",
       "⎪          2   2                             2           ╱   2   2            \n",
       "⎩        k₁ ⋅m₂  - 2⋅k₁⋅k₂⋅m₁⋅m₂ + 2⋅k₁⋅k₂⋅m₂  + k₁⋅m₂⋅╲╱  k₁ ⋅m₂  - 2⋅k₁⋅k₂⋅m\n",
       "\n",
       "                          ⎛                                                   \n",
       "                          ⎜                                                   \n",
       "                    k₂⋅m₂⋅⎝k₁⋅m₂⋅x₂(0) + 2⋅k₂⋅m₁⋅x₁(0) - k₂⋅m₁⋅x₂(0) + k₂⋅m₂⋅x\n",
       "──────────────────────────────────────────────────────────────────────────────\n",
       "_____________________________________________________                         \n",
       "                 2     2   2       2           2   2      2   2       2       \n",
       "₁⋅m₂ + 2⋅k₁⋅k₂⋅m₂  + k₂ ⋅m₁  + 2⋅k₂ ⋅m₁⋅m₂ + k₂ ⋅m₂   + k₂ ⋅m₁  + 2⋅k₂ ⋅m₁⋅m₂ \n",
       "\n",
       "          ____________________________________________________________________\n",
       "         ╱   2   2                             2     2   2       2           2\n",
       "₂(0) + ╲╱  k₁ ⋅m₂  - 2⋅k₁⋅k₂⋅m₁⋅m₂ + 2⋅k₁⋅k₂⋅m₂  + k₂ ⋅m₁  + 2⋅k₂ ⋅m₁⋅m₂ + k₂ \n",
       "──────────────────────────────────────────────────────────────────────────────\n",
       "                     _________________________________________________________\n",
       "    2   2           ╱   2   2                             2     2   2       2 \n",
       "+ k₂ ⋅m₂  - k₂⋅m₁⋅╲╱  k₁ ⋅m₂  - 2⋅k₁⋅k₂⋅m₁⋅m₂ + 2⋅k₁⋅k₂⋅m₂  + k₂ ⋅m₁  + 2⋅k₂ ⋅\n",
       "\n",
       "_____      ⎞                                                                  \n",
       "   2       ⎟                                                                  \n",
       "⋅m₂  ⋅x₂(0)⎠                                                                  \n",
       "──────────────────────────────────────────────────────────────────────────────\n",
       "________________            __________________________________________________\n",
       "          2   2            ╱   2   2                             2     2   2  \n",
       "m₁⋅m₂ + k₂ ⋅m₂   + k₂⋅m₂⋅╲╱  k₁ ⋅m₂  - 2⋅k₁⋅k₂⋅m₁⋅m₂ + 2⋅k₁⋅k₂⋅m₂  + k₂ ⋅m₁  +\n",
       "\n",
       "                                                                              \n",
       "                                           2           2                 2   2\n",
       "                                 - k₁⋅k₂⋅m₂ ⋅x₂(0) + k₂ ⋅m₁⋅m₂⋅x₂(0) - k₂ ⋅m₂ \n",
       "───────────────────────, a_{21}: ─────────────────────────────────────────────\n",
       "_______________________                                                       \n",
       "     2           2   2                                                        \n",
       " 2⋅k₂ ⋅m₁⋅m₂ + k₂ ⋅m₂                                                         \n",
       "\n",
       "                  ____________________________________________________________\n",
       "                 ╱   2   2                             2     2   2       2    \n",
       "⋅x₂(0) - k₂⋅m₂⋅╲╱  k₁ ⋅m₂  - 2⋅k₁⋅k₂⋅m₁⋅m₂ + 2⋅k₁⋅k₂⋅m₂  + k₂ ⋅m₁  + 2⋅k₂ ⋅m₁⋅\n",
       "──────────────────────────────────────────────────────────────────────────────\n",
       "                                                                          ____\n",
       "                           2   2                             2           ╱   2\n",
       "                         k₁ ⋅m₂  - 2⋅k₁⋅k₂⋅m₁⋅m₂ + 2⋅k₁⋅k₂⋅m₂  + k₁⋅m₂⋅╲╱  k₁ \n",
       "\n",
       "_____________         ⎛                                                 ______\n",
       "       2   2          ⎜  2   2                             2           ╱   2  \n",
       "m₂ + k₂ ⋅m₂  ⋅x₂(0) + ⎝k₁ ⋅m₂  - 2⋅k₁⋅k₂⋅m₁⋅m₂ + 2⋅k₁⋅k₂⋅m₂  + k₁⋅m₂⋅╲╱  k₁ ⋅m\n",
       "──────────────────────────────────────────────────────────────────────────────\n",
       "_____________________________________________________________________         \n",
       "   2                             2     2   2       2           2   2      2   \n",
       "⋅m₂  - 2⋅k₁⋅k₂⋅m₁⋅m₂ + 2⋅k₁⋅k₂⋅m₂  + k₂ ⋅m₁  + 2⋅k₂ ⋅m₁⋅m₂ + k₂ ⋅m₂   + k₂ ⋅m₁\n",
       "\n",
       "___________________________________________________________________           \n",
       " 2                             2     2   2       2           2   2      2   2 \n",
       "₂  - 2⋅k₁⋅k₂⋅m₁⋅m₂ + 2⋅k₁⋅k₂⋅m₂  + k₂ ⋅m₁  + 2⋅k₂ ⋅m₁⋅m₂ + k₂ ⋅m₂   + k₂ ⋅m₁  \n",
       "──────────────────────────────────────────────────────────────────────────────\n",
       "                                     _________________________________________\n",
       "2       2           2   2           ╱   2   2                             2   \n",
       "  + 2⋅k₂ ⋅m₁⋅m₂ + k₂ ⋅m₂  - k₂⋅m₁⋅╲╱  k₁ ⋅m₂  - 2⋅k₁⋅k₂⋅m₁⋅m₂ + 2⋅k₁⋅k₂⋅m₂  + \n",
       "\n",
       "                     _________________________________________________________\n",
       "    2   2           ╱   2   2                             2     2   2       2 \n",
       "+ k₂ ⋅m₂  - k₂⋅m₁⋅╲╱  k₁ ⋅m₂  - 2⋅k₁⋅k₂⋅m₁⋅m₂ + 2⋅k₁⋅k₂⋅m₂  + k₂ ⋅m₁  + 2⋅k₂ ⋅\n",
       "──────────────────────────────────────────────────────────────────────────────\n",
       "________________________________            __________________________________\n",
       "  2   2       2           2   2            ╱   2   2                          \n",
       "k₂ ⋅m₁  + 2⋅k₂ ⋅m₁⋅m₂ + k₂ ⋅m₂   + k₂⋅m₂⋅╲╱  k₁ ⋅m₂  - 2⋅k₁⋅k₂⋅m₁⋅m₂ + 2⋅k₁⋅k₂\n",
       "\n",
       "________________            __________________________________________________\n",
       "          2   2            ╱   2   2                             2     2   2  \n",
       "m₁⋅m₂ + k₂ ⋅m₂   + k₂⋅m₂⋅╲╱  k₁ ⋅m₂  - 2⋅k₁⋅k₂⋅m₁⋅m₂ + 2⋅k₁⋅k₂⋅m₂  + k₂ ⋅m₁  +\n",
       "──────────────────────────────────────────────────────────────────────────────\n",
       "_______________________________________                                       \n",
       "   2     2   2       2           2   2                                        \n",
       "⋅m₂  + k₂ ⋅m₁  + 2⋅k₂ ⋅m₁⋅m₂ + k₂ ⋅m₂                                         \n",
       "\n",
       "_______________________⎞      ⎫\n",
       "     2           2   2 ⎟      ⎪\n",
       " 2⋅k₂ ⋅m₁⋅m₂ + k₂ ⋅m₂  ⎠⋅x₁(0)⎪\n",
       "──────────────────────────────⎬\n",
       "                              ⎪\n",
       "                              ⎪\n",
       "                              ⎭"
      ]
     },
     "execution_count": 40,
     "metadata": {},
     "output_type": "execute_result"
    }
   ],
   "source": [
    "inicial_amplitudes = sym.solve(vecX_posicionesIniciales, a_11, a_21)\n",
    "inicial_amplitudes"
   ]
  },
  {
   "cell_type": "code",
   "execution_count": 41,
   "metadata": {},
   "outputs": [
    {
     "data": {
      "text/latex": [
       "$\\displaystyle \\left[\\begin{matrix}x_{1}\\\\x_{2}\\end{matrix}\\right] = \\left[\\begin{matrix}\\frac{k_{2} m_{2} \\left(k_{1} m_{2} \\operatorname{x_2}\\left(0\\right) + 2 k_{2} m_{1} \\operatorname{x_1}\\left(0\\right) - k_{2} m_{1} \\operatorname{x_2}\\left(0\\right) + k_{2} m_{2} \\operatorname{x_2}\\left(0\\right) + \\sqrt{k_{1}^{2} m_{2}^{2} - 2 k_{1} k_{2} m_{1} m_{2} + 2 k_{1} k_{2} m_{2}^{2} + k_{2}^{2} m_{1}^{2} + 2 k_{2}^{2} m_{1} m_{2} + k_{2}^{2} m_{2}^{2}} \\operatorname{x_2}\\left(0\\right)\\right) \\operatorname{cos}\\left(\\frac{\\sqrt{2} t \\sqrt{k_{1} m_{2} + k_{2} m_{1} + k_{2} m_{2} - \\sqrt{k_{1}^{2} m_{2}^{2} - 2 k_{1} k_{2} m_{1} m_{2} + 2 k_{1} k_{2} m_{2}^{2} + k_{2}^{2} m_{1}^{2} + 2 k_{2}^{2} m_{1} m_{2} + k_{2}^{2} m_{2}^{2}}}}{2 \\sqrt{m_{1}} \\sqrt{m_{2}}}\\right)}{k_{1}^{2} m_{2}^{2} - 2 k_{1} k_{2} m_{1} m_{2} + 2 k_{1} k_{2} m_{2}^{2} + k_{1} m_{2} \\sqrt{k_{1}^{2} m_{2}^{2} - 2 k_{1} k_{2} m_{1} m_{2} + 2 k_{1} k_{2} m_{2}^{2} + k_{2}^{2} m_{1}^{2} + 2 k_{2}^{2} m_{1} m_{2} + k_{2}^{2} m_{2}^{2}} + k_{2}^{2} m_{1}^{2} + 2 k_{2}^{2} m_{1} m_{2} + k_{2}^{2} m_{2}^{2} - k_{2} m_{1} \\sqrt{k_{1}^{2} m_{2}^{2} - 2 k_{1} k_{2} m_{1} m_{2} + 2 k_{1} k_{2} m_{2}^{2} + k_{2}^{2} m_{1}^{2} + 2 k_{2}^{2} m_{1} m_{2} + k_{2}^{2} m_{2}^{2}} + k_{2} m_{2} \\sqrt{k_{1}^{2} m_{2}^{2} - 2 k_{1} k_{2} m_{1} m_{2} + 2 k_{1} k_{2} m_{2}^{2} + k_{2}^{2} m_{1}^{2} + 2 k_{2}^{2} m_{1} m_{2} + k_{2}^{2} m_{2}^{2}}} + \\frac{\\left(- k_{1} k_{2} m_{2}^{2} \\operatorname{x_2}\\left(0\\right) + k_{2}^{2} m_{1} m_{2} \\operatorname{x_2}\\left(0\\right) - k_{2}^{2} m_{2}^{2} \\operatorname{x_2}\\left(0\\right) - k_{2} m_{2} \\sqrt{k_{1}^{2} m_{2}^{2} - 2 k_{1} k_{2} m_{1} m_{2} + 2 k_{1} k_{2} m_{2}^{2} + k_{2}^{2} m_{1}^{2} + 2 k_{2}^{2} m_{1} m_{2} + k_{2}^{2} m_{2}^{2}} \\operatorname{x_2}\\left(0\\right) + \\left(k_{1}^{2} m_{2}^{2} - 2 k_{1} k_{2} m_{1} m_{2} + 2 k_{1} k_{2} m_{2}^{2} + k_{1} m_{2} \\sqrt{k_{1}^{2} m_{2}^{2} - 2 k_{1} k_{2} m_{1} m_{2} + 2 k_{1} k_{2} m_{2}^{2} + k_{2}^{2} m_{1}^{2} + 2 k_{2}^{2} m_{1} m_{2} + k_{2}^{2} m_{2}^{2}} + k_{2}^{2} m_{1}^{2} + k_{2}^{2} m_{2}^{2} - k_{2} m_{1} \\sqrt{k_{1}^{2} m_{2}^{2} - 2 k_{1} k_{2} m_{1} m_{2} + 2 k_{1} k_{2} m_{2}^{2} + k_{2}^{2} m_{1}^{2} + 2 k_{2}^{2} m_{1} m_{2} + k_{2}^{2} m_{2}^{2}} + k_{2} m_{2} \\sqrt{k_{1}^{2} m_{2}^{2} - 2 k_{1} k_{2} m_{1} m_{2} + 2 k_{1} k_{2} m_{2}^{2} + k_{2}^{2} m_{1}^{2} + 2 k_{2}^{2} m_{1} m_{2} + k_{2}^{2} m_{2}^{2}}\\right) \\operatorname{x_1}\\left(0\\right)\\right) \\operatorname{cos}\\left(\\frac{\\sqrt{2} t \\sqrt{k_{1} m_{2} + k_{2} m_{1} + k_{2} m_{2} + \\sqrt{k_{1}^{2} m_{2}^{2} - 2 k_{1} k_{2} m_{1} m_{2} + 2 k_{1} k_{2} m_{2}^{2} + k_{2}^{2} m_{1}^{2} + 2 k_{2}^{2} m_{1} m_{2} + k_{2}^{2} m_{2}^{2}}}}{2 \\sqrt{m_{1}} \\sqrt{m_{2}}}\\right)}{k_{1}^{2} m_{2}^{2} - 2 k_{1} k_{2} m_{1} m_{2} + 2 k_{1} k_{2} m_{2}^{2} + k_{1} m_{2} \\sqrt{k_{1}^{2} m_{2}^{2} - 2 k_{1} k_{2} m_{1} m_{2} + 2 k_{1} k_{2} m_{2}^{2} + k_{2}^{2} m_{1}^{2} + 2 k_{2}^{2} m_{1} m_{2} + k_{2}^{2} m_{2}^{2}} + k_{2}^{2} m_{1}^{2} + 2 k_{2}^{2} m_{1} m_{2} + k_{2}^{2} m_{2}^{2} - k_{2} m_{1} \\sqrt{k_{1}^{2} m_{2}^{2} - 2 k_{1} k_{2} m_{1} m_{2} + 2 k_{1} k_{2} m_{2}^{2} + k_{2}^{2} m_{1}^{2} + 2 k_{2}^{2} m_{1} m_{2} + k_{2}^{2} m_{2}^{2}} + k_{2} m_{2} \\sqrt{k_{1}^{2} m_{2}^{2} - 2 k_{1} k_{2} m_{1} m_{2} + 2 k_{1} k_{2} m_{2}^{2} + k_{2}^{2} m_{1}^{2} + 2 k_{2}^{2} m_{1} m_{2} + k_{2}^{2} m_{2}^{2}}}\\\\- \\frac{2 k_{2} m_{1} \\left(- k_{1} k_{2} m_{2}^{2} \\operatorname{x_2}\\left(0\\right) + k_{2}^{2} m_{1} m_{2} \\operatorname{x_2}\\left(0\\right) - k_{2}^{2} m_{2}^{2} \\operatorname{x_2}\\left(0\\right) - k_{2} m_{2} \\sqrt{k_{1}^{2} m_{2}^{2} - 2 k_{1} k_{2} m_{1} m_{2} + 2 k_{1} k_{2} m_{2}^{2} + k_{2}^{2} m_{1}^{2} + 2 k_{2}^{2} m_{1} m_{2} + k_{2}^{2} m_{2}^{2}} \\operatorname{x_2}\\left(0\\right) + \\left(k_{1}^{2} m_{2}^{2} - 2 k_{1} k_{2} m_{1} m_{2} + 2 k_{1} k_{2} m_{2}^{2} + k_{1} m_{2} \\sqrt{k_{1}^{2} m_{2}^{2} - 2 k_{1} k_{2} m_{1} m_{2} + 2 k_{1} k_{2} m_{2}^{2} + k_{2}^{2} m_{1}^{2} + 2 k_{2}^{2} m_{1} m_{2} + k_{2}^{2} m_{2}^{2}} + k_{2}^{2} m_{1}^{2} + k_{2}^{2} m_{2}^{2} - k_{2} m_{1} \\sqrt{k_{1}^{2} m_{2}^{2} - 2 k_{1} k_{2} m_{1} m_{2} + 2 k_{1} k_{2} m_{2}^{2} + k_{2}^{2} m_{1}^{2} + 2 k_{2}^{2} m_{1} m_{2} + k_{2}^{2} m_{2}^{2}} + k_{2} m_{2} \\sqrt{k_{1}^{2} m_{2}^{2} - 2 k_{1} k_{2} m_{1} m_{2} + 2 k_{1} k_{2} m_{2}^{2} + k_{2}^{2} m_{1}^{2} + 2 k_{2}^{2} m_{1} m_{2} + k_{2}^{2} m_{2}^{2}}\\right) \\operatorname{x_1}\\left(0\\right)\\right) \\operatorname{cos}\\left(\\frac{\\sqrt{2} t \\sqrt{k_{1} m_{2} + k_{2} m_{1} + k_{2} m_{2} + \\sqrt{k_{1}^{2} m_{2}^{2} - 2 k_{1} k_{2} m_{1} m_{2} + 2 k_{1} k_{2} m_{2}^{2} + k_{2}^{2} m_{1}^{2} + 2 k_{2}^{2} m_{1} m_{2} + k_{2}^{2} m_{2}^{2}}}}{2 \\sqrt{m_{1}} \\sqrt{m_{2}}}\\right)}{\\left(k_{1} m_{2} - k_{2} m_{1} + k_{2} m_{2} + \\sqrt{k_{1}^{2} m_{2}^{2} - 2 k_{1} k_{2} m_{1} m_{2} + 2 k_{1} k_{2} m_{2}^{2} + k_{2}^{2} m_{1}^{2} + 2 k_{2}^{2} m_{1} m_{2} + k_{2}^{2} m_{2}^{2}}\\right) \\left(k_{1}^{2} m_{2}^{2} - 2 k_{1} k_{2} m_{1} m_{2} + 2 k_{1} k_{2} m_{2}^{2} + k_{1} m_{2} \\sqrt{k_{1}^{2} m_{2}^{2} - 2 k_{1} k_{2} m_{1} m_{2} + 2 k_{1} k_{2} m_{2}^{2} + k_{2}^{2} m_{1}^{2} + 2 k_{2}^{2} m_{1} m_{2} + k_{2}^{2} m_{2}^{2}} + k_{2}^{2} m_{1}^{2} + 2 k_{2}^{2} m_{1} m_{2} + k_{2}^{2} m_{2}^{2} - k_{2} m_{1} \\sqrt{k_{1}^{2} m_{2}^{2} - 2 k_{1} k_{2} m_{1} m_{2} + 2 k_{1} k_{2} m_{2}^{2} + k_{2}^{2} m_{1}^{2} + 2 k_{2}^{2} m_{1} m_{2} + k_{2}^{2} m_{2}^{2}} + k_{2} m_{2} \\sqrt{k_{1}^{2} m_{2}^{2} - 2 k_{1} k_{2} m_{1} m_{2} + 2 k_{1} k_{2} m_{2}^{2} + k_{2}^{2} m_{1}^{2} + 2 k_{2}^{2} m_{1} m_{2} + k_{2}^{2} m_{2}^{2}}\\right)} + \\frac{\\left(- k_{2} m_{1} + m_{2} \\left(k_{1} + k_{2}\\right) + \\sqrt{k_{1}^{2} m_{2}^{2} - 2 k_{1} k_{2} m_{1} m_{2} + 2 k_{1} k_{2} m_{2}^{2} + k_{2}^{2} m_{1}^{2} + 2 k_{2}^{2} m_{1} m_{2} + k_{2}^{2} m_{2}^{2}}\\right) \\left(k_{1} m_{2} \\operatorname{x_2}\\left(0\\right) + 2 k_{2} m_{1} \\operatorname{x_1}\\left(0\\right) - k_{2} m_{1} \\operatorname{x_2}\\left(0\\right) + k_{2} m_{2} \\operatorname{x_2}\\left(0\\right) + \\sqrt{k_{1}^{2} m_{2}^{2} - 2 k_{1} k_{2} m_{1} m_{2} + 2 k_{1} k_{2} m_{2}^{2} + k_{2}^{2} m_{1}^{2} + 2 k_{2}^{2} m_{1} m_{2} + k_{2}^{2} m_{2}^{2}} \\operatorname{x_2}\\left(0\\right)\\right) \\operatorname{cos}\\left(\\frac{\\sqrt{2} t \\sqrt{k_{1} m_{2} + k_{2} m_{1} + k_{2} m_{2} - \\sqrt{k_{1}^{2} m_{2}^{2} - 2 k_{1} k_{2} m_{1} m_{2} + 2 k_{1} k_{2} m_{2}^{2} + k_{2}^{2} m_{1}^{2} + 2 k_{2}^{2} m_{1} m_{2} + k_{2}^{2} m_{2}^{2}}}}{2 \\sqrt{m_{1}} \\sqrt{m_{2}}}\\right)}{2 \\left(k_{1}^{2} m_{2}^{2} - 2 k_{1} k_{2} m_{1} m_{2} + 2 k_{1} k_{2} m_{2}^{2} + k_{1} m_{2} \\sqrt{k_{1}^{2} m_{2}^{2} - 2 k_{1} k_{2} m_{1} m_{2} + 2 k_{1} k_{2} m_{2}^{2} + k_{2}^{2} m_{1}^{2} + 2 k_{2}^{2} m_{1} m_{2} + k_{2}^{2} m_{2}^{2}} + k_{2}^{2} m_{1}^{2} + 2 k_{2}^{2} m_{1} m_{2} + k_{2}^{2} m_{2}^{2} - k_{2} m_{1} \\sqrt{k_{1}^{2} m_{2}^{2} - 2 k_{1} k_{2} m_{1} m_{2} + 2 k_{1} k_{2} m_{2}^{2} + k_{2}^{2} m_{1}^{2} + 2 k_{2}^{2} m_{1} m_{2} + k_{2}^{2} m_{2}^{2}} + k_{2} m_{2} \\sqrt{k_{1}^{2} m_{2}^{2} - 2 k_{1} k_{2} m_{1} m_{2} + 2 k_{1} k_{2} m_{2}^{2} + k_{2}^{2} m_{1}^{2} + 2 k_{2}^{2} m_{1} m_{2} + k_{2}^{2} m_{2}^{2}}\\right)}\\end{matrix}\\right]$"
      ],
      "text/plain": [
       "       ⎡                                                                      \n",
       "       ⎢                                                                      \n",
       "       ⎢                                                           ⎛          \n",
       "       ⎢                                                           ⎜          \n",
       "       ⎢                                                     k₂⋅m₂⋅⎝k₁⋅m₂⋅x₂(0\n",
       "       ⎢                                                                      \n",
       "       ⎢                                                                      \n",
       "       ⎢                       ───────────────────────────────────────────────\n",
       "       ⎢                                                                      \n",
       "       ⎢                         2   2                             2          \n",
       "⎡x₁⎤   ⎢                       k₁ ⋅m₂  - 2⋅k₁⋅k₂⋅m₁⋅m₂ + 2⋅k₁⋅k₂⋅m₂  + k₁⋅m₂⋅╲\n",
       "⎢  ⎥ = ⎢                                                                      \n",
       "⎣x₂⎦   ⎢                                                                      \n",
       "       ⎢                                                                      \n",
       "       ⎢          ⎛                                                           \n",
       "       ⎢          ⎜          2           2                 2   2              \n",
       "       ⎢  2⋅k₂⋅m₁⋅⎝- k₁⋅k₂⋅m₂ ⋅x₂(0) + k₂ ⋅m₁⋅m₂⋅x₂(0) - k₂ ⋅m₂ ⋅x₂(0) - k₂⋅m₂\n",
       "       ⎢                                                                      \n",
       "       ⎢                                                                      \n",
       "       ⎢- ────────────────────────────────────────────────────────────────────\n",
       "       ⎢                                                                      \n",
       "       ⎢                                                                      \n",
       "       ⎣                                                                      \n",
       "\n",
       "                                                                              \n",
       "                                                                              \n",
       "                                                   ___________________________\n",
       "                                                  ╱   2   2                   \n",
       ") + 2⋅k₂⋅m₁⋅x₁(0) - k₂⋅m₁⋅x₂(0) + k₂⋅m₂⋅x₂(0) + ╲╱  k₁ ⋅m₂  - 2⋅k₁⋅k₂⋅m₁⋅m₂ + \n",
       "                                                                              \n",
       "                                                                              \n",
       "──────────────────────────────────────────────────────────────────────────────\n",
       "  _________________________________________________________________________   \n",
       " ╱   2   2                             2     2   2       2           2   2    \n",
       "╱  k₁ ⋅m₂  - 2⋅k₁⋅k₂⋅m₁⋅m₂ + 2⋅k₁⋅k₂⋅m₂  + k₂ ⋅m₁  + 2⋅k₂ ⋅m₁⋅m₂ + k₂ ⋅m₂   + \n",
       "                                                                              \n",
       "                                                                              \n",
       "                                                                              \n",
       "    _________________________________________________________________________ \n",
       "   ╱   2   2                             2     2   2       2           2   2  \n",
       "⋅╲╱  k₁ ⋅m₂  - 2⋅k₁⋅k₂⋅m₁⋅m₂ + 2⋅k₁⋅k₂⋅m₂  + k₂ ⋅m₁  + 2⋅k₂ ⋅m₁⋅m₂ + k₂ ⋅m₂  ⋅\n",
       "                                                                              \n",
       "                                                                              \n",
       "──────────────────────────────────────────────────────────────────────────────\n",
       "            ⎛                           ______________________________________\n",
       "            ⎜                          ╱   2   2                             2\n",
       "            ⎝k₁⋅m₂ - k₂⋅m₁ + k₂⋅m₂ + ╲╱  k₁ ⋅m₂  - 2⋅k₁⋅k₂⋅m₁⋅m₂ + 2⋅k₁⋅k₂⋅m₂ \n",
       "\n",
       "                                                         ⎛         ___________\n",
       "                                                         ⎜        ╱           \n",
       "______________________________________________      ⎞    ⎜       ╱            \n",
       "          2     2   2       2           2   2       ⎟    ⎜√2⋅t⋅╲╱   k₁⋅m₂ + k₂\n",
       "2⋅k₁⋅k₂⋅m₂  + k₂ ⋅m₁  + 2⋅k₂ ⋅m₁⋅m₂ + k₂ ⋅m₂  ⋅x₂(0)⎠⋅cos⎜────────────────────\n",
       "                                                         ⎜                    \n",
       "                                                         ⎝                    \n",
       "──────────────────────────────────────────────────────────────────────────────\n",
       "                                           ___________________________________\n",
       "  2   2       2           2   2           ╱   2   2                           \n",
       "k₂ ⋅m₁  + 2⋅k₂ ⋅m₁⋅m₂ + k₂ ⋅m₂  - k₂⋅m₁⋅╲╱  k₁ ⋅m₂  - 2⋅k₁⋅k₂⋅m₁⋅m₂ + 2⋅k₁⋅k₂⋅\n",
       "                                                                              \n",
       "                                                                              \n",
       "                                                                              \n",
       "        ⎛                                                 ____________________\n",
       "        ⎜  2   2                             2           ╱   2   2            \n",
       "x₂(0) + ⎝k₁ ⋅m₂  - 2⋅k₁⋅k₂⋅m₁⋅m₂ + 2⋅k₁⋅k₂⋅m₂  + k₁⋅m₂⋅╲╱  k₁ ⋅m₂  - 2⋅k₁⋅k₂⋅m\n",
       "                                                                              \n",
       "                                                                              \n",
       "──────────────────────────────────────────────────────────────────────────────\n",
       "___________________________________⎞ ⎛                                        \n",
       "     2   2       2           2   2 ⎟ ⎜  2   2                             2   \n",
       " + k₂ ⋅m₁  + 2⋅k₂ ⋅m₁⋅m₂ + k₂ ⋅m₂  ⎠⋅⎝k₁ ⋅m₂  - 2⋅k₁⋅k₂⋅m₁⋅m₂ + 2⋅k₁⋅k₂⋅m₂  + \n",
       "\n",
       "______________________________________________________________________________\n",
       "                 _____________________________________________________________\n",
       "                ╱   2   2                             2     2   2       2     \n",
       "⋅m₁ + k₂⋅m₂ - ╲╱  k₁ ⋅m₂  - 2⋅k₁⋅k₂⋅m₁⋅m₂ + 2⋅k₁⋅k₂⋅m₂  + k₂ ⋅m₁  + 2⋅k₂ ⋅m₁⋅m\n",
       "──────────────────────────────────────────────────────────────────────────────\n",
       "                                ____   ____                                   \n",
       "                            2⋅╲╱ m₁ ⋅╲╱ m₂                                    \n",
       "──────────────────────────────────────────────────────────────────────────────\n",
       "______________________________________            ____________________________\n",
       "  2     2   2       2           2   2            ╱   2   2                    \n",
       "m₂  + k₂ ⋅m₁  + 2⋅k₂ ⋅m₁⋅m₂ + k₂ ⋅m₂   + k₂⋅m₂⋅╲╱  k₁ ⋅m₂  - 2⋅k₁⋅k₂⋅m₁⋅m₂ + 2\n",
       "                                                                              \n",
       "                                                                              \n",
       "                                                                              \n",
       "_____________________________________________________                         \n",
       "                 2     2   2       2           2   2      2   2     2   2     \n",
       "₁⋅m₂ + 2⋅k₁⋅k₂⋅m₂  + k₂ ⋅m₁  + 2⋅k₂ ⋅m₁⋅m₂ + k₂ ⋅m₂   + k₂ ⋅m₁  + k₂ ⋅m₂  - k₂\n",
       "                                                                              \n",
       "                                                                              \n",
       "──────────────────────────────────────────────────────────────────────────────\n",
       "         _____________________________________________________________________\n",
       "        ╱   2   2                             2     2   2       2           2 \n",
       "k₁⋅m₂⋅╲╱  k₁ ⋅m₂  - 2⋅k₁⋅k₂⋅m₁⋅m₂ + 2⋅k₁⋅k₂⋅m₂  + k₂ ⋅m₁  + 2⋅k₂ ⋅m₁⋅m₂ + k₂ ⋅\n",
       "\n",
       "_____________⎞                                                                \n",
       "____________ ⎟                                                                \n",
       "      2   2  ⎟                                  ⎛                             \n",
       "₂ + k₂ ⋅m₂   ⎟                                  ⎜          2           2      \n",
       "─────────────⎟                                  ⎝- k₁⋅k₂⋅m₂ ⋅x₂(0) + k₂ ⋅m₁⋅m₂\n",
       "             ⎟                                                                \n",
       "             ⎠                                                                \n",
       "───────────────────────────────────────────── + ──────────────────────────────\n",
       "_____________________________________________                                 \n",
       "         2     2   2       2           2   2                                  \n",
       "⋅k₁⋅k₂⋅m₂  + k₂ ⋅m₁  + 2⋅k₂ ⋅m₁⋅m₂ + k₂ ⋅m₂                                   \n",
       "                                                                              \n",
       "                                                                              \n",
       "                                                                              \n",
       "       _______________________________________________________________________\n",
       "      ╱   2   2                             2     2   2       2           2   \n",
       "⋅m₁⋅╲╱  k₁ ⋅m₂  - 2⋅k₁⋅k₂⋅m₁⋅m₂ + 2⋅k₁⋅k₂⋅m₂  + k₂ ⋅m₁  + 2⋅k₂ ⋅m₁⋅m₂ + k₂ ⋅m₂\n",
       "                                                                              \n",
       "                                                                              \n",
       "──────────────────────────────────────────────────────────────────────────────\n",
       "____                                              ____________________________\n",
       "  2      2   2       2           2   2           ╱   2   2                    \n",
       "m₂   + k₂ ⋅m₁  + 2⋅k₂ ⋅m₁⋅m₂ + k₂ ⋅m₂  - k₂⋅m₁⋅╲╱  k₁ ⋅m₂  - 2⋅k₁⋅k₂⋅m₁⋅m₂ + 2\n",
       "\n",
       "                                                                              \n",
       "                                                                              \n",
       "                                  ____________________________________________\n",
       "           2   2                 ╱   2   2                             2     2\n",
       "⋅x₂(0) - k₂ ⋅m₂ ⋅x₂(0) - k₂⋅m₂⋅╲╱  k₁ ⋅m₂  - 2⋅k₁⋅k₂⋅m₁⋅m₂ + 2⋅k₁⋅k₂⋅m₂  + k₂ \n",
       "                                                                              \n",
       "                                                                              \n",
       "──────────────────────────────────────────────────────────────────────────────\n",
       "                                                                              \n",
       "                                                                              \n",
       "                                                                              \n",
       "                                                                              \n",
       "                                                                              \n",
       "                                                                              \n",
       "__            ________________________________________________________________\n",
       "2            ╱   2   2                             2     2   2       2        \n",
       "   + k₂⋅m₂⋅╲╱  k₁ ⋅m₂  - 2⋅k₁⋅k₂⋅m₁⋅m₂ + 2⋅k₁⋅k₂⋅m₂  + k₂ ⋅m₁  + 2⋅k₂ ⋅m₁⋅m₂ +\n",
       "                                                                              \n",
       "                                                                              \n",
       "──────────────────────────────────────────────────────────────────────────────\n",
       "_____________________________________________            _____________________\n",
       "         2     2   2       2           2   2            ╱   2   2             \n",
       "⋅k₁⋅k₂⋅m₂  + k₂ ⋅m₁  + 2⋅k₂ ⋅m₁⋅m₂ + k₂ ⋅m₂   + k₂⋅m₂⋅╲╱  k₁ ⋅m₂  - 2⋅k₁⋅k₂⋅m₁\n",
       "\n",
       "                                                                              \n",
       "                                                                              \n",
       "_____________________________         ⎛                                       \n",
       "   2       2           2   2          ⎜  2   2                             2  \n",
       "⋅m₁  + 2⋅k₂ ⋅m₁⋅m₂ + k₂ ⋅m₂  ⋅x₂(0) + ⎝k₁ ⋅m₂  - 2⋅k₁⋅k₂⋅m₁⋅m₂ + 2⋅k₁⋅k₂⋅m₂  +\n",
       "                                                                              \n",
       "                                                                              \n",
       "──────────────────────────────────────────────────────────────────────────────\n",
       "                                                                      ________\n",
       "                       2   2                             2           ╱   2   2\n",
       "                     k₁ ⋅m₂  - 2⋅k₁⋅k₂⋅m₁⋅m₂ + 2⋅k₁⋅k₂⋅m₂  + k₁⋅m₂⋅╲╱  k₁ ⋅m₂ \n",
       "                                                                              \n",
       "                     ⎛         _______________________________________________\n",
       "                     ⎜        ╱                            ___________________\n",
       "_________⎞      ⎞    ⎜       ╱                            ╱   2   2           \n",
       "   2   2 ⎟      ⎟    ⎜√2⋅t⋅╲╱   k₁⋅m₂ + k₂⋅m₁ + k₂⋅m₂ + ╲╱  k₁ ⋅m₂  - 2⋅k₁⋅k₂⋅\n",
       " k₂ ⋅m₂  ⎠⋅x₁(0)⎠⋅cos⎜────────────────────────────────────────────────────────\n",
       "                     ⎜                                                    ____\n",
       "                     ⎝                                                2⋅╲╱ m₁ \n",
       "──────────────────────────────────────────────────────────────────────────────\n",
       "____________________________________________________⎞                         \n",
       "                2     2   2       2           2   2 ⎟                         \n",
       "⋅m₂ + 2⋅k₁⋅k₂⋅m₂  + k₂ ⋅m₁  + 2⋅k₂ ⋅m₁⋅m₂ + k₂ ⋅m₂  ⎠                         \n",
       "\n",
       "                                                                              \n",
       "                                                                              \n",
       "          ____________________________________________________________________\n",
       "         ╱   2   2                             2     2   2       2           2\n",
       " k₁⋅m₂⋅╲╱  k₁ ⋅m₂  - 2⋅k₁⋅k₂⋅m₁⋅m₂ + 2⋅k₁⋅k₂⋅m₂  + k₂ ⋅m₁  + 2⋅k₂ ⋅m₁⋅m₂ + k₂ \n",
       "                                                                              \n",
       "                                                                              \n",
       "──────────────────────────────────────────────────────────────────────────────\n",
       "_________________________________________________________________             \n",
       "                             2     2   2       2           2   2      2   2   \n",
       " - 2⋅k₁⋅k₂⋅m₁⋅m₂ + 2⋅k₁⋅k₂⋅m₂  + k₂ ⋅m₁  + 2⋅k₂ ⋅m₁⋅m₂ + k₂ ⋅m₂   + k₂ ⋅m₁  + \n",
       "                                                                              \n",
       "_______________________________________________________⎞                      \n",
       "______________________________________________________ ⎟                      \n",
       "                  2     2   2       2           2   2  ⎟   ⎛                  \n",
       "m₁⋅m₂ + 2⋅k₁⋅k₂⋅m₂  + k₂ ⋅m₁  + 2⋅k₂ ⋅m₁⋅m₂ + k₂ ⋅m₂   ⎟   ⎜                  \n",
       "───────────────────────────────────────────────────────⎟   ⎝-k₂⋅m₁ + m₂⋅(k₁ + \n",
       "   ____                                                ⎟                      \n",
       "⋅╲╱ m₂                                                 ⎠                      \n",
       "──────────────────────────────────────────────────────── + ───────────────────\n",
       "                                                                             ⎛\n",
       "                                                                             ⎜\n",
       "                                                                           2⋅⎝\n",
       "\n",
       "                                                                              \n",
       "                                                                              \n",
       "_____                                _________________________________________\n",
       "   2      2   2     2   2           ╱   2   2                             2   \n",
       "⋅m₂   + k₂ ⋅m₁  + k₂ ⋅m₂  - k₂⋅m₁⋅╲╱  k₁ ⋅m₂  - 2⋅k₁⋅k₂⋅m₁⋅m₂ + 2⋅k₁⋅k₂⋅m₂  + \n",
       "                                                                              \n",
       "                                                                              \n",
       "──────────────────────────────────────────────────────────────────────────────\n",
       "                                 _____________________________________________\n",
       "    2           2   2           ╱   2   2                             2     2 \n",
       "2⋅k₂ ⋅m₁⋅m₂ + k₂ ⋅m₂  - k₂⋅m₁⋅╲╱  k₁ ⋅m₂  - 2⋅k₁⋅k₂⋅m₁⋅m₂ + 2⋅k₁⋅k₂⋅m₂  + k₂ ⋅\n",
       "                                                                              \n",
       "                                                                              \n",
       "                                                                              \n",
       "         _____________________________________________________________________\n",
       "        ╱   2   2                             2     2   2       2           2 \n",
       "k₂) + ╲╱  k₁ ⋅m₂  - 2⋅k₁⋅k₂⋅m₁⋅m₂ + 2⋅k₁⋅k₂⋅m₂  + k₂ ⋅m₁  + 2⋅k₂ ⋅m₁⋅m₂ + k₂ ⋅\n",
       "                                                                              \n",
       "                                                                              \n",
       "──────────────────────────────────────────────────────────────────────────────\n",
       "                                                 _____________________________\n",
       "  2   2                             2           ╱   2   2                     \n",
       "k₁ ⋅m₂  - 2⋅k₁⋅k₂⋅m₁⋅m₂ + 2⋅k₁⋅k₂⋅m₂  + k₁⋅m₂⋅╲╱  k₁ ⋅m₂  - 2⋅k₁⋅k₂⋅m₁⋅m₂ + 2⋅\n",
       "\n",
       "                                                                              \n",
       "                                                                              \n",
       "________________________________            __________________________________\n",
       "  2   2       2           2   2            ╱   2   2                          \n",
       "k₂ ⋅m₁  + 2⋅k₂ ⋅m₁⋅m₂ + k₂ ⋅m₂   + k₂⋅m₂⋅╲╱  k₁ ⋅m₂  - 2⋅k₁⋅k₂⋅m₁⋅m₂ + 2⋅k₁⋅k₂\n",
       "                                                                              \n",
       "                                                                              \n",
       "──────────────────────────────────────────────────────────────────────────────\n",
       "____________________________            ______________________________________\n",
       "  2       2           2   2            ╱   2   2                             2\n",
       "m₁  + 2⋅k₂ ⋅m₁⋅m₂ + k₂ ⋅m₂   + k₂⋅m₂⋅╲╱  k₁ ⋅m₂  - 2⋅k₁⋅k₂⋅m₁⋅m₂ + 2⋅k₁⋅k₂⋅m₂ \n",
       "                                                                              \n",
       "                                                                              \n",
       "                                                                              \n",
       "____⎞ ⎛                                                             __________\n",
       "  2 ⎟ ⎜                                                            ╱   2   2  \n",
       "m₂  ⎠⋅⎝k₁⋅m₂⋅x₂(0) + 2⋅k₂⋅m₁⋅x₁(0) - k₂⋅m₁⋅x₂(0) + k₂⋅m₂⋅x₂(0) + ╲╱  k₁ ⋅m₂  -\n",
       "                                                                              \n",
       "                                                                              \n",
       "──────────────────────────────────────────────────────────────────────────────\n",
       "____________________________________________                                  \n",
       "        2     2   2       2           2   2      2   2       2           2   2\n",
       "k₁⋅k₂⋅m₂  + k₂ ⋅m₁  + 2⋅k₂ ⋅m₁⋅m₂ + k₂ ⋅m₂   + k₂ ⋅m₁  + 2⋅k₂ ⋅m₁⋅m₂ + k₂ ⋅m₂ \n",
       "\n",
       "                                                   ⎛         _________________\n",
       "                                                   ⎜        ╱                 \n",
       "_______________________________________⎞      ⎞    ⎜       ╱                  \n",
       "   2     2   2       2           2   2 ⎟      ⎟    ⎜√2⋅t⋅╲╱   k₁⋅m₂ + k₂⋅m₁ + \n",
       "⋅m₂  + k₂ ⋅m₁  + 2⋅k₂ ⋅m₁⋅m₂ + k₂ ⋅m₂  ⎠⋅x₁(0)⎠⋅cos⎜──────────────────────────\n",
       "                                                   ⎜                          \n",
       "                                                   ⎝                          \n",
       "──────────────────────────────────────────────────────────────────────────────\n",
       "___________________________________                                           \n",
       "     2   2       2           2   2                                            \n",
       " + k₂ ⋅m₁  + 2⋅k₂ ⋅m₁⋅m₂ + k₂ ⋅m₂                                             \n",
       "                                                                              \n",
       "                                                                          ⎛   \n",
       "                                                                          ⎜   \n",
       "_______________________________________________________________      ⎞    ⎜   \n",
       "                           2     2   2       2           2   2       ⎟    ⎜√2⋅\n",
       " 2⋅k₁⋅k₂⋅m₁⋅m₂ + 2⋅k₁⋅k₂⋅m₂  + k₂ ⋅m₁  + 2⋅k₂ ⋅m₁⋅m₂ + k₂ ⋅m₂  ⋅x₂(0)⎠⋅cos⎜───\n",
       "                                                                          ⎜   \n",
       "                                                                          ⎝   \n",
       "──────────────────────────────────────────────────────────────────────────────\n",
       "            __________________________________________________________________\n",
       "           ╱   2   2                             2     2   2       2          \n",
       " - k₂⋅m₁⋅╲╱  k₁ ⋅m₂  - 2⋅k₁⋅k₂⋅m₁⋅m₂ + 2⋅k₁⋅k₂⋅m₂  + k₂ ⋅m₁  + 2⋅k₂ ⋅m₁⋅m₂ + k\n",
       "\n",
       "______________________________________________________________________________\n",
       "           ___________________________________________________________________\n",
       "          ╱   2   2                             2     2   2       2           \n",
       "k₂⋅m₂ + ╲╱  k₁ ⋅m₂  - 2⋅k₁⋅k₂⋅m₁⋅m₂ + 2⋅k₁⋅k₂⋅m₂  + k₂ ⋅m₁  + 2⋅k₂ ⋅m₁⋅m₂ + k₂\n",
       "──────────────────────────────────────────────────────────────────────────────\n",
       "                          ____   ____                                         \n",
       "                      2⋅╲╱ m₁ ⋅╲╱ m₂                                          \n",
       "──────────────────────────────────────────────────────────────────────────────\n",
       "                                                                              \n",
       "                                                                              \n",
       "                                                                              \n",
       "                                                                              \n",
       "      ________________________________________________________________________\n",
       "     ╱                            ____________________________________________\n",
       "    ╱                            ╱   2   2                             2     2\n",
       "t⋅╲╱   k₁⋅m₂ + k₂⋅m₁ + k₂⋅m₂ - ╲╱  k₁ ⋅m₂  - 2⋅k₁⋅k₂⋅m₁⋅m₂ + 2⋅k₁⋅k₂⋅m₂  + k₂ \n",
       "──────────────────────────────────────────────────────────────────────────────\n",
       "                                                 ____   ____                  \n",
       "                                             2⋅╲╱ m₁ ⋅╲╱ m₂                   \n",
       "──────────────────────────────────────────────────────────────────────────────\n",
       "_______            ___________________________________________________________\n",
       " 2   2            ╱   2   2                             2     2   2       2   \n",
       "₂ ⋅m₂   + k₂⋅m₂⋅╲╱  k₁ ⋅m₂  - 2⋅k₁⋅k₂⋅m₁⋅m₂ + 2⋅k₁⋅k₂⋅m₂  + k₂ ⋅m₁  + 2⋅k₂ ⋅m₁\n",
       "\n",
       "_______⎞                       ⎤\n",
       "______ ⎟                       ⎥\n",
       "2   2  ⎟                       ⎥\n",
       " ⋅m₂   ⎟                       ⎥\n",
       "───────⎟                       ⎥\n",
       "       ⎟                       ⎥\n",
       "       ⎠                       ⎥\n",
       "────────                       ⎥\n",
       "                               ⎥\n",
       "                               ⎥\n",
       "                               ⎥\n",
       "                               ⎥\n",
       "______________________________⎞⎥\n",
       "_____________________________ ⎟⎥\n",
       "   2       2           2   2  ⎟⎥\n",
       "⋅m₁  + 2⋅k₂ ⋅m₁⋅m₂ + k₂ ⋅m₂   ⎟⎥\n",
       "──────────────────────────────⎟⎥\n",
       "                              ⎟⎥\n",
       "                              ⎠⎥\n",
       "───────────────────────────────⎥\n",
       "______________⎞                ⎥\n",
       "        2   2 ⎟                ⎥\n",
       "⋅m₂ + k₂ ⋅m₂  ⎠                ⎦"
      ]
     },
     "execution_count": 41,
     "metadata": {},
     "output_type": "execute_result"
    }
   ],
   "source": [
    "vecX_final = vecX_fases.subs(inicial_amplitudes)\n",
    "vecX_final"
   ]
  },
  {
   "cell_type": "markdown",
   "metadata": {},
   "source": [
    "Se establecen parámetros físicos del sistema."
   ]
  },
  {
   "cell_type": "code",
   "execution_count": 42,
   "metadata": {},
   "outputs": [],
   "source": [
    "parametros = {\n",
    "    m1 : 20,\n",
    "    m2 : 10,\n",
    "    k1 : 20000,\n",
    "    k2 : 13200,\n",
    "    c1 : 200,\n",
    "    c2 : 350,\n",
    "} # [kg], [N m-1], [N m-1 s]"
   ]
  },
  {
   "cell_type": "markdown",
   "metadata": {},
   "source": [
    "Se establecen posiciones iniciales $x_1(t=0), x_2(t=0)$"
   ]
  },
  {
   "cell_type": "code",
   "execution_count": 43,
   "metadata": {},
   "outputs": [
    {
     "data": {
      "image/png": "[encoded data removed]",
      "text/latex": [
       "$\\displaystyle \\left\\{ \\operatorname{x_1}\\left(0\\right) : 0.5, \\  \\operatorname{x_2}\\left(0\\right) : 1.0\\right\\}$"
      ],
      "text/plain": [
       "{x₁(0): 0.5, x₂(0): 1.0}"
      ]
     },
     "execution_count": 43,
     "metadata": {},
     "output_type": "execute_result"
    }
   ],
   "source": [
    "posicionesIniciales = {\n",
    "    x1.subs(t,0) : 0.5,\n",
    "    x2.subs(t,0) : 1.0,\n",
    "} # [m]\n",
    "posicionesIniciales"
   ]
  },
  {
   "cell_type": "code",
   "execution_count": 44,
   "metadata": {},
   "outputs": [
    {
     "data": {
      "text/latex": [
       "$\\displaystyle \\left[\\begin{matrix}x_{1}\\\\x_{2}\\end{matrix}\\right] = \\left[\\begin{matrix}\\frac{132000 \\left(332000.0 + 4000.0 \\sqrt{9001}\\right) \\operatorname{cos}\\left(\\frac{t \\sqrt{596000 - 4000 \\sqrt{9001}}}{20}\\right)}{272000000 \\sqrt{9001} + 144016000000} + \\frac{\\left(28184000000.0 - 392000000.0 \\sqrt{9001}\\right) \\operatorname{cos}\\left(\\frac{t \\sqrt{4000 \\sqrt{9001} + 596000}}{20}\\right)}{272000000 \\sqrt{9001} + 144016000000}\\\\\\frac{\\left(68000 + 4000 \\sqrt{9001}\\right) \\left(332000.0 + 4000.0 \\sqrt{9001}\\right) \\operatorname{cos}\\left(\\frac{t \\sqrt{596000 - 4000 \\sqrt{9001}}}{20}\\right)}{2 \\left(272000000 \\sqrt{9001} + 144016000000\\right)} - \\frac{528000 \\left(28184000000.0 - 392000000.0 \\sqrt{9001}\\right) \\operatorname{cos}\\left(\\frac{t \\sqrt{4000 \\sqrt{9001} + 596000}}{20}\\right)}{\\left(68000 + 4000 \\sqrt{9001}\\right) \\left(272000000 \\sqrt{9001} + 144016000000\\right)}\\end{matrix}\\right]$"
      ],
      "text/plain": [
       "       ⎡                                              ⎛    ___________________\n",
       "       ⎢                                              ⎜t⋅╲╱ 596000 - 4000⋅√900\n",
       "       ⎢          132000⋅(332000.0 + 4000.0⋅√9001)⋅cos⎜───────────────────────\n",
       "       ⎢                                              ⎝            20         \n",
       "       ⎢          ────────────────────────────────────────────────────────────\n",
       "⎡x₁⎤   ⎢                           272000000⋅√9001 + 144016000000             \n",
       "⎢  ⎥ = ⎢                                                                      \n",
       "⎣x₂⎦   ⎢                                                  ⎛    _______________\n",
       "       ⎢                                                  ⎜t⋅╲╱ 596000 - 4000⋅\n",
       "       ⎢(68000 + 4000⋅√9001)⋅(332000.0 + 4000.0⋅√9001)⋅cos⎜───────────────────\n",
       "       ⎢                                                  ⎝            20     \n",
       "       ⎢──────────────────────────────────────────────────────────────────────\n",
       "       ⎣                      2⋅(272000000⋅√9001 + 144016000000)              \n",
       "\n",
       "__⎞                                          ⎛    _____________________⎞      \n",
       "1 ⎟                                          ⎜t⋅╲╱ 4000⋅√9001 + 596000 ⎟      \n",
       "──⎟   (28184000000.0 - 392000000.0⋅√9001)⋅cos⎜─────────────────────────⎟      \n",
       "  ⎠                                          ⎝            20           ⎠      \n",
       "─── + ──────────────────────────────────────────────────────────────────      \n",
       "                        272000000⋅√9001 + 144016000000                        \n",
       "                                                                              \n",
       "______⎞                                                 ⎛    _________________\n",
       "√9001 ⎟                                                 ⎜t⋅╲╱ 4000⋅√9001 + 596\n",
       "──────⎟   528000⋅(28184000000.0 - 392000000.0⋅√9001)⋅cos⎜─────────────────────\n",
       "      ⎠                                                 ⎝            20       \n",
       "─────── - ────────────────────────────────────────────────────────────────────\n",
       "                    (68000 + 4000⋅√9001)⋅(272000000⋅√9001 + 144016000000)     \n",
       "\n",
       "     ⎤\n",
       "     ⎥\n",
       "     ⎥\n",
       "     ⎥\n",
       "     ⎥\n",
       "     ⎥\n",
       "     ⎥\n",
       "____⎞⎥\n",
       "000 ⎟⎥\n",
       "────⎟⎥\n",
       "    ⎠⎥\n",
       "─────⎥\n",
       "     ⎦"
      ]
     },
     "execution_count": 44,
     "metadata": {},
     "output_type": "execute_result"
    }
   ],
   "source": [
    "vecX_parametros = vecX_final.subs(parametros).subs(posicionesIniciales)\n",
    "vecX_parametros"
   ]
  },
  {
   "cell_type": "markdown",
   "metadata": {},
   "source": [
    "## Graficación"
   ]
  },
  {
   "cell_type": "code",
   "execution_count": 45,
   "metadata": {},
   "outputs": [
    {
     "data": {
      "image/png": "[encoded data removed]",
      "text/plain": [
       "<Figure size 432x288 with 1 Axes>"
      ]
     },
     "metadata": {
      "needs_background": "light"
     },
     "output_type": "display_data"
    }
   ],
   "source": [
    "graficaUno = sym.plot(vecX_parametros.rhs[0], vecX_parametros.rhs[1],\n",
    "                      (t, 0, 5), ylabel='x [m]', xlabel='t [s]', legend=True, show=False)\n",
    "graficaUno[0].line_color='r'\n",
    "graficaUno[0].label='$x_1$'\n",
    "graficaUno[1].label='$x_2$'\n",
    "graficaUno.show()"
   ]
  },
  {
   "cell_type": "markdown",
   "metadata": {},
   "source": [
    "Evidentemente el haber establecido $x_1(0), x_2(0)$ con el mismo signo terminó excitando en mayor medida el primer modo con las dos $x_i$ desplazandose hacia el mismo lado.\n",
    "Ahora sería interesante hacer lo opuesto, excitar exclusivamente el 2.o modo.\n",
    "Para eso averiguaremos que posiciones iniciales hacen eso.\n",
    "En la siguiente expresión"
   ]
  },
  {
   "cell_type": "code",
   "execution_count": 46,
   "metadata": {},
   "outputs": [
    {
     "data": {
      "text/latex": [
       "$\\displaystyle \\left[\\begin{matrix}\\operatorname{x_1}\\left(0\\right)\\\\\\operatorname{x_2}\\left(0\\right)\\end{matrix}\\right] = \\left[\\begin{matrix}a_{11} + a_{21}\\\\\\frac{a_{11} \\left(- k_{2} m_{1} + m_{2} \\left(k_{1} + k_{2}\\right) + \\sqrt{k_{1}^{2} m_{2}^{2} - 2 k_{1} k_{2} m_{1} m_{2} + 2 k_{1} k_{2} m_{2}^{2} + k_{2}^{2} m_{1}^{2} + 2 k_{2}^{2} m_{1} m_{2} + k_{2}^{2} m_{2}^{2}}\\right)}{2 k_{2} m_{2}} - \\frac{2 a_{21} k_{2} m_{1}}{k_{1} m_{2} - k_{2} m_{1} + k_{2} m_{2} + \\sqrt{k_{1}^{2} m_{2}^{2} - 2 k_{1} k_{2} m_{1} m_{2} + 2 k_{1} k_{2} m_{2}^{2} + k_{2}^{2} m_{1}^{2} + 2 k_{2}^{2} m_{1} m_{2} + k_{2}^{2} m_{2}^{2}}}\\end{matrix}\\right]$"
      ],
      "text/plain": [
       "          ⎡                                                                   \n",
       "          ⎢                                                                   \n",
       "          ⎢       ⎛                           ________________________________\n",
       "⎡x₁(0)⎤   ⎢       ⎜                          ╱   2   2                        \n",
       "⎢     ⎥ = ⎢a_{11}⋅⎝-k₂⋅m₁ + m₂⋅(k₁ + k₂) + ╲╱  k₁ ⋅m₂  - 2⋅k₁⋅k₂⋅m₁⋅m₂ + 2⋅k₁⋅\n",
       "⎣x₂(0)⎦   ⎢───────────────────────────────────────────────────────────────────\n",
       "          ⎢                                                   2⋅k₂⋅m₂         \n",
       "          ⎢                                                                   \n",
       "          ⎣                                                                   \n",
       "\n",
       "                               a_{11} + a_{21}                                \n",
       "                                                                              \n",
       "_________________________________________⎞                                    \n",
       "     2     2   2       2           2   2 ⎟                                    \n",
       "k₂⋅m₂  + k₂ ⋅m₁  + 2⋅k₂ ⋅m₁⋅m₂ + k₂ ⋅m₂  ⎠                                    \n",
       "────────────────────────────────────────── - ─────────────────────────────────\n",
       "                                                                        ______\n",
       "                                                                       ╱   2  \n",
       "                                             k₁⋅m₂ - k₂⋅m₁ + k₂⋅m₂ + ╲╱  k₁ ⋅m\n",
       "\n",
       "                                                                   ⎤\n",
       "                                                                   ⎥\n",
       "                                                                   ⎥\n",
       "                                                                   ⎥\n",
       "          2⋅a_{21}⋅k₂⋅m₁                                           ⎥\n",
       "───────────────────────────────────────────────────────────────────⎥\n",
       "___________________________________________________________________⎥\n",
       " 2                             2     2   2       2           2   2 ⎥\n",
       "₂  - 2⋅k₁⋅k₂⋅m₁⋅m₂ + 2⋅k₁⋅k₂⋅m₂  + k₂ ⋅m₁  + 2⋅k₂ ⋅m₁⋅m₂ + k₂ ⋅m₂  ⎦"
      ]
     },
     "execution_count": 46,
     "metadata": {},
     "output_type": "execute_result"
    }
   ],
   "source": [
    "vecX_posicionesIniciales"
   ]
  },
  {
   "cell_type": "markdown",
   "metadata": {},
   "source": [
    "se establece"
   ]
  },
  {
   "cell_type": "code",
   "execution_count": 47,
   "metadata": {},
   "outputs": [
    {
     "data": {
      "text/latex": [
       "$\\displaystyle \\left[\\begin{matrix}\\operatorname{x_1}\\left(0\\right)\\\\\\operatorname{x_2}\\left(0\\right)\\end{matrix}\\right] = \\left[\\begin{matrix}1\\\\- \\frac{2 k_{2} m_{1}}{k_{1} m_{2} - k_{2} m_{1} + k_{2} m_{2} + \\sqrt{k_{1}^{2} m_{2}^{2} - 2 k_{1} k_{2} m_{1} m_{2} + 2 k_{1} k_{2} m_{2}^{2} + k_{2}^{2} m_{1}^{2} + 2 k_{2}^{2} m_{1} m_{2} + k_{2}^{2} m_{2}^{2}}}\\end{matrix}\\right]$"
      ],
      "text/plain": [
       "          ⎡                                                 1                 \n",
       "          ⎢                                                                   \n",
       "⎡x₁(0)⎤   ⎢                                             -2⋅k₂⋅m₁              \n",
       "⎢     ⎥ = ⎢───────────────────────────────────────────────────────────────────\n",
       "⎣x₂(0)⎦   ⎢                           ________________________________________\n",
       "          ⎢                          ╱   2   2                             2  \n",
       "          ⎣k₁⋅m₂ - k₂⋅m₁ + k₂⋅m₂ + ╲╱  k₁ ⋅m₂  - 2⋅k₁⋅k₂⋅m₁⋅m₂ + 2⋅k₁⋅k₂⋅m₂  +\n",
       "\n",
       "                                 ⎤\n",
       "                                 ⎥\n",
       "                                 ⎥\n",
       "─────────────────────────────────⎥\n",
       "_________________________________⎥\n",
       "   2   2       2           2   2 ⎥\n",
       " k₂ ⋅m₁  + 2⋅k₂ ⋅m₁⋅m₂ + k₂ ⋅m₂  ⎦"
      ]
     },
     "execution_count": 47,
     "metadata": {},
     "output_type": "execute_result"
    }
   ],
   "source": [
    "vecX_posicionesIniciales_solo2doModo = vecX_posicionesIniciales.subs([(a_11, 0), (a_21, 1)])\n",
    "vecX_posicionesIniciales_solo2doModo"
   ]
  },
  {
   "cell_type": "markdown",
   "metadata": {},
   "source": [
    "y se reemplazan estas $x_1(0), x_2(0)$ en la solución general que parte del reposo."
   ]
  },
  {
   "cell_type": "code",
   "execution_count": 48,
   "metadata": {},
   "outputs": [
    {
     "data": {
      "image/png": "[encoded data removed]",
      "text/latex": [
       "$\\displaystyle \\left\\{ \\operatorname{x_1}\\left(0\\right) : 1, \\  \\operatorname{x_2}\\left(0\\right) : - \\frac{2 k_{2} m_{1}}{k_{1} m_{2} - k_{2} m_{1} + k_{2} m_{2} + \\sqrt{k_{1}^{2} m_{2}^{2} - 2 k_{1} k_{2} m_{1} m_{2} + 2 k_{1} k_{2} m_{2}^{2} + k_{2}^{2} m_{1}^{2} + 2 k_{2}^{2} m_{1} m_{2} + k_{2}^{2} m_{2}^{2}}}\\right\\}$"
      ],
      "text/plain": [
       "⎧                                                              -2⋅k₂⋅m₁       \n",
       "⎪x₁(0): 1, x₂(0): ────────────────────────────────────────────────────────────\n",
       "⎨                                            _________________________________\n",
       "⎪                                           ╱   2   2                         \n",
       "⎩                 k₁⋅m₂ - k₂⋅m₁ + k₂⋅m₂ + ╲╱  k₁ ⋅m₂  - 2⋅k₁⋅k₂⋅m₁⋅m₂ + 2⋅k₁⋅k\n",
       "\n",
       "                                        ⎫\n",
       "────────────────────────────────────────⎪\n",
       "________________________________________⎬\n",
       "    2     2   2       2           2   2 ⎪\n",
       "₂⋅m₂  + k₂ ⋅m₁  + 2⋅k₂ ⋅m₁⋅m₂ + k₂ ⋅m₂  ⎭"
      ]
     },
     "execution_count": 48,
     "metadata": {},
     "output_type": "execute_result"
    }
   ],
   "source": [
    "posicionesIniciales_solo2doModo = {\n",
    "    x1.subs(t,0) : vecX_posicionesIniciales_solo2doModo.rhs[0],\n",
    "    x2.subs(t,0) : vecX_posicionesIniciales_solo2doModo.rhs[1],\n",
    "}\n",
    "posicionesIniciales_solo2doModo"
   ]
  },
  {
   "cell_type": "markdown",
   "metadata": {},
   "source": [
    "Substituyendo los parámetros en la expresión se hace evidente que con $x_1(0)$ extendiendose a un lado, $x_2(0)$ lo hace hacia el otro."
   ]
  },
  {
   "cell_type": "code",
   "execution_count": 49,
   "metadata": {},
   "outputs": [
    {
     "data": {
      "image/png": "[encoded data removed]",
      "text/latex": [
       "$\\displaystyle \\left( 1, \\  -1.1799030321428\\right)$"
      ],
      "text/plain": [
       "(1, -1.1799030321428)"
      ]
     },
     "execution_count": 49,
     "metadata": {},
     "output_type": "execute_result"
    }
   ],
   "source": [
    "posicionesIniciales_solo2doModo[x1.subs(t,0)], posicionesIniciales_solo2doModo[x2.subs(t,0)].subs(parametros).evalf()"
   ]
  },
  {
   "cell_type": "code",
   "execution_count": 50,
   "metadata": {},
   "outputs": [
    {
     "data": {
      "text/latex": [
       "$\\displaystyle \\left[\\begin{matrix}x_{1}\\\\x_{2}\\end{matrix}\\right] = \\left[\\begin{matrix}\\frac{132000 \\left(- \\frac{2112000000 \\sqrt{9001}}{68000 + 4000 \\sqrt{9001}} - \\frac{35904000000}{68000 + 4000 \\sqrt{9001}} + 528000\\right) \\operatorname{cos}\\left(\\frac{t \\sqrt{596000 - 4000 \\sqrt{9001}}}{20}\\right)}{272000000 \\sqrt{9001} + 144016000000} + \\frac{\\left(\\frac{4739328000000000}{68000 + 4000 \\sqrt{9001}} + 272000000 \\sqrt{9001} + \\frac{278784000000000 \\sqrt{9001}}{68000 + 4000 \\sqrt{9001}} + 74320000000\\right) \\operatorname{cos}\\left(\\frac{t \\sqrt{4000 \\sqrt{9001} + 596000}}{20}\\right)}{272000000 \\sqrt{9001} + 144016000000}\\\\\\frac{\\left(68000 + 4000 \\sqrt{9001}\\right) \\left(- \\frac{2112000000 \\sqrt{9001}}{68000 + 4000 \\sqrt{9001}} - \\frac{35904000000}{68000 + 4000 \\sqrt{9001}} + 528000\\right) \\operatorname{cos}\\left(\\frac{t \\sqrt{596000 - 4000 \\sqrt{9001}}}{20}\\right)}{2 \\left(272000000 \\sqrt{9001} + 144016000000\\right)} - \\frac{528000 \\left(\\frac{4739328000000000}{68000 + 4000 \\sqrt{9001}} + 272000000 \\sqrt{9001} + \\frac{278784000000000 \\sqrt{9001}}{68000 + 4000 \\sqrt{9001}} + 74320000000\\right) \\operatorname{cos}\\left(\\frac{t \\sqrt{4000 \\sqrt{9001} + 596000}}{20}\\right)}{\\left(68000 + 4000 \\sqrt{9001}\\right) \\left(272000000 \\sqrt{9001} + 144016000000\\right)}\\end{matrix}\\right]$"
      ],
      "text/plain": [
       "       ⎡                                                                      \n",
       "       ⎢                 ⎛   2112000000⋅√9001       35904000000             ⎞ \n",
       "       ⎢          132000⋅⎜- ────────────────── - ────────────────── + 528000⎟⋅\n",
       "       ⎢                 ⎝  68000 + 4000⋅√9001   68000 + 4000⋅√9001         ⎠ \n",
       "       ⎢          ────────────────────────────────────────────────────────────\n",
       "⎡x₁⎤   ⎢                                        272000000⋅√9001 + 144016000000\n",
       "⎢  ⎥ = ⎢                                                                      \n",
       "⎣x₂⎦   ⎢                                                                      \n",
       "       ⎢                     ⎛   2112000000⋅√9001       35904000000           \n",
       "       ⎢(68000 + 4000⋅√9001)⋅⎜- ────────────────── - ────────────────── + 5280\n",
       "       ⎢                     ⎝  68000 + 4000⋅√9001   68000 + 4000⋅√9001       \n",
       "       ⎢──────────────────────────────────────────────────────────────────────\n",
       "       ⎣                                   2⋅(272000000⋅√9001 + 144016000000) \n",
       "\n",
       "   ⎛    _____________________⎞                                                \n",
       "   ⎜t⋅╲╱ 596000 - 4000⋅√9001 ⎟   ⎛ 4739328000000000                      27878\n",
       "cos⎜─────────────────────────⎟   ⎜────────────────── + 272000000⋅√9001 + ─────\n",
       "   ⎝            20           ⎠   ⎝68000 + 4000⋅√9001                       680\n",
       "────────────────────────────── + ─────────────────────────────────────────────\n",
       "                                                                        272000\n",
       "                                                                              \n",
       "       ⎛    _____________________⎞                                            \n",
       "  ⎞    ⎜t⋅╲╱ 596000 - 4000⋅√9001 ⎟          ⎛ 4739328000000000                \n",
       "00⎟⋅cos⎜─────────────────────────⎟   528000⋅⎜────────────────── + 272000000⋅√9\n",
       "  ⎠    ⎝            20           ⎠          ⎝68000 + 4000⋅√9001               \n",
       "────────────────────────────────── - ─────────────────────────────────────────\n",
       "                                                                   (68000 + 40\n",
       "\n",
       "                                   ⎛    _____________________⎞           ⎤\n",
       "4000000000⋅√9001              ⎞    ⎜t⋅╲╱ 4000⋅√9001 + 596000 ⎟           ⎥\n",
       "──────────────── + 74320000000⎟⋅cos⎜─────────────────────────⎟           ⎥\n",
       "00 + 4000⋅√9001               ⎠    ⎝            20           ⎠           ⎥\n",
       "──────────────────────────────────────────────────────────────           ⎥\n",
       "000⋅√9001 + 144016000000                                                 ⎥\n",
       "                                                                         ⎥\n",
       "                                              ⎛    _____________________⎞⎥\n",
       "      278784000000000⋅√9001              ⎞    ⎜t⋅╲╱ 4000⋅√9001 + 596000 ⎟⎥\n",
       "001 + ───────────────────── + 74320000000⎟⋅cos⎜─────────────────────────⎟⎥\n",
       "        68000 + 4000⋅√9001               ⎠    ⎝            20           ⎠⎥\n",
       "─────────────────────────────────────────────────────────────────────────⎥\n",
       "00⋅√9001)⋅(272000000⋅√9001 + 144016000000)                               ⎦"
      ]
     },
     "execution_count": 50,
     "metadata": {},
     "output_type": "execute_result"
    }
   ],
   "source": [
    "vecX_solo2doModo = vecX_final.subs(posicionesIniciales_solo2doModo).subs(parametros)\n",
    "vecX_solo2doModo"
   ]
  },
  {
   "cell_type": "code",
   "execution_count": 51,
   "metadata": {},
   "outputs": [
    {
     "data": {
      "image/png": "[encoded data removed]",
      "text/plain": [
       "<Figure size 432x288 with 1 Axes>"
      ]
     },
     "metadata": {
      "needs_background": "light"
     },
     "output_type": "display_data"
    }
   ],
   "source": [
    "grafica_solo2doModo = sym.plot(vecX_solo2doModo.rhs[0], vecX_solo2doModo.rhs[1],\n",
    "                      (t, 0, 1), ylabel='x [m]', xlabel='t [s]', legend=True, show=False)\n",
    "grafica_solo2doModo[0].line_color='r'\n",
    "grafica_solo2doModo[0].label='$x_1$'\n",
    "grafica_solo2doModo[1].label='$x_2$'\n",
    "grafica_solo2doModo.show()"
   ]
  },
  {
   "cell_type": "markdown",
   "metadata": {},
   "source": [
    "Puede verse que la frecuencia es mucho mayor.\n",
    "La escala tiene $1/5$ de la extensión de la anterior.\n",
    "Es decir, que partir de las amplitudes relativas propias de $\\omega_2$ hace que el sistema oscile con tal frecuencia superior a $\\omega_1$."
   ]
  }
 ],
 "metadata": {
  "kernelspec": {
   "display_name": "Python 3",
   "language": "python",
   "name": "python3"
  },
  "language_info": {
   "codemirror_mode": {
    "name": "ipython",
    "version": 3
   },
   "file_extension": ".py",
   "mimetype": "text/x-python",
   "name": "python",
   "nbconvert_exporter": "python",
   "pygments_lexer": "ipython3",
   "version": "3.7.3"
  }
 },
 "nbformat": 4,
 "nbformat_minor": 4
}
