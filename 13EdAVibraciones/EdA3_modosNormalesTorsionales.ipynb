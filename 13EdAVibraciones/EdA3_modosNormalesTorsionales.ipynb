{
 "cells": [
  {
   "cell_type": "markdown",
   "metadata": {},
   "source": [
    "# EdA3 | Modos normales torsionales\n",
    "\n",
    "© 2020 Víctor A. Bettachini  \n",
    "Mecánica General  \n",
    "Departamento de Ingeniería e Investigación Tecnológica  \n",
    "Universidad Nacional de La Matanza   \n",
    "\n",
    "![](ambos.png \"UNLaM | DIIT\")  \n",
    " \n",
    "--- "
   ]
  },
  {
   "cell_type": "markdown",
   "metadata": {},
   "source": [
    "## Enunciado\n",
    "\n",
    "El sistema de la figura consiste en un eje atraviesa tres discos que tienen por momentos de inercia \\\\(I_1, I_2\\\\) e \\\\(I_3\\\\) todos de igual magnitud \\\\(10^3\\mathrm{kg\\, m^2}\\\\).\n",
    "El eje de acero tiene un diámetro \\\\(d = 0.01\\mathrm{m}\\\\) y sus secciones longitudes de \\\\(l_1 = l_2 = l_3 = 0.5\\mathrm{m}\\\\).\n",
    "\n",
    "![](shabana_fig_P3_5.png)\n",
    "\n",
    "\n",
    "Recordemos que para una coordenada angular \\\\(\\theta\\\\)la ecuación de Euler-Lagrange es\n",
    "\\\\[\n",
    "\t\\Gamma \\dot{\\theta} + \\kappa \\theta + I \\ddot{\\theta} = \\tau,\n",
    "\\\\]\n",
    "donde \\\\(\\Gamma\\\\) en la fricción torsional, \\\\(I\\\\) el momento de inercia, \\(\\tau\\\\) el torque aplicado.\n",
    "\\\\(\\kappa\\\\) es la [rigidez torsional (torsional stiffness) o coeficiente de torsión](https://es.wikipedia.org/wiki/Resorte_de_torsi%C3%B3n#Coeficiente_de_torsi%C3%B3n) que responde al torque restitutivo que ejerce la pieza al ser torcida en un ángulo unidad, \\\\(\\tau_\\text{restitutivo} = - \\kappa \\theta\\\\) y su magnitud la determina \n",
    "\\\\[\n",
    "\t\\kappa = \\frac{G J}{l},\n",
    "\\\\]\n",
    "donde \\\\(l\\\\) es la longitud de la pieza, \\\\(G\\\\) el [módulo de cilladura (shear modulus)](https://es.wikipedia.org/wiki/M%C3%B3dulo_de_cizalladura) específico de cada material, y \\\\(J\\\\) es el [módulo o momento de torsión](https://es.wikipedia.org/wiki/Módulo_de_torsión) de la sección geométrica transversal a la dirección de \\\\(\\vec{\\tau}\\\\).\n",
    "Para una sección circular \\\\(J\\\\) es igual al segundo momento del área, o [momento de inercia polar](https://es.wikipedia.org/wiki/Segundo_momento_de_%C3%A1rea)\n",
    "\\\\[\n",
    "\tJ_{zz} = J_{xx} + J_{yy} = \\frac{\\pi r^4}{2} = \\frac{\\pi d^4}{32}.\n",
    "\\\\]\n",
    "Según el documento [Mechanical Properties of Structural Steels](https://tsapps.nist.gov/publication/get_pdf.cfm?pub_id=101021) publicado por National Institute of Standards and Technology estadounidense, para el acero estructural de las [torres 1 y 2 del World Trade Center de Nueva York desaparecidas el año 2001](https://es.wikipedia.org/wiki/World_Trade_Center_(1973-2001)),\n",
    "\\\\[\n",
    "\t\\begin{aligned}\n",
    "\t\tG &= g_0 + g_1 T + g_2 T^2 + g_3 T^3 + g_4 T^4 + g_5 T^5\\\\\n",
    "\t\tg_0 &= 80.005922 \\, \\mathrm{GPa}\\\\\n",
    "\t\tg_1 &= -0.018303811 \\, \\mathrm{GPa\\,C^{-1}}\\\\\n",
    "\t\tg_2 &= -1.5650288 \\, 10^{-5} \\, \\mathrm{GPa\\,C^{-2}}\\\\\n",
    "\t\tg_3 &= -0.018303811 \\, \\mathrm{GPa\\,C^{-3}}\\\\\n",
    "\t\tg_4 &= -0.018303811 \\, \\mathrm{GPa\\,C^{-4}}\\\\\n",
    "\t\tg_5 &= -0.018303811 \\, \\mathrm{GPa\\,C^{-5}}\\\\\n",
    "\t\\end{aligned}\n",
    "\\\\]\n",
    "\n",
    "Descartando la fricción rotacional \\\\(\\Gamma\\\\):\n",
    "1. obtenga las ecuaciones de Euler-Lagrange,\n",
    "1. escríbalas en forma matricial (matrices M, K), y\n",
    "1. obtenga las frecuencias naturales de oscilación del sistema."
   ]
  },
  {
   "cell_type": "markdown",
   "metadata": {},
   "source": [
    "### Comentario\n",
    "El módulo de cizalladura del acero tiene una funcionalidad con la temperatura expresada por un polinomio."
   ]
  },
  {
   "cell_type": "code",
   "execution_count": 2,
   "metadata": {},
   "outputs": [],
   "source": [
    "# biblioteca de cálculo simbólico\n",
    "import sympy as sym\n",
    "import sympy.physics.mechanics as mech\n",
    "mech.init_vprinting() # notación con puntos para derivadas temporales"
   ]
  },
  {
   "cell_type": "code",
   "execution_count": 10,
   "metadata": {},
   "outputs": [],
   "source": [
    "g_0 = 80.005922* 1E9\n",
    "g_1 = -0.018303811* 1E9\n",
    "g_2 = -1.5650288E-5* 1E9\n",
    "g_3 = -1.5650288E-5* 1E9\n",
    "g_4 = -1.6242911E-11* 1E9\n",
    "g_5 = 7.7277543E-15* 1E9"
   ]
  },
  {
   "cell_type": "code",
   "execution_count": 17,
   "metadata": {},
   "outputs": [
    {
     "data": {
      "image/png": "[encoded data removed]",
      "text/latex": [
       "$\\displaystyle G = \\operatorname{Poly}{\\left( 7.7277543 \\cdot 10^{-6} T^{5} - 0.016242911 T^{4} - 15650.288 T^{3} - 15650.288 T^{2} - 18303811.0 T + 80005922000.0, T, domain=\\mathbb{R} \\right)}$"
      ],
      "text/plain": [
       "G = Poly(7.7277543e-6*T**5 - 0.016242911*T**4 - 15650.288*T**3 - 15650.288*T**\n",
       "2 - 18303811.0*T + 80005922000.0, T, domain='RR')"
      ]
     },
     "execution_count": 17,
     "metadata": {},
     "output_type": "execute_result"
    }
   ],
   "source": [
    "T = sym.Symbol('T')\n",
    "G = sym.Eq(sym.Symbol('G'), sym.poly(g_5* T**5 + g_4* T**4 + g_3* T**3 + g_2* T**2 + g_1* T + g_0, T))\n",
    "G"
   ]
  },
  {
   "cell_type": "markdown",
   "metadata": {},
   "source": [
    "Entonces para las CNPT el módulo de cizallura del acero es"
   ]
  },
  {
   "cell_type": "code",
   "execution_count": 29,
   "metadata": {},
   "outputs": [
    {
     "data": {
      "image/png": "[encoded data removed]",
      "text/latex": [
       "$\\displaystyle 79508380786.6631$"
      ],
      "text/plain": [
       "79508380786.6631"
      ]
     },
     "execution_count": 29,
     "metadata": {},
     "output_type": "execute_result"
    }
   ],
   "source": [
    "G.rhs(20)"
   ]
  },
  {
   "cell_type": "markdown",
   "metadata": {},
   "source": [
    "## Resolución "
   ]
  },
  {
   "cell_type": "code",
   "execution_count": null,
   "metadata": {},
   "outputs": [],
   "source": []
  }
 ],
 "metadata": {
  "kernelspec": {
   "display_name": "Python 3",
   "language": "python",
   "name": "python3"
  },
  "language_info": {
   "codemirror_mode": {
    "name": "ipython",
    "version": 3
   },
   "file_extension": ".py",
   "mimetype": "text/x-python",
   "name": "python",
   "nbconvert_exporter": "python",
   "pygments_lexer": "ipython3",
   "version": "3.7.3"
  }
 },
 "nbformat": 4,
 "nbformat_minor": 4
}
