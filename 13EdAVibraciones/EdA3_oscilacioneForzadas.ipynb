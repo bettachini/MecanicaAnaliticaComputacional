{
 "cells": [
  {
   "cell_type": "markdown",
   "metadata": {},
   "source": [
    "# EdA3 | Oscilaciones forzadas\n",
    "\n",
    "© 2020 Víctor A. Bettachini  \n",
    "Mecánica General  \n",
    "Departamento de Ingeniería e Investigación Tecnológica  \n",
    "Universidad Nacional de La Matanza   \n",
    "\n",
    "![](ambos.png \"UNLaM | DIIT\")  \n",
    " \n",
    "--- "
   ]
  },
  {
   "cell_type": "markdown",
   "metadata": {},
   "source": [
    "## Enunciado\n",
    "\n",
    "Las levas se caracterizan con los mapas de desplazamiento, que _mapean_ la función de su radio en un desplazamiento lineal del seguidor.\n",
    "La figura muestra como una leva con forma similar a una corazón permite que el desplazamiento de este último crezca y decrezca linealmente desde un pico.\n",
    "\n",
    "Asuma que en el pico el desplazamiento es de $5\\,\\mathrm{cm}$ y en el mínimo es nulo, y que un motor hace que la leva describa $6\\,\\mathrm{rpm}$.  \n",
    "Suponiendo que este sistema se utiliza para forzar el sistema del ejemplo dado en clase, gráfique el desplazamiento de $m$ en el estado estacionario en función del tiempo durante cuatro rotaciones de la leva.\n",
    "\n",
    "![](nok_wikkelmachine.png)"
   ]
  },
  {
   "cell_type": "markdown",
   "metadata": {},
   "source": [
    "### Sugerencia\n",
    "\n",
    "El desplazamiento del seguidor se describe con dos funciones lineales, una ascendente desde el mínimo hasta el máximo y otra que desde este desciende con la pendiente inversa hasta el mismo mínimo.\n",
    "\n",
    "En el ejemplo dado en clase el desplazamiento del seguidor se reproduce en forma aproximada con una serie de Fourier truncada.\n",
    "Cuando se requieren dos o más funciones para modelar el forzado se debe obtenen obtener sendas series de Fourier, calculadas en el período completo (el que cubren el conjunto de las funciones) y luego sumar los coeficientes de todas estas series para obtener una reproducción en la base de funciones armónicas (senos y cosenos)."
   ]
  },
  {
   "cell_type": "markdown",
   "metadata": {},
   "source": [
    "## Resolución"
   ]
  },
  {
   "cell_type": "code",
   "execution_count": 1,
   "metadata": {},
   "outputs": [],
   "source": [
    "# biblioteca de cálculo simbólico\n",
    "import sympy as sym\n",
    "import sympy.physics.mechanics as mech\n",
    "mech.init_vprinting() # notación con puntos para derivadas temporales"
   ]
  },
  {
   "cell_type": "code",
   "execution_count": null,
   "metadata": {},
   "outputs": [],
   "source": []
  }
 ],
 "metadata": {
  "kernelspec": {
   "display_name": "Python 3",
   "language": "python",
   "name": "python3"
  },
  "language_info": {
   "codemirror_mode": {
    "name": "ipython",
    "version": 3
   },
   "file_extension": ".py",
   "mimetype": "text/x-python",
   "name": "python",
   "nbconvert_exporter": "python",
   "pygments_lexer": "ipython3",
   "version": "3.7.3"
  }
 },
 "nbformat": 4,
 "nbformat_minor": 4
}
