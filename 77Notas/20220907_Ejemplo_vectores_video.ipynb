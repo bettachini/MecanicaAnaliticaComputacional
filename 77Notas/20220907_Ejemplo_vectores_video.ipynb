{
  "nbformat": 4,
  "nbformat_minor": 0,
  "metadata": {
    "colab": {
      "provenance": []
    },
    "kernelspec": {
      "name": "python3",
      "display_name": "Python 3"
    },
    "language_info": {
      "name": "python"
    }
  },
  "cells": [
    {
      "cell_type": "code",
      "execution_count": null,
      "metadata": {
        "id": "zRu-DQD5TdDw"
      },
      "outputs": [],
      "source": [
        "import sympy as sym # importamos funciones de cálculo simbólico\n",
        "from sympy.physics import mechanics as mech # de sympy utilizaremos funciones de mecánica\n",
        "mech.init_vprinting() # notación con punto para la velocidad y punto punto para la aceleración"
      ]
    },
    {
      "cell_type": "code",
      "source": [
        "# Defino coordenadas generalizadas\n",
        "\n",
        "N = mech.ReferenceFrame('N') # marco referencial o en coordenadas cartesianas\n",
        "t = sym.symbols('t') # declaración del tiempo como una variable\n",
        "w = sym.symbols(r'\\omega') # velocidad angular de rotación\n",
        "theta = sym.Function(r'\\theta')(t) # cambiara con el tiempo, por tanto es una función de esta variable\n",
        "unMedio = sym.Rational(1,2) # para escribir bonito 1/2\n",
        "\n",
        "#Defino parametros fisicos\n",
        "m, g, a, b = sym.symbols('m, g, a, b')"
      ],
      "metadata": {
        "id": "j1JZILBiTiWU"
      },
      "execution_count": null,
      "outputs": []
    },
    {
      "cell_type": "code",
      "source": [
        "r_A = a*( sym.cos(w*t)*N.x + sym.sin(w*t)*N.y)\n",
        "\n",
        "m_r = r_A + b*( sym.sin(theta)*N.x - sym.cos(theta)*N.y )\n",
        "\n",
        "m_r"
      ],
      "metadata": {
        "colab": {
          "base_uri": "https://localhost:8080/",
          "height": 39
        },
        "id": "WupNhS9_Tkgg",
        "outputId": "0d3d2145-1eac-4402-d89e-797497b135ac"
      },
      "execution_count": null,
      "outputs": [
        {
          "output_type": "execute_result",
          "data": {
            "text/plain": [
              "(a⋅cos(\\omega⋅t) + b⋅sin(\\theta)) n_x + (a⋅sin(\\omega⋅t) - b⋅cos(\\theta)) n_y"
            ],
            "image/png": "[encoded data removed]",
            "text/latex": "$\\displaystyle (a \\cos{\\left(\\omega t \\right)} + b \\sin{\\left(\\theta \\right)})\\mathbf{\\hat{n}_x} + (a \\sin{\\left(\\omega t \\right)} - b \\cos{\\left(\\theta \\right)})\\mathbf{\\hat{n}_y}$"
          },
          "metadata": {},
          "execution_count": 3
        }
      ]
    },
    {
      "cell_type": "markdown",
      "source": [
        "## Péndulo Triple"
      ],
      "metadata": {
        "id": "2I5Tl43yVyRd"
      }
    },
    {
      "cell_type": "code",
      "source": [
        "# Defino coordenadas generalizadas\n",
        "\n",
        "N = mech.ReferenceFrame('N') # marco referencial o en coordenadas cartesianas\n",
        "t = sym.symbols('t') # declaración del tiempo como una variable\n",
        "phi1 = sym.Function(r'\\varphi_1')(t) # cambiara con el tiempo, por tanto es una función de esta variable\n",
        "phi2 = sym.Function(r'\\varphi_2')(t) # cambiara con el tiempo, por tanto es una función de esta variable\n",
        "phi3 = sym.Function(r'\\varphi_3')(t) # cambiara con el tiempo, por tanto es una función de esta variable\n",
        "unMedio = sym.Rational(1,2) # para escribir bonito 1/2\n",
        "\n",
        "#Defino parametros fisicos\n",
        "m1, m2, m3, g, l1, l2, l3  = sym.symbols(r'm_1, m_2, m_3, g, \\ell_1, \\ell_2, \\ell_3')"
      ],
      "metadata": {
        "id": "gIAHNxsVVxYZ"
      },
      "execution_count": null,
      "outputs": []
    },
    {
      "cell_type": "code",
      "source": [
        "m1_r = l1*(sym.sin(phi1)*N.x - sym.cos(phi1)*N.y)\n",
        "m2_r = l2*(sym.sin(phi2)*N.x - sym.cos(phi2)*N.y) + m1_r\n",
        "m3_r = l3*(sym.sin(phi3)*N.x - sym.cos(phi3)*N.y) + m2_r\n",
        "m3_r , m2_r, m1_r"
      ],
      "metadata": {
        "colab": {
          "base_uri": "https://localhost:8080/",
          "height": 39
        },
        "id": "8v18zyYTWUse",
        "outputId": "6c6401e0-156b-4d23-c18c-15d7964b0c87"
      },
      "execution_count": null,
      "outputs": [
        {
          "output_type": "execute_result",
          "data": {
            "text/plain": [
              "⎛(\\ell₁⋅sin(\\varphi₁) + \\ell₂⋅sin(\\varphi₂) + \\ell₃⋅sin(\\varphi₃)) n_x + (-\\el\n",
              "⎝       ₁⋅cos(\\varphi₁) - \\ell₂⋅cos(\\varphi₂) - \\ell₃⋅cos(\\varphi₃)) n_y      \n",
              "\n",
              "l, (\\ell₁⋅sin(\\varphi₁) + \\ell₂⋅sin(\\varphi₂)) n_x + (-\\ell₁⋅cos(\\varphi₁) - \\\n",
              "                                ₂⋅cos(\\varphi₂)) n_y                          \n",
              "\n",
              "ell, \\ell₁⋅sin(\\varphi₁) n_x + -\\ell₁⋅cos(\\varphi₁) n_y⎞\n",
              "                                                       ⎠"
            ],
            "image/png": "[encoded data removed]",
            "text/latex": "$\\displaystyle \\left( (\\ell_{1} \\sin{\\left(\\varphi_{1} \\right)} + \\ell_{2} \\sin{\\left(\\varphi_{2} \\right)} + \\ell_{3} \\sin{\\left(\\varphi_{3} \\right)})\\mathbf{\\hat{n}_x} + (- \\ell_{1} \\cos{\\left(\\varphi_{1} \\right)} - \\ell_{2} \\cos{\\left(\\varphi_{2} \\right)} - \\ell_{3} \\cos{\\left(\\varphi_{3} \\right)})\\mathbf{\\hat{n}_y}, \\  (\\ell_{1} \\sin{\\left(\\varphi_{1} \\right)} + \\ell_{2} \\sin{\\left(\\varphi_{2} \\right)})\\mathbf{\\hat{n}_x} + (- \\ell_{1} \\cos{\\left(\\varphi_{1} \\right)} - \\ell_{2} \\cos{\\left(\\varphi_{2} \\right)})\\mathbf{\\hat{n}_y}, \\  \\ell_{1} \\sin{\\left(\\varphi_{1} \\right)}\\mathbf{\\hat{n}_x} -  \\ell_{1} \\cos{\\left(\\varphi_{1} \\right)}\\mathbf{\\hat{n}_y}\\right)$"
          },
          "metadata": {},
          "execution_count": 6
        }
      ]
    },
    {
      "cell_type": "code",
      "source": [],
      "metadata": {
        "id": "2RPncWZcWzvz"
      },
      "execution_count": null,
      "outputs": []
    }
  ]
}