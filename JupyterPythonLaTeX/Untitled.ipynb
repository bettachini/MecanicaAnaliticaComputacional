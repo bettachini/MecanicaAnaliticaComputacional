{
 "cells": [
  {
   "cell_type": "code",
   "execution_count": 1,
   "id": "be326a0d-c632-43e3-929b-533d8ab540f3",
   "metadata": {},
   "outputs": [],
   "source": [
    "a =2 "
   ]
  },
  {
   "cell_type": "code",
   "execution_count": 2,
   "id": "9abce0d3-7b7b-410b-be6c-2178966dc2dd",
   "metadata": {},
   "outputs": [
    {
     "ename": "TypeError",
     "evalue": "'int' object is not iterable",
     "output_type": "error",
     "traceback": [
      "\u001b[0;31m---------------------------------------------------------------------------\u001b[0m",
      "\u001b[0;31mTypeError\u001b[0m                                 Traceback (most recent call last)",
      "Cell \u001b[0;32mIn [2], line 1\u001b[0m\n\u001b[0;32m----> 1\u001b[0m \u001b[38;5;28;43mlist\u001b[39;49m\u001b[43m(\u001b[49m\u001b[43ma\u001b[49m\u001b[43m)\u001b[49m\n",
      "\u001b[0;31mTypeError\u001b[0m: 'int' object is not iterable"
     ]
    }
   ],
   "source": [
    "list(a)[]"
   ]
  },
  {
   "cell_type": "code",
   "execution_count": 3,
   "id": "19f83213-ba85-424f-b49c-54ffcd9ffe44",
   "metadata": {},
   "outputs": [
    {
     "data": {
      "text/plain": [
       "[2]"
      ]
     },
     "execution_count": 3,
     "metadata": {},
     "output_type": "execute_result"
    }
   ],
   "source": [
    "[a]"
   ]
  },
  {
   "cell_type": "code",
   "execution_count": null,
   "id": "0f25f988-087a-45d5-b136-629bb486830e",
   "metadata": {},
   "outputs": [],
   "source": []
  }
 ],
 "metadata": {
  "kernelspec": {
   "display_name": "Python 3 (ipykernel)",
   "language": "python",
   "name": "python3"
  },
  "language_info": {
   "codemirror_mode": {
    "name": "ipython",
    "version": 3
   },
   "file_extension": ".py",
   "mimetype": "text/x-python",
   "name": "python",
   "nbconvert_exporter": "python",
   "pygments_lexer": "ipython3",
   "version": "3.9.2"
  }
 },
 "nbformat": 4,
 "nbformat_minor": 5
}
