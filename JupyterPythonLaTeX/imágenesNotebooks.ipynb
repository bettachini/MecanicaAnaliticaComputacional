{
 "cells": [
  {
   "cell_type": "markdown",
   "metadata": {},
   "source": [
    "# Como incluir imágenes en un cuaderno Jupyter"
   ]
  },
  {
   "cell_type": "markdown",
   "metadata": {},
   "source": [
    "[![DIIT - UNLaM](data:image/png;base64,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)](https://ingenieria.unlam.edu.ar/)    \n",
    "[![by-nc-sa_80x15.png](data:image/png;base64,iVBORw0KGgoAAAANSUhEUgAAAFAAAAAPCAMAAABEF7i9AAAABGdBTUEAANbY1E9YMgAAAJZQTFRF////7u7u3d3dys7KzMzMyMzIxsrGxcbFur+6u7u7s7iyq7GqqqqqmZmZlJmTj5CPiIiIh4eHhoaGgICAfYJ9d3d3cnZxZ2tnZmZmW15bVVVVS0xLREREQ0NDQkJCQUJBOz07OTs5MzMzMTMxLjAuJygnJCUjIiIiISEhICAgGRkZERERDxAPDg4ODQ4NDQ0NDQ0MAAAADbeuvgAAAOhJREFUeNqtk+tyAiEMhQ+6XtroutZiveBdu+p2tXn/l3OQy8roL5fMMENC+HIIAI5sYEQ1DSRtP5zZkCpToubf2/oMMC0zX0QdiLqjmsD1sVKd8JSoNa8HvGRIclZCcZ5A7Yiag/s6oJPMYD8FKgIC3wG/+QP5DFIWot+DvBB1OxYAk+W2W88HqqwAOOZE6FuZbfWZZUn02fb1rTAHc3izZgQCrxWqSSFkH/IaKuSHEzEChfyk2PbwmqFX8EQo3jaw2Ac9DIFhD12Tn4CbU+RbTv+HHrj8jfAOacxflrc61/0psf9yZLsBr5WUrhUa3hEAAAAASUVORK5CYII=)](https://creativecommons.org/licenses/by-sa/4.0/deed.es_ES) \n",
    "2022 [Víctor A. Bettachini](mailto:vbettachini@unlam.edu.ar)  \n",
    "\n",
    "---"
   ]
  },
  {
   "cell_type": "markdown",
   "metadata": {},
   "source": [
    "## El problema\n",
    "El archivo `ipynb` de un cuaderno (notebook) a diferencia de un archivo de muchas aplicaciones, e.g. un procesador de texto, no suele incluir las imágenes.\n",
    "Para mostrar una imágen se suele **enlazar** al correspondiente archivo sea este en formato `png` o `jpeg`."
   ]
  },
  {
   "cell_type": "markdown",
   "metadata": {},
   "source": [
    "## Archivo local\n",
    "- Pro: Es sencillo el código para enlazar un archivo.\n",
    "Basta con indicar su ubicación respecto al `ipynb` en el sistema de archivos.\n",
    "- Contras:\n",
    "    - **No olvidar** adjuntar el archivo junto con el `ipynb`\n",
    "    - Deben respetarse los nombres de directorios y archivo para que se muestre la imagen.  \n",
    "\n",
    "Escribiendo en una celda Markdown\n",
    "```Markdown\n",
    "![Texto que aparece si no se puede mostrar la imagen](figuras/engranajes.png \"Texto que aparece al desplazar el puntero sobre la imagen\")\n",
    "```\n",
    "donde `figuras/engranajes.png` es el sendero (path) del archivo en el directorio que le contiene, figuras en este caso.\n",
    "Se obtiene  \n",
    "![Texto que aparece si no se puede mostrar la imagen](figuras/engranajes.png \"Texto que aparece al desplazar el puntero sobre la imagen\")"
   ]
  },
  {
   "cell_type": "markdown",
   "metadata": {},
   "source": [
    "## Archivo en internet\n",
    "- Pros:\n",
    "    - No hay que adjuntar nada con el `ipynb`.\n",
    "    - Es sencillo el código para enlazar un archivo en internet. Solo hay que indicar su `URL`.\n",
    "- Contras:\n",
    "    - Requiere conexión a internet para ver la imagen.\n",
    "    - Previamente hay que subir la imagen a algún sitio.\n",
    "\n",
    "Escribiendo en una celda Markdown\n",
    "```Markdown\n",
    "![Texto que aparece si no se puede mostrar la imagen](https://github.com/bettachini/UNLaM_MecanicaGeneral/raw/master/JupyterPythonLaTeX/figuras/engranajes.png \"Texto que aparece al desplazar el puntero sobre la imagen\")\n",
    "```\n",
    "se obtiene  \n",
    "![Texto que aparece si no se puede mostrar la imagen](https://github.com/bettachini/UNLaM_MecanicaGeneral/raw/master/JupyterPythonLaTeX/figuras/engranajes.png \"Texto que aparece al desplazar el puntero sobre la imagen\")"
   ]
  },
  {
   "cell_type": "markdown",
   "metadata": {},
   "source": [
    "## Incluir la imagen como texto\n",
    "Se puede codificar la imagen en un sistema de numeración base 64 dentro del mismo `ipynb`\n",
    "\n",
    "- Pro:\n",
    "    - No hay que adjuntar nada con el `ipynb`.\n",
    "- Contra:\n",
    "    - Previamente hay que convertir la imagen a un texto en esta codificación.\n",
    "    \n",
    "**(Doble clic en la siguiente celda Markdown, la que contiene la imagen, despliega su codificación)**."
   ]
  },
  {
   "cell_type": "markdown",
   "metadata": {},
   "source": [
    "![figuras/engranajes.png](data:image/png;base64,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)"
   ]
  },
  {
   "cell_type": "markdown",
   "metadata": {
    "tags": []
   },
   "source": [
    "Una explicación de que es esta codicación se da en este extracto del artículo de Wikipedia [\"Base64\"](https://es.wikipedia.org/wiki/Base64)\n",
    "> Base 64 es un sistema de numeración posicional que usa 64 como base. Es la mayor potencia que puede ser representada usando únicamente los caracteres imprimibles de ASCII.\n",
    "\n",
    "> En el lenguaje CSS se puede, literalmente, escribir una imagen en base64 en vez de cargar una imagen desde un servidor.\n",
    "\n",
    "Extracto del artículo de Wikipedia [\"Hoja de estilos en cascada\"](https://es.wikipedia.org/wiki/Hoja_de_estilos_en_cascada)\n",
    "> CSS (siglas en inglés de Cascading Style Sheets), en español «Hojas de estilo en cascada», es un lenguaje de diseño gráfico para definir y crear la presentación de un documento estructurado escrito en un lenguaje de marcado.2​ Es muy usado para establecer el diseño visual de los documentos web, e interfaces de usuario escritas en HTML o XHTML; el lenguaje puede ser aplicado a cualquier documento XML, incluyendo XHTML, SVG, XUL, RSS, etcétera.\n",
    "\n",
    "El cuaderno (notebook) de ipython `ipynb` es un documento `XML` que se interpreta en un navegador.\n",
    "En sus celdas `markdown` se puede en vez de incluir una referencia a la ubicación de un archivo de la imagen indicarle que debe interpretar como datos una cadena de caractéres (texto).\n",
    "La codificación más compacta usando el alfabeto corriente es base64."
   ]
  },
  {
   "cell_type": "markdown",
   "metadata": {},
   "source": [
    "### Codificar en ba64 en Google Colaboratory\n",
    "Es tan sencillo como\n",
    "1. Ver la imagen en el navegador. Si está en el dispositivo propio ir en el menú a `Archivo` y luego `Abrir`.\n",
    "2. Clic derecho en la imagen y `copiar`.\n",
    "3. En el cuaderno en Google Colaboratory crear una celda de texto (`markdown`).\n",
    "4. Hace clic en la celda para que muestre el cursor\n",
    "5. Pegar o `ctrl-v`."
   ]
  },
  {
   "cell_type": "markdown",
   "metadata": {},
   "source": [
    "### Paso a paso: codificar en base64 manualmente\n",
    "Adaptado de: https://stackoverflow.com/questions/3715493/encoding-an-image-file-with-base64\n",
    "\n",
    "Primer paso: indicar ubicación del archivo `png` o `jpeg`."
   ]
  },
  {
   "cell_type": "code",
   "execution_count": 1,
   "metadata": {},
   "outputs": [],
   "source": [
    "# ubicación y nombre del archivo de la imagen\n",
    "imagen_archivo = 'figuras/engranajes.png'"
   ]
  },
  {
   "cell_type": "markdown",
   "metadata": {},
   "source": [
    "Segundo paso: convertir a base64."
   ]
  },
  {
   "cell_type": "code",
   "execution_count": 2,
   "metadata": {},
   "outputs": [],
   "source": [
    "# convierte a base64\n",
    "import base64\n",
    "codificado = base64.b64encode(open(imagen_archivo, \"rb\").read()) # esto lo engloba entre b'<contenido>' \n",
    "pegáEsto = '!['+ imagen_archivo+ '](data:image/png;base64,{}'.format(str(codificado)[2:-1]) + ')'"
   ]
  },
  {
   "cell_type": "markdown",
   "metadata": {},
   "source": [
    "Tercer paso: Poner lo codificado en una celda `markdown`.\n",
    "\n",
    "Tras ejecutar la celda anterior en `pegáEsto` hay una cadena de caractéres (`str`) entre comillas.\n",
    "Hay dos alternativas:\n",
    "- Copiar en una celda\n",
    "    1. Escibir en una celda de código `pegáEsto` y ejecutarla.\n",
    "    2. Copiar la salida de la celda.\n",
    "    3. Pegarla en una celda `markdown`.\n",
    "    4. Borrar las comillas simples al principio y final del texto.\n",
    "    5. Ejecutar la celda para verificar que muestra la imagen.\n",
    "- Escribir un archivo\n",
    "    1. Al ejecutar el código de la celda de abajo se genera un archivo con el mismo nombre de aquél de la imagen, pero con la extensión `txt` en el mismo directorio.\n",
    "    1. Abrir el archivo `txt`.\n",
    "    1. Copiar todo su contenido\n",
    "    1. Pegar en una celda `markdown`."
   ]
  },
  {
   "cell_type": "code",
   "execution_count": 3,
   "metadata": {},
   "outputs": [],
   "source": [
    "# escribe a un archivo de texto\n",
    "with open(imagen_archivo[:-3]+'txt', 'w') as f:\n",
    "    f.write(pegáEsto)"
   ]
  }
 ],
 "metadata": {
  "kernelspec": {
   "display_name": "Python 3 (ipykernel)",
   "language": "python",
   "name": "python3"
  },
  "language_info": {
   "codemirror_mode": {
    "name": "ipython",
    "version": 3
   },
   "file_extension": ".py",
   "mimetype": "text/x-python",
   "name": "python",
   "nbconvert_exporter": "python",
   "pygments_lexer": "ipython3",
   "version": "3.9.2"
  }
 },
 "nbformat": 4,
 "nbformat_minor": 4
}
