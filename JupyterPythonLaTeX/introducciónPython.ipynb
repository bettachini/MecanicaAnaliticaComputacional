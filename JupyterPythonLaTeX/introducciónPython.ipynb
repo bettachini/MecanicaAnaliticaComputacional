{
 "cells": [
  {
   "cell_type": "markdown",
   "metadata": {},
   "source": [
    "# Introducción al lenguaje _Python_"
   ]
  },
  {
   "cell_type": "markdown",
   "metadata": {},
   "source": [
    "[![DIIT - UNLaM](data:image/png;base64,iVBORw0KGgoAAAANSUhEUgAAAMkAAABTCAYAAAA1OyMgAAAABHNCSVQICAgIfAhkiAAAAAlwSFlzAAAPYQAAD2EBqD+naQAAABl0RVh0U29mdHdhcmUAd3d3Lmlua3NjYXBlLm9yZ5vuPBoAACAASURBVHic7Z15fFxV2fi/z7kzWdpm7ZI0M3eSVvayiGWxoAiC6A9ErMiisggqFdpsRcSFV+PyqiiQrVXhFXgFXF6piiiLLFKgsmlRlrKUQpPMJF0ozUabbe55fn9M2qbNbEmTptR+P5/8Mfc+95znTu4z59xznkWYaJZeOQWbcRToIag5GPRgkACiBSiTgSnAZJB20C2g7wAdKG8ivILwGphXeTtvFTU1doLvZjuzZs0s9Txz3Fi1p6p9Imz1PNni93vrmprWR4DoWLUPEAwGs42xp6Ujm5NT8NdVq1b173LYCYVKzkjn+q1b+5dv2rSpe9vnAw44ILO/f+vpI1B3DyFbZY/3WVPjo7DzRODDoKcCxwH+MWh5M6KPofwN8T1M+Q2vjkGboyYUClykyu3j2EUUeBXkWbAP9vT03zf0oRsNpaVFs6z1vZmO7MCAN2P9+vVvDT1WUlIyyXFkS3q9mSPC4fBL2z6VlZUVe97AupHou4cI+/ZYV0uq52C5CNovASkehx4KUZkPzEc9aKh+GeztOBm/ZOFP1o9DfxONDzgc9HCQy7KzM3tDocAysHUtLetWTrRy+xLjayQ1NT6mtl+AylewelTs4J4avPQwkB/hDXyfhqp7sfpDquqf2UOdTwRZqlwI5sJgMLDMcaJfbW7esHaildoXMOPS6k2X+2movJjCjlWo3AEcNS79pIcPOBsjT9NQtYKG6rMmUJc9ggiftta3KhQKVk60LvsCYz+S1Fd/jD5tBA5IIdkNvAa8jmonYjqBLlS7QfoQnQSaiRhByQctAi0GCYIEQAtGod2JoPfQWHkfUVNOdW1a8+93KdmqWue6gYPC4dZyYK9Z1Hi3MXZGcmN1AB+1oOfGOdsPPA7yKOo9g+e8yuLa1t3vT98LejTIh4CTSfd+VM7A0VNoqPwR2OuoaOzbLV32bq503ZL8cLjtIvYbyqgYmxeExsrzUbkZyN3lzAugS/D1L+PKn7UDsSVfUT+9WZMQMsly3uEdtnD19WmuiiRgycKpeBnnIHwNdFb6F8rLGM5jUe2q3ep/F/bA6tZIuSEcbv1KMoH9q1txCe+ekdxWk0V3x43AFbuciSD8EksP6GGIKQMtA2aS1DClHegAXYvKWtC1GFmL8Dyb8l5Jax+kpiaDwvbLQa4FitK8k62ILKK89rY05VOyFxoJIpzX0tJ6V6Lz+40kLrthJA3lQTD3gBwd52wPkD3qtuPTgeiTKE9heZyOgiepqUm8mbb0yil4mVeDfp1092FUb6O94MvU1Oy6STZiRmAkb4jolxOrxCRgqirTRKQE9H0gxwOZo1BrU39/dM6GDRs2xjs5kUYyZ86cjK6u9pPTu3YHqqZURG9OU/qjI20ftGd0RtJ41SGo91cgNKrrx4a3gT+hehuV9SsSStVXzEXkTpBD0mz3QZz+c1j403d2R7l0jUSEf7e0tMb7oUnI7Nmz8/r7+88T0auBA0emmSwNhyOL4p2ZSCMZLa7rHg72xXRkw+HWUT3vI18Crqs8FvWeYGINBGAqcBkiT9BQ9RL1VRfxu3OdYVKVDSuJmvcBSwFNo93T8TIe4fqrpo2xvmPGm2++2RmJRP5nxoziOapaA3jpX62Xl5UVl42TavskIzOSuspjMfIIMJoHqBN4Cfgrwi9BfgJyHcL1CDfHjrECiDsVSMEchNvZEHiRusqThp1dXNtDRd0iRD9JbOk5FceR4S3nxurCUeiyx1i5cuVAJNL2HVU5j/T9uPzW+q4cT732NdIffpYsPghrVwDT07yiA3gQlftQ+zSV9auRtH7J4aZr8ujtnwd6CsJpwPvS1jM2WtRS3PpVzrtr+C9sXeWRGPkzaY2E8iSZWz7Cgpu3jqB/YHynW/Fw3ZIrQZamKf72jBnFM1euXDkw9OD+6VZ80ruocVEJ6vs7UJZCUoGHULkFif5pzPYfllTPwdMvIVxO2gsC+gCZWRew4LrOYaeWLnbx7MPAQambkb/Qnjc/6SJBHPa0kQDiuoEHgbS8eEX0Iy0tbQ8PPbbfSOKTerrVUJ6J+v5EagP5E4ZjqKj7KJW1vxvTDbpFtauorKvCOIcCv0vvIvkYff1P0rho+J7JwhvDOP4PIbySuhn9OAUd149Q44lAwXw9XWFr2efdc8aKNHaofT8GPSaJwGsgi6io3fGrdNPlk9g66SB8lIFORZkGJuZGotqNYQAkgmffwBddw6Klb6el7aIbmoHzaaheAroEODL5BXoY6ltOfeUHqaxv2enUwp+sp6H8dHD+Tqqpl1BBffVjVNb+MS09J4hwOPxP1w28BByeSlZEPrAHVNonSD78NFZ9EuUPSeSW4vR/DS/rcNSegPBB4GhiD91IhrbVwH0YvY9NBY+ltU+ReCMzHmvwOInquuGbVY1XHYLaJ1P7gkk7nr6P6rqmNPqbiOkWAK4buBb4XhqiA6qSF4lEerYd2D/dik/i6VZdZREqt5L4YV8FzMHL2AD2KYQbgE8CpUmuScRBQBVWHqSwo4X6qu+mXFm6tKaXirorET2P2MpZMg7A4SGWLJw67Ez5Da8i+jlS+jVpAY78ipqa8fGcHiOM0XvTFPU7jk137+g/msT/cDHXp/h1nUPMqXDSGOtUhPBf+PRNGqqvirv3MZTy+rtQeyzQlKLdOVh//Ie8vO5+0G+nVk1PoKDjstRyE4ffP+ll0lwOtnbC97reFcQ3kobqDw3+uo4EJbYP8jPQcoQzMJyA2mNibhTyUdDLgRuBp0j9j8wDvZ71gcdYWp3c7b6y4XUccxKxaVsyPkpBR03cM8VtPwT+nuJ6EH4Yd0TaS1izZk2fCG+kI6uKO9767AsMf3GvqfFBx1LSnjLJy6jeguU3cef8iWgoz0V98xG9FPhQEskT8fR5Gqoup6LuVwmlFt4Ypq7yJIw8BByRWF2+SUPVM1TU7TwtOe8uj9rqi3H0BWByEn2mof4fAAuSyEwoqrwJHJxKTkRGE5PzH8fwkWRq+wXEplIp0H8hejbltYdTWXfjiAwEoKKxi8raX1JRdzLI8Yjel0R6EnAH9VU1aBLjrarfAN6pIMnCVg1wW9zRoLr2TZT/Tqm7chm11bNTyk0c6SaEGGsn1H2SnY2kpsagKdfau1EqKG47lvL6e9LeRU9GRe2zlNefiejZQDiBlCB8m8aqXyZ9T6lofAtrPwkkc1CcjvXH3/sQ70ZgTQqNffj0mhQyE4jsN5IxZGcjKeg8O5ZAISEvYvVYKusa47p87C7l9fcQlfcCyVZoLmJd8KYUI8oLwCUkd2i8hMaqDw87WtHYh8o3U+qqXBILF9gr6UktAiIykFpqPzsbScz1OhEP0uebR1X9a+Oq0eLazZTXnYVSn1BG9As0VN6QtJ2Kuj+g/CSJhKD8jJsuHx5r0p63LI3d+EzwVaSQmRBUNS9N0bSM6T+dHUZSV3kwMC+B3J/ZnH/WbofYpougVNZVgf4gsYxUU1/1xaTteFKT4v3kIPomXTTsaE2NRfVHqRXVC2MLHXsdab2Qq2qq/aX9MNRIDBcnkPk7UTl/LKL1RkxF/TdRuSXheaGBxurEK1mLa3tAy1P08o34D7r9P2KBXcmYSUFnWg6FexKRdEMZtG18Ndk3iBlJTY0BibMvouuxek7sYZsgsrZcATyb4Gw2an/HbTVZCa+vqLsX0WQ+V+9haufw0aSisQ/VNMJv7fBrJxYB0kqEIUJknHXZJ4gZSWHXccTcSYaiYC6JLatOIAtuHsCTz5BwtUoOobs9aRYQrF5Dsug91aviH+d/U+oncjY1NRkp5fYQZWUlB5N2AgzfmGaI2VeJGYnaU4adUf0NFbUP7mmF4lJd+ybo9xMLyNeSrjRVNrwOLEvSwxzqK+YOOxpbJWtKod1kCjuPTyGzx4hGzQfTFA23tLS0j6sy+wjb3kl2MRLtxTNf3ePaJGNzQS2JH9jJ4Hwn6fWqS5KeFyf+O5nw55S6iQ5fSp4gROImB4wnmTh5xn52wlBTk4Fw4k5Hlf/d7QyLY01NTT9KkuAn/WzS5A2V9StAk5Rj0M/EXQ5WeSilbpa9wkgCgcBRpBmZqMrfxlmdfQZDfvtR7OrJa3yJ9ygmEk9uBbrin5QsMm3yJWFMsqjG6fRmHTvsqN9JnYle9LiU3sp7AGP4Lun53HmO46TrUv8fj8EZ5gj37EQXwEnI4toeVH+f8LzqpUmvt/YvSc+LnDjs2BXXb4RUXrWSRWtw14WPPUooFKwAPpGetDzS3Ny8N2ZL3CsxsRJsQ9FkL7gTj8Mfkpw9iNqqsoRnOwpWkjRAK46RxHg+pV4+Tel1O16EQiVnqWoy74KdUOWm8dRnX8Owq0u1ZfmEaJIu1j5OslgUn56a8FxNjUUT7rkAnBD/sKYuhqOpXdPHAZ/rBq5VlbuBdJehV0cikbvHU6l9DTOYyHoQ7aWk7bkJ0yYdKhq7gJcTnldJ8KAPYpKOCtP56RXDXTrEpBH3LSPIZL97HHBAYa7rllzquoFXiMWzpx1SLMK17C/BMCJ87FQuQdaMi3fv2LOaRJlSUkXbxQKSEtOf4QK77B/YSOr3Yd217ERaqFIUCgXTcbsvVNXpIhzS18exjKK2jCqPhMOJs8rvJz4+IGfI53dJjT1Zm9AL3pDcfd1oGJus+sOwGitgnW4kVZ4IyUkukJCZmpYz5WA3o4/eaff77RdGffV/MIadjSTB8urehk2sp6ZIDRRNdY86vKSB0dRBTKKjNZI9wYCqfG7t2nXNE63IuxEfO++RHERD5fCh35ObqK7rGJMeG8pzwaTOlbW54CeJi/aYx4Dr4p/T5J67xr4JvgTXAtYMX+71bBhj4lyjfmDx4IdkcfETiVWVSyORyP0Trci7FR+xwJspg5+PBRm+oWbsvcQSYO8+jj8Pz6aeXkzfuJRETo0VtU8AT4yq/4rGCPC1EV0Tc/Icfs31V00jw9tmJHtjANMW0Asjkdb9q1m7gSG9pAGjeimNi/almaF98pTUMhOMY4d+L3vVVFWEf6vKvHC4bb+B7CaG5AkTBnHGzkg2TU8vScFA/4TuYKeF8XYs+0raGUrGm02gV0+fXnxcJBJJK/3nfpJjQFL/AoqWjFmPsQjHNPqU1GURJhoxQ3Wc6JHkORGp6unpmx0Ot12/a+2R/YweH2gzMDyWYifSrjeYJvI6aPI+heOBO8a23zFnR04AlT25crSJWNqj11RlhYg8Gg6H08rauJ+R40N4LXXmrKRphkaBvkpqwxweCLY3oQhL+PD2787YnbLI5OTk/193d3dyh8oRkpHxjrdmzeZxG7Gamzc0z5o1ozgd2XB446Zdj7W1tW1N9/q1a4dfPxrC4fAr6fY5WnxYeQ1JaSUp612MDH06fkz9TjKH0XjVIXutR3Lj4uPBBrZ/9nQnI1m1alU/sOeTZ+wedu3ajbsVrr27148Cb7z7NIikk0erNG7FqNGiujw9Qe/CMetzzLFDdeunvfBd4q2wn5FiyMn9N2hvSkl1xi51TkXDKhKnMx3SJ1/ipsvHurTD7hOrnTIk3Ff+OdKaivt59+Dj0ppeGiqfYlic+67IacD/jEmvgtIgv4aU+XRn0Jf9RaBhTPodK3xUsrM7z7BQ2Elf/U1JX793VKImPMlYTu15Pf6bn32vQWbGlVHpji44ZoWq5iwPP35Nn+2L64GQk5H7+okl778jt2ZeYWb/QMKkFP026+nOH61o73u07BDHOnFnBqo64D/tzYcB2msOPElF4nsSqLQW1rz2wvOnF03u3yLDy4JvE/N7/zpu+Vvr7ykqneUJCReANgamPbxg5cqBBdOmHWM9iVvhWcW0/2LzhqcBGt9/xf9L2KfxVlc8efMbp8+vmeFEJeG7r1+yVtxzzzXdJ5ww/3CxGtcxVvD1xDxJRR5FUxkJZ7D0yiks/Gka+yppYLgDy1dJ6V4r32LJwl+lXVdxvKmvDIHunMJIZZiRDPQPnGpEEubt8ju9s3thrQhfV/S8eDIGfZlYhv+CZav/+JXVHW8M9ysDzjv4U38A7vBHvfdiJGF2/gzp+SCwwljfAkWr4gqJdLAtA6TILYIkqg1zJ3DRQLfjqvESVwQYcM4Hfhd1zDmQOO1sybru6cAmD/meGD4WVzXs08C83517rrMxkqQKgTXXAv/tRJ0TkuVc66fnKOAFtVIFEtf5U7HhWByC1UcTdriDKdjMNDNxpMGi2lXAA2lITsXzpR11N64oAmYpO/u79ZCb+9REqbSf8SdmJDPbnkJInR0lVQz5iJEfpicml1JffcHY9j0KGivLEf34zgflL1xak/qdbj/vWmJGct5dHiq/TkP+AzQsHrNKsYOOin9KS1b05rgJ5PYU9RWngsQb0fb2Dc/97CY7wj7VSyPvLQL2W2OqgUSrSc+DNgeRv7Bk8Z53V6mrPBYxf2B4HPlbZG5JZ8q4n3cxO4yksuElkJVpXHM2tVXvHTMNypesBU3TdV2KsfaJMR3NUlFfcSpGHiGeJ7TyaxbcvN9Hah9nlyI+Np0XZMFJWhxn5JTXN5LutAtmgH2ChqqRVgceGYrQUH0VYu5n5+XebQxgqRtXHfazV7BzMoGitmWsD6wGUk1pTqOx8kLK6+8cEy0EpZbP4/A4ySrn7mAycCf11R8jw7lqMIHc2LG0+gAadQnoRxPKqN5JdX1TotMDju9+nzeQMHNLb19nG4B49lrPL3GNTWBb7M3bFx76mW/32/j7lZOc7DUA6pN/ipcoLRLY/qyXAHx4dVF14mazVIZ0onquNSZuXUWfOm8BdGdmNE3q35o4Q03UtxpA/fZXEk1cAnxKa0kHrMaorRZ1vhu3KY3Vgjzvrru8JScsSNinD2kBMNb3mCeJ/wd+idXGdDz5gfXbuHVwrJW+4XsUDVWfB25L1PAQNhKVQ1lcuzkN2fRoKA+C8ySMpL64tKP6E3ozlnDNj3cvpqOusgjD1cBCkMQ1T8BD7aGD2er3s48z3EhuutxPX/YLabrH30153afGpALvNhoXzUJ9DwKJNrESIO2I3omnd1BZ/8+0daqp8TGt/RSsXAR8mnQq0qreRmX9ZSPTbz/vVuLvdtdXnIqYh9NqQbmayrok2d5HwdKri/EG7gGGx9unx0bgUZAXEPsaajah3jZPgXyMU4RyKOjRwEnEf+dIgLTjdw4Z8ynefvYIruu+R1UnjSRqM7FLSGPlb1BJZwMvivARyuuWp9tpWjSUZ4JzA7BwTNvdfa6kou5nqYSCweABIvrXwY8dItzR0tI6Zi/6oVDwOmOiP2tqWt80Vm0OJRAIHGQMF4bDrWkv+btu4Gkwi8Lh8D+TyNwqIs+3tETGrHJBMBg8QoQV4XAkZdXhYDDwd8fRq5ub255Mt/0k6TG9q0iaXHo7PpS7WVL1vnQ7TYuKxj4q6hah9swUFXT3JM+yOT+tZNPGRDOA2f390XkiWqnKdYFA4P0A06dPn1JSUuIy+P3Pnj07D3BKS0uHOjqaQCAQLCoqmgEwZ86cjGnTpuWUlZXlBwKBoKq9WNWZDTjBYDA7FArNLisrywIoKiqaXFZWlhUIBIKhUKhgsK2D5s6du73+yqxZM0uLioomA5SVlWWVlJRMCoVCBbNmzSwFxHH0YOCz06ZNy9mmYzAYLIx3r8Fg8MCSkpJJoKUiXhZASUnJtG2674yWAIXBYDA7GAxmFxcXTw8EAtsTCrquW+K6bsn06dOnzJkzJwMgEAhMLSsr2xZYZcrKyvIBX2npzEMBx1r7xqAD7jZ9AoPf6fbvLRgMFpaWls40hm81N7c9tU1uSLs7UVRUNKO4uHg6pHIubKw8F5VkNT2G8hbinDQuQVI3XT6J/klXoVQBcf9RY0iU+ClEu3BkLgtr16TTSChUfJiqs2rGjOKMlStXDrhuYIUI94Jzj7XeMhFWg5aEw23zXDcQUeUlYwiqyqvhcGR+MBh4COgV4VBV+aEx2qHKd1WZJMILwMdUecMYFlnLLcbwhCqnDAx4R2dkODeqcjCIAQ2q8qAIJ4OsCIcjn3XdwG9VmSzC4apyJdjDReRCYANwkqp8VkR/CIRE9E4w/9BYXcke4L5wuPUb2+7TdQNXqfLVmE5ynIg9U5WAiHxNlS0g/wqHI+U75EseEDHPqOpkkJNFtEuVE0XsCWDyVbkbeAUoFOE71spWEf0W0C2iL0ejfN9x5DUR7lXleJAHrdVGY/hXONwqrhv4ATBPlWJj+BGwxVq+J8JkEVmiqtf19PTlZmdn3qJKoYll/Pz50FHedQNfBi4DFZD7kydaLq+/C9WfpvNQANNR729jutG4jQU3b6W87nvgzUK4BkgnUGwkbEXlTkQvAOLHqot+MV0DScAGVSm01qsQ4Y5wuPWTIKWBQGDwvUtu7euLngR69uD04e2iouL5wC3G6IcG25hhrR4TDrd+AnhLxFysqo4IDS0trZcA+Hy+OQCq+lQ4HDkeyAG51RiuAD02EAgcBHwkEmk9S0R+LqKDhY+0LRxuPR30URE9RFUWAC0tLW1fUtVrjOEKY6LzgaumT58+NN3TJcbIfzmO/yzQwedJviGiC42JXgT65aEj2M7oiy0trR8GXrJW3qvKl4DGcLh1HpA/KPNNEf2K43gXqsplxpgMIMsY/6KYN7Yes621wZGxsre3/yxj+JaqlAOIMGNgwJsLZhmA53kGsNbqBaraqDqsUtm3VOULquYLwBWps5HnFlwF+q+UcjFm4vA4Syo/kqb8yKho7KK87sdU1B0CZh7Cf8dCgZNU1k2IvAwsRfTT9GQU43E5KpcD74kjvJTy+t1NNO1XtdFY+/I51w08KMJmny+2muY4tmnDhg0bgXdEbDHoAxs3rr8XOD/2iwYirG5ra9spNtxxMp4Fgq4beAyYpBqTNca0E/tetqpqu7W2CxARmQ1kum7gIVWdD9I32NTgUr50ALtW7XKtNc3NzRvCgJORkTE0e06xqm1qamrqlR1OsrOtlR97nu8XQMuGDRsSLYxs2z7oAmNASlTlTcATiQXlich7VOW70ahzC9CsqlMAfD5fOzgdDHll8Pl8AcCflZXxR1UqQbe5O61ev379Wzu+M8eKsMxxuAPkMtUdM6pgMJgNzBSxS0S0HuhMnZn80ppeGso/MYL9ixys3Et9VTUVdT8d0+XhoVTc+DTwNHAtDeWZqByImENQKURsAZgpwNBfsC7QZoQm1FtNReP2L42fXlFANOuPEK/2oT5AZk/1GGhcaox5WFU7Ve3dkUjbEtd1P+o4faus9WOtk0Ns+usYwzRr5aeepwcbY04X0ZMBrB3+XXrewGKQWeFw5GTXDfw7lRKOY7uslbfC4daPlJYWzVJ1SlQTb0AOstVaO4VYlnIjIluGnOtVNTkAqhRK7HHrEnEWhMMtr4VCgfnhcCSt7J8i2s2g+4+1FBgDoJ2qUhWJRFaGQoH5xpjuRJUjfD5ft7XRaDjcenppaWmx6sDhIHmyyzOYmZk5U5XfiviOAu8w1R1RppFIpM91A30+n148MGA2Amekl76/ojEyuCy8AojzMjYMP8ISGqs+wpKBL4x7wFRFYx/w0uDfyKitei9RloHGG0H+gTNw7u74Z23cuO6cYLDkYOBAY6L3WOubBJwSCARWiNi7wBn0MNBzg8FgCNQzxolYa8XvZ6q1fFxV8hzH+K3d6eHoBztfVSeLiIRCJe9X5T0i8p6EGfcBVd8r4OW7rnusqq2wVluBYf8fx7H91kpRKFRymiqPOw5nhEKBI1VZE4lE2rbJifAscI7rlvjY8b640tromaFQ4DBVfgCkOQrLX4EFrhuYxo7n7B9gPxYKBUpVuTEajZ7o88WfADU3N29w3cDbwWDw/1nrnQImIKLDKqOJSCaoozpQKCJni1AcDAazI5FID2BVWRmNmjOAqDF6ZfrFMB94ZjNnvv/vKBeQflWlQ1Dns5zx/rXc//TelfVEEQqrvohhGXENX1+l33caVQ2jyoGclTVZjBELFBtjPFVZ3NLStnry5CnPGSPvM4ZPqOp3mpvXPZOXl/sVYLkIx4HWNDe3PpSfn+cHPdMYfg5aaK15RkTXd3V1/xMgLy+3U5WDrOUXxuixIqYA9BfGMFVVnxPR1zo7u9/My8vNchzfE8ZEt1grPeFw5JHc3LwXRagCwllZvd/3vEwPdF1XV/dLeXk5GcbIKyIZz4I3A4zPcfw/stZ+EjhQxKvo7Hxn+yg8eXLOU8ZwsipTROSPjmOfNUbvVzXniXCIqlR0dXVt31PKy8udoiqrHIdmEdZ2dna/np+fl6nK8+Fw5O7c3Nx2Y/QNkENFeMzz9BZj5JOgc4yhwufLXG+tJ01NzY/k5OSICFtA/gE4XV3d9+fk5D7tOCwE6fP5+r/heb5e0M6uru5/5OTkCChZWdm/j0YHukXMJ0S4TZVJfv/Asx0dW7YAFBbmPKnKRSIEHEer06nUujN1lccOhogmLgcdn7+BV05FY+IqVXuK2D3UAglqJMpK/M4Ze2rD0HUD60X0opaWttTlsPdhXDdwLejZwP+CfBfMEeFwuC3VdePNyI0EoKH8MHAeYEQ+VgD0o/orlOuoqh/rFarU1FUeicPXUTmfxPf+MD0Zn9ptPzCQuXPn+tJJNxoKBS6yVv4WiURSR4cOMn369CmZmZkZkUhk1L5zRUVFM7Kzs7uamprGPLJy2x7HNlatWuWReoHFCQaDZ4tokao8HIlEEvnGCbHFhShAaWnpTNXo6S0trXcQ54WlrKwsS2Rr3mjzc43OSACWLnax9h6U0Sz5WlT+iHAzxZFHxrUEXU2Nj6ntZxNbDvxQCunb2Zz/pcF8xbuF67ongX0kHG5NsPw5coqKimZkZDj3hsNtx4ZCwWtU7fHhcNunRq9j4EVV+XYkEklW0XjEzJkzJ6Orq6OT2MpTBtAror9vaWkbkzxqoVDg06r8VzjcehRAMBioM0bWJtrFj1UnlqXhcGtoNP2NuO7edhbeGOa2mnl0d9QBJ4WBpAAACf9JREFUC0Z4tUH0HOAc1gfWUV/5W8T8kc15z4zFA8qN1dn4OA30k9BxFho/Rc0QehAtp7w+rrv07lJaWnJ0X5+N+P1mnuPYF3p6dGt2tlPY1NT2aiAQmOrz2RnNzeteCQaDR4rY2T5f9Km1azduCAaD2cbY01TpC4fbHs7M9B2hytxAIPBeEed2a/k9xHapwTvGGP8/oD+/uXndK2VlxWXRqG+u49i1zc2xYrHBYPBAEXtYf7/3VGy52XzGGGkdPHeEMVpqjH9FU1NTR2npzEN7e+3bfr//GGNMc0tLyypAQqHAh62VDGB5JBLpcV23RFXnqeobra2t/4bt2SuzA4HAKcbw+3C4tTD2Pcw81POcQ1X12dbW1shgv8cDBdbaxzMyMqxq/6HWOhtU9XhjzPKWlpb2mNdA9APge3NQj+0ccEBhbl+fPq1qtu9hlZUVl1nrHG6t/AvINsb3xMDAwFkQ20vx+/0fBDZHIpFnB3U40hg9WNU8Fw6H35g7d65/w4YNpwFSVFT00OhHkqE0VH0GuIkROQrGZSvwJOgTCK+gzmqiuprFtYnDe2tqMpjeGSLKHIR5oO8n5hiZXlI74RWQ8ymvHdMyBUNHEtcNvKPKchH1gcwGXQTyq3C4dYbrBr4Jcpgxdomq3Koqfwb9bG9v/8FZWRkPABFVXBEeBckHXaiqDcaYNlV7fG5uwQVdXR2vqPKcCKWA43k633HkOVX9hYh8Acw5qtonon8Q0XtV5RPWMscYlqvKt0WsBXMj6GPACbm5+Ud0dXU8Rez/sQ44o7e3vzg7O3Ohqj0DZJ0qk41xLlb1XlLV20XkYmO4qLm5dXt6paFGUlpacrS1skxEllmrn1flMGP4PHARsQ3cbGtZZAyrgN8DhwCvZWZmX9zX1/MSsAI4WUQrQDIHR5KjXTfwnCrPiOiJwA1+f9YfBgZ6XwV5jFjx2SYR/dm2kcR1g4+D3RTzctcl4LwB9qfAb0UoN8Z/kOf136AqeSLqiBAZ/UgylIq639BQ/gTqqxscIUbLJOA0kNNiq5g25hnWUN0B2o2wBZUhRYC0CDpK8DAjnzhqLyI/Ykr+dXsi24kq37SWXsdhleNkPO55A5ODweB7wL5PVe5T5VJr9ZZIpPUnrhv4aHa2fx5wpLVyA7BGRA+2lqdEuDISaavcVrG3s7PzaBFyI5HWc2MvvszPyGCS5+m38/IK/qezs+ODIt4RwEEgv2tpaasOBgNqjJm1Y/oul4EuDYdbb3DdwNqOjo4TjQERGnJy8v/U1dXxTmZmZrGqXi7CxY4zsCYa9bcZY0qjUc/n82XUWzvwd2tNwmTensfnQe8Kh1u/5rqBk0X0gyLyJWtlgaq+ZAw/s9Y6xhif4/g/73n9nwGu7O/f+kGQzHC49dJgsOSrYC4T0V8BuK47F2xxJNK6IBQKXKKql0WjfW+pSl8k0npBKBS8TlW3B/EFg8EDQT/gOBmTotHoh0V4nzH2VVUqt27teyw7O3OBav9skMNF+JnncZ/PJ6eMjZHAtjJrn6ax6sOoLh3Dcg0CWgAUxAxnLPYm5RHEWbSHk3H3AL0ATU1NvcFg4EljdJ6qzHWcgatUffNF5ATXDZwObFB1+sBWiOhSoMXzqJb4PwQFINtW4TYB+Hy9bZ6XfUx3d8c5IpoHIGKmq9p/AUQirQsAXHd7vu9iVRl8qZWwMbYo9rqqvatWrep33cC2aMUSa+XHqv6twN+6urrenDIl6/88b+BV4JH+/v4ktTClRISjXDcwF+gSYYsqxT6f3dDU1PY2cN6gy4w2NTX1um5JL4C1ZoaIrgcwRtar6naHRGPsDGtZH/ukraoyQ4SpIqyLXWs3yZAvzRg7Q1U2Dy5U3AfcFwqFZlvr1U+alHmFtbGFBRG9VlWWOA6LQL+e2i1lpJTX/Y3MniNBLyFWb31v4u8gn6Ci9rSJzlZvjDysysdV0ebmDWtV2STCTeFw60dAfy3SH1FVJxxudVX1PmP4cYKm2kGnE3uqSwD6+rIuBA5saWk9VVVeAVDVbmAqgOsG/mvQg3YQaQc76Ctls8HZpY79dt4CqZ4xo/gMVX0oMzOzwFpzn9+fWQoyJTPTf2Wi+xXhLeC3g/d3qzGEgU7Pc3KCwWC26wZ+bq0dtm/nONrJdj8uyY/d7za0fds9AdkivE1sY3RGrE/ZqfjU4EiXR2wV7XjXDVwB0a+J8HpLS+uZIrFCTNaavN7e/jmqpl5Vfj72RgKw4OYBKupvZ3P+HGJb/s+PSz/pEQX+BGYeFXUfoKL2zxOoy3ZU5WFgvogMBrfpY6p6bigU+DTIjx1Ht4jwfdctuXjQUzXi8/m2ALhuYLsXblFR0XOqbA2FAn8BPjN4uBekxHVLzmewWKyI3i/Cx4PB4OeAq4zxhiwd693GyKdcN/B5kEB/f/+KBGo/Yoz90ltvbVgsIp92HCdXRG/p7+8/ETTP2sQJDkX4myofDwaD80EaolHjgdwD9isiWg061xgzbJVzy5a+x1XJc93A51XtOaqyPW3plCkF/wQ0GAx+CeTLoHdnZPQ8rsoU1w38CeTsoW1FIpGXgUgoFPyKiH5DhHxV0w8cHgoFLxehyPPMXBFdmJXl/7KIlgEt6e+4j4blyy0PPP0C9z/9c86ctwyVbtADQPZA0VB5GfQGnIxLKL/xF9z/VGT8+9xBYWFhn7X6eldX13N5eTnrMzKy/tHT07PVcXzNXV1dz3V1da3Pzc1bJyLLurq6NnZ1db+Ql5ejIAcbo99salq/Jicn9xEROQEk4jj+7zc1NXXk5ua9IKKetTwhwquO42/u6+tboSovGiNrgPfk5hZc3dfXC4hPxHwbbG843LYs1p8ebi3fbmlZ/1p+fu5bjuOtbGlZ93BOTt4A6CzH0WtaW9e35ebmbfL57L87Ot7pzMvLWZeV1fMPny/6QDTqKwMyjfF9NRwOv5GXl/OGCCeIcF843PpLhsyH8/Pz+0X09c7O7uc7O7tfyc3Ne0dEjxTR74fDrf92XfeRvr7eQmCKtfK1zMzMzaq2qbOza2VeXn6Pqqxev3798/n5k+9TlXki/DUSab09P39SD5jX16x548W8vPx7RPT9IjwVDrf9PDe3SDzPPgbyojHaBkz1PO4QMau7urpeKCiYdI+qOQr0pRkzZi7p6Oh8xhgpVpW1YBpF7FZwbhGRY0VkqzG+b4zN6tZIqKnxUdg5D9VTET4MHE/6bi7JeBuV5aCP4piHWHTj3jbVGxcOOKAwt7c3+3UR7gT9qKqpj0QiY5P9/11IbC/J97KI3Ar6CWvlG7u7D7TnjWRXfvKVyWT0H4WYQ0AOAj0YxAXNA50yOOpMjrlwazfIO6CdwBqU12Ll7OyrtBe+TE1NfPfQfZxQKFRgrT0KaE2yS/0fQ0lJyTQROcLnizY1N2/Y7ajW/w/nBUXweFljBgAAAABJRU5ErkJggg==)](https://ingenieria.unlam.edu.ar/)    \n",
    "[![by-nc-sa_80x15.png](data:image/png;base64,iVBORw0KGgoAAAANSUhEUgAAAFAAAAAPCAMAAABEF7i9AAAABGdBTUEAANbY1E9YMgAAAJZQTFRF////7u7u3d3dys7KzMzMyMzIxsrGxcbFur+6u7u7s7iyq7GqqqqqmZmZlJmTj5CPiIiIh4eHhoaGgICAfYJ9d3d3cnZxZ2tnZmZmW15bVVVVS0xLREREQ0NDQkJCQUJBOz07OTs5MzMzMTMxLjAuJygnJCUjIiIiISEhICAgGRkZERERDxAPDg4ODQ4NDQ0NDQ0MAAAADbeuvgAAAOhJREFUeNqtk+tyAiEMhQ+6XtroutZiveBdu+p2tXn/l3OQy8roL5fMMENC+HIIAI5sYEQ1DSRtP5zZkCpToubf2/oMMC0zX0QdiLqjmsD1sVKd8JSoNa8HvGRIclZCcZ5A7Yiag/s6oJPMYD8FKgIC3wG/+QP5DFIWot+DvBB1OxYAk+W2W88HqqwAOOZE6FuZbfWZZUn02fb1rTAHc3izZgQCrxWqSSFkH/IaKuSHEzEChfyk2PbwmqFX8EQo3jaw2Ac9DIFhD12Tn4CbU+RbTv+HHrj8jfAOacxflrc61/0psf9yZLsBr5WUrhUa3hEAAAAASUVORK5CYII=)](https://creativecommons.org/licenses/by-sa/4.0/deed.es_ES) \n",
    "2023 [Víctor A. Bettachini](mailto:vbettachini@unlam.edu.ar)\n",
    "\n",
    "---"
   ]
  },
  {
   "cell_type": "markdown",
   "metadata": {
    "id": "iGvyzqltAcze"
   },
   "source": [
    "![](figuras/good_code.png) \n",
    "\n",
    "## ¿Qué son _Python_, _Jupyter_ y _Google Colaboratory_?\n",
    "[**_Python_**](https://www.python.org/) es un lenguaje de programación.\n",
    "Los comandos que escribimos podemos ejectuarlos de a uno en lo que se llama el interprete, o en conjuntos de ellos que conforman un texto que se llama código que ejecuta secuencialmente todos los comandos que hayamos escrito en ese código.\n",
    "Tal código de **_Python_** puede escribirse en un simple editor de texto, o algo más sosfisticado como la interfaz web (se vé en un navegador o browser) que estamos usando que se llama [**JupyterLab**](https://jupyter.org/).\n",
    "\n",
    "Los documentos de **Jupyter** se llaman **notebooks** (cuadernos) que internamente se dividen en celdas.\n",
    "Estas además de poder contener código de **Python** (y otros muchos otros lenguajes de programación) pueden contener texto con formato (títulos, negrita, itálica, listas, etc.) siguiendo las convenciones [**markdown**](https://daringfireball.net/projects/markdown/) o imágenes, reproductores de sonidos o videos, etc.\n",
    "Algó que nos es muy útil del **markdown** es que podemos intercalar fórmulas matemáticas escritas en formato [$\\LaTeX$](https://www.latex-project.org/).\n",
    "Los archivos que contienen los **notebooks** son de texto plano (legibles con cualquier editor de texto) y extensión `.ipynb`.\n",
    "\n",
    "Existen muchas implementaciones que nos permiten ejecutar **notebooks** de **Jupyter**.\n",
    "La que estamos usando es [**_Google Colaboratory_**](https://colab.research.google.com/), usualmente llamado simplemente **_Colab_**, que se accede en línea y por tanto no nos obliga a configurar nada en la computadora, tableta o teléfono.\n",
    "Hay varios otros y más adelante podrán usar otros y elegir el que más les guste, por ahora convenimos en el curso de trabajar en **_Colab_**.\n",
    "\n",
    "Para recorrer este **notebook** les propongo que lean lo que ponemos pero que también lo usen.\n",
    "Si seleccionan en el menú de **_Colab_** `Archivo` alguna opción de `Guardar una copia...`, tal copia la podrán modificar y jugar con ella a gusto, lo cual es altamente recomendable hacer.\n",
    "Las dudas más comunes que inmediatamente aparecen son: ¿Se puede hacer tal cosa? ¿Se podrá hacer de otra manera? ¿Qué pasa si hago tal cosa?\n",
    "Las mejores respuestas siempre las van a obtener ensayando por ustedes mismos."
   ]
  },
  {
   "cell_type": "markdown",
   "metadata": {},
   "source": [
    "## A trabajar\n",
    "En la celda de abajo van a ver el comando que ejecuta el primer programa que cualquiera que aprende un nuevo lenguaje de programación realiza.\n",
    "¿Qué hace?"
   ]
  },
  {
   "cell_type": "code",
   "execution_count": 1,
   "metadata": {
    "colab": {
     "base_uri": "https://localhost:8080/",
     "height": 34
    },
    "id": "5zcrEw6RL2He",
    "outputId": "acbe9c97-e636-48ac-957b-9806394d21ad"
   },
   "outputs": [
    {
     "name": "stdout",
     "output_type": "stream",
     "text": [
      "hola mundo\n"
     ]
    }
   ],
   "source": [
    "print('hola mundo')"
   ]
  },
  {
   "cell_type": "markdown",
   "metadata": {},
   "source": [
    "No hay mejor manera de averiguar que hace un comando que ejecutarlo.\n",
    "Para eso en los _notebooks de Jupyter_ basta con seleccionar la celda con un clic y luego presionar la tecla de mayúsculas `shift` y mientras se la mantiene presionada presionar la de retorno `enter`.\n",
    "Ensaye cambiar el texto entre comillas simples y vuelva a ejecutar la celda."
   ]
  },
  {
   "cell_type": "markdown",
   "metadata": {
    "id": "SVAFo3v-L7e9"
   },
   "source": [
    "## _Python_ puede suplir la calculadora\n",
    "Pueden sumar, restar, multiplicar, dividir, elevar un número a alguna potencia."
   ]
  },
  {
   "cell_type": "code",
   "execution_count": 2,
   "metadata": {
    "colab": {
     "base_uri": "https://localhost:8080/",
     "height": 34
    },
    "id": "YBf8f7ECMdy-",
    "outputId": "b7df92fb-1dd7-4b86-acf3-c37c15900dc0"
   },
   "outputs": [
    {
     "data": {
      "text/plain": [
       "3"
      ]
     },
     "execution_count": 2,
     "metadata": {},
     "output_type": "execute_result"
    }
   ],
   "source": [
    "1+2"
   ]
  },
  {
   "cell_type": "code",
   "execution_count": 3,
   "metadata": {
    "colab": {
     "base_uri": "https://localhost:8080/",
     "height": 34
    },
    "id": "4BXpxZ0JMi1d",
    "outputId": "28fe8e20-27b8-4e3f-d42f-f4c9c4bef4fe"
   },
   "outputs": [
    {
     "data": {
      "text/plain": [
       "32"
      ]
     },
     "execution_count": 3,
     "metadata": {},
     "output_type": "execute_result"
    }
   ],
   "source": [
    "8*4"
   ]
  },
  {
   "cell_type": "markdown",
   "metadata": {
    "id": "sE52LUXGMj3O"
   },
   "source": [
    "¡Cuidado! Si escribo más de un renglón en una celda hace todas las cuentas pero me muestra solo la última"
   ]
  },
  {
   "cell_type": "code",
   "execution_count": 4,
   "metadata": {
    "colab": {
     "base_uri": "https://localhost:8080/",
     "height": 34
    },
    "id": "mYY4dlKoMsLI",
    "outputId": "0bf7f0ac-f643-438e-9623-e74242ce032a"
   },
   "outputs": [
    {
     "data": {
      "text/plain": [
       "40"
      ]
     },
     "execution_count": 4,
     "metadata": {},
     "output_type": "execute_result"
    }
   ],
   "source": [
    "1+1\n",
    "8*5"
   ]
  },
  {
   "cell_type": "markdown",
   "metadata": {
    "id": "rNkABDw6MuVY"
   },
   "source": [
    "Por eso usamos la función print si queremos que se muestre algo que no está al final"
   ]
  },
  {
   "cell_type": "code",
   "execution_count": 5,
   "metadata": {
    "colab": {
     "base_uri": "https://localhost:8080/",
     "height": 104
    },
    "id": "thvm0NpAM05v",
    "outputId": "941920a6-7d66-49e6-81c4-17878bb7a44c"
   },
   "outputs": [
    {
     "name": "stdout",
     "output_type": "stream",
     "text": [
      "9\n",
      "21\n",
      "3.5\n",
      "25\n",
      "5.0\n"
     ]
    }
   ],
   "source": [
    "print(7+2)\n",
    "print(7*3)\n",
    "print(7/2)\n",
    "print(5**2)\n",
    "print(25**0.5)"
   ]
  },
  {
   "cell_type": "markdown",
   "metadata": {
    "id": "X8pmz5SGM1s4"
   },
   "source": [
    "## Variables\n",
    "Como en la calculadora, puedo guardar resultados en variables.\n",
    "Para hacerlo solo tengo que elegir el nombre de mi variable (no puede empezar con un número) y guardar el número que quiero en esa variable usando un igual como se muestra en la celda de abajo"
   ]
  },
  {
   "cell_type": "code",
   "execution_count": 6,
   "metadata": {
    "colab": {
     "base_uri": "https://localhost:8080/",
     "height": 34
    },
    "id": "zGSI_NzyNOpI",
    "outputId": "081d5e70-4b8c-483b-c57d-6f3cd52781af"
   },
   "outputs": [
    {
     "name": "stdout",
     "output_type": "stream",
     "text": [
      "6\n"
     ]
    }
   ],
   "source": [
    "a = 3\n",
    "b = 2\n",
    "lala = a*b\n",
    "print(lala)"
   ]
  },
  {
   "cell_type": "markdown",
   "metadata": {
    "id": "SIOnbH5jNRLn"
   },
   "source": [
    "Ojo, el igual en computación se le llama asignación.\n",
    "A la derecha del igual se hacen todas las cuentas y el resultado se guarda en el símbolo de la izquierda\n",
    "\n",
    "¿Cómo resuelve las cuentas?\n",
    "¿Orden de escritura u orden matemático?"
   ]
  },
  {
   "cell_type": "code",
   "execution_count": 7,
   "metadata": {
    "colab": {
     "base_uri": "https://localhost:8080/",
     "height": 52
    },
    "id": "s8HWArePNdBO",
    "outputId": "82996b44-0414-4396-e437-e9776ac26fff"
   },
   "outputs": [
    {
     "name": "stdout",
     "output_type": "stream",
     "text": [
      "13\n",
      "13\n"
     ]
    }
   ],
   "source": [
    "pepe = 5+4*2\n",
    "pepe2 = 5+(4*2)\n",
    "print(pepe)\n",
    "print(pepe2)"
   ]
  },
  {
   "cell_type": "markdown",
   "metadata": {
    "id": "BrbgCsEGNknu"
   },
   "source": [
    "Estas variables que estamos creando, son de diferentes tipos.\n",
    "Para saber el tipo de variable que estoy usando, se lo puedo preguntar al _Python_.\n",
    "Por ahora usamos tres tipos de variables, enteras (`int`, por _integer_ en inglés), `float` (por número de punto flotante) y texto (`str` por cadena o _string_ en inglés, en este caso de caracteres)."
   ]
  },
  {
   "cell_type": "code",
   "execution_count": 8,
   "metadata": {
    "colab": {
     "base_uri": "https://localhost:8080/",
     "height": 86
    },
    "id": "fTnmWyZVPBDK",
    "outputId": "6450273a-4f1e-4544-d1e2-aa442412a136"
   },
   "outputs": [
    {
     "name": "stdout",
     "output_type": "stream",
     "text": [
      "<class 'str'>\n",
      "<class 'int'>\n",
      "<class 'float'>\n",
      "<class 'float'>\n"
     ]
    }
   ],
   "source": [
    "Asignatura = 'Mecánica analítica computacional'\n",
    "a = 2\n",
    "b = 7/3\n",
    "c = 2.4 #OJO, LAS COMAS ACÁ VAN COMO PUNTOS \n",
    "\n",
    "#Le pido que me de el tipo de variable con type(variable) y despúes le pido que lo imprima, si queremos saber qué hace algo lo leemos de adentro hacia afuera\n",
    "print(type(Materia)) \n",
    "print(type(a))\n",
    "print(type(b))\n",
    "print(type(c))"
   ]
  },
  {
   "cell_type": "markdown",
   "metadata": {
    "id": "AoFi5NteQSb5"
   },
   "source": [
    "Los strings se pueden sumar, pero la suma de strings lo que hace es concatenarlos"
   ]
  },
  {
   "cell_type": "code",
   "execution_count": 9,
   "metadata": {
    "colab": {
     "base_uri": "https://localhost:8080/",
     "height": 34
    },
    "id": "hn2CfRUJQnGN",
    "outputId": "31be2a8c-a8fa-4993-fba5-16073cc78ed2"
   },
   "outputs": [
    {
     "name": "stdout",
     "output_type": "stream",
     "text": [
      "Milton es ayudante de Fisica 2\n"
     ]
    }
   ],
   "source": [
    "Nombre = 'Mariano'\n",
    "\n",
    "print(Nombre + ' es docente de ' + Asignatura)"
   ]
  },
  {
   "cell_type": "markdown",
   "metadata": {
    "id": "4QIPHmaHQ3dt"
   },
   "source": [
    "Ojo! hay tipos de variables que no se pueden sumar, si sumo `float + int` todo barbaro pero si sumo `string + int` _Python_ no sabe lo que hacer.\n",
    "Si quiero que estos se sumen como sumaba el texto antes de hacerlo tengo que convertir todo a texto."
   ]
  },
  {
   "cell_type": "code",
   "execution_count": 10,
   "metadata": {
    "colab": {
     "base_uri": "https://localhost:8080/",
     "height": 34
    },
    "id": "J7WI3UQYR8bS",
    "outputId": "072f82da-e80e-4ce5-f51c-8e4b1d4ca129"
   },
   "outputs": [
    {
     "name": "stdout",
     "output_type": "stream",
     "text": [
      "El resultado de la cuenta es 5\n"
     ]
    }
   ],
   "source": [
    "a = 2+3\n",
    "print('El resultado de la cuenta es ' + str(a))"
   ]
  },
  {
   "cell_type": "markdown",
   "metadata": {
    "id": "cEncg25Jrx2I"
   },
   "source": [
    "Otra forma de concatenar `strings` son los `f-string` que se usan poniendo una `f` antes de abrir las comillas"
   ]
  },
  {
   "cell_type": "code",
   "execution_count": 11,
   "metadata": {
    "colab": {
     "base_uri": "https://localhost:8080/",
     "height": 34
    },
    "id": "ChA_jy9lr_HI",
    "outputId": "cfbc5e49-d6c0-48c2-ff82-210b075cbd6b"
   },
   "outputs": [
    {
     "name": "stdout",
     "output_type": "stream",
     "text": [
      "La fuerza es de 8 N\n"
     ]
    }
   ],
   "source": [
    "m = 2 #Kg\n",
    "a = 4 #m/s^2\n",
    "fuerza = m*a\n",
    "\n",
    "print(f'La fuerza es de {fuerza} N')"
   ]
  },
  {
   "cell_type": "markdown",
   "metadata": {
    "id": "fVODhLoFRUHh"
   },
   "source": [
    "## Otro tipo de variables más: booleanas\n",
    "\n",
    "Además de todas la que vimos también tenemos un tipo de datos que se llaman booleanos, o lógicos. Pueden tomar solo dos valores: `True` o `False`. \n",
    "Se puede operar con estas variables con funciones lógicas como `not`, `or` o `and`."
   ]
  },
  {
   "cell_type": "code",
   "execution_count": 12,
   "metadata": {
    "colab": {
     "base_uri": "https://localhost:8080/",
     "height": 69
    },
    "id": "wXYS7Vy4V4-H",
    "outputId": "c53666ac-4a0a-48df-bd9f-97946fb5098d"
   },
   "outputs": [
    {
     "name": "stdout",
     "output_type": "stream",
     "text": [
      "True\n",
      "False\n",
      "2\n"
     ]
    }
   ],
   "source": [
    "algo = True\n",
    "print(algo)\n",
    "print(not algo)\n",
    "print(2*algo)"
   ]
  },
  {
   "cell_type": "markdown",
   "metadata": {
    "id": "k3bYGP69V-4e"
   },
   "source": [
    "Las comparaciones dan variable booleanas"
   ]
  },
  {
   "cell_type": "code",
   "execution_count": 13,
   "metadata": {
    "colab": {
     "base_uri": "https://localhost:8080/",
     "height": 86
    },
    "id": "bYXdNQxUWFMW",
    "outputId": "e4cc3c99-8d60-41ee-869e-54903325984e"
   },
   "outputs": [
    {
     "name": "stdout",
     "output_type": "stream",
     "text": [
      "False\n",
      "True\n",
      "False\n",
      "True\n"
     ]
    }
   ],
   "source": [
    "print(2==1)\n",
    "print(2==2)\n",
    "print(6>6)\n",
    "print(6>=6)"
   ]
  },
  {
   "cell_type": "markdown",
   "metadata": {
    "id": "r8y_lXrwWF1_"
   },
   "source": [
    "\n",
    "\n",
    "\n",
    "\n",
    "\n",
    "\n",
    "\n",
    "\n",
    "\n",
    "\n",
    "\n",
    "\n",
    "\n",
    "\n",
    "\n",
    "\n",
    "\n",
    "\n",
    "\n",
    "\n",
    "\n",
    "\n",
    "\n",
    "\n",
    "\n",
    "\n",
    "\n",
    "\n",
    "\n",
    "\n",
    "\n",
    "Se pueden combinar mas de una condición\n"
   ]
  },
  {
   "cell_type": "code",
   "execution_count": 14,
   "metadata": {
    "colab": {
     "base_uri": "https://localhost:8080/",
     "height": 86
    },
    "id": "m-iy3bjEWK8V",
    "outputId": "dcf3ba83-f62c-4e77-9aee-db0e1793b335"
   },
   "outputs": [
    {
     "name": "stdout",
     "output_type": "stream",
     "text": [
      "True\n",
      "False\n",
      "True\n",
      "False\n"
     ]
    }
   ],
   "source": [
    "print(2==3 or 3<9)\n",
    "print(2==3 and 3<9)\n",
    "print(algo or 6<1)\n",
    "print(algo and 6<1)"
   ]
  },
  {
   "cell_type": "markdown",
   "metadata": {
    "id": "OhD3USJCWL-J"
   },
   "source": [
    "## Listas\n",
    "\n",
    "_Python_ tiene dos tipos de datos más que son muy útiles: las listas y los diccionarios.\n",
    "Por ahora vamos a ver solo las listas.\n",
    "Las listas son conjuntos ordenados.\n",
    "Se definen usando corchetes y separados por coma se ponen los elementos.\n",
    "Éstos pueden ser cualquier tipo de datos: `str`, `int`, `float` e incluso otras listas.\n",
    "\n",
    "Puedo acceder a cada uno de sus elementos por separado usando `[]`.\n",
    "Entre corchetes tengo que indicar la posición del elemento de la lista al cual quiero acceder.\n",
    "Ojo, _Python_ empieza a contar desde `0`."
   ]
  },
  {
   "cell_type": "code",
   "execution_count": 15,
   "metadata": {
    "colab": {
     "base_uri": "https://localhost:8080/",
     "height": 104
    },
    "id": "ddp_UzEoWSNz",
    "outputId": "06eb24bb-d991-4708-d31b-9bf1863dab7a"
   },
   "outputs": [
    {
     "name": "stdout",
     "output_type": "stream",
     "text": [
      "[2, 3, 8, -1, -5.2]\n",
      "3\n",
      "[4, 'hola', [4, 5], 4]\n",
      "[4, 5]\n",
      "-5.2\n"
     ]
    }
   ],
   "source": [
    "foo = [2, 3, 8, -1, -5.2]\n",
    "print(foo)\n",
    "print(foo[1])\n",
    "temp2 = [4, 'hola', [4,5], a]\n",
    "print(temp2)\n",
    "print(temp2[2])\n",
    "print(foo[-1]) #Qué pasará acá?"
   ]
  },
  {
   "cell_type": "markdown",
   "metadata": {
    "id": "nyvjDyoxWhPs"
   },
   "source": [
    "\n",
    "\n",
    "\n",
    "\n",
    "\n",
    "\n",
    "\n",
    "\n",
    "\n",
    "\n",
    "\n",
    "\n",
    "\n",
    "\n",
    "\n",
    "\n",
    "\n",
    "\n",
    "\n",
    "\n",
    "\n",
    "\n",
    "\n",
    "\n",
    "\n",
    "\n",
    "\n",
    "\n",
    "\n",
    "\n",
    "\n",
    "Los elementos de una lista pueden modificarse\n"
   ]
  },
  {
   "cell_type": "code",
   "execution_count": 16,
   "metadata": {
    "colab": {
     "base_uri": "https://localhost:8080/",
     "height": 34
    },
    "id": "Tty5Z9F4Wqst",
    "outputId": "fe696dfc-1784-425d-ca5f-d1545aa367b5"
   },
   "outputs": [
    {
     "name": "stdout",
     "output_type": "stream",
     "text": [
      "[2, 3, 99, -1, -5.2]\n"
     ]
    }
   ],
   "source": [
    "foo[2] = 99\n",
    "print(foo)"
   ]
  },
  {
   "cell_type": "markdown",
   "metadata": {
    "id": "5tZ_ycU_WsxT"
   },
   "source": [
    "Pero atención! una lista es, como el nombre lo indica, una lista, como cuando van al super y se anotan lo que van a comprar.\n",
    "Esto es distinto a un vector como los que usamos en clase.\n",
    "¿La diferencia?\n",
    "Si sumo algo a una lista es que me acordé de algo más que quiero comprar en el súper, si le sumo algo al vector no debería pasar esto (ya vamos a ver vectores más adelante en este notebook)."
   ]
  },
  {
   "cell_type": "code",
   "execution_count": 17,
   "metadata": {
    "colab": {
     "base_uri": "https://localhost:8080/",
     "height": 69
    },
    "id": "n52H5Ht8XiZ-",
    "outputId": "1df8f735-9f58-4c74-ec73-eec6e67fed09"
   },
   "outputs": [
    {
     "name": "stdout",
     "output_type": "stream",
     "text": [
      "[2, 3, 99, -1, -5.2]\n",
      "[4, 'hola', [4, 5], 4]\n",
      "[2, 3, 99, -1, -5.2, 4, 'hola', [4, 5], 4]\n"
     ]
    }
   ],
   "source": [
    "print(foo)\n",
    "print(temp2)\n",
    "print(foo + temp2)"
   ]
  },
  {
   "cell_type": "markdown",
   "metadata": {
    "id": "eMdHd_IZXqBH"
   },
   "source": [
    "##  Función range()  \n",
    "\n",
    "Muchas veces vamos a necesitar una lista de números naturales consecutivos.\n",
    "Hay un comando para eso: `range`.\n",
    "Para investigarlo vamos a hacer uso de una de las funciones más usadas dentro de _Python_.\n",
    "El `help`.\n",
    "A la ayuda vamos a acceder con una función y un signo de pregunta, o escribiendo `help(función)`"
   ]
  },
  {
   "cell_type": "code",
   "execution_count": 18,
   "metadata": {
    "id": "1zg_uH_jYwE5"
   },
   "outputs": [
    {
     "data": {
      "text/plain": [
       "\u001b[0;31mInit signature:\u001b[0m \u001b[0mrange\u001b[0m\u001b[0;34m(\u001b[0m\u001b[0mself\u001b[0m\u001b[0;34m,\u001b[0m \u001b[0;34m/\u001b[0m\u001b[0;34m,\u001b[0m \u001b[0;34m*\u001b[0m\u001b[0margs\u001b[0m\u001b[0;34m,\u001b[0m \u001b[0;34m**\u001b[0m\u001b[0mkwargs\u001b[0m\u001b[0;34m)\u001b[0m\u001b[0;34m\u001b[0m\u001b[0;34m\u001b[0m\u001b[0m\n",
       "\u001b[0;31mDocstring:\u001b[0m     \n",
       "range(stop) -> range object\n",
       "range(start, stop[, step]) -> range object\n",
       "\n",
       "Return an object that produces a sequence of integers from start (inclusive)\n",
       "to stop (exclusive) by step.  range(i, j) produces i, i+1, i+2, ..., j-1.\n",
       "start defaults to 0, and stop is omitted!  range(4) produces 0, 1, 2, 3.\n",
       "These are exactly the valid indices for a list of 4 elements.\n",
       "When step is given, it specifies the increment (or decrement).\n",
       "\u001b[0;31mType:\u001b[0m           type\n",
       "\u001b[0;31mSubclasses:\u001b[0m     \n"
      ]
     },
     "metadata": {},
     "output_type": "display_data"
    }
   ],
   "source": [
    "range?"
   ]
  },
  {
   "cell_type": "code",
   "execution_count": 19,
   "metadata": {
    "colab": {
     "base_uri": "https://localhost:8080/",
     "height": 86
    },
    "id": "7eTY7z1pYx0G",
    "outputId": "15d026e4-26b6-42df-c299-d598c0a42ff0"
   },
   "outputs": [
    {
     "name": "stdout",
     "output_type": "stream",
     "text": [
      "1\n",
      "6\n",
      "range(2, 20, 3)\n",
      "17\n"
     ]
    }
   ],
   "source": [
    "f =range(5)\n",
    "print(f[1])\n",
    "g = range(2,9)\n",
    "print(g[4])\n",
    "h = range(2,20, 3) #range(start, stop, step)\n",
    "print(h) \n",
    "print(h[5])"
   ]
  },
  {
   "cell_type": "markdown",
   "metadata": {
    "id": "Qd2zyAV6Z2eN"
   },
   "source": [
    "## Ciclos y condicionales\n",
    "\n",
    "Llegamos a la parte donde se empieza a volver más útil tener una computadora con _Python_ que una hoja y una lapicera (sí, además de ser más cool tiene algunas ventajas).\n",
    "El `for` me va a permitir repetir una secuencia de comandos (iterar) sobre los distintos elementos de una lista."
   ]
  },
  {
   "cell_type": "code",
   "execution_count": 20,
   "metadata": {
    "colab": {
     "base_uri": "https://localhost:8080/",
     "height": 121
    },
    "id": "0y2tMyK2Z9cs",
    "outputId": "7b5ad0ac-5c46-44d7-e32f-7986c2d18b18"
   },
   "outputs": [
    {
     "name": "stdout",
     "output_type": "stream",
     "text": [
      "2\n",
      "3\n",
      "99\n",
      "-1\n",
      "-5.2\n",
      "[2, 3, 99, -1, -5.2]\n"
     ]
    }
   ],
   "source": [
    "for i in foo: #Dentro del for, el elemento que esté usando en esa vuelta se llamará i\n",
    "  print(i) #La forma de decirle a _Python_ que seguimos dentro del for es indentar la linea, esta está dentro y se repite cada vez\n",
    "\n",
    "print(foo) # Esta linea no está indentada así que se ejecuta una sola vez "
   ]
  },
  {
   "cell_type": "markdown",
   "metadata": {
    "id": "SamaqoNqahpj"
   },
   "source": [
    "## Condicional: If\n",
    "\n",
    "El if es un comando que nos va a permitir pedirle a _Python_, según alguna condición que haga o no una cosa"
   ]
  },
  {
   "cell_type": "code",
   "execution_count": 21,
   "metadata": {
    "colab": {
     "base_uri": "https://localhost:8080/",
     "height": 34
    },
    "id": "fZn6ILkpbaA6",
    "outputId": "b6e22c34-4489-416a-ed35-0cc3cf4540f0"
   },
   "outputs": [
    {
     "name": "stdout",
     "output_type": "stream",
     "text": [
      "El número es menor a 10\n"
     ]
    }
   ],
   "source": [
    "a = 7\n",
    "if a < 10:\n",
    "  print('El número es menor a 10')"
   ]
  },
  {
   "cell_type": "markdown",
   "metadata": {
    "id": "ApSYMwx9c5VS"
   },
   "source": [
    "También podemos decirle qué hace si no se cumple la condición con el comando else"
   ]
  },
  {
   "cell_type": "code",
   "execution_count": 22,
   "metadata": {
    "colab": {
     "base_uri": "https://localhost:8080/",
     "height": 34
    },
    "id": "Gc48Uea9dCKs",
    "outputId": "89807913-3004-4b2f-d023-a9500b386bc7"
   },
   "outputs": [
    {
     "name": "stdout",
     "output_type": "stream",
     "text": [
      "el número es mayor a 5\n"
     ]
    }
   ],
   "source": [
    "a = 7 \n",
    "if a <= 5:\n",
    "  print('el número es menor o igual a 5')\n",
    "else:\n",
    "  print('el número es mayor a 5')"
   ]
  },
  {
   "cell_type": "markdown",
   "metadata": {
    "id": "IDC1AWGBdQEZ"
   },
   "source": [
    "También podemos combinar el for y el if"
   ]
  },
  {
   "cell_type": "code",
   "execution_count": 23,
   "metadata": {
    "colab": {
     "base_uri": "https://localhost:8080/",
     "height": 121
    },
    "id": "MHy0yQ-SdfP1",
    "outputId": "544508ef-80e4-4f40-964f-f72d736afbdb"
   },
   "outputs": [
    {
     "name": "stdout",
     "output_type": "stream",
     "text": [
      "[2, 3, 99, -1, -5.2]\n",
      "el número 2 es menor o igual a 5\n",
      "el número 3 es menor o igual a 5\n",
      "el número 99 es mayor a 5\n",
      "el número -1 es menor o igual a 5\n",
      "el número -5.2 es menor o igual a 5\n"
     ]
    }
   ],
   "source": [
    "print(foo)\n",
    "for i in foo:\n",
    "  if i <= 5:\n",
    "    print('el número ' + str(i) + ' es menor o igual a 5')\n",
    "  else:\n",
    "    print('el número ' + str(i) + ' es mayor a 5')\n",
    " \n",
    "#Observen las indentaciones, son súper importantes"
   ]
  },
  {
   "cell_type": "markdown",
   "metadata": {
    "id": "wixfbf8XdpQn"
   },
   "source": [
    "Otro ejemplo, ahora usando el comando break que rompe el for."
   ]
  },
  {
   "cell_type": "code",
   "execution_count": 24,
   "metadata": {
    "colab": {
     "base_uri": "https://localhost:8080/",
     "height": 69
    },
    "id": "-3naJKyYehry",
    "outputId": "3a484794-c6ba-4c06-f6bd-c356f338cbde"
   },
   "outputs": [
    {
     "name": "stdout",
     "output_type": "stream",
     "text": [
      "[2, 3, 99, -1, -5.2]\n",
      "2\n",
      "3\n"
     ]
    }
   ],
   "source": [
    "print(foo)\n",
    "for i in foo:\n",
    "  if i <= 5:\n",
    "    print(i)\n",
    "  else:\n",
    "    break\n",
    " "
   ]
  },
  {
   "cell_type": "markdown",
   "metadata": {
    "id": "0VHp4ml3eomY"
   },
   "source": [
    "Hay otros ciclos que permiten trabajar de distintas maneras al `for`, uno de ellos es el `while`.\n",
    "El `while` es como el `for` pero se va a repetir solamente mientras se cumpla una condición."
   ]
  },
  {
   "cell_type": "code",
   "execution_count": 25,
   "metadata": {
    "colab": {
     "base_uri": "https://localhost:8080/",
     "height": 121
    },
    "id": "I4L7mITTfemh",
    "outputId": "7acfdfae-ea46-4f43-8ea6-d9ca700c77db"
   },
   "outputs": [
    {
     "name": "stdout",
     "output_type": "stream",
     "text": [
      "0\n",
      "1\n",
      "2\n",
      "3\n",
      "4\n",
      "5\n"
     ]
    }
   ],
   "source": [
    "n = 0\n",
    "while n <= 5 :\n",
    "  print(n)\n",
    "  n = n+1 #Otra forma más compacta de escribir esta linea es n += 1, pruebenla y vean que hace."
   ]
  },
  {
   "cell_type": "markdown",
   "metadata": {
    "id": "I9LJYXahfxmB"
   },
   "source": [
    "Acá es clave que no se olviden el comando dentro del ciclo que vaya modificando la variable de la condición sino se van a quedar en el loop eternamente y tendremos ir a rescatarlxs. \n",
    "\n",
    "Esto puede ser útil para crear la misma lista que habíamos creado con el range pero de otra forma. Podemos iniciar con una lista vacía y aprovechar el método append que tienen las listas que sirve para agregar algo al final de lo que ya teníamos."
   ]
  },
  {
   "cell_type": "code",
   "execution_count": 26,
   "metadata": {
    "colab": {
     "base_uri": "https://localhost:8080/",
     "height": 34
    },
    "id": "g_UP3ieOgrWD",
    "outputId": "b2799ac8-818b-4d6a-cae8-b1e3ef36c462"
   },
   "outputs": [
    {
     "name": "stdout",
     "output_type": "stream",
     "text": [
      "[1, 2, 3, 4, 5]\n"
     ]
    }
   ],
   "source": [
    "lista = []\n",
    "n = 1\n",
    "while n <= 5 :\n",
    "  lista.append(n)\n",
    "  n = n+1 #Es importante el orden en que pongo estas dos? prueben cambiarlos, porque pasa eso?\n",
    "  \n",
    "print(lista)"
   ]
  },
  {
   "cell_type": "markdown",
   "metadata": {
    "id": "bLkPcrDng-Si"
   },
   "source": [
    "## Funciones\n",
    "Si vamos a usar muchas veces una misma secuencia de comandos, suele ser prolijo y útil crear una función.\n"
   ]
  },
  {
   "cell_type": "code",
   "execution_count": 27,
   "metadata": {
    "id": "6c3E4W4ehOnP"
   },
   "outputs": [],
   "source": [
    "def myhello():\n",
    "    return 'aloha'"
   ]
  },
  {
   "cell_type": "code",
   "execution_count": 28,
   "metadata": {
    "colab": {
     "base_uri": "https://localhost:8080/",
     "height": 35
    },
    "id": "AXnSUHT2ivrD",
    "outputId": "e9eff63e-8d62-4aaf-f61d-80f1dea09a58"
   },
   "outputs": [
    {
     "data": {
      "text/plain": [
       "'aloha'"
      ]
     },
     "execution_count": 28,
     "metadata": {},
     "output_type": "execute_result"
    }
   ],
   "source": [
    "myhello()"
   ]
  },
  {
   "cell_type": "markdown",
   "metadata": {
    "id": "d_i_EEt5iyII"
   },
   "source": [
    "También puedo crear una función donde le paso algo y me devuelve otra cosa, ese algo no tiene que estar definido a la hora de crear la función.\n",
    "Exactamente como cuando definimos $f(x) = x + 2$ sin saber cuánto vale $x$."
   ]
  },
  {
   "cell_type": "code",
   "execution_count": 29,
   "metadata": {
    "colab": {
     "base_uri": "https://localhost:8080/",
     "height": 35
    },
    "id": "K5RjlP1NjMXW",
    "outputId": "4249e802-2142-41f2-e1fd-c854f0ef8447"
   },
   "outputs": [
    {
     "data": {
      "text/plain": [
       "'aloha Milton'"
      ]
     },
     "execution_count": 29,
     "metadata": {},
     "output_type": "execute_result"
    }
   ],
   "source": [
    "def say_hello(name):\n",
    "    out = 'aloha ' + name\n",
    "    return out\n",
    "\n",
    "say_hello('Milton')"
   ]
  },
  {
   "cell_type": "code",
   "execution_count": 30,
   "metadata": {
    "colab": {
     "base_uri": "https://localhost:8080/",
     "height": 34
    },
    "id": "iViTFpxFjOta",
    "outputId": "2d49a21c-b659-418a-fcde-d0f6ccf296b3"
   },
   "outputs": [
    {
     "data": {
      "text/plain": [
       "6"
      ]
     },
     "execution_count": 30,
     "metadata": {},
     "output_type": "execute_result"
    }
   ],
   "source": [
    "def suma(a,b):\n",
    "    out = a + b\n",
    "    return out\n",
    "\n",
    "suma(2,4)"
   ]
  },
  {
   "cell_type": "markdown",
   "metadata": {
    "id": "DRL7KzUljnHV"
   },
   "source": [
    "## Bibliotecas científicas\n",
    "¿Por qué de entre tantos programas usar _Python_?\n",
    "_Python_ es un software libre y gratuito, ya saben lo que es un software gratuito pero libre ¿qué es?.\n",
    "Cuando hablamos de un software libre o de código libre, hablamos de algo que inició una persona pero permitió que cualquiera agregue o modifique, así se genera una creación comunitaria donde cada usuario puede aportar un granito de arena para mejorar el software.\n",
    "\n",
    "En _Python_, una forma de colaborar con la comunidad de programadores es crear **bibliotecas** (usualmente **mal** traducidas como **_librerías_**).\n",
    "Las bibliotecas son un conjunto de funciones (como las que vimos recién) que por lo general no son nativas de _Python_ (no vienen en el _Python_ básico) y sirven como agregado a las funciones que ya tenemos inicialmente.\n",
    "Algunas bibliotecas útiles son:\n",
    "*   Cálculo numérico:\n",
    "    - Numpy\n",
    "    - Scipy\n",
    "* Gráficos:\n",
    "    * Matplotlib\n",
    "* Otros\n",
    "    * Sympy (cálculo simbólico)\n",
    "    * Pandas (Análisis de datos)\n",
    "\n",
    "Ahora vamos a ver algunas cosas de _Numpy_ y _Matplotlib_ pero les dejamos el resto para que las puedan investigar por su cuenta y por supuesto, pregunten."
   ]
  },
  {
   "cell_type": "markdown",
   "metadata": {
    "id": "pTy9kLkcm2RG"
   },
   "source": [
    "### Numpy\n",
    "Biblioteca fundamental para cualquier cosa relativa a cálculo numérico que hagamos ya que nos trae el concepto de vector o matriz que antes no teníamos y que vamos a usar todo el tiempo.\n",
    "También vamos a tener a mano cosas como cosenos, senos, números como $\\pi$ o como e y algunas funciones como resolver autovectores y autovalores rápidamente que será fundamental en la materia  (perdón por el spoiler).\n",
    "\n",
    "Para usar una biblioteca, primero la debemos importar a nuestro código y eso es lo que va a aparecer en la primera linea, después la usamos.\n",
    "\n",
    "Vamos a empezar con los muy usados vectores o _arrays_."
   ]
  },
  {
   "cell_type": "code",
   "execution_count": 31,
   "metadata": {
    "colab": {
     "base_uri": "https://localhost:8080/",
     "height": 156
    },
    "id": "yDMxTPWToBCS",
    "outputId": "483629ad-8e02-4b0b-d1a0-28478db1ff13"
   },
   "outputs": [
    {
     "name": "stdout",
     "output_type": "stream",
     "text": [
      "1\n",
      "4\n",
      "6\n",
      "[5 3 4]\n",
      "[3 8 4 8 6]\n",
      "[ 2 15  3 16  0]\n",
      "36\n",
      "[3 7 5 6 8]\n"
     ]
    }
   ],
   "source": [
    "import numpy as np # Le asigno el nombre corto np a Numpy, si no lo hago, cada vez que quiera usar el coseno (por ejemplo), tendré que escribir numpy.cos .\n",
    "\n",
    "a = np.array([1,5,3,4,6]) # por fuera están los parentesis de la función np.array, por dentro los corchetes de mi lista. como vimos antes lo leo de adentro para afuera, agarro mi lista y la convierto en un array.\n",
    "\n",
    "print(a[0])\n",
    "print(a[3])\n",
    "print(a[-1])\n",
    "print(a[1:4]) \n",
    "# Hasta acá todo igual a las listas\n",
    "\n",
    "b = np.array([2,3,1,4,0])\n",
    "\n",
    "print(a+b) # Suma como vectores (¿Qué pasa si no tienen la misma longitud? Pruebenlo.)\n",
    "\n",
    "print(a*b) # Producto componente a componente, esto es así porque va a ser más útil tener esto a mano que el producto escalar y de última si queremos ese producto solo tenemos que sumar estas componentes con sum().\n",
    "\n",
    "prodesc = sum(a*b)\n",
    "print(prodesc)\n",
    "\n",
    "print(a+2) # Le sumo a cada componente."
   ]
  },
  {
   "cell_type": "markdown",
   "metadata": {
    "id": "DyDipCuWqAtT"
   },
   "source": [
    "Matrices, las armo igual pero ahora con una lista de listas."
   ]
  },
  {
   "cell_type": "code",
   "execution_count": 32,
   "metadata": {
    "colab": {
     "base_uri": "https://localhost:8080/",
     "height": 69
    },
    "id": "nZWNABmzqedl",
    "outputId": "418690e1-2175-4bdc-867d-41a6d09830ba"
   },
   "outputs": [
    {
     "name": "stdout",
     "output_type": "stream",
     "text": [
      "[[1 2 3]\n",
      " [1 2 3]\n",
      " [1 2 3]]\n"
     ]
    }
   ],
   "source": [
    "M = np.array([[1,2,3],[1,2,3],[1,2,3]])\n",
    "print(M)"
   ]
  },
  {
   "cell_type": "markdown",
   "metadata": {
    "id": "10SPIiCtqz39"
   },
   "source": [
    "Otra forma de definir vectores y matrices es con algunas funciones de Numpy."
   ]
  },
  {
   "cell_type": "code",
   "execution_count": 33,
   "metadata": {
    "colab": {
     "base_uri": "https://localhost:8080/",
     "height": 121
    },
    "id": "-7lihEO3q8hp",
    "outputId": "20538ba5-ae22-4e9b-bda7-d92e56906637"
   },
   "outputs": [
    {
     "name": "stdout",
     "output_type": "stream",
     "text": [
      "[[0. 0. 0. 0. 0.]\n",
      " [0. 0. 0. 0. 0.]]\n",
      "[[1. 1. 1. 1. 1.]\n",
      " [1. 1. 1. 1. 1.]]\n",
      "(2, 5)\n",
      "[1 1 1]\n"
     ]
    }
   ],
   "source": [
    "Z = np.zeros([2,5]) #Crea una matriz de ceros, 2 filas y 5 columnas ¿qué pongo si quiero un vector?\n",
    "U = np.ones([2,5]) #Idem pero matriz de unos\n",
    "\n",
    "print(Z)\n",
    "print(U)\n",
    "print(np.shape(Z))\n",
    "print(M[:,0]) #pido la primer columna completa"
   ]
  },
  {
   "cell_type": "markdown",
   "metadata": {
    "id": "t9ZuIWFPriy6"
   },
   "source": [
    "Prueben el comando M.T\n",
    "¿Qué hace?\n",
    "Ojo que _Python_ distingue entre mayúsculas y minúsculas."
   ]
  },
  {
   "cell_type": "code",
   "execution_count": 34,
   "metadata": {
    "colab": {
     "base_uri": "https://localhost:8080/",
     "height": 69
    },
    "id": "I3kguEdYsLl0",
    "outputId": "ff446e9f-4333-4005-ded0-81ee1b0304d2"
   },
   "outputs": [
    {
     "name": "stdout",
     "output_type": "stream",
     "text": [
      "[[ 3  6  9]\n",
      " [ 6 12 18]\n",
      " [ 9 18 27]]\n"
     ]
    }
   ],
   "source": [
    "L = M.T\n",
    "print(np.dot(L,M)) #Producto matricial"
   ]
  },
  {
   "cell_type": "markdown",
   "metadata": {
    "id": "NGFP8OqesZn1"
   },
   "source": [
    "Otros vectores útiles que vamos a usar mucho son los generados por las funciones `linspace` y `arange` de Numpy.\n",
    "¿Cuál es la diferencia entre ambos?\n",
    "Prueben y digan.\n",
    "?es dejo solo la forma de escribirlos. (¿Qué pasa si les doy solo dos argumentos en lugar de tres?)"
   ]
  },
  {
   "cell_type": "code",
   "execution_count": 35,
   "metadata": {
    "colab": {
     "base_uri": "https://localhost:8080/",
     "height": 52
    },
    "id": "wPYKhBHkstHA",
    "outputId": "b33b1522-5aa8-4bd3-a198-b1b861751201"
   },
   "outputs": [
    {
     "name": "stdout",
     "output_type": "stream",
     "text": [
      "[0.   0.25 0.5  0.75 1.  ]\n",
      "[0.  0.5 1.  1.5 2.  2.5 3.  3.5 4.  4.5]\n"
     ]
    }
   ],
   "source": [
    "print(np.linspace(0, 1, 5)) # np.linspace(start, stop, cant de componentes)\n",
    "print(np.arange(0, 5, 0.5)) # np.arange(start stop, step)"
   ]
  },
  {
   "cell_type": "markdown",
   "metadata": {
    "id": "AGFRC_ELtqSR"
   },
   "source": [
    "### Matplotlib\n",
    "Biblioteca para hacer gráficos, creo que no hace falta explicar la enorme utilidad de esto.\n",
    "\n",
    "Usualmente se _importa_ solo el módulo `pyplot` que es una _interfaz de programación de aplicaciones_ (API en inglés) a las funciones de `matplotlib`.\n",
    "Esto permite usar un formato muy similar al del software comercial `MATLAB`. "
   ]
  },
  {
   "cell_type": "code",
   "execution_count": 36,
   "metadata": {
    "colab": {
     "base_uri": "https://localhost:8080/",
     "height": 282
    },
    "id": "DIiyy80qt73-",
    "outputId": "e0d245b7-f190-4980-d325-f21c3014be9d"
   },
   "outputs": [
    {
     "data": {
      "text/plain": [
       "[<matplotlib.lines.Line2D at 0x7fd5bc2bf550>]"
      ]
     },
     "execution_count": 36,
     "metadata": {},
     "output_type": "execute_result"
    },
    {
     "data": {
      "image/png": "[encoded data removed]",
      "text/plain": [
       "<Figure size 432x288 with 1 Axes>"
      ]
     },
     "metadata": {
      "needs_background": "light"
     },
     "output_type": "display_data"
    }
   ],
   "source": [
    "import matplotlib.pyplot as plt\n",
    "x = np.linspace(0, 4* np.pi, 100) #Ya que estamos vemos como se escribe pi\n",
    "y = np.sin(x)\n",
    "z = np.cos(x)\n",
    "\n",
    "plt.plot(x,y) #Esta es la forma mas simple\n",
    "plt.plot(x,z)"
   ]
  },
  {
   "cell_type": "markdown",
   "metadata": {
    "id": "yK44OOngw_wn"
   },
   "source": [
    "Escribámoslo con algunas cosas extra, les dejo de ejercicio ver qué significa cada cosa.\n",
    "¿Cómo lo hacen?\n",
    "Ya les dije, guarden su copia y jueguen."
   ]
  },
  {
   "cell_type": "code",
   "execution_count": 52,
   "metadata": {
    "colab": {
     "base_uri": "https://localhost:8080/",
     "height": 295
    },
    "id": "Vw-I3kJZu1yr",
    "outputId": "cf1a052b-da3f-410f-b1dd-56b1a6dfad96"
   },
   "outputs": [
    {
     "data": {
      "image/png": "[encoded data removed]",
      "text/plain": [
       "<Figure size 432x288 with 1 Axes>"
      ]
     },
     "metadata": {
      "needs_background": "light"
     },
     "output_type": "display_data"
    }
   ],
   "source": [
    "x = np.linspace(0,4*np.pi,100)\n",
    "y = np.sin(x)\n",
    "z = np.cos(x)\n",
    "\n",
    "plt.figure()\n",
    "plt.plot(x, y, '-o', color='blue', label='sen(x)')\n",
    "plt.plot(x, z, '-s', color='red', label='cos(x)')\n",
    "plt.legend()\n",
    "plt.xlabel('x')\n",
    "plt.ylabel('y')\n",
    "plt.title('funciones trigonométricas')\n",
    "plt.grid()"
   ]
  },
  {
   "cell_type": "markdown",
   "metadata": {
    "id": "yrnuIMjcxkIy"
   },
   "source": [
    "Hay otra forma de graficar con Matlplotlib con idénticos resultados.\n",
    "Se trata de crear la figura y el gráfico como si fueran variables (se les llama objetos) y después ir cambiandoles los atributos de cada objeto.\n",
    "Las dos maneras de graficar las van a encontrar en cóódigos que vayamos subiendo en la cursada. Cada uno después encuentra la forma que más le gusta de hacer las cosas."
   ]
  },
  {
   "cell_type": "code",
   "execution_count": 51,
   "metadata": {
    "colab": {
     "base_uri": "https://localhost:8080/",
     "height": 282
    },
    "id": "cQU9UzfYyAxc",
    "outputId": "8332c9b2-6b22-46ee-e04e-e2175fdbbbe7"
   },
   "outputs": [
    {
     "data": {
      "image/png": "[encoded data removed]",
      "text/plain": [
       "<Figure size 432x288 with 1 Axes>"
      ]
     },
     "metadata": {
      "needs_background": "light"
     },
     "output_type": "display_data"
    }
   ],
   "source": [
    "fig,ax = plt.subplots(1) #Creo una figura y ejes como variables\n",
    "ax.plot(x, y, '-o', color = 'b', label = 'sen(x)') # Agrego atributos a los ejes\n",
    "ax.plot(x, z, '-s', color='red', label='cos(x)')\n",
    "ax.legend()\n",
    "ax.set_xlabel('x')\n",
    "ax.set_ylabel('y')\n",
    "ax.set_title('funciones trigonométricas')\n",
    "ax.grid()"
   ]
  }
 ],
 "metadata": {
  "colab": {
   "name": "Intro_Python_2c2020.ipynb",
   "provenance": []
  },
  "kernelspec": {
   "display_name": "Python 3 (ipykernel)",
   "language": "python",
   "name": "python3"
  },
  "language_info": {
   "codemirror_mode": {
    "name": "ipython",
    "version": 3
   },
   "file_extension": ".py",
   "mimetype": "text/x-python",
   "name": "python",
   "nbconvert_exporter": "python",
   "pygments_lexer": "ipython3",
   "version": "3.9.2"
  }
 },
 "nbformat": 4,
 "nbformat_minor": 4
}
