{
  "nbformat": 4,
  "nbformat_minor": 0,
  "metadata": {
    "colab": {
      "provenance": []
    },
    "kernelspec": {
      "name": "python3",
      "display_name": "Python 3"
    },
    "language_info": {
      "name": "python"
    }
  },
  "cells": [
    {
      "cell_type": "markdown",
      "source": [
        "Esta belleza la hizo alguien en Google. Lamentablemente no está cargada por defecto en Colaboratory por lo que hay que instalarle previo a utilizarle en cada oportunidad.\n",
        "\n",
        "Ejemplos tomados de\n",
        "(https://khuyentran1401.github.io/Efficient_Python_tricks_and_tools_for_data_scientists/Chapter6/better_outputs.html)\n",
        "\n",
        "Proyecto en\n",
        "(https://github.com/google/latexify_py)\n",
        "\n",
        "Se instala de\n",
        "(https://pypi.org/project/latexify-py/#description)"
      ],
      "metadata": {
        "id": "cJNJXROIBn6p"
      }
    },
    {
      "cell_type": "code",
      "source": [
        "!pip install latexify-py"
      ],
      "metadata": {
        "colab": {
          "base_uri": "https://localhost:8080/"
        },
        "id": "-YspMTwoA6qC",
        "outputId": "e0b4aae0-4fb6-496c-9c82-fc7f338eab06"
      },
      "execution_count": 3,
      "outputs": [
        {
          "output_type": "stream",
          "name": "stdout",
          "text": [
            "Looking in indexes: https://pypi.org/simple, https://us-python.pkg.dev/colab-wheels/public/simple/\n",
            "Collecting latexify-py\n",
            "  Downloading latexify_py-0.0.7-py3-none-any.whl (9.0 kB)\n",
            "Requirement already satisfied: dill>=0.3.2 in /usr/local/lib/python3.7/dist-packages (from latexify-py) (0.3.5.1)\n",
            "Installing collected packages: latexify-py\n",
            "Successfully installed latexify-py-0.0.7\n"
          ]
        }
      ]
    },
    {
      "cell_type": "code",
      "execution_count": 4,
      "metadata": {
        "colab": {
          "base_uri": "https://localhost:8080/",
          "height": 56
        },
        "id": "tQhjwt_3Ar_l",
        "outputId": "d36b0644-7e99-451d-b996-b537a80ce21d"
      },
      "outputs": [
        {
          "output_type": "execute_result",
          "data": {
            "text/plain": [
              "<latexify.core.with_latex.<locals>._LatexifiedFunction at 0x7f861b768ad0>"
            ],
            "text/latex": "$$ \\displaystyle \\mathrm{solve}(a, b, c)\\triangleq \\frac{-b + \\sqrt{b^{2} - 4ac}}{2a} $$"
          },
          "metadata": {},
          "execution_count": 4
        }
      ],
      "source": [
        "import math\n",
        "import latexify\n",
        "\n",
        "@latexify.with_latex\n",
        "def solve(a, b, c):\n",
        "    return (-b + math.sqrt(b**2 - 4*a*c)) / (2*a)\n",
        "\n",
        "solve"
      ]
    },
    {
      "cell_type": "code",
      "source": [
        "@latexify.with_latex\n",
        "def sinc(x):\n",
        "    if x == 0:\n",
        "        return 1\n",
        "    else:\n",
        "        return math.sin(x) / x\n",
        "\n",
        "sinc"
      ],
      "metadata": {
        "colab": {
          "base_uri": "https://localhost:8080/",
          "height": 61
        },
        "id": "NhSUUMewBlhf",
        "outputId": "472de052-3a04-446a-b7cb-4eeba3191613"
      },
      "execution_count": 5,
      "outputs": [
        {
          "output_type": "execute_result",
          "data": {
            "text/plain": [
              "<latexify.core.with_latex.<locals>._LatexifiedFunction at 0x7f861ae5d5d0>"
            ],
            "text/latex": "$$ \\displaystyle \\mathrm{sinc}(x)\\triangleq \\left\\{ \\begin{array}{ll} 1, & \\mathrm{if} \\ x=0 \\\\ \\frac{\\sin{\\left({x}\\right)}}{x}, & \\mathrm{otherwise} \\end{array} \\right. $$"
          },
          "metadata": {},
          "execution_count": 5
        }
      ]
    },
    {
      "cell_type": "code",
      "source": [],
      "metadata": {
        "id": "SxGvfgb0CGPE"
      },
      "execution_count": null,
      "outputs": []
    }
  ]
}