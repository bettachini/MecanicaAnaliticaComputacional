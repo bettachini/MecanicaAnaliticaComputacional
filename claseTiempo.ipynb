{
 "cells": [
  {
   "cell_type": "code",
   "execution_count": 1,
   "metadata": {},
   "outputs": [],
   "source": []
  },
  {
   "cell_type": "code",
   "execution_count": 5,
   "metadata": {},
   "outputs": [],
   "source": []
  },
  {
   "cell_type": "code",
   "execution_count": 9,
   "metadata": {},
   "outputs": [
    {
     "data": {
      "text/plain": [
       "(array([10. , 10.4, 10.8, 11.2, 11.6, 12. , 12.4, 12.8, 13.2, 13.6, 14. ,\n",
       "        14.4, 14.8, 15.2, 15.6, 16. , 16.4, 16.8, 17.2, 17.6, 18. , 18.4,\n",
       "        18.8, 19.2, 19.6]),\n",
       " array([0.        , 0.06283185, 0.12566371, 0.18849556, 0.25132741,\n",
       "        0.31415927, 0.37699112, 0.43982297, 0.50265482, 0.56548668,\n",
       "        0.62831853, 0.69115038, 0.75398224, 0.81681409, 0.87964594,\n",
       "        0.9424778 , 1.00530965, 1.0681415 , 1.13097336, 1.19380521,\n",
       "        1.25663706, 1.31946891, 1.38230077, 1.44513262, 1.50796447]))"
      ]
     },
     "execution_count": 9,
     "metadata": {},
     "output_type": "execute_result"
    }
   ],
   "source": [
    "import numpy as np\n",
    "\n",
    "t_inicial = 10\n",
    "t_final = 20\n",
    "t_paso = 0.4 \n",
    "t = np.arange(t_inicial, t_final, t_paso)\n",
    "\n",
    "theta_inicial = 0\n",
    "theta_final = np.pi/2\n",
    "dt_theta = (theta_final- theta_inicial)/ (t_final- t_inicial)\n",
    "theta = dt_theta* (t- t_inicial)+ theta_inicial\n",
    "\n",
    "t, theta"
   ]
  },
  {
   "cell_type": "code",
   "execution_count": 11,
   "metadata": {},
   "outputs": [],
   "source": [
    "class tiempos:\n",
    "    def __init__(self, t_inicial, t_final, t_paso):\n",
    "        ## Instantación de la clase\n",
    "        self.inicial =  t_inicial\n",
    "        self.final =  t_final\n",
    "        self.paso = t_paso"
   ]
  },
  {
   "cell_type": "code",
   "execution_count": 12,
   "metadata": {},
   "outputs": [],
   "source": [
    "t = tiempos(10, 20, 0.4)"
   ]
  },
  {
   "cell_type": "code",
   "execution_count": 14,
   "metadata": {},
   "outputs": [
    {
     "data": {
      "text/plain": [
       "20"
      ]
     },
     "execution_count": 14,
     "metadata": {},
     "output_type": "execute_result"
    }
   ],
   "source": [
    "t.final"
   ]
  },
  {
   "cell_type": "code",
   "execution_count": null,
   "metadata": {},
   "outputs": [],
   "source": []
  }
 ],
 "metadata": {
  "kernelspec": {
   "display_name": "Python 3",
   "language": "python",
   "name": "python3"
  },
  "language_info": {
   "codemirror_mode": {
    "name": "ipython",
    "version": 3
   },
   "file_extension": ".py",
   "mimetype": "text/x-python",
   "name": "python",
   "nbconvert_exporter": "python",
   "pygments_lexer": "ipython3",
   "version": "3.7.3"
  }
 },
 "nbformat": 4,
 "nbformat_minor": 4
}
