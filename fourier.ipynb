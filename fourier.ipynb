{
 "cells": [
  {
   "cell_type": "code",
   "execution_count": 1,
   "metadata": {},
   "outputs": [],
   "source": [
    "import sympy as sym\n",
    "from sympy import fourier_series\n",
    "from sympy.abc import t\n",
    "from sympy.functions.special.delta_functions import Heaviside\n",
    "s = fourier_series(Heaviside(t) - Heaviside(t-1/4), (t, 0, 1))"
   ]
  },
  {
   "cell_type": "markdown",
   "metadata": {},
   "source": [
    "The class `sympy.series.fourier.FourierSeries` has method to provide cosine coefficients"
   ]
  },
  {
   "cell_type": "code",
   "execution_count": 2,
   "metadata": {},
   "outputs": [
    {
     "data": {
      "text/latex": [
       "$\\displaystyle 0.25$"
      ],
      "text/plain": [
       "0.250000000000000"
      ]
     },
     "execution_count": 2,
     "metadata": {},
     "output_type": "execute_result"
    }
   ],
   "source": [
    "s.a0"
   ]
  },
  {
   "cell_type": "code",
   "execution_count": 39,
   "metadata": {},
   "outputs": [
    {
     "data": {
      "text/latex": [
       "$\\displaystyle \\left[\\frac{1}{\\pi}, 0, - \\frac{1}{3 \\pi}, 0, \\ldots\\right]$"
      ],
      "text/plain": [
       "SeqFormula(2*Piecewise((0.25, Eq(_n, 0)), (sin(_n*pi/2)/(2*_n*pi), True)), (_n, 1, oo))"
      ]
     },
     "execution_count": 39,
     "metadata": {},
     "output_type": "execute_result"
    }
   ],
   "source": [
    "s.an.subs(t,0)"
   ]
  },
  {
   "cell_type": "markdown",
   "metadata": {},
   "source": [
    "For the sine coefficients care must be taken as to how to evalute $\\sin{(n \\pi t)}$ to $1$"
   ]
  },
  {
   "cell_type": "code",
   "execution_count": 14,
   "metadata": {},
   "outputs": [
    {
     "data": {
      "text/latex": [
       "$\\displaystyle \\left[\\frac{\\sin{\\left(2 \\pi t \\right)}}{\\pi}, \\frac{\\sin{\\left(4 \\pi t \\right)}}{\\pi}, \\frac{\\sin{\\left(6 \\pi t \\right)}}{3 \\pi}, 0, \\ldots\\right]$"
      ],
      "text/plain": [
       "SeqFormula(2*(Piecewise((0, Eq(_n, 0)), (-cos(_n*pi/2)/(2*_n*pi), True)) - Piecewise((0, Eq(_n, 0)), (-cos(2*_n*pi)/(2*_n*pi), True)) + Piecewise((0, Eq(_n, 0)), (-cos(2*_n*pi)/(2*_n*pi) + 1/(2*_n*pi), True)))*sin(2*_n*pi*t), (_n, 1, oo))"
      ]
     },
     "execution_count": 14,
     "metadata": {},
     "output_type": "execute_result"
    }
   ],
   "source": [
    "s.bn"
   ]
  },
  {
   "cell_type": "code",
   "execution_count": 17,
   "metadata": {},
   "outputs": [
    {
     "data": {
      "text/plain": [
       "sympy.series.sequences.SeqFormula"
      ]
     },
     "execution_count": 17,
     "metadata": {},
     "output_type": "execute_result"
    }
   ],
   "source": [
    "type(s.bn)"
   ]
  },
  {
   "cell_type": "code",
   "execution_count": 59,
   "metadata": {},
   "outputs": [
    {
     "data": {
      "text/plain": [
       "([0.250000000000000, 1/pi, 0, -1/(3*pi)], [1/pi, 1/pi, 1/(3*pi)])"
      ]
     },
     "execution_count": 59,
     "metadata": {},
     "output_type": "execute_result"
    }
   ],
   "source": [
    "def cosine_fourier_coeffs(fourierSeries, order):\n",
    "    ### returns a list of fourier series cosine coefficients up to order\n",
    "    out = []\n",
    "    out.append(fourierSeries.a0)\n",
    "    for i in range(1,order):\n",
    "        out.append(fourierSeries.an.coeff(i).subs(t, 0 ) )\n",
    "    return out\n",
    "\n",
    "def sine_fourier_coeffs(fourierSeries, order):\n",
    "    ### returns a list of fourier series sine coefficients up to order\n",
    "    out = []\n",
    "    for i in range(1,order):\n",
    "        out.append(fourierSeries.bn.coeff(i).subs(t, 1/(4* i) ) )\n",
    "    return out\n",
    "\n",
    "cosine_fourier_coeffs(s, 4), sine_fourier_coeffs(s, 4)"
   ]
  },
  {
   "cell_type": "code",
   "execution_count": 7,
   "metadata": {},
   "outputs": [
    {
     "data": {
      "text/plain": [
       "(Heaviside(t) - Heaviside(t - 0.25),\n",
       " (t, 0, 1),\n",
       " (0.25, SeqFormula(2*Piecewise((0.25, Eq(_n, 0)), (sin(_n*pi/2)/(2*_n*pi), True))*cos(2*_n*pi*t), (_n, 1, oo)), SeqFormula(2*(Piecewise((0, Eq(_n, 0)), (-cos(_n*pi/2)/(2*_n*pi), True)) - Piecewise((0, Eq(_n, 0)), (-cos(2*_n*pi)/(2*_n*pi), True)) + Piecewise((0, Eq(_n, 0)), (-cos(2*_n*pi)/(2*_n*pi) + 1/(2*_n*pi), True)))*sin(2*_n*pi*t), (_n, 1, oo))))"
      ]
     },
     "execution_count": 7,
     "metadata": {},
     "output_type": "execute_result"
    }
   ],
   "source": [
    "s.args"
   ]
  },
  {
   "cell_type": "code",
   "execution_count": 60,
   "metadata": {},
   "outputs": [
    {
     "name": "stdout",
     "output_type": "stream",
     "text": [
      "Help on class range in module builtins:\n",
      "\n",
      "class range(object)\n",
      " |  range(stop) -> range object\n",
      " |  range(start, stop[, step]) -> range object\n",
      " |  \n",
      " |  Return an object that produces a sequence of integers from start (inclusive)\n",
      " |  to stop (exclusive) by step.  range(i, j) produces i, i+1, i+2, ..., j-1.\n",
      " |  start defaults to 0, and stop is omitted!  range(4) produces 0, 1, 2, 3.\n",
      " |  These are exactly the valid indices for a list of 4 elements.\n",
      " |  When step is given, it specifies the increment (or decrement).\n",
      " |  \n",
      " |  Methods defined here:\n",
      " |  \n",
      " |  __bool__(self, /)\n",
      " |      self != 0\n",
      " |  \n",
      " |  __contains__(self, key, /)\n",
      " |      Return key in self.\n",
      " |  \n",
      " |  __eq__(self, value, /)\n",
      " |      Return self==value.\n",
      " |  \n",
      " |  __ge__(self, value, /)\n",
      " |      Return self>=value.\n",
      " |  \n",
      " |  __getattribute__(self, name, /)\n",
      " |      Return getattr(self, name).\n",
      " |  \n",
      " |  __getitem__(self, key, /)\n",
      " |      Return self[key].\n",
      " |  \n",
      " |  __gt__(self, value, /)\n",
      " |      Return self>value.\n",
      " |  \n",
      " |  __hash__(self, /)\n",
      " |      Return hash(self).\n",
      " |  \n",
      " |  __iter__(self, /)\n",
      " |      Implement iter(self).\n",
      " |  \n",
      " |  __le__(self, value, /)\n",
      " |      Return self<=value.\n",
      " |  \n",
      " |  __len__(self, /)\n",
      " |      Return len(self).\n",
      " |  \n",
      " |  __lt__(self, value, /)\n",
      " |      Return self<value.\n",
      " |  \n",
      " |  __ne__(self, value, /)\n",
      " |      Return self!=value.\n",
      " |  \n",
      " |  __reduce__(...)\n",
      " |      Helper for pickle.\n",
      " |  \n",
      " |  __repr__(self, /)\n",
      " |      Return repr(self).\n",
      " |  \n",
      " |  __reversed__(...)\n",
      " |      Return a reverse iterator.\n",
      " |  \n",
      " |  count(...)\n",
      " |      rangeobject.count(value) -> integer -- return number of occurrences of value\n",
      " |  \n",
      " |  index(...)\n",
      " |      rangeobject.index(value, [start, [stop]]) -> integer -- return index of value.\n",
      " |      Raise ValueError if the value is not present.\n",
      " |  \n",
      " |  ----------------------------------------------------------------------\n",
      " |  Static methods defined here:\n",
      " |  \n",
      " |  __new__(*args, **kwargs) from builtins.type\n",
      " |      Create and return a new object.  See help(type) for accurate signature.\n",
      " |  \n",
      " |  ----------------------------------------------------------------------\n",
      " |  Data descriptors defined here:\n",
      " |  \n",
      " |  start\n",
      " |  \n",
      " |  step\n",
      " |  \n",
      " |  stop\n",
      "\n"
     ]
    }
   ],
   "source": [
    "help(range)"
   ]
  },
  {
   "cell_type": "code",
   "execution_count": null,
   "metadata": {},
   "outputs": [],
   "source": []
  }
 ],
 "metadata": {
  "kernelspec": {
   "display_name": "Python 3",
   "language": "python",
   "name": "python3"
  },
  "language_info": {
   "codemirror_mode": {
    "name": "ipython",
    "version": 3
   },
   "file_extension": ".py",
   "mimetype": "text/x-python",
   "name": "python",
   "nbconvert_exporter": "python",
   "pygments_lexer": "ipython3",
   "version": "3.7.3"
  }
 },
 "nbformat": 4,
 "nbformat_minor": 4
}
