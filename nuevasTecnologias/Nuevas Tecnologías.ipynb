{
 "cells": [
  {
   "cell_type": "markdown",
   "metadata": {
    "slideshow": {
     "slide_type": "slide"
    }
   },
   "source": [
    "# Nuevas Tecnologías"
   ]
  },
  {
   "cell_type": "markdown",
   "metadata": {
    "slideshow": {
     "slide_type": "fragment"
    }
   },
   "source": [
    "190625, Guillermo Rodofile me propuso:  \n",
    "- \"En el marco de *charlas taller* de *nuevas tecnologías* en ingeniería Mecánica...dar algo de *innovación* en ingeniería mecánica *en las materias que se dan*.\""
   ]
  },
  {
   "cell_type": "markdown",
   "metadata": {
    "slideshow": {
     "slide_type": "fragment"
    }
   },
   "source": [
    "Esto me dejo unos interrogantes:\n",
    "1. ¿Qué son *charlas taller*?\n",
    "2. ¿Cuales son las *nuevas tecnologías* en el área de *ingeniería mecánica*?\n",
    "3. ¿Qué innovación puede haber relacionada a *mecánica general* (mecánica clásica)? "
   ]
  },
  {
   "cell_type": "markdown",
   "metadata": {
    "slideshow": {
     "slide_type": "slide"
    }
   },
   "source": [
    "## Charla/taller\n",
    "- La charla/taller tiene que estar **pensada para gente que no sabe de tu temática**. Somos gente de campos muy dispares, por lo que hasta el día de la charla/taller no sabrás el conocimiento sobre la temática de tu público. Puede ser que al final no tengas que profundizar mucho en algunos aspectos, y sí en otros.\n",
    "- Aunque sabemos que **algunas temáticas pueden ser muy técnicas, hay que intentar que no se hagan pesadas**. Alguna gente acude a las charlas por mera curiosidad, y entrar en muchos tecnicismos puede provocar que incluso la gente de tu gremio no te llegue a seguir.\n",
    "\n",
    "[https://bioinformaticsgrx.es/como-preparar-una-charla-taller/]\n",
    "\n",
    "\n",
    "- los talleres, son más prácticos y apelan a la experiencia, es impartido por un guía más flexible que se preocupa por hacer todo de manera más sencilla. Además el responsable del aprendizaje es el alumno, por lo que se convierte en protagonista, gracias a que se llevan a través de dinámicas y prácticas que permiten experimentar, compartir y comparar los conocimientos.\n",
    "\n",
    "[https://www.aprendemas.com/es/blog/orientacion-academica/diferencia-entre-seminario-conferencia-taller-curso-y-diplomado-78055]"
   ]
  },
  {
   "cell_type": "markdown",
   "metadata": {
    "slideshow": {
     "slide_type": "slide"
    }
   },
   "source": [
    "## Ingeniería mecánica \n",
    "- Se vale de:\n",
    "    - Matemática aplicada\n",
    "    - Física: dinámica de sólidos y fluidos, termodinámica, electromagnetísmo\n",
    "    - Ciencia de materiales: química, metalurgia, biología molecular\n",
    "    - Útiles informáticos: CAD, CAM, elementos finitos, CFD\n",
    "- Y concibe sistemas\n",
    "    - Entrada: fuente de energía\n",
    "    - Salida: tarea que involucra fuerza y movimiento"
   ]
  },
  {
   "cell_type": "markdown",
   "metadata": {
    "slideshow": {
     "slide_type": "fragment"
    }
   },
   "source": [
    "### Áreas de aplicación\n",
    "- maquinaria industrial\n",
    "- robots\n",
    "- transporte\n",
    "    - terrestre\n",
    "    - naval\n",
    "    - aeroespacial\n",
    "- dispositivos médicos\n",
    "- calefacción o refrigeración\n",
    "- armamento"
   ]
  },
  {
   "cell_type": "markdown",
   "metadata": {
    "slideshow": {
     "slide_type": "subslide"
    }
   },
   "source": [
    "## Áreas de frontera\n",
    "-  Micro electro-mechanical systems (MEMS)\n",
    "- Friction stir welding (FSW)\n",
    "- Composites\n",
    "- Mechatronics\n",
    "- Nanotechnology\n",
    "- Finite element analysis\n",
    "- Biomechanics\n",
    "- Computational fluid dynamics\n",
    "- Acoustical engineering"
   ]
  },
  {
   "cell_type": "markdown",
   "metadata": {
    "slideshow": {
     "slide_type": "slide"
    }
   },
   "source": [
    "# Biomecánica\n",
    "\n",
    "- De `https://news.mit.edu/topic/mechanical-engineering`\n",
    "    - Engineers 3-D print flexible mesh for ankle and knee braces\n",
    "    ![MIT engineers 3-D-print stretchy mesh, with customized patterns designed to be flexible yet strong, for use in ankle and knee braces.](./MIT-Printed-Mesh-01_0.jpg)\n",
    "    [https://news.mit.edu/2019/3-d-print-mesh-ankle-knee-braces-0619]"
   ]
  },
  {
   "cell_type": "markdown",
   "metadata": {
    "slideshow": {
     "slide_type": "slide"
    }
   },
   "source": [
    "## Oscilaciones en automotríz\n",
    "- Modos de oscilación como factor de conducción autónoma\n",
    "- FATE\n",
    "- Ay.2a f2q, ver que hace en Deutschland"
   ]
  },
  {
   "cell_type": "markdown",
   "metadata": {
    "slideshow": {
     "slide_type": "slide"
    }
   },
   "source": [
    "# Mecánica clásica en la UNLaM\n",
    "Previas\n",
    "- (1031) Física I\n",
    "- (3022) Matemática avanzada\n",
    "    - (3019) Cálculo numérico\n",
    "        - (1033) Análisis matemático II\n",
    "            - (1023) Análisis matemático I\n",
    "    - (1032) Álgebra y geometría analítica II\n",
    "        - (1027) Álgebra y geometría analítica I\n",
    "        \n",
    "Siguientes\n",
    "- (3028) Mecánica de fluidos\n",
    "- (3029) Estabilidad III\n",
    "- (3032) Elementos de máquinas "
   ]
  },
  {
   "cell_type": "code",
   "execution_count": null,
   "metadata": {},
   "outputs": [],
   "source": []
  }
 ],
 "metadata": {
  "celltoolbar": "Slideshow",
  "kernelspec": {
   "display_name": "Python 3",
   "language": "python",
   "name": "python3"
  },
  "language_info": {
   "codemirror_mode": {
    "name": "ipython",
    "version": 3
   },
   "file_extension": ".py",
   "mimetype": "text/x-python",
   "name": "python",
   "nbconvert_exporter": "python",
   "pygments_lexer": "ipython3",
   "version": "3.7.3"
  }
 },
 "nbformat": 4,
 "nbformat_minor": 4
}
